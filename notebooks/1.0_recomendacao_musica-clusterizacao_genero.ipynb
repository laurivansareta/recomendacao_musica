{
 "cells": [
  {
   "cell_type": "markdown",
   "metadata": {},
   "source": [
    "# Recomendação Música"
   ]
  },
  {
   "cell_type": "markdown",
   "metadata": {},
   "source": [
    "# 0.0 Imports"
   ]
  },
  {
   "cell_type": "code",
   "execution_count": 69,
   "metadata": {},
   "outputs": [],
   "source": [
    "import pandas as pd\n",
    "import numpy as np\n",
    "import seaborn as sns\n",
    "import plotly.express as px\n",
    "import plotly.graph_objects as go\n",
    "\n",
    "from sklearn.pipeline import Pipeline\n",
    "from sklearn.preprocessing import StandardScaler\n",
    "from sklearn.decomposition import PCA\n",
    "from sklearn.cluster import KMeans"
   ]
  },
  {
   "cell_type": "markdown",
   "metadata": {},
   "source": [
    "## 0.1. Funções auxiliares"
   ]
  },
  {
   "cell_type": "markdown",
   "metadata": {},
   "source": [
    "## 0.2 Carregar dados"
   ]
  },
  {
   "cell_type": "code",
   "execution_count": 70,
   "metadata": {},
   "outputs": [],
   "source": [
    "df_dados = pd.read_csv('../dados/Dados_totais.csv')\n",
    "df_anos = pd.read_csv('../dados/data_by_year.csv')\n",
    "df_generos = pd.read_csv('../dados/data_by_genres.csv')"
   ]
  },
  {
   "cell_type": "markdown",
   "metadata": {},
   "source": [
    "# 1.0. Descrição dos Dados"
   ]
  },
  {
   "cell_type": "code",
   "execution_count": 71,
   "metadata": {},
   "outputs": [],
   "source": [
    "df1 = df_dados.copy()"
   ]
  },
  {
   "cell_type": "code",
   "execution_count": 72,
   "metadata": {},
   "outputs": [
    {
     "data": {
      "text/html": [
       "<div>\n",
       "<style scoped>\n",
       "    .dataframe tbody tr th:only-of-type {\n",
       "        vertical-align: middle;\n",
       "    }\n",
       "\n",
       "    .dataframe tbody tr th {\n",
       "        vertical-align: top;\n",
       "    }\n",
       "\n",
       "    .dataframe thead th {\n",
       "        text-align: right;\n",
       "    }\n",
       "</style>\n",
       "<table border=\"1\" class=\"dataframe\">\n",
       "  <thead>\n",
       "    <tr style=\"text-align: right;\">\n",
       "      <th></th>\n",
       "      <th>valence</th>\n",
       "      <th>year</th>\n",
       "      <th>acousticness</th>\n",
       "      <th>artists</th>\n",
       "      <th>danceability</th>\n",
       "      <th>duration_ms</th>\n",
       "      <th>energy</th>\n",
       "      <th>explicit</th>\n",
       "      <th>id</th>\n",
       "      <th>instrumentalness</th>\n",
       "      <th>key</th>\n",
       "      <th>liveness</th>\n",
       "      <th>loudness</th>\n",
       "      <th>mode</th>\n",
       "      <th>name</th>\n",
       "      <th>popularity</th>\n",
       "      <th>speechiness</th>\n",
       "      <th>tempo</th>\n",
       "      <th>artists_song</th>\n",
       "    </tr>\n",
       "  </thead>\n",
       "  <tbody>\n",
       "    <tr>\n",
       "      <th>0</th>\n",
       "      <td>0.285</td>\n",
       "      <td>2000</td>\n",
       "      <td>0.00239</td>\n",
       "      <td>Coldplay</td>\n",
       "      <td>0.429</td>\n",
       "      <td>266773</td>\n",
       "      <td>0.661</td>\n",
       "      <td>0</td>\n",
       "      <td>3AJwUDP919kvQ9QcozQPxg</td>\n",
       "      <td>0.000121</td>\n",
       "      <td>11</td>\n",
       "      <td>0.2340</td>\n",
       "      <td>-7.227</td>\n",
       "      <td>1</td>\n",
       "      <td>Yellow</td>\n",
       "      <td>84</td>\n",
       "      <td>0.0281</td>\n",
       "      <td>173.372</td>\n",
       "      <td>Coldplay - Yellow</td>\n",
       "    </tr>\n",
       "    <tr>\n",
       "      <th>1</th>\n",
       "      <td>0.613</td>\n",
       "      <td>2000</td>\n",
       "      <td>0.14300</td>\n",
       "      <td>OutKast</td>\n",
       "      <td>0.843</td>\n",
       "      <td>270507</td>\n",
       "      <td>0.806</td>\n",
       "      <td>1</td>\n",
       "      <td>0I3q5fE6wg7LIfHGngUTnV</td>\n",
       "      <td>0.000000</td>\n",
       "      <td>4</td>\n",
       "      <td>0.0771</td>\n",
       "      <td>-5.946</td>\n",
       "      <td>0</td>\n",
       "      <td>Ms. Jackson</td>\n",
       "      <td>80</td>\n",
       "      <td>0.2690</td>\n",
       "      <td>94.948</td>\n",
       "      <td>OutKast - Ms. Jackson</td>\n",
       "    </tr>\n",
       "    <tr>\n",
       "      <th>2</th>\n",
       "      <td>0.400</td>\n",
       "      <td>2000</td>\n",
       "      <td>0.00958</td>\n",
       "      <td>Linkin Park</td>\n",
       "      <td>0.556</td>\n",
       "      <td>216880</td>\n",
       "      <td>0.864</td>\n",
       "      <td>0</td>\n",
       "      <td>60a0Rd6pjrkxjPbaKzXjfq</td>\n",
       "      <td>0.000000</td>\n",
       "      <td>3</td>\n",
       "      <td>0.2090</td>\n",
       "      <td>-5.870</td>\n",
       "      <td>0</td>\n",
       "      <td>In the End</td>\n",
       "      <td>84</td>\n",
       "      <td>0.0584</td>\n",
       "      <td>105.143</td>\n",
       "      <td>Linkin Park - In the End</td>\n",
       "    </tr>\n",
       "    <tr>\n",
       "      <th>3</th>\n",
       "      <td>0.543</td>\n",
       "      <td>2000</td>\n",
       "      <td>0.00664</td>\n",
       "      <td>3 Doors Down</td>\n",
       "      <td>0.545</td>\n",
       "      <td>233933</td>\n",
       "      <td>0.865</td>\n",
       "      <td>0</td>\n",
       "      <td>6ZOBP3NvffbU4SZcrnt1k6</td>\n",
       "      <td>0.000011</td>\n",
       "      <td>11</td>\n",
       "      <td>0.1680</td>\n",
       "      <td>-5.708</td>\n",
       "      <td>0</td>\n",
       "      <td>Kryptonite</td>\n",
       "      <td>78</td>\n",
       "      <td>0.0286</td>\n",
       "      <td>99.009</td>\n",
       "      <td>3 Doors Down - Kryptonite</td>\n",
       "    </tr>\n",
       "    <tr>\n",
       "      <th>4</th>\n",
       "      <td>0.760</td>\n",
       "      <td>2000</td>\n",
       "      <td>0.03020</td>\n",
       "      <td>Eminem</td>\n",
       "      <td>0.949</td>\n",
       "      <td>284200</td>\n",
       "      <td>0.661</td>\n",
       "      <td>1</td>\n",
       "      <td>3yfqSUWxFvZELEM4PmlwIR</td>\n",
       "      <td>0.000000</td>\n",
       "      <td>5</td>\n",
       "      <td>0.0454</td>\n",
       "      <td>-4.244</td>\n",
       "      <td>0</td>\n",
       "      <td>The Real Slim Shady</td>\n",
       "      <td>80</td>\n",
       "      <td>0.0572</td>\n",
       "      <td>104.504</td>\n",
       "      <td>Eminem - The Real Slim Shady</td>\n",
       "    </tr>\n",
       "  </tbody>\n",
       "</table>\n",
       "</div>"
      ],
      "text/plain": [
       "   valence  year  acousticness       artists  danceability  duration_ms  \\\n",
       "0    0.285  2000       0.00239      Coldplay         0.429       266773   \n",
       "1    0.613  2000       0.14300       OutKast         0.843       270507   \n",
       "2    0.400  2000       0.00958   Linkin Park         0.556       216880   \n",
       "3    0.543  2000       0.00664  3 Doors Down         0.545       233933   \n",
       "4    0.760  2000       0.03020        Eminem         0.949       284200   \n",
       "\n",
       "   energy  explicit                      id  instrumentalness  key  liveness  \\\n",
       "0   0.661         0  3AJwUDP919kvQ9QcozQPxg          0.000121   11    0.2340   \n",
       "1   0.806         1  0I3q5fE6wg7LIfHGngUTnV          0.000000    4    0.0771   \n",
       "2   0.864         0  60a0Rd6pjrkxjPbaKzXjfq          0.000000    3    0.2090   \n",
       "3   0.865         0  6ZOBP3NvffbU4SZcrnt1k6          0.000011   11    0.1680   \n",
       "4   0.661         1  3yfqSUWxFvZELEM4PmlwIR          0.000000    5    0.0454   \n",
       "\n",
       "   loudness  mode                 name  popularity  speechiness    tempo  \\\n",
       "0    -7.227     1               Yellow          84       0.0281  173.372   \n",
       "1    -5.946     0          Ms. Jackson          80       0.2690   94.948   \n",
       "2    -5.870     0           In the End          84       0.0584  105.143   \n",
       "3    -5.708     0           Kryptonite          78       0.0286   99.009   \n",
       "4    -4.244     0  The Real Slim Shady          80       0.0572  104.504   \n",
       "\n",
       "                   artists_song  \n",
       "0             Coldplay - Yellow  \n",
       "1         OutKast - Ms. Jackson  \n",
       "2      Linkin Park - In the End  \n",
       "3     3 Doors Down - Kryptonite  \n",
       "4  Eminem - The Real Slim Shady  "
      ]
     },
     "execution_count": 72,
     "metadata": {},
     "output_type": "execute_result"
    }
   ],
   "source": [
    "df1.head()"
   ]
  },
  {
   "cell_type": "code",
   "execution_count": 73,
   "metadata": {},
   "outputs": [],
   "source": [
    "# df_dados.describe()"
   ]
  },
  {
   "cell_type": "code",
   "execution_count": 74,
   "metadata": {},
   "outputs": [],
   "source": [
    "# df_generos.head()"
   ]
  },
  {
   "cell_type": "markdown",
   "metadata": {},
   "source": [
    "## 1.1. Dimensão dados"
   ]
  },
  {
   "cell_type": "code",
   "execution_count": 75,
   "metadata": {},
   "outputs": [
    {
     "name": "stdout",
     "output_type": "stream",
     "text": [
      "Número de Linhas: 20311\n",
      "Número de Colunas: 19\n"
     ]
    }
   ],
   "source": [
    "print( 'Número de Linhas: {}'.format(df1.shape[0] ) )\n",
    "print( 'Número de Colunas: {}'.format(df1.shape[1] ) )"
   ]
  },
  {
   "cell_type": "markdown",
   "metadata": {},
   "source": [
    "## 1.2. Tipo Dados"
   ]
  },
  {
   "cell_type": "code",
   "execution_count": 76,
   "metadata": {},
   "outputs": [
    {
     "data": {
      "text/plain": [
       "valence             float64\n",
       "year                  int64\n",
       "acousticness        float64\n",
       "artists              object\n",
       "danceability        float64\n",
       "duration_ms           int64\n",
       "energy              float64\n",
       "explicit              int64\n",
       "id                   object\n",
       "instrumentalness    float64\n",
       "key                   int64\n",
       "liveness            float64\n",
       "loudness            float64\n",
       "mode                  int64\n",
       "name                 object\n",
       "popularity            int64\n",
       "speechiness         float64\n",
       "tempo               float64\n",
       "artists_song         object\n",
       "dtype: object"
      ]
     },
     "execution_count": 76,
     "metadata": {},
     "output_type": "execute_result"
    }
   ],
   "source": [
    "df1.dtypes"
   ]
  },
  {
   "cell_type": "markdown",
   "metadata": {},
   "source": [
    "## 1.4. Validando NA"
   ]
  },
  {
   "cell_type": "code",
   "execution_count": 77,
   "metadata": {},
   "outputs": [
    {
     "data": {
      "text/plain": [
       "valence             0\n",
       "year                0\n",
       "acousticness        0\n",
       "artists             0\n",
       "danceability        0\n",
       "duration_ms         0\n",
       "energy              0\n",
       "explicit            0\n",
       "id                  0\n",
       "instrumentalness    0\n",
       "key                 0\n",
       "liveness            0\n",
       "loudness            0\n",
       "mode                0\n",
       "name                0\n",
       "popularity          0\n",
       "speechiness         0\n",
       "tempo               0\n",
       "artists_song        0\n",
       "dtype: int64"
      ]
     },
     "execution_count": 77,
     "metadata": {},
     "output_type": "execute_result"
    }
   ],
   "source": [
    "df1.isna().sum()"
   ]
  },
  {
   "cell_type": "markdown",
   "metadata": {},
   "source": [
    "## 1.5. Estatística Descritiva"
   ]
  },
  {
   "cell_type": "code",
   "execution_count": 78,
   "metadata": {},
   "outputs": [],
   "source": [
    "num_attributes = df1.select_dtypes( include=['int64', 'int32', 'float64'] )\n",
    "cat_attributes = df1.select_dtypes( exclude=['int64', 'int32', 'float64', 'datetime64[ns]'] )"
   ]
  },
  {
   "cell_type": "code",
   "execution_count": 79,
   "metadata": {},
   "outputs": [
    {
     "data": {
      "text/html": [
       "<div>\n",
       "<style scoped>\n",
       "    .dataframe tbody tr th:only-of-type {\n",
       "        vertical-align: middle;\n",
       "    }\n",
       "\n",
       "    .dataframe tbody tr th {\n",
       "        vertical-align: top;\n",
       "    }\n",
       "\n",
       "    .dataframe thead th {\n",
       "        text-align: right;\n",
       "    }\n",
       "</style>\n",
       "<table border=\"1\" class=\"dataframe\">\n",
       "  <thead>\n",
       "    <tr style=\"text-align: right;\">\n",
       "      <th></th>\n",
       "      <th>attributes</th>\n",
       "      <th>min</th>\n",
       "      <th>max</th>\n",
       "      <th>range</th>\n",
       "      <th>mean</th>\n",
       "      <th>median</th>\n",
       "      <th>std</th>\n",
       "      <th>skew</th>\n",
       "      <th>kurtosis</th>\n",
       "    </tr>\n",
       "  </thead>\n",
       "  <tbody>\n",
       "    <tr>\n",
       "      <th>0</th>\n",
       "      <td>valence</td>\n",
       "      <td>0.0</td>\n",
       "      <td>1.000</td>\n",
       "      <td>1.000</td>\n",
       "      <td>0.481928</td>\n",
       "      <td>0.472000</td>\n",
       "      <td>0.246407</td>\n",
       "      <td>0.140008</td>\n",
       "      <td>-0.904303</td>\n",
       "    </tr>\n",
       "    <tr>\n",
       "      <th>1</th>\n",
       "      <td>year</td>\n",
       "      <td>2000.0</td>\n",
       "      <td>2020.000</td>\n",
       "      <td>20.000</td>\n",
       "      <td>2010.183201</td>\n",
       "      <td>2010.000000</td>\n",
       "      <td>6.063818</td>\n",
       "      <td>-0.020193</td>\n",
       "      <td>-1.198748</td>\n",
       "    </tr>\n",
       "    <tr>\n",
       "      <th>2</th>\n",
       "      <td>acousticness</td>\n",
       "      <td>0.0</td>\n",
       "      <td>0.996</td>\n",
       "      <td>0.996</td>\n",
       "      <td>0.242799</td>\n",
       "      <td>0.114000</td>\n",
       "      <td>0.284409</td>\n",
       "      <td>1.167440</td>\n",
       "      <td>0.161336</td>\n",
       "    </tr>\n",
       "    <tr>\n",
       "      <th>3</th>\n",
       "      <td>danceability</td>\n",
       "      <td>0.0</td>\n",
       "      <td>0.986</td>\n",
       "      <td>0.986</td>\n",
       "      <td>0.587702</td>\n",
       "      <td>0.596000</td>\n",
       "      <td>0.171318</td>\n",
       "      <td>-0.362448</td>\n",
       "      <td>-0.119937</td>\n",
       "    </tr>\n",
       "    <tr>\n",
       "      <th>4</th>\n",
       "      <td>duration_ms</td>\n",
       "      <td>30301.0</td>\n",
       "      <td>2558287.000</td>\n",
       "      <td>2527986.000</td>\n",
       "      <td>228628.975826</td>\n",
       "      <td>221627.000000</td>\n",
       "      <td>70463.498581</td>\n",
       "      <td>5.492197</td>\n",
       "      <td>120.046653</td>\n",
       "    </tr>\n",
       "    <tr>\n",
       "      <th>5</th>\n",
       "      <td>energy</td>\n",
       "      <td>0.0</td>\n",
       "      <td>0.999</td>\n",
       "      <td>0.999</td>\n",
       "      <td>0.650766</td>\n",
       "      <td>0.680000</td>\n",
       "      <td>0.221769</td>\n",
       "      <td>-0.683219</td>\n",
       "      <td>-0.008898</td>\n",
       "    </tr>\n",
       "    <tr>\n",
       "      <th>6</th>\n",
       "      <td>explicit</td>\n",
       "      <td>0.0</td>\n",
       "      <td>1.000</td>\n",
       "      <td>1.000</td>\n",
       "      <td>0.279504</td>\n",
       "      <td>0.000000</td>\n",
       "      <td>0.448755</td>\n",
       "      <td>0.982774</td>\n",
       "      <td>-1.034257</td>\n",
       "    </tr>\n",
       "    <tr>\n",
       "      <th>7</th>\n",
       "      <td>instrumentalness</td>\n",
       "      <td>0.0</td>\n",
       "      <td>1.000</td>\n",
       "      <td>1.000</td>\n",
       "      <td>0.060173</td>\n",
       "      <td>0.000002</td>\n",
       "      <td>0.199310</td>\n",
       "      <td>3.533004</td>\n",
       "      <td>11.259340</td>\n",
       "    </tr>\n",
       "    <tr>\n",
       "      <th>8</th>\n",
       "      <td>key</td>\n",
       "      <td>0.0</td>\n",
       "      <td>11.000</td>\n",
       "      <td>11.000</td>\n",
       "      <td>5.239673</td>\n",
       "      <td>5.000000</td>\n",
       "      <td>3.583391</td>\n",
       "      <td>0.024003</td>\n",
       "      <td>-1.308581</td>\n",
       "    </tr>\n",
       "    <tr>\n",
       "      <th>9</th>\n",
       "      <td>liveness</td>\n",
       "      <td>0.0</td>\n",
       "      <td>0.997</td>\n",
       "      <td>0.997</td>\n",
       "      <td>0.194004</td>\n",
       "      <td>0.128000</td>\n",
       "      <td>0.157754</td>\n",
       "      <td>2.169330</td>\n",
       "      <td>5.442713</td>\n",
       "    </tr>\n",
       "    <tr>\n",
       "      <th>10</th>\n",
       "      <td>loudness</td>\n",
       "      <td>-60.0</td>\n",
       "      <td>1.483</td>\n",
       "      <td>61.483</td>\n",
       "      <td>-7.083095</td>\n",
       "      <td>-6.072000</td>\n",
       "      <td>4.319996</td>\n",
       "      <td>-3.093811</td>\n",
       "      <td>14.668149</td>\n",
       "    </tr>\n",
       "    <tr>\n",
       "      <th>11</th>\n",
       "      <td>mode</td>\n",
       "      <td>0.0</td>\n",
       "      <td>1.000</td>\n",
       "      <td>1.000</td>\n",
       "      <td>0.659052</td>\n",
       "      <td>1.000000</td>\n",
       "      <td>0.474028</td>\n",
       "      <td>-0.671114</td>\n",
       "      <td>-1.549758</td>\n",
       "    </tr>\n",
       "    <tr>\n",
       "      <th>12</th>\n",
       "      <td>popularity</td>\n",
       "      <td>0.0</td>\n",
       "      <td>100.000</td>\n",
       "      <td>100.000</td>\n",
       "      <td>56.441879</td>\n",
       "      <td>56.000000</td>\n",
       "      <td>11.560667</td>\n",
       "      <td>-0.170954</td>\n",
       "      <td>1.538891</td>\n",
       "    </tr>\n",
       "    <tr>\n",
       "      <th>13</th>\n",
       "      <td>speechiness</td>\n",
       "      <td>0.0</td>\n",
       "      <td>0.950</td>\n",
       "      <td>0.950</td>\n",
       "      <td>0.100602</td>\n",
       "      <td>0.052400</td>\n",
       "      <td>0.106057</td>\n",
       "      <td>2.267517</td>\n",
       "      <td>6.355651</td>\n",
       "    </tr>\n",
       "    <tr>\n",
       "      <th>14</th>\n",
       "      <td>tempo</td>\n",
       "      <td>0.0</td>\n",
       "      <td>220.099</td>\n",
       "      <td>220.099</td>\n",
       "      <td>122.074260</td>\n",
       "      <td>120.109000</td>\n",
       "      <td>30.864428</td>\n",
       "      <td>0.274076</td>\n",
       "      <td>-0.471907</td>\n",
       "    </tr>\n",
       "  </tbody>\n",
       "</table>\n",
       "</div>"
      ],
      "text/plain": [
       "          attributes      min          max        range           mean  \\\n",
       "0            valence      0.0        1.000        1.000       0.481928   \n",
       "1               year   2000.0     2020.000       20.000    2010.183201   \n",
       "2       acousticness      0.0        0.996        0.996       0.242799   \n",
       "3       danceability      0.0        0.986        0.986       0.587702   \n",
       "4        duration_ms  30301.0  2558287.000  2527986.000  228628.975826   \n",
       "5             energy      0.0        0.999        0.999       0.650766   \n",
       "6           explicit      0.0        1.000        1.000       0.279504   \n",
       "7   instrumentalness      0.0        1.000        1.000       0.060173   \n",
       "8                key      0.0       11.000       11.000       5.239673   \n",
       "9           liveness      0.0        0.997        0.997       0.194004   \n",
       "10          loudness    -60.0        1.483       61.483      -7.083095   \n",
       "11              mode      0.0        1.000        1.000       0.659052   \n",
       "12        popularity      0.0      100.000      100.000      56.441879   \n",
       "13       speechiness      0.0        0.950        0.950       0.100602   \n",
       "14             tempo      0.0      220.099      220.099     122.074260   \n",
       "\n",
       "           median           std      skew    kurtosis  \n",
       "0        0.472000      0.246407  0.140008   -0.904303  \n",
       "1     2010.000000      6.063818 -0.020193   -1.198748  \n",
       "2        0.114000      0.284409  1.167440    0.161336  \n",
       "3        0.596000      0.171318 -0.362448   -0.119937  \n",
       "4   221627.000000  70463.498581  5.492197  120.046653  \n",
       "5        0.680000      0.221769 -0.683219   -0.008898  \n",
       "6        0.000000      0.448755  0.982774   -1.034257  \n",
       "7        0.000002      0.199310  3.533004   11.259340  \n",
       "8        5.000000      3.583391  0.024003   -1.308581  \n",
       "9        0.128000      0.157754  2.169330    5.442713  \n",
       "10      -6.072000      4.319996 -3.093811   14.668149  \n",
       "11       1.000000      0.474028 -0.671114   -1.549758  \n",
       "12      56.000000     11.560667 -0.170954    1.538891  \n",
       "13       0.052400      0.106057  2.267517    6.355651  \n",
       "14     120.109000     30.864428  0.274076   -0.471907  "
      ]
     },
     "execution_count": 79,
     "metadata": {},
     "output_type": "execute_result"
    }
   ],
   "source": [
    "# Tendencia central - mean, ]median\n",
    "ct1 = pd.DataFrame( num_attributes.apply( np.mean ) ).T\n",
    "ct2 = pd.DataFrame( num_attributes.apply( np.median ) ).T\n",
    "\n",
    "# Dispersão - std, min, max, range, knew, kurtosis\n",
    "d1 = pd.DataFrame( num_attributes.apply( np.std ) ).T\n",
    "d2 = pd.DataFrame( num_attributes.apply( np.min ) ).T\n",
    "d3 = pd.DataFrame( num_attributes.apply( np.max ) ).T\n",
    "d4 = pd.DataFrame( num_attributes.apply( lambda x: x.max() - x.min() ) ).T\n",
    "d5 = pd.DataFrame( num_attributes.apply( lambda x: x.skew() ) ).T\n",
    "d6 = pd.DataFrame( num_attributes.apply( lambda x: x.kurtosis() ) ).T\n",
    "\n",
    "#Concatenar\n",
    "m = pd.concat( [d2, d3, d4, ct1, ct2, d1, d5, d6] ).T.reset_index()\n",
    "m.columns =['attributes', 'min', 'max', 'range', 'mean', 'median', 'std', 'skew', 'kurtosis']\n",
    "m"
   ]
  },
  {
   "cell_type": "code",
   "execution_count": 80,
   "metadata": {},
   "outputs": [
    {
     "data": {
      "text/plain": [
       "artists           875\n",
       "id              20311\n",
       "name            18691\n",
       "artists_song    20311\n",
       "dtype: int64"
      ]
     },
     "execution_count": 80,
     "metadata": {},
     "output_type": "execute_result"
    }
   ],
   "source": [
    "cat_attributes.apply( lambda x: x.unique().shape[0] )"
   ]
  },
  {
   "cell_type": "code",
   "execution_count": 81,
   "metadata": {},
   "outputs": [
    {
     "data": {
      "text/plain": [
       "1921    0.01\n",
       "1984    0.01\n",
       "1994    0.01\n",
       "1993    0.01\n",
       "1992    0.01\n",
       "        ... \n",
       "1951    0.01\n",
       "1950    0.01\n",
       "1949    0.01\n",
       "1948    0.01\n",
       "2020    0.01\n",
       "Name: year, Length: 100, dtype: float64"
      ]
     },
     "execution_count": 81,
     "metadata": {},
     "output_type": "execute_result"
    }
   ],
   "source": [
    "df_anos['year'].value_counts(normalize=True)"
   ]
  },
  {
   "cell_type": "markdown",
   "metadata": {},
   "source": [
    "# Feature Engeneering"
   ]
  },
  {
   "cell_type": "markdown",
   "metadata": {},
   "source": [
    "# Filtragem Variáveis"
   ]
  },
  {
   "cell_type": "markdown",
   "metadata": {},
   "source": [
    "## Seleção Linhas"
   ]
  },
  {
   "cell_type": "code",
   "execution_count": 82,
   "metadata": {},
   "outputs": [
    {
     "data": {
      "text/plain": [
       "array([2000, 2001, 2002, 2003, 2004, 2005, 2006, 2007, 2008, 2009, 2010,\n",
       "       2011, 2012, 2013, 2014, 2015, 2016, 2017, 2018, 2019, 2020],\n",
       "      dtype=int64)"
      ]
     },
     "execution_count": 82,
     "metadata": {},
     "output_type": "execute_result"
    }
   ],
   "source": [
    "df_dados['year'].unique()"
   ]
  },
  {
   "cell_type": "code",
   "execution_count": 83,
   "metadata": {},
   "outputs": [
    {
     "data": {
      "text/plain": [
       "<bound method Series.unique of 0     1921\n",
       "1     1922\n",
       "2     1923\n",
       "3     1924\n",
       "4     1925\n",
       "      ... \n",
       "95    2016\n",
       "96    2017\n",
       "97    2018\n",
       "98    2019\n",
       "99    2020\n",
       "Name: year, Length: 100, dtype: int64>"
      ]
     },
     "execution_count": 83,
     "metadata": {},
     "output_type": "execute_result"
    }
   ],
   "source": [
    "df_anos['year'].unique"
   ]
  },
  {
   "cell_type": "code",
   "execution_count": 84,
   "metadata": {},
   "outputs": [],
   "source": [
    "df_anos = df_anos[df_anos['year'] >= 2000].reset_index(drop=True)"
   ]
  },
  {
   "cell_type": "markdown",
   "metadata": {},
   "source": [
    "## Seleção Colunas"
   ]
  },
  {
   "cell_type": "code",
   "execution_count": 85,
   "metadata": {},
   "outputs": [],
   "source": [
    "# removendo algumas features que no primeiro momento não agregam.\n",
    "df_dados = df_dados.drop(['explicit', 'key', 'mode'], axis=1)\n",
    "df_generos = df_generos.drop(['key', 'mode'], axis=1)\n",
    "df_anos = df_anos.drop(['key', 'mode'], axis=1)"
   ]
  },
  {
   "cell_type": "code",
   "execution_count": 86,
   "metadata": {},
   "outputs": [
    {
     "data": {
      "text/html": [
       "<div>\n",
       "<style scoped>\n",
       "    .dataframe tbody tr th:only-of-type {\n",
       "        vertical-align: middle;\n",
       "    }\n",
       "\n",
       "    .dataframe tbody tr th {\n",
       "        vertical-align: top;\n",
       "    }\n",
       "\n",
       "    .dataframe thead th {\n",
       "        text-align: right;\n",
       "    }\n",
       "</style>\n",
       "<table border=\"1\" class=\"dataframe\">\n",
       "  <thead>\n",
       "    <tr style=\"text-align: right;\">\n",
       "      <th></th>\n",
       "      <th>valence</th>\n",
       "      <th>year</th>\n",
       "      <th>acousticness</th>\n",
       "      <th>artists</th>\n",
       "      <th>danceability</th>\n",
       "      <th>duration_ms</th>\n",
       "      <th>energy</th>\n",
       "      <th>id</th>\n",
       "      <th>instrumentalness</th>\n",
       "      <th>liveness</th>\n",
       "      <th>loudness</th>\n",
       "      <th>name</th>\n",
       "      <th>popularity</th>\n",
       "      <th>speechiness</th>\n",
       "      <th>tempo</th>\n",
       "      <th>artists_song</th>\n",
       "    </tr>\n",
       "  </thead>\n",
       "  <tbody>\n",
       "    <tr>\n",
       "      <th>0</th>\n",
       "      <td>0.285</td>\n",
       "      <td>2000</td>\n",
       "      <td>0.00239</td>\n",
       "      <td>Coldplay</td>\n",
       "      <td>0.429</td>\n",
       "      <td>266773</td>\n",
       "      <td>0.661</td>\n",
       "      <td>3AJwUDP919kvQ9QcozQPxg</td>\n",
       "      <td>0.000121</td>\n",
       "      <td>0.2340</td>\n",
       "      <td>-7.227</td>\n",
       "      <td>Yellow</td>\n",
       "      <td>84</td>\n",
       "      <td>0.0281</td>\n",
       "      <td>173.372</td>\n",
       "      <td>Coldplay - Yellow</td>\n",
       "    </tr>\n",
       "    <tr>\n",
       "      <th>1</th>\n",
       "      <td>0.613</td>\n",
       "      <td>2000</td>\n",
       "      <td>0.14300</td>\n",
       "      <td>OutKast</td>\n",
       "      <td>0.843</td>\n",
       "      <td>270507</td>\n",
       "      <td>0.806</td>\n",
       "      <td>0I3q5fE6wg7LIfHGngUTnV</td>\n",
       "      <td>0.000000</td>\n",
       "      <td>0.0771</td>\n",
       "      <td>-5.946</td>\n",
       "      <td>Ms. Jackson</td>\n",
       "      <td>80</td>\n",
       "      <td>0.2690</td>\n",
       "      <td>94.948</td>\n",
       "      <td>OutKast - Ms. Jackson</td>\n",
       "    </tr>\n",
       "    <tr>\n",
       "      <th>2</th>\n",
       "      <td>0.400</td>\n",
       "      <td>2000</td>\n",
       "      <td>0.00958</td>\n",
       "      <td>Linkin Park</td>\n",
       "      <td>0.556</td>\n",
       "      <td>216880</td>\n",
       "      <td>0.864</td>\n",
       "      <td>60a0Rd6pjrkxjPbaKzXjfq</td>\n",
       "      <td>0.000000</td>\n",
       "      <td>0.2090</td>\n",
       "      <td>-5.870</td>\n",
       "      <td>In the End</td>\n",
       "      <td>84</td>\n",
       "      <td>0.0584</td>\n",
       "      <td>105.143</td>\n",
       "      <td>Linkin Park - In the End</td>\n",
       "    </tr>\n",
       "    <tr>\n",
       "      <th>3</th>\n",
       "      <td>0.543</td>\n",
       "      <td>2000</td>\n",
       "      <td>0.00664</td>\n",
       "      <td>3 Doors Down</td>\n",
       "      <td>0.545</td>\n",
       "      <td>233933</td>\n",
       "      <td>0.865</td>\n",
       "      <td>6ZOBP3NvffbU4SZcrnt1k6</td>\n",
       "      <td>0.000011</td>\n",
       "      <td>0.1680</td>\n",
       "      <td>-5.708</td>\n",
       "      <td>Kryptonite</td>\n",
       "      <td>78</td>\n",
       "      <td>0.0286</td>\n",
       "      <td>99.009</td>\n",
       "      <td>3 Doors Down - Kryptonite</td>\n",
       "    </tr>\n",
       "    <tr>\n",
       "      <th>4</th>\n",
       "      <td>0.760</td>\n",
       "      <td>2000</td>\n",
       "      <td>0.03020</td>\n",
       "      <td>Eminem</td>\n",
       "      <td>0.949</td>\n",
       "      <td>284200</td>\n",
       "      <td>0.661</td>\n",
       "      <td>3yfqSUWxFvZELEM4PmlwIR</td>\n",
       "      <td>0.000000</td>\n",
       "      <td>0.0454</td>\n",
       "      <td>-4.244</td>\n",
       "      <td>The Real Slim Shady</td>\n",
       "      <td>80</td>\n",
       "      <td>0.0572</td>\n",
       "      <td>104.504</td>\n",
       "      <td>Eminem - The Real Slim Shady</td>\n",
       "    </tr>\n",
       "  </tbody>\n",
       "</table>\n",
       "</div>"
      ],
      "text/plain": [
       "   valence  year  acousticness       artists  danceability  duration_ms  \\\n",
       "0    0.285  2000       0.00239      Coldplay         0.429       266773   \n",
       "1    0.613  2000       0.14300       OutKast         0.843       270507   \n",
       "2    0.400  2000       0.00958   Linkin Park         0.556       216880   \n",
       "3    0.543  2000       0.00664  3 Doors Down         0.545       233933   \n",
       "4    0.760  2000       0.03020        Eminem         0.949       284200   \n",
       "\n",
       "   energy                      id  instrumentalness  liveness  loudness  \\\n",
       "0   0.661  3AJwUDP919kvQ9QcozQPxg          0.000121    0.2340    -7.227   \n",
       "1   0.806  0I3q5fE6wg7LIfHGngUTnV          0.000000    0.0771    -5.946   \n",
       "2   0.864  60a0Rd6pjrkxjPbaKzXjfq          0.000000    0.2090    -5.870   \n",
       "3   0.865  6ZOBP3NvffbU4SZcrnt1k6          0.000011    0.1680    -5.708   \n",
       "4   0.661  3yfqSUWxFvZELEM4PmlwIR          0.000000    0.0454    -4.244   \n",
       "\n",
       "                  name  popularity  speechiness    tempo  \\\n",
       "0               Yellow          84       0.0281  173.372   \n",
       "1          Ms. Jackson          80       0.2690   94.948   \n",
       "2           In the End          84       0.0584  105.143   \n",
       "3           Kryptonite          78       0.0286   99.009   \n",
       "4  The Real Slim Shady          80       0.0572  104.504   \n",
       "\n",
       "                   artists_song  \n",
       "0             Coldplay - Yellow  \n",
       "1         OutKast - Ms. Jackson  \n",
       "2      Linkin Park - In the End  \n",
       "3     3 Doors Down - Kryptonite  \n",
       "4  Eminem - The Real Slim Shady  "
      ]
     },
     "execution_count": 86,
     "metadata": {},
     "output_type": "execute_result"
    }
   ],
   "source": [
    "df_dados.head()"
   ]
  },
  {
   "cell_type": "markdown",
   "metadata": {},
   "source": [
    "# Análise Exploratória"
   ]
  },
  {
   "cell_type": "code",
   "execution_count": 87,
   "metadata": {},
   "outputs": [
    {
     "data": {
      "application/vnd.plotly.v1+json": {
       "config": {
        "plotlyServerURL": "https://plot.ly"
       },
       "data": [
        {
         "hovertemplate": "year=%{x}<br>loudness=%{y}<extra></extra>",
         "legendgroup": "",
         "line": {
          "color": "#636efa",
          "dash": "solid"
         },
         "marker": {
          "symbol": "circle"
         },
         "mode": "lines+markers",
         "name": "",
         "orientation": "v",
         "showlegend": false,
         "type": "scatter",
         "x": [
          2000,
          2001,
          2002,
          2003,
          2004,
          2005,
          2006,
          2007,
          2008,
          2009,
          2010,
          2011,
          2012,
          2013,
          2014,
          2015,
          2016,
          2017,
          2018,
          2019,
          2020
         ],
         "xaxis": "x",
         "y": [
          -8.247765848670758,
          -8.305095261845384,
          -7.686639500000013,
          -7.485545035823955,
          -7.601655137334684,
          -7.46615897435897,
          -7.265500512820514,
          -7.044535897435892,
          -6.8438040920716166,
          -7.0460147959183645,
          -6.9099042658730125,
          -7.574986117997006,
          -7.260549614395888,
          -7.472039473684207,
          -7.06743990024938,
          -7.625639311043569,
          -8.061056204785759,
          -8.31262951807228,
          -7.168785068949124,
          -7.722191893278596,
          -6.595066995073878
         ],
         "yaxis": "y"
        }
       ],
       "layout": {
        "legend": {
         "tracegroupgap": 0
        },
        "template": {
         "data": {
          "bar": [
           {
            "error_x": {
             "color": "#2a3f5f"
            },
            "error_y": {
             "color": "#2a3f5f"
            },
            "marker": {
             "line": {
              "color": "#E5ECF6",
              "width": 0.5
             },
             "pattern": {
              "fillmode": "overlay",
              "size": 10,
              "solidity": 0.2
             }
            },
            "type": "bar"
           }
          ],
          "barpolar": [
           {
            "marker": {
             "line": {
              "color": "#E5ECF6",
              "width": 0.5
             },
             "pattern": {
              "fillmode": "overlay",
              "size": 10,
              "solidity": 0.2
             }
            },
            "type": "barpolar"
           }
          ],
          "carpet": [
           {
            "aaxis": {
             "endlinecolor": "#2a3f5f",
             "gridcolor": "white",
             "linecolor": "white",
             "minorgridcolor": "white",
             "startlinecolor": "#2a3f5f"
            },
            "baxis": {
             "endlinecolor": "#2a3f5f",
             "gridcolor": "white",
             "linecolor": "white",
             "minorgridcolor": "white",
             "startlinecolor": "#2a3f5f"
            },
            "type": "carpet"
           }
          ],
          "choropleth": [
           {
            "colorbar": {
             "outlinewidth": 0,
             "ticks": ""
            },
            "type": "choropleth"
           }
          ],
          "contour": [
           {
            "colorbar": {
             "outlinewidth": 0,
             "ticks": ""
            },
            "colorscale": [
             [
              0,
              "#0d0887"
             ],
             [
              0.1111111111111111,
              "#46039f"
             ],
             [
              0.2222222222222222,
              "#7201a8"
             ],
             [
              0.3333333333333333,
              "#9c179e"
             ],
             [
              0.4444444444444444,
              "#bd3786"
             ],
             [
              0.5555555555555556,
              "#d8576b"
             ],
             [
              0.6666666666666666,
              "#ed7953"
             ],
             [
              0.7777777777777778,
              "#fb9f3a"
             ],
             [
              0.8888888888888888,
              "#fdca26"
             ],
             [
              1,
              "#f0f921"
             ]
            ],
            "type": "contour"
           }
          ],
          "contourcarpet": [
           {
            "colorbar": {
             "outlinewidth": 0,
             "ticks": ""
            },
            "type": "contourcarpet"
           }
          ],
          "heatmap": [
           {
            "colorbar": {
             "outlinewidth": 0,
             "ticks": ""
            },
            "colorscale": [
             [
              0,
              "#0d0887"
             ],
             [
              0.1111111111111111,
              "#46039f"
             ],
             [
              0.2222222222222222,
              "#7201a8"
             ],
             [
              0.3333333333333333,
              "#9c179e"
             ],
             [
              0.4444444444444444,
              "#bd3786"
             ],
             [
              0.5555555555555556,
              "#d8576b"
             ],
             [
              0.6666666666666666,
              "#ed7953"
             ],
             [
              0.7777777777777778,
              "#fb9f3a"
             ],
             [
              0.8888888888888888,
              "#fdca26"
             ],
             [
              1,
              "#f0f921"
             ]
            ],
            "type": "heatmap"
           }
          ],
          "heatmapgl": [
           {
            "colorbar": {
             "outlinewidth": 0,
             "ticks": ""
            },
            "colorscale": [
             [
              0,
              "#0d0887"
             ],
             [
              0.1111111111111111,
              "#46039f"
             ],
             [
              0.2222222222222222,
              "#7201a8"
             ],
             [
              0.3333333333333333,
              "#9c179e"
             ],
             [
              0.4444444444444444,
              "#bd3786"
             ],
             [
              0.5555555555555556,
              "#d8576b"
             ],
             [
              0.6666666666666666,
              "#ed7953"
             ],
             [
              0.7777777777777778,
              "#fb9f3a"
             ],
             [
              0.8888888888888888,
              "#fdca26"
             ],
             [
              1,
              "#f0f921"
             ]
            ],
            "type": "heatmapgl"
           }
          ],
          "histogram": [
           {
            "marker": {
             "pattern": {
              "fillmode": "overlay",
              "size": 10,
              "solidity": 0.2
             }
            },
            "type": "histogram"
           }
          ],
          "histogram2d": [
           {
            "colorbar": {
             "outlinewidth": 0,
             "ticks": ""
            },
            "colorscale": [
             [
              0,
              "#0d0887"
             ],
             [
              0.1111111111111111,
              "#46039f"
             ],
             [
              0.2222222222222222,
              "#7201a8"
             ],
             [
              0.3333333333333333,
              "#9c179e"
             ],
             [
              0.4444444444444444,
              "#bd3786"
             ],
             [
              0.5555555555555556,
              "#d8576b"
             ],
             [
              0.6666666666666666,
              "#ed7953"
             ],
             [
              0.7777777777777778,
              "#fb9f3a"
             ],
             [
              0.8888888888888888,
              "#fdca26"
             ],
             [
              1,
              "#f0f921"
             ]
            ],
            "type": "histogram2d"
           }
          ],
          "histogram2dcontour": [
           {
            "colorbar": {
             "outlinewidth": 0,
             "ticks": ""
            },
            "colorscale": [
             [
              0,
              "#0d0887"
             ],
             [
              0.1111111111111111,
              "#46039f"
             ],
             [
              0.2222222222222222,
              "#7201a8"
             ],
             [
              0.3333333333333333,
              "#9c179e"
             ],
             [
              0.4444444444444444,
              "#bd3786"
             ],
             [
              0.5555555555555556,
              "#d8576b"
             ],
             [
              0.6666666666666666,
              "#ed7953"
             ],
             [
              0.7777777777777778,
              "#fb9f3a"
             ],
             [
              0.8888888888888888,
              "#fdca26"
             ],
             [
              1,
              "#f0f921"
             ]
            ],
            "type": "histogram2dcontour"
           }
          ],
          "mesh3d": [
           {
            "colorbar": {
             "outlinewidth": 0,
             "ticks": ""
            },
            "type": "mesh3d"
           }
          ],
          "parcoords": [
           {
            "line": {
             "colorbar": {
              "outlinewidth": 0,
              "ticks": ""
             }
            },
            "type": "parcoords"
           }
          ],
          "pie": [
           {
            "automargin": true,
            "type": "pie"
           }
          ],
          "scatter": [
           {
            "fillpattern": {
             "fillmode": "overlay",
             "size": 10,
             "solidity": 0.2
            },
            "type": "scatter"
           }
          ],
          "scatter3d": [
           {
            "line": {
             "colorbar": {
              "outlinewidth": 0,
              "ticks": ""
             }
            },
            "marker": {
             "colorbar": {
              "outlinewidth": 0,
              "ticks": ""
             }
            },
            "type": "scatter3d"
           }
          ],
          "scattercarpet": [
           {
            "marker": {
             "colorbar": {
              "outlinewidth": 0,
              "ticks": ""
             }
            },
            "type": "scattercarpet"
           }
          ],
          "scattergeo": [
           {
            "marker": {
             "colorbar": {
              "outlinewidth": 0,
              "ticks": ""
             }
            },
            "type": "scattergeo"
           }
          ],
          "scattergl": [
           {
            "marker": {
             "colorbar": {
              "outlinewidth": 0,
              "ticks": ""
             }
            },
            "type": "scattergl"
           }
          ],
          "scattermapbox": [
           {
            "marker": {
             "colorbar": {
              "outlinewidth": 0,
              "ticks": ""
             }
            },
            "type": "scattermapbox"
           }
          ],
          "scatterpolar": [
           {
            "marker": {
             "colorbar": {
              "outlinewidth": 0,
              "ticks": ""
             }
            },
            "type": "scatterpolar"
           }
          ],
          "scatterpolargl": [
           {
            "marker": {
             "colorbar": {
              "outlinewidth": 0,
              "ticks": ""
             }
            },
            "type": "scatterpolargl"
           }
          ],
          "scatterternary": [
           {
            "marker": {
             "colorbar": {
              "outlinewidth": 0,
              "ticks": ""
             }
            },
            "type": "scatterternary"
           }
          ],
          "surface": [
           {
            "colorbar": {
             "outlinewidth": 0,
             "ticks": ""
            },
            "colorscale": [
             [
              0,
              "#0d0887"
             ],
             [
              0.1111111111111111,
              "#46039f"
             ],
             [
              0.2222222222222222,
              "#7201a8"
             ],
             [
              0.3333333333333333,
              "#9c179e"
             ],
             [
              0.4444444444444444,
              "#bd3786"
             ],
             [
              0.5555555555555556,
              "#d8576b"
             ],
             [
              0.6666666666666666,
              "#ed7953"
             ],
             [
              0.7777777777777778,
              "#fb9f3a"
             ],
             [
              0.8888888888888888,
              "#fdca26"
             ],
             [
              1,
              "#f0f921"
             ]
            ],
            "type": "surface"
           }
          ],
          "table": [
           {
            "cells": {
             "fill": {
              "color": "#EBF0F8"
             },
             "line": {
              "color": "white"
             }
            },
            "header": {
             "fill": {
              "color": "#C8D4E3"
             },
             "line": {
              "color": "white"
             }
            },
            "type": "table"
           }
          ]
         },
         "layout": {
          "annotationdefaults": {
           "arrowcolor": "#2a3f5f",
           "arrowhead": 0,
           "arrowwidth": 1
          },
          "autotypenumbers": "strict",
          "coloraxis": {
           "colorbar": {
            "outlinewidth": 0,
            "ticks": ""
           }
          },
          "colorscale": {
           "diverging": [
            [
             0,
             "#8e0152"
            ],
            [
             0.1,
             "#c51b7d"
            ],
            [
             0.2,
             "#de77ae"
            ],
            [
             0.3,
             "#f1b6da"
            ],
            [
             0.4,
             "#fde0ef"
            ],
            [
             0.5,
             "#f7f7f7"
            ],
            [
             0.6,
             "#e6f5d0"
            ],
            [
             0.7,
             "#b8e186"
            ],
            [
             0.8,
             "#7fbc41"
            ],
            [
             0.9,
             "#4d9221"
            ],
            [
             1,
             "#276419"
            ]
           ],
           "sequential": [
            [
             0,
             "#0d0887"
            ],
            [
             0.1111111111111111,
             "#46039f"
            ],
            [
             0.2222222222222222,
             "#7201a8"
            ],
            [
             0.3333333333333333,
             "#9c179e"
            ],
            [
             0.4444444444444444,
             "#bd3786"
            ],
            [
             0.5555555555555556,
             "#d8576b"
            ],
            [
             0.6666666666666666,
             "#ed7953"
            ],
            [
             0.7777777777777778,
             "#fb9f3a"
            ],
            [
             0.8888888888888888,
             "#fdca26"
            ],
            [
             1,
             "#f0f921"
            ]
           ],
           "sequentialminus": [
            [
             0,
             "#0d0887"
            ],
            [
             0.1111111111111111,
             "#46039f"
            ],
            [
             0.2222222222222222,
             "#7201a8"
            ],
            [
             0.3333333333333333,
             "#9c179e"
            ],
            [
             0.4444444444444444,
             "#bd3786"
            ],
            [
             0.5555555555555556,
             "#d8576b"
            ],
            [
             0.6666666666666666,
             "#ed7953"
            ],
            [
             0.7777777777777778,
             "#fb9f3a"
            ],
            [
             0.8888888888888888,
             "#fdca26"
            ],
            [
             1,
             "#f0f921"
            ]
           ]
          },
          "colorway": [
           "#636efa",
           "#EF553B",
           "#00cc96",
           "#ab63fa",
           "#FFA15A",
           "#19d3f3",
           "#FF6692",
           "#B6E880",
           "#FF97FF",
           "#FECB52"
          ],
          "font": {
           "color": "#2a3f5f"
          },
          "geo": {
           "bgcolor": "white",
           "lakecolor": "white",
           "landcolor": "#E5ECF6",
           "showlakes": true,
           "showland": true,
           "subunitcolor": "white"
          },
          "hoverlabel": {
           "align": "left"
          },
          "hovermode": "closest",
          "mapbox": {
           "style": "light"
          },
          "paper_bgcolor": "white",
          "plot_bgcolor": "#E5ECF6",
          "polar": {
           "angularaxis": {
            "gridcolor": "white",
            "linecolor": "white",
            "ticks": ""
           },
           "bgcolor": "#E5ECF6",
           "radialaxis": {
            "gridcolor": "white",
            "linecolor": "white",
            "ticks": ""
           }
          },
          "scene": {
           "xaxis": {
            "backgroundcolor": "#E5ECF6",
            "gridcolor": "white",
            "gridwidth": 2,
            "linecolor": "white",
            "showbackground": true,
            "ticks": "",
            "zerolinecolor": "white"
           },
           "yaxis": {
            "backgroundcolor": "#E5ECF6",
            "gridcolor": "white",
            "gridwidth": 2,
            "linecolor": "white",
            "showbackground": true,
            "ticks": "",
            "zerolinecolor": "white"
           },
           "zaxis": {
            "backgroundcolor": "#E5ECF6",
            "gridcolor": "white",
            "gridwidth": 2,
            "linecolor": "white",
            "showbackground": true,
            "ticks": "",
            "zerolinecolor": "white"
           }
          },
          "shapedefaults": {
           "line": {
            "color": "#2a3f5f"
           }
          },
          "ternary": {
           "aaxis": {
            "gridcolor": "white",
            "linecolor": "white",
            "ticks": ""
           },
           "baxis": {
            "gridcolor": "white",
            "linecolor": "white",
            "ticks": ""
           },
           "bgcolor": "#E5ECF6",
           "caxis": {
            "gridcolor": "white",
            "linecolor": "white",
            "ticks": ""
           }
          },
          "title": {
           "x": 0.05
          },
          "xaxis": {
           "automargin": true,
           "gridcolor": "white",
           "linecolor": "white",
           "ticks": "",
           "title": {
            "standoff": 15
           },
           "zerolinecolor": "white",
           "zerolinewidth": 2
          },
          "yaxis": {
           "automargin": true,
           "gridcolor": "white",
           "linecolor": "white",
           "ticks": "",
           "title": {
            "standoff": 15
           },
           "zerolinecolor": "white",
           "zerolinewidth": 2
          }
         }
        },
        "title": {
         "text": "Variação do loudness através dos Anos"
        },
        "xaxis": {
         "anchor": "y",
         "domain": [
          0,
          1
         ],
         "title": {
          "text": "year"
         }
        },
        "yaxis": {
         "anchor": "x",
         "domain": [
          0,
          1
         ],
         "title": {
          "text": "loudness"
         }
        }
       }
      }
     },
     "metadata": {},
     "output_type": "display_data"
    }
   ],
   "source": [
    "fig = px.line(df_anos, x='year', y='loudness', markers=True, title='Variação do loudness através dos Anos')\n",
    "fig.show()"
   ]
  },
  {
   "cell_type": "code",
   "execution_count": 89,
   "metadata": {},
   "outputs": [
    {
     "data": {
      "application/vnd.plotly.v1+json": {
       "config": {
        "plotlyServerURL": "https://plot.ly"
       },
       "data": [
        {
         "name": "Acousticness",
         "type": "scatter",
         "x": [
          2000,
          2001,
          2002,
          2003,
          2004,
          2005,
          2006,
          2007,
          2008,
          2009,
          2010,
          2011,
          2012,
          2013,
          2014,
          2015,
          2016,
          2017,
          2018,
          2019,
          2020
         ],
         "y": [
          0.2893227005163599,
          0.2868424748428934,
          0.282624289885001,
          0.2564705181729783,
          0.2805589466225845,
          0.2557635068666665,
          0.2799863520256408,
          0.2540809575538463,
          0.2491917627212275,
          0.261928619096939,
          0.2426866435515872,
          0.2731826625185919,
          0.2499530443804624,
          0.2574880859564779,
          0.249312645880299,
          0.2539522577102332,
          0.2841710299554814,
          0.2860990665261043,
          0.2676329907750836,
          0.2782985863365824,
          0.2199308880935964
         ]
        },
        {
         "name": "Valence",
         "type": "scatter",
         "x": [
          2000,
          2001,
          2002,
          2003,
          2004,
          2005,
          2006,
          2007,
          2008,
          2009,
          2010,
          2011,
          2012,
          2013,
          2014,
          2015,
          2016,
          2017,
          2018,
          2019,
          2020
         ],
         "y": [
          0.5594754601226991,
          0.541479107231919,
          0.5423971500000008,
          0.5305042476970324,
          0.5244885554425227,
          0.5325309230769236,
          0.5200283076923078,
          0.5167938461538473,
          0.5275418925831203,
          0.5071696617346935,
          0.5208951587301589,
          0.4724536787307882,
          0.4627090128534706,
          0.4547411943319834,
          0.4630487780548628,
          0.4320983687943254,
          0.4315320589872012,
          0.4164763112449793,
          0.4479212743699474,
          0.4588176295536167,
          0.5010478078817729
         ]
        },
        {
         "name": "Danceability",
         "type": "scatter",
         "x": [
          2000,
          2001,
          2002,
          2003,
          2004,
          2005,
          2006,
          2007,
          2008,
          2009,
          2010,
          2011,
          2012,
          2013,
          2014,
          2015,
          2016,
          2017,
          2018,
          2019,
          2020
         ],
         "y": [
          0.590918047034764,
          0.5833178553615969,
          0.5761602999999997,
          0.5757633060388944,
          0.5676803662258397,
          0.5722805641025652,
          0.5682301538461539,
          0.5634143589743592,
          0.5791928388746803,
          0.5641903571428577,
          0.5724883432539687,
          0.5528669806643526,
          0.5708818508997433,
          0.5711480263157896,
          0.5899476807980057,
          0.5937740628166152,
          0.6002023928770179,
          0.6122170180722886,
          0.6635004755111744,
          0.6448141097998967,
          0.6929043349753701
         ]
        },
        {
         "name": "Energy",
         "type": "scatter",
         "x": [
          2000,
          2001,
          2002,
          2003,
          2004,
          2005,
          2006,
          2007,
          2008,
          2009,
          2010,
          2011,
          2012,
          2013,
          2014,
          2015,
          2016,
          2017,
          2018,
          2019,
          2020
         ],
         "y": [
          0.6254128323108387,
          0.6269855221945144,
          0.6412697960000012,
          0.6601652610030712,
          0.6488679450661226,
          0.653208511282051,
          0.6503262820512825,
          0.6683047743589737,
          0.6714608207672623,
          0.6707487551020408,
          0.6817778026289684,
          0.6483008934060499,
          0.6565714601542408,
          0.6455968914473688,
          0.6487954437905223,
          0.6270642715298895,
          0.5928552316082347,
          0.5904210208835337,
          0.6024346220161672,
          0.5932240360184717,
          0.6312316354679793
         ]
        },
        {
         "name": "Instrumentalness",
         "type": "scatter",
         "x": [
          2000,
          2001,
          2002,
          2003,
          2004,
          2005,
          2006,
          2007,
          2008,
          2009,
          2010,
          2011,
          2012,
          2013,
          2014,
          2015,
          2016,
          2017,
          2018,
          2019,
          2020
         ],
         "y": [
          0.1011677687934559,
          0.1072140189925186,
          0.0880483503149999,
          0.0830492746673491,
          0.0779340349084435,
          0.0901943611846154,
          0.0777014718769231,
          0.0729572680512819,
          0.0636620903171356,
          0.0758720736836735,
          0.0829805682192461,
          0.103772332166584,
          0.0852055206786631,
          0.0983650539170038,
          0.0765695548379051,
          0.1067868780547114,
          0.0939843871174179,
          0.0970906090662649,
          0.0542171216690441,
          0.0776402469728064,
          0.0163755243054187
         ]
        },
        {
         "name": "Liveness",
         "type": "scatter",
         "x": [
          2000,
          2001,
          2002,
          2003,
          2004,
          2005,
          2006,
          2007,
          2008,
          2009,
          2010,
          2011,
          2012,
          2013,
          2014,
          2015,
          2016,
          2017,
          2018,
          2019,
          2020
         ],
         "y": [
          0.1976860429447853,
          0.1870256359102248,
          0.1939111999999998,
          0.196976305015353,
          0.2021994404883014,
          0.1900816256410258,
          0.1882892820512821,
          0.1961265641025642,
          0.1984314066496162,
          0.2052522959183674,
          0.1997006448412699,
          0.2033088249876056,
          0.1897330077120824,
          0.1996308198380571,
          0.1918215960099752,
          0.1888564336372847,
          0.181169894268225,
          0.1917126004016064,
          0.1763255349500711,
          0.1726164186762446,
          0.1785354187192117
         ]
        },
        {
         "name": "Speechiness",
         "type": "scatter",
         "x": [
          2000,
          2001,
          2002,
          2003,
          2004,
          2005,
          2006,
          2007,
          2008,
          2009,
          2010,
          2011,
          2012,
          2013,
          2014,
          2015,
          2016,
          2017,
          2018,
          2019,
          2020
         ],
         "y": [
          0.0892054192229039,
          0.0891822942643391,
          0.0843075999999999,
          0.0939257420675538,
          0.0942388097660224,
          0.093333692307692,
          0.0858467692307692,
          0.0843473333333333,
          0.077356368286445,
          0.0854578061224489,
          0.0810314980158731,
          0.087479276152702,
          0.081742467866324,
          0.0938488866396761,
          0.0840605486284289,
          0.0967792299898684,
          0.1043132999443518,
          0.1105364959839356,
          0.1271755587256302,
          0.1210433555669573,
          0.1413836945812805
         ]
        }
       ],
       "layout": {
        "template": {
         "data": {
          "bar": [
           {
            "error_x": {
             "color": "#2a3f5f"
            },
            "error_y": {
             "color": "#2a3f5f"
            },
            "marker": {
             "line": {
              "color": "#E5ECF6",
              "width": 0.5
             },
             "pattern": {
              "fillmode": "overlay",
              "size": 10,
              "solidity": 0.2
             }
            },
            "type": "bar"
           }
          ],
          "barpolar": [
           {
            "marker": {
             "line": {
              "color": "#E5ECF6",
              "width": 0.5
             },
             "pattern": {
              "fillmode": "overlay",
              "size": 10,
              "solidity": 0.2
             }
            },
            "type": "barpolar"
           }
          ],
          "carpet": [
           {
            "aaxis": {
             "endlinecolor": "#2a3f5f",
             "gridcolor": "white",
             "linecolor": "white",
             "minorgridcolor": "white",
             "startlinecolor": "#2a3f5f"
            },
            "baxis": {
             "endlinecolor": "#2a3f5f",
             "gridcolor": "white",
             "linecolor": "white",
             "minorgridcolor": "white",
             "startlinecolor": "#2a3f5f"
            },
            "type": "carpet"
           }
          ],
          "choropleth": [
           {
            "colorbar": {
             "outlinewidth": 0,
             "ticks": ""
            },
            "type": "choropleth"
           }
          ],
          "contour": [
           {
            "colorbar": {
             "outlinewidth": 0,
             "ticks": ""
            },
            "colorscale": [
             [
              0,
              "#0d0887"
             ],
             [
              0.1111111111111111,
              "#46039f"
             ],
             [
              0.2222222222222222,
              "#7201a8"
             ],
             [
              0.3333333333333333,
              "#9c179e"
             ],
             [
              0.4444444444444444,
              "#bd3786"
             ],
             [
              0.5555555555555556,
              "#d8576b"
             ],
             [
              0.6666666666666666,
              "#ed7953"
             ],
             [
              0.7777777777777778,
              "#fb9f3a"
             ],
             [
              0.8888888888888888,
              "#fdca26"
             ],
             [
              1,
              "#f0f921"
             ]
            ],
            "type": "contour"
           }
          ],
          "contourcarpet": [
           {
            "colorbar": {
             "outlinewidth": 0,
             "ticks": ""
            },
            "type": "contourcarpet"
           }
          ],
          "heatmap": [
           {
            "colorbar": {
             "outlinewidth": 0,
             "ticks": ""
            },
            "colorscale": [
             [
              0,
              "#0d0887"
             ],
             [
              0.1111111111111111,
              "#46039f"
             ],
             [
              0.2222222222222222,
              "#7201a8"
             ],
             [
              0.3333333333333333,
              "#9c179e"
             ],
             [
              0.4444444444444444,
              "#bd3786"
             ],
             [
              0.5555555555555556,
              "#d8576b"
             ],
             [
              0.6666666666666666,
              "#ed7953"
             ],
             [
              0.7777777777777778,
              "#fb9f3a"
             ],
             [
              0.8888888888888888,
              "#fdca26"
             ],
             [
              1,
              "#f0f921"
             ]
            ],
            "type": "heatmap"
           }
          ],
          "heatmapgl": [
           {
            "colorbar": {
             "outlinewidth": 0,
             "ticks": ""
            },
            "colorscale": [
             [
              0,
              "#0d0887"
             ],
             [
              0.1111111111111111,
              "#46039f"
             ],
             [
              0.2222222222222222,
              "#7201a8"
             ],
             [
              0.3333333333333333,
              "#9c179e"
             ],
             [
              0.4444444444444444,
              "#bd3786"
             ],
             [
              0.5555555555555556,
              "#d8576b"
             ],
             [
              0.6666666666666666,
              "#ed7953"
             ],
             [
              0.7777777777777778,
              "#fb9f3a"
             ],
             [
              0.8888888888888888,
              "#fdca26"
             ],
             [
              1,
              "#f0f921"
             ]
            ],
            "type": "heatmapgl"
           }
          ],
          "histogram": [
           {
            "marker": {
             "pattern": {
              "fillmode": "overlay",
              "size": 10,
              "solidity": 0.2
             }
            },
            "type": "histogram"
           }
          ],
          "histogram2d": [
           {
            "colorbar": {
             "outlinewidth": 0,
             "ticks": ""
            },
            "colorscale": [
             [
              0,
              "#0d0887"
             ],
             [
              0.1111111111111111,
              "#46039f"
             ],
             [
              0.2222222222222222,
              "#7201a8"
             ],
             [
              0.3333333333333333,
              "#9c179e"
             ],
             [
              0.4444444444444444,
              "#bd3786"
             ],
             [
              0.5555555555555556,
              "#d8576b"
             ],
             [
              0.6666666666666666,
              "#ed7953"
             ],
             [
              0.7777777777777778,
              "#fb9f3a"
             ],
             [
              0.8888888888888888,
              "#fdca26"
             ],
             [
              1,
              "#f0f921"
             ]
            ],
            "type": "histogram2d"
           }
          ],
          "histogram2dcontour": [
           {
            "colorbar": {
             "outlinewidth": 0,
             "ticks": ""
            },
            "colorscale": [
             [
              0,
              "#0d0887"
             ],
             [
              0.1111111111111111,
              "#46039f"
             ],
             [
              0.2222222222222222,
              "#7201a8"
             ],
             [
              0.3333333333333333,
              "#9c179e"
             ],
             [
              0.4444444444444444,
              "#bd3786"
             ],
             [
              0.5555555555555556,
              "#d8576b"
             ],
             [
              0.6666666666666666,
              "#ed7953"
             ],
             [
              0.7777777777777778,
              "#fb9f3a"
             ],
             [
              0.8888888888888888,
              "#fdca26"
             ],
             [
              1,
              "#f0f921"
             ]
            ],
            "type": "histogram2dcontour"
           }
          ],
          "mesh3d": [
           {
            "colorbar": {
             "outlinewidth": 0,
             "ticks": ""
            },
            "type": "mesh3d"
           }
          ],
          "parcoords": [
           {
            "line": {
             "colorbar": {
              "outlinewidth": 0,
              "ticks": ""
             }
            },
            "type": "parcoords"
           }
          ],
          "pie": [
           {
            "automargin": true,
            "type": "pie"
           }
          ],
          "scatter": [
           {
            "fillpattern": {
             "fillmode": "overlay",
             "size": 10,
             "solidity": 0.2
            },
            "type": "scatter"
           }
          ],
          "scatter3d": [
           {
            "line": {
             "colorbar": {
              "outlinewidth": 0,
              "ticks": ""
             }
            },
            "marker": {
             "colorbar": {
              "outlinewidth": 0,
              "ticks": ""
             }
            },
            "type": "scatter3d"
           }
          ],
          "scattercarpet": [
           {
            "marker": {
             "colorbar": {
              "outlinewidth": 0,
              "ticks": ""
             }
            },
            "type": "scattercarpet"
           }
          ],
          "scattergeo": [
           {
            "marker": {
             "colorbar": {
              "outlinewidth": 0,
              "ticks": ""
             }
            },
            "type": "scattergeo"
           }
          ],
          "scattergl": [
           {
            "marker": {
             "colorbar": {
              "outlinewidth": 0,
              "ticks": ""
             }
            },
            "type": "scattergl"
           }
          ],
          "scattermapbox": [
           {
            "marker": {
             "colorbar": {
              "outlinewidth": 0,
              "ticks": ""
             }
            },
            "type": "scattermapbox"
           }
          ],
          "scatterpolar": [
           {
            "marker": {
             "colorbar": {
              "outlinewidth": 0,
              "ticks": ""
             }
            },
            "type": "scatterpolar"
           }
          ],
          "scatterpolargl": [
           {
            "marker": {
             "colorbar": {
              "outlinewidth": 0,
              "ticks": ""
             }
            },
            "type": "scatterpolargl"
           }
          ],
          "scatterternary": [
           {
            "marker": {
             "colorbar": {
              "outlinewidth": 0,
              "ticks": ""
             }
            },
            "type": "scatterternary"
           }
          ],
          "surface": [
           {
            "colorbar": {
             "outlinewidth": 0,
             "ticks": ""
            },
            "colorscale": [
             [
              0,
              "#0d0887"
             ],
             [
              0.1111111111111111,
              "#46039f"
             ],
             [
              0.2222222222222222,
              "#7201a8"
             ],
             [
              0.3333333333333333,
              "#9c179e"
             ],
             [
              0.4444444444444444,
              "#bd3786"
             ],
             [
              0.5555555555555556,
              "#d8576b"
             ],
             [
              0.6666666666666666,
              "#ed7953"
             ],
             [
              0.7777777777777778,
              "#fb9f3a"
             ],
             [
              0.8888888888888888,
              "#fdca26"
             ],
             [
              1,
              "#f0f921"
             ]
            ],
            "type": "surface"
           }
          ],
          "table": [
           {
            "cells": {
             "fill": {
              "color": "#EBF0F8"
             },
             "line": {
              "color": "white"
             }
            },
            "header": {
             "fill": {
              "color": "#C8D4E3"
             },
             "line": {
              "color": "white"
             }
            },
            "type": "table"
           }
          ]
         },
         "layout": {
          "annotationdefaults": {
           "arrowcolor": "#2a3f5f",
           "arrowhead": 0,
           "arrowwidth": 1
          },
          "autotypenumbers": "strict",
          "coloraxis": {
           "colorbar": {
            "outlinewidth": 0,
            "ticks": ""
           }
          },
          "colorscale": {
           "diverging": [
            [
             0,
             "#8e0152"
            ],
            [
             0.1,
             "#c51b7d"
            ],
            [
             0.2,
             "#de77ae"
            ],
            [
             0.3,
             "#f1b6da"
            ],
            [
             0.4,
             "#fde0ef"
            ],
            [
             0.5,
             "#f7f7f7"
            ],
            [
             0.6,
             "#e6f5d0"
            ],
            [
             0.7,
             "#b8e186"
            ],
            [
             0.8,
             "#7fbc41"
            ],
            [
             0.9,
             "#4d9221"
            ],
            [
             1,
             "#276419"
            ]
           ],
           "sequential": [
            [
             0,
             "#0d0887"
            ],
            [
             0.1111111111111111,
             "#46039f"
            ],
            [
             0.2222222222222222,
             "#7201a8"
            ],
            [
             0.3333333333333333,
             "#9c179e"
            ],
            [
             0.4444444444444444,
             "#bd3786"
            ],
            [
             0.5555555555555556,
             "#d8576b"
            ],
            [
             0.6666666666666666,
             "#ed7953"
            ],
            [
             0.7777777777777778,
             "#fb9f3a"
            ],
            [
             0.8888888888888888,
             "#fdca26"
            ],
            [
             1,
             "#f0f921"
            ]
           ],
           "sequentialminus": [
            [
             0,
             "#0d0887"
            ],
            [
             0.1111111111111111,
             "#46039f"
            ],
            [
             0.2222222222222222,
             "#7201a8"
            ],
            [
             0.3333333333333333,
             "#9c179e"
            ],
            [
             0.4444444444444444,
             "#bd3786"
            ],
            [
             0.5555555555555556,
             "#d8576b"
            ],
            [
             0.6666666666666666,
             "#ed7953"
            ],
            [
             0.7777777777777778,
             "#fb9f3a"
            ],
            [
             0.8888888888888888,
             "#fdca26"
            ],
            [
             1,
             "#f0f921"
            ]
           ]
          },
          "colorway": [
           "#636efa",
           "#EF553B",
           "#00cc96",
           "#ab63fa",
           "#FFA15A",
           "#19d3f3",
           "#FF6692",
           "#B6E880",
           "#FF97FF",
           "#FECB52"
          ],
          "font": {
           "color": "#2a3f5f"
          },
          "geo": {
           "bgcolor": "white",
           "lakecolor": "white",
           "landcolor": "#E5ECF6",
           "showlakes": true,
           "showland": true,
           "subunitcolor": "white"
          },
          "hoverlabel": {
           "align": "left"
          },
          "hovermode": "closest",
          "mapbox": {
           "style": "light"
          },
          "paper_bgcolor": "white",
          "plot_bgcolor": "#E5ECF6",
          "polar": {
           "angularaxis": {
            "gridcolor": "white",
            "linecolor": "white",
            "ticks": ""
           },
           "bgcolor": "#E5ECF6",
           "radialaxis": {
            "gridcolor": "white",
            "linecolor": "white",
            "ticks": ""
           }
          },
          "scene": {
           "xaxis": {
            "backgroundcolor": "#E5ECF6",
            "gridcolor": "white",
            "gridwidth": 2,
            "linecolor": "white",
            "showbackground": true,
            "ticks": "",
            "zerolinecolor": "white"
           },
           "yaxis": {
            "backgroundcolor": "#E5ECF6",
            "gridcolor": "white",
            "gridwidth": 2,
            "linecolor": "white",
            "showbackground": true,
            "ticks": "",
            "zerolinecolor": "white"
           },
           "zaxis": {
            "backgroundcolor": "#E5ECF6",
            "gridcolor": "white",
            "gridwidth": 2,
            "linecolor": "white",
            "showbackground": true,
            "ticks": "",
            "zerolinecolor": "white"
           }
          },
          "shapedefaults": {
           "line": {
            "color": "#2a3f5f"
           }
          },
          "ternary": {
           "aaxis": {
            "gridcolor": "white",
            "linecolor": "white",
            "ticks": ""
           },
           "baxis": {
            "gridcolor": "white",
            "linecolor": "white",
            "ticks": ""
           },
           "bgcolor": "#E5ECF6",
           "caxis": {
            "gridcolor": "white",
            "linecolor": "white",
            "ticks": ""
           }
          },
          "title": {
           "x": 0.05
          },
          "xaxis": {
           "automargin": true,
           "gridcolor": "white",
           "linecolor": "white",
           "ticks": "",
           "title": {
            "standoff": 15
           },
           "zerolinecolor": "white",
           "zerolinewidth": 2
          },
          "yaxis": {
           "automargin": true,
           "gridcolor": "white",
           "linecolor": "white",
           "ticks": "",
           "title": {
            "standoff": 15
           },
           "zerolinecolor": "white",
           "zerolinewidth": 2
          }
         }
        }
       }
      }
     },
     "metadata": {},
     "output_type": "display_data"
    }
   ],
   "source": [
    "fig = go.Figure()\n",
    "\n",
    "fig.add_trace(go.Scatter(x=df_anos['year'], y=df_anos['acousticness'], name='Acousticness'))\n",
    "fig.add_trace(go.Scatter(x=df_anos['year'], y=df_anos['valence'], name='Valence'))\n",
    "fig.add_trace(go.Scatter(x=df_anos['year'], y=df_anos['danceability'], name='Danceability'))\n",
    "fig.add_trace(go.Scatter(x=df_anos['year'], y=df_anos['energy'], name='Energy'))\n",
    "fig.add_trace(go.Scatter(x=df_anos['year'], y=df_anos['instrumentalness'], name='Instrumentalness'))\n",
    "fig.add_trace(go.Scatter(x=df_anos['year'], y=df_anos['liveness'], name='Liveness'))\n",
    "fig.add_trace(go.Scatter(x=df_anos['year'], y=df_anos['speechiness'], name='Speechiness'))\n",
    "\n",
    "fig.show()"
   ]
  },
  {
   "cell_type": "code",
   "execution_count": 111,
   "metadata": {},
   "outputs": [
    {
     "name": "stderr",
     "output_type": "stream",
     "text": [
      "C:\\Users\\laurivan\\AppData\\Local\\Temp\\ipykernel_10276\\408586802.py:1: FutureWarning:\n",
      "\n",
      "The default value of numeric_only in DataFrame.corr is deprecated. In a future version, it will default to False. Select only valid columns or specify the value of numeric_only to silence this warning.\n",
      "\n"
     ]
    },
    {
     "data": {
      "application/vnd.plotly.v1+json": {
       "config": {
        "plotlyServerURL": "https://plot.ly"
       },
       "data": [
        {
         "coloraxis": "coloraxis",
         "hovertemplate": "x: %{x}<br>y: %{y}<br>color: %{z}<extra></extra>",
         "name": "0",
         "texttemplate": "%{z}",
         "type": "heatmap",
         "x": [
          "valence",
          "year",
          "acousticness",
          "danceability",
          "duration_ms",
          "energy",
          "instrumentalness",
          "liveness",
          "loudness",
          "popularity",
          "speechiness",
          "tempo"
         ],
         "xaxis": "x",
         "y": [
          "valence",
          "year",
          "acousticness",
          "danceability",
          "duration_ms",
          "energy",
          "instrumentalness",
          "liveness",
          "loudness",
          "popularity",
          "speechiness",
          "tempo"
         ],
         "yaxis": "y",
         "z": [
          [
           1,
           -0.11152818996552269,
           -0.17906507578880113,
           0.4706016928505381,
           -0.19255117869290994,
           0.35029199798428345,
           -0.2557841048653347,
           0.02221366049722543,
           0.3378977669900986,
           -0.02666406634639214,
           0.08252614933102408,
           0.07315334866798318
          ],
          [
           -0.11152818996552269,
           1,
           -0.011224012558530316,
           0.17440028973064198,
           -0.14627395555186518,
           -0.06995658525945365,
           -0.13203456252176587,
           -0.04295002368784964,
           0.052483197651396335,
           0.5520537744643068,
           0.12405143773766447,
           0.02311722172289499
          ],
          [
           -0.17906507578880113,
           -0.011224012558530316,
           1,
           -0.1758942916516538,
           -0.05596681465486787,
           -0.7091107964699702,
           0.29973973152822125,
           -0.09844289738151028,
           -0.6036127005064934,
           -0.03187901141421101,
           -0.12082482277726948,
           -0.15474122793050457
          ],
          [
           0.4706016928505381,
           0.17440028973064198,
           -0.1758942916516538,
           1,
           -0.15971497774585897,
           0.08735820678113757,
           -0.3142998559030547,
           -0.0696597044523255,
           0.2679343205070181,
           0.1809607849711362,
           0.2267015756782655,
           -0.09486499562608043
          ],
          [
           -0.19255117869290994,
           -0.14627395555186518,
           -0.05596681465486787,
           -0.15971497774585897,
           1,
           0.014565108670534132,
           0.07164598789913075,
           0.052743206410793615,
           -0.017003038059048684,
           -0.10932110003241752,
           -0.02851359221465405,
           -0.028602148844984
          ],
          [
           0.35029199798428345,
           -0.06995658525945365,
           -0.7091107964699702,
           0.08735820678113757,
           0.014565108670534132,
           1,
           -0.3164682501295295,
           0.17387777376175623,
           0.7595724242928918,
           -0.028459539491050623,
           0.11401773090551177,
           0.1916455676981815
          ],
          [
           -0.2557841048653347,
           -0.13203456252176587,
           0.29973973152822125,
           -0.3142998559030547,
           0.07164598789913075,
           -0.3164682501295295,
           1,
           -0.06234712806061889,
           -0.5588938236531733,
           -0.12504620012490858,
           -0.1371187140191706,
           -0.09444020881622293
          ],
          [
           0.02221366049722543,
           -0.04295002368784964,
           -0.09844289738151028,
           -0.0696597044523255,
           0.052743206410793615,
           0.17387777376175623,
           -0.06234712806061889,
           1,
           0.09144172661855732,
           -0.06860593075406679,
           0.11955070410710385,
           0.014857567069808593
          ],
          [
           0.3378977669900986,
           0.052483197651396335,
           -0.6036127005064934,
           0.2679343205070181,
           -0.017003038059048684,
           0.7595724242928918,
           -0.5588938236531733,
           0.09144172661855732,
           1,
           0.09292468076617552,
           0.07902873344113712,
           0.18045939002871472
          ],
          [
           -0.02666406634639214,
           0.5520537744643068,
           -0.03187901141421101,
           0.1809607849711362,
           -0.10932110003241752,
           -0.028459539491050623,
           -0.12504620012490858,
           -0.06860593075406679,
           0.09292468076617552,
           1,
           0.057125553208252515,
           -0.00033755419876421543
          ],
          [
           0.08252614933102408,
           0.12405143773766447,
           -0.12082482277726948,
           0.2267015756782655,
           -0.02851359221465405,
           0.11401773090551177,
           -0.1371187140191706,
           0.11955070410710385,
           0.07902873344113712,
           0.057125553208252515,
           1,
           0.04062153175888837
          ],
          [
           0.07315334866798318,
           0.02311722172289499,
           -0.15474122793050457,
           -0.09486499562608043,
           -0.028602148844984,
           0.1916455676981815,
           -0.09444020881622293,
           0.014857567069808593,
           0.18045939002871472,
           -0.00033755419876421543,
           0.04062153175888837,
           1
          ]
         ]
        }
       ],
       "layout": {
        "coloraxis": {
         "colorscale": [
          [
           0,
           "#0d0887"
          ],
          [
           0.1111111111111111,
           "#46039f"
          ],
          [
           0.2222222222222222,
           "#7201a8"
          ],
          [
           0.3333333333333333,
           "#9c179e"
          ],
          [
           0.4444444444444444,
           "#bd3786"
          ],
          [
           0.5555555555555556,
           "#d8576b"
          ],
          [
           0.6666666666666666,
           "#ed7953"
          ],
          [
           0.7777777777777778,
           "#fb9f3a"
          ],
          [
           0.8888888888888888,
           "#fdca26"
          ],
          [
           1,
           "#f0f921"
          ]
         ]
        },
        "margin": {
         "t": 60
        },
        "template": {
         "data": {
          "bar": [
           {
            "error_x": {
             "color": "#2a3f5f"
            },
            "error_y": {
             "color": "#2a3f5f"
            },
            "marker": {
             "line": {
              "color": "#E5ECF6",
              "width": 0.5
             },
             "pattern": {
              "fillmode": "overlay",
              "size": 10,
              "solidity": 0.2
             }
            },
            "type": "bar"
           }
          ],
          "barpolar": [
           {
            "marker": {
             "line": {
              "color": "#E5ECF6",
              "width": 0.5
             },
             "pattern": {
              "fillmode": "overlay",
              "size": 10,
              "solidity": 0.2
             }
            },
            "type": "barpolar"
           }
          ],
          "carpet": [
           {
            "aaxis": {
             "endlinecolor": "#2a3f5f",
             "gridcolor": "white",
             "linecolor": "white",
             "minorgridcolor": "white",
             "startlinecolor": "#2a3f5f"
            },
            "baxis": {
             "endlinecolor": "#2a3f5f",
             "gridcolor": "white",
             "linecolor": "white",
             "minorgridcolor": "white",
             "startlinecolor": "#2a3f5f"
            },
            "type": "carpet"
           }
          ],
          "choropleth": [
           {
            "colorbar": {
             "outlinewidth": 0,
             "ticks": ""
            },
            "type": "choropleth"
           }
          ],
          "contour": [
           {
            "colorbar": {
             "outlinewidth": 0,
             "ticks": ""
            },
            "colorscale": [
             [
              0,
              "#0d0887"
             ],
             [
              0.1111111111111111,
              "#46039f"
             ],
             [
              0.2222222222222222,
              "#7201a8"
             ],
             [
              0.3333333333333333,
              "#9c179e"
             ],
             [
              0.4444444444444444,
              "#bd3786"
             ],
             [
              0.5555555555555556,
              "#d8576b"
             ],
             [
              0.6666666666666666,
              "#ed7953"
             ],
             [
              0.7777777777777778,
              "#fb9f3a"
             ],
             [
              0.8888888888888888,
              "#fdca26"
             ],
             [
              1,
              "#f0f921"
             ]
            ],
            "type": "contour"
           }
          ],
          "contourcarpet": [
           {
            "colorbar": {
             "outlinewidth": 0,
             "ticks": ""
            },
            "type": "contourcarpet"
           }
          ],
          "heatmap": [
           {
            "colorbar": {
             "outlinewidth": 0,
             "ticks": ""
            },
            "colorscale": [
             [
              0,
              "#0d0887"
             ],
             [
              0.1111111111111111,
              "#46039f"
             ],
             [
              0.2222222222222222,
              "#7201a8"
             ],
             [
              0.3333333333333333,
              "#9c179e"
             ],
             [
              0.4444444444444444,
              "#bd3786"
             ],
             [
              0.5555555555555556,
              "#d8576b"
             ],
             [
              0.6666666666666666,
              "#ed7953"
             ],
             [
              0.7777777777777778,
              "#fb9f3a"
             ],
             [
              0.8888888888888888,
              "#fdca26"
             ],
             [
              1,
              "#f0f921"
             ]
            ],
            "type": "heatmap"
           }
          ],
          "heatmapgl": [
           {
            "colorbar": {
             "outlinewidth": 0,
             "ticks": ""
            },
            "colorscale": [
             [
              0,
              "#0d0887"
             ],
             [
              0.1111111111111111,
              "#46039f"
             ],
             [
              0.2222222222222222,
              "#7201a8"
             ],
             [
              0.3333333333333333,
              "#9c179e"
             ],
             [
              0.4444444444444444,
              "#bd3786"
             ],
             [
              0.5555555555555556,
              "#d8576b"
             ],
             [
              0.6666666666666666,
              "#ed7953"
             ],
             [
              0.7777777777777778,
              "#fb9f3a"
             ],
             [
              0.8888888888888888,
              "#fdca26"
             ],
             [
              1,
              "#f0f921"
             ]
            ],
            "type": "heatmapgl"
           }
          ],
          "histogram": [
           {
            "marker": {
             "pattern": {
              "fillmode": "overlay",
              "size": 10,
              "solidity": 0.2
             }
            },
            "type": "histogram"
           }
          ],
          "histogram2d": [
           {
            "colorbar": {
             "outlinewidth": 0,
             "ticks": ""
            },
            "colorscale": [
             [
              0,
              "#0d0887"
             ],
             [
              0.1111111111111111,
              "#46039f"
             ],
             [
              0.2222222222222222,
              "#7201a8"
             ],
             [
              0.3333333333333333,
              "#9c179e"
             ],
             [
              0.4444444444444444,
              "#bd3786"
             ],
             [
              0.5555555555555556,
              "#d8576b"
             ],
             [
              0.6666666666666666,
              "#ed7953"
             ],
             [
              0.7777777777777778,
              "#fb9f3a"
             ],
             [
              0.8888888888888888,
              "#fdca26"
             ],
             [
              1,
              "#f0f921"
             ]
            ],
            "type": "histogram2d"
           }
          ],
          "histogram2dcontour": [
           {
            "colorbar": {
             "outlinewidth": 0,
             "ticks": ""
            },
            "colorscale": [
             [
              0,
              "#0d0887"
             ],
             [
              0.1111111111111111,
              "#46039f"
             ],
             [
              0.2222222222222222,
              "#7201a8"
             ],
             [
              0.3333333333333333,
              "#9c179e"
             ],
             [
              0.4444444444444444,
              "#bd3786"
             ],
             [
              0.5555555555555556,
              "#d8576b"
             ],
             [
              0.6666666666666666,
              "#ed7953"
             ],
             [
              0.7777777777777778,
              "#fb9f3a"
             ],
             [
              0.8888888888888888,
              "#fdca26"
             ],
             [
              1,
              "#f0f921"
             ]
            ],
            "type": "histogram2dcontour"
           }
          ],
          "mesh3d": [
           {
            "colorbar": {
             "outlinewidth": 0,
             "ticks": ""
            },
            "type": "mesh3d"
           }
          ],
          "parcoords": [
           {
            "line": {
             "colorbar": {
              "outlinewidth": 0,
              "ticks": ""
             }
            },
            "type": "parcoords"
           }
          ],
          "pie": [
           {
            "automargin": true,
            "type": "pie"
           }
          ],
          "scatter": [
           {
            "fillpattern": {
             "fillmode": "overlay",
             "size": 10,
             "solidity": 0.2
            },
            "type": "scatter"
           }
          ],
          "scatter3d": [
           {
            "line": {
             "colorbar": {
              "outlinewidth": 0,
              "ticks": ""
             }
            },
            "marker": {
             "colorbar": {
              "outlinewidth": 0,
              "ticks": ""
             }
            },
            "type": "scatter3d"
           }
          ],
          "scattercarpet": [
           {
            "marker": {
             "colorbar": {
              "outlinewidth": 0,
              "ticks": ""
             }
            },
            "type": "scattercarpet"
           }
          ],
          "scattergeo": [
           {
            "marker": {
             "colorbar": {
              "outlinewidth": 0,
              "ticks": ""
             }
            },
            "type": "scattergeo"
           }
          ],
          "scattergl": [
           {
            "marker": {
             "colorbar": {
              "outlinewidth": 0,
              "ticks": ""
             }
            },
            "type": "scattergl"
           }
          ],
          "scattermapbox": [
           {
            "marker": {
             "colorbar": {
              "outlinewidth": 0,
              "ticks": ""
             }
            },
            "type": "scattermapbox"
           }
          ],
          "scatterpolar": [
           {
            "marker": {
             "colorbar": {
              "outlinewidth": 0,
              "ticks": ""
             }
            },
            "type": "scatterpolar"
           }
          ],
          "scatterpolargl": [
           {
            "marker": {
             "colorbar": {
              "outlinewidth": 0,
              "ticks": ""
             }
            },
            "type": "scatterpolargl"
           }
          ],
          "scatterternary": [
           {
            "marker": {
             "colorbar": {
              "outlinewidth": 0,
              "ticks": ""
             }
            },
            "type": "scatterternary"
           }
          ],
          "surface": [
           {
            "colorbar": {
             "outlinewidth": 0,
             "ticks": ""
            },
            "colorscale": [
             [
              0,
              "#0d0887"
             ],
             [
              0.1111111111111111,
              "#46039f"
             ],
             [
              0.2222222222222222,
              "#7201a8"
             ],
             [
              0.3333333333333333,
              "#9c179e"
             ],
             [
              0.4444444444444444,
              "#bd3786"
             ],
             [
              0.5555555555555556,
              "#d8576b"
             ],
             [
              0.6666666666666666,
              "#ed7953"
             ],
             [
              0.7777777777777778,
              "#fb9f3a"
             ],
             [
              0.8888888888888888,
              "#fdca26"
             ],
             [
              1,
              "#f0f921"
             ]
            ],
            "type": "surface"
           }
          ],
          "table": [
           {
            "cells": {
             "fill": {
              "color": "#EBF0F8"
             },
             "line": {
              "color": "white"
             }
            },
            "header": {
             "fill": {
              "color": "#C8D4E3"
             },
             "line": {
              "color": "white"
             }
            },
            "type": "table"
           }
          ]
         },
         "layout": {
          "annotationdefaults": {
           "arrowcolor": "#2a3f5f",
           "arrowhead": 0,
           "arrowwidth": 1
          },
          "autotypenumbers": "strict",
          "coloraxis": {
           "colorbar": {
            "outlinewidth": 0,
            "ticks": ""
           }
          },
          "colorscale": {
           "diverging": [
            [
             0,
             "#8e0152"
            ],
            [
             0.1,
             "#c51b7d"
            ],
            [
             0.2,
             "#de77ae"
            ],
            [
             0.3,
             "#f1b6da"
            ],
            [
             0.4,
             "#fde0ef"
            ],
            [
             0.5,
             "#f7f7f7"
            ],
            [
             0.6,
             "#e6f5d0"
            ],
            [
             0.7,
             "#b8e186"
            ],
            [
             0.8,
             "#7fbc41"
            ],
            [
             0.9,
             "#4d9221"
            ],
            [
             1,
             "#276419"
            ]
           ],
           "sequential": [
            [
             0,
             "#0d0887"
            ],
            [
             0.1111111111111111,
             "#46039f"
            ],
            [
             0.2222222222222222,
             "#7201a8"
            ],
            [
             0.3333333333333333,
             "#9c179e"
            ],
            [
             0.4444444444444444,
             "#bd3786"
            ],
            [
             0.5555555555555556,
             "#d8576b"
            ],
            [
             0.6666666666666666,
             "#ed7953"
            ],
            [
             0.7777777777777778,
             "#fb9f3a"
            ],
            [
             0.8888888888888888,
             "#fdca26"
            ],
            [
             1,
             "#f0f921"
            ]
           ],
           "sequentialminus": [
            [
             0,
             "#0d0887"
            ],
            [
             0.1111111111111111,
             "#46039f"
            ],
            [
             0.2222222222222222,
             "#7201a8"
            ],
            [
             0.3333333333333333,
             "#9c179e"
            ],
            [
             0.4444444444444444,
             "#bd3786"
            ],
            [
             0.5555555555555556,
             "#d8576b"
            ],
            [
             0.6666666666666666,
             "#ed7953"
            ],
            [
             0.7777777777777778,
             "#fb9f3a"
            ],
            [
             0.8888888888888888,
             "#fdca26"
            ],
            [
             1,
             "#f0f921"
            ]
           ]
          },
          "colorway": [
           "#636efa",
           "#EF553B",
           "#00cc96",
           "#ab63fa",
           "#FFA15A",
           "#19d3f3",
           "#FF6692",
           "#B6E880",
           "#FF97FF",
           "#FECB52"
          ],
          "font": {
           "color": "#2a3f5f"
          },
          "geo": {
           "bgcolor": "white",
           "lakecolor": "white",
           "landcolor": "#E5ECF6",
           "showlakes": true,
           "showland": true,
           "subunitcolor": "white"
          },
          "hoverlabel": {
           "align": "left"
          },
          "hovermode": "closest",
          "mapbox": {
           "style": "light"
          },
          "paper_bgcolor": "white",
          "plot_bgcolor": "#E5ECF6",
          "polar": {
           "angularaxis": {
            "gridcolor": "white",
            "linecolor": "white",
            "ticks": ""
           },
           "bgcolor": "#E5ECF6",
           "radialaxis": {
            "gridcolor": "white",
            "linecolor": "white",
            "ticks": ""
           }
          },
          "scene": {
           "xaxis": {
            "backgroundcolor": "#E5ECF6",
            "gridcolor": "white",
            "gridwidth": 2,
            "linecolor": "white",
            "showbackground": true,
            "ticks": "",
            "zerolinecolor": "white"
           },
           "yaxis": {
            "backgroundcolor": "#E5ECF6",
            "gridcolor": "white",
            "gridwidth": 2,
            "linecolor": "white",
            "showbackground": true,
            "ticks": "",
            "zerolinecolor": "white"
           },
           "zaxis": {
            "backgroundcolor": "#E5ECF6",
            "gridcolor": "white",
            "gridwidth": 2,
            "linecolor": "white",
            "showbackground": true,
            "ticks": "",
            "zerolinecolor": "white"
           }
          },
          "shapedefaults": {
           "line": {
            "color": "#2a3f5f"
           }
          },
          "ternary": {
           "aaxis": {
            "gridcolor": "white",
            "linecolor": "white",
            "ticks": ""
           },
           "baxis": {
            "gridcolor": "white",
            "linecolor": "white",
            "ticks": ""
           },
           "bgcolor": "#E5ECF6",
           "caxis": {
            "gridcolor": "white",
            "linecolor": "white",
            "ticks": ""
           }
          },
          "title": {
           "x": 0.05
          },
          "xaxis": {
           "automargin": true,
           "gridcolor": "white",
           "linecolor": "white",
           "ticks": "",
           "title": {
            "standoff": 15
           },
           "zerolinecolor": "white",
           "zerolinewidth": 2
          },
          "yaxis": {
           "automargin": true,
           "gridcolor": "white",
           "linecolor": "white",
           "ticks": "",
           "title": {
            "standoff": 15
           },
           "zerolinecolor": "white",
           "zerolinewidth": 2
          }
         }
        },
        "xaxis": {
         "anchor": "y",
         "constrain": "domain",
         "domain": [
          0,
          1
         ],
         "scaleanchor": "y"
        },
        "yaxis": {
         "anchor": "x",
         "autorange": "reversed",
         "constrain": "domain",
         "domain": [
          0,
          1
         ]
        }
       }
      }
     },
     "metadata": {},
     "output_type": "display_data"
    }
   ],
   "source": [
    "fig = px.imshow(df_dados.corr(), text_auto=True)\n",
    "fig.show()"
   ]
  },
  {
   "cell_type": "markdown",
   "metadata": {},
   "source": [
    "# Preparação dos Dados"
   ]
  },
  {
   "cell_type": "markdown",
   "metadata": {},
   "source": [
    "## Pipeline"
   ]
  },
  {
   "cell_type": "markdown",
   "metadata": {},
   "source": [
    "Aplicando StandardScaler e PCA usando Pipeline"
   ]
  },
  {
   "cell_type": "code",
   "execution_count": 91,
   "metadata": {},
   "outputs": [],
   "source": [
    "SEED = 1234\n",
    "pca_pipeline = Pipeline([\n",
    "    ('scaler', StandardScaler()), \n",
    "    ('PCA', PCA(n_components=2, random_state=SEED))])"
   ]
  },
  {
   "cell_type": "code",
   "execution_count": 92,
   "metadata": {},
   "outputs": [
    {
     "data": {
      "text/html": [
       "<div>\n",
       "<style scoped>\n",
       "    .dataframe tbody tr th:only-of-type {\n",
       "        vertical-align: middle;\n",
       "    }\n",
       "\n",
       "    .dataframe tbody tr th {\n",
       "        vertical-align: top;\n",
       "    }\n",
       "\n",
       "    .dataframe thead th {\n",
       "        text-align: right;\n",
       "    }\n",
       "</style>\n",
       "<table border=\"1\" class=\"dataframe\">\n",
       "  <thead>\n",
       "    <tr style=\"text-align: right;\">\n",
       "      <th></th>\n",
       "      <th>acousticness</th>\n",
       "      <th>danceability</th>\n",
       "      <th>duration_ms</th>\n",
       "      <th>energy</th>\n",
       "      <th>instrumentalness</th>\n",
       "      <th>liveness</th>\n",
       "      <th>loudness</th>\n",
       "      <th>speechiness</th>\n",
       "      <th>tempo</th>\n",
       "      <th>valence</th>\n",
       "      <th>popularity</th>\n",
       "    </tr>\n",
       "  </thead>\n",
       "  <tbody>\n",
       "    <tr>\n",
       "      <th>0</th>\n",
       "      <td>0.979333</td>\n",
       "      <td>0.162883</td>\n",
       "      <td>1.602977e+05</td>\n",
       "      <td>0.071317</td>\n",
       "      <td>0.606834</td>\n",
       "      <td>0.361600</td>\n",
       "      <td>-31.514333</td>\n",
       "      <td>0.040567</td>\n",
       "      <td>75.336500</td>\n",
       "      <td>0.103783</td>\n",
       "      <td>27.833333</td>\n",
       "    </tr>\n",
       "    <tr>\n",
       "      <th>1</th>\n",
       "      <td>0.494780</td>\n",
       "      <td>0.299333</td>\n",
       "      <td>1.048887e+06</td>\n",
       "      <td>0.450678</td>\n",
       "      <td>0.477762</td>\n",
       "      <td>0.131000</td>\n",
       "      <td>-16.854000</td>\n",
       "      <td>0.076817</td>\n",
       "      <td>120.285667</td>\n",
       "      <td>0.221750</td>\n",
       "      <td>52.500000</td>\n",
       "    </tr>\n",
       "    <tr>\n",
       "      <th>2</th>\n",
       "      <td>0.762000</td>\n",
       "      <td>0.712000</td>\n",
       "      <td>1.151770e+05</td>\n",
       "      <td>0.818000</td>\n",
       "      <td>0.876000</td>\n",
       "      <td>0.126000</td>\n",
       "      <td>-9.180000</td>\n",
       "      <td>0.047000</td>\n",
       "      <td>133.444000</td>\n",
       "      <td>0.975000</td>\n",
       "      <td>48.000000</td>\n",
       "    </tr>\n",
       "    <tr>\n",
       "      <th>3</th>\n",
       "      <td>0.651417</td>\n",
       "      <td>0.529093</td>\n",
       "      <td>2.328809e+05</td>\n",
       "      <td>0.419146</td>\n",
       "      <td>0.205309</td>\n",
       "      <td>0.218696</td>\n",
       "      <td>-12.288965</td>\n",
       "      <td>0.107872</td>\n",
       "      <td>112.857352</td>\n",
       "      <td>0.513604</td>\n",
       "      <td>20.859882</td>\n",
       "    </tr>\n",
       "    <tr>\n",
       "      <th>4</th>\n",
       "      <td>0.676557</td>\n",
       "      <td>0.538961</td>\n",
       "      <td>1.906285e+05</td>\n",
       "      <td>0.316434</td>\n",
       "      <td>0.003003</td>\n",
       "      <td>0.172254</td>\n",
       "      <td>-12.479387</td>\n",
       "      <td>0.082851</td>\n",
       "      <td>112.110362</td>\n",
       "      <td>0.448249</td>\n",
       "      <td>45.820071</td>\n",
       "    </tr>\n",
       "  </tbody>\n",
       "</table>\n",
       "</div>"
      ],
      "text/plain": [
       "   acousticness  danceability   duration_ms    energy  instrumentalness  \\\n",
       "0      0.979333      0.162883  1.602977e+05  0.071317          0.606834   \n",
       "1      0.494780      0.299333  1.048887e+06  0.450678          0.477762   \n",
       "2      0.762000      0.712000  1.151770e+05  0.818000          0.876000   \n",
       "3      0.651417      0.529093  2.328809e+05  0.419146          0.205309   \n",
       "4      0.676557      0.538961  1.906285e+05  0.316434          0.003003   \n",
       "\n",
       "   liveness   loudness  speechiness       tempo   valence  popularity  \n",
       "0  0.361600 -31.514333     0.040567   75.336500  0.103783   27.833333  \n",
       "1  0.131000 -16.854000     0.076817  120.285667  0.221750   52.500000  \n",
       "2  0.126000  -9.180000     0.047000  133.444000  0.975000   48.000000  \n",
       "3  0.218696 -12.288965     0.107872  112.857352  0.513604   20.859882  \n",
       "4  0.172254 -12.479387     0.082851  112.110362  0.448249   45.820071  "
      ]
     },
     "execution_count": 92,
     "metadata": {},
     "output_type": "execute_result"
    }
   ],
   "source": [
    "df_generos2 = df_generos.drop('genres', axis=1)\n",
    "df_generos2.head()"
   ]
  },
  {
   "cell_type": "code",
   "execution_count": 93,
   "metadata": {},
   "outputs": [
    {
     "data": {
      "text/html": [
       "<div>\n",
       "<style scoped>\n",
       "    .dataframe tbody tr th:only-of-type {\n",
       "        vertical-align: middle;\n",
       "    }\n",
       "\n",
       "    .dataframe tbody tr th {\n",
       "        vertical-align: top;\n",
       "    }\n",
       "\n",
       "    .dataframe thead th {\n",
       "        text-align: right;\n",
       "    }\n",
       "</style>\n",
       "<table border=\"1\" class=\"dataframe\">\n",
       "  <thead>\n",
       "    <tr style=\"text-align: right;\">\n",
       "      <th></th>\n",
       "      <th>x</th>\n",
       "      <th>y</th>\n",
       "    </tr>\n",
       "  </thead>\n",
       "  <tbody>\n",
       "    <tr>\n",
       "      <th>0</th>\n",
       "      <td>5.910268</td>\n",
       "      <td>-0.011146</td>\n",
       "    </tr>\n",
       "    <tr>\n",
       "      <th>1</th>\n",
       "      <td>2.787093</td>\n",
       "      <td>4.498483</td>\n",
       "    </tr>\n",
       "    <tr>\n",
       "      <th>2</th>\n",
       "      <td>-0.757538</td>\n",
       "      <td>-1.258495</td>\n",
       "    </tr>\n",
       "    <tr>\n",
       "      <th>3</th>\n",
       "      <td>1.020521</td>\n",
       "      <td>-0.931690</td>\n",
       "    </tr>\n",
       "    <tr>\n",
       "      <th>4</th>\n",
       "      <td>0.753911</td>\n",
       "      <td>-0.999861</td>\n",
       "    </tr>\n",
       "  </tbody>\n",
       "</table>\n",
       "</div>"
      ],
      "text/plain": [
       "          x         y\n",
       "0  5.910268 -0.011146\n",
       "1  2.787093  4.498483\n",
       "2 -0.757538 -1.258495\n",
       "3  1.020521 -0.931690\n",
       "4  0.753911 -0.999861"
      ]
     },
     "execution_count": 93,
     "metadata": {},
     "output_type": "execute_result"
    }
   ],
   "source": [
    "generos_embedding_pca = pca_pipeline.fit_transform(df_generos2)\n",
    "projecao = pd.DataFrame(generos_embedding_pca, columns=['x', 'y'])\n",
    "projecao.head()"
   ]
  },
  {
   "cell_type": "markdown",
   "metadata": {},
   "source": [
    "# Seleção de Features"
   ]
  },
  {
   "cell_type": "markdown",
   "metadata": {},
   "source": [
    "Neste ciclo serão usadas todas as features para obter o baseline."
   ]
  },
  {
   "cell_type": "markdown",
   "metadata": {},
   "source": [
    "# Machine Learning"
   ]
  },
  {
   "cell_type": "code",
   "execution_count": 94,
   "metadata": {},
   "outputs": [],
   "source": [
    "kmeans = KMeans(n_clusters=5, random_state=SEED)\n",
    "kmeans.fit(projecao)\n",
    "df_generos['cluster'] = kmeans.predict(projecao)\n",
    "projecao['cluster'] = df_generos['cluster']"
   ]
  },
  {
   "cell_type": "code",
   "execution_count": 97,
   "metadata": {},
   "outputs": [
    {
     "data": {
      "text/html": [
       "<div>\n",
       "<style scoped>\n",
       "    .dataframe tbody tr th:only-of-type {\n",
       "        vertical-align: middle;\n",
       "    }\n",
       "\n",
       "    .dataframe tbody tr th {\n",
       "        vertical-align: top;\n",
       "    }\n",
       "\n",
       "    .dataframe thead th {\n",
       "        text-align: right;\n",
       "    }\n",
       "</style>\n",
       "<table border=\"1\" class=\"dataframe\">\n",
       "  <thead>\n",
       "    <tr style=\"text-align: right;\">\n",
       "      <th></th>\n",
       "      <th>genres</th>\n",
       "      <th>acousticness</th>\n",
       "      <th>danceability</th>\n",
       "      <th>duration_ms</th>\n",
       "      <th>energy</th>\n",
       "      <th>instrumentalness</th>\n",
       "      <th>liveness</th>\n",
       "      <th>loudness</th>\n",
       "      <th>speechiness</th>\n",
       "      <th>tempo</th>\n",
       "      <th>valence</th>\n",
       "      <th>popularity</th>\n",
       "      <th>cluster</th>\n",
       "    </tr>\n",
       "  </thead>\n",
       "  <tbody>\n",
       "    <tr>\n",
       "      <th>0</th>\n",
       "      <td>21st century classical</td>\n",
       "      <td>0.979333</td>\n",
       "      <td>0.162883</td>\n",
       "      <td>1.602977e+05</td>\n",
       "      <td>0.071317</td>\n",
       "      <td>0.606834</td>\n",
       "      <td>0.361600</td>\n",
       "      <td>-31.514333</td>\n",
       "      <td>0.040567</td>\n",
       "      <td>75.336500</td>\n",
       "      <td>0.103783</td>\n",
       "      <td>27.833333</td>\n",
       "      <td>2</td>\n",
       "    </tr>\n",
       "    <tr>\n",
       "      <th>1</th>\n",
       "      <td>432hz</td>\n",
       "      <td>0.494780</td>\n",
       "      <td>0.299333</td>\n",
       "      <td>1.048887e+06</td>\n",
       "      <td>0.450678</td>\n",
       "      <td>0.477762</td>\n",
       "      <td>0.131000</td>\n",
       "      <td>-16.854000</td>\n",
       "      <td>0.076817</td>\n",
       "      <td>120.285667</td>\n",
       "      <td>0.221750</td>\n",
       "      <td>52.500000</td>\n",
       "      <td>2</td>\n",
       "    </tr>\n",
       "    <tr>\n",
       "      <th>2</th>\n",
       "      <td>8-bit</td>\n",
       "      <td>0.762000</td>\n",
       "      <td>0.712000</td>\n",
       "      <td>1.151770e+05</td>\n",
       "      <td>0.818000</td>\n",
       "      <td>0.876000</td>\n",
       "      <td>0.126000</td>\n",
       "      <td>-9.180000</td>\n",
       "      <td>0.047000</td>\n",
       "      <td>133.444000</td>\n",
       "      <td>0.975000</td>\n",
       "      <td>48.000000</td>\n",
       "      <td>0</td>\n",
       "    </tr>\n",
       "    <tr>\n",
       "      <th>3</th>\n",
       "      <td>[]</td>\n",
       "      <td>0.651417</td>\n",
       "      <td>0.529093</td>\n",
       "      <td>2.328809e+05</td>\n",
       "      <td>0.419146</td>\n",
       "      <td>0.205309</td>\n",
       "      <td>0.218696</td>\n",
       "      <td>-12.288965</td>\n",
       "      <td>0.107872</td>\n",
       "      <td>112.857352</td>\n",
       "      <td>0.513604</td>\n",
       "      <td>20.859882</td>\n",
       "      <td>3</td>\n",
       "    </tr>\n",
       "    <tr>\n",
       "      <th>4</th>\n",
       "      <td>a cappella</td>\n",
       "      <td>0.676557</td>\n",
       "      <td>0.538961</td>\n",
       "      <td>1.906285e+05</td>\n",
       "      <td>0.316434</td>\n",
       "      <td>0.003003</td>\n",
       "      <td>0.172254</td>\n",
       "      <td>-12.479387</td>\n",
       "      <td>0.082851</td>\n",
       "      <td>112.110362</td>\n",
       "      <td>0.448249</td>\n",
       "      <td>45.820071</td>\n",
       "      <td>3</td>\n",
       "    </tr>\n",
       "  </tbody>\n",
       "</table>\n",
       "</div>"
      ],
      "text/plain": [
       "                   genres  acousticness  danceability   duration_ms    energy  \\\n",
       "0  21st century classical      0.979333      0.162883  1.602977e+05  0.071317   \n",
       "1                   432hz      0.494780      0.299333  1.048887e+06  0.450678   \n",
       "2                   8-bit      0.762000      0.712000  1.151770e+05  0.818000   \n",
       "3                      []      0.651417      0.529093  2.328809e+05  0.419146   \n",
       "4              a cappella      0.676557      0.538961  1.906285e+05  0.316434   \n",
       "\n",
       "   instrumentalness  liveness   loudness  speechiness       tempo   valence  \\\n",
       "0          0.606834  0.361600 -31.514333     0.040567   75.336500  0.103783   \n",
       "1          0.477762  0.131000 -16.854000     0.076817  120.285667  0.221750   \n",
       "2          0.876000  0.126000  -9.180000     0.047000  133.444000  0.975000   \n",
       "3          0.205309  0.218696 -12.288965     0.107872  112.857352  0.513604   \n",
       "4          0.003003  0.172254 -12.479387     0.082851  112.110362  0.448249   \n",
       "\n",
       "   popularity  cluster  \n",
       "0   27.833333        2  \n",
       "1   52.500000        2  \n",
       "2   48.000000        0  \n",
       "3   20.859882        3  \n",
       "4   45.820071        3  "
      ]
     },
     "execution_count": 97,
     "metadata": {},
     "output_type": "execute_result"
    }
   ],
   "source": [
    "df_generos.head()"
   ]
  },
  {
   "cell_type": "code",
   "execution_count": 99,
   "metadata": {},
   "outputs": [
    {
     "data": {
      "text/html": [
       "<div>\n",
       "<style scoped>\n",
       "    .dataframe tbody tr th:only-of-type {\n",
       "        vertical-align: middle;\n",
       "    }\n",
       "\n",
       "    .dataframe tbody tr th {\n",
       "        vertical-align: top;\n",
       "    }\n",
       "\n",
       "    .dataframe thead th {\n",
       "        text-align: right;\n",
       "    }\n",
       "</style>\n",
       "<table border=\"1\" class=\"dataframe\">\n",
       "  <thead>\n",
       "    <tr style=\"text-align: right;\">\n",
       "      <th></th>\n",
       "      <th>x</th>\n",
       "      <th>y</th>\n",
       "      <th>cluster</th>\n",
       "      <th>generos</th>\n",
       "    </tr>\n",
       "  </thead>\n",
       "  <tbody>\n",
       "    <tr>\n",
       "      <th>0</th>\n",
       "      <td>5.910268</td>\n",
       "      <td>-0.011146</td>\n",
       "      <td>2</td>\n",
       "      <td>21st century classical</td>\n",
       "    </tr>\n",
       "    <tr>\n",
       "      <th>1</th>\n",
       "      <td>2.787093</td>\n",
       "      <td>4.498483</td>\n",
       "      <td>2</td>\n",
       "      <td>432hz</td>\n",
       "    </tr>\n",
       "    <tr>\n",
       "      <th>2</th>\n",
       "      <td>-0.757538</td>\n",
       "      <td>-1.258495</td>\n",
       "      <td>0</td>\n",
       "      <td>8-bit</td>\n",
       "    </tr>\n",
       "    <tr>\n",
       "      <th>3</th>\n",
       "      <td>1.020521</td>\n",
       "      <td>-0.931690</td>\n",
       "      <td>3</td>\n",
       "      <td>[]</td>\n",
       "    </tr>\n",
       "    <tr>\n",
       "      <th>4</th>\n",
       "      <td>0.753911</td>\n",
       "      <td>-0.999861</td>\n",
       "      <td>3</td>\n",
       "      <td>a cappella</td>\n",
       "    </tr>\n",
       "  </tbody>\n",
       "</table>\n",
       "</div>"
      ],
      "text/plain": [
       "          x         y  cluster                 generos\n",
       "0  5.910268 -0.011146        2  21st century classical\n",
       "1  2.787093  4.498483        2                   432hz\n",
       "2 -0.757538 -1.258495        0                   8-bit\n",
       "3  1.020521 -0.931690        3                      []\n",
       "4  0.753911 -0.999861        3              a cappella"
      ]
     },
     "execution_count": 99,
     "metadata": {},
     "output_type": "execute_result"
    }
   ],
   "source": [
    "projecao['generos'] = df_generos['genres']\n",
    "projecao.head()"
   ]
  },
  {
   "cell_type": "code",
   "execution_count": 103,
   "metadata": {},
   "outputs": [
    {
     "data": {
      "application/vnd.plotly.v1+json": {
       "config": {
        "plotlyServerURL": "https://plot.ly"
       },
       "data": [
        {
         "customdata": [
          [
           "21st century classical"
          ],
          [
           "432hz"
          ],
          [
           "8-bit"
          ],
          [
           "[]"
          ],
          [
           "a cappella"
          ],
          [
           "abstract"
          ],
          [
           "abstract beats"
          ],
          [
           "abstract hip hop"
          ],
          [
           "accordeon"
          ],
          [
           "accordion"
          ],
          [
           "acid house"
          ],
          [
           "acid rock"
          ],
          [
           "acid trance"
          ],
          [
           "acousmatic"
          ],
          [
           "acoustic blues"
          ],
          [
           "acoustic pop"
          ],
          [
           "acoustic punk"
          ],
          [
           "acoustic rock"
          ],
          [
           "action rock"
          ],
          [
           "adoracion"
          ],
          [
           "adult standards"
          ],
          [
           "adventista"
          ],
          [
           "afghan pop"
          ],
          [
           "afghan traditional"
          ],
          [
           "african percussion"
          ],
          [
           "african reggae"
          ],
          [
           "african rock"
          ],
          [
           "african-american classical"
          ],
          [
           "afro dancehall"
          ],
          [
           "afro house"
          ],
          [
           "afro psych"
          ],
          [
           "afro soul"
          ],
          [
           "afro-funk"
          ],
          [
           "afrobeat"
          ],
          [
           "afrofuturism"
          ],
          [
           "afrofuturismo brasileiro"
          ],
          [
           "afropop"
          ],
          [
           "afroswing"
          ],
          [
           "aggrotech"
          ],
          [
           "alabama indie"
          ],
          [
           "alabama metal"
          ],
          [
           "alabama rap"
          ],
          [
           "alaska indie"
          ],
          [
           "albanian pop"
          ],
          [
           "albany ny indie"
          ],
          [
           "alberta country"
          ],
          [
           "alberta hip hop"
          ],
          [
           "album rock"
          ],
          [
           "albuquerque indie"
          ],
          [
           "alt-idol"
          ],
          [
           "alte"
          ],
          [
           "alternative americana"
          ],
          [
           "alternative country"
          ],
          [
           "alternative dance"
          ],
          [
           "alternative emo"
          ],
          [
           "alternative hip hop"
          ],
          [
           "alternative metal"
          ],
          [
           "alternative pop"
          ],
          [
           "alternative pop rock"
          ],
          [
           "alternative r&b"
          ],
          [
           "alternative rock"
          ],
          [
           "alternative roots rock"
          ],
          [
           "ambeat"
          ],
          [
           "ambient"
          ],
          [
           "ambient black metal"
          ],
          [
           "ambient folk"
          ],
          [
           "ambient house"
          ],
          [
           "ambient idm"
          ],
          [
           "ambient industrial"
          ],
          [
           "ambient pop"
          ],
          [
           "ambient techno"
          ],
          [
           "ambient worship"
          ],
          [
           "american 21st century classical"
          ],
          [
           "american choir"
          ],
          [
           "american classical piano"
          ],
          [
           "american contemporary classical"
          ],
          [
           "american early music"
          ],
          [
           "american folk revival"
          ],
          [
           "american metalcore"
          ],
          [
           "american modern classical"
          ],
          [
           "american oi"
          ],
          [
           "american orchestra"
          ],
          [
           "american post-rock"
          ],
          [
           "american primitive"
          ],
          [
           "american romanticism"
          ],
          [
           "american shoegaze"
          ],
          [
           "anadolu rock"
          ],
          [
           "anarcho-punk"
          ],
          [
           "anglican liturgy"
          ],
          [
           "animal singing"
          ],
          [
           "anime"
          ],
          [
           "anime latino"
          ],
          [
           "anime rock"
          ],
          [
           "anime score"
          ],
          [
           "ann arbor indie"
          ],
          [
           "anthem emo"
          ],
          [
           "anthem worship"
          ],
          [
           "anti-folk"
          ],
          [
           "antilliaanse folklore"
          ],
          [
           "antiviral pop"
          ],
          [
           "appalachian folk"
          ],
          [
           "arab folk"
          ],
          [
           "arab groove"
          ],
          [
           "arab pop"
          ],
          [
           "arabesk"
          ],
          [
           "arabic hip hop"
          ],
          [
           "arabic jazz"
          ],
          [
           "argentine ambient"
          ],
          [
           "argentine hardcore"
          ],
          [
           "argentine heavy metal"
          ],
          [
           "argentine hip hop"
          ],
          [
           "argentine indie"
          ],
          [
           "argentine metal"
          ],
          [
           "argentine punk"
          ],
          [
           "argentine reggae"
          ],
          [
           "argentine rock"
          ],
          [
           "argentine telepop"
          ],
          [
           "arizona punk"
          ],
          [
           "arkansas country"
          ],
          [
           "arkansas hip hop"
          ],
          [
           "arkansas indie"
          ],
          [
           "armenian folk"
          ],
          [
           "art pop"
          ],
          [
           "art punk"
          ],
          [
           "art rock"
          ],
          [
           "art song"
          ],
          [
           "asbury park indie"
          ],
          [
           "asheville indie"
          ],
          [
           "asian american hip hop"
          ],
          [
           "asmr"
          ],
          [
           "athens indie"
          ],
          [
           "atl hip hop"
          ],
          [
           "atl trap"
          ],
          [
           "atlanta indie"
          ],
          [
           "atlanta metal"
          ],
          [
           "atlanta punk"
          ],
          [
           "atmosphere"
          ],
          [
           "atmospheric black metal"
          ],
          [
           "atmospheric dnb"
          ],
          [
           "atmospheric post-metal"
          ],
          [
           "atmospheric post-rock"
          ],
          [
           "atmospheric sludge"
          ],
          [
           "auckland indie"
          ],
          [
           "audiophile vocal"
          ],
          [
           "aussietronica"
          ],
          [
           "austin americana"
          ],
          [
           "austin singer-songwriter"
          ],
          [
           "austindie"
          ],
          [
           "australian alternative pop"
          ],
          [
           "australian alternative rock"
          ],
          [
           "australian ambient"
          ],
          [
           "australian children's music"
          ],
          [
           "australian choir"
          ],
          [
           "australian classical"
          ],
          [
           "australian classical piano"
          ],
          [
           "australian country"
          ],
          [
           "australian dance"
          ],
          [
           "australian electropop"
          ],
          [
           "australian garage punk"
          ],
          [
           "australian hip hop"
          ],
          [
           "australian house"
          ],
          [
           "australian indie"
          ],
          [
           "australian indie folk"
          ],
          [
           "australian indie rock"
          ],
          [
           "australian indigenous"
          ],
          [
           "australian metal"
          ],
          [
           "australian metalcore"
          ],
          [
           "australian pop"
          ],
          [
           "australian post-hardcore"
          ],
          [
           "australian post-punk"
          ],
          [
           "australian psych"
          ],
          [
           "australian r&b"
          ],
          [
           "australian reggae fusion"
          ],
          [
           "australian rock"
          ],
          [
           "australian singer-songwriter"
          ],
          [
           "australian ska"
          ],
          [
           "australian talent show"
          ],
          [
           "australian trap"
          ],
          [
           "australian underground hip hop"
          ],
          [
           "austrian choir"
          ],
          [
           "austrian classical piano"
          ],
          [
           "austrian orchestra"
          ],
          [
           "austrian pop"
          ],
          [
           "austro-german modernism"
          ],
          [
           "austropop"
          ],
          [
           "autoharp"
          ],
          [
           "autonomous black metal"
          ],
          [
           "avant-garde"
          ],
          [
           "avant-garde jazz"
          ],
          [
           "avant-garde metal"
          ],
          [
           "axe"
          ],
          [
           "azeri traditional"
          ],
          [
           "azonto"
          ],
          [
           "azontobeats"
          ],
          [
           "bachata"
          ],
          [
           "bachata dominicana"
          ],
          [
           "background music"
          ],
          [
           "background piano"
          ],
          [
           "baglama"
          ],
          [
           "bahai"
          ],
          [
           "bahamian folk"
          ],
          [
           "bahamian pop"
          ],
          [
           "baiao"
          ],
          [
           "bajki"
          ],
          [
           "bakersfield sound"
          ],
          [
           "balearic"
          ],
          [
           "balkan brass"
          ],
          [
           "balkan classical piano"
          ],
          [
           "ballet class"
          ],
          [
           "ballroom"
          ],
          [
           "baltic classical"
          ],
          [
           "baltimore hip hop"
          ],
          [
           "baltimore indie"
          ],
          [
           "banda"
          ],
          [
           "banda caliente"
          ],
          [
           "banda carnavalera"
          ],
          [
           "bandinhas"
          ],
          [
           "bandolim"
          ],
          [
           "bandoneon"
          ],
          [
           "bangla"
          ],
          [
           "banjo"
          ],
          [
           "bansuri"
          ],
          [
           "barbadian pop"
          ],
          [
           "barbershop"
          ],
          [
           "bard"
          ],
          [
           "barnmusik"
          ],
          [
           "barockinterpreten"
          ],
          [
           "baroque"
          ],
          [
           "baroque brass"
          ],
          [
           "baroque ensemble"
          ],
          [
           "baroque pop"
          ],
          [
           "baroque singing"
          ],
          [
           "baroque violin"
          ],
          [
           "baroque woodwind"
          ],
          [
           "bass house"
          ],
          [
           "bass music"
          ],
          [
           "bass trap"
          ],
          [
           "basshall"
          ],
          [
           "bassline"
          ],
          [
           "bath indie"
          ],
          [
           "baton rouge indie"
          ],
          [
           "baton rouge rap"
          ],
          [
           "battle rap"
          ],
          [
           "bay area hip hop"
          ],
          [
           "bay area indie"
          ],
          [
           "bboy"
          ],
          [
           "bc underground hip hop"
          ],
          [
           "beach music"
          ],
          [
           "beat italiano"
          ],
          [
           "beat poetry"
          ],
          [
           "beatboxing"
          ],
          [
           "beatlesque"
          ],
          [
           "bebop"
          ],
          [
           "bedroom pop"
          ],
          [
           "bedroom soul"
          ],
          [
           "belarusian indie"
          ],
          [
           "belarusian pop"
          ],
          [
           "belarusian rock"
          ],
          [
           "belgian classical piano"
          ],
          [
           "belgian contemporary classical"
          ],
          [
           "belgian dance"
          ],
          [
           "belgian edm"
          ],
          [
           "belgian hardcore"
          ],
          [
           "belgian indie"
          ],
          [
           "belgian indie rock"
          ],
          [
           "belgian jazz"
          ],
          [
           "belgian new wave"
          ],
          [
           "belgian pop"
          ],
          [
           "belgian rock"
          ],
          [
           "belgian singer-songwriter"
          ],
          [
           "belgian techno"
          ],
          [
           "belly dance"
          ],
          [
           "bengali folk"
          ],
          [
           "beninese pop"
          ],
          [
           "bergen indie"
          ],
          [
           "berlin minimal techno"
          ],
          [
           "berlin school"
          ],
          [
           "bhajan"
          ],
          [
           "bhangra"
          ],
          [
           "bible"
          ],
          [
           "big band"
          ],
          [
           "big beat"
          ],
          [
           "big room"
          ],
          [
           "binaural"
          ],
          [
           "birdsong"
          ],
          [
           "birmingham grime"
          ],
          [
           "birmingham hip hop"
          ],
          [
           "birmingham metal"
          ],
          [
           "bitpop"
          ],
          [
           "black 'n' roll"
          ],
          [
           "black comedy"
          ],
          [
           "black metal"
          ],
          [
           "black punk"
          ],
          [
           "black thrash"
          ],
          [
           "blackened crust"
          ],
          [
           "blackgaze"
          ],
          [
           "bleep techno"
          ],
          [
           "bluegrass"
          ],
          [
           "bluegrass fiddle"
          ],
          [
           "bluegrass gospel"
          ],
          [
           "blues"
          ],
          [
           "blues latinoamericano"
          ],
          [
           "blues mexicano"
          ],
          [
           "blues rock"
          ],
          [
           "bmore"
          ],
          [
           "bolero"
          ],
          [
           "bolero cubano"
          ],
          [
           "boogaloo"
          ],
          [
           "boogie"
          ],
          [
           "boogie-woogie"
          ],
          [
           "boom bap"
          ],
          [
           "boom bap brasileiro"
          ],
          [
           "bossa nova"
          ],
          [
           "bossa nova jazz"
          ],
          [
           "boston folk"
          ],
          [
           "boston hardcore"
          ],
          [
           "boston hip hop"
          ],
          [
           "boston indie"
          ],
          [
           "boston metal"
          ],
          [
           "boston punk"
          ],
          [
           "boston rock"
          ],
          [
           "bounce"
          ],
          [
           "bouncy house"
          ],
          [
           "bouzouki"
          ],
          [
           "bow pop"
          ],
          [
           "boy band"
          ],
          [
           "boy pop"
          ],
          [
           "boy soprano"
          ],
          [
           "brain waves"
          ],
          [
           "braindance"
          ],
          [
           "brass band"
          ],
          [
           "brass ensemble"
          ],
          [
           "brass quintet"
          ],
          [
           "brazilian boogie"
          ],
          [
           "brazilian classical"
          ],
          [
           "brazilian classical piano"
          ],
          [
           "brazilian contemporary classical"
          ],
          [
           "brazilian edm"
          ],
          [
           "brazilian groove metal"
          ],
          [
           "brazilian hip hop"
          ],
          [
           "brazilian indie"
          ],
          [
           "brazilian jazz"
          ],
          [
           "brazilian metal"
          ],
          [
           "brazilian modern jazz"
          ],
          [
           "brazilian percussion"
          ],
          [
           "brazilian punk"
          ],
          [
           "brazilian reggae"
          ],
          [
           "brazilian rock"
          ],
          [
           "brazilian ska"
          ],
          [
           "brazilian soul"
          ],
          [
           "brazilian thrash metal"
          ],
          [
           "breakbeat"
          ],
          [
           "breakcore"
          ],
          [
           "brega"
          ],
          [
           "breton folk"
          ],
          [
           "brighton indie"
          ],
          [
           "brill building pop"
          ],
          [
           "brisbane indie"
          ],
          [
           "bristol electronic"
          ],
          [
           "bristol indie"
          ],
          [
           "brit funk"
          ],
          [
           "british alternative rock"
          ],
          [
           "british black metal"
          ],
          [
           "british blues"
          ],
          [
           "british children's music"
          ],
          [
           "british choir"
          ],
          [
           "british classical piano"
          ],
          [
           "british comedy"
          ],
          [
           "british contemporary classical"
          ],
          [
           "british dance band"
          ],
          [
           "british death metal"
          ],
          [
           "british experimental"
          ],
          [
           "british folk"
          ],
          [
           "british grindcore"
          ],
          [
           "british indie rock"
          ],
          [
           "british industrial"
          ],
          [
           "british invasion"
          ],
          [
           "british jazz"
          ],
          [
           "british modern classical"
          ],
          [
           "british orchestra"
          ],
          [
           "british post-rock"
          ],
          [
           "british power metal"
          ],
          [
           "british singer-songwriter"
          ],
          [
           "british soul"
          ],
          [
           "british soundtrack"
          ],
          [
           "britpop"
          ],
          [
           "broadway"
          ],
          [
           "broken beat"
          ],
          [
           "bronx hip hop"
          ],
          [
           "brooklyn drill"
          ],
          [
           "brooklyn indie"
          ],
          [
           "brostep"
          ],
          [
           "brutal death metal"
          ],
          [
           "brutal deathcore"
          ],
          [
           "bubble trance"
          ],
          [
           "bubblegrunge"
          ],
          [
           "bubblegum dance"
          ],
          [
           "bubblegum pop"
          ],
          [
           "buffalo hip hop"
          ],
          [
           "buffalo ny indie"
          ],
          [
           "buffalo ny metal"
          ],
          [
           "bulgarian experimental"
          ],
          [
           "burmese traditional"
          ],
          [
           "bush ballad"
          ],
          [
           "c-pop"
          ],
          [
           "c86"
          ],
          [
           "cabaret"
          ],
          [
           "cajun"
          ],
          [
           "calgary indie"
          ],
          [
           "cali rap"
          ],
          [
           "calming instrumental"
          ],
          [
           "calypso"
          ],
          [
           "cambodian rock"
          ],
          [
           "cambridge choir"
          ],
          [
           "cambridgeshire indie"
          ],
          [
           "cameroonian pop"
          ],
          [
           "canadian americana"
          ],
          [
           "canadian blues"
          ],
          [
           "canadian ccm"
          ],
          [
           "canadian celtic"
          ],
          [
           "canadian children's music"
          ],
          [
           "canadian choir"
          ],
          [
           "canadian classical"
          ],
          [
           "canadian classical piano"
          ],
          [
           "canadian comedy"
          ],
          [
           "canadian contemporary country"
          ],
          [
           "canadian contemporary r&b"
          ],
          [
           "canadian country"
          ],
          [
           "canadian electronic"
          ],
          [
           "canadian electropop"
          ],
          [
           "canadian experimental"
          ],
          [
           "canadian folk"
          ],
          [
           "canadian hardcore"
          ],
          [
           "canadian hip hop"
          ],
          [
           "canadian house"
          ],
          [
           "canadian indie"
          ],
          [
           "canadian indie folk"
          ],
          [
           "canadian indigenous"
          ],
          [
           "canadian indigenous hip hop"
          ],
          [
           "canadian latin"
          ],
          [
           "canadian metal"
          ],
          [
           "canadian metalcore"
          ],
          [
           "canadian modern jazz"
          ],
          [
           "canadian pop"
          ],
          [
           "canadian pop punk"
          ],
          [
           "canadian post-hardcore"
          ],
          [
           "canadian post-rock"
          ],
          [
           "canadian psychedelic"
          ],
          [
           "canadian punk"
          ],
          [
           "canadian rock"
          ],
          [
           "canadian rockabilly"
          ],
          [
           "canadian singer-songwriter"
          ],
          [
           "canadian soundtrack"
          ],
          [
           "cancion melodica"
          ],
          [
           "candy pop"
          ],
          [
           "cantautor"
          ],
          [
           "cante flamenco"
          ],
          [
           "canterbury scene"
          ],
          [
           "canto popular uruguayo"
          ],
          [
           "cantopop"
          ],
          [
           "canzone d'autore"
          ],
          [
           "canzone genovese"
          ],
          [
           "canzone napoletana"
          ],
          [
           "cape town indie"
          ],
          [
           "cape verdean folk"
          ],
          [
           "capoeira"
          ],
          [
           "caracas indie"
          ],
          [
           "carnatic"
          ],
          [
           "carnatic instrumental"
          ],
          [
           "carnatic vocal"
          ],
          [
           "cartoon"
          ],
          [
           "cathedral choir"
          ],
          [
           "caucasian classical"
          ],
          [
           "caucasian classical piano"
          ],
          [
           "ccm"
          ],
          [
           "cedm"
          ],
          [
           "cello"
          ],
          [
           "celtic"
          ],
          [
           "celtic harp"
          ],
          [
           "celtic metal"
          ],
          [
           "celtic punk"
          ],
          [
           "celtic rock"
          ],
          [
           "cha-cha-cha"
          ],
          [
           "chakra"
          ],
          [
           "chamame"
          ],
          [
           "chamber choir"
          ],
          [
           "chamber ensemble"
          ],
          [
           "chamber folk"
          ],
          [
           "chamber orchestra"
          ],
          [
           "chamber pop"
          ],
          [
           "chamber psych"
          ],
          [
           "champeta"
          ],
          [
           "channel islands indie"
          ],
          [
           "channel pop"
          ],
          [
           "chanson"
          ],
          [
           "chanson paillarde"
          ],
          [
           "chaotic hardcore"
          ],
          [
           "charanga"
          ],
          [
           "charango"
          ],
          [
           "charlotte nc indie"
          ],
          [
           "charlottesville indie"
          ],
          [
           "chattanooga indie"
          ],
          [
           "chicago blues"
          ],
          [
           "chicago drill"
          ],
          [
           "chicago hardcore"
          ],
          [
           "chicago house"
          ],
          [
           "chicago indie"
          ],
          [
           "chicago pop punk"
          ],
          [
           "chicago punk"
          ],
          [
           "chicago rap"
          ],
          [
           "chicago soul"
          ],
          [
           "chicano punk"
          ],
          [
           "chicano rap"
          ],
          [
           "chicha"
          ],
          [
           "chihuahua indie"
          ],
          [
           "children's choir"
          ],
          [
           "children's folk"
          ],
          [
           "children's music"
          ],
          [
           "children's story"
          ],
          [
           "chilean hardcore"
          ],
          [
           "chilean indie"
          ],
          [
           "chilean rock"
          ],
          [
           "chilena"
          ],
          [
           "chill beats"
          ],
          [
           "chill guitar"
          ],
          [
           "chill lounge"
          ],
          [
           "chill out"
          ],
          [
           "chill pop"
          ],
          [
           "chill r&b"
          ],
          [
           "chillhop"
          ],
          [
           "chillstep"
          ],
          [
           "chillwave"
          ],
          [
           "chinese audiophile"
          ],
          [
           "chinese classical"
          ],
          [
           "chinese classical performance"
          ],
          [
           "chinese classical piano"
          ],
          [
           "chinese electropop"
          ],
          [
           "chinese hip hop"
          ],
          [
           "chinese idol pop"
          ],
          [
           "chinese indie"
          ],
          [
           "chinese indie rock"
          ],
          [
           "chinese instrumental"
          ],
          [
           "chinese jazz"
          ],
          [
           "chinese r&b"
          ],
          [
           "chinese soundtrack"
          ],
          [
           "chinese traditional"
          ],
          [
           "chiptune"
          ],
          [
           "chopped and screwed"
          ],
          [
           "choral"
          ],
          [
           "choro"
          ],
          [
           "christchurch indie"
          ],
          [
           "christelijk"
          ],
          [
           "christian a cappella"
          ],
          [
           "christian alternative rock"
          ],
          [
           "christian dance"
          ],
          [
           "christian hard rock"
          ],
          [
           "christian hardcore"
          ],
          [
           "christian hip hop"
          ],
          [
           "christian indie"
          ],
          [
           "christian metal"
          ],
          [
           "christian metalcore"
          ],
          [
           "christian music"
          ],
          [
           "christian pop"
          ],
          [
           "christian power metal"
          ],
          [
           "christian punk"
          ],
          [
           "christian relaxative"
          ],
          [
           "christian rock"
          ],
          [
           "christian trap"
          ],
          [
           "christian uplift"
          ],
          [
           "christmas instrumental"
          ],
          [
           "christmas product"
          ],
          [
           "chunchaca"
          ],
          [
           "chutney"
          ],
          [
           "cincinnati rap"
          ],
          [
           "cinematic post-rock"
          ],
          [
           "circuit"
          ],
          [
           "circus"
          ],
          [
           "classic afrobeat"
          ],
          [
           "classic arab pop"
          ],
          [
           "classic australian country"
          ],
          [
           "classic belgian pop"
          ],
          [
           "classic bhangra"
          ],
          [
           "classic bollywood"
          ],
          [
           "classic canadian rock"
          ],
          [
           "classic cantopop"
          ],
          [
           "classic colombian pop"
          ],
          [
           "classic country pop"
          ],
          [
           "classic czech pop"
          ],
          [
           "classic danish pop"
          ],
          [
           "classic dubstep"
          ],
          [
           "classic eurovision"
          ],
          [
           "classic finnish pop"
          ],
          [
           "classic french pop"
          ],
          [
           "classic garage rock"
          ],
          [
           "classic girl group"
          ],
          [
           "classic greek pop"
          ],
          [
           "classic hardstyle"
          ],
          [
           "classic icelandic pop"
          ],
          [
           "classic indo pop"
          ],
          [
           "classic iskelma"
          ],
          [
           "classic israeli pop"
          ],
          [
           "classic italian folk pop"
          ],
          [
           "classic italian pop"
          ],
          [
           "classic j-rock"
          ],
          [
           "classic japanese jazz"
          ],
          [
           "classic korean pop"
          ],
          [
           "classic latvian pop"
          ],
          [
           "classic mandopop"
          ],
          [
           "classic norwegian pop"
          ],
          [
           "classic opm"
          ],
          [
           "classic pakistani pop"
          ],
          [
           "classic persian pop"
          ],
          [
           "classic peruvian pop"
          ],
          [
           "classic polish pop"
          ],
          [
           "classic praise"
          ],
          [
           "classic psychedelic rock"
          ],
          [
           "classic punjabi pop"
          ],
          [
           "classic rock"
          ],
          [
           "classic russian pop"
          ],
          [
           "classic russian rock"
          ],
          [
           "classic schlager"
          ],
          [
           "classic soul"
          ],
          [
           "classic soundtrack"
          ],
          [
           "classic swedish pop"
          ],
          [
           "classic thai pop"
          ],
          [
           "classic tunisian pop"
          ],
          [
           "classic turkish pop"
          ],
          [
           "classic uk pop"
          ],
          [
           "classic venezuelan pop"
          ],
          [
           "classical"
          ],
          [
           "classical accordion"
          ],
          [
           "classical baritone"
          ],
          [
           "classical bass"
          ],
          [
           "classical cello"
          ],
          [
           "classical clarinet"
          ],
          [
           "classical contralto"
          ],
          [
           "classical countertenor"
          ],
          [
           "classical era"
          ],
          [
           "classical flute"
          ],
          [
           "classical guitar"
          ],
          [
           "classical harp"
          ],
          [
           "classical horn"
          ],
          [
           "classical mandolin"
          ],
          [
           "classical mezzo-soprano"
          ],
          [
           "classical oboe"
          ],
          [
           "classical organ"
          ],
          [
           "classical performance"
          ],
          [
           "classical piano"
          ],
          [
           "classical piano duo"
          ],
          [
           "classical piano trio"
          ],
          [
           "classical saxophone"
          ],
          [
           "classical soprano"
          ],
          [
           "classical tenor"
          ],
          [
           "classical trumpet"
          ],
          [
           "classify"
          ],
          [
           "clawhammer banjo"
          ],
          [
           "clean comedy"
          ],
          [
           "cleveland metal"
          ],
          [
           "coco"
          ],
          [
           "collage pop"
          ],
          [
           "college a cappella"
          ],
          [
           "colombian hip hop"
          ],
          [
           "colombian pop"
          ],
          [
           "colombian rock"
          ],
          [
           "columbus ohio indie"
          ],
          [
           "comedy"
          ],
          [
           "comedy rap"
          ],
          [
           "comedy rock"
          ],
          [
           "comic"
          ],
          [
           "comic metal"
          ],
          [
           "commons"
          ],
          [
           "complextro"
          ],
          [
           "compositional ambient"
          ],
          [
           "concepcion indie"
          ],
          [
           "concert band"
          ],
          [
           "connecticut hardcore"
          ],
          [
           "connecticut indie"
          ],
          [
           "conscious hip hop"
          ],
          [
           "contemporary choir"
          ],
          [
           "contemporary classical"
          ],
          [
           "contemporary classical piano"
          ],
          [
           "contemporary country"
          ],
          [
           "contemporary folk"
          ],
          [
           "contemporary gospel"
          ],
          [
           "contemporary jazz"
          ],
          [
           "contemporary post-bop"
          ],
          [
           "contemporary vocal jazz"
          ],
          [
           "contrabass"
          ],
          [
           "cool jazz"
          ],
          [
           "copla"
          ],
          [
           "cornish folk"
          ],
          [
           "cornwall indie"
          ],
          [
           "corrido"
          ],
          [
           "corridos cristianos"
          ],
          [
           "corridos tumbados"
          ],
          [
           "corrosion"
          ],
          [
           "cosmic american"
          ],
          [
           "cosmic post-rock"
          ],
          [
           "country"
          ],
          [
           "country blues"
          ],
          [
           "country boogie"
          ],
          [
           "country dawn"
          ],
          [
           "country gospel"
          ],
          [
           "country pop"
          ],
          [
           "country rap"
          ],
          [
           "country road"
          ],
          [
           "country rock"
          ],
          [
           "coverchill"
          ],
          [
           "cowboy western"
          ],
          [
           "cowpunk"
          ],
          [
           "crack rock steady"
          ],
          [
           "croatian folk"
          ],
          [
           "croatian pop"
          ],
          [
           "croatian rock"
          ],
          [
           "crossover thrash"
          ],
          [
           "crunk"
          ],
          [
           "crust punk"
          ],
          [
           "cuarteto"
          ],
          [
           "cuatro venezolano"
          ],
          [
           "cuban alternative"
          ],
          [
           "cuban rumba"
          ],
          [
           "cubaton"
          ],
          [
           "cumbia"
          ],
          [
           "cumbia andina mexicana"
          ],
          [
           "cumbia chilena"
          ],
          [
           "cumbia colombiana regia"
          ],
          [
           "cumbia ecuatoriana"
          ],
          [
           "cumbia funk"
          ],
          [
           "cumbia lagunera"
          ],
          [
           "cumbia paraguaya"
          ],
          [
           "cumbia peruana"
          ],
          [
           "cumbia pop"
          ],
          [
           "cumbia ranchera"
          ],
          [
           "cumbia salvadorena"
          ],
          [
           "cumbia santafesina"
          ],
          [
           "cumbia sonidera"
          ],
          [
           "cumbia villera"
          ],
          [
           "cyberpunk"
          ],
          [
           "cymraeg"
          ],
          [
           "cypriot pop"
          ],
          [
           "czech classical"
          ],
          [
           "czech classical piano"
          ],
          [
           "czech contemporary classical"
          ],
          [
           "d-beat"
          ],
          [
           "dabke"
          ],
          [
           "dakke dak"
          ],
          [
           "dallas indie"
          ],
          [
           "dance pop"
          ],
          [
           "dance rock"
          ],
          [
           "dance-punk"
          ],
          [
           "dancehall"
          ],
          [
           "dangdut"
          ],
          [
           "danish alternative rock"
          ],
          [
           "danish classical"
          ],
          [
           "danish electronic"
          ],
          [
           "danish electropop"
          ],
          [
           "danish hip hop"
          ],
          [
           "danish jazz"
          ],
          [
           "danish metal"
          ],
          [
           "danish pop"
          ],
          [
           "danish pop rock"
          ],
          [
           "danish post-punk"
          ],
          [
           "danish punk"
          ],
          [
           "danish rock"
          ],
          [
           "danish singer-songwriter"
          ],
          [
           "dansband"
          ],
          [
           "danseband"
          ],
          [
           "dansktop"
          ],
          [
           "danspunk"
          ],
          [
           "dark cabaret"
          ],
          [
           "dark clubbing"
          ],
          [
           "dark disco"
          ],
          [
           "dark hardcore"
          ],
          [
           "dark jazz"
          ],
          [
           "dark minimal techno"
          ],
          [
           "dark post-punk"
          ],
          [
           "dark techno"
          ],
          [
           "dark trap"
          ],
          [
           "dark wave"
          ],
          [
           "darksynth"
          ],
          [
           "dayton indie"
          ],
          [
           "dc hardcore"
          ],
          [
           "dc indie"
          ],
          [
           "death 'n' roll"
          ],
          [
           "death metal"
          ],
          [
           "deathcore"
          ],
          [
           "deathgrass"
          ],
          [
           "deathgrind"
          ],
          [
           "deathrash"
          ],
          [
           "deathrock"
          ],
          [
           "deathstep"
          ],
          [
           "deep acoustic pop"
          ],
          [
           "deep adult standards"
          ],
          [
           "deep big room"
          ],
          [
           "deep ccm"
          ],
          [
           "deep christian rock"
          ],
          [
           "deep classic garage rock"
          ],
          [
           "deep comedy"
          ],
          [
           "deep contemporary country"
          ],
          [
           "deep dance pop"
          ],
          [
           "deep delta blues"
          ],
          [
           "deep disco"
          ],
          [
           "deep disco house"
          ],
          [
           "deep dnb"
          ],
          [
           "deep east coast hip hop"
          ],
          [
           "deep euro house"
          ],
          [
           "deep flow"
          ],
          [
           "deep free jazz"
          ],
          [
           "deep freestyle"
          ],
          [
           "deep full on"
          ],
          [
           "deep funk"
          ],
          [
           "deep g funk"
          ],
          [
           "deep gothic post-punk"
          ],
          [
           "deep groove house"
          ],
          [
           "deep house"
          ],
          [
           "deep idm"
          ],
          [
           "deep indian pop"
          ],
          [
           "deep indie singer-songwriter"
          ],
          [
           "deep latin alternative"
          ],
          [
           "deep latin christian"
          ],
          [
           "deep melodic metalcore"
          ],
          [
           "deep minimal techno"
          ],
          [
           "deep motown"
          ],
          [
           "deep new americana"
          ],
          [
           "deep new wave"
          ],
          [
           "deep norteno"
          ],
          [
           "deep northern soul"
          ],
          [
           "deep pop edm"
          ],
          [
           "deep progressive house"
          ],
          [
           "deep psychobilly"
          ],
          [
           "deep punk rock"
          ],
          [
           "deep r&b"
          ],
          [
           "deep ragga"
          ],
          [
           "deep regional mexican"
          ],
          [
           "deep smooth jazz"
          ],
          [
           "deep soft rock"
          ],
          [
           "deep soul house"
          ],
          [
           "deep soundtrack"
          ],
          [
           "deep southern soul"
          ],
          [
           "deep southern trap"
          ],
          [
           "deep space rock"
          ],
          [
           "deep talent show"
          ],
          [
           "deep tech house"
          ],
          [
           "deep techno"
          ],
          [
           "deep tropical house"
          ],
          [
           "deep underground hip hop"
          ],
          [
           "deep uplifting trance"
          ],
          [
           "delta blues"
          ],
          [
           "dembow"
          ],
          [
           "denpa-kei"
          ],
          [
           "denton tx indie"
          ],
          [
           "denver indie"
          ],
          [
           "depressive black metal"
          ],
          [
           "derby indie"
          ],
          [
           "desert blues"
          ],
          [
           "desi hip hop"
          ],
          [
           "desi pop"
          ],
          [
           "destroy techno"
          ],
          [
           "detroit hip hop"
          ],
          [
           "detroit house"
          ],
          [
           "detroit techno"
          ],
          [
           "detroit trap"
          ],
          [
           "detske pisnicky"
          ],
          [
           "detskie pesni"
          ],
          [
           "devon indie"
          ],
          [
           "dfw rap"
          ],
          [
           "dhrupad"
          ],
          [
           "digital hardcore"
          ],
          [
           "dinner jazz"
          ],
          [
           "dirty south rap"
          ],
          [
           "dirty texas rap"
          ],
          [
           "disco"
          ],
          [
           "disco house"
          ],
          [
           "disney"
          ],
          [
           "diva house"
          ],
          [
           "dixieland"
          ],
          [
           "diy emo"
          ],
          [
           "djent"
          ],
          [
           "dmv rap"
          ],
          [
           "dominican pop"
          ],
          [
           "dong-yo"
          ],
          [
           "doo-wop"
          ],
          [
           "doom metal"
          ],
          [
           "double drumming"
          ],
          [
           "downtempo"
          ],
          [
           "drama"
          ],
          [
           "dream pop"
          ],
          [
           "dream trance"
          ],
          [
           "dreamgaze"
          ],
          [
           "dreamo"
          ],
          [
           "drift"
          ],
          [
           "drill"
          ],
          [
           "drill and bass"
          ],
          [
           "drone"
          ],
          [
           "drone folk"
          ],
          [
           "drone metal"
          ],
          [
           "drum and bass"
          ],
          [
           "dub"
          ],
          [
           "dub metal"
          ],
          [
           "dub poetry"
          ],
          [
           "dub techno"
          ],
          [
           "dubstep"
          ],
          [
           "dubsteppe"
          ],
          [
           "duduk"
          ],
          [
           "duluth indie"
          ],
          [
           "dunedin indie"
          ],
          [
           "dunedin sound"
          ],
          [
           "dungeon synth"
          ],
          [
           "duranguense"
          ],
          [
           "dusseldorf electronic"
          ],
          [
           "dutch blues"
          ],
          [
           "dutch cabaret"
          ],
          [
           "dutch classical piano"
          ],
          [
           "dutch death metal"
          ],
          [
           "dutch dnb"
          ],
          [
           "dutch edm"
          ],
          [
           "dutch folk"
          ],
          [
           "dutch hip hop"
          ],
          [
           "dutch house"
          ],
          [
           "dutch indie"
          ],
          [
           "dutch jazz"
          ],
          [
           "dutch metal"
          ],
          [
           "dutch pop"
          ],
          [
           "dutch prog"
          ],
          [
           "dutch rap pop"
          ],
          [
           "dutch rock"
          ],
          [
           "dutch trance"
          ],
          [
           "e6fi"
          ],
          [
           "early american folk"
          ],
          [
           "early avant garde"
          ],
          [
           "early modern classical"
          ],
          [
           "early music"
          ],
          [
           "early music choir"
          ],
          [
           "early music ensemble"
          ],
          [
           "early reggae"
          ],
          [
           "early romantic era"
          ],
          [
           "early synthpop"
          ],
          [
           "early us punk"
          ],
          [
           "east coast hip hop"
          ],
          [
           "east coast reggae"
          ],
          [
           "eastern bloc groove"
          ],
          [
           "easy listening"
          ],
          [
           "easycore"
          ],
          [
           "eau claire indie"
          ],
          [
           "ebm"
          ],
          [
           "ecm-style jazz"
          ],
          [
           "ectofolk"
          ],
          [
           "ecuadorian pop"
          ],
          [
           "edm"
          ],
          [
           "edmonton indie"
          ],
          [
           "egyptian pop"
          ],
          [
           "egyptian traditional"
          ],
          [
           "el paso indie"
          ],
          [
           "electra"
          ],
          [
           "electric bass"
          ],
          [
           "electric blues"
          ],
          [
           "electro"
          ],
          [
           "electro house"
          ],
          [
           "electro jazz"
          ],
          [
           "electro latino"
          ],
          [
           "electro swing"
          ],
          [
           "electro-industrial"
          ],
          [
           "electro-pop francais"
          ],
          [
           "electroclash"
          ],
          [
           "electrofox"
          ],
          [
           "electronic djent"
          ],
          [
           "electronic rock"
          ],
          [
           "electronic trap"
          ],
          [
           "electronica"
          ],
          [
           "electronica argentina"
          ],
          [
           "electropop"
          ],
          [
           "electropowerpop"
          ],
          [
           "emo"
          ],
          [
           "emo mexicano"
          ],
          [
           "emo punk"
          ],
          [
           "emo rap"
          ],
          [
           "emocore"
          ],
          [
           "english baroque"
          ],
          [
           "english indie rock"
          ],
          [
           "english renaissance"
          ],
          [
           "enka"
          ],
          [
           "entehno"
          ],
          [
           "environmental"
          ],
          [
           "epic doom"
          ],
          [
           "epicore"
          ],
          [
           "erhu"
          ],
          [
           "escape room"
          ],
          [
           "esperanto"
          ],
          [
           "essex indie"
          ],
          [
           "estonian hip hop"
          ],
          [
           "estonian pop"
          ],
          [
           "ethereal wave"
          ],
          [
           "etherpop"
          ],
          [
           "ethio-jazz"
          ],
          [
           "ethiopian pop"
          ],
          [
           "ethnomusicology"
          ],
          [
           "ethnotronica"
          ],
          [
           "eugene indie"
          ],
          [
           "euphoric hardstyle"
          ],
          [
           "eurobeat"
          ],
          [
           "eurodance"
          ],
          [
           "europop"
          ],
          [
           "euroska"
          ],
          [
           "eurovision"
          ],
          [
           "exotica"
          ],
          [
           "experimental"
          ],
          [
           "experimental ambient"
          ],
          [
           "experimental big band"
          ],
          [
           "experimental dub"
          ],
          [
           "experimental folk"
          ],
          [
           "experimental guitar"
          ],
          [
           "experimental hip hop"
          ],
          [
           "experimental house"
          ],
          [
           "experimental indie"
          ],
          [
           "experimental jazz"
          ],
          [
           "experimental pop"
          ],
          [
           "experimental rock"
          ],
          [
           "experimental vocal"
          ],
          [
           "fado"
          ],
          [
           "family gospel"
          ],
          [
           "faroese pop"
          ],
          [
           "fast melodic punk"
          ],
          [
           "fidget house"
          ],
          [
           "filmi"
          ],
          [
           "filter house"
          ],
          [
           "filthstep"
          ],
          [
           "final fantasy"
          ],
          [
           "fingerstyle"
          ],
          [
           "finnish alternative rock"
          ],
          [
           "finnish classical"
          ],
          [
           "finnish contemporary classical"
          ],
          [
           "finnish death metal"
          ],
          [
           "finnish edm"
          ],
          [
           "finnish hard rock"
          ],
          [
           "finnish heavy metal"
          ],
          [
           "finnish metal"
          ],
          [
           "finnish power metal"
          ],
          [
           "finnish soul"
          ],
          [
           "flamenco"
          ],
          [
           "flamenco guitar"
          ],
          [
           "flick hop"
          ],
          [
           "flint hip hop"
          ],
          [
           "float house"
          ],
          [
           "florida death metal"
          ],
          [
           "florida rap"
          ],
          [
           "fluxwork"
          ],
          [
           "fo jing"
          ],
          [
           "focus"
          ],
          [
           "focus beats"
          ],
          [
           "focus trance"
          ],
          [
           "folclor afrocolombiano"
          ],
          [
           "folclor colombiano"
          ],
          [
           "folclore extremeno"
          ],
          [
           "folclore jujeno"
          ],
          [
           "folclore navarra"
          ],
          [
           "folclore salteno"
          ],
          [
           "folclore tucumano"
          ],
          [
           "folk"
          ],
          [
           "folk metal"
          ],
          [
           "folk punk"
          ],
          [
           "folk rock"
          ],
          [
           "folk rock italiano"
          ],
          [
           "folk-pop"
          ],
          [
           "folklore argentino"
          ],
          [
           "folklore boliviano"
          ],
          [
           "folklore chileno"
          ],
          [
           "folklore ecuatoriano"
          ],
          [
           "folklore peruano"
          ],
          [
           "folklore venezolano"
          ],
          [
           "folklore veracruzano"
          ],
          [
           "folkmusik"
          ],
          [
           "folktronica"
          ],
          [
           "footwork"
          ],
          [
           "forro"
          ],
          [
           "forro tradicional"
          ],
          [
           "fort worth indie"
          ],
          [
           "fourth world"
          ],
          [
           "francoton"
          ],
          [
           "freak folk"
          ],
          [
           "freakbeat"
          ],
          [
           "free folk"
          ],
          [
           "free improvisation"
          ],
          [
           "free jazz"
          ],
          [
           "freestyle"
          ],
          [
           "french baroque"
          ],
          [
           "french classical piano"
          ],
          [
           "french contemporary classical"
          ],
          [
           "french death metal"
          ],
          [
           "french dnb"
          ],
          [
           "french hip hop"
          ],
          [
           "french indie folk"
          ],
          [
           "french indie pop"
          ],
          [
           "french indietronica"
          ],
          [
           "french jazz"
          ],
          [
           "french metal"
          ],
          [
           "french movie tunes"
          ],
          [
           "french opera"
          ],
          [
           "french orchestra"
          ],
          [
           "french pop"
          ],
          [
           "french post-punk"
          ],
          [
           "french psychedelic"
          ],
          [
           "french reggae"
          ],
          [
           "french rock"
          ],
          [
           "french romanticism"
          ],
          [
           "french shoegaze"
          ],
          [
           "french soundtrack"
          ],
          [
           "french synthpop"
          ],
          [
           "french techno"
          ],
          [
           "frenchcore"
          ],
          [
           "full on"
          ],
          [
           "funana"
          ],
          [
           "funeral doom"
          ],
          [
           "funk"
          ],
          [
           "funk 150 bpm"
          ],
          [
           "funk carioca"
          ],
          [
           "funk das antigas"
          ],
          [
           "funk metal"
          ],
          [
           "funk mexicano"
          ],
          [
           "funk ostentacao"
          ],
          [
           "funk paulista"
          ],
          [
           "funk pop"
          ],
          [
           "funk rock"
          ],
          [
           "funky breaks"
          ],
          [
           "funky tech house"
          ],
          [
           "future bass"
          ],
          [
           "future funk"
          ],
          [
           "future garage"
          ],
          [
           "future house"
          ],
          [
           "future rock"
          ],
          [
           "futurepop"
          ],
          [
           "g funk"
          ],
          [
           "gabba"
          ],
          [
           "gabonese pop"
          ],
          [
           "gaian doom"
          ],
          [
           "gainesville indie"
          ],
          [
           "gaita zuliana"
          ],
          [
           "galante era"
          ],
          [
           "gamelan"
          ],
          [
           "gaming dubstep"
          ],
          [
           "gaming edm"
          ],
          [
           "gangster rap"
          ],
          [
           "garage house"
          ],
          [
           "garage pop"
          ],
          [
           "garage psych"
          ],
          [
           "garage punk"
          ],
          [
           "garage punk blues"
          ],
          [
           "garage rock"
          ],
          [
           "garage rock revival"
          ],
          [
           "gauze pop"
          ],
          [
           "gbvfi"
          ],
          [
           "geek folk"
          ],
          [
           "geek rock"
          ],
          [
           "georgian folk"
          ],
          [
           "german alternative rock"
          ],
          [
           "german baroque"
          ],
          [
           "german choir"
          ],
          [
           "german classical piano"
          ],
          [
           "german country"
          ],
          [
           "german dance"
          ],
          [
           "german hard rock"
          ],
          [
           "german heavy metal"
          ],
          [
           "german house"
          ],
          [
           "german indie"
          ],
          [
           "german jazz"
          ],
          [
           "german literature"
          ],
          [
           "german metal"
          ],
          [
           "german oi"
          ],
          [
           "german opera"
          ],
          [
           "german orchestra"
          ],
          [
           "german pop"
          ],
          [
           "german pop rock"
          ],
          [
           "german post-hardcore"
          ],
          [
           "german power metal"
          ],
          [
           "german punk"
          ],
          [
           "german renaissance"
          ],
          [
           "german rock"
          ],
          [
           "german romanticism"
          ],
          [
           "german show tunes"
          ],
          [
           "german soundtrack"
          ],
          [
           "german techno"
          ],
          [
           "german thrash metal"
          ],
          [
           "german trance"
          ],
          [
           "german underground rap"
          ],
          [
           "ghanaian hip hop"
          ],
          [
           "ghanaian traditional"
          ],
          [
           "ghazal"
          ],
          [
           "ghent indie"
          ],
          [
           "girl group"
          ],
          [
           "glam metal"
          ],
          [
           "glam punk"
          ],
          [
           "glam rock"
          ],
          [
           "glee club"
          ],
          [
           "glitch"
          ],
          [
           "glitch hop"
          ],
          [
           "glitch pop"
          ],
          [
           "glitchcore"
          ],
          [
           "go-go"
          ],
          [
           "goregrind"
          ],
          [
           "gospel"
          ],
          [
           "gospel antigas"
          ],
          [
           "gospel blues"
          ],
          [
           "gospel italiano"
          ],
          [
           "gospel r&b"
          ],
          [
           "gospel rap"
          ],
          [
           "gospel singers"
          ],
          [
           "gospel soul"
          ],
          [
           "gothabilly"
          ],
          [
           "gothenburg indie"
          ],
          [
           "gothenburg metal"
          ],
          [
           "gothic alternative"
          ],
          [
           "gothic americana"
          ],
          [
           "gothic black metal"
          ],
          [
           "gothic metal"
          ],
          [
           "gothic post-punk"
          ],
          [
           "gothic rock"
          ],
          [
           "gothic symphonic metal"
          ],
          [
           "gqom"
          ],
          [
           "grand rapids indie"
          ],
          [
           "grave wave"
          ],
          [
           "greek clarinet"
          ],
          [
           "greek contemporary classical"
          ],
          [
           "greek folk"
          ],
          [
           "greek guitar"
          ],
          [
           "greek house"
          ],
          [
           "greek jazz"
          ],
          [
           "greek pop"
          ],
          [
           "greek swing"
          ],
          [
           "gregorian chant"
          ],
          [
           "grime"
          ],
          [
           "grindcore"
          ],
          [
           "griot"
          ],
          [
           "groove metal"
          ],
          [
           "groove room"
          ],
          [
           "grunge"
          ],
          [
           "grunge pop"
          ],
          [
           "grupera"
          ],
          [
           "gruperas inmortales"
          ],
          [
           "guadalajara indie"
          ],
          [
           "guam indie"
          ],
          [
           "guaracha"
          ],
          [
           "guatemalan pop"
          ],
          [
           "guidance"
          ],
          [
           "guinean pop"
          ],
          [
           "guitarra argentina"
          ],
          [
           "guitarra clasica"
          ],
          [
           "guitarra portuguesa"
          ],
          [
           "gujarati garba"
          ],
          [
           "gujarati pop"
          ],
          [
           "guzheng"
          ],
          [
           "gymcore"
          ],
          [
           "gypsy"
          ],
          [
           "gypsy jazz"
          ],
          [
           "gypsy punk"
          ],
          [
           "haitian traditional"
          ],
          [
           "halifax indie"
          ],
          [
           "halloween"
          ],
          [
           "hamburg electronic"
          ],
          [
           "hammered dulcimer"
          ],
          [
           "hammond organ"
          ],
          [
           "hands up"
          ],
          [
           "hangpan"
          ],
          [
           "happy hardcore"
          ],
          [
           "hard alternative"
          ],
          [
           "hard bop"
          ],
          [
           "hard minimal techno"
          ],
          [
           "hard rock"
          ],
          [
           "hard rock brasileiro"
          ],
          [
           "hardcore"
          ],
          [
           "hardcore hip hop"
          ],
          [
           "hardcore punk"
          ],
          [
           "hardcore techno"
          ],
          [
           "hardstyle"
          ],
          [
           "harlem hip hop"
          ],
          [
           "harlem renaissance"
          ],
          [
           "harmonica blues"
          ],
          [
           "harmonica jazz"
          ],
          [
           "harp"
          ],
          [
           "harpsichord"
          ],
          [
           "haryanvi pop"
          ],
          [
           "hauntology"
          ],
          [
           "hawaiian"
          ],
          [
           "hawaiian hip hop"
          ],
          [
           "hawaiian indie"
          ],
          [
           "healing"
          ],
          [
           "heartland rock"
          ],
          [
           "hi-nrg"
          ],
          [
           "highlife"
          ],
          [
           "hindi hip hop"
          ],
          [
           "hindi indie"
          ],
          [
           "hindustani classical"
          ],
          [
           "hindustani instrumental"
          ],
          [
           "hindustani vocal"
          ],
          [
           "hip hop"
          ],
          [
           "hip hop cubano"
          ],
          [
           "hip house"
          ],
          [
           "hip pop"
          ],
          [
           "hiplife"
          ],
          [
           "histoire pour enfants"
          ],
          [
           "historic classical performance"
          ],
          [
           "historic orchestral performance"
          ],
          [
           "historic piano performance"
          ],
          [
           "historic string quartet"
          ],
          [
           "historical keyboard"
          ],
          [
           "historically informed performance"
          ],
          [
           "hoerspiel"
          ],
          [
           "hokkien pop"
          ],
          [
           "hollywood"
          ],
          [
           "hong kong hip hop"
          ],
          [
           "hong kong indie"
          ],
          [
           "hong kong rock"
          ],
          [
           "honky tonk"
          ],
          [
           "honky-tonk piano"
          ],
          [
           "hopebeat"
          ],
          [
           "horror punk"
          ],
          [
           "horror synth"
          ],
          [
           "horrorcore"
          ],
          [
           "house"
          ],
          [
           "houston rap"
          ],
          [
           "huapango"
          ],
          [
           "huayno"
          ],
          [
           "hula"
          ],
          [
           "humppa"
          ],
          [
           "hungarian choir"
          ],
          [
           "hungarian classical performance"
          ],
          [
           "hungarian classical piano"
          ],
          [
           "hungarian contemporary classical"
          ],
          [
           "hungarian edm"
          ],
          [
           "hungarian folk"
          ],
          [
           "hungarian pop"
          ],
          [
           "hungarian rock"
          ],
          [
           "hungarian techno"
          ],
          [
           "hurdy-gurdy"
          ],
          [
           "hyperpop"
          ],
          [
           "hyphy"
          ],
          [
           "icelandic classical"
          ],
          [
           "icelandic electronic"
          ],
          [
           "icelandic experimental"
          ],
          [
           "icelandic folk"
          ],
          [
           "icelandic indie"
          ],
          [
           "icelandic jazz"
          ],
          [
           "icelandic pop"
          ],
          [
           "icelandic rock"
          ],
          [
           "idaho indie"
          ],
          [
           "idol"
          ],
          [
           "idol rock"
          ],
          [
           "ilahiler"
          ],
          [
           "ilocano pop"
          ],
          [
           "impressionism"
          ],
          [
           "indian classical"
          ],
          [
           "indian edm"
          ],
          [
           "indian folk"
          ],
          [
           "indian fusion"
          ],
          [
           "indian indie"
          ],
          [
           "indian instrumental"
          ],
          [
           "indian jazz"
          ],
          [
           "indiana hip hop"
          ],
          [
           "indie anthem-folk"
          ],
          [
           "indie cafe pop"
          ],
          [
           "indie deutschrap"
          ],
          [
           "indie dream pop"
          ],
          [
           "indie electronica"
          ],
          [
           "indie electropop"
          ],
          [
           "indie folk"
          ],
          [
           "indie game soundtrack"
          ],
          [
           "indie garage rock"
          ],
          [
           "indie hip hop"
          ],
          [
           "indie jazz"
          ],
          [
           "indie pop"
          ],
          [
           "indie pop rap"
          ],
          [
           "indie poptimism"
          ],
          [
           "indie psych-pop"
          ],
          [
           "indie punk"
          ],
          [
           "indie quebecois"
          ],
          [
           "indie r&b"
          ],
          [
           "indie rock"
          ],
          [
           "indie rock mexicano"
          ],
          [
           "indie rockism"
          ],
          [
           "indie shoegaze"
          ],
          [
           "indie singer-songwriter"
          ],
          [
           "indie soul"
          ],
          [
           "indie surf"
          ],
          [
           "indie triste"
          ],
          [
           "indiecoustica"
          ],
          [
           "indietronica"
          ],
          [
           "indonesian hip hop"
          ],
          [
           "indonesian indie"
          ],
          [
           "indonesian pop"
          ],
          [
           "indonesian r&b"
          ],
          [
           "indonesian worship"
          ],
          [
           "industrial"
          ],
          [
           "industrial hardcore"
          ],
          [
           "industrial hip hop"
          ],
          [
           "industrial metal"
          ],
          [
           "industrial rock"
          ],
          [
           "indy indie"
          ],
          [
           "instrumental acoustic guitar"
          ],
          [
           "instrumental bluegrass"
          ],
          [
           "instrumental funk"
          ],
          [
           "instrumental grime"
          ],
          [
           "instrumental math rock"
          ],
          [
           "instrumental post-rock"
          ],
          [
           "instrumental progressive metal"
          ],
          [
           "instrumental rock"
          ],
          [
           "instrumental soul"
          ],
          [
           "instrumental stoner rock"
          ],
          [
           "instrumental surf"
          ],
          [
           "intelligent dance music"
          ],
          [
           "iowa hip hop"
          ],
          [
           "irish accordion"
          ],
          [
           "irish ballad"
          ],
          [
           "irish banjo"
          ],
          [
           "irish classical"
          ],
          [
           "irish country"
          ],
          [
           "irish dance"
          ],
          [
           "irish fiddle"
          ],
          [
           "irish folk"
          ],
          [
           "irish hip hop"
          ],
          [
           "irish indie"
          ],
          [
           "irish metal"
          ],
          [
           "irish pop"
          ],
          [
           "irish pub song"
          ],
          [
           "irish rock"
          ],
          [
           "irish singer-songwriter"
          ],
          [
           "iskelma"
          ],
          [
           "islamic recitation"
          ],
          [
           "isle of wight indie"
          ],
          [
           "israeli classical"
          ],
          [
           "israeli classical piano"
          ],
          [
           "israeli folk"
          ],
          [
           "israeli hip hop"
          ],
          [
           "israeli mediterranean"
          ],
          [
           "israeli pop"
          ],
          [
           "israeli rock"
          ],
          [
           "israeli singer-songwriter"
          ],
          [
           "israeli techno"
          ],
          [
           "italian adult pop"
          ],
          [
           "italian baritone"
          ],
          [
           "italian baroque"
          ],
          [
           "italian baroque ensemble"
          ],
          [
           "italian bass"
          ],
          [
           "italian blues"
          ],
          [
           "italian classical guitar"
          ],
          [
           "italian classical piano"
          ],
          [
           "italian contemporary jazz"
          ],
          [
           "italian disco"
          ],
          [
           "italian gothic"
          ],
          [
           "italian gothic metal"
          ],
          [
           "italian indie pop"
          ],
          [
           "italian jazz"
          ],
          [
           "italian library music"
          ],
          [
           "italian mandolin"
          ],
          [
           "italian metal"
          ],
          [
           "italian mezzo-soprano"
          ],
          [
           "italian modern prog"
          ],
          [
           "italian opera"
          ],
          [
           "italian orchestra"
          ],
          [
           "italian pop rock"
          ],
          [
           "italian power metal"
          ],
          [
           "italian progressive metal"
          ],
          [
           "italian progressive rock"
          ],
          [
           "italian renaissance"
          ],
          [
           "italian romanticism"
          ],
          [
           "italian soprano"
          ],
          [
           "italian soundtrack"
          ],
          [
           "italian techno"
          ],
          [
           "italian tenor"
          ],
          [
           "italian violin"
          ],
          [
           "italo dance"
          ],
          [
           "italo house"
          ],
          [
           "j-acoustic"
          ],
          [
           "j-ambient"
          ],
          [
           "j-dance"
          ],
          [
           "j-division"
          ],
          [
           "j-idol"
          ],
          [
           "j-metal"
          ],
          [
           "j-pixie"
          ],
          [
           "j-pop"
          ],
          [
           "j-pop girl group"
          ],
          [
           "j-poprock"
          ],
          [
           "j-punk"
          ],
          [
           "j-reggae"
          ],
          [
           "j-rock"
          ],
          [
           "jacksonville indie"
          ],
          [
           "jam band"
          ],
          [
           "jamgrass"
          ],
          [
           "jamtronica"
          ],
          [
           "jangle pop"
          ],
          [
           "japanese alternative rock"
          ],
          [
           "japanese chillhop"
          ],
          [
           "japanese city pop"
          ],
          [
           "japanese classical"
          ],
          [
           "japanese classical performance"
          ],
          [
           "japanese classical piano"
          ],
          [
           "japanese concert band"
          ],
          [
           "japanese dream pop"
          ],
          [
           "japanese electronic"
          ],
          [
           "japanese electropop"
          ],
          [
           "japanese emo"
          ],
          [
           "japanese experimental"
          ],
          [
           "japanese folk"
          ],
          [
           "japanese garage rock"
          ],
          [
           "japanese girl punk"
          ],
          [
           "japanese heavy metal"
          ],
          [
           "japanese idm"
          ],
          [
           "japanese indie folk"
          ],
          [
           "japanese indie rock"
          ],
          [
           "japanese instrumental"
          ],
          [
           "japanese jazz"
          ],
          [
           "japanese jazz fusion"
          ],
          [
           "japanese jazztronica"
          ],
          [
           "japanese metalcore"
          ],
          [
           "japanese new wave"
          ],
          [
           "japanese piano"
          ],
          [
           "japanese pop punk"
          ],
          [
           "japanese post-hardcore"
          ],
          [
           "japanese power metal"
          ],
          [
           "japanese prog"
          ],
          [
           "japanese psychedelic"
          ],
          [
           "japanese punk rock"
          ],
          [
           "japanese r&b"
          ],
          [
           "japanese rockabilly"
          ],
          [
           "japanese singer-songwriter"
          ],
          [
           "japanese soundtrack"
          ],
          [
           "japanese traditional"
          ],
          [
           "japanese vgm"
          ],
          [
           "japanese vocal jazz"
          ],
          [
           "jawaiian"
          ],
          [
           "jazz"
          ],
          [
           "jazz accordion"
          ],
          [
           "jazz blues"
          ],
          [
           "jazz boom bap"
          ],
          [
           "jazz brass"
          ],
          [
           "jazz chileno"
          ],
          [
           "jazz clarinet"
          ],
          [
           "jazz colombiano"
          ],
          [
           "jazz cubano"
          ],
          [
           "jazz double bass"
          ],
          [
           "jazz drums"
          ],
          [
           "jazz flute"
          ],
          [
           "jazz funk"
          ],
          [
           "jazz fusion"
          ],
          [
           "jazz guitar"
          ],
          [
           "jazz harp"
          ],
          [
           "jazz metal"
          ],
          [
           "jazz mexicano"
          ],
          [
           "jazz orchestra"
          ],
          [
           "jazz organ"
          ],
          [
           "jazz piano"
          ],
          [
           "jazz pop"
          ],
          [
           "jazz quartet"
          ],
          [
           "jazz rap"
          ],
          [
           "jazz rock"
          ],
          [
           "jazz saxophone"
          ],
          [
           "jazz trio"
          ],
          [
           "jazz trombone"
          ],
          [
           "jazz trumpet"
          ],
          [
           "jazz tuba"
          ],
          [
           "jazz venezolano"
          ],
          [
           "jazz vibraphone"
          ],
          [
           "jazz violin"
          ],
          [
           "jazztronica"
          ],
          [
           "jewish cantorial"
          ],
          [
           "jewish hip hop"
          ],
          [
           "jig and reel"
          ],
          [
           "jordanian pop"
          ],
          [
           "joropo"
          ],
          [
           "jovem guarda"
          ],
          [
           "jug band"
          ],
          [
           "juju"
          ],
          [
           "jump blues"
          ],
          [
           "jump up"
          ],
          [
           "k-indie"
          ],
          [
           "k-pop"
          ],
          [
           "k-pop boy group"
          ],
          [
           "k-pop girl group"
          ],
          [
           "k-rap"
          ],
          [
           "kabarett"
          ],
          [
           "kabyle"
          ],
          [
           "kaneka"
          ],
          [
           "kannada bhava geethe"
          ],
          [
           "kansas city hip hop"
          ],
          [
           "kashmiri pop"
          ],
          [
           "kawaii future bass"
          ],
          [
           "kawaii metal"
          ],
          [
           "kayokyoku"
          ],
          [
           "kc indie"
          ],
          [
           "kent indie"
          ],
          [
           "kentucky hip hop"
          ],
          [
           "kentucky indie"
          ],
          [
           "kentucky metal"
          ],
          [
           "kentucky mountain folk"
          ],
          [
           "kentucky punk"
          ],
          [
           "kentucky roots"
          ],
          [
           "keroncong"
          ],
          [
           "khaleeji iraqi"
          ],
          [
           "khmer"
          ],
          [
           "kids dance party"
          ],
          [
           "kindie rock"
          ],
          [
           "kingston on indie"
          ],
          [
           "kirtan"
          ],
          [
           "kiwi rock"
          ],
          [
           "kizomba antigas"
          ],
          [
           "kleine hoerspiel"
          ],
          [
           "klezmer"
          ],
          [
           "knoxville indie"
          ],
          [
           "kodomo no ongaku"
          ],
          [
           "kolsche karneval"
          ],
          [
           "komedi"
          ],
          [
           "kompa"
          ],
          [
           "kora"
          ],
          [
           "korean classical performance"
          ],
          [
           "korean classical piano"
          ],
          [
           "korean indie rock"
          ],
          [
           "korean mask singer"
          ],
          [
           "korean pop"
          ],
          [
           "korean r&b"
          ],
          [
           "korean trap"
          ],
          [
           "koto"
          ],
          [
           "krautrock"
          ],
          [
           "kundiman"
          ],
          [
           "la indie"
          ],
          [
           "la pop"
          ],
          [
           "laboratorio"
          ],
          [
           "lafayette indie"
          ],
          [
           "laiko"
          ],
          [
           "lancashire indie"
          ],
          [
           "lancaster pa indie"
          ],
          [
           "late romantic era"
          ],
          [
           "latin"
          ],
          [
           "latin afrobeat"
          ],
          [
           "latin alternative"
          ],
          [
           "latin american classical piano"
          ],
          [
           "latin arena pop"
          ],
          [
           "latin christian"
          ],
          [
           "latin classical"
          ],
          [
           "latin funk"
          ],
          [
           "latin hip hop"
          ],
          [
           "latin house"
          ],
          [
           "latin jazz"
          ],
          [
           "latin metal"
          ],
          [
           "latin pop"
          ],
          [
           "latin rock"
          ],
          [
           "latin ska"
          ],
          [
           "latin soundtrack"
          ],
          [
           "latin talent show"
          ],
          [
           "latin tech house"
          ],
          [
           "latin viral pop"
          ],
          [
           "latin worship"
          ],
          [
           "latincore"
          ],
          [
           "latino comedy"
          ],
          [
           "latintronica"
          ],
          [
           "latinx alternative"
          ],
          [
           "latvian pop"
          ],
          [
           "lds"
          ],
          [
           "lds youth"
          ],
          [
           "lebanese pop"
          ],
          [
           "leicester indie"
          ],
          [
           "lexington ky indie"
          ],
          [
           "lgbtq+ hip hop"
          ],
          [
           "library music"
          ],
          [
           "liedermacher"
          ],
          [
           "light music"
          ],
          [
           "lilith"
          ],
          [
           "liquid funk"
          ],
          [
           "lithuanian electronic"
          ],
          [
           "liverpool indie"
          ],
          [
           "livetronica"
          ],
          [
           "lldm"
          ],
          [
           "lo star"
          ],
          [
           "lo-fi"
          ],
          [
           "lo-fi beats"
          ],
          [
           "lo-fi brasileiro"
          ],
          [
           "lo-fi chill"
          ],
          [
           "lo-fi cover"
          ],
          [
           "lo-fi emo"
          ],
          [
           "lo-fi house"
          ],
          [
           "lo-fi indie"
          ],
          [
           "lo-fi vgm"
          ],
          [
           "london rap"
          ],
          [
           "louisiana blues"
          ],
          [
           "louisiana metal"
          ],
          [
           "louisville indie"
          ],
          [
           "louisville underground"
          ],
          [
           "lounge"
          ],
          [
           "louvor"
          ],
          [
           "lovers rock"
          ],
          [
           "lullaby"
          ],
          [
           "lund indie"
          ],
          [
           "lute"
          ],
          [
           "macedonian folk"
          ],
          [
           "madchester"
          ],
          [
           "madrigal"
          ],
          [
           "magyar alternative"
          ],
          [
           "maine hip hop"
          ],
          [
           "maine indie"
          ],
          [
           "mainland chinese pop"
          ],
          [
           "makossa"
          ],
          [
           "malaysian mandopop"
          ],
          [
           "malaysian pop"
          ],
          [
           "malian blues"
          ],
          [
           "mallet"
          ],
          [
           "malmo indie"
          ],
          [
           "mambo"
          ],
          [
           "manchester hip hop"
          ],
          [
           "manchester indie"
          ],
          [
           "mande pop"
          ],
          [
           "mandolin"
          ],
          [
           "mandopop"
          ],
          [
           "manguebeat"
          ],
          [
           "manila sound"
          ],
          [
           "manitoba indie"
          ],
          [
           "mantra"
          ],
          [
           "marathi pop"
          ],
          [
           "marathi traditional"
          ],
          [
           "marching band"
          ],
          [
           "mariachi"
          ],
          [
           "mariachi cristiano"
          ],
          [
           "marimba orquesta"
          ],
          [
           "martial industrial"
          ],
          [
           "mashup"
          ],
          [
           "math rock"
          ],
          [
           "mathcore"
          ],
          [
           "mbalax"
          ],
          [
           "medieval"
          ],
          [
           "medieval folk"
          ],
          [
           "medieval rock"
          ],
          [
           "meditation"
          ],
          [
           "melancholia"
          ],
          [
           "melbourne bounce"
          ],
          [
           "melbourne bounce international"
          ],
          [
           "melbourne indie"
          ],
          [
           "mellow gold"
          ],
          [
           "melodic death metal"
          ],
          [
           "melodic deathcore"
          ],
          [
           "melodic dubstep"
          ],
          [
           "melodic groove metal"
          ],
          [
           "melodic hard rock"
          ],
          [
           "melodic hardcore"
          ],
          [
           "melodic metal"
          ],
          [
           "melodic metalcore"
          ],
          [
           "melodic power metal"
          ],
          [
           "melodic rap"
          ],
          [
           "melodic thrash"
          ],
          [
           "meme rap"
          ],
          [
           "memphis americana"
          ],
          [
           "memphis blues"
          ],
          [
           "memphis hip hop"
          ],
          [
           "memphis indie"
          ],
          [
           "memphis soul"
          ],
          [
           "mento"
          ],
          [
           "merengue"
          ],
          [
           "merengue tipico"
          ],
          [
           "merseybeat"
          ],
          [
           "messianic praise"
          ],
          [
           "metal"
          ],
          [
           "metal guitar"
          ],
          [
           "metal mineiro"
          ],
          [
           "metalcore"
          ],
          [
           "metropopolis"
          ],
          [
           "mexican classic rock"
          ],
          [
           "mexican classical"
          ],
          [
           "mexican hip hop"
          ],
          [
           "mexican indie"
          ],
          [
           "mexican pop"
          ],
          [
           "mexican pop punk"
          ],
          [
           "mexican rock"
          ],
          [
           "mexican rock-and-roll"
          ],
          [
           "mexican son"
          ],
          [
           "mexican traditional"
          ],
          [
           "miami bass"
          ],
          [
           "miami hip hop"
          ],
          [
           "miami indie"
          ],
          [
           "miami metal"
          ],
          [
           "michigan indie"
          ],
          [
           "microhouse"
          ],
          [
           "microtonal"
          ],
          [
           "middle earth"
          ],
          [
           "middle east hip hop"
          ],
          [
           "middle eastern traditional"
          ],
          [
           "midwest americana"
          ],
          [
           "midwest emo"
          ],
          [
           "military cadence"
          ],
          [
           "military rap"
          ],
          [
           "milwaukee indie"
          ],
          [
           "mindfulness"
          ],
          [
           "minecraft"
          ],
          [
           "minimal melodic techno"
          ],
          [
           "minimal tech house"
          ],
          [
           "minimal techno"
          ],
          [
           "minimal wave"
          ],
          [
           "minimalism"
          ],
          [
           "minneapolis indie"
          ],
          [
           "minneapolis metal"
          ],
          [
           "minneapolis punk"
          ],
          [
           "minneapolis sound"
          ],
          [
           "minnesota hip hop"
          ],
          [
           "mississippi hip hop"
          ],
          [
           "mississippi indie"
          ],
          [
           "mizrahi"
          ],
          [
           "mod revival"
          ],
          [
           "modern alternative pop"
          ],
          [
           "modern alternative rock"
          ],
          [
           "modern big band"
          ],
          [
           "modern blues"
          ],
          [
           "modern blues rock"
          ],
          [
           "modern bollywood"
          ],
          [
           "modern country rock"
          ],
          [
           "modern dream pop"
          ],
          [
           "modern folk rock"
          ],
          [
           "modern funk"
          ],
          [
           "modern hard rock"
          ],
          [
           "modern indie pop"
          ],
          [
           "modern jazz piano"
          ],
          [
           "modern jazz trio"
          ],
          [
           "modern old-time"
          ],
          [
           "modern performance"
          ],
          [
           "modern power pop"
          ],
          [
           "modern psychedelic folk"
          ],
          [
           "modern reggae"
          ],
          [
           "modern rock"
          ],
          [
           "modern salsa"
          ],
          [
           "modern ska punk"
          ],
          [
           "modern southern rock"
          ],
          [
           "modern string quartet"
          ],
          [
           "modern swing"
          ],
          [
           "modern uplift"
          ],
          [
           "modular synth"
          ],
          [
           "moldovan pop"
          ],
          [
           "mollywood"
          ],
          [
           "mongolian hip hop"
          ],
          [
           "mongolian pop"
          ],
          [
           "monterrey indie"
          ],
          [
           "montreal indie"
          ],
          [
           "moog"
          ],
          [
           "moombahton"
          ],
          [
           "morna"
          ],
          [
           "motivation"
          ],
          [
           "motown"
          ],
          [
           "mountain dulcimer"
          ],
          [
           "movie tunes"
          ],
          [
           "mpb"
          ],
          [
           "music box"
          ],
          [
           "music hall"
          ],
          [
           "musica afroperuana"
          ],
          [
           "musica alagoana"
          ],
          [
           "musica andina"
          ],
          [
           "musica andina colombiana"
          ],
          [
           "musica antigua"
          ],
          [
           "musica aragonesa"
          ],
          [
           "musica ayacuchana"
          ],
          [
           "musica canaria"
          ],
          [
           "musica costarricense"
          ],
          [
           "musica costena"
          ],
          [
           "musica cristiana guatemalteca"
          ],
          [
           "musica de fondo"
          ],
          [
           "musica gaucha tradicionalista"
          ],
          [
           "musica hondurena"
          ],
          [
           "musica infantil"
          ],
          [
           "musica jibara"
          ],
          [
           "musica juiz-forana"
          ],
          [
           "musica llanera"
          ],
          [
           "musica nicaraguense"
          ],
          [
           "musica para criancas"
          ],
          [
           "musica para ninos"
          ],
          [
           "musica paraibana"
          ],
          [
           "musica piemonteisa"
          ],
          [
           "musica popular colombiana"
          ],
          [
           "musica popular mineira"
          ],
          [
           "musica popular paraense"
          ],
          [
           "musica potosina"
          ],
          [
           "musica prehispanica"
          ],
          [
           "musica sarda"
          ],
          [
           "musica tradicional cubana"
          ],
          [
           "musica tropical guatemalteca"
          ],
          [
           "musical advocacy"
          ],
          [
           "musikkorps"
          ],
          [
           "musique concrete"
          ],
          [
           "musique peule"
          ],
          [
           "musique pour enfant quebecois"
          ],
          [
           "musique pour enfants"
          ],
          [
           "musique touareg"
          ],
          [
           "muzica populara"
          ],
          [
           "muzika l'yeladim"
          ],
          [
           "naija worship"
          ],
          [
           "nantes indie"
          ],
          [
           "narodna muzika"
          ],
          [
           "nashville americana"
          ],
          [
           "nashville hip hop"
          ],
          [
           "nashville indie"
          ],
          [
           "nashville singer-songwriter"
          ],
          [
           "nashville sound"
          ],
          [
           "native american"
          ],
          [
           "native american contemporary"
          ],
          [
           "native american flute"
          ],
          [
           "native american hip hop"
          ],
          [
           "native american spiritual"
          ],
          [
           "navajo"
          ],
          [
           "nederlandse hardstyle"
          ],
          [
           "nederpop"
          ],
          [
           "neo classical metal"
          ],
          [
           "neo kyma"
          ],
          [
           "neo mellow"
          ],
          [
           "neo r&b"
          ],
          [
           "neo soul"
          ],
          [
           "neo-classical"
          ],
          [
           "neo-kraut"
          ],
          [
           "neo-pagan"
          ],
          [
           "neo-progressive"
          ],
          [
           "neo-psychedelic"
          ],
          [
           "neo-rockabilly"
          ],
          [
           "neo-singer-songwriter"
          ],
          [
           "neo-synthpop"
          ],
          [
           "neo-trad metal"
          ],
          [
           "neo-traditional bluegrass"
          ],
          [
           "neo-traditional country"
          ],
          [
           "neoclassical darkwave"
          ],
          [
           "neoclassicism"
          ],
          [
           "neofolk"
          ],
          [
           "neon pop punk"
          ],
          [
           "neotango"
          ],
          [
           "nepali indie"
          ],
          [
           "nepali pop"
          ],
          [
           "nerdcore"
          ],
          [
           "neue deutsche harte"
          ],
          [
           "neue deutsche todeskunst"
          ],
          [
           "neue deutsche welle"
          ],
          [
           "neurofunk"
          ],
          [
           "new age"
          ],
          [
           "new age piano"
          ],
          [
           "new americana"
          ],
          [
           "new beat"
          ],
          [
           "new comedy"
          ],
          [
           "new england americana"
          ],
          [
           "new england emo"
          ],
          [
           "new french touch"
          ],
          [
           "new isolationism"
          ],
          [
           "new jack swing"
          ],
          [
           "new jersey hardcore"
          ],
          [
           "new jersey indie"
          ],
          [
           "new jersey punk"
          ],
          [
           "new jersey rap"
          ],
          [
           "new mexico music"
          ],
          [
           "new orleans blues"
          ],
          [
           "new orleans funk"
          ],
          [
           "new orleans indie"
          ],
          [
           "new orleans jazz"
          ],
          [
           "new orleans rap"
          ],
          [
           "new rave"
          ],
          [
           "new romantic"
          ],
          [
           "new tribe"
          ],
          [
           "new wave"
          ],
          [
           "new wave of thrash metal"
          ],
          [
           "new wave pop"
          ],
          [
           "new weird america"
          ],
          [
           "new york death metal"
          ],
          [
           "new york drill"
          ],
          [
           "new zealand classical"
          ],
          [
           "newcastle indie"
          ],
          [
           "newcastle nsw indie"
          ],
          [
           "nigerian hip hop"
          ],
          [
           "nigerian pop"
          ],
          [
           "nightcore"
          ],
          [
           "nightrun"
          ],
          [
           "ninja"
          ],
          [
           "nintendocore"
          ],
          [
           "nisiotika"
          ],
          [
           "nl folk"
          ],
          [
           "no wave"
          ],
          [
           "noise pop"
          ],
          [
           "noise punk"
          ],
          [
           "noise rock"
          ],
          [
           "nordic classical piano"
          ],
          [
           "nordic contemporary classical"
          ],
          [
           "nordic folk"
          ],
          [
           "nordic house"
          ],
          [
           "nordic orchestra"
          ],
          [
           "nordic post-rock"
          ],
          [
           "nordic soundtrack"
          ],
          [
           "norman ok indie"
          ],
          [
           "norsk lovsang"
          ],
          [
           "norteno"
          ],
          [
           "norteno-sax"
          ],
          [
           "north carolina emo"
          ],
          [
           "north carolina hip hop"
          ],
          [
           "north carolina indie"
          ],
          [
           "north carolina metal"
          ],
          [
           "north carolina roots"
          ],
          [
           "north east england indie"
          ],
          [
           "northern irish indie"
          ],
          [
           "northern irish punk"
          ],
          [
           "northern soul"
          ],
          [
           "norwegian black metal"
          ],
          [
           "norwegian choir"
          ],
          [
           "norwegian classical"
          ],
          [
           "norwegian contemporary jazz"
          ],
          [
           "norwegian death metal"
          ],
          [
           "norwegian experimental"
          ],
          [
           "norwegian hip hop"
          ],
          [
           "norwegian indie"
          ],
          [
           "norwegian jazz"
          ],
          [
           "norwegian metal"
          ],
          [
           "norwegian pop"
          ],
          [
           "norwegian pop rap"
          ],
          [
           "norwegian punk rock"
          ],
          [
           "norwegian rock"
          ],
          [
           "norwegian singer-songwriter"
          ],
          [
           "norwegian space disco"
          ],
          [
           "nottingham indie"
          ],
          [
           "nouvelle chanson francaise"
          ],
          [
           "nova canco"
          ],
          [
           "nova mpb"
          ],
          [
           "nova musica pernambucana"
          ],
          [
           "novelty"
          ],
          [
           "nu age"
          ],
          [
           "nu disco"
          ],
          [
           "nu gaze"
          ],
          [
           "nu jazz"
          ],
          [
           "nu metal"
          ],
          [
           "nu skool breaks"
          ],
          [
           "nu-cumbia"
          ],
          [
           "nu-metalcore"
          ],
          [
           "nubian traditional"
          ],
          [
           "nueva cancion"
          ],
          [
           "nueva ola chilena"
          ],
          [
           "nueva ola peruana"
          ],
          [
           "nuevo flamenco"
          ],
          [
           "nuevo folklore mexicano"
          ],
          [
           "nuevo regional mexicano"
          ],
          [
           "nuevo tango"
          ],
          [
           "nursery"
          ],
          [
           "nwobhm"
          ],
          [
           "nwothm"
          ],
          [
           "ny roots"
          ],
          [
           "nyc pop"
          ],
          [
           "nyc rap"
          ],
          [
           "nyhc"
          ],
          [
           "nz christian"
          ],
          [
           "nz folk"
          ],
          [
           "nz hardcore"
          ],
          [
           "nz indie"
          ],
          [
           "nz pop"
          ],
          [
           "nz punk"
          ],
          [
           "nz reggae"
          ],
          [
           "nz singer-songwriter"
          ],
          [
           "oakland hip hop"
          ],
          [
           "oakland indie"
          ],
          [
           "oc indie"
          ],
          [
           "oc rap"
          ],
          [
           "oceania soundtrack"
          ],
          [
           "ohio hip hop"
          ],
          [
           "ohio indie"
          ],
          [
           "oi"
          ],
          [
           "ok indie"
          ],
          [
           "okc indie"
          ],
          [
           "okinawan pop"
          ],
          [
           "oklahoma country"
          ],
          [
           "old school dancehall"
          ],
          [
           "old school hip hop"
          ],
          [
           "old school rap francais"
          ],
          [
           "old school thrash"
          ],
          [
           "old school uk hip hop"
          ],
          [
           "old west"
          ],
          [
           "old-time"
          ],
          [
           "old-time fiddle"
          ],
          [
           "olympia wa indie"
          ],
          [
           "omaha indie"
          ],
          [
           "one-person band"
          ],
          [
           "ontario indie"
          ],
          [
           "opera"
          ],
          [
           "opera chorus"
          ],
          [
           "opera metal"
          ],
          [
           "operatic pop"
          ],
          [
           "operetta"
          ],
          [
           "opm"
          ],
          [
           "oratory"
          ],
          [
           "orchestra"
          ],
          [
           "orchestral performance"
          ],
          [
           "orebro indie"
          ],
          [
           "organic ambient"
          ],
          [
           "organic electronic"
          ],
          [
           "organic house"
          ],
          [
           "orgcore"
          ],
          [
           "oriental classical"
          ],
          [
           "orkney and shetland folk"
          ],
          [
           "orlando indie"
          ],
          [
           "orquesta tipica"
          ],
          [
           "orthodox chant"
          ],
          [
           "oshare kei"
          ],
          [
           "otacore"
          ],
          [
           "oth indie"
          ],
          [
           "ottawa indie"
          ],
          [
           "ottawa rap"
          ],
          [
           "oud"
          ],
          [
           "outer hip hop"
          ],
          [
           "outlaw country"
          ],
          [
           "outsider"
          ],
          [
           "outsider house"
          ],
          [
           "oxford choir"
          ],
          [
           "oxford indie"
          ],
          [
           "p funk"
          ],
          [
           "pagan black metal"
          ],
          [
           "pagode"
          ],
          [
           "pagode baiano"
          ],
          [
           "paisley underground"
          ],
          [
           "pakistani folk"
          ],
          [
           "pakistani hip hop"
          ],
          [
           "pakistani pop"
          ],
          [
           "palestinian pop"
          ],
          [
           "palm desert scene"
          ],
          [
           "panamanian pop"
          ],
          [
           "panamanian rock"
          ],
          [
           "panpipe"
          ],
          [
           "papuri"
          ],
          [
           "parody"
          ],
          [
           "partido alto"
          ],
          [
           "partyschlager"
          ],
          [
           "pei indie"
          ],
          [
           "permanent wave"
          ],
          [
           "perreo"
          ],
          [
           "persian pop"
          ],
          [
           "persian traditional"
          ],
          [
           "perth indie"
          ],
          [
           "peruvian hip hop"
          ],
          [
           "peruvian rock"
          ],
          [
           "pet calming"
          ],
          [
           "philly indie"
          ],
          [
           "philly rap"
          ],
          [
           "philly soul"
          ],
          [
           "phoenix indie"
          ],
          [
           "phonk"
          ],
          [
           "pianissimo"
          ],
          [
           "piano blues"
          ],
          [
           "piano cover"
          ],
          [
           "piano mpb"
          ],
          [
           "piano rock"
          ],
          [
           "pibroch"
          ],
          [
           "piedmont blues"
          ],
          [
           "pinoy hip hop"
          ],
          [
           "pinoy indie"
          ],
          [
           "pinoy pop punk"
          ],
          [
           "pinoy praise"
          ],
          [
           "pinoy r&b"
          ],
          [
           "pinoy reggae"
          ],
          [
           "pinoy rock"
          ],
          [
           "pinoy traditional"
          ],
          [
           "pinoy trap"
          ],
          [
           "pirate"
          ],
          [
           "pittsburgh indie"
          ],
          [
           "pittsburgh rap"
          ],
          [
           "pittsburgh rock"
          ],
          [
           "pixie"
          ],
          [
           "plunderphonics"
          ],
          [
           "poetry"
          ],
          [
           "polca paraguaya"
          ],
          [
           "polish blues"
          ],
          [
           "polish classical"
          ],
          [
           "polish classical piano"
          ],
          [
           "polish contemporary classical"
          ],
          [
           "polish jazz"
          ],
          [
           "polish modern jazz"
          ],
          [
           "polish pop"
          ],
          [
           "polish post-rock"
          ],
          [
           "polish reggae"
          ],
          [
           "polish rock"
          ],
          [
           "political hip hop"
          ],
          [
           "polka"
          ],
          [
           "polynesian hip hop"
          ],
          [
           "polynesian pop"
          ],
          [
           "polyphony"
          ],
          [
           "pony"
          ],
          [
           "pop"
          ],
          [
           "pop argentino"
          ],
          [
           "pop chileno"
          ],
          [
           "pop dance"
          ],
          [
           "pop edm"
          ],
          [
           "pop electronico"
          ],
          [
           "pop emo"
          ],
          [
           "pop flamenco"
          ],
          [
           "pop folk"
          ],
          [
           "pop house"
          ],
          [
           "pop nacional"
          ],
          [
           "pop nacional antigas"
          ],
          [
           "pop peruano"
          ],
          [
           "pop punk"
          ],
          [
           "pop quebecois"
          ],
          [
           "pop r&b"
          ],
          [
           "pop rap"
          ],
          [
           "pop reggaeton"
          ],
          [
           "pop rock"
          ],
          [
           "pop rock brasileiro"
          ],
          [
           "pop romantico"
          ],
          [
           "pop soul"
          ],
          [
           "pop venezolano"
          ],
          [
           "pop violin"
          ],
          [
           "popgaze"
          ],
          [
           "popping"
          ],
          [
           "pops orchestra"
          ],
          [
           "popwave"
          ],
          [
           "pornogrind"
          ],
          [
           "porro"
          ],
          [
           "portland hip hop"
          ],
          [
           "portland indie"
          ],
          [
           "portland metal"
          ],
          [
           "portland punk"
          ],
          [
           "portuguese early music"
          ],
          [
           "post-disco"
          ],
          [
           "post-disco soul"
          ],
          [
           "post-doom metal"
          ],
          [
           "post-grunge"
          ],
          [
           "post-hardcore"
          ],
          [
           "post-metal"
          ],
          [
           "post-minimalism"
          ],
          [
           "post-post-hardcore"
          ],
          [
           "post-punk"
          ],
          [
           "post-punk argentina"
          ],
          [
           "post-rock"
          ],
          [
           "post-romantic era"
          ],
          [
           "post-screamo"
          ],
          [
           "post-teen pop"
          ],
          [
           "power metal"
          ],
          [
           "power pop"
          ],
          [
           "power thrash"
          ],
          [
           "power-pop punk"
          ],
          [
           "praise"
          ],
          [
           "prepared piano"
          ],
          [
           "preschool children's music"
          ],
          [
           "prog quebec"
          ],
          [
           "progressive alternative"
          ],
          [
           "progressive bluegrass"
          ],
          [
           "progressive deathcore"
          ],
          [
           "progressive electro house"
          ],
          [
           "progressive groove metal"
          ],
          [
           "progressive house"
          ],
          [
           "progressive jazz fusion"
          ],
          [
           "progressive metal"
          ],
          [
           "progressive metalcore"
          ],
          [
           "progressive post-hardcore"
          ],
          [
           "progressive power metal"
          ],
          [
           "progressive psytrance"
          ],
          [
           "progressive rock"
          ],
          [
           "progressive sludge"
          ],
          [
           "progressive trance"
          ],
          [
           "progressive trance house"
          ],
          [
           "progressive uplifting trance"
          ],
          [
           "proto-rap"
          ],
          [
           "proto-techno"
          ],
          [
           "protopunk"
          ],
          [
           "psalmen"
          ],
          [
           "psicodelia brasileira"
          ],
          [
           "psybass"
          ],
          [
           "psychedelic blues-rock"
          ],
          [
           "psychedelic doom"
          ],
          [
           "psychedelic folk"
          ],
          [
           "psychedelic folk rock"
          ],
          [
           "psychedelic hip hop"
          ],
          [
           "psychedelic pop"
          ],
          [
           "psychedelic punk"
          ],
          [
           "psychedelic rock"
          ],
          [
           "psychedelic soul"
          ],
          [
           "psychedelic trance"
          ],
          [
           "psychill"
          ],
          [
           "psychobilly"
          ],
          [
           "pub rock"
          ],
          [
           "puerto rican folk"
          ],
          [
           "puerto rican pop"
          ],
          [
           "puerto rican rock"
          ],
          [
           "punjabi folk"
          ],
          [
           "punjabi hip hop"
          ],
          [
           "punjabi pop"
          ],
          [
           "punk"
          ],
          [
           "punk 'n' roll"
          ],
          [
           "punk blues"
          ],
          [
           "punk rock italiano"
          ],
          [
           "punk rock mexicano"
          ],
          [
           "punta"
          ],
          [
           "purple sound"
          ],
          [
           "qawwali"
          ],
          [
           "quartetto d'archi"
          ],
          [
           "quatuor a cordes"
          ],
          [
           "quebec death metal"
          ],
          [
           "quebec indie"
          ],
          [
           "queens hip hop"
          ],
          [
           "queer country"
          ],
          [
           "queercore"
          ],
          [
           "quiet storm"
          ],
          [
           "quran"
          ],
          [
           "r&b"
          ],
          [
           "r&b en espanol"
          ],
          [
           "rabindra sangeet"
          ],
          [
           "radio symphony"
          ],
          [
           "ragtime"
          ],
          [
           "rai"
          ],
          [
           "ranchera"
          ],
          [
           "rap"
          ],
          [
           "rap chileno"
          ],
          [
           "rap conciencia"
          ],
          [
           "rap conscient"
          ],
          [
           "rap cristiano"
          ],
          [
           "rap dominicano"
          ],
          [
           "rap kreyol"
          ],
          [
           "rap latina"
          ],
          [
           "rap metal"
          ],
          [
           "rap nacional antigo"
          ],
          [
           "rap napoletano"
          ],
          [
           "rap rock"
          ],
          [
           "rap underground mexicano"
          ],
          [
           "rare groove"
          ],
          [
           "rave"
          ],
          [
           "rawstyle"
          ],
          [
           "reading"
          ],
          [
           "reading indie"
          ],
          [
           "rebel blues"
          ],
          [
           "rebetiko"
          ],
          [
           "recorder"
          ],
          [
           "red dirt"
          ],
          [
           "redneck"
          ],
          [
           "reggae"
          ],
          [
           "reggae en espanol"
          ],
          [
           "reggae fusion"
          ],
          [
           "reggae rock"
          ],
          [
           "reggaeton"
          ],
          [
           "reggaeton colombiano"
          ],
          [
           "reggaeton cristiano"
          ],
          [
           "reggaeton flow"
          ],
          [
           "reggaeton mexicano"
          ],
          [
           "regional mexican"
          ],
          [
           "relaxative"
          ],
          [
           "renaissance"
          ],
          [
           "rennes indie"
          ],
          [
           "retro metal"
          ],
          [
           "retro soul"
          ],
          [
           "rhode island indie"
          ],
          [
           "rhode island rap"
          ],
          [
           "rhythm and blues"
          ],
          [
           "riddim"
          ],
          [
           "rif"
          ],
          [
           "riot grrrl"
          ],
          [
           "ritmo kombina"
          ],
          [
           "rochester mn indie"
          ],
          [
           "rochester ny indie"
          ],
          [
           "rock"
          ],
          [
           "rock alternatif francais"
          ],
          [
           "rock alternativo brasileiro"
          ],
          [
           "rock andaluz"
          ],
          [
           "rock baiano"
          ],
          [
           "rock brasiliense"
          ],
          [
           "rock chapin"
          ],
          [
           "rock cristiano"
          ],
          [
           "rock drums"
          ],
          [
           "rock en espanol"
          ],
          [
           "rock gaucho"
          ],
          [
           "rock independant francais"
          ],
          [
           "rock kapak"
          ],
          [
           "rock keyboard"
          ],
          [
           "rock nacional"
          ],
          [
           "rock nacional brasileiro"
          ],
          [
           "rock pernambucano"
          ],
          [
           "rock progressif francais"
          ],
          [
           "rock steady"
          ],
          [
           "rock urbano mexicano"
          ],
          [
           "rock-and-roll"
          ],
          [
           "rockabilly"
          ],
          [
           "rockabilly en espanol"
          ],
          [
           "roda de samba"
          ],
          [
           "romanian classical piano"
          ],
          [
           "romanian electronic"
          ],
          [
           "romanian folk"
          ],
          [
           "romanian pop"
          ],
          [
           "romanian rock"
          ],
          [
           "romantico"
          ],
          [
           "roots americana"
          ],
          [
           "roots reggae"
          ],
          [
           "roots rock"
          ],
          [
           "roots worship"
          ],
          [
           "rosary"
          ],
          [
           "rumba"
          ],
          [
           "rumba congolaise"
          ],
          [
           "rune folk"
          ],
          [
           "russian alternative rock"
          ],
          [
           "russian ccm"
          ],
          [
           "russian chanson"
          ],
          [
           "russian choir"
          ],
          [
           "russian classical piano"
          ],
          [
           "russian dance"
          ],
          [
           "russian edm"
          ],
          [
           "russian folk"
          ],
          [
           "russian folk rock"
          ],
          [
           "russian jazz"
          ],
          [
           "russian metal"
          ],
          [
           "russian metalcore"
          ],
          [
           "russian modern classical"
          ],
          [
           "russian orchestra"
          ],
          [
           "russian pop"
          ],
          [
           "russian post-punk"
          ],
          [
           "russian punk"
          ],
          [
           "russian rock"
          ],
          [
           "russian romanticism"
          ],
          [
           "russian shoegaze"
          ],
          [
           "russian trance"
          ],
          [
           "rva indie"
          ],
          [
           "rwandan traditional"
          ],
          [
           "ryukyu ongaku"
          ],
          [
           "sacramento hip hop"
          ],
          [
           "sacramento indie"
          ],
          [
           "sacred steel"
          ],
          [
           "sad rap"
          ],
          [
           "salsa"
          ],
          [
           "salsa choke"
          ],
          [
           "salsa colombiana"
          ],
          [
           "salsa cubana"
          ],
          [
           "salsa international"
          ],
          [
           "salsa peruana"
          ],
          [
           "salsa puertorriquena"
          ],
          [
           "salsa venezolana"
          ],
          [
           "samba"
          ],
          [
           "samba de roda"
          ],
          [
           "samba moderno"
          ],
          [
           "samba-enredo"
          ],
          [
           "samba-jazz"
          ],
          [
           "samba-rock"
          ],
          [
           "san antonio rap"
          ],
          [
           "san diego indie"
          ],
          [
           "san diego rap"
          ],
          [
           "san marcos tx indie"
          ],
          [
           "sandalwood"
          ],
          [
           "sarod"
          ],
          [
           "saskatchewan indie"
          ],
          [
           "scam rap"
          ],
          [
           "scandinavian r&b"
          ],
          [
           "scandipop"
          ],
          [
           "schlager"
          ],
          [
           "scorecore"
          ],
          [
           "scottish electronic"
          ],
          [
           "scottish fiddle"
          ],
          [
           "scottish folk"
          ],
          [
           "scottish hip hop"
          ],
          [
           "scottish indie"
          ],
          [
           "scottish jazz"
          ],
          [
           "scottish metal"
          ],
          [
           "scottish new wave"
          ],
          [
           "scottish rock"
          ],
          [
           "scottish singer-songwriter"
          ],
          [
           "scratch"
          ],
          [
           "scream rap"
          ],
          [
           "screamo"
          ],
          [
           "seattle hip hop"
          ],
          [
           "seattle indie"
          ],
          [
           "second line"
          ],
          [
           "sefardi"
          ],
          [
           "serbian electronic"
          ],
          [
           "serialism"
          ],
          [
           "sertanejo"
          ],
          [
           "sertanejo pop"
          ],
          [
           "sertanejo tradicional"
          ],
          [
           "sertanejo universitario"
          ],
          [
           "sevdah"
          ],
          [
           "sevillanas"
          ],
          [
           "shaabi"
          ],
          [
           "shabad"
          ],
          [
           "shakuhachi"
          ],
          [
           "shamanic"
          ],
          [
           "shanty"
          ],
          [
           "sheffield indie"
          ],
          [
           "shibuya-kei"
          ],
          [
           "shimmer pop"
          ],
          [
           "shimmer psych"
          ],
          [
           "shiver pop"
          ],
          [
           "shoegaze"
          ],
          [
           "show tunes"
          ],
          [
           "shred"
          ],
          [
           "shush"
          ],
          [
           "sierreno"
          ],
          [
           "singaporean mandopop"
          ],
          [
           "singaporean pop"
          ],
          [
           "singaporean singer-songwriter"
          ],
          [
           "singer-songwriter"
          ],
          [
           "singing bowl"
          ],
          [
           "sitar"
          ],
          [
           "ska"
          ],
          [
           "ska argentino"
          ],
          [
           "ska chileno"
          ],
          [
           "ska jazz"
          ],
          [
           "ska mexicano"
          ],
          [
           "ska punk"
          ],
          [
           "ska revival"
          ],
          [
           "skate punk"
          ],
          [
           "skiffle"
          ],
          [
           "skramz"
          ],
          [
           "sky room"
          ],
          [
           "slack-key guitar"
          ],
          [
           "slam poetry"
          ],
          [
           "slamming deathcore"
          ],
          [
           "slavic folk metal"
          ],
          [
           "slayer"
          ],
          [
           "slc indie"
          ],
          [
           "sleaze rock"
          ],
          [
           "sleep"
          ],
          [
           "slovak electronic"
          ],
          [
           "slovenian electronic"
          ],
          [
           "slovenian metal"
          ],
          [
           "slow game"
          ],
          [
           "slowcore"
          ],
          [
           "sludge metal"
          ],
          [
           "small room"
          ],
          [
           "smooth jazz"
          ],
          [
           "smooth saxophone"
          ],
          [
           "smooth soul"
          ],
          [
           "soca"
          ],
          [
           "socal pop punk"
          ],
          [
           "social media pop"
          ],
          [
           "soda pop"
          ],
          [
           "soft rock"
          ],
          [
           "solipsynthm"
          ],
          [
           "son cubano"
          ],
          [
           "son cubano clasico"
          ],
          [
           "son jarocho"
          ],
          [
           "sophisti-pop"
          ],
          [
           "sotalaulut"
          ],
          [
           "soukous"
          ],
          [
           "soul"
          ],
          [
           "soul blues"
          ],
          [
           "soul flow"
          ],
          [
           "soul jazz"
          ],
          [
           "souldies"
          ],
          [
           "sound"
          ],
          [
           "sound art"
          ],
          [
           "sound effects"
          ],
          [
           "sound team"
          ],
          [
           "soundtrack"
          ],
          [
           "south african alternative"
          ],
          [
           "south african choral"
          ],
          [
           "south african country"
          ],
          [
           "south african hip hop"
          ],
          [
           "south african house"
          ],
          [
           "south african jazz"
          ],
          [
           "south african pop"
          ],
          [
           "south african pop dance"
          ],
          [
           "south african rock"
          ],
          [
           "south carolina hip hop"
          ],
          [
           "south carolina indie"
          ],
          [
           "south carolina metal"
          ],
          [
           "south dakota indie"
          ],
          [
           "southampton indie"
          ],
          [
           "southern americana"
          ],
          [
           "southern gospel"
          ],
          [
           "southern hip hop"
          ],
          [
           "southern metal"
          ],
          [
           "southern rock"
          ],
          [
           "southern soul"
          ],
          [
           "southern soul blues"
          ],
          [
           "soviet synthpop"
          ],
          [
           "sovietwave"
          ],
          [
           "spa"
          ],
          [
           "space age pop"
          ],
          [
           "space ambient"
          ],
          [
           "space rock"
          ],
          [
           "spanish baroque"
          ],
          [
           "spanish classical"
          ],
          [
           "spanish classical piano"
          ],
          [
           "spanish folk metal"
          ],
          [
           "spanish hip hop"
          ],
          [
           "spanish indie pop"
          ],
          [
           "spanish invasion"
          ],
          [
           "spanish metal"
          ],
          [
           "spanish modern rock"
          ],
          [
           "spanish new wave"
          ],
          [
           "spanish noise pop"
          ],
          [
           "spanish pop"
          ],
          [
           "spanish pop rock"
          ],
          [
           "spanish renaissance"
          ],
          [
           "spanish rock"
          ],
          [
           "spanish synthpop"
          ],
          [
           "spanish techno"
          ],
          [
           "speed garage"
          ],
          [
           "speed metal"
          ],
          [
           "speedcore"
          ],
          [
           "spiritual hip hop"
          ],
          [
           "spiritual jazz"
          ],
          [
           "spirituals"
          ],
          [
           "springfield mo indie"
          ],
          [
           "spytrack"
          ],
          [
           "st louis rap"
          ],
          [
           "steampunk"
          ],
          [
           "steel guitar"
          ],
          [
           "steelpan"
          ],
          [
           "stl indie"
          ],
          [
           "stomp and flutter"
          ],
          [
           "stomp and holler"
          ],
          [
           "stomp and whittle"
          ],
          [
           "stomp pop"
          ],
          [
           "stoner metal"
          ],
          [
           "stoner rock"
          ],
          [
           "straight edge"
          ],
          [
           "straight-ahead jazz"
          ],
          [
           "street band"
          ],
          [
           "street punk"
          ],
          [
           "streichquartett"
          ],
          [
           "stride"
          ],
          [
           "string band"
          ],
          [
           "string folk"
          ],
          [
           "string orchestra"
          ],
          [
           "string quartet"
          ],
          [
           "strut"
          ],
          [
           "substep"
          ],
          [
           "sudanese pop"
          ],
          [
           "sufi"
          ],
          [
           "sufi chant"
          ],
          [
           "sunshine pop"
          ],
          [
           "supergroup"
          ],
          [
           "surf music"
          ],
          [
           "surf punk"
          ],
          [
           "svensk progg"
          ],
          [
           "swamp blues"
          ],
          [
           "swamp pop"
          ],
          [
           "swamp rock"
          ],
          [
           "swancore"
          ],
          [
           "swedish alternative rock"
          ],
          [
           "swedish americana"
          ],
          [
           "swedish black metal"
          ],
          [
           "swedish choir"
          ],
          [
           "swedish country"
          ],
          [
           "swedish dancehall"
          ],
          [
           "swedish death metal"
          ],
          [
           "swedish doom metal"
          ],
          [
           "swedish electronic"
          ],
          [
           "swedish electropop"
          ],
          [
           "swedish eurodance"
          ],
          [
           "swedish garage rock"
          ],
          [
           "swedish hard rock"
          ],
          [
           "swedish hardcore"
          ],
          [
           "swedish heavy metal"
          ],
          [
           "swedish house"
          ],
          [
           "swedish idol pop"
          ],
          [
           "swedish indie folk"
          ],
          [
           "swedish indie pop"
          ],
          [
           "swedish indie rock"
          ],
          [
           "swedish jazz"
          ],
          [
           "swedish jazz orkester"
          ],
          [
           "swedish melodic rock"
          ],
          [
           "swedish metal"
          ],
          [
           "swedish metalcore"
          ],
          [
           "swedish pop"
          ],
          [
           "swedish post-hardcore"
          ],
          [
           "swedish power metal"
          ],
          [
           "swedish prog"
          ],
          [
           "swedish progressive metal"
          ],
          [
           "swedish rock-and-roll"
          ],
          [
           "swedish singer-songwriter"
          ],
          [
           "swedish soul"
          ],
          [
           "swedish stoner rock"
          ],
          [
           "swedish synth"
          ],
          [
           "swedish synthpop"
          ],
          [
           "swedish tropical house"
          ],
          [
           "swedish underground rap"
          ],
          [
           "swing"
          ],
          [
           "swing italiano"
          ],
          [
           "swing revival"
          ],
          [
           "swiss black metal"
          ],
          [
           "swiss classical piano"
          ],
          [
           "swiss country"
          ],
          [
           "swiss metal"
          ],
          [
           "swiss pop"
          ],
          [
           "swiss rock"
          ],
          [
           "swiss worship"
          ],
          [
           "sydney indie"
          ],
          [
           "symphonic black metal"
          ],
          [
           "symphonic metal"
          ],
          [
           "symphonic rock"
          ],
          [
           "synth funk"
          ],
          [
           "synthpop"
          ],
          [
           "synthwave"
          ],
          [
           "syrian pop"
          ],
          [
           "tabla"
          ],
          [
           "tagalog rap"
          ],
          [
           "tagalog worship"
          ],
          [
           "taiwan campus folk"
          ],
          [
           "taiwan classical performance"
          ],
          [
           "taiwan hip hop"
          ],
          [
           "taiwan indie"
          ],
          [
           "taiwan pop"
          ],
          [
           "taiwan singer-songwriter"
          ],
          [
           "tajik pop"
          ],
          [
           "talent show"
          ],
          [
           "tamaulipas indie"
          ],
          [
           "tamaulipas rap"
          ],
          [
           "tamborazo"
          ],
          [
           "tamil hip hop"
          ],
          [
           "tamil pop"
          ],
          [
           "tamil worship"
          ],
          [
           "tampa indie"
          ],
          [
           "tango"
          ],
          [
           "tango cancion"
          ],
          [
           "tape club"
          ],
          [
           "tech house"
          ],
          [
           "technical death metal"
          ],
          [
           "technical deathcore"
          ],
          [
           "technical groove metal"
          ],
          [
           "technical melodic death metal"
          ],
          [
           "technical thrash"
          ],
          [
           "techno"
          ],
          [
           "techno kayo"
          ],
          [
           "tecnobanda"
          ],
          [
           "teen pop"
          ],
          [
           "tejano"
          ],
          [
           "tempe indie"
          ],
          [
           "tennessee hip hop"
          ],
          [
           "tennessee metal"
          ],
          [
           "tex-mex"
          ],
          [
           "texas blues"
          ],
          [
           "texas country"
          ],
          [
           "texas latin rap"
          ],
          [
           "texas pop punk"
          ],
          [
           "texas punk"
          ],
          [
           "thai folk"
          ],
          [
           "thai folk rock"
          ],
          [
           "thai idol"
          ],
          [
           "thai indie rock"
          ],
          [
           "thai pop"
          ],
          [
           "thall"
          ],
          [
           "theme"
          ],
          [
           "theremin"
          ],
          [
           "thrash core"
          ],
          [
           "thrash metal"
          ],
          [
           "timba"
          ],
          [
           "tin pan alley"
          ],
          [
           "tipico"
          ],
          [
           "tolkien metal"
          ],
          [
           "tollywood"
          ],
          [
           "tone"
          ],
          [
           "torch song"
          ],
          [
           "toronto indie"
          ],
          [
           "toronto rap"
          ],
          [
           "trad jazz catala"
          ],
          [
           "traditional bluegrass"
          ],
          [
           "traditional blues"
          ],
          [
           "traditional british folk"
          ],
          [
           "traditional country"
          ],
          [
           "traditional folk"
          ],
          [
           "traditional funk"
          ],
          [
           "traditional rockabilly"
          ],
          [
           "traditional ska"
          ],
          [
           "traditional soul"
          ],
          [
           "trance"
          ],
          [
           "trance mexicano"
          ],
          [
           "trancecore"
          ],
          [
           "transpop"
          ],
          [
           "trap"
          ],
          [
           "trap argentino"
          ],
          [
           "trap chileno"
          ],
          [
           "trap dominicano"
          ],
          [
           "trap latino"
          ],
          [
           "trap mexicano"
          ],
          [
           "trap queen"
          ],
          [
           "trap soul"
          ],
          [
           "trap triste"
          ],
          [
           "trap venezolano"
          ],
          [
           "traprun"
          ],
          [
           "trash rock"
          ],
          [
           "triangle indie"
          ],
          [
           "tribal house"
          ],
          [
           "trinidadian reggae"
          ],
          [
           "trio cubano"
          ],
          [
           "trip hop"
          ],
          [
           "trival"
          ],
          [
           "tropical"
          ],
          [
           "tropical house"
          ],
          [
           "tropicalia"
          ],
          [
           "trova"
          ],
          [
           "trova mexicana"
          ],
          [
           "truck-driving country"
          ],
          [
           "tuareg guitar"
          ],
          [
           "tucson indie"
          ],
          [
           "tulsa indie"
          ],
          [
           "tuna estudiantil"
          ],
          [
           "tunisian pop"
          ],
          [
           "turbo folk"
          ],
          [
           "turkish classical"
          ],
          [
           "turkish classical performance"
          ],
          [
           "turkish edm"
          ],
          [
           "turkish experimental"
          ],
          [
           "turkish folk"
          ],
          [
           "turkish jazz"
          ],
          [
           "turkish modern jazz"
          ],
          [
           "turkish pop"
          ],
          [
           "turkish psych"
          ],
          [
           "turkish trap"
          ],
          [
           "turkish trap pop"
          ],
          [
           "turntablism"
          ],
          [
           "twee pop"
          ],
          [
           "twoubadou"
          ],
          [
           "tzadik"
          ],
          [
           "ugandan pop"
          ],
          [
           "uilleann pipes"
          ],
          [
           "uk alternative hip hop"
          ],
          [
           "uk alternative pop"
          ],
          [
           "uk americana"
          ],
          [
           "uk contemporary jazz"
          ],
          [
           "uk contemporary r&b"
          ],
          [
           "uk dance"
          ],
          [
           "uk dancehall"
          ],
          [
           "uk diy punk"
          ],
          [
           "uk dnb"
          ],
          [
           "uk doom metal"
          ],
          [
           "uk dub"
          ],
          [
           "uk experimental electronic"
          ],
          [
           "uk funky"
          ],
          [
           "uk garage"
          ],
          [
           "uk hip hop"
          ],
          [
           "uk house"
          ],
          [
           "uk metalcore"
          ],
          [
           "uk noise rock"
          ],
          [
           "uk pop"
          ],
          [
           "uk pop punk"
          ],
          [
           "uk post-hardcore"
          ],
          [
           "uk post-punk"
          ],
          [
           "uk reggae"
          ],
          [
           "uk rockabilly"
          ],
          [
           "uk stoner rock"
          ],
          [
           "uk worship"
          ],
          [
           "uk82"
          ],
          [
           "ukrainian choir"
          ],
          [
           "ukrainian classical"
          ],
          [
           "ukrainian classical piano"
          ],
          [
           "ukrainian electronic"
          ],
          [
           "ukrainian pop"
          ],
          [
           "ukulele"
          ],
          [
           "umbanda"
          ],
          [
           "underground hip hop"
          ],
          [
           "underground power pop"
          ],
          [
           "underground rap"
          ],
          [
           "university choir"
          ],
          [
           "uplifting trance"
          ],
          [
           "uptempo hardcore"
          ],
          [
           "urban contemporary"
          ],
          [
           "urbano espanol"
          ],
          [
           "us power metal"
          ],
          [
           "utah indie"
          ],
          [
           "uzbek pop"
          ],
          [
           "uzbek traditional"
          ],
          [
           "v-pop"
          ],
          [
           "vallenato"
          ],
          [
           "vallenato moderno"
          ],
          [
           "vancouver indie"
          ],
          [
           "vancouver metal"
          ],
          [
           "vancouver punk"
          ],
          [
           "vapor pop"
          ],
          [
           "vapor soul"
          ],
          [
           "vapor trap"
          ],
          [
           "vapor twitch"
          ],
          [
           "vaporwave"
          ],
          [
           "variete francaise"
          ],
          [
           "vaudeville"
          ],
          [
           "vbs"
          ],
          [
           "veena"
          ],
          [
           "vegan straight edge"
          ],
          [
           "vegas indie"
          ],
          [
           "velha guarda"
          ],
          [
           "venezuelan hip hop"
          ],
          [
           "venezuelan indie"
          ],
          [
           "venezuelan rock"
          ],
          [
           "veracruz indie"
          ],
          [
           "vermont indie"
          ],
          [
           "vgm instrumental"
          ],
          [
           "vgm remix"
          ],
          [
           "victoria bc indie"
          ],
          [
           "victorian britain"
          ],
          [
           "video game music"
          ],
          [
           "vienna indie"
          ],
          [
           "vietnamese bolero"
          ],
          [
           "vietnamese pop"
          ],
          [
           "viking black metal"
          ],
          [
           "viking folk"
          ],
          [
           "viking metal"
          ],
          [
           "villancicos"
          ],
          [
           "vintage chanson"
          ],
          [
           "vintage chinese pop"
          ],
          [
           "vintage classical singing"
          ],
          [
           "vintage country folk"
          ],
          [
           "vintage dutch pop"
          ],
          [
           "vintage french electronic"
          ],
          [
           "vintage gospel"
          ],
          [
           "vintage hollywood"
          ],
          [
           "vintage italian pop"
          ],
          [
           "vintage italian soundtrack"
          ],
          [
           "vintage jazz"
          ],
          [
           "vintage old-time"
          ],
          [
           "vintage rockabilly"
          ],
          [
           "vintage schlager"
          ],
          [
           "vintage spanish pop"
          ],
          [
           "vintage swedish pop"
          ],
          [
           "vintage swing"
          ],
          [
           "vintage tango"
          ],
          [
           "viola"
          ],
          [
           "violao"
          ],
          [
           "violao classico"
          ],
          [
           "violin"
          ],
          [
           "viral pop"
          ],
          [
           "viral rap"
          ],
          [
           "viral trap"
          ],
          [
           "virgin islands reggae"
          ],
          [
           "virginia hip hop"
          ],
          [
           "virginia metal"
          ],
          [
           "virginia punk"
          ],
          [
           "visor"
          ],
          [
           "visual kei"
          ],
          [
           "vocal ensemble"
          ],
          [
           "vocal harmony group"
          ],
          [
           "vocal house"
          ],
          [
           "vocal jazz"
          ],
          [
           "vocal trance"
          ],
          [
           "vocaloid"
          ],
          [
           "vogue"
          ],
          [
           "volksmusik"
          ],
          [
           "warm drone"
          ],
          [
           "washboard"
          ],
          [
           "washington indie"
          ],
          [
           "wassoulou"
          ],
          [
           "water"
          ],
          [
           "wave"
          ],
          [
           "welsh folk"
          ],
          [
           "welsh indie"
          ],
          [
           "welsh metal"
          ],
          [
           "welsh rock"
          ],
          [
           "west african jazz"
          ],
          [
           "west australian hip hop"
          ],
          [
           "west coast rap"
          ],
          [
           "west coast reggae"
          ],
          [
           "west coast trap"
          ],
          [
           "west end"
          ],
          [
           "west virginia indie"
          ],
          [
           "western americana"
          ],
          [
           "western mass indie"
          ],
          [
           "western saharan folk"
          ],
          [
           "western swing"
          ],
          [
           "white noise"
          ],
          [
           "wind ensemble"
          ],
          [
           "wind quintet"
          ],
          [
           "wisconsin indie"
          ],
          [
           "witch house"
          ],
          [
           "women's choir"
          ],
          [
           "women's music"
          ],
          [
           "wonky"
          ],
          [
           "worcester ma indie"
          ],
          [
           "world"
          ],
          [
           "world fusion"
          ],
          [
           "world meditation"
          ],
          [
           "world worship"
          ],
          [
           "worship"
          ],
          [
           "wrestling"
          ],
          [
           "wu fam"
          ],
          [
           "wyoming indie"
          ],
          [
           "wyoming roots"
          ],
          [
           "xhosa"
          ],
          [
           "xtra raw"
          ],
          [
           "yacht rock"
          ],
          [
           "ye ye"
          ],
          [
           "yiddish folk"
          ],
          [
           "yodeling"
          ],
          [
           "yoga"
          ],
          [
           "yoik"
          ],
          [
           "york indie"
          ],
          [
           "yorkshire folk"
          ],
          [
           "yugoslav new wave"
          ],
          [
           "yugoslav rock"
          ],
          [
           "zambian pop"
          ],
          [
           "zeuhl"
          ],
          [
           "zhongguo feng"
          ],
          [
           "zimdancehall"
          ],
          [
           "zolo"
          ],
          [
           "zouglou"
          ],
          [
           "zouk"
          ],
          [
           "zurich indie"
          ],
          [
           "zydeco"
          ]
         ],
         "hovertemplate": "x=%{x}<br>y=%{y}<br>generos=%{customdata[0]}<br>cluster=%{marker.color}<extra></extra>",
         "legendgroup": "",
         "marker": {
          "color": [
           2,
           2,
           0,
           3,
           3,
           1,
           1,
           0,
           3,
           3,
           4,
           1,
           4,
           2,
           3,
           1,
           0,
           1,
           4,
           1,
           3,
           3,
           0,
           3,
           1,
           0,
           0,
           2,
           0,
           0,
           0,
           0,
           0,
           1,
           1,
           4,
           1,
           0,
           4,
           1,
           4,
           0,
           0,
           0,
           1,
           0,
           0,
           1,
           0,
           4,
           0,
           1,
           1,
           4,
           4,
           0,
           4,
           4,
           0,
           0,
           4,
           1,
           0,
           2,
           4,
           1,
           4,
           1,
           0,
           2,
           0,
           1,
           2,
           2,
           2,
           2,
           2,
           3,
           4,
           2,
           1,
           2,
           1,
           2,
           2,
           1,
           3,
           4,
           2,
           0,
           4,
           4,
           4,
           1,
           1,
           4,
           4,
           1,
           3,
           0,
           3,
           2,
           1,
           1,
           1,
           1,
           2,
           1,
           0,
           4,
           0,
           1,
           0,
           0,
           0,
           0,
           0,
           4,
           3,
           4,
           1,
           2,
           1,
           0,
           1,
           2,
           0,
           1,
           0,
           2,
           1,
           0,
           0,
           0,
           4,
           0,
           2,
           4,
           0,
           4,
           0,
           4,
           4,
           3,
           4,
           0,
           1,
           0,
           1,
           0,
           2,
           0,
           2,
           2,
           2,
           0,
           4,
           4,
           0,
           0,
           4,
           4,
           1,
           4,
           0,
           4,
           4,
           0,
           0,
           1,
           4,
           1,
           1,
           0,
           0,
           4,
           0,
           0,
           0,
           2,
           2,
           2,
           1,
           2,
           0,
           3,
           4,
           2,
           2,
           4,
           0,
           3,
           0,
           0,
           0,
           0,
           2,
           2,
           3,
           1,
           3,
           0,
           3,
           3,
           3,
           4,
           1,
           2,
           2,
           3,
           2,
           0,
           4,
           0,
           0,
           0,
           3,
           3,
           3,
           3,
           3,
           2,
           0,
           3,
           3,
           3,
           2,
           2,
           2,
           2,
           1,
           2,
           2,
           3,
           0,
           1,
           4,
           0,
           0,
           4,
           0,
           0,
           0,
           0,
           4,
           0,
           0,
           3,
           1,
           3,
           0,
           0,
           3,
           1,
           0,
           4,
           4,
           4,
           2,
           2,
           4,
           4,
           0,
           1,
           4,
           3,
           4,
           0,
           1,
           1,
           1,
           1,
           3,
           0,
           0,
           1,
           2,
           3,
           0,
           2,
           3,
           4,
           4,
           2,
           2,
           0,
           0,
           4,
           4,
           4,
           0,
           4,
           4,
           4,
           4,
           1,
           4,
           3,
           3,
           3,
           3,
           4,
           4,
           1,
           4,
           3,
           3,
           0,
           0,
           3,
           0,
           0,
           3,
           3,
           3,
           0,
           0,
           0,
           4,
           4,
           0,
           0,
           4,
           3,
           1,
           0,
           0,
           2,
           2,
           1,
           1,
           2,
           2,
           0,
           2,
           2,
           2,
           0,
           4,
           0,
           3,
           3,
           4,
           3,
           3,
           0,
           0,
           0,
           4,
           0,
           4,
           4,
           0,
           3,
           2,
           1,
           3,
           4,
           1,
           4,
           0,
           4,
           4,
           1,
           0,
           2,
           2,
           0,
           2,
           3,
           4,
           1,
           3,
           4,
           4,
           1,
           0,
           1,
           2,
           2,
           1,
           4,
           1,
           0,
           2,
           4,
           3,
           1,
           0,
           0,
           0,
           4,
           4,
           0,
           4,
           1,
           0,
           0,
           0,
           0,
           4,
           2,
           3,
           3,
           1,
           1,
           3,
           0,
           0,
           0,
           2,
           3,
           0,
           2,
           1,
           0,
           3,
           0,
           4,
           0,
           3,
           2,
           2,
           2,
           3,
           0,
           1,
           1,
           4,
           0,
           2,
           3,
           4,
           0,
           4,
           1,
           3,
           1,
           0,
           0,
           4,
           4,
           1,
           0,
           4,
           4,
           2,
           1,
           4,
           4,
           0,
           1,
           2,
           1,
           4,
           0,
           3,
           1,
           3,
           1,
           1,
           3,
           3,
           4,
           3,
           3,
           0,
           3,
           3,
           3,
           0,
           2,
           2,
           2,
           4,
           4,
           2,
           3,
           2,
           4,
           0,
           0,
           3,
           2,
           3,
           2,
           2,
           1,
           2,
           1,
           1,
           4,
           0,
           1,
           3,
           0,
           4,
           3,
           0,
           0,
           4,
           3,
           3,
           0,
           4,
           0,
           4,
           4,
           4,
           0,
           3,
           4,
           0,
           0,
           0,
           3,
           3,
           0,
           3,
           0,
           1,
           1,
           0,
           4,
           2,
           3,
           1,
           3,
           0,
           3,
           4,
           1,
           3,
           2,
           2,
           2,
           4,
           1,
           0,
           1,
           4,
           2,
           3,
           1,
           2,
           2,
           1,
           0,
           2,
           3,
           1,
           3,
           1,
           4,
           0,
           4,
           0,
           0,
           1,
           4,
           4,
           1,
           4,
           4,
           0,
           2,
           4,
           0,
           1,
           2,
           1,
           0,
           0,
           0,
           4,
           4,
           1,
           0,
           3,
           3,
           0,
           0,
           3,
           0,
           1,
           3,
           3,
           3,
           3,
           4,
           3,
           0,
           0,
           0,
           0,
           3,
           4,
           1,
           4,
           3,
           1,
           3,
           3,
           4,
           3,
           3,
           3,
           1,
           0,
           1,
           3,
           1,
           0,
           3,
           1,
           1,
           0,
           1,
           3,
           4,
           3,
           0,
           2,
           0,
           0,
           0,
           3,
           0,
           0,
           2,
           1,
           2,
           2,
           2,
           2,
           2,
           2,
           2,
           2,
           2,
           2,
           2,
           3,
           2,
           2,
           2,
           2,
           2,
           2,
           2,
           1,
           2,
           2,
           2,
           3,
           3,
           0,
           4,
           0,
           0,
           0,
           0,
           0,
           0,
           0,
           0,
           0,
           3,
           0,
           4,
           3,
           4,
           2,
           0,
           2,
           4,
           4,
           0,
           2,
           2,
           2,
           0,
           3,
           1,
           2,
           3,
           3,
           2,
           3,
           3,
           3,
           4,
           0,
           0,
           0,
           4,
           3,
           1,
           0,
           3,
           3,
           0,
           3,
           0,
           0,
           0,
           1,
           3,
           3,
           0,
           0,
           1,
           0,
           0,
           4,
           0,
           4,
           0,
           0,
           0,
           3,
           0,
           0,
           0,
           0,
           0,
           0,
           0,
           0,
           0,
           3,
           0,
           3,
           0,
           0,
           0,
           0,
           4,
           4,
           3,
           2,
           2,
           3,
           4,
           3,
           4,
           0,
           0,
           0,
           4,
           0,
           4,
           4,
           2,
           4,
           2,
           0,
           2,
           4,
           0,
           1,
           4,
           0,
           4,
           4,
           3,
           0,
           3,
           0,
           0,
           1,
           0,
           4,
           2,
           1,
           4,
           1,
           0,
           1,
           4,
           4,
           4,
           1,
           4,
           4,
           4,
           0,
           4,
           4,
           4,
           4,
           0,
           3,
           4,
           4,
           1,
           0,
           3,
           0,
           4,
           3,
           0,
           0,
           4,
           0,
           0,
           0,
           3,
           0,
           4,
           0,
           0,
           4,
           0,
           0,
           2,
           3,
           4,
           3,
           3,
           4,
           1,
           3,
           1,
           0,
           0,
           2,
           4,
           1,
           4,
           0,
           4,
           0,
           0,
           1,
           0,
           1,
           2,
           3,
           0,
           1,
           0,
           1,
           1,
           0,
           0,
           4,
           3,
           0,
           0,
           0,
           0,
           1,
           0,
           1,
           0,
           0,
           4,
           0,
           1,
           1,
           0,
           1,
           3,
           1,
           0,
           3,
           4,
           2,
           0,
           0,
           0,
           0,
           3,
           0,
           3,
           4,
           4,
           0,
           0,
           0,
           3,
           4,
           4,
           1,
           3,
           1,
           4,
           4,
           4,
           2,
           0,
           1,
           2,
           2,
           1,
           4,
           0,
           4,
           0,
           2,
           4,
           1,
           2,
           0,
           3,
           3,
           4,
           0,
           1,
           4,
           3,
           2,
           4,
           4,
           4,
           3,
           0,
           4,
           3,
           2,
           4,
           0,
           4,
           0,
           3,
           4,
           1,
           3,
           3,
           2,
           2,
           2,
           2,
           3,
           2,
           0,
           4,
           0,
           0,
           1,
           3,
           0,
           1,
           4,
           2,
           1,
           0,
           4,
           0,
           0,
           3,
           4,
           4,
           3,
           1,
           0,
           4,
           1,
           0,
           0,
           4,
           1,
           4,
           0,
           4,
           4,
           4,
           1,
           0,
           0,
           0,
           4,
           4,
           4,
           0,
           4,
           2,
           4,
           2,
           1,
           3,
           2,
           4,
           1,
           3,
           0,
           2,
           4,
           3,
           0,
           1,
           1,
           1,
           2,
           3,
           1,
           0,
           4,
           4,
           0,
           0,
           0,
           0,
           3,
           1,
           2,
           2,
           0,
           0,
           2,
           1,
           0,
           1,
           1,
           1,
           1,
           3,
           3,
           1,
           3,
           4,
           0,
           3,
           0,
           4,
           1,
           2,
           4,
           2,
           2,
           4,
           4,
           4,
           4,
           4,
           4,
           0,
           3,
           1,
           2,
           0,
           1,
           4,
           0,
           1,
           1,
           2,
           0,
           1,
           0,
           0,
           3,
           3,
           3,
           3,
           1,
           3,
           4,
           0,
           1,
           3,
           1,
           3,
           0,
           3,
           3,
           0,
           0,
           0,
           3,
           1,
           0,
           0,
           0,
           4,
           2,
           0,
           1,
           0,
           1,
           2,
           2,
           0,
           2,
           2,
           3,
           4,
           4,
           0,
           1,
           1,
           4,
           3,
           4,
           3,
           2,
           2,
           1,
           0,
           4,
           0,
           0,
           2,
           4,
           3,
           0,
           4,
           4,
           4,
           0,
           4,
           0,
           3,
           0,
           0,
           4,
           4,
           3,
           0,
           0,
           0,
           0,
           1,
           4,
           0,
           1,
           0,
           4,
           0,
           0,
           4,
           1,
           4,
           4,
           0,
           3,
           2,
           4,
           4,
           0,
           0,
           4,
           1,
           4,
           1,
           4,
           0,
           4,
           1,
           1,
           0,
           1,
           4,
           2,
           2,
           2,
           1,
           0,
           4,
           4,
           0,
           0,
           2,
           3,
           4,
           4,
           2,
           2,
           0,
           0,
           0,
           4,
           0,
           2,
           4,
           2,
           2,
           2,
           4,
           4,
           4,
           0,
           0,
           3,
           3,
           4,
           0,
           4,
           4,
           1,
           0,
           1,
           4,
           1,
           0,
           0,
           4,
           1,
           3,
           3,
           3,
           1,
           0,
           3,
           0,
           4,
           1,
           4,
           0,
           0,
           4,
           4,
           1,
           4,
           4,
           0,
           0,
           4,
           3,
           2,
           3,
           3,
           4,
           2,
           3,
           3,
           2,
           0,
           1,
           1,
           4,
           0,
           4,
           4,
           0,
           0,
           0,
           0,
           4,
           4,
           3,
           1,
           3,
           2,
           3,
           3,
           3,
           2,
           4,
           3,
           3,
           0,
           3,
           0,
           0,
           0,
           2,
           1,
           4,
           2,
           4,
           4,
           3,
           1,
           4,
           0,
           4,
           0,
           4,
           4,
           4,
           0,
           3,
           3,
           3,
           2,
           2,
           2,
           2,
           3,
           0,
           0,
           2,
           0,
           0,
           0,
           1,
           0,
           2,
           2,
           3,
           0,
           0,
           0,
           0,
           0,
           2,
           2,
           2,
           2,
           2,
           2,
           2,
           3,
           1,
           1,
           0,
           3,
           3,
           3,
           3,
           0,
           4,
           1,
           0,
           4,
           0,
           0,
           0,
           3,
           0,
           2,
           2,
           2,
           2,
           1,
           3,
           3,
           3,
           1,
           1,
           0,
           0,
           2,
           1,
           2,
           1,
           3,
           1,
           1,
           1,
           1,
           1,
           4,
           3,
           3,
           2,
           3,
           0,
           0,
           2,
           0,
           3,
           3,
           0,
           1,
           1,
           3,
           1,
           1,
           0,
           1,
           1,
           1,
           0,
           1,
           1,
           0,
           0,
           1,
           4,
           1,
           0,
           1,
           4,
           0,
           4,
           1,
           0,
           4,
           3,
           1,
           4,
           0,
           4,
           1,
           0,
           2,
           1,
           3,
           0,
           4,
           4,
           1,
           3,
           3,
           1,
           0,
           4,
           1,
           4,
           4,
           1,
           4,
           0,
           1,
           0,
           0,
           3,
           3,
           2,
           1,
           1,
           3,
           3,
           0,
           2,
           4,
           1,
           3,
           1,
           3,
           0,
           3,
           3,
           2,
           2,
           2,
           0,
           4,
           0,
           3,
           3,
           0,
           1,
           2,
           2,
           2,
           2,
           4,
           2,
           2,
           1,
           0,
           4,
           4,
           0,
           2,
           1,
           2,
           4,
           2,
           4,
           2,
           2,
           3,
           4,
           1,
           1,
           2,
           2,
           2,
           2,
           1,
           3,
           3,
           0,
           0,
           4,
           2,
           1,
           4,
           0,
           4,
           4,
           4,
           0,
           4,
           4,
           0,
           4,
           4,
           1,
           1,
           0,
           0,
           4,
           3,
           0,
           2,
           2,
           2,
           2,
           1,
           2,
           0,
           4,
           1,
           0,
           0,
           4,
           4,
           2,
           3,
           4,
           1,
           3,
           1,
           4,
           4,
           1,
           4,
           4,
           4,
           4,
           1,
           4,
           4,
           0,
           0,
           4,
           1,
           2,
           1,
           1,
           0,
           3,
           3,
           3,
           0,
           3,
           3,
           3,
           3,
           3,
           2,
           3,
           3,
           1,
           1,
           3,
           3,
           4,
           2,
           3,
           1,
           3,
           3,
           3,
           0,
           1,
           3,
           2,
           3,
           3,
           3,
           3,
           3,
           3,
           1,
           2,
           0,
           1,
           0,
           0,
           1,
           3,
           0,
           3,
           4,
           0,
           0,
           0,
           0,
           0,
           3,
           3,
           0,
           3,
           0,
           3,
           4,
           4,
           1,
           1,
           1,
           0,
           1,
           0,
           3,
           0,
           0,
           3,
           1,
           0,
           0,
           3,
           0,
           2,
           1,
           1,
           3,
           3,
           0,
           2,
           2,
           2,
           3,
           3,
           2,
           2,
           4,
           0,
           0,
           0,
           0,
           2,
           2,
           3,
           0,
           4,
           2,
           0,
           3,
           1,
           1,
           2,
           0,
           0,
           0,
           2,
           0,
           1,
           3,
           0,
           0,
           0,
           0,
           4,
           0,
           0,
           0,
           3,
           0,
           0,
           0,
           1,
           0,
           0,
           0,
           0,
           3,
           2,
           1,
           3,
           4,
           0,
           0,
           3,
           1,
           2,
           1,
           4,
           1,
           1,
           4,
           3,
           0,
           1,
           3,
           0,
           3,
           1,
           1,
           3,
           1,
           1,
           0,
           3,
           4,
           4,
           1,
           3,
           1,
           0,
           2,
           1,
           3,
           1,
           4,
           2,
           3,
           0,
           1,
           1,
           0,
           1,
           4,
           1,
           2,
           4,
           3,
           0,
           4,
           1,
           1,
           1,
           0,
           3,
           1,
           3,
           0,
           3,
           3,
           3,
           0,
           0,
           1,
           0,
           1,
           4,
           1,
           2,
           1,
           4,
           2,
           1,
           0,
           0,
           4,
           1,
           4,
           4,
           4,
           4,
           4,
           4,
           4,
           4,
           4,
           0,
           4,
           0,
           1,
           3,
           0,
           4,
           3,
           3,
           0,
           0,
           0,
           1,
           4,
           4,
           4,
           4,
           4,
           0,
           2,
           0,
           4,
           0,
           4,
           0,
           3,
           0,
           0,
           0,
           0,
           0,
           4,
           0,
           1,
           2,
           2,
           1,
           1,
           1,
           4,
           3,
           0,
           1,
           2,
           1,
           1,
           0,
           1,
           4,
           2,
           0,
           4,
           4,
           0,
           0,
           0,
           1,
           2,
           4,
           0,
           4,
           1,
           1,
           4,
           0,
           0,
           4,
           0,
           1,
           0,
           0,
           2,
           2,
           0,
           2,
           4,
           0,
           0,
           4,
           0,
           0,
           0,
           2,
           4,
           4,
           2,
           0,
           3,
           3,
           3,
           1,
           0,
           2,
           4,
           3,
           3,
           0,
           3,
           3,
           1,
           3,
           3,
           0,
           0,
           1,
           0,
           2,
           4,
           0,
           0,
           1,
           0,
           1,
           2,
           3,
           0,
           3,
           3,
           0,
           3,
           3,
           0,
           3,
           3,
           3,
           0,
           1,
           0,
           0,
           3,
           3,
           3,
           0,
           1,
           3,
           4,
           4,
           0,
           2,
           1,
           3,
           3,
           4,
           4,
           0,
           1,
           0,
           4,
           1,
           3,
           2,
           0,
           2,
           0,
           2,
           3,
           4,
           0,
           4,
           3,
           1,
           0,
           0,
           2,
           1,
           3,
           1,
           4,
           0,
           1,
           4,
           4,
           1,
           1,
           1,
           2,
           1,
           0,
           0,
           3,
           3,
           1,
           4,
           4,
           0,
           4,
           2,
           2,
           1,
           0,
           0,
           3,
           4,
           0,
           2,
           0,
           4,
           1,
           4,
           0,
           3,
           3,
           0,
           0,
           3,
           0,
           4,
           0,
           1,
           0,
           4,
           0,
           1,
           4,
           0,
           2,
           4,
           4,
           0,
           0,
           4,
           4,
           1,
           4,
           3,
           0,
           1,
           4,
           4,
           4,
           2,
           2,
           1,
           0,
           2,
           1,
           2,
           3,
           4,
           0,
           0,
           4,
           0,
           1,
           4,
           1,
           4,
           4,
           4,
           0,
           4,
           2,
           2,
           2,
           4,
           2,
           0,
           0,
           2,
           4,
           4,
           4,
           4,
           4,
           1,
           1,
           1,
           0,
           1,
           3,
           0,
           0,
           2,
           0,
           4,
           1,
           4,
           4,
           0,
           4,
           3,
           3,
           3,
           0,
           1,
           3,
           0,
           3,
           3,
           4,
           4,
           0,
           0,
           0,
           4,
           2,
           1,
           4,
           1,
           0,
           4,
           4,
           1,
           0,
           0,
           4,
           0,
           2,
           0,
           1,
           4,
           0,
           1,
           0,
           3,
           0,
           0,
           0,
           4,
           0,
           1,
           3,
           2,
           1,
           4,
           0,
           0,
           2,
           2,
           4,
           2,
           2,
           1,
           1,
           2,
           2,
           4,
           2,
           4,
           1,
           4,
           2,
           2,
           3,
           3,
           2,
           0,
           4,
           0,
           0,
           0,
           3,
           0,
           0,
           3,
           2,
           2,
           4,
           0,
           4,
           0,
           0,
           4,
           3,
           0,
           3,
           1,
           1,
           0,
           0,
           2,
           1,
           0,
           0,
           0,
           3,
           1,
           0,
           3,
           3,
           4,
           0,
           0,
           3,
           4,
           0,
           0,
           0,
           0,
           0,
           3,
           2,
           1,
           1,
           2,
           3,
           0,
           4,
           4,
           1,
           3,
           1,
           1,
           1,
           0,
           0,
           0,
           0,
           0,
           4,
           4,
           3,
           2,
           0,
           2,
           2,
           2,
           2,
           2,
           3,
           4,
           3,
           0,
           0,
           3,
           0,
           0,
           2,
           0,
           0,
           0,
           1,
           0,
           4,
           0,
           4,
           0,
           1,
           0,
           0,
           1,
           0,
           4,
           1,
           0,
           0,
           0,
           0,
           4,
           1,
           0,
           0,
           1,
           0,
           0,
           2,
           4,
           3,
           0,
           1,
           1,
           4,
           1,
           2,
           0,
           0,
           4,
           4,
           4,
           1,
           2,
           4,
           1,
           1,
           2,
           2,
           4,
           0,
           4,
           0,
           4,
           4,
           1,
           2,
           0,
           1,
           1,
           1,
           4,
           4,
           4,
           4,
           4,
           4,
           4,
           4,
           4,
           4,
           1,
           4,
           4,
           1,
           4,
           3,
           4,
           0,
           3,
           1,
           4,
           1,
           4,
           3,
           1,
           0,
           1,
           4,
           1,
           1,
           4,
           4,
           4,
           0,
           3,
           1,
           0,
           3,
           0,
           0,
           4,
           4,
           4,
           0,
           4,
           0,
           0,
           1,
           2,
           2,
           4,
           1,
           0,
           0,
           0,
           0,
           3,
           0,
           0,
           3,
           2,
           3,
           1,
           3,
           0,
           0,
           0,
           0,
           1,
           0,
           0,
           0,
           4,
           0,
           2,
           4,
           0,
           1,
           4,
           4,
           3,
           1,
           0,
           3,
           3,
           0,
           0,
           0,
           0,
           0,
           0,
           0,
           0,
           4,
           0,
           0,
           0,
           3,
           2,
           0,
           4,
           0,
           1,
           0,
           3,
           0,
           1,
           4,
           0,
           4,
           0,
           4,
           0,
           0,
           0,
           0,
           1,
           4,
           4,
           1,
           0,
           4,
           4,
           0,
           1,
           1,
           0,
           3,
           1,
           0,
           4,
           0,
           0,
           0,
           3,
           2,
           0,
           2,
           0,
           3,
           3,
           1,
           0,
           1,
           1,
           3,
           1,
           1,
           1,
           4,
           4,
           3,
           2,
           2,
           4,
           4,
           3,
           3,
           3,
           4,
           4,
           2,
           2,
           0,
           4,
           3,
           1,
           2,
           1,
           4,
           0,
           2,
           3,
           0,
           4,
           0,
           0,
           0,
           0,
           0,
           0,
           0,
           0,
           0,
           0,
           3,
           3,
           0,
           0,
           3,
           0,
           0,
           4,
           0,
           1,
           3,
           2,
           3,
           0,
           0,
           0,
           1,
           2,
           0,
           2,
           1,
           0,
           1,
           3,
           0,
           0,
           0,
           0,
           0,
           0,
           4,
           0,
           1,
           0,
           0,
           3,
           2,
           0,
           3,
           3,
           0,
           1,
           0,
           0,
           3,
           2,
           2,
           3,
           4,
           1,
           4,
           1,
           1,
           1,
           1,
           4,
           2,
           0,
           1,
           1,
           4,
           1,
           2,
           2,
           0,
           0,
           0,
           0,
           0,
           0,
           0,
           4,
           3,
           3,
           4,
           3,
           4,
           4,
           4,
           4,
           1,
           4,
           2,
           1,
           0,
           4,
           0,
           1,
           4,
           1,
           1,
           1,
           0,
           0,
           4,
           0,
           3,
           1,
           0,
           3,
           3,
           0,
           0,
           0,
           3,
           0,
           3,
           0,
           3,
           3,
           2,
           2,
           2,
           0,
           2,
           0,
           3,
           0,
           0,
           0,
           3,
           0,
           0,
           4,
           0,
           1,
           4,
           4,
           1,
           0,
           1,
           0,
           4,
           0,
           0,
           0,
           0,
           4,
           2,
           3,
           2,
           1,
           2,
           2,
           2,
           4,
           0,
           1,
           0,
           4,
           1,
           0,
           1,
           0,
           0,
           2,
           0,
           0,
           1,
           0,
           4,
           3,
           0,
           1,
           3,
           1,
           3,
           0,
           0,
           3,
           3,
           0,
           3,
           1,
           3,
           0,
           4,
           4,
           4,
           2,
           0,
           4,
           2,
           3,
           3,
           2,
           2,
           2,
           0,
           1,
           1,
           3,
           3,
           1,
           1,
           1,
           4,
           4,
           0,
           0,
           0,
           4,
           4,
           1,
           4,
           2,
           0,
           0,
           4,
           4,
           1,
           4,
           4,
           4,
           4,
           4,
           1,
           1,
           4,
           1,
           4,
           4,
           2,
           3,
           1,
           4,
           4,
           0,
           4,
           4,
           4,
           4,
           0,
           1,
           1,
           1,
           1,
           1,
           4,
           0,
           3,
           3,
           0,
           4,
           2,
           2,
           4,
           0,
           1,
           2,
           3,
           4,
           4,
           1,
           0,
           0,
           4,
           3,
           3,
           0,
           1,
           3,
           2,
           3,
           1,
           1,
           1,
           3,
           0,
           0,
           0,
           0,
           3,
           3,
           3,
           4,
           3,
           3,
           1,
           1,
           4,
           1,
           4,
           4,
           4,
           1,
           1,
           0,
           0,
           0,
           0,
           0,
           4,
           0,
           0,
           0,
           0,
           0,
           0,
           0,
           0,
           1,
           3,
           0,
           4,
           3,
           2,
           4,
           4,
           0,
           3,
           0,
           1,
           3,
           2,
           3,
           1,
           0,
           3,
           3,
           3,
           1,
           3,
           3,
           1,
           0,
           0,
           0,
           4,
           4,
           4,
           0,
           0,
           0,
           4,
           1,
           0,
           0,
           0,
           0,
           0,
           0,
           4,
           4,
           4,
           0,
           3,
           3,
           1,
           0,
           0,
           0,
           0,
           3,
           3,
           3,
           1,
           0,
           0,
           0,
           0,
           0,
           3,
           2,
           4,
           4,
           3,
           3,
           3,
           1,
           3,
           4,
           1,
           0,
           1,
           3,
           2,
           1,
           3,
           0,
           0,
           1,
           1,
           0,
           0,
           0,
           4,
           4,
           4,
           0,
           1,
           0,
           0,
           0,
           0,
           4,
           0,
           0,
           0,
           4,
           1,
           0,
           4,
           4,
           1,
           4,
           2,
           2,
           2,
           1,
           0,
           3,
           3,
           0,
           0,
           0,
           2,
           4,
           4,
           0,
           0,
           4,
           1,
           3,
           3,
           0,
           0,
           0,
           1,
           4,
           4,
           1,
           1,
           0,
           1,
           4,
           1,
           3,
           0,
           3,
           4,
           4,
           3,
           0,
           0,
           0,
           0,
           1,
           2,
           4,
           0,
           2,
           1,
           1,
           0,
           0,
           4,
           1,
           4,
           3,
           3,
           3,
           2,
           3,
           3,
           1,
           3,
           3,
           3,
           2,
           3,
           3,
           0,
           3,
           3,
           3,
           3,
           3,
           2,
           3,
           3,
           2,
           0,
           0,
           0,
           0,
           0,
           4,
           4,
           3,
           4,
           2,
           3,
           0,
           3,
           4,
           4,
           0,
           3,
           2,
           3,
           0,
           3,
           2,
           0,
           2,
           4,
           4,
           4,
           1,
           0,
           0,
           0,
           0,
           3,
           0,
           1,
           0,
           1,
           3,
           2,
           2,
           2,
           1,
           1,
           4,
           1,
           1,
           0,
           1,
           1,
           2,
           1,
           1,
           4,
           0,
           4,
           1,
           3,
           4,
           0,
           3,
           2,
           3,
           2,
           2,
           3,
           1,
           0,
           0,
           0,
           4,
           0,
           0,
           1,
           0,
           0,
           3,
           0
          ],
          "coloraxis": "coloraxis",
          "symbol": "circle"
         },
         "mode": "markers",
         "name": "",
         "showlegend": false,
         "type": "scattergl",
         "x": [
          5.910268108221788,
          2.7870931528085943,
          -0.757537538374465,
          1.0205214866168157,
          0.753910514279142,
          1.7971062652419432,
          -0.4620496054489373,
          -1.311672259563727,
          0.5984179553898561,
          0.5982012013950387,
          -1.165652538527715,
          -0.07118124655695962,
          -2.171711585828402,
          3.6732966630297725,
          0.8327855889826029,
          0.0014059392111349042,
          -0.9273057420077758,
          0.6796203745139364,
          -1.4878005371777192,
          -0.25016976307256544,
          0.9541894103960762,
          0.8894938464845343,
          -0.9349244756981563,
          2.4352422167029117,
          -0.5794096848078704,
          -1.687270487008668,
          -1.06652907590303,
          3.7433087585819345,
          -2.1543016574456963,
          -1.0808503055522531,
          -0.9549632645218928,
          -3.2358726515928025,
          -1.7119755341735583,
          -0.4336563737020201,
          -0.6062336832001028,
          -0.9441629326199641,
          -0.21897352791236988,
          -1.5617667209055168,
          -1.345834888047714,
          -0.6937048482628617,
          -1.6190405446647007,
          -1.5333276858350355,
          -1.698833579257117,
          -1.8093965083506096,
          1.0018621405554726,
          -1.5505557919539068,
          -2.6162017995351055,
          -0.7218561265706733,
          -0.935828435699854,
          -2.3217190043773908,
          -2.1698597717064225,
          -0.11704076484140143,
          -0.17798254163413826,
          -1.377097862788498,
          -1.2775706484489115,
          -1.6689082229336607,
          -1.4330066722916897,
          -0.8812940272849343,
          -1.933727851085025,
          -0.9919561769523921,
          -0.8554408012501137,
          -0.4500486285925351,
          -1.0642892702634448,
          3.4626062715850776,
          0.6998427652454094,
          1.0246979229312392,
          -0.8535513919608623,
          0.6504792609298529,
          -0.47748776932747083,
          3.6547368585169036,
          -0.5680284493815142,
          1.2275685578826754,
          6.308184544302045,
          3.3947572178066756,
          4.909954292792234,
          4.52149731111167,
          3.4368402266794456,
          1.7065111212663078,
          -1.9949213104070922,
          2.8835226719022264,
          -0.04924041576369433,
          4.251881907817703,
          1.5205339090003147,
          2.7578274763525528,
          3.818868841818887,
          0.5222233385124367,
          0.6640664570007113,
          -1.8377265384972306,
          4.307369932725614,
          -0.97932720086231,
          -1.7532546732907162,
          -2.2551791905614693,
          -2.29044156642183,
          -0.2800789416316542,
          0.22291185347269274,
          -1.510182195528754,
          -0.6192845089796345,
          -0.07420986987072417,
          1.6728243374303762,
          -1.9433530146570497,
          1.0149766128732856,
          2.719557668645425,
          0.9057166961074977,
          -0.2183730069180112,
          -0.26256655656215494,
          0.8449080453819637,
          2.8327794759317686,
          1.461495770999628,
          -1.5842602988284016,
          -1.8856176787118504,
          -2.393866425909586,
          -0.008422928392726075,
          -3.0786420856227736,
          -1.6438199733026297,
          -2.0393729844155724,
          -0.996867435784072,
          -1.9809887425444175,
          -1.9736099706764745,
          -0.21426030082170977,
          -2.3201588880940074,
          0.6288114935083475,
          5.2627185446411175,
          -0.12166536408823826,
          -1.0121054754613958,
          0.03526096300568492,
          3.49261051434279,
          -1.2753710449014175,
          0.3282646881366822,
          -1.6951789119860832,
          3.728617793312956,
          -0.6107015592017125,
          -1.9032893260849408,
          -1.887427393182676,
          -1.4787588103471285,
          -1.6879273436441122,
          -2.16066594159121,
          4.6580882075069185,
          0.6998427652454094,
          -1.8094474553131525,
          0.6443884999442757,
          -2.818281416913887,
          0.6443884999442757,
          -1.4716926838801556,
          1.878175301629752,
          -1.1338434847768153,
          -0.7702516670886769,
          -0.5221138504004774,
          -0.9270989547196359,
          0.5931378934821798,
          -1.3843251626688342,
          5.271177784407822,
          -0.9642170705834138,
          3.7543195842804673,
          2.99265270807343,
          4.167831601809078,
          -0.38962807933174615,
          -1.6424751435576148,
          -1.1675433931298078,
          -1.7381524969306466,
          -1.938338440805135,
          -1.6757529454902513,
          -1.1873372651487162,
          -0.35419274697547687,
          -1.9748930162104508,
          -1.4332166640427928,
          -1.8599621279939205,
          -1.6285081252103315,
          -1.2616275422044287,
          -1.2397362810749406,
          0.18868288124372762,
          -1.2018029791688294,
          0.07754390698956881,
          -0.4360699705802091,
          -1.2727953385235413,
          -1.0274090397486306,
          -1.8617821657705742,
          -0.8788683358223206,
          -2.6221998744781323,
          -1.6576596345415078,
          4.075563099476096,
          4.894322340584221,
          4.15885471267468,
          0.3441558565252691,
          3.252965531703462,
          -2.0146663246069756,
          0.19335161691421565,
          0.5398747178532826,
          4.4076560013832,
          2.359553565217616,
          -1.0134812826832016,
          -1.477559825349806,
          1.7516550987332935,
          -1.9813204401207747,
          -1.592114847773862,
          -1.8603543986322124,
          -1.643868394262875,
          4.74351152734234,
          2.1646111991229056,
          1.9271058748133272,
          0.24867553257171054,
          0.2640495888153449,
          -3.1062145776446393,
          1.0069292318079595,
          0.736348799866642,
          0.013770393933029038,
          -0.9862592055897738,
          -0.010758925244006212,
          5.381249937095061,
          3.031134078256739,
          2.121957979975028,
          5.376825054885019,
          -1.8715344938197183,
          -0.8257044500186863,
          -1.805099952094079,
          -1.5965747063171414,
          -1.3903620518490436,
          2.3817849882339277,
          0.32671054219402534,
          1.1855448365432073,
          2.2307952333073504,
          0.18273407852012621,
          4.819813386113591,
          -1.8931190472758401,
          1.0877277036361281,
          1.239002854832121,
          2.3940366677464078,
          2.576594196723721,
          3.7581250644676367,
          3.603387921723092,
          3.0892966317647015,
          -0.2978414883711009,
          4.138457045658255,
          2.6839649557379297,
          0.9951124914788204,
          -1.6409269228190297,
          -0.10733653159368296,
          -1.7242942774158045,
          -2.297203719466084,
          -2.151173770862403,
          -1.575918141576341,
          -1.3487051914956143,
          -2.0265484820804596,
          -2.120690474768989,
          -1.930765453597682,
          -0.9234066530601978,
          -1.2516471860681757,
          -1.9113516620063322,
          0.7812550919890984,
          -0.5237497338668538,
          1.5258122967139598,
          -1.4815229037775168,
          -0.8608015003990186,
          2.066445088869665,
          -0.3918110027355387,
          -0.8627420859305037,
          -1.7244851503949103,
          -2.4519764221514797,
          -2.4519764221514797,
          4.911094086350665,
          2.1284228776298373,
          -2.0262276800530037,
          -1.7259688400927655,
          -1.761246299588176,
          -0.32942484453738213,
          -0.7167812722224337,
          2.3599126557972525,
          -0.41095162447510536,
          -2.0724990678317297,
          0.49415125488177725,
          0.3947367578461055,
          0.5011147455994416,
          -0.1501947731074118,
          2.264366565829926,
          -1.3540154536804454,
          -1.4700532554453174,
          -0.39148658961174904,
          2.9286868308441973,
          1.562734494181793,
          -1.8046533953228472,
          4.421919934708998,
          1.666634125245815,
          -0.8630069468661092,
          -1.8240161816083946,
          6.202329832453552,
          2.700729757114226,
          -1.9219988731601132,
          -3.8853351569825385,
          -0.3237352337227906,
          -1.4830437992216354,
          -0.6661581305866555,
          -0.8975313027897462,
          -0.27150010958598786,
          -2.026007496411839,
          0.03066854822532725,
          -0.6661581305866555,
          1.6679376175634024,
          -0.9628431990032472,
          0.05229047058608228,
          1.4342428370670812,
          -0.0744092721420883,
          0.31619568972430273,
          -1.6854348307187526,
          -1.378373549821596,
          -0.5302811239602088,
          -1.9482834157370144,
          0.4376816653802433,
          0.46116511270964866,
          -0.6169217471719338,
          -1.1400256377059381,
          1.2533220435925618,
          -1.8065011423621293,
          -2.10589756065147,
          0.583415689351992,
          0.6150431813346553,
          0.8314068380244763,
          -1.167749833094719,
          -1.8797451580250861,
          -1.5737313828666788,
          -1.714870972910061,
          -1.2187163240425545,
          -0.9081075934919384,
          -2.407638506198656,
          -2.631247737130891,
          1.5673168136376296,
          1.2606761374764386,
          -1.273136278441534,
          -1.9933897451720635,
          6.078392568331348,
          6.202329832453552,
          1.880647197466099,
          0.4855038489729518,
          3.724786874647466,
          4.999022851023019,
          -0.6507019188068325,
          2.8317540321081114,
          5.157224121091323,
          3.819290274650808,
          -1.8812815325483474,
          -1.0170415780895794,
          -2.3431142778733136,
          -0.061394194594861735,
          1.1244973226335093,
          -1.0170415780895794,
          1.5499874451851443,
          -0.23880439879088966,
          -2.0548948833262486,
          -1.4608536919332904,
          -1.2511268482027647,
          -1.43262313690902,
          -0.8322050040893016,
          -1.0170415780895794,
          -1.4771002595731533,
          -2.628606599334162,
          -0.21035255659039118,
          3.7220411064919317,
          -0.6601937727661525,
          -0.0889808127707047,
          -1.3796424287630298,
          0.8934594009314074,
          -0.6029963198787504,
          -0.7120551860400115,
          -0.7769839379468483,
          -0.6805758573158138,
          -0.2427984490140355,
          -1.9562315383510163,
          4.118042026063586,
          5.71374103184416,
          -0.7417411626392652,
          4.4240950991477765,
          2.327318240629539,
          0.017763471206449565,
          0.3014939930849982,
          0.9650215283895114,
          0.022468392622498685,
          -1.2199650459691418,
          0.3417751159053112,
          -0.5378912868672483,
          0.864467896047195,
          4.004696577326857,
          4.008320181774837,
          1.382966313126257,
          -2.0574297891427635,
          1.3094774137593306,
          -1.2244223547667652,
          3.3013877478747746,
          -1.11076041847659,
          0.5360702750732712,
          -0.24744053697254778,
          -1.944189985078295,
          -2.1330576537603543,
          -1.0891187918604017,
          -1.8302469752259654,
          -0.15516416449343953,
          -0.9951653539849207,
          -1.3596060537015464,
          -0.6110809564064196,
          -2.5498154982660934,
          -0.6067753052647106,
          -0.7288872748469322,
          -0.6427561202341461,
          -0.8384661829154175,
          7.048160534198854,
          3.0862995100788644,
          1.6499160539143818,
          0.5039626516959586,
          -0.7628234779254299,
          1.9098861430974055,
          -0.7381554703584147,
          -1.2105050375339603,
          -1.6165006411449985,
          2.9152852845241637,
          0.787531539543542,
          -1.4713066508652928,
          3.8405366544879773,
          0.8180105809922915,
          -1.5363920461225529,
          1.5017010248753795,
          -0.826957392858423,
          -1.2365537984863506,
          -1.121391039649665,
          0.3532535757130934,
          4.156988672470463,
          4.181143915852829,
          5.874241617946341,
          0.7726737970500188,
          -1.2384651584229955,
          0.17391144426442448,
          -0.29101915682132634,
          -1.364328919672979,
          -1.0013576229512058,
          2.8143610849320835,
          1.0152267748235682,
          -0.8997096472317082,
          -1.8161225830951815,
          -0.40691985636642997,
          -0.6222506022041562,
          0.9298554236724575,
          -0.03115887481414372,
          -1.8953253854100014,
          -2.0864594737726576,
          -1.0330740365002842,
          -1.6484788353344269,
          -0.07688967377256196,
          -0.9626729037514551,
          -2.014035053021466,
          -1.3293413005641403,
          2.9602001025583258,
          0.33666129733437367,
          -1.7136150221763613,
          -1.4322797629514938,
          -0.9929724146692342,
          0.3710468481112412,
          2.638713405966959,
          -0.028077801649979868,
          -1.6676648655046535,
          -0.6079060289417968,
          0.022377474382159836,
          0.9645203776907149,
          1.2387761280336023,
          0.3211546567581569,
          0.39931016340159814,
          1.4480493860298336,
          2.2798976418949337,
          -0.22663402010361824,
          0.2531651111744024,
          -0.21480126217786238,
          -2.4628532337473237,
          1.3697801765357986,
          1.7508953452310556,
          1.386329849583342,
          -1.2538737101450235,
          5.133050169971329,
          3.5265151258836993,
          6.346033202222227,
          -0.6161373499207312,
          -2.3748289472525195,
          2.2533078147803622,
          0.8167571253489764,
          3.65376537881339,
          -1.80474219182613,
          -1.862795112503481,
          -0.924215264349161,
          0.706652468893652,
          4.942598053975869,
          1.125233612783272,
          4.795289250255229,
          2.4635678490114996,
          -0.0944624723100163,
          4.247306482872686,
          0.24903576136687017,
          -0.1101929401743651,
          -1.8060319312706898,
          -1.4690797127486268,
          -0.025425946360966678,
          0.3370037422179004,
          -1.0272113725970848,
          -1.1806601610443492,
          -0.0846238341474119,
          -1.2131974145350368,
          -1.5289774319052674,
          -1.3378086857797176,
          0.9015460755941902,
          0.34704130353341245,
          -1.8391030814300073,
          -1.2105926310370003,
          -1.384304632240193,
          -1.1745523891881087,
          -0.8900534710795275,
          -1.7792525918076758,
          -1.7629015313750152,
          -0.22626369877920616,
          -1.3596743740108517,
          -1.437329804222369,
          -1.050547639000974,
          -1.2326907154182065,
          1.3565283499092393,
          -0.31742155846790265,
          -0.8073456954282056,
          0.6294753135461064,
          -2.017437359162993,
          -0.11454795107119023,
          -0.5797367236830113,
          -1.818890510165642,
          -0.2170509895157012,
          4.529430260517017,
          0.333189715375048,
          0.9708797436014696,
          -0.17127054263204333,
          -0.7941852500264398,
          0.1589213249972649,
          -1.1876432241511576,
          -0.6402858806840849,
          0.875083845709644,
          3.608731581729161,
          5.022988638057471,
          5.8058324477018095,
          -2.484585586954588,
          -0.06723872685756634,
          -1.8199456802868197,
          -0.16463751050254685,
          -0.9373426065815232,
          3.695987464448695,
          -0.1149906354931045,
          -0.31191194974263764,
          3.608731581729161,
          2.9628211173285974,
          1.9745255543280629,
          -1.8693347569376908,
          3.926583529422469,
          0.8514655969973881,
          0.25165487338246134,
          1.5069037952476536,
          0.8765073635953345,
          -0.8493286256975378,
          -2.7670422182850567,
          -1.942678236171651,
          -1.9404583741889674,
          -2.327714153105753,
          -0.48930088551691997,
          -1.2448085534620559,
          -1.4681887969761518,
          -0.4197705078970211,
          -1.1794041820554675,
          -0.7316519448921257,
          -1.9934477924940703,
          2.658957468748416,
          -1.8424902425655327,
          -1.9752037541359395,
          0.4973821345345372,
          2.8030142480459292,
          0.8898853897758191,
          -1.6997216230484262,
          -1.118965770026397,
          -2.229727615330855,
          -0.736915574314453,
          -2.886057972767241,
          -0.047731207982746104,
          -1.2455077589325843,
          1.5812933821637332,
          0.3862402573486095,
          -1.3826420603119793,
          -2.4775829776870513,
          1.1497627661579248,
          -1.085969756457868,
          0.6207099620941162,
          -0.07313623450419078,
          0.002695886147723676,
          2.1700272297685466,
          0.36718627717097696,
          -0.9314426872002075,
          2.353248545597484,
          -1.0597890934720626,
          -2.276109855694126,
          -0.7031780913867125,
          -0.2926633824128879,
          1.0280402330301825,
          -1.164822137677719,
          0.4511604577525485,
          -0.5491172599185637,
          -0.6751459147216372,
          0.2997968815429107,
          2.6834129126268156,
          0.5984074638508639,
          -0.5498879058004904,
          1.530578971054968,
          1.671927373310239,
          2.3650341880945858,
          0.5073760258805261,
          -1.3539098259275268,
          0.5151319213344541,
          1.060828923229479,
          0.5729789672192853,
          -0.7152407495550089,
          -0.043178192952211425,
          1.6217258746453862,
          0.36751585684045207,
          -0.7640261804664332,
          -0.541983772917158,
          1.0156004276682944,
          -1.0104901039718686,
          0.3474543065382502,
          -0.2807461940428693,
          3.1877031348523164,
          -0.5452603790317773,
          -1.6326205624300456,
          -1.1815682360615916,
          0.48316178858881254,
          -0.46624827532572444,
          -0.6461748391001956,
          4.2454755717742465,
          -0.1703279404176014,
          3.4798674918083163,
          3.840975880940372,
          4.963938781947001,
          4.408080150824803,
          4.1394962969338644,
          4.031285308102276,
          3.9363214242193942,
          4.18707848971353,
          4.917808163601021,
          4.959531607032035,
          5.491363812178904,
          1.5324624690552497,
          3.7860049701944325,
          4.224405197605613,
          3.8134457247031834,
          4.269047290947431,
          5.355886276386328,
          5.63452531725032,
          5.1313660242134755,
          1.5778734844665683,
          3.628399804806301,
          3.3748679584004284,
          3.1366409364731784,
          1.546461664099164,
          1.7734555001668153,
          -0.5736981384083443,
          -1.3474769379185059,
          -1.4095676969430244,
          -1.7902349574504641,
          -0.9599392716314985,
          -2.3378502090707283,
          -1.921923256338633,
          -1.4554683365959478,
          -1.907226287672338,
          -0.6716795002770621,
          -2.0046562231551026,
          0.3251566625513803,
          -1.1523860720717642,
          -1.4557044571067244,
          0.18059071362684234,
          -1.90793505951484,
          3.5236590611379053,
          -2.049118693479206,
          3.618083406229153,
          -1.7374845146577103,
          -1.4392948516572357,
          -1.5714083380161568,
          6.308184544302045,
          5.008294840003465,
          5.403265664257094,
          -1.4853710029965541,
          0.331143767295178,
          -0.4641995131727801,
          2.793778628069706,
          2.2293271459533788,
          1.389333400921568,
          4.269223510110593,
          2.147444725142783,
          0.7629686163768566,
          0.5313880649539593,
          -1.1115207404332894,
          -1.8204209333872432,
          -2.192137645569149,
          -1.6730626775637134,
          -0.5625611286937752,
          0.4519180457487403,
          1.9195738575431949,
          -0.8702170708257276,
          1.0741748437685996,
          -0.2271813656959787,
          -0.8526204872249918,
          0.4309833958102198,
          -1.5594414900234,
          -1.7883857649490376,
          -1.2843690828034706,
          -0.32892936146030183,
          1.0518143755809577,
          0.5340816012176938,
          -1.1097151949345352,
          -1.968574122871341,
          1.3526971314440273,
          -1.1080951590932835,
          -1.1080951590932835,
          -0.7862581323449475,
          -2.1866569882184574,
          -0.7966028054395342,
          -1.8418411545862141,
          -0.7800250543797589,
          -2.478483820128178,
          0.2597603556403639,
          -1.355029769381705,
          -1.617755799327203,
          -1.826077210356713,
          -2.304690502949197,
          -1.7235553968485777,
          -1.3761949647926452,
          -1.0218757432852508,
          -1.7791379054828054,
          -2.656622572909875,
          1.029114625510054,
          -3.0946663512600634,
          0.27246992250829416,
          -1.7900071853916153,
          -2.479383087771243,
          -1.8871690235505925,
          -2.6430738121785367,
          -0.35738013666149143,
          -2.5671936495562435,
          1.3794835128663605,
          4.5251235539365995,
          4.716885186699748,
          2.59502559197107,
          -1.1366165372990897,
          1.9842254319975159,
          -2.428139142503911,
          -1.356175401140455,
          -1.6507557002712347,
          -0.9916773688297719,
          -1.4614838432330983,
          -2.1097261247542547,
          -0.5491172599185637,
          -1.985274255033777,
          4.386572613899498,
          -1.1101722919442194,
          3.3776002947938037,
          -2.4344247833985966,
          3.5934938671033763,
          -0.49643132082921204,
          -2.4420108168095624,
          1.0393967728352191,
          0.024172636350283393,
          -2.5360436014647663,
          -1.42249617612146,
          0.024172636350283393,
          -0.26129956152696965,
          -0.9108428135470137,
          2.094042485609156,
          -2.564564913707654,
          -1.2386221853149895,
          -0.30842192358759585,
          -1.515589512572245,
          -2.031298614678036,
          3.8631048897343323,
          -0.10838299594407584,
          -0.6022552644160728,
          0.5177509655213367,
          -1.7090697231493612,
          -0.27614522230500976,
          -0.7551372548019912,
          -1.376306476042357,
          -0.5312260392016567,
          0.23717195172482447,
          -0.3026081729421201,
          -0.5065280021147444,
          -1.205589551288553,
          -0.8204348260187275,
          0.26606506371006355,
          -0.29884421461537464,
          -0.8728012554034762,
          -1.7175667292646406,
          -1.5155528888804217,
          0.8864093485671756,
          -1.6766468747459677,
          -0.4694345966142332,
          0.871077589572258,
          -0.8644705676615123,
          -0.7144561741353856,
          -0.440688556949148,
          -2.790270900922428,
          2.890414617654669,
          -1.1507276718314716,
          -0.8031773216690995,
          -1.9473824019540251,
          -2.162963617094738,
          -1.4723654985500971,
          -2.6893121402844185,
          0.9240011933509134,
          -1.7474528809598422,
          -0.14576653368649617,
          -1.898358690244529,
          -2.669347847935737,
          -0.5221693744493323,
          -1.4548434949416966,
          -1.0283096381666235,
          2.3622397711804495,
          0.5436395862813668,
          -1.8689304368530788,
          1.1710036212559027,
          0.699904004293886,
          -1.7044471429551544,
          -0.592054699002687,
          0.449864972820742,
          -0.32957451480891514,
          -1.6376693914418607,
          -1.4572609901665476,
          2.4660708696178206,
          -1.2095953675949747,
          0.5254555899481637,
          0.0754714748481084,
          -1.5847134393643685,
          -2.9080619282235425,
          -1.1765084408048723,
          -1.911934352663428,
          0.9356036829290546,
          -0.36086600256967266,
          0.9679635861196801,
          4.699816675368838,
          -0.4723314055617343,
          -2.0056305322142784,
          1.5727472398500433,
          -0.9464089318334715,
          1.4686267276229215,
          0.5011147455994416,
          -1.3537495043623875,
          -1.843412047612338,
          -0.6537657414667483,
          0.8902655962892355,
          -2.8162591250589313,
          -1.223509588635169,
          -1.5127849605175303,
          -0.9684779368006287,
          1.148705858265196,
          -1.0984469249325666,
          0.5022377972137841,
          -1.4812543999863002,
          -0.5435665341609953,
          -1.2909649366086218,
          -2.1628333074786092,
          -0.8354743294354067,
          -0.03314856246124624,
          -2.01492656924932,
          1.7960332420843477,
          0.784616346011823,
          0.32114376159707986,
          -2.19013713922261,
          2.597137364064699,
          -1.612796711737503,
          3.0260530289477505,
          -2.065705645766962,
          -1.5210993374175876,
          -0.9258655178346515,
          -2.074379532320173,
          0.7511849781136242,
          -1.7164833605229048,
          1.3199455730608431,
          -0.29967490885489473,
          -1.0601592783170937,
          -1.57938616321675,
          -1.692465651475793,
          -3.13317773279554,
          -0.03724623286297115,
          -0.08421121464129942,
          -0.7467746719958049,
          -0.16470824566879222,
          1.4022482201741076,
          0.46779897642367313,
          -1.3373216840889637,
          0.08110278845448657,
          -1.377926545841368,
          5.0311078449036435,
          -1.8983922147789345,
          0.5995552083481098,
          3.5252046394474568,
          2.2683191496362327,
          0.9096299592015592,
          -1.026418914347897,
          -1.0690904627080788,
          0.6556631320797393,
          -2.02376901941226,
          2.1959209999050593,
          -1.9202674340983554,
          0.65212688293358,
          5.2627185446411175,
          -0.6974112188432166,
          0.7820338260369193,
          -0.2090432327886092,
          0.6998427652454094,
          -2.022433523975873,
          0.4712071639952833,
          -1.2604802866831226,
          1.8271454550885444,
          6.083318328609311,
          -0.8508696332442774,
          -2.082504837264756,
          -2.224336625502373,
          1.401429885067641,
          -2.7228295299586804,
          -1.608541766441803,
          1.6013054390496693,
          3.317048515490677,
          -0.8936287712527977,
          -1.0459539727090401,
          -0.7263218841932995,
          -2.943648169892283,
          0.06221403756445158,
          -1.1663865563967544,
          -0.5132483562854897,
          0.6525178740460722,
          2.2136234284814886,
          4.1576892330428565,
          3.995264448657274,
          3.7441441343435904,
          3.334036129265215,
          -0.6706922862361612,
          3.7210836024692697,
          -0.722019915077441,
          -1.5037488884709538,
          -1.8208063443174318,
          -1.3092499530556863,
          -0.5828274996029216,
          1.8767430181001146,
          -2.313572197189644,
          0.7099128201293102,
          -0.7812682277707902,
          3.394927981868264,
          0.9032880273730484,
          -1.5365804542172727,
          -1.6283452043117532,
          -1.70226848149421,
          -2.4352854352283124,
          2.0186542826167466,
          -0.31661555156393434,
          -0.8941954290264568,
          1.1047609784727361,
          -0.19612740703368456,
          -1.3280200419065074,
          -1.8704463127127657,
          -0.7325588346573658,
          -2.4322104556325077,
          -1.0631051517428254,
          -0.9018458559798213,
          -0.5690495861384954,
          -1.730386673282589,
          -2.100771809255366,
          0.12062405251041652,
          -1.528097331953764,
          -1.9108022973619907,
          -0.21031089609908843,
          -1.7943548127338864,
          -1.5361213058279384,
          -2.216000136727968,
          -1.4955985695299723,
          -2.5500589751698026,
          -1.098226216720645,
          -1.239327734038692,
          -0.8577092210584593,
          3.6603956645131936,
          -2.660151441663604,
          4.225043041397307,
          0.41508078148570887,
          1.1880597387996006,
          2.7531891075881947,
          -0.29049845972908905,
          0.5136929486352002,
          1.8792188806685444,
          -1.665774549979445,
          4.166293634806011,
          -0.5221693744493323,
          1.0434337104662184,
          -1.8730996534974442,
          0.8500285353730026,
          -0.33185038438281467,
          0.2744299751321867,
          3.48127624045413,
          2.3317755006466863,
          -0.07084590733890367,
          -1.2092837434063093,
          -1.3631427295039138,
          -2.450222781385806,
          -2.0884769934788587,
          -1.8057549808143698,
          -3.3995837310824406,
          -1.6998225891375298,
          1.5209018222443886,
          0.7646308800896888,
          4.478609512834526,
          2.466113319803972,
          -2.2354904599284438,
          -0.8246614851720223,
          3.4324506450763264,
          -0.4882362322682688,
          -2.0813223551309634,
          0.14989400405551942,
          1.8973889528910968,
          -0.13683775308019497,
          0.4502592342354189,
          2.095768666277786,
          0.9153914685653903,
          0.5857264273779645,
          2.2333595333061385,
          -3.0450765877715433,
          -2.329150871431178,
          0.454322027045125,
          -1.6301207350897282,
          -1.4143229884606339,
          0.24435456870028202,
          3.210799648564411,
          -0.9304532954544281,
          5.15003575398485,
          5.004281707388853,
          -1.3148675759101836,
          -0.7597385878813316,
          -1.6628375487419658,
          -1.8902303297831153,
          -1.5328467352522688,
          -1.2536233695640076,
          -1.2302352255235953,
          0.10461162581345555,
          0.5222047642496479,
          4.431045401922307,
          -1.1896884868417066,
          0.38265151072862436,
          -0.7773625634585366,
          -1.4952959189875172,
          1.6675267223983992,
          1.4852428780681357,
          4.35672954412344,
          -0.910859253333186,
          0.18164272293418726,
          -1.8732582454237798,
          -1.6946786996734708,
          0.43583143175887507,
          0.4879910198583235,
          2.765858150220443,
          1.9540876681797295,
          -0.17613599599091656,
          0.4227931229385326,
          -1.6117359369821904,
          -1.041991552846554,
          -0.12021237473150596,
          -0.11140233801850662,
          -0.344342786267437,
          0.6672750904822242,
          -1.2131974145350368,
          2.5136903101093653,
          1.184554504366619,
          -1.7553890311473133,
          -0.6992418306210518,
          -1.0580195579562381,
          2.311940378611574,
          -0.13688948178293042,
          -0.8741749815567248,
          -0.9304422088236277,
          -0.9840382097343725,
          -1.3564305630785582,
          3.396628728792949,
          -1.7688160662074723,
          0.2532494653975696,
          -0.562543296673326,
          0.13894980838009283,
          2.995182324696313,
          2.3219296947796293,
          -1.4964895263633475,
          3.27436931493162,
          5.335536638163783,
          1.197094866717348,
          -0.9325106706495221,
          -1.0348098358027806,
          -2.0251481991515745,
          1.065774782580104,
          -0.3857410564931715,
          -0.6253799907794829,
          1.5479900682861578,
          -0.9325106706495221,
          1.1810200528402155,
          3.6809276424008894,
          3.7570147332726584,
          0.012415187357943556,
          -3.030569719031829,
          -0.9098410453161845,
          -1.5191912139342898,
          -0.919581428861851,
          3.8284561838288975,
          -1.1117133103932144,
          2.267337362057982,
          -1.5150721309734037,
          -1.3925033257613082,
          -1.2995846666732829,
          -0.12266151502753497,
          -1.866875303907125,
          -1.5018729408205702,
          -0.5700160017381589,
          3.039882270510462,
          -1.800540543330118,
          -3.6632315599681715,
          -1.4679455092351452,
          -1.0800614696303608,
          0.8055109936842499,
          -2.8202672391359056,
          -3.452971033776213,
          -1.1110635172556051,
          -2.791897090464664,
          -0.6542529218710762,
          -1.231632835026547,
          -1.3092383176769786,
          -0.4469941032014106,
          -2.114793859435532,
          -0.8486770478305619,
          -0.9409778444685287,
          -1.8320832439959565,
          -1.4789288509342482,
          -0.2603117476767207,
          0.7062856706652365,
          -0.9472312383775638,
          -1.8280677033103938,
          2.8968869857554753,
          4.209593201660837,
          -2.754870819905933,
          -1.5459459240384126,
          -1.8925052109960365,
          -1.706778425524511,
          -1.6774539508660644,
          -0.45635185837174147,
          -1.334604345373531,
          -0.32162950035436877,
          -1.5006475935961934,
          -1.4595938170239806,
          -0.8243341544860169,
          -0.6580875903276745,
          0.28642701434719287,
          -1.2796134458978503,
          -0.3704970587555012,
          -1.2343513887207473,
          3.996300547145879,
          3.339577915855535,
          5.384016484346955,
          0.2183770680618589,
          -2.3067688482910254,
          -0.5021981388206939,
          -1.0068978534182278,
          -2.147694443940263,
          -2.396863743557695,
          2.7096069646934566,
          1.7560435745437555,
          -0.9443973872998467,
          -1.139643098815126,
          3.55786381429652,
          3.8535198201214182,
          -0.8855858941782231,
          -0.9829651653205779,
          -2.3201254212705917,
          -1.256949297621497,
          -1.7231498462043984,
          5.961074281238082,
          -0.9304306817837579,
          3.7923096640832368,
          2.5338939245783845,
          2.4003469329064777,
          -1.787837225777693,
          -0.23352895324163533,
          -1.8863702813551428,
          -3.0007847223145747,
          -2.0888534256576947,
          1.0430639994862407,
          1.4753691607777766,
          -0.7167812722224337,
          -1.824163976086664,
          -1.0939818264875385,
          -1.4173759806756014,
          -0.9227672156589174,
          -1.104428046412082,
          0.06735268474735899,
          -0.789536593046344,
          -0.07072149456798793,
          -1.851763021318621,
          -1.8601271467736302,
          -0.0882835597395753,
          -0.25544103116343125,
          1.8793807339843194,
          0.9116853878805048,
          0.10012379315177537,
          -0.6039439779725397,
          -2.9298175854967057,
          0.1983971409227757,
          -0.44918673033604184,
          -0.7937960986538557,
          -0.6206510300666295,
          -1.4459240490094964,
          -2.336906125358006,
          -1.4633820680402192,
          -1.2208847510985517,
          -1.129654620745941,
          -0.17787330371714638,
          -0.6960752028433894,
          -1.367833952743649,
          -2.3446882446890314,
          -1.5994355501742892,
          -0.6953135901672169,
          1.622938852032897,
          2.7823998445336753,
          2.285874428736386,
          2.1555507987969484,
          -0.26478294441046873,
          2.827606248898017,
          0.6100656850450612,
          1.3174805042783129,
          2.7468007751696355,
          -2.2523754075787226,
          0.7036343124900793,
          -0.001183760249146288,
          -1.4829619080699723,
          -1.1075232058518312,
          -0.6971997960267915,
          -1.956862020873558,
          -1.1054970278095262,
          -1.326483193570151,
          -1.7849025600389343,
          -1.2811371791205044,
          -2.886057972767241,
          -1.241834856815291,
          -0.15427203546753637,
          0.5668302283795723,
          3.1638738295315694,
          5.047031224564759,
          1.248707545291636,
          0.6273736799906444,
          0.07539853780510411,
          4.046423353988647,
          -2.094841489535945,
          1.770470506150428,
          1.342805348548643,
          -0.6281159028604072,
          2.7007571007880027,
          -2.8964595824616732,
          -0.48907148657955796,
          -2.4153603716354723,
          3.3505970687397957,
          0.11785838188577115,
          -2.0818315040779076,
          3.383381376861085,
          -2.0288683703444126,
          -1.9296895864420225,
          1.962435287510814,
          -0.11473781767402305,
          -0.8976185323361068,
          -0.6162589382614431,
          -1.3398506344220271,
          -1.86050945819256,
          -1.125616515157264,
          -1.3471905127214157,
          -1.6634667301389139,
          -1.793717221224364,
          1.711607079218842,
          0.6875307868210201,
          2.3599126557972525,
          3.407745586370998,
          3.4201634173555138,
          3.1704080433561828,
          4.189709436743141,
          0.8861883023723548,
          -1.2041336806401512,
          -2.433266038421998,
          4.396257729264009,
          -0.9943458450544885,
          -1.6640786009656172,
          -0.6530120732992513,
          -0.7024160963306577,
          -1.6162721975405998,
          2.7000671233999927,
          3.133230314213807,
          2.6230336450209117,
          -1.7234064226917916,
          -2.8800245580393935,
          -1.801167911154556,
          -1.6369871043498492,
          -1.891480966064498,
          4.6189357801611655,
          4.050843042184682,
          4.352663051268988,
          5.122067061563875,
          3.9068164100335827,
          3.986678980914989,
          2.785223409389509,
          0.9999800069643585,
          0.6799719491218112,
          0.014298306941483376,
          -3.15615276114799,
          0.022755347441269266,
          0.022755347441269266,
          0.16215521835046512,
          1.8848249364406557,
          -1.6357883699260112,
          -1.4405368092396202,
          1.959586255259375,
          -1.964396362640466,
          -1.597373864650285,
          -2.089446314970425,
          -1.8026658189060825,
          -1.291771062102564,
          1.6122957977964258,
          -1.0597890934720626,
          4.601631831528846,
          4.450568176559052,
          5.210196579660407,
          5.777399769903289,
          0.20076562572775813,
          2.1326120989580444,
          1.7459968094343274,
          1.7459968094343274,
          0.20076562572775813,
          0.3454668439277417,
          -1.5154226810918994,
          -1.6922378597241032,
          4.310681878249161,
          0.46926894723910795,
          2.324208231380985,
          0.9381121233998023,
          1.1841252442734735,
          -0.37430669765646307,
          1.0133098935057996,
          1.010308534059009,
          0.7875315203113387,
          -0.5858043284252911,
          -2.643227313951729,
          0.7454678649645957,
          1.043743896138428,
          4.839564142521276,
          2.2896581436047994,
          -1.3025333410462443,
          -1.3212499387413403,
          4.033258007856049,
          -0.9054653279761946,
          1.40771545428636,
          1.8197767618637948,
          -2.0266801412988693,
          0.40697399193667533,
          -0.17898853073046272,
          0.4847618118735934,
          0.2637378078660114,
          1.9490472897705728,
          -1.2617841821502722,
          0.14921514800553554,
          -0.21755040086465133,
          -0.7624724066787737,
          -0.9387029953969076,
          0.2794997792688245,
          -0.7588630483770619,
          -2.152795985798636,
          -1.5357814618078698,
          0.8290154285889053,
          -0.9817137056298613,
          0.0007320463538196516,
          -1.0590701782309837,
          -0.7529011708788531,
          -2.5175145217551647,
          -2.3199405171221916,
          -0.23471491664775082,
          -0.221207296244155,
          -0.6810305719934212,
          -1.3423911334200627,
          0.9329099433229747,
          -0.3313859860091325,
          -1.3663419235685057,
          -1.0192775239661647,
          -0.5491172599185637,
          0.05306629499184324,
          -1.2567107324055813,
          5.259661506974293,
          -0.2965634305110327,
          -0.2019259178707007,
          -2.024602339850487,
          -1.4443686593541998,
          -0.9751839182365093,
          0.054527146408119634,
          1.4523524534217256,
          0.8192739231873555,
          0.07698261684037468,
          -2.424113347680565,
          -1.0499396836036343,
          1.3593481661758235,
          -0.843701824803569,
          -0.4054386474312042,
          0.6101227140817002,
          0.12017397103911978,
          -1.0084097097668359,
          1.2229974720456425,
          -1.10316829379947,
          -1.4083418571679762,
          2.5756303060219765,
          -0.1586483454548356,
          2.9154589235875887,
          0.014968192928109301,
          1.4088806725999035,
          0.8082967149746655,
          0.44649458027625577,
          -1.2795600059785808,
          2.827260081154487,
          -0.4277133637975982,
          -0.8837451046928392,
          -0.23093094143364623,
          -0.5371447045574769,
          1.3880784370526698,
          -1.0597890934720626,
          0.8795324448096461,
          1.4764147298242958,
          2.7650016272370332,
          5.637075618753221,
          3.5002357640189077,
          -1.5104184002125942,
          -1.2334843591545104,
          -0.7529405029218761,
          0.08511187324309095,
          0.32051098514515086,
          -0.9120762581936723,
          -0.27858070029414156,
          3.0884336247674815,
          4.143247777999698,
          2.3997163163978614,
          3.1769579298469,
          -0.604428344069406,
          5.574219688203976,
          5.333727896640729,
          -0.1703279404176014,
          -1.4427210612478678,
          -1.3399879370214884,
          -1.3399879370214884,
          -1.0802458985701944,
          3.9166593931872034,
          1.1333539879918562,
          3.1319240633605436,
          -1.3399879370214884,
          3.135171724665464,
          0.052961063614170106,
          3.8242286853002554,
          3.3139603610314223,
          0.6376433975357708,
          -1.3678276494516473,
          1.4795949689527141,
          0.5075398114106479,
          4.025163763893031,
          3.3976341754496957,
          3.3025291157013466,
          2.831128822474109,
          0.4298703987209274,
          2.6526038200998996,
          1.989439518742535,
          -2.44513483770625,
          -1.9828992824413236,
          -2.9088138803783683,
          4.910713009747101,
          -0.6498036654322968,
          -1.5303444494937983,
          -2.715389745415452,
          -2.0687544157967643,
          -2.254254299700383,
          -2.010052679611555,
          -2.109909957315345,
          -2.2236326075156003,
          -2.3132103064829783,
          -0.9502346814249346,
          -2.136402709539325,
          -1.0065335489460205,
          -0.5635117535932604,
          -0.5452437114590937,
          -2.269809098860972,
          -1.201633613792689,
          -1.311771496073855,
          0.11607867116484576,
          -1.1573319711835892,
          2.844261208468639,
          4.816971047050104,
          5.388502137886455,
          4.902234021478258,
          0.1780400797411082,
          3.1296296239009407,
          -2.6715653444756353,
          -1.4732881003033533,
          1.2109456547170137,
          -0.6283268472049908,
          -1.8232159852586596,
          -2.761626719266496,
          -0.8038412941572944,
          3.1296296239009407,
          1.2775355899569316,
          -3.4999871537663023,
          1.358948304389958,
          1.7385554462803203,
          -0.2257344911877686,
          -2.274067346388715,
          -2.72229202716874,
          -0.5665714728194741,
          -0.7245547433332937,
          -1.899241989411067,
          -2.8397395979008895,
          -2.0779173370881683,
          -0.8771721526876284,
          -0.4066838677898665,
          -2.462682444077483,
          -0.9502346814249346,
          -0.8848052512508233,
          -1.4759715630515937,
          1.0340563390737687,
          3.9266530882283868,
          1.3504189491626395,
          0.4022811443833145,
          -0.788343321756895,
          2.0279654140200654,
          2.0402179546875283,
          0.8979910073856011,
          -1.3703622819832773,
          2.1959478767859344,
          -0.3257151107438955,
          2.1667905160060235,
          -0.10849963879625155,
          0.5555801926793539,
          2.6855272350918455,
          2.0629718502740526,
          1.9327789730120875,
          0.5823874663723918,
          1.4280076694700539,
          2.227950207798834,
          2.0141117237244615,
          -1.7548260472472805,
          3.145271157736505,
          1.8851878311394752,
          0.5461741363291331,
          2.356396628203319,
          0.8590333940405676,
          1.57500362257824,
          -1.4254079176047514,
          0.13229505704735048,
          1.6585341861753569,
          2.633080100731385,
          1.291985896710181,
          1.5307731412375458,
          1.8030112846657087,
          0.0670694267604584,
          1.8045403505981703,
          1.3745874347744307,
          -0.08395614302769251,
          4.049749172711462,
          -2.1275500290304175,
          0.5273523375187054,
          -3.0914737893276936,
          -0.9291176379098607,
          -0.40155489571023445,
          1.1987811941730055,
          -1.448948698980291,
          0.4216419583783444,
          -1.0348098358027806,
          -0.633742057212649,
          -2.183496509851049,
          -2.1758672952105025,
          -2.824356856047121,
          -1.5657851439064707,
          2.4888524869873825,
          1.706995293852264,
          -1.7699525413624675,
          2.094428753589453,
          -2.538940561074889,
          1.7757562576012993,
          -1.3673813815784808,
          -2.3217190043773908,
          -0.0714551000371615,
          -0.1295351565608201,
          0.017056520577367736,
          -1.6918615662065628,
          0.24788898634041903,
          -3.3719490056920605,
          1.8109439725347134,
          -2.9563167102804084,
          -0.9326576513945369,
          1.545356372190424,
          2.0175676302543053,
          -0.9777384825203532,
          -1.8088045851480505,
          -0.1976493893370166,
          -1.736004535079576,
          3.684220198929724,
          -0.6847094485509615,
          -0.2603117476767207,
          1.5422988888047626,
          0.5930026646121627,
          -1.7912959670136788,
          3.1180214989226323,
          3.3580144918752364,
          3.5099309650882846,
          -0.19461924016161963,
          2.4805279637902267,
          4.517776810914009,
          6.091867137337177,
          -1.3864258127587978,
          -1.6590894291934808,
          -0.8451615089399581,
          -1.041719254878502,
          -2.2126328441140073,
          3.904762418566284,
          2.3576582971520192,
          0.039926016615872244,
          -1.1004953247578726,
          -1.3293394373721148,
          2.4179234417138873,
          -1.849415807169889,
          0.6194589894389149,
          0.700714149686808,
          -0.22131099576619317,
          4.069805840259912,
          -1.6915198589429612,
          -1.648032670134251,
          -1.6266757262409501,
          5.0705984901097185,
          -1.2012069430765235,
          -0.20161483159628804,
          2.2123779499001257,
          -2.4649248397008896,
          -1.9249814682117188,
          -2.4080164096721766,
          -0.39816065469449063,
          -1.148112784395047,
          -1.2373304643909682,
          -1.4628181365509454,
          -2.6429915346372566,
          1.9533017033003972,
          -2.1195725580612317,
          -1.014042185781765,
          -1.8430894155768576,
          -0.1743434158047826,
          -1.8079063743752275,
          -1.0770098667738883,
          -1.4905481769240276,
          -1.2980784897176674,
          2.3650341880945858,
          2.80569026807853,
          0.4847235106188623,
          0.8549288236322983,
          -1.5013922149508785,
          -1.3673565615888006,
          -1.5786623309290861,
          1.9460913874910184,
          0.03174403073604934,
          3.51898709648781,
          -0.12194207361813164,
          -0.8643826427197118,
          -0.3431640158084609,
          0.14879956982851683,
          -0.7021345155769466,
          2.5268907301930468,
          -1.5907428957012457,
          -0.04081922184563171,
          0.7899298288307421,
          -0.910859253333186,
          0.5345492960066747,
          1.7118640514247765,
          0.329137238786949,
          1.1931202253106947,
          1.095868990708861,
          1.254568198711424,
          -1.6454912421714354,
          0.06998303323160392,
          -0.6562708849308347,
          -0.8025844842561624,
          1.0288670632622716,
          1.550314814959789,
          0.7522544149888791,
          -1.3594752795046887,
          3.018000391387947,
          1.0712957412947133,
          3.221728737298457,
          -0.09309152149855246,
          -1.2985779973467584,
          3.218628062553705,
          2.1326120989580444,
          -2.344673001682559,
          0.40529331240226585,
          -0.5726023021440049,
          -0.8831651240421459,
          0.28649928790183893,
          -1.1602891468274352,
          0.7158496154657068,
          3.5107534356200008,
          -0.2064659721466554,
          0.13893639159218513,
          -1.8058188159171586,
          -1.7690512660095559,
          0.8116576480875323,
          0.33752469190627243,
          -0.010394775910613559,
          -0.894457378503669,
          0.2138747361762305,
          0.2310045243481403,
          2.030878227187984,
          -2.299520470423305,
          2.464111119546668,
          2.119217861721358,
          0.03900046465196399,
          -0.653875924082231,
          -2.508627218880721,
          0.8123565472634449,
          -1.5787530557618956,
          0.21465726009403882,
          -1.8370165087569896,
          0.9229565319598528,
          5.656350818133165,
          1.275879610994448,
          -0.5087977010750424,
          4.278428722085265,
          0.6992100078765247,
          -2.3841364242986844,
          -1.7777308426945024,
          -1.7803898860126568,
          -0.41675396826810773,
          -1.189441828975477,
          -1.316881436583953,
          -1.3415980593024455,
          -1.9057076077566892,
          -0.9399967293329484,
          -1.6808685152004788,
          -1.1904065555534986,
          -1.4119055620195078,
          -1.9190223555873607,
          -1.6818203902001203,
          -1.435902700417143,
          -2.0112309024792454,
          0.09121406890156446,
          0.5055869622129661,
          -2.3991249477716172,
          -1.4878005371777192,
          0.09012877718788216,
          0.31014652749821187,
          -1.446821106315742,
          -1.8879364766330253,
          -0.43080997590404746,
          1.912739899254902,
          -0.9340739420096676,
          -0.09245424702742894,
          -1.0170415780895794,
          -1.4337106390703656,
          -1.1513085587600569,
          -0.3505327260134426,
          4.891728612485046,
          -2.2620354657009694,
          -1.1646239535239467,
          -1.4194876518446782,
          -2.1789826747725143,
          -1.7048467653411057,
          0.08723516303489706,
          -1.5513713971895937,
          -1.1305919329747045,
          -2.008601460302473,
          -1.971984908729132,
          -0.7603552441700441,
          -1.708184593620549,
          -1.452644788376457,
          1.0936536290838423,
          4.70729731693538,
          4.06641655166185,
          0.8449080453819637,
          2.0175676302543053,
          -0.5221029502555894,
          -1.0819030183511784,
          0.9363603495410874,
          -1.6901930633720716,
          -0.06734437755377413,
          3.1284096100847703,
          -0.013372924890362268,
          0.9315488370480719,
          -1.1078988413689923,
          0.9836845171357769,
          -0.6216384167307957,
          4.176384153224837,
          -0.8174650647916104,
          -0.9844049327521096,
          -1.9340208521383073,
          -0.9150586306583647,
          -1.9024375077661249,
          -1.5991191899978694,
          -0.3979122673442813,
          3.1890107734387274,
          -1.3604505665769022,
          -0.7141034047337284,
          -1.5914938986038452,
          -0.26981790114743365,
          -0.3205716019590924,
          -0.9748467556979395,
          -0.6346112423952774,
          -1.485246786990907,
          -0.6488361413093121,
          -0.6875208972982045,
          -0.5235210522524474,
          -1.2997644179330254,
          -0.3937474251797397,
          3.4924077989945745,
          2.5763577232711774,
          -1.2550502056471344,
          3.8527580670263846,
          -1.3963654042352833,
          -1.5970419948490957,
          -1.688632875815764,
          -1.3774550293604098,
          -1.3690729524620988,
          -2.0826181995813395,
          -1.1954018276570268,
          3.4027511525664953,
          -1.9587229941745237,
          -2.646314841291693,
          2.3353127950974413,
          -2.345824751081746,
          1.395742623948652,
          0.3091765784289808,
          0.3091765784289808,
          0.048258746895679265,
          -1.0823520722647517,
          3.049088181041765,
          -2.097576909584194,
          0.2531651111744024,
          -0.15427203546753637,
          -0.4124018197799253,
          2.8948856676427677,
          0.9925700176837299,
          -0.10380387445274504,
          1.8938195243268818,
          0.9398182903443825,
          -2.219007000192061,
          -0.40289995088326586,
          0.4855598419464198,
          -1.6946786996734708,
          4.4532638333714605,
          -1.7698042251004988,
          -1.291771062102564,
          -1.8456441547473597,
          0.09262464006245316,
          -1.8537718049763499,
          -0.32412406221746176,
          5.699030304877431,
          2.3817849882339277,
          -1.5609102360473246,
          -0.2799174074815642,
          -0.5542550572699031,
          -0.663745499914656,
          -0.3292698306096531,
          0.6663435469489151,
          -0.8145720543150364,
          0.6939265197491379,
          1.416207588595245,
          0.5778186477553651,
          -1.258474178901717,
          -0.18772365879072345,
          -0.8836013757068104,
          -1.6875506785986971,
          1.5211340327985508,
          0.21959081948294787,
          0.28850205362560943,
          -1.4926217671802813,
          -0.21175692447557992,
          -0.17581020496163358,
          -0.8875625801717633,
          -1.2556219866206968,
          -1.226936160428377,
          4.6189357801611655,
          1.3552239026426234,
          1.9336164093535577,
          0.3436840728473242,
          -0.5690376399407595,
          -1.8919920103002261,
          -0.5841890549176638,
          0.3327699618999957,
          -1.9175550818936076,
          -1.2392356281844936,
          -0.09546520325791762,
          0.5577786585832483,
          3.002801573904523,
          -0.5753522125886534,
          4.161022525837935,
          -1.998877005770338,
          3.746890986528972,
          2.2244782603334072,
          -2.0601769600585,
          -0.7651747940113186,
          -0.881823375298755,
          2.2008285870324458,
          -0.5335105742105528,
          -0.5913765417068714,
          -0.8686121365386251,
          3.1269291911696304,
          1.5727472398500433,
          1.8241788630931572,
          0.9487631695800604,
          -0.7979632686424226,
          -1.5274385093734058,
          -0.04031006817489439,
          -1.4688940844932505,
          -1.5189484652220897,
          -0.33363903038412546,
          -0.2874184653253749,
          1.9173914860919656,
          4.2177932577548924,
          0.8123565472634449,
          -2.0268228760359754,
          -0.988860302587997,
          1.3505978175446574,
          1.3505978175446574,
          -0.22448253695649237,
          -1.5599823753878843,
          -0.9445110188851529,
          -0.9687374941369978,
          -1.9473824019540251,
          3.2626195808960103,
          3.335750201236276,
          -0.08400104548677047,
          -1.8353016618474358,
          -1.014776886033093,
          0.6805879787852316,
          -0.928895240498611,
          -0.967363156729088,
          4.168363339147136,
          -0.8950461905575408,
          -1.655497835033214,
          -0.6736705457075535,
          -1.5694794034452264,
          -1.6619836307825164,
          -0.15889958107504268,
          0.6637508483382959,
          -0.8307561706234649,
          -2.2833156359466384,
          0.8752453390642223,
          -2.4277401058841876,
          -1.4224065981480558,
          -1.1037662140332811,
          1.5650671095135888,
          -1.0895612371376295,
          -1.168714792577952,
          -0.9946974720841745,
          0.7352426388393158,
          0.05685055929293703,
          -2.364909879579424,
          4.904751130878142,
          -2.8030403909571477,
          -2.252562080818784,
          -1.8959245730757284,
          -2.091751605201151,
          -2.508317131163248,
          -1.093266909495276,
          0.2300271283486479,
          -1.766402400015831,
          0.6845546448708263,
          -0.9024606571237711,
          -0.4794045361365279,
          -0.7455458630228237,
          -0.9013326790547901,
          -0.7150579071819952,
          5.521484025398486,
          4.330780758381723,
          1.05075177723107,
          -1.6734809168327203,
          4.236594177348256,
          -0.2745021491914578,
          4.055818049656476,
          2.13576691328172,
          -0.8330021081673902,
          -1.8279298926842626,
          -1.7462095781463176,
          -1.4292748016739298,
          -1.8043356480433594,
          -0.03892607223898093,
          -1.3609492642096954,
          0.44798540695465017,
          -1.688196619742153,
          -2.2605554980822573,
          -1.6032958665289632,
          -0.5719868279724866,
          0.2268062184392583,
          3.000746418246711,
          5.2620586181406335,
          2.8858699481600536,
          -0.6661581305866555,
          4.647416850813502,
          -2.3259805083008875,
          -0.8749418351069355,
          3.4358447536432437,
          -0.1859205699604803,
          -1.3252577961419496,
          -1.645482650470816,
          -2.2743637727692687,
          -1.1375489854458374,
          -0.3059464908211037,
          -0.2632103614648368,
          0.368234390878477,
          -0.7749919598416076,
          -0.17119199961990839,
          -0.06981557094042552,
          -1.207258832602027,
          -0.6241021127308289,
          5.4198747410235235,
          -1.597222245578426,
          -0.3638951753809367,
          -0.3445021725092962,
          -1.6165697131635013,
          -1.1021594097961749,
          -1.2273516660222632,
          -2.045214098687464,
          2.0186542826167466,
          0.4298289927167252,
          0.6052682794470798,
          -0.442353786587097,
          0.022947141944436148,
          0.001594477147351435,
          -1.8238846076569721,
          2.2317541681982696,
          0.7642748141635705,
          -0.8433282919666281,
          -1.3230875790813388,
          -1.3298929349932973,
          -1.2267220894847892,
          -2.1499949310856783,
          -1.2163920877132444,
          3.4634847114667853,
          0.453941216635716,
          -3.0613383031984154,
          0.22729614518138544,
          -1.1344768325631749,
          -3.0613383031984154,
          -0.7072963438992376,
          0.3418433804143052,
          -1.567118259123491,
          -0.8696666900612373,
          -1.579559076148648,
          -0.8772502462786006,
          3.582500683457119,
          -2.226834278061472,
          -0.20126115331103756,
          -1.6675215191123844,
          -1.1676869386410895,
          -0.09594405636152696,
          -2.3820664249846035,
          -0.1287226442254754,
          -1.5822498519629948,
          -1.6387434617760288,
          -2.0251481991515745,
          -0.6993509873931981,
          -1.876467093307654,
          0.35443256089681113,
          0.5717167306430491,
          3.1019647144481812,
          -0.5188294035461434,
          -1.0126741219338113,
          -0.7097641046725914,
          -0.7276269751785633,
          3.3634624924175163,
          2.9752226817107967,
          -0.821936659903437,
          2.2089628716223118,
          2.785064005343367,
          0.2981463520357144,
          1.8664884741638679,
          4.14041148835379,
          4.133048817017732,
          0.5282838272987558,
          2.605572101764564,
          -0.26478294441046873,
          -0.17832420764440673,
          -1.9380303715726246,
          2.9039050390292225,
          3.6496770215064647,
          -0.012929923744354688,
          0.9703843368446678,
          4.840030364876465,
          -2.382120428766228,
          -1.5441689772345784,
          -1.3888697809804087,
          -1.9542613765865018,
          -1.5849819030822283,
          2.4466955357895834,
          -1.3666480483746382,
          -0.26762453170465,
          0.40230341805213826,
          2.374570566204159,
          5.050054496026235,
          -0.9053180429942428,
          -1.2698419846443327,
          0.5398747178532826,
          -0.9479576954954888,
          -3.032449981392289,
          -1.1121517547583082,
          1.0543642222548266,
          -2.174826059050463,
          0.8783391882405454,
          0.8449080453819637,
          -0.2838042751056886,
          -1.8083647450254494,
          -3.202470459196674,
          3.3215521054488217,
          0.8539122759964451,
          -1.0527079835431903,
          -1.6233526075106726,
          -1.495184271623783,
          1.7519453777759306,
          -0.829896744628169,
          -2.1873335437017496,
          -0.24944080664634882,
          1.1074723601112284,
          -2.0859355414082117,
          -2.4125115180318644,
          -1.2499990583699132,
          1.291866958177362,
          -1.4808604861756578,
          -2.0144429700235,
          -0.5413481296670039,
          -1.6534058002388414,
          -1.4317917003045733,
          -0.9871359024336309,
          1.1655411567729186,
          3.000235685866882,
          0.15000872558749034,
          -0.5219177664341915,
          3.047428758666203,
          0.8524577565344751,
          -1.8419708771379113,
          -1.4212505387436198,
          -1.5990912760966647,
          -0.0924523170292832,
          0.7589239174389381,
          -0.388617536762927,
          -0.48869129923344334,
          0.1860174465239179,
          -0.5767423202391148,
          -1.0445259856521207,
          -1.410342501775072,
          -0.9467174638564453,
          -1.5570907577492825,
          -2.0316565223762755,
          -1.5050207141773997,
          2.033041433841412,
          2.9972411903138925,
          -1.113190371205719,
          3.4143457476927663,
          5.320867729182726,
          4.085991435509485,
          2.1274425358348856,
          4.947269754284725,
          0.4726197924305066,
          -2.201686825571931,
          0.4316718530586413,
          -1.113190371205719,
          -1.6057702396471834,
          0.8312197050104068,
          -1.7642479233188495,
          -1.1590732070276353,
          4.081447099437762,
          -1.126683759092417,
          -1.291954768053505,
          -1.7723311723076087,
          0.02190056390348055,
          -1.8333368443589535,
          -1.760275888862842,
          -1.8693460615922186,
          -2.046542277096344,
          -1.0561390468606329,
          1.1770516789703713,
          -1.87629909602881,
          -2.425224032256408,
          -0.12210277573933564,
          -1.626006632578299,
          -1.8445494912080076,
          -0.3033082971030344,
          -1.204876458797517,
          -1.8182765975060056,
          -1.4422094887527555,
          -1.0947009976647615,
          -1.9236465210710896,
          0.06349215750229673,
          -0.7967643032374762,
          -1.3089600393569716,
          0.53546490617424,
          -1.153842177042881,
          -1.1326586912829253,
          3.1056989824074215,
          -0.5655314564562376,
          1.6711847582607386,
          -1.6903592808965608,
          -0.17282411226062366,
          -0.1534234424262189,
          -1.1213935734132465,
          -0.3560114892032392,
          4.264393263445873,
          -0.9702087331231125,
          -1.47952070114031,
          -0.01916393802213619,
          -1.6262673095858826,
          -1.0729349066364668,
          0.6594213427915602,
          4.066995385985659,
          -1.75939471391653,
          -0.6148631774543115,
          -0.5328443733186653,
          2.195131016648978,
          4.21107338422815,
          -2.095193683193587,
          -1.712677312219175,
          -1.3176226052793811,
          -1.2398389440352917,
          -0.6365159443123225,
          -1.8680718365870288,
          -0.2077489898443957,
          4.663158190213199,
          -0.717290249287606,
          1.4126375362115111,
          -0.05348159629165154,
          0.12258449104649251,
          -0.6930082747630669,
          -1.684246261680121,
          -0.9997143462304252,
          -0.9925277416519352,
          -0.40554552468515087,
          -0.7943307030855623,
          -1.417976688202369,
          -1.5077618691738779,
          -0.11864752625193829,
          0.06513251514330157,
          0.44790618060021964,
          -0.5905352698295541,
          -0.6656940772015768,
          -0.1256835365102045,
          -0.29682397832757645,
          -0.30208503695033034,
          -0.44315387676607637,
          -0.8497568273164445,
          1.5069037952476536,
          0.4803661333128785,
          -0.6970804646138746,
          -0.10347402499997066,
          0.42611844118291303,
          1.7181988956708996,
          -0.14880872420562777,
          -0.8608961760184046,
          -0.2118665594898959,
          -1.2074405624776146,
          -0.24447286527723044,
          -0.1110836144580938,
          0.4331828913071649,
          -0.4666659930456576,
          -1.8413507629642503,
          -1.021406674438294,
          -0.4975884880865209,
          -0.6844849178178245,
          -1.6697028500088251,
          1.943527833405258,
          -2.590401210503966,
          -0.9832888022778721,
          -1.51024504564875,
          -1.5772672834448833,
          -1.37475474794452,
          -1.2001953198664028,
          -2.5500589751698026,
          -1.5609102360473246,
          -1.8902776392732579,
          1.658754391001417,
          2.793143587037336,
          3.3936697303588184,
          -0.30781971693868065,
          -0.5170085720229922,
          -1.9380674914976452,
          -0.8915763547993782,
          -0.9886668262046713,
          -0.5696178874425263,
          0.8795324448096461,
          -1.1447334158703664,
          -2.0065454067291446,
          2.8205742097621744,
          4.0289861912102145,
          1.7372253796499764,
          1.5655853810053775,
          0.0780212287873691,
          -1.8274876886852285,
          -1.9502075389529874,
          -1.7354065296445793,
          -1.8699631356031985,
          -0.5644354650111926,
          -2.0061121385605536,
          -1.7634140784138803,
          -1.8723008941323522,
          -1.8639932204222422,
          -2.10589756065147,
          2.95753971431692,
          -1.923281220062647,
          -1.7291945028487083,
          -0.33946039336051026,
          -1.4817947434057146,
          -1.3648272900680072,
          1.6184380633196087,
          0.6731669759445247,
          -1.3981525797114396,
          1.489770759858214,
          1.015743268984601,
          -1.0568509529743555,
          -1.7518249634932712,
          -1.242195840460267,
          -1.9336938727708395,
          -1.7598217040333748,
          -1.4555523482943338,
          -2.108294479868847,
          -2.0606660439063944,
          -1.490419418939701,
          -2.0734945064138417,
          -3.993754718462851,
          -1.7804503009224828,
          0.4188013767860368,
          4.074252866889353,
          -1.654099602100136,
          -0.8706935586305725,
          -1.2311045301288572,
          -0.07788453537429926,
          -2.4434013956713967,
          -0.07625660353628289,
          -2.131859024911716,
          -0.16461671372417544,
          -1.7771222855258435,
          -2.292902335457039,
          -1.2277075421191317,
          -2.427003125157999,
          -1.0198781946837479,
          -0.6385744256983864,
          -0.6162589382614431,
          -1.590311499967027,
          -1.1226867924008352,
          -0.778011761092548,
          -1.241834856815291,
          -0.41877224870219854,
          -0.5887610453578066,
          -1.425515750569963,
          -1.9236465210710896,
          -0.8321122702871243,
          -0.7103155395647773,
          -0.45457897450550944,
          -0.5006469673618128,
          -1.3433860165170097,
          -0.5586881735072373,
          0.718367059671959,
          -0.8757146430848206,
          -1.0684891129569065,
          -0.3791907206345889,
          -0.5255270518176562,
          -0.4899308370179325,
          -0.1597267102618859,
          4.8137770215040785,
          -0.8690009426865853,
          3.3215521054488217,
          -2.579204212530708,
          1.560398159732674,
          0.8888968989143606,
          -0.47690770582583486,
          -1.317398016401202,
          -0.4962570470088788,
          0.3375764127658354,
          2.148755017920206,
          0.5205896223390913,
          0.002390378671264335,
          1.4438543702229798,
          -1.7722920756714386,
          -0.21138765775075327,
          0.9097158032319771,
          4.844601565033677,
          5.666384156661317,
          -1.9417108967056633,
          -2.106550982409217,
          1.1407962580835316,
          0.23103463786948497,
          0.42561757819746415,
          -1.5657114923930813,
          -1.5657114923930813,
          4.244480994355996,
          5.176708744973615,
          -0.8596027093370093,
          -1.0270738870476321,
          0.37512427692022565,
          0.051811371512324365,
          4.582553845204489,
          0.5168944033678441,
          0.06057426972990673,
          -1.778492725569421,
          5.408174041012421,
          2.532775701991875,
          -1.5302866131478015,
          -1.0610339222842116,
          -1.094773638052919,
          -0.9227741339323362,
          -0.960553310918279,
          -2.1322400770566374,
          -1.668900179300279,
          -1.4351673016485869,
          -0.7169772246162475,
          -0.9568264963416665,
          -0.9416875707315,
          -0.41333850470528477,
          0.16883070258110047,
          1.4322493420169788,
          -0.7813213297476472,
          -1.1271281147595318,
          0.6524595908390044,
          -0.6927403014042205,
          -0.6732878229230727,
          -1.1414799926170123,
          -1.4892770702646914,
          -0.3553585485210678,
          1.8294487165805158,
          3.656077271822228,
          0.7261799401622565,
          -1.8969714198549823,
          -0.4193939514430098,
          -1.2730663318838364,
          0.10397499296520912,
          2.0964836415896624,
          -0.8776788935290595,
          2.529909789362585,
          1.0082003519061753,
          -1.8902776392732579,
          -0.42207825344761163,
          2.10900571434995,
          -2.3715612187519324,
          -1.0444388347634852,
          -1.2311316155798777,
          -1.1776970800546387,
          -1.0345327312064303,
          -2.723466640316103,
          -1.7104420113557286,
          -1.9914059300228184,
          -0.62269274759064,
          -1.0468527623234292,
          -1.290024838233274,
          0.12309112973266127,
          4.652403689691262,
          -0.40462364134067363,
          0.44300179735362105,
          0.7869224265474057,
          -0.5605651851159854,
          -0.12843809243295443,
          -0.5314028806277061,
          -1.0238290888621413,
          3.174879734132035,
          3.8595387667647416,
          2.6026231331657734,
          0.15833263461928088,
          -0.771040365579826,
          -0.4995419530279297,
          -1.2938074605601015,
          -0.3580542688912647,
          -0.8371847600040482,
          0.23327622655162342,
          -0.08852138585591907,
          -0.6084691009396395,
          3.8798628593031745,
          -1.6480835900823727,
          -0.07920628817761201,
          0.18122554674263464,
          -0.7235894288501384,
          0.38067681393629826,
          7.2265446090149235,
          3.401539713522079,
          -1.415927909145328,
          -1.9127960305645078,
          -2.017437359162993,
          -0.895632574952795,
          -2.26034960431119,
          -1.9407337361195256,
          -1.4539395308420229,
          -1.9899331345222508,
          0.556360889495833,
          1.3655741274589224,
          -0.6778354788931377,
          1.4872586279570366,
          -1.4237008451336213,
          -1.2748104198497439,
          -2.5524611671940147,
          -1.7375662708101347,
          0.8903585804759292,
          -1.351406689579026,
          3.673495161639021,
          0.23893979548550648,
          -1.8009380597154072,
          -0.6930082747630669,
          -1.1302346153383855,
          1.0424609969554546,
          -0.38549302852157813,
          0.4808026898470215,
          0.3696015150662236,
          -0.2431243129906119,
          -0.31429896661330287,
          -2.1229905425409283,
          -1.7729246995643373,
          -1.6173696754713018,
          0.23810845387496746,
          -0.48339166999374145,
          -1.7273711551849693,
          -0.10198804553304777,
          0.5055144803084021,
          -0.713143081752724,
          -0.8951228201123645,
          -1.0597890934720626,
          0.36743215471166624,
          -0.3275524799958208,
          -0.15392290335129138,
          -1.0079751959068284,
          1.331226750839261,
          0.1487917839884211,
          2.5937576493924217,
          5.280198100270837,
          2.6125401236233974,
          -1.2429187294667825,
          2.8834607480253336,
          -0.8454958932986626,
          2.125563179636891,
          -1.2848447129982985,
          -2.333529043949485,
          -2.3874608455512805,
          0.4708102218623844,
          -1.8703654091300108,
          -2.604864563143927,
          -1.5249585479981815,
          -1.93113521304616,
          0.15925914311312803,
          -0.3368542746747269,
          -1.7238132206500618,
          -0.14523173932935915,
          -1.151332474438792,
          0.5329054203221856,
          -1.9612249102027286,
          -1.2399292163761018,
          -0.9213520425348976,
          -0.2934493481289042,
          -0.7878251517409001,
          -1.9817641589624007,
          -1.7244851503949103,
          3.9255172860697387,
          1.594293129963459,
          3.186335317997048,
          0.9775969311537857,
          3.5867432508255233,
          2.647745049799363,
          5.270217759644974,
          -1.7082485977385522,
          -2.199803980460222,
          -0.06578081779005386,
          -0.8368706284559654,
          -0.785467717505084,
          -0.20916402742117865,
          -1.7085754585994826,
          -0.20916402742117865,
          -1.3997320777127065,
          -1.0909590554136064,
          4.169466471505723,
          -1.3684630603624213,
          -1.932428367187304,
          0.11061706995923605,
          -1.8318071541194498,
          -0.9598571387641514,
          -0.2019259178707007,
          -2.322482104084648,
          1.2956242638589626,
          2.4399389680424695,
          -0.003429977050850779,
          1.9689878707923267,
          -1.8110394558681606,
          -1.2760228016973993,
          1.7512646091908475,
          0.047354842508029064,
          -1.4262864308855527,
          0.8119245867926467,
          -0.3351614731377258,
          -0.288541914405862,
          -1.9135217129716562,
          -0.44506574689565576,
          -0.3898013592395588,
          -1.0965604946490621,
          2.8632445586955475,
          -1.0064366536641471,
          -1.667995626555782,
          5.037072097193789,
          2.3072516687894202,
          0.9817234747421208,
          3.023290887104781,
          4.117010734472986,
          4.113361444554918,
          -1.764088793306544,
          0.1520039730115469,
          1.010057474777607,
          -0.09826825918659787,
          0.7454678649645957,
          -0.07912913968776616,
          -0.5869929672815049,
          0.0613765675864163,
          -1.249318554441787,
          -1.1625329569665972,
          -0.5446464357178716,
          -0.5257359411169936,
          -0.6973969041449737,
          -0.9719600477668984,
          -1.711392433741771,
          0.6626099536052515,
          0.3799066704611559,
          4.353172762386836,
          -1.750511188321823,
          -2.6082819147952394,
          -0.7744430956484712,
          -0.29049845972908905,
          0.19347918400083808,
          -1.5005648417719326,
          -1.380223176004352,
          -2.52014911330961,
          -0.6742590697690057,
          -1.2280633296074586,
          0.4229742125954439,
          0.19347918400083808,
          -1.6139893679672435,
          0.24592070134157035,
          -0.9320241203449573,
          -2.029188215364681,
          3.0861648235299466,
          3.289630235628949,
          -0.8430280926050696,
          -1.0191080260121503,
          -1.2581311719443313,
          -1.4293847145323806,
          -1.2280633296074586,
          -0.8918518314853023,
          -1.1625329569665972,
          0.33200940246639526,
          -1.4006157751179207,
          0.47495516260105447,
          -0.328538311121657,
          1.2317234135229211,
          1.898235146478134,
          -0.8272044736771343,
          -1.1182953375910354,
          -1.2140979999974266,
          1.410280915572892,
          1.1162558244140928,
          -0.9625261685035056,
          -0.22774342883917167,
          4.820483671447008,
          2.806672678167791,
          -0.8910597762575777,
          -1.419710022543956,
          -0.637305362423105,
          2.667811075962947,
          1.3709647550842818,
          -0.8509927620370412,
          -1.1349369532310423,
          0.3083139857621754,
          -1.4183221756409603,
          -1.109325273601508,
          -0.7858824490959339,
          2.143356564904712,
          1.699803481395567,
          -0.5767423202391146,
          1.1753290502836993,
          0.768324943791739,
          3.067247968624568,
          2.171382773188072,
          0.0910922876395307,
          0.17424196049511928,
          0.31907993640080984,
          0.5277083757468605,
          -1.5891418340117445,
          -1.8079063743752275,
          -3.0009494117128006,
          -1.5683430554100037,
          1.2531320966526063,
          0.4800788069577337,
          1.1470176346512173,
          -1.3095170917389245,
          1.5929388159834152,
          1.0710420132491283,
          -0.6277790692076223,
          -0.7049891902633257,
          -0.36609949043409207,
          -0.4871764094606706,
          -0.7621598571323505,
          -0.0900542800847302,
          -0.14868520555968842,
          -0.2507783494082103,
          -0.7043224955062207,
          -2.1090182695832604,
          -1.8793340708111232,
          -1.4483273104314527,
          -1.6855200932596461,
          -1.8814813682552243,
          -1.4090316369170117,
          -1.8761815210993233,
          -0.4113534767140593,
          -0.8662032598582586,
          -1.5843624105760061,
          -2.442834751812608,
          -1.0024189493957545,
          -0.7470110613107913,
          -1.2099907754251196,
          0.8179688501593768,
          -0.3212642807458109,
          -1.1398522347318445,
          -0.843701824803569,
          2.0422528852061297,
          4.763938610263665,
          -0.8284168584098426,
          -0.6352570447275017,
          -0.8515059856345203,
          2.2461767341646794,
          -0.39823929265682906,
          0.6404987805565766,
          1.2643075804942288,
          5.199354627810798,
          1.858382900436075,
          0.7197917125418746,
          -1.8100918480866648,
          -0.051435894770324,
          0.373892101955117,
          0.7611727109350749,
          0.8241113127768867,
          0.5550844565870726,
          0.7400410988074465,
          0.4304758860098769,
          -1.1913376013534487,
          -2.0196290838920725,
          -1.0362298519507234,
          -0.626685897596571,
          -1.7617435578112277,
          -1.9484506333422849,
          -1.0008080358122453,
          -1.946560939940712,
          -2.476175635292686,
          -2.6575800924276174,
          -0.7988177186083164,
          -2.132364305711081,
          -2.5641686556704406,
          -2.1305638358695558,
          -1.0271095058981743,
          -2.2711827620735563,
          -2.995567970719325,
          -2.0137771473781383,
          -1.5437600629004624,
          -0.564165747821065,
          -1.9539615900671432,
          0.13531177462093819,
          1.5240830508841003,
          -0.3897913275357,
          -2.1472490541110067,
          -1.7165767230653317,
          -1.7102416567782461,
          -0.2945681091475033,
          0.6183200167275003,
          1.105052316821267,
          0.013477089149456108,
          1.3552239026426234,
          -1.4987842085344658,
          -0.8367365709615117,
          -1.0892869241340002,
          -1.1815682360615916,
          -0.8359986265401647,
          1.8064229455207184,
          4.573522285535854,
          -2.3895472039585006,
          -0.8875625801717633,
          1.562393247252768,
          1.6129921406346888,
          2.3782870107067717,
          0.24814725641207463,
          0.8731453432239888,
          -1.7647645267425431,
          -0.13139150759423343,
          -1.6129773081287344,
          -0.5758965096135344,
          0.07342012773008655,
          5.948310252700199,
          -0.2603117476767207,
          2.343952977423159,
          -2.0317748746875974,
          -1.342230834318822,
          0.5257049943117349,
          0.22042439977144998,
          -1.4231533307505309,
          -1.9680325183749654,
          -2.4900041877896326,
          -3.64031701399453,
          -0.71006898345288,
          0.1803774457546659,
          -2.7307792390101318,
          0.6051493269356291,
          -2.012226808574386,
          -2.9882377865906755,
          -1.988122656708789,
          -1.1001811056752318,
          -1.632256010248138,
          -1.5585212785368743,
          -1.200376905617609,
          -1.1518035655172458,
          -1.5626575408762535,
          -0.7030185679656773,
          -1.510987856425024,
          -2.094976256405369,
          0.21820803727112048,
          0.2810209256473467,
          -1.5999015985109117,
          3.6364376718953966,
          4.377634569812746,
          5.5178326207774475,
          -0.15593220469833133,
          -2.782354500681216,
          1.7058186045512926,
          -0.33256344644116265,
          -1.5606335978828183,
          -1.4666166729454655,
          -1.6720377493956835,
          5.050054496026235,
          -0.42113023519586834,
          -1.4156805781784687,
          -1.0310175317531445,
          -2.059461933825434,
          -1.1993121002513585,
          0.8418391167498283,
          0.5277083757468605,
          3.2000540604664485,
          -1.0918956593169198,
          -1.6640321370290712,
          -1.7940379519331622,
          0.2675915444468304,
          -1.1761461616742326,
          -0.9236608800933434,
          -0.7383878592737927,
          -0.7370115676562271,
          -1.726006148788172,
          -0.8276749826467554,
          -1.0981889258275142,
          -0.06860373314219224,
          -0.19842300499808804,
          -1.7252882884251954,
          1.902704125064269,
          -1.2041377469319987,
          -2.1467615740377135,
          0.5675226390225944,
          -2.737860585635959,
          -2.3646735229993046,
          -1.5159051852544079,
          -1.1991820155424173,
          -0.23901879110390342,
          3.7555101009976415,
          -0.9172187524603741,
          -0.6027578678703451,
          4.365128553031849,
          1.3570526592632621,
          1.0610805001881747,
          -1.0918956593169198,
          -1.0918956593169198,
          0.3799066704611559,
          1.05075177723107,
          -0.8347222062997993,
          -0.43629024499739455,
          1.8393460147500824,
          0.9749323262388515,
          3.5998474603595274,
          1.3878500421641156,
          1.8808998932641372,
          -0.24102161445379225,
          2.5242881418413683,
          1.822645487978487,
          2.382405468796725,
          2.7160711465674634,
          1.3400521098127423,
          2.0675085711905994,
          -1.3774147805614496,
          2.1169017128094128,
          0.4725370812856808,
          1.7005090330279191,
          1.0124138734776404,
          1.463848986140685,
          4.517415285770568,
          1.6062390664664274,
          1.5090985483914157,
          3.3281730713216455,
          -0.7586867391814038,
          -1.9710893785207466,
          -2.6279453478185077,
          -1.0959217221133761,
          -1.7330340393361587,
          -1.5509421569582753,
          -1.9153264230825675,
          3.2865430676300686,
          -1.8853012598366485,
          4.031929446383438,
          1.0917032949632037,
          -2.0995891751226234,
          1.6077515138179552,
          -0.7338996331495027,
          -2.329923166852286,
          -1.6714994013804192,
          1.3227936929233712,
          3.224578804871139,
          0.8493078136160134,
          -0.8991050041159998,
          -0.2596369783110561,
          2.487845989688523,
          -1.0057381074581442,
          3.7826527020996887,
          -1.9157679231230464,
          -2.0026233957398745,
          -1.6696448272331201,
          0.35150546256900767,
          -2.4460483692043993,
          -1.761901935635352,
          -1.6517774567678394,
          -1.6237547621234043,
          0.8957766323986618,
          -1.8642286743270586,
          0.05337344824099835,
          -1.6425344618411402,
          1.3552239026426234,
          0.14624608874565193,
          5.8582097216168725,
          3.7180312609607884,
          4.993793590175095,
          1.8999455539621681,
          -0.8127854597663113,
          -0.9882751706880357,
          0.6321516301100975,
          0.013416667960795147,
          -1.2772504087424372,
          0.5751095293838524,
          1.8650579113698977,
          4.510568593122149,
          -0.08449905553375503,
          -0.24164638031297825,
          -1.9830682310610874,
          -1.8494850568377135,
          -2.507249276942517,
          -0.31208753852228294,
          -0.19799516276388,
          -1.9132406824951946,
          -0.46675708557075907,
          0.5301321114835887,
          2.805989237136698,
          0.650397887624856,
          4.008015267389637,
          3.000746418246711,
          0.3032852502015838,
          0.7826398955578464,
          -1.4792219052824112,
          -1.356382774233701,
          -0.966070926083057,
          -0.05259932417507783,
          -1.3776523091749278,
          -3.072525663599119,
          -0.47513563176003154,
          -3.026756059954508,
          -0.8325111872744723,
          1.7747900310136333,
          -1.0280691588067064
         ],
         "xaxis": "x",
         "y": [
          -0.01114629012680177,
          4.498483040491571,
          -1.2584950530912409,
          -0.931690239179435,
          -0.9998605575699333,
          1.4491987952161314,
          -0.15349105666351967,
          -1.0976948285917072,
          -1.2029511963611885,
          -1.6720710185825896,
          0.6245816077119463,
          0.3542795183340963,
          0.6218862595041166,
          -0.7257260770647128,
          -1.7533744258913713,
          0.09456002264657642,
          -0.7607765416859076,
          0.09023324070522949,
          0.6354891072036856,
          0.9549247299482804,
          -0.8173396601849973,
          -1.2470979651002094,
          -1.0384504583107166,
          -1.8477530524363992,
          0.3664056587919296,
          -1.0939423326821638,
          -0.5130725914703962,
          0.19285191038163527,
          -0.4085058347890228,
          -0.40191277686913357,
          -0.539036086835645,
          -0.5093297116411067,
          -1.5551823065201937,
          -0.3275202482615797,
          -0.11881659332814606,
          0.6359085300784671,
          -0.5876810821821716,
          -1.6234813101233756,
          0.926155447236255,
          -0.0025837146344432267,
          0.9482384115361031,
          -0.4325272360306126,
          -1.047723454678987,
          -0.5884127949167768,
          0.10962376719394744,
          -0.17631562638303316,
          -2.2313108525205148,
          0.34217595688040625,
          -0.1339372487144554,
          1.8282937839211038,
          -1.5586608599510319,
          0.3941377070229458,
          -0.16899555980659212,
          0.6402870848131599,
          0.7535261568595857,
          -1.0071979202008554,
          1.251381544732152,
          0.7283795254050491,
          -0.3155870920706917,
          -0.3743084277381323,
          0.6971582660739035,
          0.4907815022846541,
          -1.449631329393616,
          1.4022237154782515,
          3.1825154078065756,
          -0.13343620635138276,
          0.7231412843907863,
          2.435673232412769,
          -0.662445295966797,
          0.8828610649268497,
          -0.4539974243368532,
          1.2895652026945383,
          0.7021569500085992,
          -0.03212034941795509,
          0.15589311833334943,
          0.04483740558801569,
          0.7644853720457699,
          -1.8700830086717861,
          1.942401413073396,
          -0.5355532328520183,
          -0.7101916522494026,
          0.6821340814378507,
          1.509604288913731,
          1.0677125248492456,
          -0.20319345565050237,
          1.900070375991712,
          -0.9569272319374202,
          1.795794818149863,
          -0.5045512816835347,
          -3.0351142354928826,
          1.1858743295178074,
          0.8760206158908893,
          1.0658710831443396,
          0.8982598530428659,
          -0.10984688935739846,
          0.7719022721632359,
          1.199081680321863,
          -0.05275616015040305,
          -1.8569894900465915,
          -0.32643552532892167,
          -1.693948184066828,
          -0.10438796376461931,
          -0.145310437812354,
          -0.4996968944645937,
          0.32606478883571877,
          0.5077876996618971,
          -0.05048147181217192,
          0.4746966598255545,
          -0.3879735524805999,
          0.9981145621078831,
          -0.0645886857741153,
          -0.166806079605141,
          0.6183612930258772,
          0.3466789772890125,
          -0.8498816694047547,
          0.02828535453093976,
          -0.43098808762266955,
          0.9716433758065653,
          -1.0005494442087874,
          0.5665290125385666,
          1.1465811195267994,
          1.3964744337563009,
          0.43319264302379484,
          0.09286868670805454,
          0.28271702966358175,
          -0.46751195464354117,
          0.3005906656279877,
          -0.25683121926391544,
          -0.7082299299146119,
          1.9653556872423215,
          0.5402660920588395,
          -0.4733052245128082,
          -0.4590570749385408,
          0.17712840735323726,
          1.3226057430132447,
          -0.18364572119185335,
          0.5715418725763843,
          3.1825154078065756,
          -0.22520769265871277,
          3.337277772905865,
          -1.1787016560533603,
          3.337277772905865,
          0.8919286352285124,
          -1.6621229341015185,
          0.91265189168727,
          0.04544220504715577,
          0.15799090914534894,
          -0.3881116746652953,
          0.7693841067862294,
          0.31652003537511103,
          1.589997735343131,
          -1.9047868000468373,
          -0.9570850389300127,
          0.22303451284726108,
          2.105384987244777,
          -0.6995465461225087,
          0.7111076327776101,
          1.0092401714194619,
          0.3238118826696467,
          -0.16319434873238067,
          1.0404375904923138,
          0.656479398965915,
          0.39517415148942087,
          1.241010433821307,
          0.37695909322640714,
          2.4618886452370727,
          1.2357005578886242,
          0.26347434069350956,
          -0.3149803062308423,
          0.5105081730241829,
          1.159787695039183,
          -0.1586470540727898,
          0.29605844599103553,
          0.08484118937578781,
          -0.7467089182464842,
          2.211413217937468,
          0.08320541248182209,
          -1.04434417849207,
          0.1912344681748862,
          0.6089226265344303,
          0.778995261963893,
          0.9523723915944743,
          1.0296391405424679,
          -0.362670159605385,
          -0.9711390263760884,
          -2.6424864233452228,
          3.103331962225936,
          0.21619308773179377,
          0.014957619740981266,
          3.919038472857367,
          -0.5723148273970239,
          -0.9986452552999862,
          -0.9516486023188422,
          -0.6906988660514802,
          -1.1840841818426264,
          -1.3006189908905748,
          0.5947979963623207,
          0.08054162638613564,
          -1.8790387512323188,
          -0.33885212574192813,
          -1.630949174398553,
          -1.094171516568638,
          -2.446461747927903,
          -1.1407059930266366,
          -1.8453286786660474,
          0.6507379346285547,
          -0.4711808757008192,
          1.0197325913084658,
          -0.2733651563736532,
          0.017367780195285943,
          0.7744178910726912,
          -1.1653490752846143,
          1.5829275370760418,
          -1.2845530401926446,
          -1.3462327707720652,
          -1.1924586912170798,
          -2.355220982919509,
          -1.6350920282524626,
          -0.7943134394819894,
          -1.59480151879113,
          -1.0367744163767683,
          0.23834202586569098,
          -0.9150329918104076,
          -1.679114364382895,
          -1.114008183778781,
          -0.42641535088457866,
          0.1972031517007027,
          -0.7675781583836271,
          -0.663406402691084,
          0.018494863427138856,
          0.032393957429234746,
          0.5429849610833253,
          -0.5502293308844962,
          -2.5877559470825315,
          0.07003755588593016,
          0.7387646468178276,
          0.8517448089595093,
          -1.0045392123559698,
          0.02274491893061855,
          1.1028840070236041,
          -0.9711482695074365,
          -0.5747759434969212,
          -0.704166570853378,
          -1.2590290776964859,
          0.5110837248386948,
          -0.4473929302746724,
          -0.7770987572885044,
          -1.5128098061317308,
          -0.010119072281300701,
          -2.656517044283654,
          -1.857853765349959,
          0.029678348751542183,
          -0.48811766008404944,
          -0.4626350100807732,
          -0.6323213193002092,
          0.8689648267049034,
          3.240477508030488,
          3.240477508030488,
          0.023892287317249853,
          0.6703963948146892,
          0.7996627431599458,
          0.5833737164149394,
          -0.11689578549234399,
          0.7123683209024173,
          1.5310948073312338,
          -1.6069800221607178,
          1.8559942570662067,
          0.044375399803954406,
          1.2105451052359484,
          -0.6133121765032439,
          1.0809283795560014,
          -0.21205336988886164,
          -1.1818910023338216,
          -0.7775444494726201,
          -0.6234088227383868,
          0.5694778943370092,
          1.7175189370213617,
          -1.0189490622171704,
          -1.1180976339575934,
          0.5457794249420181,
          -1.2203204394225349,
          0.890689833142355,
          0.9608276029309001,
          -1.2672613034227664,
          1.6835784222939054,
          -0.704716660782518,
          -0.6445389710374154,
          1.711806720312134,
          2.0700335917909665,
          3.7740953500324252,
          -2.5264020438823476,
          3.0277051545857105,
          0.7863022708009547,
          2.853662751981009,
          3.7740953500324252,
          2.0513570557630816,
          1.4012277428553168,
          -0.9266969511957166,
          -0.632647691995327,
          -1.1279563071617345,
          -1.1810383810275702,
          1.957537768774419,
          1.9979683623798519,
          0.06784792539787188,
          0.5362425827548237,
          -1.4777415250203847,
          -1.9777901671231988,
          -1.10966454910641,
          -0.7895282956595103,
          -1.4068333771286472,
          -0.8359585182991252,
          -1.5475653090429053,
          -1.2046762480700817,
          -1.6143833336086197,
          -0.5314998546403843,
          0.1802771201047219,
          -0.7320794166920263,
          -0.03506686939659856,
          1.9807742361710312,
          0.4223294232920431,
          0.2836067607286731,
          -0.6255932639365438,
          0.7112353207108755,
          -1.107710188561169,
          0.48824908011310597,
          -0.22795730447657717,
          0.19717824977674236,
          0.31503199804626686,
          -1.2672613034227664,
          1.1177165541627034,
          -0.44571727774836206,
          -0.8138693535483427,
          0.31786427908998455,
          -1.1464663024558046,
          -0.17714161009327867,
          0.34844421110531876,
          2.4064049724463246,
          -0.00035252177764398974,
          1.8873203415832398,
          -1.3725204164548324,
          -1.265768837753669,
          -0.6949733179444145,
          1.8873203415832398,
          -0.8101213187323126,
          -2.918341516468282,
          -0.9151402576715381,
          -0.9894869373615424,
          -0.29923272082723884,
          0.4760198718631162,
          -1.5094498562717857,
          1.8873203415832398,
          1.1113603909961725,
          -0.37497601475158837,
          -1.2545771481814039,
          0.9048464943468986,
          0.14491983213610415,
          -1.0798413560153628,
          0.8958070512138079,
          2.0607557633872737,
          1.3380694906666468,
          -0.7927850799344979,
          0.7801239402947843,
          2.3890026316786566,
          0.010923878415342427,
          -2.701162881091408,
          0.3071600666562856,
          0.40601777210735335,
          -1.7931461706698155,
          0.6582528726690426,
          -1.5634644260717647,
          2.4150542414887277,
          0.5843336029259846,
          -0.6038418556220857,
          2.2825376777124333,
          0.5348228328720835,
          0.4434997849539594,
          -0.6515118089357835,
          1.053350465893428,
          -0.0568459351101822,
          0.766707236906698,
          1.9924299245585078,
          1.6650019235103033,
          0.0989133857527176,
          -0.21030445971978123,
          1.4049591878689227,
          0.6572987131801552,
          -0.7572609888099854,
          -0.4289788550163667,
          -1.1663827255438772,
          -1.0375737857811513,
          0.3177602599695216,
          1.1770272825990251,
          2.5220133022988427,
          -0.35565697175471445,
          1.2739159471111878,
          0.12552664107296146,
          -0.04443688853521295,
          -0.9598826795695845,
          -0.9994617694103698,
          -0.1719223856015671,
          2.0825047669647545,
          9.808615665275736,
          -1.9109995363880028,
          -1.5953448853504661,
          -0.20772046078352646,
          0.3837984365774675,
          -1.6622338726879464,
          -0.5449138158014973,
          0.392604211401562,
          -1.0816366373679913,
          0.2533103235365419,
          -2.3938747210539595,
          -0.47150127593609564,
          -0.17561167281722512,
          0.7451440430086268,
          -1.6873495018785998,
          -0.2038045167524339,
          -0.6772495315786107,
          0.451544115902795,
          -0.4727486064660535,
          -2.6124788945229884,
          -0.5263262266185571,
          0.8079535533547774,
          0.11383168486562492,
          -0.8406691236039708,
          -0.07662975110137565,
          -0.5132639481080146,
          -0.5820581328286758,
          1.4966189151479745,
          0.21591294181917126,
          0.8749333087385133,
          -0.4958347243325948,
          1.266796938917895,
          -0.6352214968617711,
          1.7116862484490896,
          -0.059813117058138576,
          -0.6497724736162314,
          -0.6584021042342938,
          -0.11984531532774521,
          -0.6498927216938708,
          1.6583247694069467,
          2.0021393264062297,
          0.10467094944933039,
          0.12593071239530523,
          0.9211842808505307,
          1.1566985880876246,
          4.137971827721908,
          0.45103399100912783,
          0.7392753979079747,
          0.7802223761612862,
          -2.0010115300907674,
          -0.5462424385825618,
          1.2886913072683863,
          -0.4138934852797078,
          0.5142060333389613,
          -0.19834002790450095,
          -1.1325191168425923,
          1.0888335146592358,
          -0.8852774981108731,
          -0.259573666710327,
          -0.3365596012460396,
          -1.4383020605948758,
          -0.8553689297851265,
          2.0374156634903393,
          -1.0849805099308243,
          -2.624972510429553,
          -0.2911849371881059,
          -0.9406771827196853,
          -0.8619638727305484,
          -0.7446552433346809,
          -1.5806404300447312,
          -0.24540199652620603,
          0.16613234798095347,
          0.25522346651491884,
          0.8974807722274412,
          0.6208671719375584,
          0.28059253069266116,
          -0.6340873085014076,
          1.066185176283189,
          1.5503964871266396,
          -0.7612398420860166,
          -0.06922749235527223,
          -2.1577156365997996,
          2.187271309515395,
          -1.3215548520622258,
          0.7356238326523725,
          0.7673642510824742,
          -0.06979929244776016,
          0.4886676650433211,
          0.2669812198875671,
          0.7328123563979596,
          0.5861214875061446,
          -0.9953858151396173,
          -0.17759522520563853,
          -0.6764116893753346,
          -1.2989213224117375,
          0.8921496309187887,
          -2.267536479736285,
          -0.6406026434243614,
          0.08160718107044228,
          0.7976536903440757,
          -2.5319163057702356,
          -1.0799014176355535,
          -0.19615586969321422,
          1.138417032076644,
          0.28707549080251304,
          0.42268510345319305,
          1.5804058973004496,
          0.766336459765956,
          -0.6146786963745652,
          -1.1175193421862712,
          0.6785761172927789,
          -1.18063633943907,
          -1.2359788765089321,
          -0.31955324249624484,
          -0.3744071069079032,
          -1.8640708749147705,
          -1.7773287436540233,
          -1.9813608548146249,
          0.2570733598340715,
          -0.6155426574374903,
          0.24292559938267916,
          -1.1616324224085013,
          1.895862279855881,
          -0.33566063651686007,
          -1.0694624857178219,
          1.7513158520768173,
          -2.436794523799688,
          -0.7722764505011082,
          -1.1810989500449771,
          1.931705228903823,
          0.5716358610330142,
          -0.46669574977910255,
          0.7085487574433725,
          0.2816180026787563,
          0.39077968913995303,
          1.8664572644859483,
          1.2570515395744672,
          -0.025989927797273726,
          0.08292369316000923,
          2.212558250703971,
          0.32506176456087194,
          -1.1703087112108852,
          0.2742683209909499,
          0.7085487574433725,
          1.143739289582146,
          1.3752645944313233,
          -0.5836498678916449,
          0.19823214236746,
          -1.614894781019969,
          1.0620864810567894,
          -0.9361637998069956,
          -0.022866776118988054,
          0.6613537913076041,
          0.3853063184308263,
          1.2299781646381978,
          -0.07782348751577066,
          -0.15923645755136448,
          0.46279131029195525,
          0.8672704536836479,
          1.585483571819161,
          0.7367549070529653,
          0.7140682739125949,
          0.9688369678118371,
          0.2512680239153451,
          0.5132039117659931,
          0.8372222203501738,
          -0.3573670748157766,
          0.7717816493277014,
          -0.6074502986415988,
          -0.2694611797895163,
          -0.8556227790287775,
          -1.1068158657389338,
          0.1868571188794457,
          0.6816277954199115,
          0.978884253659429,
          0.4520838728502216,
          -0.7983021441809096,
          -0.1338552566481281,
          -1.3796314186286867,
          -0.21078138640284047,
          -0.9811799170595038,
          -1.3319948163180722,
          -0.19328093980775113,
          -0.27708365578956234,
          -1.9783775271564608,
          -1.3738927533892684,
          -1.2024447361796193,
          -1.3080694576617182,
          1.7650475397544325,
          -1.1229156368814142,
          -2.7309258321583534,
          -0.8706224842112558,
          -0.5243173469086168,
          -1.1097479863616218,
          -1.2308039831949449,
          1.1494624022273874,
          1.9641977657477767,
          2.1785293823189726,
          -2.813561060773162,
          -0.44468607627745466,
          -1.3634716348410427,
          -0.6220149462494255,
          1.041680037069989,
          -0.39521771665802063,
          -0.194494695535841,
          -0.38526083549147105,
          -0.06318642030526982,
          -0.06793988912860775,
          0.047525272443751355,
          -1.288014937405106,
          -0.4742245086831715,
          -1.3815311599721667,
          -1.499128273457779,
          0.10597497457687877,
          1.2977230389711816,
          -1.4864565185645962,
          -0.04309271241806788,
          -2.3328311797700803,
          0.9425352116267061,
          -0.9782852103707469,
          -0.8375933378434269,
          0.24182119457517556,
          -0.8490077081291277,
          0.06737530831032715,
          -1.1745357862551755,
          -0.6271315392818446,
          -0.5770669957486684,
          -1.3448712697469203,
          0.23196544102466676,
          0.8445197390903215,
          -0.4029009897872095,
          -0.005736214361115907,
          0.449914334035873,
          0.6750056141422718,
          0.2826921428424726,
          1.2696072180370281,
          -0.48718018052216006,
          0.6108104896236367,
          -0.49485873149141213,
          0.1181781723823425,
          0.7334875142917893,
          -0.518091796150676,
          0.18106416040857834,
          0.7146230917208716,
          0.7428997971628272,
          0.5593656303835148,
          0.48490533108278117,
          -1.017125998370771,
          0.3878104905547088,
          1.6226377843395519,
          -0.17809704794334963,
          -0.12476503646774245,
          -0.2961779604109371,
          -0.2737989226362745,
          -0.9268841480713051,
          -2.0380101122304377,
          1.4506337137912277,
          -2.057908520167521,
          0.03302731056233937,
          -0.6887356962529697,
          -0.5190815328898648,
          -0.7472663186110945,
          -0.8682390206907898,
          -0.23433916561783233,
          -1.405339282447948,
          -1.2981861098400005,
          -1.112746750628704,
          -0.976852614306813,
          0.6741636247927274,
          -0.9814765781246849,
          1.093412714895332,
          1.1383910108144215,
          0.06965396958828227,
          1.9959801067556273,
          0.9755122541602342,
          0.6623848700199325,
          -0.8861233320777788,
          0.7021569500085992,
          0.7363870858767146,
          0.23300896490671444,
          0.15532837478584458,
          -0.7151335683911892,
          0.4534623044762605,
          0.5953873912830422,
          -0.12083862405770122,
          -0.7904677532103999,
          0.7442943549477102,
          -0.5173945461923828,
          -1.3671815537397118,
          -2.164760686281038,
          2.4065757701891566,
          -1.2491142295755027,
          -1.7138057454863633,
          -1.1199854719256765,
          1.6019710557732256,
          -0.7298052345060027,
          2.696272599035888,
          -0.35149643953172727,
          -1.702470907429885,
          -2.6028083441033227,
          -0.0018618573810401126,
          -1.6785787472575238,
          0.17100843015583939,
          -0.26644865112001165,
          0.07288441826828286,
          -0.5148061391081219,
          -3.652147331222933,
          -1.522995597008847,
          -0.3615044442366948,
          0.3320991460197014,
          0.0638612806129809,
          -0.06798773550581352,
          -0.06798773550581352,
          1.6600878927881166,
          -0.5499230709138888,
          1.165758976011192,
          -0.5731714708818118,
          -1.6661836834923478,
          -1.4165624627850486,
          -1.4308328180936019,
          -1.1943971753589024,
          -1.4274095208739346,
          -1.1511209970770342,
          -1.4869190971071582,
          -1.5228713473950581,
          -1.4516382091534188,
          0.17590165038654784,
          -1.200754105731201,
          -1.1574513304114848,
          -0.8775905383634278,
          -0.5753777267466662,
          -2.0477466943732634,
          -1.2612019677118795,
          -1.6578915972040729,
          -0.9738377876979695,
          -1.3021828325620157,
          2.0304286520410293,
          0.7354293886633685,
          -1.4150905188259968,
          0.5545644883197917,
          0.49610856408442017,
          -1.4305639637987189,
          1.6075802808416433,
          -0.8012284798287428,
          0.6747351899313608,
          0.1219465488588989,
          -0.09902124256603831,
          -0.06924925887923097,
          0.6715536596689553,
          -1.1968649079150153,
          2.1785293823189726,
          0.7120396547541864,
          1.0719117293829008,
          1.1478520740596843,
          0.6481283190597512,
          -0.5960966025054192,
          0.22109387579757728,
          1.9766866328626056,
          0.06676449711305195,
          0.914371397279815,
          2.8467708265343017,
          0.14701877091226165,
          1.2816469698098116,
          2.8467708265343017,
          -1.940794020637521,
          0.04594027856043758,
          -2.106243615014695,
          -0.7473077818496987,
          0.3813305370708737,
          1.1563480223931875,
          0.0983285723502396,
          1.3195450645550844,
          0.6838502211062928,
          0.9286327150239228,
          1.2197449477602849,
          1.1812618877138912,
          -0.24626779839357135,
          1.0543507232367981,
          1.6346249482684618,
          1.1208526375187808,
          1.1665004006106952,
          0.3592048896803262,
          2.9368444395740783,
          2.359411015343148,
          1.5909270645632696,
          -0.21910571865285064,
          2.278056968755223,
          2.621518835986779,
          1.514944642186653,
          2.1521154668475497,
          0.35273715504116826,
          -1.523959546980697,
          0.8283125934152243,
          1.4516358923430013,
          -0.07205021415422866,
          -1.1760735761202987,
          -3.198217865125081,
          -0.8201818438122828,
          0.6486029919662064,
          -1.8391905524002883,
          -0.29583327844079554,
          -0.08593625358313073,
          2.1616477161589405,
          -1.5566511731330424,
          -0.1914810210768579,
          -0.7299870431004452,
          -0.7726676252422131,
          -0.8789815373159127,
          2.596594940330126,
          -0.9684721849669081,
          -0.012415922773765539,
          2.7776317992507416,
          0.008146240049375498,
          -0.12915323542918014,
          0.6678652880289516,
          -1.510702170379667,
          3.0731493555380647,
          -1.4438610416065316,
          -0.5025097048772142,
          1.3242077355585722,
          0.5827095805282628,
          -2.1973568753736106,
          -0.1475387356974859,
          -0.4880953525546377,
          -1.3450083943612763,
          0.3268532613083894,
          0.845924923817444,
          2.252464482030401,
          3.304993154608962,
          0.03839524739570643,
          0.9816545686601109,
          -1.7461053753967266,
          -1.4139744288995426,
          0.10598670322736141,
          -1.122963178037593,
          1.3844106892201355,
          -0.16167197298894012,
          -2.2544696238792796,
          -0.6869253409334315,
          0.7902407593582311,
          -0.14973732308850862,
          2.028445670364842,
          1.0809283795560014,
          0.2532824348560135,
          -0.13986980407637734,
          1.519353251808008,
          -1.550757623570252,
          -0.8088935101256458,
          0.15044670458467166,
          -0.045002340189138,
          0.1872013257608103,
          1.2968594264079574,
          -0.4626240158171057,
          1.0988180711853766,
          -0.4246271861727907,
          -0.8185606053174718,
          1.1197926281004642,
          -0.6119842950529562,
          0.2947456189667912,
          1.4551038711161841,
          -0.4100179474855026,
          0.5691942254362514,
          -2.5905991500480123,
          -0.18202951374809548,
          -0.8607013036745839,
          -2.2960756072603257,
          1.3167076465878833,
          -0.2725169039811755,
          -0.5566738862996007,
          -0.7152170885868812,
          -0.7028362760612347,
          0.06303033231618387,
          -0.9902208730061535,
          0.01972410670452909,
          -1.5601392302159722,
          1.2645522348952962,
          1.7383022229355845,
          -0.24957322851933905,
          -1.070252884350567,
          -1.2844295150086957,
          -1.2464356433071069,
          2.299329986298232,
          1.1641245992756324,
          0.7015448503931598,
          -1.529105487833137,
          1.2451125043197098,
          1.2631399169680342,
          2.2103714360060196,
          0.8690317957680918,
          1.7953295321679021,
          -0.22799795098332154,
          1.0354966936301406,
          1.7471850168622882,
          0.6393512413680985,
          2.7322746057581977,
          1.938569561698777,
          -1.4797811365083346,
          2.6268932317139067,
          -0.9871339708869415,
          1.5030130287038024,
          1.0529794513877142,
          1.2377964378668684,
          1.3964744337563009,
          -0.4050203930043892,
          -0.9982484808587218,
          -1.5468837439767473,
          3.1825154078065756,
          -1.5412634785360055,
          0.8001407315361059,
          1.6262958353849521,
          -3.4389885917616163,
          0.5753938621894703,
          2.2122163894790026,
          2.483677273352302,
          0.588593894544171,
          -4.121183392702429,
          -1.394032583859873,
          0.7540240214844222,
          -0.9321725445352351,
          3.0281100691433314,
          2.2881131630279694,
          -0.4078631192511283,
          1.118236966044156,
          -1.304592313992261,
          -1.0114715054304493,
          1.4550998217037516,
          -0.1164031822367593,
          -2.4161106590600303,
          -1.9796288927708434,
          0.16213361299953988,
          -0.4682875272625702,
          0.5913167294180833,
          -0.31088982205911697,
          -2.520090736976856,
          -0.09431542449179672,
          -0.13783072116580392,
          0.6444051988424135,
          -1.1620644660524466,
          -0.5610637779327748,
          0.2316888902685775,
          -0.558119346804641,
          0.21538909230151532,
          0.38654712958519266,
          0.9889416595795392,
          0.7515095953074538,
          -0.23329405373395687,
          -1.229747887102898,
          0.8201643769410949,
          -0.1588204344203935,
          -0.7565388853115685,
          -2.1120286151716225,
          1.840536966980791,
          0.5764743024800882,
          -0.691496947799173,
          -0.31577070586742295,
          -0.8810996699177843,
          0.8021470798848578,
          0.19347997695700647,
          -0.4260196653524403,
          -0.5943416563048249,
          1.4291872876100415,
          -0.16409245911004794,
          0.8120993643015334,
          -1.5026498422538614,
          2.598779509754668,
          0.529358743679435,
          0.7783608326259301,
          0.6238136690580931,
          -0.12191949193504445,
          0.2679161610638069,
          0.42379064874775063,
          1.0686408169382264,
          1.4026574288018114,
          1.387981656143107,
          -0.21462188479536637,
          1.5320826718596168,
          -0.6503647631977199,
          1.302203303034634,
          -1.3393116405859742,
          0.09681015173227844,
          -1.3155880062177079,
          3.2836447682989998,
          2.7994210517958233,
          1.3470804164822858,
          -0.18101845690861224,
          -0.17543690178552096,
          0.6064345226532629,
          2.7776317992507416,
          -1.8230617493286434,
          0.1305772910259909,
          1.2313845008696003,
          0.3466045216035884,
          -0.09832938999495958,
          -0.09436777659232864,
          -1.841897072198433,
          0.5570265612360665,
          0.33874116018653794,
          1.0151455031556138,
          0.7643506416929176,
          0.08291424450270449,
          -0.10603512351487261,
          -0.04999871550889343,
          -0.8471965335774996,
          -0.762542698952958,
          0.44949717893278424,
          1.1125741175253236,
          0.6084618967296065,
          -1.2541278438638561,
          -0.6314035129261312,
          1.296284905765052,
          0.24621207217737998,
          0.05394140392632211,
          1.4956554144984173,
          1.7899910019342107,
          0.47066581613318115,
          0.519657362120604,
          -0.09702344877198661,
          -1.628982703675945,
          -0.14762103535583293,
          -1.0538483392871967,
          2.575473897310148,
          0.32698270084520714,
          -1.0584835530918608,
          0.2810292146864916,
          1.4795346263809028,
          0.8726252657977546,
          0.019121467791143307,
          0.8287698711128341,
          1.1378368096175673,
          0.2635445790926996,
          2.2707965426279646,
          1.307720619909261,
          0.8185767880870038,
          0.6650768549335055,
          1.7874380723812977,
          2.066405130723684,
          -0.3463926836305317,
          -0.8577415633782166,
          -0.34664296939333517,
          -1.0922817043651094,
          -1.3118166173906052,
          0.8976326080505223,
          2.5385277673135587,
          -1.1870387717949196,
          2.7869826184936697,
          0.25451437231873375,
          0.3893614766751998,
          -1.107141205519939,
          1.6107705074878251,
          -1.173952508855418,
          -2.0616820132566835,
          -2.8053945963871154,
          -0.8831663371685462,
          -2.0633678994235884,
          -1.7987616717190231,
          -0.42073147532698163,
          -0.6148024213290779,
          2.274393449922064,
          0.1859934865096034,
          -0.5898593904191535,
          -1.2018199465962698,
          -0.11050871698377042,
          -0.5749320975573821,
          -0.6406026434243614,
          -1.3543005202399951,
          -1.5725660924038976,
          -0.6421207488010772,
          -1.7657936503406586,
          -1.4009596285162924,
          -0.5103533356941576,
          0.313666959730611,
          0.10148720546280263,
          -2.227761661146161,
          -2.1663989305907423,
          0.9798370766144211,
          1.2933397156417659,
          -0.18737478514681236,
          0.35437199497886906,
          -0.4940457410139041,
          0.4082024146126538,
          0.07545889725107945,
          -0.020097489442545552,
          -0.5232755081075595,
          -1.115184570111143,
          -0.035245472188088545,
          -1.7256356053318522,
          2.5653555509713497,
          3.785598078144563,
          -0.5196969124319157,
          2.0225229491030836,
          -0.32733611209997465,
          0.9020944113643271,
          -0.9310219539819883,
          2.5653555509713497,
          -0.9971014093097108,
          -0.29762929933797116,
          0.32410340956387107,
          -0.3972965827435323,
          -0.29185280304219424,
          1.2589704060075455,
          -1.1152716845022292,
          -0.6068327709989878,
          -0.019608718525091155,
          1.857689027053374,
          -0.44601320040822623,
          -0.08888667464901504,
          1.2226267391788155,
          1.318041944793471,
          2.8347796606319813,
          -1.6881739103057394,
          0.8702582499121682,
          -0.6016329590871631,
          -1.6520216682288371,
          -0.6742172913753632,
          -0.1680107737918645,
          0.6829368856863999,
          1.0166141420885226,
          -1.1573513700831792,
          -0.9920311725425535,
          -0.30940759541017365,
          0.2731435477189463,
          0.015838701558660198,
          0.7240235934694036,
          0.8707080592041276,
          0.21601977979558115,
          0.41830866017892415,
          -0.7748456390260203,
          1.6700907754335637,
          0.21471234273482176,
          -1.1733447838065616,
          1.0707460862605047,
          -0.5757347764161681,
          2.7914806372152134,
          0.8073484220482426,
          -1.0511858033336967,
          -1.1638906002201033,
          -0.9323783000383256,
          1.4338452229528582,
          1.5482517667523978,
          -0.8243053696849125,
          -0.2172776174893345,
          0.7408819707686047,
          0.7766444874755666,
          1.2466074522256274,
          0.7996077501042823,
          0.709898450090936,
          0.15738238233608903,
          0.8291981600164918,
          0.4115211848400107,
          0.1850701219470122,
          -1.0699889202336406,
          0.5477835991559189,
          1.0667926679701087,
          -0.8775491680441375,
          -0.4112771774398265,
          0.0956270224192837,
          0.07627133581846347,
          -0.4121154042046903,
          1.2651376595429609,
          1.135051836093588,
          -0.06337771493283831,
          -0.43546201406257323,
          0.719678754934265,
          -4.402578912524456,
          1.968720868368259,
          0.6555126013851416,
          -0.05604008805531325,
          0.36014843924403517,
          -0.33933105305157146,
          -0.0561886406189474,
          -0.7620360756541423,
          2.276584436476022,
          -0.18097852487374946,
          0.04741030706685062,
          0.9977781862139031,
          -0.10368604875802655,
          0.08477651925558229,
          0.8612425944740133,
          0.7906107892066138,
          2.222153168898029,
          0.927113757282784,
          -0.9330765738277959,
          -0.8988029806520115,
          -2.3137946958989035,
          -1.2620312997889207,
          1.5310948073312338,
          -0.46980024727535513,
          0.8215286852076022,
          0.7262953082237085,
          0.3474608869182148,
          0.1933160140725198,
          1.4030209257013264,
          1.4136472750859455,
          1.4846899884981601,
          -0.3107178863439593,
          -0.10512270723039105,
          2.7885881960637877,
          0.6942665279067883,
          -1.6221205168196686,
          -1.5358891258969718,
          -5.390230091324025,
          -0.05382714583808606,
          -0.2898665417593279,
          -1.260382298976926,
          -0.7803224545641377,
          1.5051495770311576,
          0.5803112501175957,
          2.0866649366493704,
          -0.18161001740644267,
          -0.6501600677716765,
          2.80050812955058,
          2.010684631814507,
          1.0261929757046147,
          0.8826209995591443,
          1.4018861885732574,
          -0.16219622891775734,
          0.2559954609722773,
          0.8691497060902615,
          -1.5011848488732062,
          -0.320059727732753,
          -1.2944994042026101,
          -0.5456178840144867,
          1.8888243208696942,
          -0.5729396178889058,
          -1.490837162666295,
          -2.1898217107727187,
          -0.6979816378653616,
          -0.2390529547481169,
          2.4092943529985384,
          0.9257675849876764,
          1.5566745603483774,
          -1.0069374967242806,
          1.0084966732206206,
          0.9323963957092459,
          -1.0527303276752795,
          -1.237306474288756,
          -1.061956511129075,
          -0.5555449222733343,
          0.978884253659429,
          1.04082592987667,
          -2.8428263971497616,
          0.5180488529611279,
          -1.6905110652741522,
          -0.32628851114170354,
          -2.1300316136128092,
          -1.127816890727579,
          -1.2815634859617262,
          2.4684970360729053,
          1.0838583358054033,
          -3.134978290334295,
          -1.6413306810627117,
          -0.452502784706612,
          -1.9522743211029687,
          0.48362291075191954,
          -1.4563425687414275,
          -0.10987314385041748,
          0.6158576137099456,
          -0.5868950184257314,
          0.5769079407121158,
          0.9088328834540075,
          0.9740543609654378,
          1.4055402227803464,
          -0.45150411441299726,
          0.8918181728173354,
          0.897536079664846,
          -0.6621999979037586,
          0.9635875557455972,
          -1.2252005169240636,
          0.8707039875644639,
          0.8253771930222126,
          1.0561426926150916,
          -0.9405407931339564,
          -1.828782838684249,
          -1.3540124493050316,
          -1.6069800221607178,
          0.3460117677467228,
          -0.48224370036170267,
          -1.0797421576520243,
          2.04944237880173,
          -0.6863589864441038,
          -1.2312058155561383,
          -0.44080777346317646,
          1.9103928827399022,
          0.03270583740353571,
          -0.20996796039133614,
          -0.6289580764774875,
          0.510535944090578,
          -0.959193673966362,
          -0.6258817633061415,
          0.0652014234646754,
          -1.7822998845983398,
          -0.8405755615134096,
          -0.682436977430618,
          -0.3050667357507057,
          -0.6683855409374198,
          -1.295209410343455,
          4.826559931350408,
          -0.33603727332859434,
          0.5404265351754703,
          -0.12259444631687369,
          0.4040503109581132,
          -0.43068633033445186,
          -0.24231908854981304,
          -3.7463039154988023,
          0.39035402921086143,
          -0.35595835639308965,
          0.06001886261222865,
          -0.8933600247286169,
          -0.8933600247286169,
          -2.086516395357702,
          -1.7010795872307343,
          0.2606769403008007,
          1.09225939339299,
          1.2345506751356463,
          -0.48824078778516966,
          0.4524186313225962,
          -0.8399721363552363,
          -1.5610763688475235,
          -0.5750562636036316,
          -0.8381301731828616,
          -2.7309258321583534,
          0.7874939756284236,
          0.4911950927440061,
          0.377448737521014,
          -0.9967827441174478,
          1.2010413815187724,
          -1.6818591537753729,
          -1.4601155094272025,
          -1.4601155094272025,
          1.2010413815187724,
          1.0670428479199006,
          -0.4567946599848611,
          -1.2245378851001387,
          0.6475400473459312,
          1.7194337387580372,
          0.4721520501796537,
          0.13514671558855054,
          -0.2806337788637922,
          -0.3541260846265751,
          1.0318573930800443,
          1.720845674353052,
          1.3009344093014206,
          0.4789975912632364,
          1.86973489811416,
          -0.5914828614287014,
          -2.05903766451655,
          0.26757430621377565,
          -0.985326623947162,
          -0.4604816004754529,
          -0.5391510807840079,
          0.9443175429761812,
          -0.25995302986961594,
          -1.0649853089125982,
          -0.23905742054502638,
          -0.7345811253619409,
          -0.08720400421957876,
          -0.0489420493768872,
          -2.865759634712718,
          0.6414594616910237,
          0.6520037893508097,
          0.2747868787312029,
          -0.08784013708631114,
          0.6768356895737313,
          0.35920674858526974,
          -1.3101377947307857,
          -0.069564101186815,
          0.2187562703895292,
          -0.10658644268281285,
          0.3257683708684395,
          -0.292435414149122,
          0.6336547576565377,
          0.3133456930887127,
          -0.503250593946528,
          0.537122045632541,
          2.3743377142720075,
          0.2790429935717439,
          3.192275068124047,
          0.08380126477325556,
          -0.3451750248005223,
          0.6167098993104887,
          -1.07929005481486,
          0.14936143468670127,
          0.444709932702995,
          -0.5114790901334085,
          2.1785293823189726,
          0.4572206020731502,
          -0.25556123260532754,
          -0.8074208670098918,
          0.9472386308757951,
          -1.2426905814373952,
          -0.33641761852626406,
          1.0736651373184176,
          1.1904782212570604,
          0.7623681292410849,
          -0.6732696472195181,
          -0.6440393410699298,
          -0.4569795729109621,
          -0.9355214742832674,
          2.992943722669243,
          2.726004010412566,
          0.5718932501658442,
          1.5889260213849843,
          -0.20647348498482976,
          2.50383474895769,
          0.29615014757155017,
          1.0846189796399621,
          -2.20220953113505,
          -1.4404515406505765,
          -1.2821572583643739,
          -1.0392645050027838,
          -0.8359784282430537,
          -0.30479871560059996,
          2.0729705769748654,
          -1.8586859035534267,
          -1.2049475634533076,
          -0.5032153485091925,
          0.3362431205690438,
          2.564961981122827,
          0.301757431852699,
          -1.7667927291437808,
          0.8235435410088731,
          -0.22551329798238903,
          -2.7309258321583534,
          -1.6613392304245767,
          -0.501451220190223,
          -0.609282071618016,
          0.8458223801724117,
          -1.9773985178392324,
          -1.0538519726242697,
          1.8607976208546826,
          -0.33956864941393394,
          -0.9174984834704688,
          -0.8125754547368463,
          0.14301701527301494,
          -0.43627379330685645,
          -0.9044991715514362,
          -0.27678921811505575,
          -0.24579307422650878,
          -0.8244011946355027,
          0.9298124473763036,
          -0.5950664354754082,
          0.44125070418632867,
          0.8445197390903215,
          -0.4650701320324807,
          2.1319338498127394,
          2.1319338498127394,
          -0.33139835788936,
          0.44153230211221334,
          0.07998978375631938,
          -0.39632114260764056,
          2.1319338498127394,
          -0.8155413081291476,
          3.171873475784775,
          -0.5190281872867495,
          -0.04992336453818324,
          -0.5719527809990381,
          1.4382986039502832,
          1.0900669684738868,
          1.7843626906751455,
          0.10095590734267848,
          -0.6444052078607333,
          -0.6061843984291293,
          0.5550883374467264,
          1.5481209530840512,
          -0.7817051706674057,
          -0.6388486423779033,
          -0.17090223401107624,
          -0.32611218191329355,
          2.3012225966724285,
          1.7357442769118512,
          0.04692563163928612,
          1.3344903152922982,
          -0.3115125472162561,
          1.5407603460529948,
          1.5085799273169223,
          0.807560413027532,
          -0.4410685895903885,
          1.1461892091104091,
          1.0750781640158067,
          -0.02528769687673475,
          1.0359956773490937,
          0.7940371917879295,
          0.010298079972030753,
          -0.2313666444622216,
          -1.1263578380899084,
          0.3482735683073876,
          0.7188007759804192,
          -1.200668586601682,
          -0.4887491938537936,
          1.0511329441517363,
          0.7337050641208355,
          0.5801340207770178,
          1.7465185489496882,
          1.5845399675574983,
          1.229362757056717,
          -0.06943785397606687,
          1.3142245990799333,
          0.3466877992177145,
          -0.3224727914058865,
          0.2900924021945489,
          1.2744631039301613,
          1.950146889917616,
          1.229362757056717,
          -2.3742008151056515,
          0.8097924046763039,
          0.32574938288038024,
          -0.11367229774894456,
          0.5239443339764678,
          1.6637469576513086,
          1.7453471747826588,
          0.19832259823786919,
          1.7258681710226258,
          1.4745753880275607,
          1.6228113586987172,
          2.12649283841272,
          0.3083705907543949,
          1.1642030880653815,
          1.1415398106539252,
          -0.02528769687673475,
          -0.6942782995410641,
          0.6062441505324672,
          0.8056575915427338,
          -0.9718696038331129,
          1.1846475025888183,
          0.22260393120987743,
          -1.1380333885721854,
          -0.42294171070276937,
          -0.960384284129948,
          -1.2655864882815986,
          -1.674309468276217,
          -0.9592325696676595,
          -2.208275782350011,
          -0.7614311127461271,
          -0.9283602915772431,
          -1.0003872778034164,
          0.33305942804359584,
          -0.1997866147933718,
          -0.09779050727088619,
          -0.3273231663866189,
          0.32999149224547913,
          -0.17328787315154306,
          -0.2181039074702142,
          2.0778770647655027,
          0.02548911291235526,
          -0.9418507803283741,
          -0.4804940299306691,
          -0.47779605592947166,
          -0.523632623549191,
          -0.9163671842424632,
          -1.28841263870022,
          0.7256755059981272,
          -0.5361754770471576,
          -0.20004831834695225,
          -1.5613522001109865,
          -0.6142121203837286,
          -1.1941311908090255,
          -2.1123758191296744,
          -0.7475462109839723,
          -1.0862550094175347,
          0.6072921779752901,
          -0.35977774728872713,
          -1.582108505581866,
          -0.13876869479146287,
          -0.003982163539607428,
          -1.7721004542251821,
          -0.10800633824615886,
          -1.7184551482442947,
          -0.7220600773571355,
          -2.0084981311726864,
          3.785598078144563,
          -0.624532315397706,
          -0.1811411093788343,
          -0.02280029214200349,
          -0.1526302556077641,
          -0.1887950055902847,
          -2.323447975853464,
          -1.6129585756299774,
          -1.925973818653643,
          -1.4099877285403815,
          0.10661860207796599,
          -3.2055384867100947,
          0.5323072652927331,
          1.8282937839211038,
          -0.615500754249148,
          1.3122550950150031,
          0.6822192108782632,
          -1.0354897180880491,
          -0.45676528942886363,
          -0.8453131010072396,
          -1.9210975153315708,
          -0.6527180829080146,
          0.024262505451437315,
          -1.1247553043951901,
          0.40145569484540855,
          0.05346625837849268,
          -1.706580520738777,
          -1.9235702921852218,
          -0.6810658577223921,
          1.6164448236652167,
          0.09441690780118728,
          -0.5757347764161681,
          -5.3248497109911765,
          -1.8070057827169628,
          -0.02122469233578003,
          -0.8179812815431731,
          -1.3805997531516434,
          -0.42525522515752645,
          -1.1523424561828,
          -0.6194712237286718,
          0.273541147525518,
          -1.2756162640421789,
          1.7770619659271736,
          -0.45488241736513524,
          -0.421761080686225,
          -0.6384313705147712,
          0.3983427053701456,
          -0.18775644327673552,
          1.6973069926470359,
          -1.549598120569174,
          0.19379976247852077,
          0.4813935019603183,
          -0.20512310302811218,
          -1.098246950935198,
          -1.5081390298152677,
          1.423517603838811,
          0.8841847068181838,
          0.20932951138073666,
          -0.5197990686970066,
          -0.7780011535498252,
          -0.08477339014202784,
          0.7143393983015869,
          0.13736835214689752,
          0.7007718477066582,
          -1.009197651514124,
          -1.0020222624106263,
          -0.7434581785609022,
          -0.7805593020332084,
          -1.3122341658827237,
          1.0170344495471024,
          -0.3040733125345654,
          0.08946315030054472,
          -0.31230681270171445,
          -0.16456801441915844,
          -0.20494956985883092,
          -0.07991557811552494,
          -0.4800402335682109,
          1.041874629670965,
          0.41832376286280387,
          -1.0277443701394162,
          -0.661104965854946,
          -0.6489680497255801,
          -0.38526083549147117,
          0.17448410537177958,
          0.5248339009637624,
          -0.4352913993616476,
          1.1609463777718714,
          0.2589852009041753,
          -0.4269145394355861,
          -0.6464046362867734,
          0.4281503175252103,
          0.43273884603382384,
          -0.10281476747520174,
          1.7409198864727382,
          0.538972018481558,
          0.2021375589873259,
          0.7995084254451709,
          -2.2233358551456583,
          -0.29818416988592783,
          0.41034709323556157,
          -1.183936702847159,
          -1.107141205519939,
          -1.1559737393615057,
          0.4471515763880689,
          0.7108677100843077,
          -0.48733428196600653,
          0.6078594827312349,
          0.1493626086872347,
          -0.5306247834551369,
          -1.4600986525329187,
          2.1588799721449328,
          1.4175724059415638,
          2.323474646233733,
          -0.7264340924704055,
          0.5380051620704808,
          -1.5551401795197863,
          -0.2368190968048582,
          0.48309881468211097,
          -1.6654053221269023,
          -0.7714833608045419,
          0.43587842058410836,
          -0.9528768477392703,
          -1.6818591537753729,
          -1.1853532984892792,
          0.03981564058481225,
          0.4276802732664117,
          -1.1439320101672579,
          0.48812003926868336,
          1.066662585650464,
          0.011626124047279392,
          0.5060631780243192,
          1.4863001605179234,
          -1.2844967685177455,
          -0.3713389048807107,
          1.9640017001666545,
          -0.16778180715887064,
          -0.6040355782456597,
          0.2917830774540996,
          -1.474121857523538,
          -1.112022211570131,
          0.30596236372108476,
          -0.4379365403909985,
          -0.567220447163657,
          -1.48983281179499,
          -0.43677317153654954,
          -0.9923148417845803,
          -0.20902437743052293,
          -1.0654567706274019,
          0.7770097252992109,
          0.3340170171438275,
          0.5252445248516954,
          1.8155609678787483,
          0.5081082583965744,
          -1.7117626410225621,
          0.49594484497374636,
          1.741877202365307,
          1.4017740558582357,
          0.2819221874301155,
          0.13536712504467624,
          0.07841349962985548,
          0.6245229490939139,
          -0.35942637089814417,
          1.7406762762745647,
          1.7810790132391263,
          1.614011358962185,
          1.6826908295445562,
          1.2215784649122416,
          0.9220277790772233,
          1.7617395286963506,
          1.569076746725289,
          2.723356457630176,
          -0.47763708031993907,
          2.1233022870016125,
          -1.1063612328205015,
          0.10993501322158067,
          -1.6569223971159326,
          -0.7710263136821072,
          0.6354891072036856,
          -0.9350760961442319,
          -3.1540523613575226,
          -1.2137938729879831,
          -0.8438981481839052,
          -0.9125375098004511,
          0.2368117634646997,
          1.7845842030479488,
          1.9879280654500102,
          1.8873203415832398,
          1.3890820852305386,
          0.5250577760428051,
          -0.6949754865209039,
          -1.6187760969086644,
          -1.001906597455533,
          0.46327213127597994,
          -0.16280340377950545,
          0.9104905958323075,
          0.4298723392551121,
          -1.1802309291515325,
          -1.1011781151568318,
          -2.409564022889254,
          -1.1367904663450712,
          -0.48103855836934006,
          -1.2429177650114935,
          0.6135342320569042,
          0.06955499887095215,
          0.8825057082452478,
          5.661064469750126,
          -0.16173252619485473,
          0.5077876996618971,
          0.40145569484540855,
          0.6099267306357657,
          0.722197173291675,
          -1.1482497042279036,
          -0.30695042305714926,
          -0.7545499809956944,
          2.327751738173503,
          0.24686911448379756,
          2.4368300251600594,
          0.3434852089598274,
          0.589334215402155,
          1.0175082866881122,
          0.6428230485845216,
          0.08601275154033187,
          1.3216325337985848,
          1.7160008601508705,
          -0.5715956896217786,
          -0.838639442426916,
          -0.3763273731968021,
          -0.00432498710012538,
          0.8203433536037069,
          0.9161667510871508,
          -0.14941271670467624,
          0.6042109943935765,
          1.0137097562146575,
          0.13603763028618587,
          0.5283163487891243,
          -0.7549928952607784,
          0.16600454255353445,
          0.9505098176612297,
          -0.12126743768402086,
          -0.2766010244296388,
          0.2823440524192903,
          -0.6505340216336399,
          0.5842145967287755,
          0.5598043266791882,
          -0.4591874361420217,
          1.1835659275212282,
          0.7476109366159935,
          0.09042435986383567,
          -1.1641913972188547,
          0.5884791515413873,
          -0.9406279038400515,
          0.1852494298999769,
          0.19004799950629858,
          0.8947453894033418,
          1.5051506536341908,
          0.8918238940497792,
          2.913545690631479,
          0.19535040548850907,
          -2.1347042752673877,
          -1.0963441427170586,
          -1.0963441427170586,
          -0.1798493552588942,
          -0.8950542673028756,
          0.4247555799804478,
          0.5831053065264425,
          -1.0849805099308243,
          -2.8428263971497616,
          -0.9306059402806277,
          -1.2361284238426478,
          -0.9994364223214949,
          -0.8532624380946268,
          -1.2052063378789575,
          -3.0064137891182576,
          -0.7091852339985233,
          -1.087171668401283,
          -0.54110807610575,
          -2.0616820132566835,
          -1.8606143982219352,
          1.0730684436328806,
          -0.5750562636036316,
          -1.4422160971020856,
          0.1886789586010888,
          -1.3758920059641677,
          -0.5901899611195259,
          0.9140536000059529,
          -2.355220982919509,
          -1.1982458217628003,
          -1.435492445988596,
          -2.2823724017631104,
          -1.4495411317022098,
          -1.3961646106574341,
          -1.2322459853919856,
          -0.6873446047620454,
          -1.3331003309856064,
          -0.3457065151016658,
          -1.6510206389647293,
          -1.2550499258583392,
          -0.6079438902660627,
          -1.376175104825968,
          -1.5947288333897753,
          -2.756815146103761,
          -2.097517448153191,
          -1.7890453009986327,
          0.26938140551560735,
          0.6810389452681552,
          -1.4846548825159833,
          0.7411803149126421,
          1.9235878436744334,
          -3.1653627866074636,
          4.826559931350408,
          -0.08741851902060409,
          -2.0674106916733916,
          -2.9687344407540293,
          0.9064658020706715,
          0.7987656364710365,
          -0.5571382455449452,
          -0.2985993159826218,
          -1.143049858764687,
          0.4817104725042966,
          0.24316610774922656,
          -1.2805711408949845,
          -0.551803381385976,
          -1.1406132411762941,
          -0.6281451448687286,
          -1.8650987670142114,
          -0.07153712703737838,
          -1.5947560608544435,
          1.4829391941009897,
          -0.030417443991497834,
          1.9025446924993947,
          -0.6947868184198228,
          0.14542983433201456,
          -0.7902420934319373,
          -0.49582170715308516,
          0.4233905789931024,
          0.7902407593582311,
          -0.32635118487361425,
          1.1445857085486646,
          0.8799311581112472,
          -0.9439438340615433,
          -0.4296076407966247,
          0.667091240469466,
          2.293376654437113,
          -0.4854428229005871,
          -0.7261160220215037,
          0.6223149471238159,
          0.16143317928932369,
          0.7770097252992109,
          0.4494073239760204,
          0.2917261998932693,
          -2.855966032511479,
          -2.855966032511479,
          0.6559230533819502,
          1.4062937358818353,
          1.0147877716635718,
          -0.2578256762650213,
          2.1616477161589405,
          0.9725077360054146,
          0.5566877659983649,
          -0.12451622959309969,
          0.3868410938488659,
          -2.274267147404095,
          -0.5032745309280626,
          0.4632574382839311,
          0.2413110877421604,
          0.43473066937475785,
          -0.48608191553885005,
          1.3493684929291596,
          0.529116211316703,
          1.368883238313568,
          -0.744512082873628,
          -1.4873373485364934,
          -1.4723501299578932,
          -0.509495148357684,
          -0.662636027799376,
          -1.039748547422061,
          -0.5147913976645248,
          0.6622361023624534,
          -0.1298494266082223,
          2.5095452655964987,
          0.03438825382887626,
          1.6820118145061858,
          -0.22151898410253854,
          -0.4154576536923462,
          1.8643364588341298,
          -0.6931916182715602,
          3.389284322513322,
          1.6888125651475772,
          0.7724804102748112,
          -0.027114204062823954,
          -0.441581735886289,
          0.8066569243264364,
          1.3009605925765573,
          0.8036905200841311,
          1.4551854278010656,
          -0.9668417120819897,
          -1.6011254016144776,
          0.42396345440319316,
          0.9768693414114811,
          1.6643262992104437,
          0.6616282733623551,
          -0.07493749940943105,
          -0.05341915052324693,
          1.5817331684268605,
          0.2508037832268148,
          1.4150167553021764,
          0.9464624614115383,
          1.785420809158663,
          -1.8986513450642586,
          1.6602819900696804,
          -1.2797034194713288,
          -1.2278698439781432,
          1.5382079251100924,
          -0.9416686159264972,
          0.2595421804552345,
          1.0825135388044305,
          -0.4795650203233546,
          2.5234170447632374,
          0.579912808986948,
          0.8994140052267803,
          -1.1652508706177391,
          3.5410661345301513,
          -0.6151603064563328,
          1.2037797236775658,
          -0.19189490558533995,
          3.7740953500324252,
          1.4190247050954996,
          0.4605236227815424,
          0.19506465400558018,
          0.8894868952712853,
          3.492340918964332,
          0.5095306889194506,
          2.5580337274539593,
          2.941329603563371,
          2.958537628387943,
          0.6664854167602066,
          1.2751122185381918,
          1.0858549905634793,
          -1.0223874893828677,
          -0.48961223115223496,
          -0.8883453305418867,
          -1.0527146426813934,
          -1.5979672130884697,
          2.420543579808562,
          -0.01840980869446372,
          1.3150039075834294,
          0.05034428153885827,
          1.2175238766675398,
          1.451318897447083,
          -0.7764384500968167,
          1.4989831502198439,
          -2.1120286151716225,
          -0.8242950319505021,
          -0.7193176773642297,
          -0.5324102979469487,
          -0.7377570441587136,
          -1.7549264883420412,
          -1.1175832891565332,
          -0.8167610018597029,
          -1.4246076648562223,
          1.921009491852298,
          2.510789089861234,
          -1.0983810149208875,
          -0.3190782424130787,
          -0.701898227976244,
          1.1118432949722443,
          -0.43925124042932245,
          0.2240357822135645,
          0.6909457256744234,
          0.13117975779423163,
          0.1725002280878056,
          0.6909457256744234,
          0.8801445212944202,
          -0.17264943240538513,
          -0.9571843923901081,
          -0.341874427273664,
          1.235422319519921,
          -0.4772773599784334,
          0.6744175097128827,
          -0.4013353354818061,
          0.024502695165668165,
          1.0114888345052584,
          -0.8582289768525598,
          0.9394174796720562,
          0.418121381723274,
          -0.891467587146712,
          -1.5430309314244643,
          -1.0478864536138903,
          -0.5196969124319157,
          2.093378912735366,
          0.040953024526693624,
          0.9543876770247657,
          -1.2613527108263525,
          -1.3497698875032405,
          0.10155215220948981,
          1.1395224978776368,
          -0.622492682443778,
          -0.2996109399795992,
          -0.03876120335108633,
          -0.3328413481692132,
          2.1948710462685384,
          0.3926654752334086,
          -0.7082917138338336,
          0.29023198327406746,
          1.3922680305446002,
          0.6626605141152946,
          0.6693446790274961,
          3.8268321408784534,
          1.0358556804491108,
          1.8888243208696942,
          0.9430672461585767,
          1.259716397207654,
          -0.8635581785887425,
          -1.6236929721271742,
          -1.2939500198084313,
          -1.6971954084152043,
          1.9663728384182098,
          0.5163649992284995,
          0.5004206553924497,
          0.14092098116822466,
          -1.3864965358510821,
          -0.025169305094829193,
          -1.110287192223835,
          -0.7901974202446425,
          -0.8316780531167166,
          -0.6670526559898637,
          1.455436764683402,
          0.989071095179564,
          0.92877158994996,
          -0.5819582864843339,
          3.103331962225936,
          -1.2547084597372213,
          -0.5922012386467967,
          0.44359553061128787,
          -1.1720025427993501,
          0.13010784025672525,
          -0.8263097141400578,
          0.5077876996618971,
          0.939143923316605,
          -0.8361202369462654,
          -0.41710445916982064,
          0.742471652170484,
          0.6133935006749376,
          -0.645838351630234,
          -1.7510201157210286,
          -0.3198383314567158,
          -1.4596407954660346,
          0.3245641073323009,
          -0.4305756298043265,
          -1.12806576288974,
          -0.4656357674489744,
          1.2702245745656173,
          -0.21965273572098012,
          -0.6328920510936771,
          -0.6988975412607021,
          0.7686819591582693,
          -0.8578855206836916,
          -0.6751035437408778,
          -0.48605547778189556,
          -0.6387093576147187,
          -2.3003554276697566,
          -1.4089869637399504,
          0.5329524166170303,
          -0.5503229283988335,
          0.2649669251071384,
          0.16553005113670322,
          -1.729406726271484,
          -1.557734751784617,
          0.7672821803529792,
          1.200465886173409,
          1.4061401453545934,
          -2.3501932035980455,
          -0.08627299783939565,
          0.844655709257435,
          -0.6487851809748275,
          -1.71495946509268,
          0.0013927407355485756,
          -0.654732402955597,
          -0.6716498259605352,
          -0.23597623740894352,
          0.9064187971729897,
          0.8189954933017382,
          -3.965753596410922,
          -0.11703497197782638,
          -2.2567515427796594,
          -0.09410452304932394,
          0.3812586717201787,
          2.6976463366123973,
          0.513112053766926,
          0.995921371130458,
          -1.240268993045708,
          1.5628972442440001,
          -1.0607416100157312,
          -2.2567515427796594,
          -0.956787739997804,
          -1.7290648744164647,
          0.20449305184851452,
          -1.423900417611845,
          0.2450571907275322,
          -0.2503357512574881,
          -0.05687280290597444,
          -0.06143591839480741,
          0.7385669494015953,
          0.21719128364850018,
          0.7781800659952597,
          -0.65635136299891,
          0.6651735153459147,
          -0.8660248605849107,
          0.1002314240411947,
          0.4355569975397252,
          -0.20416279444805535,
          -0.23066117701024696,
          -0.8316304566337248,
          0.7676614983898064,
          -0.24079201735998432,
          -0.2615215886055989,
          -0.41122320695676107,
          -0.8988800994715379,
          0.33369412234070517,
          0.6860578631441884,
          -0.49512140506259217,
          -0.059560190095301,
          0.12075812107373507,
          0.4444178437987876,
          -0.661651406968049,
          -1.4117539522982117,
          0.2781575732523071,
          1.2439293597589156,
          -0.23523107582540825,
          -1.292276764691027,
          0.1324811428379781,
          -0.5926544520710934,
          3.116286769732264,
          0.23782341079723915,
          -0.6096458997580978,
          -0.6930003232440002,
          -1.132313622158647,
          2.1986968196259014,
          1.1580810480104033,
          1.2457790474239885,
          2.3900983846499204,
          0.24373481668966646,
          1.0924350472163002,
          0.29035429531492174,
          -0.2222112872504591,
          1.897568227356915,
          0.021286560459712348,
          1.3744385074292984,
          0.015710810497531317,
          1.9290845928997906,
          0.19741899494320195,
          2.316189655961482,
          0.8430468316977241,
          0.7314162765751043,
          -0.715480273159904,
          -2.20046492501433,
          0.7920409187021261,
          -0.5335446105803935,
          -0.6116306323663956,
          3.6031821127767234,
          1.0162723217827367,
          2.597830637319537,
          1.0108598689274577,
          1.0938512321728926,
          2.251323592944938,
          1.577004209806862,
          1.3467527027553337,
          4.185024132169867,
          2.0897495005941007,
          1.0383832443919563,
          2.350845883738032,
          1.2583716721302367,
          0.7401609265457788,
          2.1602288633856803,
          -1.7852850671989067,
          1.045639887400703,
          0.028154177287874824,
          -0.9361637998069956,
          -0.5220718237448778,
          3.5139698314658774,
          1.1131804574029116,
          2.537556457175947,
          -0.2901700140672184,
          -0.5300761897294405,
          -0.25693064754724926,
          -0.31426621774134517,
          2.556676519754193,
          -0.03293520236964108,
          -0.19885795871475226,
          2.4016454281870816,
          1.0351778267918152,
          0.6444849876155517,
          0.028306074933144656,
          -2.1162902439844715,
          0.0023635999375399355,
          0.11962982789439562,
          -2.347549242540534,
          -0.9201381858244992,
          -0.9743563680480027,
          0.6855028852755767,
          1.137090114462427,
          0.5578793427893984,
          0.2654487617243336,
          1.4026574288018114,
          -1.1982458217628003,
          -0.45983998099859447,
          0.004144946964962669,
          -0.123859268377832,
          0.907499327032219,
          2.96611763483043,
          0.23373058553335177,
          -1.0639389150223313,
          -0.4622098125985692,
          -0.29805267115109313,
          -0.5943153326486943,
          -1.6613392304245767,
          -0.3679066722953552,
          -1.0497134604561367,
          -1.3494016832394526,
          0.7991499058784406,
          -1.6325913148629319,
          1.670744501148142,
          -0.9660544362186645,
          -0.6556564907066504,
          -2.0606593454143676,
          -0.9655688502559322,
          -0.6386814446471747,
          0.3922359770881066,
          -0.8850916940287169,
          -0.3744382985187907,
          -0.8776851115060573,
          1.0174448376284786,
          -1.5475653090429053,
          -0.3476754195333712,
          0.747693536214771,
          -1.715814947348313,
          -0.10726619418296253,
          1.1371005994234737,
          1.125271489256974,
          -3.3937229407621774,
          2.008001960014267,
          0.34064027018072385,
          -1.9378358956816608,
          -1.6406240108949226,
          0.36113796281649474,
          -0.11848794556724275,
          -1.3859775972109292,
          -0.8010825313436066,
          -0.6575570841874522,
          -0.8394366975160792,
          -0.5271531372802954,
          -0.6114212774880561,
          1.5845151521137224,
          -0.46437605375359237,
          -1.3018832532958367,
          -1.151666825670535,
          -0.8751633821228625,
          -0.8847666158004637,
          -1.169323386379569,
          1.7741759054637452,
          -0.08797624049417578,
          0.003121604499785424,
          -0.2194826927177566,
          -1.4655689988816663,
          -1.5463730166337215,
          0.4032761766150078,
          0.7755578306120958,
          -0.7059657906162854,
          0.5503898665299508,
          -1.1182317836598272,
          0.5624036751698466,
          -1.454991112591584,
          -0.6621999979037586,
          -0.4681495641372784,
          -0.48704101382319875,
          0.3301093954190285,
          1.04082592987667,
          1.473873043060293,
          0.5156531889061458,
          -0.015715671755880102,
          0.6860578631441884,
          1.2872874286237417,
          -1.7328518095993384,
          0.6959769757292268,
          -0.007669339267966973,
          -0.026276856447328287,
          -2.3639641186732696,
          1.1631494108116505,
          -1.9638694381659367,
          0.5622885515036905,
          -1.1870319739345838,
          -1.2154061426403056,
          -1.456650589812616,
          -2.2659149056848715,
          0.17948450776703617,
          0.09855330331148768,
          0.742471652170484,
          -0.08219381352159467,
          -0.8236358611214692,
          -0.48352969560008785,
          -0.16310794825620098,
          -1.3903335627467295,
          -0.2523900390177825,
          0.4873161663950989,
          -0.47860482608152966,
          -0.3195944017333589,
          -0.4228383605114771,
          0.46157248994392014,
          1.3345949133414943,
          2.1353388542792655,
          -1.2603689420633661,
          0.6396464239450949,
          0.7174376136046091,
          2.345272967063729,
          1.3733289406188682,
          -0.5966630580451386,
          -0.8228496570941339,
          -2.4169422454436,
          0.9336350514741273,
          0.9336350514741273,
          0.23664873280865037,
          1.2386911146487678,
          -0.5418841654097425,
          0.8575279188846324,
          -0.7605992017394505,
          -0.2304010678168747,
          0.54113679553309,
          1.3618413519709787,
          2.4571862199258585,
          -1.4898216303774765,
          -1.068923568950283,
          -2.0465134097188775,
          -0.954782376143622,
          0.8758128302585256,
          -0.5020453808359164,
          -0.8450034896699783,
          -1.1505866051408802,
          -1.016271917275201,
          -0.6633142881216181,
          -1.6697928510711897,
          -1.3533738902887775,
          -0.9919352561058691,
          -1.0803934023175565,
          -0.6401416299877897,
          -1.3024094498395509,
          -1.5274633223822718,
          -1.881636991596233,
          -0.6241541934765812,
          -1.108751387261616,
          -1.0937437785451825,
          -0.576965556910769,
          1.3501165937602129,
          -0.6835707776462007,
          -0.2133349589123076,
          -1.7208881667392955,
          0.6069933473401395,
          -0.9485578909088214,
          0.34063800496898006,
          -0.6728024875104726,
          0.009588568549990389,
          -0.33186820729641947,
          1.2099337331859226,
          -0.043516538890151925,
          0.4724973084177489,
          0.16670061782509996,
          -0.45983998099859447,
          0.837967850277037,
          -1.866808391639632,
          0.3913490107035049,
          0.030032344428860953,
          0.3334601091239055,
          -0.41099462855907803,
          -0.7476281108276719,
          -0.5327999702766614,
          1.4165753877023457,
          -0.9778755269931473,
          0.5343302360287069,
          -1.102307666103707,
          -0.8610990263499382,
          -0.7747711983975613,
          -0.1436390775853736,
          -0.914658664812737,
          -0.9765413938527067,
          -1.766366139386005,
          -1.1307289608189772,
          -0.7087335536763932,
          -0.5947383472184768,
          0.07306755370479465,
          -1.5158796949645632,
          0.6613108686606776,
          1.1286274880828167,
          -2.058197767187701,
          1.0677052103269236,
          -0.3012459235234414,
          0.4257801498878065,
          -0.40263933571266264,
          0.2989675907068799,
          1.6285636697961767,
          -0.6663501829263655,
          1.8664334683739903,
          2.420357930284378,
          -1.1092347492996677,
          0.3200841475174375,
          0.03169189012698091,
          1.1160776457145443,
          -0.4394565205823325,
          2.089830979623213,
          -0.7570751399473806,
          -0.7746598120563283,
          -0.38653891891373254,
          0.2570733598340715,
          0.0632989012921862,
          0.3373619817345935,
          0.22643180698531157,
          -1.354610726080655,
          0.8002025039600895,
          -0.8889081107644083,
          -0.7286812887095772,
          1.3078694865346472,
          -0.6114302591907718,
          0.5466667600703204,
          1.8234840719083265,
          2.2518211503014958,
          1.5327451810884476,
          1.6920378828976919,
          0.702292143188859,
          1.9109285289174833,
          0.28044846146532276,
          -1.049841788790346,
          3.6031821127767234,
          -0.5242582112536122,
          0.7861182653546219,
          2.040327191221802,
          0.16893016132376476,
          -0.08526345403740575,
          -0.011024140739627902,
          -0.791675538642382,
          -1.2147270836405066,
          0.772446341323345,
          -0.3037457413035936,
          -2.333542719980753,
          -0.3562168495073637,
          0.12430303586946602,
          -1.170621089986695,
          -2.3606274464677344,
          -1.6367819175495597,
          -0.5023576395671432,
          -2.7309258321583534,
          -1.2423446127955196,
          -0.838647032770633,
          -1.0079198521398576,
          -0.2276189352739314,
          -0.4216055322863329,
          -0.9631389674046087,
          2.489831978249956,
          0.7343740197596853,
          2.1153640634076107,
          0.13724873880508373,
          1.012521315289639,
          -0.3700529157494552,
          -1.7815300896312853,
          -1.1887304827614913,
          -0.24042744331689736,
          -0.6167239342012004,
          -0.9734476761826593,
          -0.568890647744472,
          -0.4861672206217931,
          1.0076600514519958,
          -0.30150576336683305,
          0.1289729471511782,
          2.5309300185056167,
          0.9337858603263686,
          0.8418091510500214,
          -0.9333434321358225,
          -0.19397496311706555,
          -0.5671126380023042,
          1.510656149272492,
          0.180748556675076,
          -1.0463627822229704,
          -0.7333067303892989,
          -1.0246191375816252,
          0.8689648267049033,
          2.4131387627924683,
          -1.0475814842246272,
          0.9736919192976639,
          1.721239293474559,
          -1.342900371291421,
          -0.5792383396463369,
          1.347415742963579,
          1.2378265189856161,
          -0.627734490543867,
          -0.46693744531297376,
          -0.619543801452284,
          1.4249282490014084,
          0.9643381077505954,
          0.1116572745926793,
          0.9643381077505954,
          -0.12094841593244895,
          -0.434515497739718,
          -0.8717228134320277,
          0.15079746470859692,
          0.2779790895369213,
          1.1894891272965922,
          0.13692337593368212,
          2.2951298743783073,
          -1.2426905814373952,
          -0.3485694162350426,
          0.3027643122628109,
          -0.9565041870588185,
          -0.03455778115238483,
          -0.23528215500303157,
          -0.2877116065230744,
          0.3349014483820891,
          -0.5519801147930521,
          -1.6671675160620292,
          0.34836557143281394,
          -0.6829322826912612,
          0.1027995161211993,
          -1.9959511402427037,
          0.2685118467719529,
          1.994616924866821,
          1.8483060822592707,
          1.0554925588676212,
          0.21879040449048176,
          -0.13570197581660995,
          0.9851968861900029,
          1.068051974712581,
          -0.9423944222871228,
          -1.3267365895545902,
          0.23792831775974202,
          1.090673035438093,
          0.8260360840052876,
          -0.11461723951061534,
          1.8404077114195654,
          1.082354091994066,
          -0.8687738626484452,
          -0.5914828614287014,
          -0.8089063660175034,
          0.6170449549147402,
          -0.0358007229381856,
          1.5913428281037112,
          1.3560670015995686,
          -1.6287481707392568,
          -1.2933490428322172,
          -0.6763485851962373,
          1.1830106693009683,
          0.6030493268732684,
          0.3823904837157771,
          3.024148516645296,
          1.4320445004928835,
          0.3422829734150214,
          -1.418700071591046,
          1.6814999864821374,
          2.7994210517958233,
          -0.04549238763922286,
          0.4657414169487381,
          1.4198239456029422,
          0.5888953615807222,
          1.0444386933204297,
          0.5964434905314993,
          0.08844995393029616,
          -0.04549238763922286,
          0.8977977758332211,
          -0.16885058170457973,
          0.5983088128366477,
          0.6667441748139565,
          0.11485247399155961,
          -2.57692520530168,
          0.2390964075580568,
          2.2487561906623945,
          2.5387340249432406,
          -0.056325911547831585,
          0.5964434905314993,
          1.978302081168273,
          1.3560670015995686,
          2.916068975918377,
          -0.6225797561996639,
          0.25594206718460344,
          -0.29072442076003463,
          0.37573869502044316,
          1.5556309456722202,
          0.4506309276092255,
          0.7757854374142317,
          0.07431941987263427,
          -1.3080925230982408,
          -1.3524345982935684,
          0.2936091768199961,
          3.3099155081569447,
          -0.5551636406866737,
          0.5675987166081079,
          2.6461398776378866,
          0.03399799833089955,
          0.6786040056615533,
          0.14923360423841453,
          -0.4559136008402401,
          2.946557942362356,
          1.948601535631254,
          0.6937156146030233,
          -0.6479161411275293,
          -0.16832643560406613,
          0.9206331889506506,
          -0.4507613510772817,
          -1.6238548107932467,
          -1.7149594650926803,
          0.8246937348674239,
          -0.6046810983191573,
          0.995145598750205,
          -0.4943961431689743,
          -0.19789301436615064,
          -0.17763361203952652,
          -0.0811359416283311,
          -3.5919281845082534,
          0.015192898637177496,
          0.41832376286280387,
          -1.3430396251065244,
          -1.1533387805480775,
          -1.5144988077562582,
          -1.590958155769705,
          -2.3456999619452175,
          0.5187929455099798,
          -2.006887843116538,
          -1.561074478588749,
          0.4027243215517714,
          0.388571741171383,
          2.4711907619370557,
          -0.2141403583291818,
          3.002042958139078,
          2.4311389903409197,
          2.8822811672315205,
          0.9642980521378557,
          0.007995287376184091,
          -1.444857564438203,
          -0.2155865258574738,
          -1.0494337432873804,
          -0.16881431329935295,
          -0.7392065333258862,
          2.1790993577352338,
          -1.0820263567320556,
          -0.5618613817516003,
          0.05919103367562594,
          -1.0420534653157894,
          0.12324047273321483,
          -0.06624184533439188,
          -1.5632894769170873,
          -0.2045551733815281,
          -0.28256903175167275,
          -1.7373472894249382,
          -1.046587089328851,
          0.5718932501658442,
          0.03184445897223634,
          -0.012659131268621848,
          1.0406554362647769,
          2.0807189773265056,
          -2.2215790057935028,
          -1.294230622808835,
          -0.9232671973085133,
          1.6648500226504825,
          -2.251716443317535,
          2.2279199793837754,
          -1.4934305722339831,
          0.06759763053874009,
          -0.4220085249074859,
          -1.6224994565962736,
          -0.8568498421627405,
          -1.7156119083516956,
          -0.40181400052584804,
          -1.9183111465675218,
          -1.0284176661154827,
          0.5662509076481976,
          -1.9360921290485056,
          -1.3661970267771602,
          -0.479053266747719,
          1.5323961175618475,
          0.6372584903149825,
          1.373379897638389,
          -0.5126351469976395,
          -0.4706577641761545,
          0.0005851604650577228,
          0.8136001906911952,
          0.38997026358276976,
          -0.39546104811196764,
          -1.5825523645928818,
          -0.9178690058179519,
          -0.3820309089909231,
          0.1570831701082993,
          -0.980660431436619,
          1.2573912397734022,
          0.5631582113333885,
          1.111455666842316,
          0.1930943075400806,
          -3.057357636723078,
          -2.796405090095434,
          0.44419319813298896,
          -0.5425621727635156,
          -0.8201583062849636,
          0.3751431940363824,
          -1.0223780840942374,
          -0.6070712876472271,
          -0.9624492068779519,
          -2.0237471356014676,
          -0.08741851902060409,
          -0.2046286417953862,
          -0.08910926007142017,
          -2.059162839252311,
          -1.1745357862551755,
          -0.6346088648189896,
          -0.5491745735455966,
          0.5095716897531235,
          0.8065406104992414,
          0.7411803149126421,
          -0.8558821629061247,
          -0.3657681542279326,
          -0.530999485582414,
          -0.5213994519208938,
          -0.8095689157079909,
          1.1265825463110424,
          -0.20982947444075328,
          -1.1323946066926913,
          0.22119401719295406,
          -1.195049362796453,
          1.4025390812695382,
          -0.5757347764161681,
          -0.7264869106374361,
          -0.7415878471844196,
          0.06951336384573406,
          -0.20446565868520797,
          -0.018790314063135836,
          0.0313928907117885,
          0.3506700562360749,
          -1.1128956328696047,
          1.8195868927959111,
          1.8713013951568782,
          1.9181525956534926,
          -1.7186688480437644,
          0.8757893106119159,
          0.1756302705370119,
          -0.6929183840508931,
          -0.28726002097626346,
          0.20809406613317322,
          1.7764954026041297,
          -0.40857318509327845,
          0.029405535122963553,
          0.3028902959496664,
          0.9923583707665748,
          0.433779954836859,
          -1.3564329550862624,
          0.5863758368736318,
          2.9239327364249323,
          1.0230580147774828,
          0.8397768146241372,
          2.571609178955058,
          -0.39274683629951307,
          0.31036458933882505,
          1.2122221199360625,
          -0.9105271986614413,
          -0.42313549349463125,
          -1.5022933704705292,
          -0.39581140385400665,
          0.11057980583580643,
          -1.1364627595215109,
          0.989071095179564,
          1.6893322614019681,
          0.9299479085907839,
          -0.45259687761377676,
          -0.7448746955627199,
          1.857421981839316,
          0.3162113284328088,
          -3.5919281845082534,
          -2.7715699519860677,
          -1.0936649608603808,
          -0.8987367758535356,
          -0.7144851932041119,
          0.08471793830475326,
          3.402325258536719,
          0.5915376393811417,
          0.19594602619168502,
          0.03596508498121859,
          -0.7572787491134748,
          0.4800421604906768,
          0.5277834265150179,
          -0.07029951988053332,
          -2.6459203144839694,
          -1.3983743516341571,
          -1.7875077633778893,
          0.8485646204971733,
          1.2059329792106637,
          -1.7241610708089117,
          -0.4721562361789337,
          -0.8206980878304452,
          -0.908384264090437,
          -0.745484781332902,
          -0.7426614340923883,
          -0.5761116798393042,
          1.2630604906993108,
          -0.9648409921390868,
          0.19368622313439826,
          0.9996039142658503,
          1.1575246422378045,
          -1.0936649608603808,
          -1.0936649608603808,
          3.024148516645296,
          1.5817331684268598,
          1.6452582761714472,
          -2.4045788380748365,
          -2.4574249906447103,
          -0.5475715725911335,
          -1.3098373709567726,
          -2.0126521925813594,
          -2.4620510303808594,
          0.48391822240133264,
          -1.4091483830778595,
          -1.5557878439244361,
          -1.7104659017896544,
          -0.1493937757696483,
          -2.002703398075282,
          -2.2204584178167055,
          -0.911956442772373,
          -2.220903123314177,
          -1.7536558307851093,
          -1.3764437205042672,
          -2.539680899330993,
          -1.9288195091233966,
          0.45865280287595933,
          -0.7370750659682036,
          -1.4238717798777525,
          0.31313785015723233,
          0.03164626132905692,
          -0.9437787672942025,
          0.4220331476734176,
          -0.19189119093840604,
          -0.5211679048184927,
          1.8836076923570362,
          1.2546259176505106,
          -1.7980071100359738,
          1.6046581333958079,
          0.5308244007763765,
          -1.4677050692393336,
          -0.07553356999426501,
          -0.937130006178033,
          0.9744129361419291,
          1.0808327860734233,
          -1.3498838940521094,
          -2.6382976097380917,
          1.1075741810946933,
          -1.1968544636420635,
          -0.04985157001773301,
          -1.3368586236919504,
          3.3802062358742,
          -0.9362765548657965,
          -0.8512302225203641,
          0.8312994793303593,
          1.147415931777522,
          0.869281462039729,
          -0.06373150398819372,
          -0.452425911890581,
          -1.0487895677819912,
          -0.9786629053950839,
          -1.1203219593181108,
          -0.6009018213810925,
          0.4186241486931166,
          -0.30537603096408095,
          0.18024535423151367,
          -0.08741851902060409,
          -2.144691504600466,
          0.8614420346143488,
          0.13071407897492576,
          -0.22775045896728308,
          1.1093919174553273,
          0.5061696894655048,
          2.5114509290464655,
          -0.35625838503850027,
          0.2639556727669227,
          0.2716152626191433,
          -0.33962311293372693,
          0.8138121170061816,
          1.6452114399898898,
          1.2386818562700979,
          0.8050649466533376,
          0.5777097466141731,
          -0.7454513238920538,
          0.7691464789300277,
          -0.2300995333427981,
          -1.1625225503153802,
          1.0967477999866908,
          -0.7762878624655946,
          -0.5844671710446079,
          -0.6061979063641816,
          -1.4869471807666146,
          1.7503448743454793,
          -0.6151603064563328,
          -1.6531344263407681,
          0.7427151707507379,
          -0.7054157806980493,
          -0.03251912330296168,
          -2.341444922488864,
          1.840847976937172,
          0.41506437622651926,
          -0.5229064046857351,
          -0.017125860721714427,
          -1.30498284624565,
          -1.0897255704646884,
          -3.695232752777759,
          -1.390708546476348
         ],
         "yaxis": "y"
        }
       ],
       "layout": {
        "autosize": false,
        "coloraxis": {
         "colorbar": {
          "title": {
           "text": "cluster"
          }
         },
         "colorscale": [
          [
           0,
           "#0d0887"
          ],
          [
           0.1111111111111111,
           "#46039f"
          ],
          [
           0.2222222222222222,
           "#7201a8"
          ],
          [
           0.3333333333333333,
           "#9c179e"
          ],
          [
           0.4444444444444444,
           "#bd3786"
          ],
          [
           0.5555555555555556,
           "#d8576b"
          ],
          [
           0.6666666666666666,
           "#ed7953"
          ],
          [
           0.7777777777777778,
           "#fb9f3a"
          ],
          [
           0.8888888888888888,
           "#fdca26"
          ],
          [
           1,
           "#f0f921"
          ]
         ]
        },
        "height": 600,
        "legend": {
         "tracegroupgap": 0
        },
        "margin": {
         "t": 60
        },
        "template": {
         "data": {
          "bar": [
           {
            "error_x": {
             "color": "#2a3f5f"
            },
            "error_y": {
             "color": "#2a3f5f"
            },
            "marker": {
             "line": {
              "color": "#E5ECF6",
              "width": 0.5
             },
             "pattern": {
              "fillmode": "overlay",
              "size": 10,
              "solidity": 0.2
             }
            },
            "type": "bar"
           }
          ],
          "barpolar": [
           {
            "marker": {
             "line": {
              "color": "#E5ECF6",
              "width": 0.5
             },
             "pattern": {
              "fillmode": "overlay",
              "size": 10,
              "solidity": 0.2
             }
            },
            "type": "barpolar"
           }
          ],
          "carpet": [
           {
            "aaxis": {
             "endlinecolor": "#2a3f5f",
             "gridcolor": "white",
             "linecolor": "white",
             "minorgridcolor": "white",
             "startlinecolor": "#2a3f5f"
            },
            "baxis": {
             "endlinecolor": "#2a3f5f",
             "gridcolor": "white",
             "linecolor": "white",
             "minorgridcolor": "white",
             "startlinecolor": "#2a3f5f"
            },
            "type": "carpet"
           }
          ],
          "choropleth": [
           {
            "colorbar": {
             "outlinewidth": 0,
             "ticks": ""
            },
            "type": "choropleth"
           }
          ],
          "contour": [
           {
            "colorbar": {
             "outlinewidth": 0,
             "ticks": ""
            },
            "colorscale": [
             [
              0,
              "#0d0887"
             ],
             [
              0.1111111111111111,
              "#46039f"
             ],
             [
              0.2222222222222222,
              "#7201a8"
             ],
             [
              0.3333333333333333,
              "#9c179e"
             ],
             [
              0.4444444444444444,
              "#bd3786"
             ],
             [
              0.5555555555555556,
              "#d8576b"
             ],
             [
              0.6666666666666666,
              "#ed7953"
             ],
             [
              0.7777777777777778,
              "#fb9f3a"
             ],
             [
              0.8888888888888888,
              "#fdca26"
             ],
             [
              1,
              "#f0f921"
             ]
            ],
            "type": "contour"
           }
          ],
          "contourcarpet": [
           {
            "colorbar": {
             "outlinewidth": 0,
             "ticks": ""
            },
            "type": "contourcarpet"
           }
          ],
          "heatmap": [
           {
            "colorbar": {
             "outlinewidth": 0,
             "ticks": ""
            },
            "colorscale": [
             [
              0,
              "#0d0887"
             ],
             [
              0.1111111111111111,
              "#46039f"
             ],
             [
              0.2222222222222222,
              "#7201a8"
             ],
             [
              0.3333333333333333,
              "#9c179e"
             ],
             [
              0.4444444444444444,
              "#bd3786"
             ],
             [
              0.5555555555555556,
              "#d8576b"
             ],
             [
              0.6666666666666666,
              "#ed7953"
             ],
             [
              0.7777777777777778,
              "#fb9f3a"
             ],
             [
              0.8888888888888888,
              "#fdca26"
             ],
             [
              1,
              "#f0f921"
             ]
            ],
            "type": "heatmap"
           }
          ],
          "heatmapgl": [
           {
            "colorbar": {
             "outlinewidth": 0,
             "ticks": ""
            },
            "colorscale": [
             [
              0,
              "#0d0887"
             ],
             [
              0.1111111111111111,
              "#46039f"
             ],
             [
              0.2222222222222222,
              "#7201a8"
             ],
             [
              0.3333333333333333,
              "#9c179e"
             ],
             [
              0.4444444444444444,
              "#bd3786"
             ],
             [
              0.5555555555555556,
              "#d8576b"
             ],
             [
              0.6666666666666666,
              "#ed7953"
             ],
             [
              0.7777777777777778,
              "#fb9f3a"
             ],
             [
              0.8888888888888888,
              "#fdca26"
             ],
             [
              1,
              "#f0f921"
             ]
            ],
            "type": "heatmapgl"
           }
          ],
          "histogram": [
           {
            "marker": {
             "pattern": {
              "fillmode": "overlay",
              "size": 10,
              "solidity": 0.2
             }
            },
            "type": "histogram"
           }
          ],
          "histogram2d": [
           {
            "colorbar": {
             "outlinewidth": 0,
             "ticks": ""
            },
            "colorscale": [
             [
              0,
              "#0d0887"
             ],
             [
              0.1111111111111111,
              "#46039f"
             ],
             [
              0.2222222222222222,
              "#7201a8"
             ],
             [
              0.3333333333333333,
              "#9c179e"
             ],
             [
              0.4444444444444444,
              "#bd3786"
             ],
             [
              0.5555555555555556,
              "#d8576b"
             ],
             [
              0.6666666666666666,
              "#ed7953"
             ],
             [
              0.7777777777777778,
              "#fb9f3a"
             ],
             [
              0.8888888888888888,
              "#fdca26"
             ],
             [
              1,
              "#f0f921"
             ]
            ],
            "type": "histogram2d"
           }
          ],
          "histogram2dcontour": [
           {
            "colorbar": {
             "outlinewidth": 0,
             "ticks": ""
            },
            "colorscale": [
             [
              0,
              "#0d0887"
             ],
             [
              0.1111111111111111,
              "#46039f"
             ],
             [
              0.2222222222222222,
              "#7201a8"
             ],
             [
              0.3333333333333333,
              "#9c179e"
             ],
             [
              0.4444444444444444,
              "#bd3786"
             ],
             [
              0.5555555555555556,
              "#d8576b"
             ],
             [
              0.6666666666666666,
              "#ed7953"
             ],
             [
              0.7777777777777778,
              "#fb9f3a"
             ],
             [
              0.8888888888888888,
              "#fdca26"
             ],
             [
              1,
              "#f0f921"
             ]
            ],
            "type": "histogram2dcontour"
           }
          ],
          "mesh3d": [
           {
            "colorbar": {
             "outlinewidth": 0,
             "ticks": ""
            },
            "type": "mesh3d"
           }
          ],
          "parcoords": [
           {
            "line": {
             "colorbar": {
              "outlinewidth": 0,
              "ticks": ""
             }
            },
            "type": "parcoords"
           }
          ],
          "pie": [
           {
            "automargin": true,
            "type": "pie"
           }
          ],
          "scatter": [
           {
            "fillpattern": {
             "fillmode": "overlay",
             "size": 10,
             "solidity": 0.2
            },
            "type": "scatter"
           }
          ],
          "scatter3d": [
           {
            "line": {
             "colorbar": {
              "outlinewidth": 0,
              "ticks": ""
             }
            },
            "marker": {
             "colorbar": {
              "outlinewidth": 0,
              "ticks": ""
             }
            },
            "type": "scatter3d"
           }
          ],
          "scattercarpet": [
           {
            "marker": {
             "colorbar": {
              "outlinewidth": 0,
              "ticks": ""
             }
            },
            "type": "scattercarpet"
           }
          ],
          "scattergeo": [
           {
            "marker": {
             "colorbar": {
              "outlinewidth": 0,
              "ticks": ""
             }
            },
            "type": "scattergeo"
           }
          ],
          "scattergl": [
           {
            "marker": {
             "colorbar": {
              "outlinewidth": 0,
              "ticks": ""
             }
            },
            "type": "scattergl"
           }
          ],
          "scattermapbox": [
           {
            "marker": {
             "colorbar": {
              "outlinewidth": 0,
              "ticks": ""
             }
            },
            "type": "scattermapbox"
           }
          ],
          "scatterpolar": [
           {
            "marker": {
             "colorbar": {
              "outlinewidth": 0,
              "ticks": ""
             }
            },
            "type": "scatterpolar"
           }
          ],
          "scatterpolargl": [
           {
            "marker": {
             "colorbar": {
              "outlinewidth": 0,
              "ticks": ""
             }
            },
            "type": "scatterpolargl"
           }
          ],
          "scatterternary": [
           {
            "marker": {
             "colorbar": {
              "outlinewidth": 0,
              "ticks": ""
             }
            },
            "type": "scatterternary"
           }
          ],
          "surface": [
           {
            "colorbar": {
             "outlinewidth": 0,
             "ticks": ""
            },
            "colorscale": [
             [
              0,
              "#0d0887"
             ],
             [
              0.1111111111111111,
              "#46039f"
             ],
             [
              0.2222222222222222,
              "#7201a8"
             ],
             [
              0.3333333333333333,
              "#9c179e"
             ],
             [
              0.4444444444444444,
              "#bd3786"
             ],
             [
              0.5555555555555556,
              "#d8576b"
             ],
             [
              0.6666666666666666,
              "#ed7953"
             ],
             [
              0.7777777777777778,
              "#fb9f3a"
             ],
             [
              0.8888888888888888,
              "#fdca26"
             ],
             [
              1,
              "#f0f921"
             ]
            ],
            "type": "surface"
           }
          ],
          "table": [
           {
            "cells": {
             "fill": {
              "color": "#EBF0F8"
             },
             "line": {
              "color": "white"
             }
            },
            "header": {
             "fill": {
              "color": "#C8D4E3"
             },
             "line": {
              "color": "white"
             }
            },
            "type": "table"
           }
          ]
         },
         "layout": {
          "annotationdefaults": {
           "arrowcolor": "#2a3f5f",
           "arrowhead": 0,
           "arrowwidth": 1
          },
          "autotypenumbers": "strict",
          "coloraxis": {
           "colorbar": {
            "outlinewidth": 0,
            "ticks": ""
           }
          },
          "colorscale": {
           "diverging": [
            [
             0,
             "#8e0152"
            ],
            [
             0.1,
             "#c51b7d"
            ],
            [
             0.2,
             "#de77ae"
            ],
            [
             0.3,
             "#f1b6da"
            ],
            [
             0.4,
             "#fde0ef"
            ],
            [
             0.5,
             "#f7f7f7"
            ],
            [
             0.6,
             "#e6f5d0"
            ],
            [
             0.7,
             "#b8e186"
            ],
            [
             0.8,
             "#7fbc41"
            ],
            [
             0.9,
             "#4d9221"
            ],
            [
             1,
             "#276419"
            ]
           ],
           "sequential": [
            [
             0,
             "#0d0887"
            ],
            [
             0.1111111111111111,
             "#46039f"
            ],
            [
             0.2222222222222222,
             "#7201a8"
            ],
            [
             0.3333333333333333,
             "#9c179e"
            ],
            [
             0.4444444444444444,
             "#bd3786"
            ],
            [
             0.5555555555555556,
             "#d8576b"
            ],
            [
             0.6666666666666666,
             "#ed7953"
            ],
            [
             0.7777777777777778,
             "#fb9f3a"
            ],
            [
             0.8888888888888888,
             "#fdca26"
            ],
            [
             1,
             "#f0f921"
            ]
           ],
           "sequentialminus": [
            [
             0,
             "#0d0887"
            ],
            [
             0.1111111111111111,
             "#46039f"
            ],
            [
             0.2222222222222222,
             "#7201a8"
            ],
            [
             0.3333333333333333,
             "#9c179e"
            ],
            [
             0.4444444444444444,
             "#bd3786"
            ],
            [
             0.5555555555555556,
             "#d8576b"
            ],
            [
             0.6666666666666666,
             "#ed7953"
            ],
            [
             0.7777777777777778,
             "#fb9f3a"
            ],
            [
             0.8888888888888888,
             "#fdca26"
            ],
            [
             1,
             "#f0f921"
            ]
           ]
          },
          "colorway": [
           "#636efa",
           "#EF553B",
           "#00cc96",
           "#ab63fa",
           "#FFA15A",
           "#19d3f3",
           "#FF6692",
           "#B6E880",
           "#FF97FF",
           "#FECB52"
          ],
          "font": {
           "color": "#2a3f5f"
          },
          "geo": {
           "bgcolor": "white",
           "lakecolor": "white",
           "landcolor": "#E5ECF6",
           "showlakes": true,
           "showland": true,
           "subunitcolor": "white"
          },
          "hoverlabel": {
           "align": "left"
          },
          "hovermode": "closest",
          "mapbox": {
           "style": "light"
          },
          "paper_bgcolor": "white",
          "plot_bgcolor": "#E5ECF6",
          "polar": {
           "angularaxis": {
            "gridcolor": "white",
            "linecolor": "white",
            "ticks": ""
           },
           "bgcolor": "#E5ECF6",
           "radialaxis": {
            "gridcolor": "white",
            "linecolor": "white",
            "ticks": ""
           }
          },
          "scene": {
           "xaxis": {
            "backgroundcolor": "#E5ECF6",
            "gridcolor": "white",
            "gridwidth": 2,
            "linecolor": "white",
            "showbackground": true,
            "ticks": "",
            "zerolinecolor": "white"
           },
           "yaxis": {
            "backgroundcolor": "#E5ECF6",
            "gridcolor": "white",
            "gridwidth": 2,
            "linecolor": "white",
            "showbackground": true,
            "ticks": "",
            "zerolinecolor": "white"
           },
           "zaxis": {
            "backgroundcolor": "#E5ECF6",
            "gridcolor": "white",
            "gridwidth": 2,
            "linecolor": "white",
            "showbackground": true,
            "ticks": "",
            "zerolinecolor": "white"
           }
          },
          "shapedefaults": {
           "line": {
            "color": "#2a3f5f"
           }
          },
          "ternary": {
           "aaxis": {
            "gridcolor": "white",
            "linecolor": "white",
            "ticks": ""
           },
           "baxis": {
            "gridcolor": "white",
            "linecolor": "white",
            "ticks": ""
           },
           "bgcolor": "#E5ECF6",
           "caxis": {
            "gridcolor": "white",
            "linecolor": "white",
            "ticks": ""
           }
          },
          "title": {
           "x": 0.05
          },
          "xaxis": {
           "automargin": true,
           "gridcolor": "white",
           "linecolor": "white",
           "ticks": "",
           "title": {
            "standoff": 15
           },
           "zerolinecolor": "white",
           "zerolinewidth": 2
          },
          "yaxis": {
           "automargin": true,
           "gridcolor": "white",
           "linecolor": "white",
           "ticks": "",
           "title": {
            "standoff": 15
           },
           "zerolinecolor": "white",
           "zerolinewidth": 2
          }
         }
        },
        "width": 800,
        "xaxis": {
         "anchor": "y",
         "domain": [
          0,
          1
         ],
         "title": {
          "text": "x"
         }
        },
        "yaxis": {
         "anchor": "x",
         "domain": [
          0,
          1
         ],
         "title": {
          "text": "y"
         }
        }
       }
      }
     },
     "metadata": {},
     "output_type": "display_data"
    }
   ],
   "source": [
    "fig = px.scatter(projecao, x='x', y='y', color='cluster', hover_data=['x', 'y', 'generos'])\n",
    "fig.update_layout( autosize=False, width=800, height=600,)\n",
    "fig.show()"
   ]
  },
  {
   "cell_type": "markdown",
   "metadata": {},
   "source": [
    "Explicabilidade das features pelo PCA."
   ]
  },
  {
   "cell_type": "code",
   "execution_count": 107,
   "metadata": {},
   "outputs": [
    {
     "data": {
      "text/plain": [
       "0.49270669947266443"
      ]
     },
     "execution_count": 107,
     "metadata": {},
     "output_type": "execute_result"
    }
   ],
   "source": [
    "pca_pipeline[1].explained_variance_ratio_.sum()"
   ]
  },
  {
   "cell_type": "code",
   "execution_count": 109,
   "metadata": {},
   "outputs": [
    {
     "data": {
      "text/plain": [
       "5.421597305805701"
      ]
     },
     "execution_count": 109,
     "metadata": {},
     "output_type": "execute_result"
    }
   ],
   "source": [
    "pca_pipeline[1].explained_variance_.sum()"
   ]
  },
  {
   "cell_type": "markdown",
   "metadata": {},
   "source": [
    "# Fine Tuning parameter"
   ]
  },
  {
   "cell_type": "markdown",
   "metadata": {},
   "source": [
    "# Modelo Final"
   ]
  }
 ],
 "metadata": {
  "kernelspec": {
   "display_name": "Python 3.8.0 ('.venv': poetry)",
   "language": "python",
   "name": "python3"
  },
  "language_info": {
   "codemirror_mode": {
    "name": "ipython",
    "version": 3
   },
   "file_extension": ".py",
   "mimetype": "text/x-python",
   "name": "python",
   "nbconvert_exporter": "python",
   "pygments_lexer": "ipython3",
   "version": "3.8.0"
  },
  "orig_nbformat": 4,
  "vscode": {
   "interpreter": {
    "hash": "18f1450f7c7b1ed91c60e02246d045b33056b7d12b5c705db3d49afba53c9ce0"
   }
  }
 },
 "nbformat": 4,
 "nbformat_minor": 2
}
