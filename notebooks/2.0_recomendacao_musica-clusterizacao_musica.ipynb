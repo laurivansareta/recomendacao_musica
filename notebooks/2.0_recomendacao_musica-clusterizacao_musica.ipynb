{
 "cells": [
  {
   "cell_type": "markdown",
   "metadata": {},
   "source": [
    "# Recomendação Música"
   ]
  },
  {
   "cell_type": "markdown",
   "metadata": {},
   "source": [
    "# 0.0 Imports"
   ]
  },
  {
   "cell_type": "code",
   "execution_count": 1,
   "metadata": {},
   "outputs": [],
   "source": [
    "import pandas as pd\n",
    "import numpy as np\n",
    "import seaborn as sns\n",
    "import plotly.express as px\n",
    "import plotly.graph_objects as go\n",
    "\n",
    "from sklearn.pipeline import Pipeline\n",
    "from sklearn.preprocessing import StandardScaler\n",
    "from sklearn.decomposition import PCA\n",
    "from sklearn.cluster import KMeans"
   ]
  },
  {
   "cell_type": "markdown",
   "metadata": {},
   "source": [
    "## 0.1. Funções auxiliares"
   ]
  },
  {
   "cell_type": "markdown",
   "metadata": {},
   "source": [
    "## 0.2 Carregar dados"
   ]
  },
  {
   "cell_type": "code",
   "execution_count": 2,
   "metadata": {},
   "outputs": [],
   "source": [
    "df_dados = pd.read_csv('../dados/Dados_totais.csv')\n",
    "df_anos = pd.read_csv('../dados/data_by_year.csv')\n",
    "df_generos = pd.read_csv('../dados/data_by_genres.csv')"
   ]
  },
  {
   "cell_type": "markdown",
   "metadata": {},
   "source": [
    "# 1.0. Descrição dos Dados"
   ]
  },
  {
   "cell_type": "code",
   "execution_count": 3,
   "metadata": {},
   "outputs": [],
   "source": [
    "df1 = df_dados.copy()"
   ]
  },
  {
   "cell_type": "code",
   "execution_count": 4,
   "metadata": {},
   "outputs": [
    {
     "data": {
      "text/html": [
       "<div>\n",
       "<style scoped>\n",
       "    .dataframe tbody tr th:only-of-type {\n",
       "        vertical-align: middle;\n",
       "    }\n",
       "\n",
       "    .dataframe tbody tr th {\n",
       "        vertical-align: top;\n",
       "    }\n",
       "\n",
       "    .dataframe thead th {\n",
       "        text-align: right;\n",
       "    }\n",
       "</style>\n",
       "<table border=\"1\" class=\"dataframe\">\n",
       "  <thead>\n",
       "    <tr style=\"text-align: right;\">\n",
       "      <th></th>\n",
       "      <th>valence</th>\n",
       "      <th>year</th>\n",
       "      <th>acousticness</th>\n",
       "      <th>artists</th>\n",
       "      <th>danceability</th>\n",
       "      <th>duration_ms</th>\n",
       "      <th>energy</th>\n",
       "      <th>explicit</th>\n",
       "      <th>id</th>\n",
       "      <th>instrumentalness</th>\n",
       "      <th>key</th>\n",
       "      <th>liveness</th>\n",
       "      <th>loudness</th>\n",
       "      <th>mode</th>\n",
       "      <th>name</th>\n",
       "      <th>popularity</th>\n",
       "      <th>speechiness</th>\n",
       "      <th>tempo</th>\n",
       "      <th>artists_song</th>\n",
       "    </tr>\n",
       "  </thead>\n",
       "  <tbody>\n",
       "    <tr>\n",
       "      <th>0</th>\n",
       "      <td>0.285</td>\n",
       "      <td>2000</td>\n",
       "      <td>0.00239</td>\n",
       "      <td>Coldplay</td>\n",
       "      <td>0.429</td>\n",
       "      <td>266773</td>\n",
       "      <td>0.661</td>\n",
       "      <td>0</td>\n",
       "      <td>3AJwUDP919kvQ9QcozQPxg</td>\n",
       "      <td>0.000121</td>\n",
       "      <td>11</td>\n",
       "      <td>0.2340</td>\n",
       "      <td>-7.227</td>\n",
       "      <td>1</td>\n",
       "      <td>Yellow</td>\n",
       "      <td>84</td>\n",
       "      <td>0.0281</td>\n",
       "      <td>173.372</td>\n",
       "      <td>Coldplay - Yellow</td>\n",
       "    </tr>\n",
       "    <tr>\n",
       "      <th>1</th>\n",
       "      <td>0.613</td>\n",
       "      <td>2000</td>\n",
       "      <td>0.14300</td>\n",
       "      <td>OutKast</td>\n",
       "      <td>0.843</td>\n",
       "      <td>270507</td>\n",
       "      <td>0.806</td>\n",
       "      <td>1</td>\n",
       "      <td>0I3q5fE6wg7LIfHGngUTnV</td>\n",
       "      <td>0.000000</td>\n",
       "      <td>4</td>\n",
       "      <td>0.0771</td>\n",
       "      <td>-5.946</td>\n",
       "      <td>0</td>\n",
       "      <td>Ms. Jackson</td>\n",
       "      <td>80</td>\n",
       "      <td>0.2690</td>\n",
       "      <td>94.948</td>\n",
       "      <td>OutKast - Ms. Jackson</td>\n",
       "    </tr>\n",
       "    <tr>\n",
       "      <th>2</th>\n",
       "      <td>0.400</td>\n",
       "      <td>2000</td>\n",
       "      <td>0.00958</td>\n",
       "      <td>Linkin Park</td>\n",
       "      <td>0.556</td>\n",
       "      <td>216880</td>\n",
       "      <td>0.864</td>\n",
       "      <td>0</td>\n",
       "      <td>60a0Rd6pjrkxjPbaKzXjfq</td>\n",
       "      <td>0.000000</td>\n",
       "      <td>3</td>\n",
       "      <td>0.2090</td>\n",
       "      <td>-5.870</td>\n",
       "      <td>0</td>\n",
       "      <td>In the End</td>\n",
       "      <td>84</td>\n",
       "      <td>0.0584</td>\n",
       "      <td>105.143</td>\n",
       "      <td>Linkin Park - In the End</td>\n",
       "    </tr>\n",
       "    <tr>\n",
       "      <th>3</th>\n",
       "      <td>0.543</td>\n",
       "      <td>2000</td>\n",
       "      <td>0.00664</td>\n",
       "      <td>3 Doors Down</td>\n",
       "      <td>0.545</td>\n",
       "      <td>233933</td>\n",
       "      <td>0.865</td>\n",
       "      <td>0</td>\n",
       "      <td>6ZOBP3NvffbU4SZcrnt1k6</td>\n",
       "      <td>0.000011</td>\n",
       "      <td>11</td>\n",
       "      <td>0.1680</td>\n",
       "      <td>-5.708</td>\n",
       "      <td>0</td>\n",
       "      <td>Kryptonite</td>\n",
       "      <td>78</td>\n",
       "      <td>0.0286</td>\n",
       "      <td>99.009</td>\n",
       "      <td>3 Doors Down - Kryptonite</td>\n",
       "    </tr>\n",
       "    <tr>\n",
       "      <th>4</th>\n",
       "      <td>0.760</td>\n",
       "      <td>2000</td>\n",
       "      <td>0.03020</td>\n",
       "      <td>Eminem</td>\n",
       "      <td>0.949</td>\n",
       "      <td>284200</td>\n",
       "      <td>0.661</td>\n",
       "      <td>1</td>\n",
       "      <td>3yfqSUWxFvZELEM4PmlwIR</td>\n",
       "      <td>0.000000</td>\n",
       "      <td>5</td>\n",
       "      <td>0.0454</td>\n",
       "      <td>-4.244</td>\n",
       "      <td>0</td>\n",
       "      <td>The Real Slim Shady</td>\n",
       "      <td>80</td>\n",
       "      <td>0.0572</td>\n",
       "      <td>104.504</td>\n",
       "      <td>Eminem - The Real Slim Shady</td>\n",
       "    </tr>\n",
       "  </tbody>\n",
       "</table>\n",
       "</div>"
      ],
      "text/plain": [
       "   valence  year  acousticness       artists  danceability  duration_ms  \\\n",
       "0    0.285  2000       0.00239      Coldplay         0.429       266773   \n",
       "1    0.613  2000       0.14300       OutKast         0.843       270507   \n",
       "2    0.400  2000       0.00958   Linkin Park         0.556       216880   \n",
       "3    0.543  2000       0.00664  3 Doors Down         0.545       233933   \n",
       "4    0.760  2000       0.03020        Eminem         0.949       284200   \n",
       "\n",
       "   energy  explicit                      id  instrumentalness  key  liveness  \\\n",
       "0   0.661         0  3AJwUDP919kvQ9QcozQPxg          0.000121   11    0.2340   \n",
       "1   0.806         1  0I3q5fE6wg7LIfHGngUTnV          0.000000    4    0.0771   \n",
       "2   0.864         0  60a0Rd6pjrkxjPbaKzXjfq          0.000000    3    0.2090   \n",
       "3   0.865         0  6ZOBP3NvffbU4SZcrnt1k6          0.000011   11    0.1680   \n",
       "4   0.661         1  3yfqSUWxFvZELEM4PmlwIR          0.000000    5    0.0454   \n",
       "\n",
       "   loudness  mode                 name  popularity  speechiness    tempo  \\\n",
       "0    -7.227     1               Yellow          84       0.0281  173.372   \n",
       "1    -5.946     0          Ms. Jackson          80       0.2690   94.948   \n",
       "2    -5.870     0           In the End          84       0.0584  105.143   \n",
       "3    -5.708     0           Kryptonite          78       0.0286   99.009   \n",
       "4    -4.244     0  The Real Slim Shady          80       0.0572  104.504   \n",
       "\n",
       "                   artists_song  \n",
       "0             Coldplay - Yellow  \n",
       "1         OutKast - Ms. Jackson  \n",
       "2      Linkin Park - In the End  \n",
       "3     3 Doors Down - Kryptonite  \n",
       "4  Eminem - The Real Slim Shady  "
      ]
     },
     "execution_count": 4,
     "metadata": {},
     "output_type": "execute_result"
    }
   ],
   "source": [
    "df1.head()"
   ]
  },
  {
   "cell_type": "code",
   "execution_count": 5,
   "metadata": {},
   "outputs": [],
   "source": [
    "# df_dados.describe()"
   ]
  },
  {
   "cell_type": "code",
   "execution_count": 6,
   "metadata": {},
   "outputs": [],
   "source": [
    "# df_generos.head()"
   ]
  },
  {
   "cell_type": "markdown",
   "metadata": {},
   "source": [
    "## 1.1. Dimensão dados"
   ]
  },
  {
   "cell_type": "code",
   "execution_count": 7,
   "metadata": {},
   "outputs": [
    {
     "name": "stdout",
     "output_type": "stream",
     "text": [
      "Número de Linhas: 20311\n",
      "Número de Colunas: 19\n"
     ]
    }
   ],
   "source": [
    "print( 'Número de Linhas: {}'.format(df1.shape[0] ) )\n",
    "print( 'Número de Colunas: {}'.format(df1.shape[1] ) )"
   ]
  },
  {
   "cell_type": "markdown",
   "metadata": {},
   "source": [
    "## 1.2. Tipo Dados"
   ]
  },
  {
   "cell_type": "code",
   "execution_count": 8,
   "metadata": {},
   "outputs": [
    {
     "data": {
      "text/plain": [
       "valence             float64\n",
       "year                  int64\n",
       "acousticness        float64\n",
       "artists              object\n",
       "danceability        float64\n",
       "duration_ms           int64\n",
       "energy              float64\n",
       "explicit              int64\n",
       "id                   object\n",
       "instrumentalness    float64\n",
       "key                   int64\n",
       "liveness            float64\n",
       "loudness            float64\n",
       "mode                  int64\n",
       "name                 object\n",
       "popularity            int64\n",
       "speechiness         float64\n",
       "tempo               float64\n",
       "artists_song         object\n",
       "dtype: object"
      ]
     },
     "execution_count": 8,
     "metadata": {},
     "output_type": "execute_result"
    }
   ],
   "source": [
    "df1.dtypes"
   ]
  },
  {
   "cell_type": "markdown",
   "metadata": {},
   "source": [
    "## 1.4. Validando NA"
   ]
  },
  {
   "cell_type": "code",
   "execution_count": 9,
   "metadata": {},
   "outputs": [
    {
     "data": {
      "text/plain": [
       "valence             0\n",
       "year                0\n",
       "acousticness        0\n",
       "artists             0\n",
       "danceability        0\n",
       "duration_ms         0\n",
       "energy              0\n",
       "explicit            0\n",
       "id                  0\n",
       "instrumentalness    0\n",
       "key                 0\n",
       "liveness            0\n",
       "loudness            0\n",
       "mode                0\n",
       "name                0\n",
       "popularity          0\n",
       "speechiness         0\n",
       "tempo               0\n",
       "artists_song        0\n",
       "dtype: int64"
      ]
     },
     "execution_count": 9,
     "metadata": {},
     "output_type": "execute_result"
    }
   ],
   "source": [
    "df1.isna().sum()"
   ]
  },
  {
   "cell_type": "markdown",
   "metadata": {},
   "source": [
    "## 1.5. Estatística Descritiva"
   ]
  },
  {
   "cell_type": "code",
   "execution_count": 10,
   "metadata": {},
   "outputs": [],
   "source": [
    "num_attributes = df1.select_dtypes( include=['int64', 'int32', 'float64'] )\n",
    "cat_attributes = df1.select_dtypes( exclude=['int64', 'int32', 'float64', 'datetime64[ns]'] )"
   ]
  },
  {
   "cell_type": "code",
   "execution_count": 11,
   "metadata": {},
   "outputs": [
    {
     "data": {
      "text/html": [
       "<div>\n",
       "<style scoped>\n",
       "    .dataframe tbody tr th:only-of-type {\n",
       "        vertical-align: middle;\n",
       "    }\n",
       "\n",
       "    .dataframe tbody tr th {\n",
       "        vertical-align: top;\n",
       "    }\n",
       "\n",
       "    .dataframe thead th {\n",
       "        text-align: right;\n",
       "    }\n",
       "</style>\n",
       "<table border=\"1\" class=\"dataframe\">\n",
       "  <thead>\n",
       "    <tr style=\"text-align: right;\">\n",
       "      <th></th>\n",
       "      <th>attributes</th>\n",
       "      <th>min</th>\n",
       "      <th>max</th>\n",
       "      <th>range</th>\n",
       "      <th>mean</th>\n",
       "      <th>median</th>\n",
       "      <th>std</th>\n",
       "      <th>skew</th>\n",
       "      <th>kurtosis</th>\n",
       "    </tr>\n",
       "  </thead>\n",
       "  <tbody>\n",
       "    <tr>\n",
       "      <th>0</th>\n",
       "      <td>valence</td>\n",
       "      <td>0.0</td>\n",
       "      <td>1.000</td>\n",
       "      <td>1.000</td>\n",
       "      <td>0.481928</td>\n",
       "      <td>0.472000</td>\n",
       "      <td>0.246407</td>\n",
       "      <td>0.140008</td>\n",
       "      <td>-0.904303</td>\n",
       "    </tr>\n",
       "    <tr>\n",
       "      <th>1</th>\n",
       "      <td>year</td>\n",
       "      <td>2000.0</td>\n",
       "      <td>2020.000</td>\n",
       "      <td>20.000</td>\n",
       "      <td>2010.183201</td>\n",
       "      <td>2010.000000</td>\n",
       "      <td>6.063818</td>\n",
       "      <td>-0.020193</td>\n",
       "      <td>-1.198748</td>\n",
       "    </tr>\n",
       "    <tr>\n",
       "      <th>2</th>\n",
       "      <td>acousticness</td>\n",
       "      <td>0.0</td>\n",
       "      <td>0.996</td>\n",
       "      <td>0.996</td>\n",
       "      <td>0.242799</td>\n",
       "      <td>0.114000</td>\n",
       "      <td>0.284409</td>\n",
       "      <td>1.167440</td>\n",
       "      <td>0.161336</td>\n",
       "    </tr>\n",
       "    <tr>\n",
       "      <th>3</th>\n",
       "      <td>danceability</td>\n",
       "      <td>0.0</td>\n",
       "      <td>0.986</td>\n",
       "      <td>0.986</td>\n",
       "      <td>0.587702</td>\n",
       "      <td>0.596000</td>\n",
       "      <td>0.171318</td>\n",
       "      <td>-0.362448</td>\n",
       "      <td>-0.119937</td>\n",
       "    </tr>\n",
       "    <tr>\n",
       "      <th>4</th>\n",
       "      <td>duration_ms</td>\n",
       "      <td>30301.0</td>\n",
       "      <td>2558287.000</td>\n",
       "      <td>2527986.000</td>\n",
       "      <td>228628.975826</td>\n",
       "      <td>221627.000000</td>\n",
       "      <td>70463.498581</td>\n",
       "      <td>5.492197</td>\n",
       "      <td>120.046653</td>\n",
       "    </tr>\n",
       "    <tr>\n",
       "      <th>5</th>\n",
       "      <td>energy</td>\n",
       "      <td>0.0</td>\n",
       "      <td>0.999</td>\n",
       "      <td>0.999</td>\n",
       "      <td>0.650766</td>\n",
       "      <td>0.680000</td>\n",
       "      <td>0.221769</td>\n",
       "      <td>-0.683219</td>\n",
       "      <td>-0.008898</td>\n",
       "    </tr>\n",
       "    <tr>\n",
       "      <th>6</th>\n",
       "      <td>explicit</td>\n",
       "      <td>0.0</td>\n",
       "      <td>1.000</td>\n",
       "      <td>1.000</td>\n",
       "      <td>0.279504</td>\n",
       "      <td>0.000000</td>\n",
       "      <td>0.448755</td>\n",
       "      <td>0.982774</td>\n",
       "      <td>-1.034257</td>\n",
       "    </tr>\n",
       "    <tr>\n",
       "      <th>7</th>\n",
       "      <td>instrumentalness</td>\n",
       "      <td>0.0</td>\n",
       "      <td>1.000</td>\n",
       "      <td>1.000</td>\n",
       "      <td>0.060173</td>\n",
       "      <td>0.000002</td>\n",
       "      <td>0.199310</td>\n",
       "      <td>3.533004</td>\n",
       "      <td>11.259340</td>\n",
       "    </tr>\n",
       "    <tr>\n",
       "      <th>8</th>\n",
       "      <td>key</td>\n",
       "      <td>0.0</td>\n",
       "      <td>11.000</td>\n",
       "      <td>11.000</td>\n",
       "      <td>5.239673</td>\n",
       "      <td>5.000000</td>\n",
       "      <td>3.583391</td>\n",
       "      <td>0.024003</td>\n",
       "      <td>-1.308581</td>\n",
       "    </tr>\n",
       "    <tr>\n",
       "      <th>9</th>\n",
       "      <td>liveness</td>\n",
       "      <td>0.0</td>\n",
       "      <td>0.997</td>\n",
       "      <td>0.997</td>\n",
       "      <td>0.194004</td>\n",
       "      <td>0.128000</td>\n",
       "      <td>0.157754</td>\n",
       "      <td>2.169330</td>\n",
       "      <td>5.442713</td>\n",
       "    </tr>\n",
       "    <tr>\n",
       "      <th>10</th>\n",
       "      <td>loudness</td>\n",
       "      <td>-60.0</td>\n",
       "      <td>1.483</td>\n",
       "      <td>61.483</td>\n",
       "      <td>-7.083095</td>\n",
       "      <td>-6.072000</td>\n",
       "      <td>4.319996</td>\n",
       "      <td>-3.093811</td>\n",
       "      <td>14.668149</td>\n",
       "    </tr>\n",
       "    <tr>\n",
       "      <th>11</th>\n",
       "      <td>mode</td>\n",
       "      <td>0.0</td>\n",
       "      <td>1.000</td>\n",
       "      <td>1.000</td>\n",
       "      <td>0.659052</td>\n",
       "      <td>1.000000</td>\n",
       "      <td>0.474028</td>\n",
       "      <td>-0.671114</td>\n",
       "      <td>-1.549758</td>\n",
       "    </tr>\n",
       "    <tr>\n",
       "      <th>12</th>\n",
       "      <td>popularity</td>\n",
       "      <td>0.0</td>\n",
       "      <td>100.000</td>\n",
       "      <td>100.000</td>\n",
       "      <td>56.441879</td>\n",
       "      <td>56.000000</td>\n",
       "      <td>11.560667</td>\n",
       "      <td>-0.170954</td>\n",
       "      <td>1.538891</td>\n",
       "    </tr>\n",
       "    <tr>\n",
       "      <th>13</th>\n",
       "      <td>speechiness</td>\n",
       "      <td>0.0</td>\n",
       "      <td>0.950</td>\n",
       "      <td>0.950</td>\n",
       "      <td>0.100602</td>\n",
       "      <td>0.052400</td>\n",
       "      <td>0.106057</td>\n",
       "      <td>2.267517</td>\n",
       "      <td>6.355651</td>\n",
       "    </tr>\n",
       "    <tr>\n",
       "      <th>14</th>\n",
       "      <td>tempo</td>\n",
       "      <td>0.0</td>\n",
       "      <td>220.099</td>\n",
       "      <td>220.099</td>\n",
       "      <td>122.074260</td>\n",
       "      <td>120.109000</td>\n",
       "      <td>30.864428</td>\n",
       "      <td>0.274076</td>\n",
       "      <td>-0.471907</td>\n",
       "    </tr>\n",
       "  </tbody>\n",
       "</table>\n",
       "</div>"
      ],
      "text/plain": [
       "          attributes      min          max        range           mean  \\\n",
       "0            valence      0.0        1.000        1.000       0.481928   \n",
       "1               year   2000.0     2020.000       20.000    2010.183201   \n",
       "2       acousticness      0.0        0.996        0.996       0.242799   \n",
       "3       danceability      0.0        0.986        0.986       0.587702   \n",
       "4        duration_ms  30301.0  2558287.000  2527986.000  228628.975826   \n",
       "5             energy      0.0        0.999        0.999       0.650766   \n",
       "6           explicit      0.0        1.000        1.000       0.279504   \n",
       "7   instrumentalness      0.0        1.000        1.000       0.060173   \n",
       "8                key      0.0       11.000       11.000       5.239673   \n",
       "9           liveness      0.0        0.997        0.997       0.194004   \n",
       "10          loudness    -60.0        1.483       61.483      -7.083095   \n",
       "11              mode      0.0        1.000        1.000       0.659052   \n",
       "12        popularity      0.0      100.000      100.000      56.441879   \n",
       "13       speechiness      0.0        0.950        0.950       0.100602   \n",
       "14             tempo      0.0      220.099      220.099     122.074260   \n",
       "\n",
       "           median           std      skew    kurtosis  \n",
       "0        0.472000      0.246407  0.140008   -0.904303  \n",
       "1     2010.000000      6.063818 -0.020193   -1.198748  \n",
       "2        0.114000      0.284409  1.167440    0.161336  \n",
       "3        0.596000      0.171318 -0.362448   -0.119937  \n",
       "4   221627.000000  70463.498581  5.492197  120.046653  \n",
       "5        0.680000      0.221769 -0.683219   -0.008898  \n",
       "6        0.000000      0.448755  0.982774   -1.034257  \n",
       "7        0.000002      0.199310  3.533004   11.259340  \n",
       "8        5.000000      3.583391  0.024003   -1.308581  \n",
       "9        0.128000      0.157754  2.169330    5.442713  \n",
       "10      -6.072000      4.319996 -3.093811   14.668149  \n",
       "11       1.000000      0.474028 -0.671114   -1.549758  \n",
       "12      56.000000     11.560667 -0.170954    1.538891  \n",
       "13       0.052400      0.106057  2.267517    6.355651  \n",
       "14     120.109000     30.864428  0.274076   -0.471907  "
      ]
     },
     "execution_count": 11,
     "metadata": {},
     "output_type": "execute_result"
    }
   ],
   "source": [
    "# Tendencia central - mean, ]median\n",
    "ct1 = pd.DataFrame( num_attributes.apply( np.mean ) ).T\n",
    "ct2 = pd.DataFrame( num_attributes.apply( np.median ) ).T\n",
    "\n",
    "# Dispersão - std, min, max, range, knew, kurtosis\n",
    "d1 = pd.DataFrame( num_attributes.apply( np.std ) ).T\n",
    "d2 = pd.DataFrame( num_attributes.apply( np.min ) ).T\n",
    "d3 = pd.DataFrame( num_attributes.apply( np.max ) ).T\n",
    "d4 = pd.DataFrame( num_attributes.apply( lambda x: x.max() - x.min() ) ).T\n",
    "d5 = pd.DataFrame( num_attributes.apply( lambda x: x.skew() ) ).T\n",
    "d6 = pd.DataFrame( num_attributes.apply( lambda x: x.kurtosis() ) ).T\n",
    "\n",
    "#Concatenar\n",
    "m = pd.concat( [d2, d3, d4, ct1, ct2, d1, d5, d6] ).T.reset_index()\n",
    "m.columns =['attributes', 'min', 'max', 'range', 'mean', 'median', 'std', 'skew', 'kurtosis']\n",
    "m"
   ]
  },
  {
   "cell_type": "code",
   "execution_count": 12,
   "metadata": {},
   "outputs": [
    {
     "data": {
      "text/plain": [
       "artists           875\n",
       "id              20311\n",
       "name            18691\n",
       "artists_song    20311\n",
       "dtype: int64"
      ]
     },
     "execution_count": 12,
     "metadata": {},
     "output_type": "execute_result"
    }
   ],
   "source": [
    "cat_attributes.apply( lambda x: x.unique().shape[0] )"
   ]
  },
  {
   "cell_type": "code",
   "execution_count": 13,
   "metadata": {},
   "outputs": [
    {
     "data": {
      "text/plain": [
       "1921    0.01\n",
       "1984    0.01\n",
       "1994    0.01\n",
       "1993    0.01\n",
       "1992    0.01\n",
       "        ... \n",
       "1951    0.01\n",
       "1950    0.01\n",
       "1949    0.01\n",
       "1948    0.01\n",
       "2020    0.01\n",
       "Name: year, Length: 100, dtype: float64"
      ]
     },
     "execution_count": 13,
     "metadata": {},
     "output_type": "execute_result"
    }
   ],
   "source": [
    "df_anos['year'].value_counts(normalize=True)"
   ]
  },
  {
   "cell_type": "markdown",
   "metadata": {},
   "source": [
    "# Feature Engeneering"
   ]
  },
  {
   "cell_type": "code",
   "execution_count": null,
   "metadata": {},
   "outputs": [],
   "source": []
  },
  {
   "cell_type": "markdown",
   "metadata": {},
   "source": [
    "# Filtragem Variáveis"
   ]
  },
  {
   "cell_type": "markdown",
   "metadata": {},
   "source": [
    "## Seleção Linhas"
   ]
  },
  {
   "cell_type": "code",
   "execution_count": 14,
   "metadata": {},
   "outputs": [
    {
     "data": {
      "text/plain": [
       "array([2000, 2001, 2002, 2003, 2004, 2005, 2006, 2007, 2008, 2009, 2010,\n",
       "       2011, 2012, 2013, 2014, 2015, 2016, 2017, 2018, 2019, 2020],\n",
       "      dtype=int64)"
      ]
     },
     "execution_count": 14,
     "metadata": {},
     "output_type": "execute_result"
    }
   ],
   "source": [
    "df_dados['year'].unique()"
   ]
  },
  {
   "cell_type": "code",
   "execution_count": 15,
   "metadata": {},
   "outputs": [
    {
     "data": {
      "text/plain": [
       "<bound method Series.unique of 0     1921\n",
       "1     1922\n",
       "2     1923\n",
       "3     1924\n",
       "4     1925\n",
       "      ... \n",
       "95    2016\n",
       "96    2017\n",
       "97    2018\n",
       "98    2019\n",
       "99    2020\n",
       "Name: year, Length: 100, dtype: int64>"
      ]
     },
     "execution_count": 15,
     "metadata": {},
     "output_type": "execute_result"
    }
   ],
   "source": [
    "df_anos['year'].unique"
   ]
  },
  {
   "cell_type": "code",
   "execution_count": 16,
   "metadata": {},
   "outputs": [],
   "source": [
    "df_anos = df_anos[df_anos['year'] >= 2000].reset_index(drop=True)"
   ]
  },
  {
   "cell_type": "markdown",
   "metadata": {},
   "source": [
    "## Seleção Colunas"
   ]
  },
  {
   "cell_type": "code",
   "execution_count": 17,
   "metadata": {},
   "outputs": [],
   "source": [
    "# removendo algumas features que no primeiro momento não agregam.\n",
    "df_dados = df_dados.drop(['explicit', 'key', 'mode'], axis=1)\n",
    "df_generos = df_generos.drop(['key', 'mode'], axis=1)\n",
    "df_anos = df_anos.drop(['key', 'mode'], axis=1)"
   ]
  },
  {
   "cell_type": "code",
   "execution_count": 18,
   "metadata": {},
   "outputs": [
    {
     "data": {
      "text/html": [
       "<div>\n",
       "<style scoped>\n",
       "    .dataframe tbody tr th:only-of-type {\n",
       "        vertical-align: middle;\n",
       "    }\n",
       "\n",
       "    .dataframe tbody tr th {\n",
       "        vertical-align: top;\n",
       "    }\n",
       "\n",
       "    .dataframe thead th {\n",
       "        text-align: right;\n",
       "    }\n",
       "</style>\n",
       "<table border=\"1\" class=\"dataframe\">\n",
       "  <thead>\n",
       "    <tr style=\"text-align: right;\">\n",
       "      <th></th>\n",
       "      <th>valence</th>\n",
       "      <th>year</th>\n",
       "      <th>acousticness</th>\n",
       "      <th>artists</th>\n",
       "      <th>danceability</th>\n",
       "      <th>duration_ms</th>\n",
       "      <th>energy</th>\n",
       "      <th>id</th>\n",
       "      <th>instrumentalness</th>\n",
       "      <th>liveness</th>\n",
       "      <th>loudness</th>\n",
       "      <th>name</th>\n",
       "      <th>popularity</th>\n",
       "      <th>speechiness</th>\n",
       "      <th>tempo</th>\n",
       "      <th>artists_song</th>\n",
       "    </tr>\n",
       "  </thead>\n",
       "  <tbody>\n",
       "    <tr>\n",
       "      <th>0</th>\n",
       "      <td>0.285</td>\n",
       "      <td>2000</td>\n",
       "      <td>0.00239</td>\n",
       "      <td>Coldplay</td>\n",
       "      <td>0.429</td>\n",
       "      <td>266773</td>\n",
       "      <td>0.661</td>\n",
       "      <td>3AJwUDP919kvQ9QcozQPxg</td>\n",
       "      <td>0.000121</td>\n",
       "      <td>0.2340</td>\n",
       "      <td>-7.227</td>\n",
       "      <td>Yellow</td>\n",
       "      <td>84</td>\n",
       "      <td>0.0281</td>\n",
       "      <td>173.372</td>\n",
       "      <td>Coldplay - Yellow</td>\n",
       "    </tr>\n",
       "    <tr>\n",
       "      <th>1</th>\n",
       "      <td>0.613</td>\n",
       "      <td>2000</td>\n",
       "      <td>0.14300</td>\n",
       "      <td>OutKast</td>\n",
       "      <td>0.843</td>\n",
       "      <td>270507</td>\n",
       "      <td>0.806</td>\n",
       "      <td>0I3q5fE6wg7LIfHGngUTnV</td>\n",
       "      <td>0.000000</td>\n",
       "      <td>0.0771</td>\n",
       "      <td>-5.946</td>\n",
       "      <td>Ms. Jackson</td>\n",
       "      <td>80</td>\n",
       "      <td>0.2690</td>\n",
       "      <td>94.948</td>\n",
       "      <td>OutKast - Ms. Jackson</td>\n",
       "    </tr>\n",
       "    <tr>\n",
       "      <th>2</th>\n",
       "      <td>0.400</td>\n",
       "      <td>2000</td>\n",
       "      <td>0.00958</td>\n",
       "      <td>Linkin Park</td>\n",
       "      <td>0.556</td>\n",
       "      <td>216880</td>\n",
       "      <td>0.864</td>\n",
       "      <td>60a0Rd6pjrkxjPbaKzXjfq</td>\n",
       "      <td>0.000000</td>\n",
       "      <td>0.2090</td>\n",
       "      <td>-5.870</td>\n",
       "      <td>In the End</td>\n",
       "      <td>84</td>\n",
       "      <td>0.0584</td>\n",
       "      <td>105.143</td>\n",
       "      <td>Linkin Park - In the End</td>\n",
       "    </tr>\n",
       "    <tr>\n",
       "      <th>3</th>\n",
       "      <td>0.543</td>\n",
       "      <td>2000</td>\n",
       "      <td>0.00664</td>\n",
       "      <td>3 Doors Down</td>\n",
       "      <td>0.545</td>\n",
       "      <td>233933</td>\n",
       "      <td>0.865</td>\n",
       "      <td>6ZOBP3NvffbU4SZcrnt1k6</td>\n",
       "      <td>0.000011</td>\n",
       "      <td>0.1680</td>\n",
       "      <td>-5.708</td>\n",
       "      <td>Kryptonite</td>\n",
       "      <td>78</td>\n",
       "      <td>0.0286</td>\n",
       "      <td>99.009</td>\n",
       "      <td>3 Doors Down - Kryptonite</td>\n",
       "    </tr>\n",
       "    <tr>\n",
       "      <th>4</th>\n",
       "      <td>0.760</td>\n",
       "      <td>2000</td>\n",
       "      <td>0.03020</td>\n",
       "      <td>Eminem</td>\n",
       "      <td>0.949</td>\n",
       "      <td>284200</td>\n",
       "      <td>0.661</td>\n",
       "      <td>3yfqSUWxFvZELEM4PmlwIR</td>\n",
       "      <td>0.000000</td>\n",
       "      <td>0.0454</td>\n",
       "      <td>-4.244</td>\n",
       "      <td>The Real Slim Shady</td>\n",
       "      <td>80</td>\n",
       "      <td>0.0572</td>\n",
       "      <td>104.504</td>\n",
       "      <td>Eminem - The Real Slim Shady</td>\n",
       "    </tr>\n",
       "  </tbody>\n",
       "</table>\n",
       "</div>"
      ],
      "text/plain": [
       "   valence  year  acousticness       artists  danceability  duration_ms  \\\n",
       "0    0.285  2000       0.00239      Coldplay         0.429       266773   \n",
       "1    0.613  2000       0.14300       OutKast         0.843       270507   \n",
       "2    0.400  2000       0.00958   Linkin Park         0.556       216880   \n",
       "3    0.543  2000       0.00664  3 Doors Down         0.545       233933   \n",
       "4    0.760  2000       0.03020        Eminem         0.949       284200   \n",
       "\n",
       "   energy                      id  instrumentalness  liveness  loudness  \\\n",
       "0   0.661  3AJwUDP919kvQ9QcozQPxg          0.000121    0.2340    -7.227   \n",
       "1   0.806  0I3q5fE6wg7LIfHGngUTnV          0.000000    0.0771    -5.946   \n",
       "2   0.864  60a0Rd6pjrkxjPbaKzXjfq          0.000000    0.2090    -5.870   \n",
       "3   0.865  6ZOBP3NvffbU4SZcrnt1k6          0.000011    0.1680    -5.708   \n",
       "4   0.661  3yfqSUWxFvZELEM4PmlwIR          0.000000    0.0454    -4.244   \n",
       "\n",
       "                  name  popularity  speechiness    tempo  \\\n",
       "0               Yellow          84       0.0281  173.372   \n",
       "1          Ms. Jackson          80       0.2690   94.948   \n",
       "2           In the End          84       0.0584  105.143   \n",
       "3           Kryptonite          78       0.0286   99.009   \n",
       "4  The Real Slim Shady          80       0.0572  104.504   \n",
       "\n",
       "                   artists_song  \n",
       "0             Coldplay - Yellow  \n",
       "1         OutKast - Ms. Jackson  \n",
       "2      Linkin Park - In the End  \n",
       "3     3 Doors Down - Kryptonite  \n",
       "4  Eminem - The Real Slim Shady  "
      ]
     },
     "execution_count": 18,
     "metadata": {},
     "output_type": "execute_result"
    }
   ],
   "source": [
    "df_dados.head()"
   ]
  },
  {
   "cell_type": "markdown",
   "metadata": {},
   "source": [
    "# Análise Exploratória"
   ]
  },
  {
   "cell_type": "code",
   "execution_count": 19,
   "metadata": {},
   "outputs": [
    {
     "data": {
      "application/vnd.plotly.v1+json": {
       "config": {
        "plotlyServerURL": "https://plot.ly"
       },
       "data": [
        {
         "hovertemplate": "year=%{x}<br>loudness=%{y}<extra></extra>",
         "legendgroup": "",
         "line": {
          "color": "#636efa",
          "dash": "solid"
         },
         "marker": {
          "symbol": "circle"
         },
         "mode": "lines+markers",
         "name": "",
         "orientation": "v",
         "showlegend": false,
         "type": "scatter",
         "x": [
          2000,
          2001,
          2002,
          2003,
          2004,
          2005,
          2006,
          2007,
          2008,
          2009,
          2010,
          2011,
          2012,
          2013,
          2014,
          2015,
          2016,
          2017,
          2018,
          2019,
          2020
         ],
         "xaxis": "x",
         "y": [
          -8.247765848670758,
          -8.305095261845384,
          -7.686639500000013,
          -7.485545035823955,
          -7.601655137334684,
          -7.46615897435897,
          -7.265500512820514,
          -7.044535897435892,
          -6.8438040920716166,
          -7.0460147959183645,
          -6.9099042658730125,
          -7.574986117997006,
          -7.260549614395888,
          -7.472039473684207,
          -7.06743990024938,
          -7.625639311043569,
          -8.061056204785759,
          -8.31262951807228,
          -7.168785068949124,
          -7.722191893278596,
          -6.595066995073878
         ],
         "yaxis": "y"
        }
       ],
       "layout": {
        "legend": {
         "tracegroupgap": 0
        },
        "template": {
         "data": {
          "bar": [
           {
            "error_x": {
             "color": "#2a3f5f"
            },
            "error_y": {
             "color": "#2a3f5f"
            },
            "marker": {
             "line": {
              "color": "#E5ECF6",
              "width": 0.5
             },
             "pattern": {
              "fillmode": "overlay",
              "size": 10,
              "solidity": 0.2
             }
            },
            "type": "bar"
           }
          ],
          "barpolar": [
           {
            "marker": {
             "line": {
              "color": "#E5ECF6",
              "width": 0.5
             },
             "pattern": {
              "fillmode": "overlay",
              "size": 10,
              "solidity": 0.2
             }
            },
            "type": "barpolar"
           }
          ],
          "carpet": [
           {
            "aaxis": {
             "endlinecolor": "#2a3f5f",
             "gridcolor": "white",
             "linecolor": "white",
             "minorgridcolor": "white",
             "startlinecolor": "#2a3f5f"
            },
            "baxis": {
             "endlinecolor": "#2a3f5f",
             "gridcolor": "white",
             "linecolor": "white",
             "minorgridcolor": "white",
             "startlinecolor": "#2a3f5f"
            },
            "type": "carpet"
           }
          ],
          "choropleth": [
           {
            "colorbar": {
             "outlinewidth": 0,
             "ticks": ""
            },
            "type": "choropleth"
           }
          ],
          "contour": [
           {
            "colorbar": {
             "outlinewidth": 0,
             "ticks": ""
            },
            "colorscale": [
             [
              0,
              "#0d0887"
             ],
             [
              0.1111111111111111,
              "#46039f"
             ],
             [
              0.2222222222222222,
              "#7201a8"
             ],
             [
              0.3333333333333333,
              "#9c179e"
             ],
             [
              0.4444444444444444,
              "#bd3786"
             ],
             [
              0.5555555555555556,
              "#d8576b"
             ],
             [
              0.6666666666666666,
              "#ed7953"
             ],
             [
              0.7777777777777778,
              "#fb9f3a"
             ],
             [
              0.8888888888888888,
              "#fdca26"
             ],
             [
              1,
              "#f0f921"
             ]
            ],
            "type": "contour"
           }
          ],
          "contourcarpet": [
           {
            "colorbar": {
             "outlinewidth": 0,
             "ticks": ""
            },
            "type": "contourcarpet"
           }
          ],
          "heatmap": [
           {
            "colorbar": {
             "outlinewidth": 0,
             "ticks": ""
            },
            "colorscale": [
             [
              0,
              "#0d0887"
             ],
             [
              0.1111111111111111,
              "#46039f"
             ],
             [
              0.2222222222222222,
              "#7201a8"
             ],
             [
              0.3333333333333333,
              "#9c179e"
             ],
             [
              0.4444444444444444,
              "#bd3786"
             ],
             [
              0.5555555555555556,
              "#d8576b"
             ],
             [
              0.6666666666666666,
              "#ed7953"
             ],
             [
              0.7777777777777778,
              "#fb9f3a"
             ],
             [
              0.8888888888888888,
              "#fdca26"
             ],
             [
              1,
              "#f0f921"
             ]
            ],
            "type": "heatmap"
           }
          ],
          "heatmapgl": [
           {
            "colorbar": {
             "outlinewidth": 0,
             "ticks": ""
            },
            "colorscale": [
             [
              0,
              "#0d0887"
             ],
             [
              0.1111111111111111,
              "#46039f"
             ],
             [
              0.2222222222222222,
              "#7201a8"
             ],
             [
              0.3333333333333333,
              "#9c179e"
             ],
             [
              0.4444444444444444,
              "#bd3786"
             ],
             [
              0.5555555555555556,
              "#d8576b"
             ],
             [
              0.6666666666666666,
              "#ed7953"
             ],
             [
              0.7777777777777778,
              "#fb9f3a"
             ],
             [
              0.8888888888888888,
              "#fdca26"
             ],
             [
              1,
              "#f0f921"
             ]
            ],
            "type": "heatmapgl"
           }
          ],
          "histogram": [
           {
            "marker": {
             "pattern": {
              "fillmode": "overlay",
              "size": 10,
              "solidity": 0.2
             }
            },
            "type": "histogram"
           }
          ],
          "histogram2d": [
           {
            "colorbar": {
             "outlinewidth": 0,
             "ticks": ""
            },
            "colorscale": [
             [
              0,
              "#0d0887"
             ],
             [
              0.1111111111111111,
              "#46039f"
             ],
             [
              0.2222222222222222,
              "#7201a8"
             ],
             [
              0.3333333333333333,
              "#9c179e"
             ],
             [
              0.4444444444444444,
              "#bd3786"
             ],
             [
              0.5555555555555556,
              "#d8576b"
             ],
             [
              0.6666666666666666,
              "#ed7953"
             ],
             [
              0.7777777777777778,
              "#fb9f3a"
             ],
             [
              0.8888888888888888,
              "#fdca26"
             ],
             [
              1,
              "#f0f921"
             ]
            ],
            "type": "histogram2d"
           }
          ],
          "histogram2dcontour": [
           {
            "colorbar": {
             "outlinewidth": 0,
             "ticks": ""
            },
            "colorscale": [
             [
              0,
              "#0d0887"
             ],
             [
              0.1111111111111111,
              "#46039f"
             ],
             [
              0.2222222222222222,
              "#7201a8"
             ],
             [
              0.3333333333333333,
              "#9c179e"
             ],
             [
              0.4444444444444444,
              "#bd3786"
             ],
             [
              0.5555555555555556,
              "#d8576b"
             ],
             [
              0.6666666666666666,
              "#ed7953"
             ],
             [
              0.7777777777777778,
              "#fb9f3a"
             ],
             [
              0.8888888888888888,
              "#fdca26"
             ],
             [
              1,
              "#f0f921"
             ]
            ],
            "type": "histogram2dcontour"
           }
          ],
          "mesh3d": [
           {
            "colorbar": {
             "outlinewidth": 0,
             "ticks": ""
            },
            "type": "mesh3d"
           }
          ],
          "parcoords": [
           {
            "line": {
             "colorbar": {
              "outlinewidth": 0,
              "ticks": ""
             }
            },
            "type": "parcoords"
           }
          ],
          "pie": [
           {
            "automargin": true,
            "type": "pie"
           }
          ],
          "scatter": [
           {
            "fillpattern": {
             "fillmode": "overlay",
             "size": 10,
             "solidity": 0.2
            },
            "type": "scatter"
           }
          ],
          "scatter3d": [
           {
            "line": {
             "colorbar": {
              "outlinewidth": 0,
              "ticks": ""
             }
            },
            "marker": {
             "colorbar": {
              "outlinewidth": 0,
              "ticks": ""
             }
            },
            "type": "scatter3d"
           }
          ],
          "scattercarpet": [
           {
            "marker": {
             "colorbar": {
              "outlinewidth": 0,
              "ticks": ""
             }
            },
            "type": "scattercarpet"
           }
          ],
          "scattergeo": [
           {
            "marker": {
             "colorbar": {
              "outlinewidth": 0,
              "ticks": ""
             }
            },
            "type": "scattergeo"
           }
          ],
          "scattergl": [
           {
            "marker": {
             "colorbar": {
              "outlinewidth": 0,
              "ticks": ""
             }
            },
            "type": "scattergl"
           }
          ],
          "scattermapbox": [
           {
            "marker": {
             "colorbar": {
              "outlinewidth": 0,
              "ticks": ""
             }
            },
            "type": "scattermapbox"
           }
          ],
          "scatterpolar": [
           {
            "marker": {
             "colorbar": {
              "outlinewidth": 0,
              "ticks": ""
             }
            },
            "type": "scatterpolar"
           }
          ],
          "scatterpolargl": [
           {
            "marker": {
             "colorbar": {
              "outlinewidth": 0,
              "ticks": ""
             }
            },
            "type": "scatterpolargl"
           }
          ],
          "scatterternary": [
           {
            "marker": {
             "colorbar": {
              "outlinewidth": 0,
              "ticks": ""
             }
            },
            "type": "scatterternary"
           }
          ],
          "surface": [
           {
            "colorbar": {
             "outlinewidth": 0,
             "ticks": ""
            },
            "colorscale": [
             [
              0,
              "#0d0887"
             ],
             [
              0.1111111111111111,
              "#46039f"
             ],
             [
              0.2222222222222222,
              "#7201a8"
             ],
             [
              0.3333333333333333,
              "#9c179e"
             ],
             [
              0.4444444444444444,
              "#bd3786"
             ],
             [
              0.5555555555555556,
              "#d8576b"
             ],
             [
              0.6666666666666666,
              "#ed7953"
             ],
             [
              0.7777777777777778,
              "#fb9f3a"
             ],
             [
              0.8888888888888888,
              "#fdca26"
             ],
             [
              1,
              "#f0f921"
             ]
            ],
            "type": "surface"
           }
          ],
          "table": [
           {
            "cells": {
             "fill": {
              "color": "#EBF0F8"
             },
             "line": {
              "color": "white"
             }
            },
            "header": {
             "fill": {
              "color": "#C8D4E3"
             },
             "line": {
              "color": "white"
             }
            },
            "type": "table"
           }
          ]
         },
         "layout": {
          "annotationdefaults": {
           "arrowcolor": "#2a3f5f",
           "arrowhead": 0,
           "arrowwidth": 1
          },
          "autotypenumbers": "strict",
          "coloraxis": {
           "colorbar": {
            "outlinewidth": 0,
            "ticks": ""
           }
          },
          "colorscale": {
           "diverging": [
            [
             0,
             "#8e0152"
            ],
            [
             0.1,
             "#c51b7d"
            ],
            [
             0.2,
             "#de77ae"
            ],
            [
             0.3,
             "#f1b6da"
            ],
            [
             0.4,
             "#fde0ef"
            ],
            [
             0.5,
             "#f7f7f7"
            ],
            [
             0.6,
             "#e6f5d0"
            ],
            [
             0.7,
             "#b8e186"
            ],
            [
             0.8,
             "#7fbc41"
            ],
            [
             0.9,
             "#4d9221"
            ],
            [
             1,
             "#276419"
            ]
           ],
           "sequential": [
            [
             0,
             "#0d0887"
            ],
            [
             0.1111111111111111,
             "#46039f"
            ],
            [
             0.2222222222222222,
             "#7201a8"
            ],
            [
             0.3333333333333333,
             "#9c179e"
            ],
            [
             0.4444444444444444,
             "#bd3786"
            ],
            [
             0.5555555555555556,
             "#d8576b"
            ],
            [
             0.6666666666666666,
             "#ed7953"
            ],
            [
             0.7777777777777778,
             "#fb9f3a"
            ],
            [
             0.8888888888888888,
             "#fdca26"
            ],
            [
             1,
             "#f0f921"
            ]
           ],
           "sequentialminus": [
            [
             0,
             "#0d0887"
            ],
            [
             0.1111111111111111,
             "#46039f"
            ],
            [
             0.2222222222222222,
             "#7201a8"
            ],
            [
             0.3333333333333333,
             "#9c179e"
            ],
            [
             0.4444444444444444,
             "#bd3786"
            ],
            [
             0.5555555555555556,
             "#d8576b"
            ],
            [
             0.6666666666666666,
             "#ed7953"
            ],
            [
             0.7777777777777778,
             "#fb9f3a"
            ],
            [
             0.8888888888888888,
             "#fdca26"
            ],
            [
             1,
             "#f0f921"
            ]
           ]
          },
          "colorway": [
           "#636efa",
           "#EF553B",
           "#00cc96",
           "#ab63fa",
           "#FFA15A",
           "#19d3f3",
           "#FF6692",
           "#B6E880",
           "#FF97FF",
           "#FECB52"
          ],
          "font": {
           "color": "#2a3f5f"
          },
          "geo": {
           "bgcolor": "white",
           "lakecolor": "white",
           "landcolor": "#E5ECF6",
           "showlakes": true,
           "showland": true,
           "subunitcolor": "white"
          },
          "hoverlabel": {
           "align": "left"
          },
          "hovermode": "closest",
          "mapbox": {
           "style": "light"
          },
          "paper_bgcolor": "white",
          "plot_bgcolor": "#E5ECF6",
          "polar": {
           "angularaxis": {
            "gridcolor": "white",
            "linecolor": "white",
            "ticks": ""
           },
           "bgcolor": "#E5ECF6",
           "radialaxis": {
            "gridcolor": "white",
            "linecolor": "white",
            "ticks": ""
           }
          },
          "scene": {
           "xaxis": {
            "backgroundcolor": "#E5ECF6",
            "gridcolor": "white",
            "gridwidth": 2,
            "linecolor": "white",
            "showbackground": true,
            "ticks": "",
            "zerolinecolor": "white"
           },
           "yaxis": {
            "backgroundcolor": "#E5ECF6",
            "gridcolor": "white",
            "gridwidth": 2,
            "linecolor": "white",
            "showbackground": true,
            "ticks": "",
            "zerolinecolor": "white"
           },
           "zaxis": {
            "backgroundcolor": "#E5ECF6",
            "gridcolor": "white",
            "gridwidth": 2,
            "linecolor": "white",
            "showbackground": true,
            "ticks": "",
            "zerolinecolor": "white"
           }
          },
          "shapedefaults": {
           "line": {
            "color": "#2a3f5f"
           }
          },
          "ternary": {
           "aaxis": {
            "gridcolor": "white",
            "linecolor": "white",
            "ticks": ""
           },
           "baxis": {
            "gridcolor": "white",
            "linecolor": "white",
            "ticks": ""
           },
           "bgcolor": "#E5ECF6",
           "caxis": {
            "gridcolor": "white",
            "linecolor": "white",
            "ticks": ""
           }
          },
          "title": {
           "x": 0.05
          },
          "xaxis": {
           "automargin": true,
           "gridcolor": "white",
           "linecolor": "white",
           "ticks": "",
           "title": {
            "standoff": 15
           },
           "zerolinecolor": "white",
           "zerolinewidth": 2
          },
          "yaxis": {
           "automargin": true,
           "gridcolor": "white",
           "linecolor": "white",
           "ticks": "",
           "title": {
            "standoff": 15
           },
           "zerolinecolor": "white",
           "zerolinewidth": 2
          }
         }
        },
        "title": {
         "text": "Variação do loudness através dos Anos"
        },
        "xaxis": {
         "anchor": "y",
         "domain": [
          0,
          1
         ],
         "title": {
          "text": "year"
         }
        },
        "yaxis": {
         "anchor": "x",
         "domain": [
          0,
          1
         ],
         "title": {
          "text": "loudness"
         }
        }
       }
      }
     },
     "metadata": {},
     "output_type": "display_data"
    }
   ],
   "source": [
    "fig = px.line(df_anos, x='year', y='loudness', markers=True, title='Variação do loudness através dos Anos')\n",
    "fig.show()"
   ]
  },
  {
   "cell_type": "code",
   "execution_count": 20,
   "metadata": {},
   "outputs": [
    {
     "data": {
      "application/vnd.plotly.v1+json": {
       "config": {
        "plotlyServerURL": "https://plot.ly"
       },
       "data": [
        {
         "name": "Acousticness",
         "type": "scatter",
         "x": [
          2000,
          2001,
          2002,
          2003,
          2004,
          2005,
          2006,
          2007,
          2008,
          2009,
          2010,
          2011,
          2012,
          2013,
          2014,
          2015,
          2016,
          2017,
          2018,
          2019,
          2020
         ],
         "y": [
          0.2893227005163599,
          0.2868424748428934,
          0.282624289885001,
          0.2564705181729783,
          0.2805589466225845,
          0.2557635068666665,
          0.2799863520256408,
          0.2540809575538463,
          0.2491917627212275,
          0.261928619096939,
          0.2426866435515872,
          0.2731826625185919,
          0.2499530443804624,
          0.2574880859564779,
          0.249312645880299,
          0.2539522577102332,
          0.2841710299554814,
          0.2860990665261043,
          0.2676329907750836,
          0.2782985863365824,
          0.2199308880935964
         ]
        },
        {
         "name": "Valence",
         "type": "scatter",
         "x": [
          2000,
          2001,
          2002,
          2003,
          2004,
          2005,
          2006,
          2007,
          2008,
          2009,
          2010,
          2011,
          2012,
          2013,
          2014,
          2015,
          2016,
          2017,
          2018,
          2019,
          2020
         ],
         "y": [
          0.5594754601226991,
          0.541479107231919,
          0.5423971500000008,
          0.5305042476970324,
          0.5244885554425227,
          0.5325309230769236,
          0.5200283076923078,
          0.5167938461538473,
          0.5275418925831203,
          0.5071696617346935,
          0.5208951587301589,
          0.4724536787307882,
          0.4627090128534706,
          0.4547411943319834,
          0.4630487780548628,
          0.4320983687943254,
          0.4315320589872012,
          0.4164763112449793,
          0.4479212743699474,
          0.4588176295536167,
          0.5010478078817729
         ]
        },
        {
         "name": "Danceability",
         "type": "scatter",
         "x": [
          2000,
          2001,
          2002,
          2003,
          2004,
          2005,
          2006,
          2007,
          2008,
          2009,
          2010,
          2011,
          2012,
          2013,
          2014,
          2015,
          2016,
          2017,
          2018,
          2019,
          2020
         ],
         "y": [
          0.590918047034764,
          0.5833178553615969,
          0.5761602999999997,
          0.5757633060388944,
          0.5676803662258397,
          0.5722805641025652,
          0.5682301538461539,
          0.5634143589743592,
          0.5791928388746803,
          0.5641903571428577,
          0.5724883432539687,
          0.5528669806643526,
          0.5708818508997433,
          0.5711480263157896,
          0.5899476807980057,
          0.5937740628166152,
          0.6002023928770179,
          0.6122170180722886,
          0.6635004755111744,
          0.6448141097998967,
          0.6929043349753701
         ]
        },
        {
         "name": "Energy",
         "type": "scatter",
         "x": [
          2000,
          2001,
          2002,
          2003,
          2004,
          2005,
          2006,
          2007,
          2008,
          2009,
          2010,
          2011,
          2012,
          2013,
          2014,
          2015,
          2016,
          2017,
          2018,
          2019,
          2020
         ],
         "y": [
          0.6254128323108387,
          0.6269855221945144,
          0.6412697960000012,
          0.6601652610030712,
          0.6488679450661226,
          0.653208511282051,
          0.6503262820512825,
          0.6683047743589737,
          0.6714608207672623,
          0.6707487551020408,
          0.6817778026289684,
          0.6483008934060499,
          0.6565714601542408,
          0.6455968914473688,
          0.6487954437905223,
          0.6270642715298895,
          0.5928552316082347,
          0.5904210208835337,
          0.6024346220161672,
          0.5932240360184717,
          0.6312316354679793
         ]
        },
        {
         "name": "Instrumentalness",
         "type": "scatter",
         "x": [
          2000,
          2001,
          2002,
          2003,
          2004,
          2005,
          2006,
          2007,
          2008,
          2009,
          2010,
          2011,
          2012,
          2013,
          2014,
          2015,
          2016,
          2017,
          2018,
          2019,
          2020
         ],
         "y": [
          0.1011677687934559,
          0.1072140189925186,
          0.0880483503149999,
          0.0830492746673491,
          0.0779340349084435,
          0.0901943611846154,
          0.0777014718769231,
          0.0729572680512819,
          0.0636620903171356,
          0.0758720736836735,
          0.0829805682192461,
          0.103772332166584,
          0.0852055206786631,
          0.0983650539170038,
          0.0765695548379051,
          0.1067868780547114,
          0.0939843871174179,
          0.0970906090662649,
          0.0542171216690441,
          0.0776402469728064,
          0.0163755243054187
         ]
        },
        {
         "name": "Liveness",
         "type": "scatter",
         "x": [
          2000,
          2001,
          2002,
          2003,
          2004,
          2005,
          2006,
          2007,
          2008,
          2009,
          2010,
          2011,
          2012,
          2013,
          2014,
          2015,
          2016,
          2017,
          2018,
          2019,
          2020
         ],
         "y": [
          0.1976860429447853,
          0.1870256359102248,
          0.1939111999999998,
          0.196976305015353,
          0.2021994404883014,
          0.1900816256410258,
          0.1882892820512821,
          0.1961265641025642,
          0.1984314066496162,
          0.2052522959183674,
          0.1997006448412699,
          0.2033088249876056,
          0.1897330077120824,
          0.1996308198380571,
          0.1918215960099752,
          0.1888564336372847,
          0.181169894268225,
          0.1917126004016064,
          0.1763255349500711,
          0.1726164186762446,
          0.1785354187192117
         ]
        },
        {
         "name": "Speechiness",
         "type": "scatter",
         "x": [
          2000,
          2001,
          2002,
          2003,
          2004,
          2005,
          2006,
          2007,
          2008,
          2009,
          2010,
          2011,
          2012,
          2013,
          2014,
          2015,
          2016,
          2017,
          2018,
          2019,
          2020
         ],
         "y": [
          0.0892054192229039,
          0.0891822942643391,
          0.0843075999999999,
          0.0939257420675538,
          0.0942388097660224,
          0.093333692307692,
          0.0858467692307692,
          0.0843473333333333,
          0.077356368286445,
          0.0854578061224489,
          0.0810314980158731,
          0.087479276152702,
          0.081742467866324,
          0.0938488866396761,
          0.0840605486284289,
          0.0967792299898684,
          0.1043132999443518,
          0.1105364959839356,
          0.1271755587256302,
          0.1210433555669573,
          0.1413836945812805
         ]
        }
       ],
       "layout": {
        "template": {
         "data": {
          "bar": [
           {
            "error_x": {
             "color": "#2a3f5f"
            },
            "error_y": {
             "color": "#2a3f5f"
            },
            "marker": {
             "line": {
              "color": "#E5ECF6",
              "width": 0.5
             },
             "pattern": {
              "fillmode": "overlay",
              "size": 10,
              "solidity": 0.2
             }
            },
            "type": "bar"
           }
          ],
          "barpolar": [
           {
            "marker": {
             "line": {
              "color": "#E5ECF6",
              "width": 0.5
             },
             "pattern": {
              "fillmode": "overlay",
              "size": 10,
              "solidity": 0.2
             }
            },
            "type": "barpolar"
           }
          ],
          "carpet": [
           {
            "aaxis": {
             "endlinecolor": "#2a3f5f",
             "gridcolor": "white",
             "linecolor": "white",
             "minorgridcolor": "white",
             "startlinecolor": "#2a3f5f"
            },
            "baxis": {
             "endlinecolor": "#2a3f5f",
             "gridcolor": "white",
             "linecolor": "white",
             "minorgridcolor": "white",
             "startlinecolor": "#2a3f5f"
            },
            "type": "carpet"
           }
          ],
          "choropleth": [
           {
            "colorbar": {
             "outlinewidth": 0,
             "ticks": ""
            },
            "type": "choropleth"
           }
          ],
          "contour": [
           {
            "colorbar": {
             "outlinewidth": 0,
             "ticks": ""
            },
            "colorscale": [
             [
              0,
              "#0d0887"
             ],
             [
              0.1111111111111111,
              "#46039f"
             ],
             [
              0.2222222222222222,
              "#7201a8"
             ],
             [
              0.3333333333333333,
              "#9c179e"
             ],
             [
              0.4444444444444444,
              "#bd3786"
             ],
             [
              0.5555555555555556,
              "#d8576b"
             ],
             [
              0.6666666666666666,
              "#ed7953"
             ],
             [
              0.7777777777777778,
              "#fb9f3a"
             ],
             [
              0.8888888888888888,
              "#fdca26"
             ],
             [
              1,
              "#f0f921"
             ]
            ],
            "type": "contour"
           }
          ],
          "contourcarpet": [
           {
            "colorbar": {
             "outlinewidth": 0,
             "ticks": ""
            },
            "type": "contourcarpet"
           }
          ],
          "heatmap": [
           {
            "colorbar": {
             "outlinewidth": 0,
             "ticks": ""
            },
            "colorscale": [
             [
              0,
              "#0d0887"
             ],
             [
              0.1111111111111111,
              "#46039f"
             ],
             [
              0.2222222222222222,
              "#7201a8"
             ],
             [
              0.3333333333333333,
              "#9c179e"
             ],
             [
              0.4444444444444444,
              "#bd3786"
             ],
             [
              0.5555555555555556,
              "#d8576b"
             ],
             [
              0.6666666666666666,
              "#ed7953"
             ],
             [
              0.7777777777777778,
              "#fb9f3a"
             ],
             [
              0.8888888888888888,
              "#fdca26"
             ],
             [
              1,
              "#f0f921"
             ]
            ],
            "type": "heatmap"
           }
          ],
          "heatmapgl": [
           {
            "colorbar": {
             "outlinewidth": 0,
             "ticks": ""
            },
            "colorscale": [
             [
              0,
              "#0d0887"
             ],
             [
              0.1111111111111111,
              "#46039f"
             ],
             [
              0.2222222222222222,
              "#7201a8"
             ],
             [
              0.3333333333333333,
              "#9c179e"
             ],
             [
              0.4444444444444444,
              "#bd3786"
             ],
             [
              0.5555555555555556,
              "#d8576b"
             ],
             [
              0.6666666666666666,
              "#ed7953"
             ],
             [
              0.7777777777777778,
              "#fb9f3a"
             ],
             [
              0.8888888888888888,
              "#fdca26"
             ],
             [
              1,
              "#f0f921"
             ]
            ],
            "type": "heatmapgl"
           }
          ],
          "histogram": [
           {
            "marker": {
             "pattern": {
              "fillmode": "overlay",
              "size": 10,
              "solidity": 0.2
             }
            },
            "type": "histogram"
           }
          ],
          "histogram2d": [
           {
            "colorbar": {
             "outlinewidth": 0,
             "ticks": ""
            },
            "colorscale": [
             [
              0,
              "#0d0887"
             ],
             [
              0.1111111111111111,
              "#46039f"
             ],
             [
              0.2222222222222222,
              "#7201a8"
             ],
             [
              0.3333333333333333,
              "#9c179e"
             ],
             [
              0.4444444444444444,
              "#bd3786"
             ],
             [
              0.5555555555555556,
              "#d8576b"
             ],
             [
              0.6666666666666666,
              "#ed7953"
             ],
             [
              0.7777777777777778,
              "#fb9f3a"
             ],
             [
              0.8888888888888888,
              "#fdca26"
             ],
             [
              1,
              "#f0f921"
             ]
            ],
            "type": "histogram2d"
           }
          ],
          "histogram2dcontour": [
           {
            "colorbar": {
             "outlinewidth": 0,
             "ticks": ""
            },
            "colorscale": [
             [
              0,
              "#0d0887"
             ],
             [
              0.1111111111111111,
              "#46039f"
             ],
             [
              0.2222222222222222,
              "#7201a8"
             ],
             [
              0.3333333333333333,
              "#9c179e"
             ],
             [
              0.4444444444444444,
              "#bd3786"
             ],
             [
              0.5555555555555556,
              "#d8576b"
             ],
             [
              0.6666666666666666,
              "#ed7953"
             ],
             [
              0.7777777777777778,
              "#fb9f3a"
             ],
             [
              0.8888888888888888,
              "#fdca26"
             ],
             [
              1,
              "#f0f921"
             ]
            ],
            "type": "histogram2dcontour"
           }
          ],
          "mesh3d": [
           {
            "colorbar": {
             "outlinewidth": 0,
             "ticks": ""
            },
            "type": "mesh3d"
           }
          ],
          "parcoords": [
           {
            "line": {
             "colorbar": {
              "outlinewidth": 0,
              "ticks": ""
             }
            },
            "type": "parcoords"
           }
          ],
          "pie": [
           {
            "automargin": true,
            "type": "pie"
           }
          ],
          "scatter": [
           {
            "fillpattern": {
             "fillmode": "overlay",
             "size": 10,
             "solidity": 0.2
            },
            "type": "scatter"
           }
          ],
          "scatter3d": [
           {
            "line": {
             "colorbar": {
              "outlinewidth": 0,
              "ticks": ""
             }
            },
            "marker": {
             "colorbar": {
              "outlinewidth": 0,
              "ticks": ""
             }
            },
            "type": "scatter3d"
           }
          ],
          "scattercarpet": [
           {
            "marker": {
             "colorbar": {
              "outlinewidth": 0,
              "ticks": ""
             }
            },
            "type": "scattercarpet"
           }
          ],
          "scattergeo": [
           {
            "marker": {
             "colorbar": {
              "outlinewidth": 0,
              "ticks": ""
             }
            },
            "type": "scattergeo"
           }
          ],
          "scattergl": [
           {
            "marker": {
             "colorbar": {
              "outlinewidth": 0,
              "ticks": ""
             }
            },
            "type": "scattergl"
           }
          ],
          "scattermapbox": [
           {
            "marker": {
             "colorbar": {
              "outlinewidth": 0,
              "ticks": ""
             }
            },
            "type": "scattermapbox"
           }
          ],
          "scatterpolar": [
           {
            "marker": {
             "colorbar": {
              "outlinewidth": 0,
              "ticks": ""
             }
            },
            "type": "scatterpolar"
           }
          ],
          "scatterpolargl": [
           {
            "marker": {
             "colorbar": {
              "outlinewidth": 0,
              "ticks": ""
             }
            },
            "type": "scatterpolargl"
           }
          ],
          "scatterternary": [
           {
            "marker": {
             "colorbar": {
              "outlinewidth": 0,
              "ticks": ""
             }
            },
            "type": "scatterternary"
           }
          ],
          "surface": [
           {
            "colorbar": {
             "outlinewidth": 0,
             "ticks": ""
            },
            "colorscale": [
             [
              0,
              "#0d0887"
             ],
             [
              0.1111111111111111,
              "#46039f"
             ],
             [
              0.2222222222222222,
              "#7201a8"
             ],
             [
              0.3333333333333333,
              "#9c179e"
             ],
             [
              0.4444444444444444,
              "#bd3786"
             ],
             [
              0.5555555555555556,
              "#d8576b"
             ],
             [
              0.6666666666666666,
              "#ed7953"
             ],
             [
              0.7777777777777778,
              "#fb9f3a"
             ],
             [
              0.8888888888888888,
              "#fdca26"
             ],
             [
              1,
              "#f0f921"
             ]
            ],
            "type": "surface"
           }
          ],
          "table": [
           {
            "cells": {
             "fill": {
              "color": "#EBF0F8"
             },
             "line": {
              "color": "white"
             }
            },
            "header": {
             "fill": {
              "color": "#C8D4E3"
             },
             "line": {
              "color": "white"
             }
            },
            "type": "table"
           }
          ]
         },
         "layout": {
          "annotationdefaults": {
           "arrowcolor": "#2a3f5f",
           "arrowhead": 0,
           "arrowwidth": 1
          },
          "autotypenumbers": "strict",
          "coloraxis": {
           "colorbar": {
            "outlinewidth": 0,
            "ticks": ""
           }
          },
          "colorscale": {
           "diverging": [
            [
             0,
             "#8e0152"
            ],
            [
             0.1,
             "#c51b7d"
            ],
            [
             0.2,
             "#de77ae"
            ],
            [
             0.3,
             "#f1b6da"
            ],
            [
             0.4,
             "#fde0ef"
            ],
            [
             0.5,
             "#f7f7f7"
            ],
            [
             0.6,
             "#e6f5d0"
            ],
            [
             0.7,
             "#b8e186"
            ],
            [
             0.8,
             "#7fbc41"
            ],
            [
             0.9,
             "#4d9221"
            ],
            [
             1,
             "#276419"
            ]
           ],
           "sequential": [
            [
             0,
             "#0d0887"
            ],
            [
             0.1111111111111111,
             "#46039f"
            ],
            [
             0.2222222222222222,
             "#7201a8"
            ],
            [
             0.3333333333333333,
             "#9c179e"
            ],
            [
             0.4444444444444444,
             "#bd3786"
            ],
            [
             0.5555555555555556,
             "#d8576b"
            ],
            [
             0.6666666666666666,
             "#ed7953"
            ],
            [
             0.7777777777777778,
             "#fb9f3a"
            ],
            [
             0.8888888888888888,
             "#fdca26"
            ],
            [
             1,
             "#f0f921"
            ]
           ],
           "sequentialminus": [
            [
             0,
             "#0d0887"
            ],
            [
             0.1111111111111111,
             "#46039f"
            ],
            [
             0.2222222222222222,
             "#7201a8"
            ],
            [
             0.3333333333333333,
             "#9c179e"
            ],
            [
             0.4444444444444444,
             "#bd3786"
            ],
            [
             0.5555555555555556,
             "#d8576b"
            ],
            [
             0.6666666666666666,
             "#ed7953"
            ],
            [
             0.7777777777777778,
             "#fb9f3a"
            ],
            [
             0.8888888888888888,
             "#fdca26"
            ],
            [
             1,
             "#f0f921"
            ]
           ]
          },
          "colorway": [
           "#636efa",
           "#EF553B",
           "#00cc96",
           "#ab63fa",
           "#FFA15A",
           "#19d3f3",
           "#FF6692",
           "#B6E880",
           "#FF97FF",
           "#FECB52"
          ],
          "font": {
           "color": "#2a3f5f"
          },
          "geo": {
           "bgcolor": "white",
           "lakecolor": "white",
           "landcolor": "#E5ECF6",
           "showlakes": true,
           "showland": true,
           "subunitcolor": "white"
          },
          "hoverlabel": {
           "align": "left"
          },
          "hovermode": "closest",
          "mapbox": {
           "style": "light"
          },
          "paper_bgcolor": "white",
          "plot_bgcolor": "#E5ECF6",
          "polar": {
           "angularaxis": {
            "gridcolor": "white",
            "linecolor": "white",
            "ticks": ""
           },
           "bgcolor": "#E5ECF6",
           "radialaxis": {
            "gridcolor": "white",
            "linecolor": "white",
            "ticks": ""
           }
          },
          "scene": {
           "xaxis": {
            "backgroundcolor": "#E5ECF6",
            "gridcolor": "white",
            "gridwidth": 2,
            "linecolor": "white",
            "showbackground": true,
            "ticks": "",
            "zerolinecolor": "white"
           },
           "yaxis": {
            "backgroundcolor": "#E5ECF6",
            "gridcolor": "white",
            "gridwidth": 2,
            "linecolor": "white",
            "showbackground": true,
            "ticks": "",
            "zerolinecolor": "white"
           },
           "zaxis": {
            "backgroundcolor": "#E5ECF6",
            "gridcolor": "white",
            "gridwidth": 2,
            "linecolor": "white",
            "showbackground": true,
            "ticks": "",
            "zerolinecolor": "white"
           }
          },
          "shapedefaults": {
           "line": {
            "color": "#2a3f5f"
           }
          },
          "ternary": {
           "aaxis": {
            "gridcolor": "white",
            "linecolor": "white",
            "ticks": ""
           },
           "baxis": {
            "gridcolor": "white",
            "linecolor": "white",
            "ticks": ""
           },
           "bgcolor": "#E5ECF6",
           "caxis": {
            "gridcolor": "white",
            "linecolor": "white",
            "ticks": ""
           }
          },
          "title": {
           "x": 0.05
          },
          "xaxis": {
           "automargin": true,
           "gridcolor": "white",
           "linecolor": "white",
           "ticks": "",
           "title": {
            "standoff": 15
           },
           "zerolinecolor": "white",
           "zerolinewidth": 2
          },
          "yaxis": {
           "automargin": true,
           "gridcolor": "white",
           "linecolor": "white",
           "ticks": "",
           "title": {
            "standoff": 15
           },
           "zerolinecolor": "white",
           "zerolinewidth": 2
          }
         }
        }
       }
      }
     },
     "metadata": {},
     "output_type": "display_data"
    }
   ],
   "source": [
    "fig = go.Figure()\n",
    "\n",
    "fig.add_trace(go.Scatter(x=df_anos['year'], y=df_anos['acousticness'], name='Acousticness'))\n",
    "fig.add_trace(go.Scatter(x=df_anos['year'], y=df_anos['valence'], name='Valence'))\n",
    "fig.add_trace(go.Scatter(x=df_anos['year'], y=df_anos['danceability'], name='Danceability'))\n",
    "fig.add_trace(go.Scatter(x=df_anos['year'], y=df_anos['energy'], name='Energy'))\n",
    "fig.add_trace(go.Scatter(x=df_anos['year'], y=df_anos['instrumentalness'], name='Instrumentalness'))\n",
    "fig.add_trace(go.Scatter(x=df_anos['year'], y=df_anos['liveness'], name='Liveness'))\n",
    "fig.add_trace(go.Scatter(x=df_anos['year'], y=df_anos['speechiness'], name='Speechiness'))\n",
    "\n",
    "fig.show()"
   ]
  },
  {
   "cell_type": "code",
   "execution_count": 21,
   "metadata": {},
   "outputs": [
    {
     "data": {
      "application/vnd.plotly.v1+json": {
       "config": {
        "plotlyServerURL": "https://plot.ly"
       },
       "data": [
        {
         "coloraxis": "coloraxis",
         "hovertemplate": "x: %{x}<br>y: %{y}<br>color: %{z}<extra></extra>",
         "name": "0",
         "texttemplate": "%{z}",
         "type": "heatmap",
         "x": [
          "valence",
          "year",
          "acousticness",
          "danceability",
          "duration_ms",
          "energy",
          "instrumentalness",
          "liveness",
          "loudness",
          "popularity",
          "speechiness",
          "tempo"
         ],
         "xaxis": "x",
         "y": [
          "valence",
          "year",
          "acousticness",
          "danceability",
          "duration_ms",
          "energy",
          "instrumentalness",
          "liveness",
          "loudness",
          "popularity",
          "speechiness",
          "tempo"
         ],
         "yaxis": "y",
         "z": [
          [
           1,
           -0.11152818996552269,
           -0.17906507578880113,
           0.4706016928505381,
           -0.19255117869290994,
           0.35029199798428345,
           -0.2557841048653347,
           0.02221366049722543,
           0.3378977669900986,
           -0.02666406634639214,
           0.08252614933102408,
           0.07315334866798318
          ],
          [
           -0.11152818996552269,
           1,
           -0.011224012558530316,
           0.17440028973064198,
           -0.14627395555186518,
           -0.06995658525945365,
           -0.13203456252176587,
           -0.04295002368784964,
           0.052483197651396335,
           0.5520537744643068,
           0.12405143773766447,
           0.02311722172289499
          ],
          [
           -0.17906507578880113,
           -0.011224012558530316,
           1,
           -0.1758942916516538,
           -0.05596681465486787,
           -0.7091107964699702,
           0.29973973152822125,
           -0.09844289738151028,
           -0.6036127005064934,
           -0.03187901141421101,
           -0.12082482277726948,
           -0.15474122793050457
          ],
          [
           0.4706016928505381,
           0.17440028973064198,
           -0.1758942916516538,
           1,
           -0.15971497774585897,
           0.08735820678113757,
           -0.3142998559030547,
           -0.0696597044523255,
           0.2679343205070181,
           0.1809607849711362,
           0.2267015756782655,
           -0.09486499562608043
          ],
          [
           -0.19255117869290994,
           -0.14627395555186518,
           -0.05596681465486787,
           -0.15971497774585897,
           1,
           0.014565108670534132,
           0.07164598789913075,
           0.052743206410793615,
           -0.017003038059048684,
           -0.10932110003241752,
           -0.02851359221465405,
           -0.028602148844984
          ],
          [
           0.35029199798428345,
           -0.06995658525945365,
           -0.7091107964699702,
           0.08735820678113757,
           0.014565108670534132,
           1,
           -0.3164682501295295,
           0.17387777376175623,
           0.7595724242928918,
           -0.028459539491050623,
           0.11401773090551177,
           0.1916455676981815
          ],
          [
           -0.2557841048653347,
           -0.13203456252176587,
           0.29973973152822125,
           -0.3142998559030547,
           0.07164598789913075,
           -0.3164682501295295,
           1,
           -0.06234712806061889,
           -0.5588938236531733,
           -0.12504620012490858,
           -0.1371187140191706,
           -0.09444020881622293
          ],
          [
           0.02221366049722543,
           -0.04295002368784964,
           -0.09844289738151028,
           -0.0696597044523255,
           0.052743206410793615,
           0.17387777376175623,
           -0.06234712806061889,
           1,
           0.09144172661855732,
           -0.06860593075406679,
           0.11955070410710385,
           0.014857567069808593
          ],
          [
           0.3378977669900986,
           0.052483197651396335,
           -0.6036127005064934,
           0.2679343205070181,
           -0.017003038059048684,
           0.7595724242928918,
           -0.5588938236531733,
           0.09144172661855732,
           1,
           0.09292468076617552,
           0.07902873344113712,
           0.18045939002871472
          ],
          [
           -0.02666406634639214,
           0.5520537744643068,
           -0.03187901141421101,
           0.1809607849711362,
           -0.10932110003241752,
           -0.028459539491050623,
           -0.12504620012490858,
           -0.06860593075406679,
           0.09292468076617552,
           1,
           0.057125553208252515,
           -0.00033755419876421543
          ],
          [
           0.08252614933102408,
           0.12405143773766447,
           -0.12082482277726948,
           0.2267015756782655,
           -0.02851359221465405,
           0.11401773090551177,
           -0.1371187140191706,
           0.11955070410710385,
           0.07902873344113712,
           0.057125553208252515,
           1,
           0.04062153175888837
          ],
          [
           0.07315334866798318,
           0.02311722172289499,
           -0.15474122793050457,
           -0.09486499562608043,
           -0.028602148844984,
           0.1916455676981815,
           -0.09444020881622293,
           0.014857567069808593,
           0.18045939002871472,
           -0.00033755419876421543,
           0.04062153175888837,
           1
          ]
         ]
        }
       ],
       "layout": {
        "coloraxis": {
         "colorscale": [
          [
           0,
           "#0d0887"
          ],
          [
           0.1111111111111111,
           "#46039f"
          ],
          [
           0.2222222222222222,
           "#7201a8"
          ],
          [
           0.3333333333333333,
           "#9c179e"
          ],
          [
           0.4444444444444444,
           "#bd3786"
          ],
          [
           0.5555555555555556,
           "#d8576b"
          ],
          [
           0.6666666666666666,
           "#ed7953"
          ],
          [
           0.7777777777777778,
           "#fb9f3a"
          ],
          [
           0.8888888888888888,
           "#fdca26"
          ],
          [
           1,
           "#f0f921"
          ]
         ]
        },
        "margin": {
         "t": 60
        },
        "template": {
         "data": {
          "bar": [
           {
            "error_x": {
             "color": "#2a3f5f"
            },
            "error_y": {
             "color": "#2a3f5f"
            },
            "marker": {
             "line": {
              "color": "#E5ECF6",
              "width": 0.5
             },
             "pattern": {
              "fillmode": "overlay",
              "size": 10,
              "solidity": 0.2
             }
            },
            "type": "bar"
           }
          ],
          "barpolar": [
           {
            "marker": {
             "line": {
              "color": "#E5ECF6",
              "width": 0.5
             },
             "pattern": {
              "fillmode": "overlay",
              "size": 10,
              "solidity": 0.2
             }
            },
            "type": "barpolar"
           }
          ],
          "carpet": [
           {
            "aaxis": {
             "endlinecolor": "#2a3f5f",
             "gridcolor": "white",
             "linecolor": "white",
             "minorgridcolor": "white",
             "startlinecolor": "#2a3f5f"
            },
            "baxis": {
             "endlinecolor": "#2a3f5f",
             "gridcolor": "white",
             "linecolor": "white",
             "minorgridcolor": "white",
             "startlinecolor": "#2a3f5f"
            },
            "type": "carpet"
           }
          ],
          "choropleth": [
           {
            "colorbar": {
             "outlinewidth": 0,
             "ticks": ""
            },
            "type": "choropleth"
           }
          ],
          "contour": [
           {
            "colorbar": {
             "outlinewidth": 0,
             "ticks": ""
            },
            "colorscale": [
             [
              0,
              "#0d0887"
             ],
             [
              0.1111111111111111,
              "#46039f"
             ],
             [
              0.2222222222222222,
              "#7201a8"
             ],
             [
              0.3333333333333333,
              "#9c179e"
             ],
             [
              0.4444444444444444,
              "#bd3786"
             ],
             [
              0.5555555555555556,
              "#d8576b"
             ],
             [
              0.6666666666666666,
              "#ed7953"
             ],
             [
              0.7777777777777778,
              "#fb9f3a"
             ],
             [
              0.8888888888888888,
              "#fdca26"
             ],
             [
              1,
              "#f0f921"
             ]
            ],
            "type": "contour"
           }
          ],
          "contourcarpet": [
           {
            "colorbar": {
             "outlinewidth": 0,
             "ticks": ""
            },
            "type": "contourcarpet"
           }
          ],
          "heatmap": [
           {
            "colorbar": {
             "outlinewidth": 0,
             "ticks": ""
            },
            "colorscale": [
             [
              0,
              "#0d0887"
             ],
             [
              0.1111111111111111,
              "#46039f"
             ],
             [
              0.2222222222222222,
              "#7201a8"
             ],
             [
              0.3333333333333333,
              "#9c179e"
             ],
             [
              0.4444444444444444,
              "#bd3786"
             ],
             [
              0.5555555555555556,
              "#d8576b"
             ],
             [
              0.6666666666666666,
              "#ed7953"
             ],
             [
              0.7777777777777778,
              "#fb9f3a"
             ],
             [
              0.8888888888888888,
              "#fdca26"
             ],
             [
              1,
              "#f0f921"
             ]
            ],
            "type": "heatmap"
           }
          ],
          "heatmapgl": [
           {
            "colorbar": {
             "outlinewidth": 0,
             "ticks": ""
            },
            "colorscale": [
             [
              0,
              "#0d0887"
             ],
             [
              0.1111111111111111,
              "#46039f"
             ],
             [
              0.2222222222222222,
              "#7201a8"
             ],
             [
              0.3333333333333333,
              "#9c179e"
             ],
             [
              0.4444444444444444,
              "#bd3786"
             ],
             [
              0.5555555555555556,
              "#d8576b"
             ],
             [
              0.6666666666666666,
              "#ed7953"
             ],
             [
              0.7777777777777778,
              "#fb9f3a"
             ],
             [
              0.8888888888888888,
              "#fdca26"
             ],
             [
              1,
              "#f0f921"
             ]
            ],
            "type": "heatmapgl"
           }
          ],
          "histogram": [
           {
            "marker": {
             "pattern": {
              "fillmode": "overlay",
              "size": 10,
              "solidity": 0.2
             }
            },
            "type": "histogram"
           }
          ],
          "histogram2d": [
           {
            "colorbar": {
             "outlinewidth": 0,
             "ticks": ""
            },
            "colorscale": [
             [
              0,
              "#0d0887"
             ],
             [
              0.1111111111111111,
              "#46039f"
             ],
             [
              0.2222222222222222,
              "#7201a8"
             ],
             [
              0.3333333333333333,
              "#9c179e"
             ],
             [
              0.4444444444444444,
              "#bd3786"
             ],
             [
              0.5555555555555556,
              "#d8576b"
             ],
             [
              0.6666666666666666,
              "#ed7953"
             ],
             [
              0.7777777777777778,
              "#fb9f3a"
             ],
             [
              0.8888888888888888,
              "#fdca26"
             ],
             [
              1,
              "#f0f921"
             ]
            ],
            "type": "histogram2d"
           }
          ],
          "histogram2dcontour": [
           {
            "colorbar": {
             "outlinewidth": 0,
             "ticks": ""
            },
            "colorscale": [
             [
              0,
              "#0d0887"
             ],
             [
              0.1111111111111111,
              "#46039f"
             ],
             [
              0.2222222222222222,
              "#7201a8"
             ],
             [
              0.3333333333333333,
              "#9c179e"
             ],
             [
              0.4444444444444444,
              "#bd3786"
             ],
             [
              0.5555555555555556,
              "#d8576b"
             ],
             [
              0.6666666666666666,
              "#ed7953"
             ],
             [
              0.7777777777777778,
              "#fb9f3a"
             ],
             [
              0.8888888888888888,
              "#fdca26"
             ],
             [
              1,
              "#f0f921"
             ]
            ],
            "type": "histogram2dcontour"
           }
          ],
          "mesh3d": [
           {
            "colorbar": {
             "outlinewidth": 0,
             "ticks": ""
            },
            "type": "mesh3d"
           }
          ],
          "parcoords": [
           {
            "line": {
             "colorbar": {
              "outlinewidth": 0,
              "ticks": ""
             }
            },
            "type": "parcoords"
           }
          ],
          "pie": [
           {
            "automargin": true,
            "type": "pie"
           }
          ],
          "scatter": [
           {
            "fillpattern": {
             "fillmode": "overlay",
             "size": 10,
             "solidity": 0.2
            },
            "type": "scatter"
           }
          ],
          "scatter3d": [
           {
            "line": {
             "colorbar": {
              "outlinewidth": 0,
              "ticks": ""
             }
            },
            "marker": {
             "colorbar": {
              "outlinewidth": 0,
              "ticks": ""
             }
            },
            "type": "scatter3d"
           }
          ],
          "scattercarpet": [
           {
            "marker": {
             "colorbar": {
              "outlinewidth": 0,
              "ticks": ""
             }
            },
            "type": "scattercarpet"
           }
          ],
          "scattergeo": [
           {
            "marker": {
             "colorbar": {
              "outlinewidth": 0,
              "ticks": ""
             }
            },
            "type": "scattergeo"
           }
          ],
          "scattergl": [
           {
            "marker": {
             "colorbar": {
              "outlinewidth": 0,
              "ticks": ""
             }
            },
            "type": "scattergl"
           }
          ],
          "scattermapbox": [
           {
            "marker": {
             "colorbar": {
              "outlinewidth": 0,
              "ticks": ""
             }
            },
            "type": "scattermapbox"
           }
          ],
          "scatterpolar": [
           {
            "marker": {
             "colorbar": {
              "outlinewidth": 0,
              "ticks": ""
             }
            },
            "type": "scatterpolar"
           }
          ],
          "scatterpolargl": [
           {
            "marker": {
             "colorbar": {
              "outlinewidth": 0,
              "ticks": ""
             }
            },
            "type": "scatterpolargl"
           }
          ],
          "scatterternary": [
           {
            "marker": {
             "colorbar": {
              "outlinewidth": 0,
              "ticks": ""
             }
            },
            "type": "scatterternary"
           }
          ],
          "surface": [
           {
            "colorbar": {
             "outlinewidth": 0,
             "ticks": ""
            },
            "colorscale": [
             [
              0,
              "#0d0887"
             ],
             [
              0.1111111111111111,
              "#46039f"
             ],
             [
              0.2222222222222222,
              "#7201a8"
             ],
             [
              0.3333333333333333,
              "#9c179e"
             ],
             [
              0.4444444444444444,
              "#bd3786"
             ],
             [
              0.5555555555555556,
              "#d8576b"
             ],
             [
              0.6666666666666666,
              "#ed7953"
             ],
             [
              0.7777777777777778,
              "#fb9f3a"
             ],
             [
              0.8888888888888888,
              "#fdca26"
             ],
             [
              1,
              "#f0f921"
             ]
            ],
            "type": "surface"
           }
          ],
          "table": [
           {
            "cells": {
             "fill": {
              "color": "#EBF0F8"
             },
             "line": {
              "color": "white"
             }
            },
            "header": {
             "fill": {
              "color": "#C8D4E3"
             },
             "line": {
              "color": "white"
             }
            },
            "type": "table"
           }
          ]
         },
         "layout": {
          "annotationdefaults": {
           "arrowcolor": "#2a3f5f",
           "arrowhead": 0,
           "arrowwidth": 1
          },
          "autotypenumbers": "strict",
          "coloraxis": {
           "colorbar": {
            "outlinewidth": 0,
            "ticks": ""
           }
          },
          "colorscale": {
           "diverging": [
            [
             0,
             "#8e0152"
            ],
            [
             0.1,
             "#c51b7d"
            ],
            [
             0.2,
             "#de77ae"
            ],
            [
             0.3,
             "#f1b6da"
            ],
            [
             0.4,
             "#fde0ef"
            ],
            [
             0.5,
             "#f7f7f7"
            ],
            [
             0.6,
             "#e6f5d0"
            ],
            [
             0.7,
             "#b8e186"
            ],
            [
             0.8,
             "#7fbc41"
            ],
            [
             0.9,
             "#4d9221"
            ],
            [
             1,
             "#276419"
            ]
           ],
           "sequential": [
            [
             0,
             "#0d0887"
            ],
            [
             0.1111111111111111,
             "#46039f"
            ],
            [
             0.2222222222222222,
             "#7201a8"
            ],
            [
             0.3333333333333333,
             "#9c179e"
            ],
            [
             0.4444444444444444,
             "#bd3786"
            ],
            [
             0.5555555555555556,
             "#d8576b"
            ],
            [
             0.6666666666666666,
             "#ed7953"
            ],
            [
             0.7777777777777778,
             "#fb9f3a"
            ],
            [
             0.8888888888888888,
             "#fdca26"
            ],
            [
             1,
             "#f0f921"
            ]
           ],
           "sequentialminus": [
            [
             0,
             "#0d0887"
            ],
            [
             0.1111111111111111,
             "#46039f"
            ],
            [
             0.2222222222222222,
             "#7201a8"
            ],
            [
             0.3333333333333333,
             "#9c179e"
            ],
            [
             0.4444444444444444,
             "#bd3786"
            ],
            [
             0.5555555555555556,
             "#d8576b"
            ],
            [
             0.6666666666666666,
             "#ed7953"
            ],
            [
             0.7777777777777778,
             "#fb9f3a"
            ],
            [
             0.8888888888888888,
             "#fdca26"
            ],
            [
             1,
             "#f0f921"
            ]
           ]
          },
          "colorway": [
           "#636efa",
           "#EF553B",
           "#00cc96",
           "#ab63fa",
           "#FFA15A",
           "#19d3f3",
           "#FF6692",
           "#B6E880",
           "#FF97FF",
           "#FECB52"
          ],
          "font": {
           "color": "#2a3f5f"
          },
          "geo": {
           "bgcolor": "white",
           "lakecolor": "white",
           "landcolor": "#E5ECF6",
           "showlakes": true,
           "showland": true,
           "subunitcolor": "white"
          },
          "hoverlabel": {
           "align": "left"
          },
          "hovermode": "closest",
          "mapbox": {
           "style": "light"
          },
          "paper_bgcolor": "white",
          "plot_bgcolor": "#E5ECF6",
          "polar": {
           "angularaxis": {
            "gridcolor": "white",
            "linecolor": "white",
            "ticks": ""
           },
           "bgcolor": "#E5ECF6",
           "radialaxis": {
            "gridcolor": "white",
            "linecolor": "white",
            "ticks": ""
           }
          },
          "scene": {
           "xaxis": {
            "backgroundcolor": "#E5ECF6",
            "gridcolor": "white",
            "gridwidth": 2,
            "linecolor": "white",
            "showbackground": true,
            "ticks": "",
            "zerolinecolor": "white"
           },
           "yaxis": {
            "backgroundcolor": "#E5ECF6",
            "gridcolor": "white",
            "gridwidth": 2,
            "linecolor": "white",
            "showbackground": true,
            "ticks": "",
            "zerolinecolor": "white"
           },
           "zaxis": {
            "backgroundcolor": "#E5ECF6",
            "gridcolor": "white",
            "gridwidth": 2,
            "linecolor": "white",
            "showbackground": true,
            "ticks": "",
            "zerolinecolor": "white"
           }
          },
          "shapedefaults": {
           "line": {
            "color": "#2a3f5f"
           }
          },
          "ternary": {
           "aaxis": {
            "gridcolor": "white",
            "linecolor": "white",
            "ticks": ""
           },
           "baxis": {
            "gridcolor": "white",
            "linecolor": "white",
            "ticks": ""
           },
           "bgcolor": "#E5ECF6",
           "caxis": {
            "gridcolor": "white",
            "linecolor": "white",
            "ticks": ""
           }
          },
          "title": {
           "x": 0.05
          },
          "xaxis": {
           "automargin": true,
           "gridcolor": "white",
           "linecolor": "white",
           "ticks": "",
           "title": {
            "standoff": 15
           },
           "zerolinecolor": "white",
           "zerolinewidth": 2
          },
          "yaxis": {
           "automargin": true,
           "gridcolor": "white",
           "linecolor": "white",
           "ticks": "",
           "title": {
            "standoff": 15
           },
           "zerolinecolor": "white",
           "zerolinewidth": 2
          }
         }
        },
        "xaxis": {
         "anchor": "y",
         "constrain": "domain",
         "domain": [
          0,
          1
         ],
         "scaleanchor": "y"
        },
        "yaxis": {
         "anchor": "x",
         "autorange": "reversed",
         "constrain": "domain",
         "domain": [
          0,
          1
         ]
        }
       }
      }
     },
     "metadata": {},
     "output_type": "display_data"
    }
   ],
   "source": [
    "fig = px.imshow(df_dados.corr(), text_auto=True)\n",
    "fig.show()"
   ]
  },
  {
   "cell_type": "markdown",
   "metadata": {},
   "source": [
    "# Preparação dos Dados"
   ]
  },
  {
   "cell_type": "markdown",
   "metadata": {},
   "source": [
    "## Pipeline Generos"
   ]
  },
  {
   "cell_type": "markdown",
   "metadata": {},
   "source": [
    "Aplicando StandardScaler e PCA usando Pipeline"
   ]
  },
  {
   "cell_type": "code",
   "execution_count": 31,
   "metadata": {},
   "outputs": [
    {
     "data": {
      "text/plain": [
       "(2973, 13)"
      ]
     },
     "execution_count": 31,
     "metadata": {},
     "output_type": "execute_result"
    }
   ],
   "source": [
    "df_generos.shape"
   ]
  },
  {
   "cell_type": "code",
   "execution_count": 22,
   "metadata": {},
   "outputs": [],
   "source": [
    "SEED = 1234\n",
    "pca_pipeline_generos = Pipeline([\n",
    "    ('scaler', StandardScaler()), \n",
    "    ('PCA', PCA(n_components=2, random_state=SEED))])"
   ]
  },
  {
   "cell_type": "code",
   "execution_count": 23,
   "metadata": {},
   "outputs": [
    {
     "data": {
      "text/html": [
       "<div>\n",
       "<style scoped>\n",
       "    .dataframe tbody tr th:only-of-type {\n",
       "        vertical-align: middle;\n",
       "    }\n",
       "\n",
       "    .dataframe tbody tr th {\n",
       "        vertical-align: top;\n",
       "    }\n",
       "\n",
       "    .dataframe thead th {\n",
       "        text-align: right;\n",
       "    }\n",
       "</style>\n",
       "<table border=\"1\" class=\"dataframe\">\n",
       "  <thead>\n",
       "    <tr style=\"text-align: right;\">\n",
       "      <th></th>\n",
       "      <th>acousticness</th>\n",
       "      <th>danceability</th>\n",
       "      <th>duration_ms</th>\n",
       "      <th>energy</th>\n",
       "      <th>instrumentalness</th>\n",
       "      <th>liveness</th>\n",
       "      <th>loudness</th>\n",
       "      <th>speechiness</th>\n",
       "      <th>tempo</th>\n",
       "      <th>valence</th>\n",
       "      <th>popularity</th>\n",
       "    </tr>\n",
       "  </thead>\n",
       "  <tbody>\n",
       "    <tr>\n",
       "      <th>0</th>\n",
       "      <td>0.979333</td>\n",
       "      <td>0.162883</td>\n",
       "      <td>1.602977e+05</td>\n",
       "      <td>0.071317</td>\n",
       "      <td>0.606834</td>\n",
       "      <td>0.361600</td>\n",
       "      <td>-31.514333</td>\n",
       "      <td>0.040567</td>\n",
       "      <td>75.336500</td>\n",
       "      <td>0.103783</td>\n",
       "      <td>27.833333</td>\n",
       "    </tr>\n",
       "    <tr>\n",
       "      <th>1</th>\n",
       "      <td>0.494780</td>\n",
       "      <td>0.299333</td>\n",
       "      <td>1.048887e+06</td>\n",
       "      <td>0.450678</td>\n",
       "      <td>0.477762</td>\n",
       "      <td>0.131000</td>\n",
       "      <td>-16.854000</td>\n",
       "      <td>0.076817</td>\n",
       "      <td>120.285667</td>\n",
       "      <td>0.221750</td>\n",
       "      <td>52.500000</td>\n",
       "    </tr>\n",
       "    <tr>\n",
       "      <th>2</th>\n",
       "      <td>0.762000</td>\n",
       "      <td>0.712000</td>\n",
       "      <td>1.151770e+05</td>\n",
       "      <td>0.818000</td>\n",
       "      <td>0.876000</td>\n",
       "      <td>0.126000</td>\n",
       "      <td>-9.180000</td>\n",
       "      <td>0.047000</td>\n",
       "      <td>133.444000</td>\n",
       "      <td>0.975000</td>\n",
       "      <td>48.000000</td>\n",
       "    </tr>\n",
       "    <tr>\n",
       "      <th>3</th>\n",
       "      <td>0.651417</td>\n",
       "      <td>0.529093</td>\n",
       "      <td>2.328809e+05</td>\n",
       "      <td>0.419146</td>\n",
       "      <td>0.205309</td>\n",
       "      <td>0.218696</td>\n",
       "      <td>-12.288965</td>\n",
       "      <td>0.107872</td>\n",
       "      <td>112.857352</td>\n",
       "      <td>0.513604</td>\n",
       "      <td>20.859882</td>\n",
       "    </tr>\n",
       "    <tr>\n",
       "      <th>4</th>\n",
       "      <td>0.676557</td>\n",
       "      <td>0.538961</td>\n",
       "      <td>1.906285e+05</td>\n",
       "      <td>0.316434</td>\n",
       "      <td>0.003003</td>\n",
       "      <td>0.172254</td>\n",
       "      <td>-12.479387</td>\n",
       "      <td>0.082851</td>\n",
       "      <td>112.110362</td>\n",
       "      <td>0.448249</td>\n",
       "      <td>45.820071</td>\n",
       "    </tr>\n",
       "  </tbody>\n",
       "</table>\n",
       "</div>"
      ],
      "text/plain": [
       "   acousticness  danceability   duration_ms    energy  instrumentalness  \\\n",
       "0      0.979333      0.162883  1.602977e+05  0.071317          0.606834   \n",
       "1      0.494780      0.299333  1.048887e+06  0.450678          0.477762   \n",
       "2      0.762000      0.712000  1.151770e+05  0.818000          0.876000   \n",
       "3      0.651417      0.529093  2.328809e+05  0.419146          0.205309   \n",
       "4      0.676557      0.538961  1.906285e+05  0.316434          0.003003   \n",
       "\n",
       "   liveness   loudness  speechiness       tempo   valence  popularity  \n",
       "0  0.361600 -31.514333     0.040567   75.336500  0.103783   27.833333  \n",
       "1  0.131000 -16.854000     0.076817  120.285667  0.221750   52.500000  \n",
       "2  0.126000  -9.180000     0.047000  133.444000  0.975000   48.000000  \n",
       "3  0.218696 -12.288965     0.107872  112.857352  0.513604   20.859882  \n",
       "4  0.172254 -12.479387     0.082851  112.110362  0.448249   45.820071  "
      ]
     },
     "execution_count": 23,
     "metadata": {},
     "output_type": "execute_result"
    }
   ],
   "source": [
    "df_generos2 = df_generos.drop('genres', axis=1)\n",
    "df_generos2.head()"
   ]
  },
  {
   "cell_type": "code",
   "execution_count": 24,
   "metadata": {},
   "outputs": [
    {
     "data": {
      "text/html": [
       "<div>\n",
       "<style scoped>\n",
       "    .dataframe tbody tr th:only-of-type {\n",
       "        vertical-align: middle;\n",
       "    }\n",
       "\n",
       "    .dataframe tbody tr th {\n",
       "        vertical-align: top;\n",
       "    }\n",
       "\n",
       "    .dataframe thead th {\n",
       "        text-align: right;\n",
       "    }\n",
       "</style>\n",
       "<table border=\"1\" class=\"dataframe\">\n",
       "  <thead>\n",
       "    <tr style=\"text-align: right;\">\n",
       "      <th></th>\n",
       "      <th>x</th>\n",
       "      <th>y</th>\n",
       "    </tr>\n",
       "  </thead>\n",
       "  <tbody>\n",
       "    <tr>\n",
       "      <th>0</th>\n",
       "      <td>5.910268</td>\n",
       "      <td>-0.011146</td>\n",
       "    </tr>\n",
       "    <tr>\n",
       "      <th>1</th>\n",
       "      <td>2.787093</td>\n",
       "      <td>4.498483</td>\n",
       "    </tr>\n",
       "    <tr>\n",
       "      <th>2</th>\n",
       "      <td>-0.757538</td>\n",
       "      <td>-1.258495</td>\n",
       "    </tr>\n",
       "    <tr>\n",
       "      <th>3</th>\n",
       "      <td>1.020521</td>\n",
       "      <td>-0.931690</td>\n",
       "    </tr>\n",
       "    <tr>\n",
       "      <th>4</th>\n",
       "      <td>0.753911</td>\n",
       "      <td>-0.999861</td>\n",
       "    </tr>\n",
       "  </tbody>\n",
       "</table>\n",
       "</div>"
      ],
      "text/plain": [
       "          x         y\n",
       "0  5.910268 -0.011146\n",
       "1  2.787093  4.498483\n",
       "2 -0.757538 -1.258495\n",
       "3  1.020521 -0.931690\n",
       "4  0.753911 -0.999861"
      ]
     },
     "execution_count": 24,
     "metadata": {},
     "output_type": "execute_result"
    }
   ],
   "source": [
    "generos_embedding_pca = pca_pipeline_generos.fit_transform(df_generos2)\n",
    "projecao = pd.DataFrame(generos_embedding_pca, columns=['x', 'y'])\n",
    "projecao.head()"
   ]
  },
  {
   "cell_type": "markdown",
   "metadata": {},
   "source": [
    "Explicabilidade das features pelo PCA."
   ]
  },
  {
   "cell_type": "code",
   "execution_count": null,
   "metadata": {},
   "outputs": [
    {
     "data": {
      "text/plain": [
       "0.4927066994726641"
      ]
     },
     "metadata": {},
     "output_type": "display_data"
    }
   ],
   "source": [
    "pca_pipeline_generos[1].explained_variance_ratio_.sum()"
   ]
  },
  {
   "cell_type": "code",
   "execution_count": null,
   "metadata": {},
   "outputs": [
    {
     "data": {
      "text/plain": [
       "5.421597305805697"
      ]
     },
     "metadata": {},
     "output_type": "display_data"
    }
   ],
   "source": [
    "pca_pipeline_generos[1].explained_variance_.sum()"
   ]
  },
  {
   "cell_type": "markdown",
   "metadata": {},
   "source": [
    "## Pipeline Músicas"
   ]
  },
  {
   "cell_type": "markdown",
   "metadata": {},
   "source": [
    "OnHotEncode"
   ]
  },
  {
   "cell_type": "code",
   "execution_count": 38,
   "metadata": {},
   "outputs": [
    {
     "data": {
      "text/html": [
       "<div>\n",
       "<style scoped>\n",
       "    .dataframe tbody tr th:only-of-type {\n",
       "        vertical-align: middle;\n",
       "    }\n",
       "\n",
       "    .dataframe tbody tr th {\n",
       "        vertical-align: top;\n",
       "    }\n",
       "\n",
       "    .dataframe thead th {\n",
       "        text-align: right;\n",
       "    }\n",
       "</style>\n",
       "<table border=\"1\" class=\"dataframe\">\n",
       "  <thead>\n",
       "    <tr style=\"text-align: right;\">\n",
       "      <th></th>\n",
       "      <th>valence</th>\n",
       "      <th>year</th>\n",
       "      <th>acousticness</th>\n",
       "      <th>danceability</th>\n",
       "      <th>duration_ms</th>\n",
       "      <th>energy</th>\n",
       "      <th>id</th>\n",
       "      <th>instrumentalness</th>\n",
       "      <th>liveness</th>\n",
       "      <th>loudness</th>\n",
       "      <th>...</th>\n",
       "      <th>artists_Zara Larsson</th>\n",
       "      <th>artists_Zedd</th>\n",
       "      <th>artists_alt-J</th>\n",
       "      <th>artists_blackbear</th>\n",
       "      <th>artists_blink-182</th>\n",
       "      <th>artists_deadmau5</th>\n",
       "      <th>artists_for KING &amp; COUNTRY</th>\n",
       "      <th>artists_fun.</th>\n",
       "      <th>artists_girl in red</th>\n",
       "      <th>artists_iann dior</th>\n",
       "    </tr>\n",
       "  </thead>\n",
       "  <tbody>\n",
       "    <tr>\n",
       "      <th>0</th>\n",
       "      <td>0.285</td>\n",
       "      <td>2000</td>\n",
       "      <td>0.00239</td>\n",
       "      <td>0.429</td>\n",
       "      <td>266773</td>\n",
       "      <td>0.661</td>\n",
       "      <td>3AJwUDP919kvQ9QcozQPxg</td>\n",
       "      <td>0.000121</td>\n",
       "      <td>0.2340</td>\n",
       "      <td>-7.227</td>\n",
       "      <td>...</td>\n",
       "      <td>0</td>\n",
       "      <td>0</td>\n",
       "      <td>0</td>\n",
       "      <td>0</td>\n",
       "      <td>0</td>\n",
       "      <td>0</td>\n",
       "      <td>0</td>\n",
       "      <td>0</td>\n",
       "      <td>0</td>\n",
       "      <td>0</td>\n",
       "    </tr>\n",
       "    <tr>\n",
       "      <th>1</th>\n",
       "      <td>0.613</td>\n",
       "      <td>2000</td>\n",
       "      <td>0.14300</td>\n",
       "      <td>0.843</td>\n",
       "      <td>270507</td>\n",
       "      <td>0.806</td>\n",
       "      <td>0I3q5fE6wg7LIfHGngUTnV</td>\n",
       "      <td>0.000000</td>\n",
       "      <td>0.0771</td>\n",
       "      <td>-5.946</td>\n",
       "      <td>...</td>\n",
       "      <td>0</td>\n",
       "      <td>0</td>\n",
       "      <td>0</td>\n",
       "      <td>0</td>\n",
       "      <td>0</td>\n",
       "      <td>0</td>\n",
       "      <td>0</td>\n",
       "      <td>0</td>\n",
       "      <td>0</td>\n",
       "      <td>0</td>\n",
       "    </tr>\n",
       "    <tr>\n",
       "      <th>2</th>\n",
       "      <td>0.400</td>\n",
       "      <td>2000</td>\n",
       "      <td>0.00958</td>\n",
       "      <td>0.556</td>\n",
       "      <td>216880</td>\n",
       "      <td>0.864</td>\n",
       "      <td>60a0Rd6pjrkxjPbaKzXjfq</td>\n",
       "      <td>0.000000</td>\n",
       "      <td>0.2090</td>\n",
       "      <td>-5.870</td>\n",
       "      <td>...</td>\n",
       "      <td>0</td>\n",
       "      <td>0</td>\n",
       "      <td>0</td>\n",
       "      <td>0</td>\n",
       "      <td>0</td>\n",
       "      <td>0</td>\n",
       "      <td>0</td>\n",
       "      <td>0</td>\n",
       "      <td>0</td>\n",
       "      <td>0</td>\n",
       "    </tr>\n",
       "    <tr>\n",
       "      <th>3</th>\n",
       "      <td>0.543</td>\n",
       "      <td>2000</td>\n",
       "      <td>0.00664</td>\n",
       "      <td>0.545</td>\n",
       "      <td>233933</td>\n",
       "      <td>0.865</td>\n",
       "      <td>6ZOBP3NvffbU4SZcrnt1k6</td>\n",
       "      <td>0.000011</td>\n",
       "      <td>0.1680</td>\n",
       "      <td>-5.708</td>\n",
       "      <td>...</td>\n",
       "      <td>0</td>\n",
       "      <td>0</td>\n",
       "      <td>0</td>\n",
       "      <td>0</td>\n",
       "      <td>0</td>\n",
       "      <td>0</td>\n",
       "      <td>0</td>\n",
       "      <td>0</td>\n",
       "      <td>0</td>\n",
       "      <td>0</td>\n",
       "    </tr>\n",
       "    <tr>\n",
       "      <th>4</th>\n",
       "      <td>0.760</td>\n",
       "      <td>2000</td>\n",
       "      <td>0.03020</td>\n",
       "      <td>0.949</td>\n",
       "      <td>284200</td>\n",
       "      <td>0.661</td>\n",
       "      <td>3yfqSUWxFvZELEM4PmlwIR</td>\n",
       "      <td>0.000000</td>\n",
       "      <td>0.0454</td>\n",
       "      <td>-4.244</td>\n",
       "      <td>...</td>\n",
       "      <td>0</td>\n",
       "      <td>0</td>\n",
       "      <td>0</td>\n",
       "      <td>0</td>\n",
       "      <td>0</td>\n",
       "      <td>0</td>\n",
       "      <td>0</td>\n",
       "      <td>0</td>\n",
       "      <td>0</td>\n",
       "      <td>0</td>\n",
       "    </tr>\n",
       "    <tr>\n",
       "      <th>...</th>\n",
       "      <td>...</td>\n",
       "      <td>...</td>\n",
       "      <td>...</td>\n",
       "      <td>...</td>\n",
       "      <td>...</td>\n",
       "      <td>...</td>\n",
       "      <td>...</td>\n",
       "      <td>...</td>\n",
       "      <td>...</td>\n",
       "      <td>...</td>\n",
       "      <td>...</td>\n",
       "      <td>...</td>\n",
       "      <td>...</td>\n",
       "      <td>...</td>\n",
       "      <td>...</td>\n",
       "      <td>...</td>\n",
       "      <td>...</td>\n",
       "      <td>...</td>\n",
       "      <td>...</td>\n",
       "      <td>...</td>\n",
       "      <td>...</td>\n",
       "    </tr>\n",
       "    <tr>\n",
       "      <th>20306</th>\n",
       "      <td>0.187</td>\n",
       "      <td>2020</td>\n",
       "      <td>0.57400</td>\n",
       "      <td>0.445</td>\n",
       "      <td>176250</td>\n",
       "      <td>0.330</td>\n",
       "      <td>0PUkanqCGTb6qseXPKOw1F</td>\n",
       "      <td>0.000000</td>\n",
       "      <td>0.1020</td>\n",
       "      <td>-8.121</td>\n",
       "      <td>...</td>\n",
       "      <td>0</td>\n",
       "      <td>0</td>\n",
       "      <td>0</td>\n",
       "      <td>0</td>\n",
       "      <td>0</td>\n",
       "      <td>0</td>\n",
       "      <td>0</td>\n",
       "      <td>0</td>\n",
       "      <td>0</td>\n",
       "      <td>0</td>\n",
       "    </tr>\n",
       "    <tr>\n",
       "      <th>20307</th>\n",
       "      <td>0.240</td>\n",
       "      <td>2020</td>\n",
       "      <td>0.81500</td>\n",
       "      <td>0.467</td>\n",
       "      <td>179188</td>\n",
       "      <td>0.429</td>\n",
       "      <td>6Iw6fQVKZi0fWtEQBrTFcP</td>\n",
       "      <td>0.000052</td>\n",
       "      <td>0.1770</td>\n",
       "      <td>-8.689</td>\n",
       "      <td>...</td>\n",
       "      <td>0</td>\n",
       "      <td>0</td>\n",
       "      <td>0</td>\n",
       "      <td>0</td>\n",
       "      <td>0</td>\n",
       "      <td>0</td>\n",
       "      <td>0</td>\n",
       "      <td>0</td>\n",
       "      <td>0</td>\n",
       "      <td>0</td>\n",
       "    </tr>\n",
       "    <tr>\n",
       "      <th>20308</th>\n",
       "      <td>0.466</td>\n",
       "      <td>2020</td>\n",
       "      <td>0.31000</td>\n",
       "      <td>0.562</td>\n",
       "      <td>253613</td>\n",
       "      <td>0.686</td>\n",
       "      <td>308prODCCD0O660tIktbUi</td>\n",
       "      <td>0.022500</td>\n",
       "      <td>0.1250</td>\n",
       "      <td>-8.480</td>\n",
       "      <td>...</td>\n",
       "      <td>0</td>\n",
       "      <td>0</td>\n",
       "      <td>0</td>\n",
       "      <td>0</td>\n",
       "      <td>0</td>\n",
       "      <td>0</td>\n",
       "      <td>0</td>\n",
       "      <td>0</td>\n",
       "      <td>0</td>\n",
       "      <td>0</td>\n",
       "    </tr>\n",
       "    <tr>\n",
       "      <th>20309</th>\n",
       "      <td>0.522</td>\n",
       "      <td>2020</td>\n",
       "      <td>0.20400</td>\n",
       "      <td>0.598</td>\n",
       "      <td>230600</td>\n",
       "      <td>0.472</td>\n",
       "      <td>2f8y4CuG57UJEmkG3ujd0D</td>\n",
       "      <td>0.000015</td>\n",
       "      <td>0.1080</td>\n",
       "      <td>-10.991</td>\n",
       "      <td>...</td>\n",
       "      <td>0</td>\n",
       "      <td>0</td>\n",
       "      <td>0</td>\n",
       "      <td>0</td>\n",
       "      <td>0</td>\n",
       "      <td>0</td>\n",
       "      <td>0</td>\n",
       "      <td>0</td>\n",
       "      <td>0</td>\n",
       "      <td>0</td>\n",
       "    </tr>\n",
       "    <tr>\n",
       "      <th>20310</th>\n",
       "      <td>0.195</td>\n",
       "      <td>2020</td>\n",
       "      <td>0.00998</td>\n",
       "      <td>0.671</td>\n",
       "      <td>337147</td>\n",
       "      <td>0.623</td>\n",
       "      <td>5SiZJoLXp3WOl3J4C8IK0d</td>\n",
       "      <td>0.000008</td>\n",
       "      <td>0.6430</td>\n",
       "      <td>-7.161</td>\n",
       "      <td>...</td>\n",
       "      <td>0</td>\n",
       "      <td>0</td>\n",
       "      <td>0</td>\n",
       "      <td>0</td>\n",
       "      <td>0</td>\n",
       "      <td>0</td>\n",
       "      <td>0</td>\n",
       "      <td>0</td>\n",
       "      <td>0</td>\n",
       "      <td>0</td>\n",
       "    </tr>\n",
       "  </tbody>\n",
       "</table>\n",
       "<p>20311 rows × 890 columns</p>\n",
       "</div>"
      ],
      "text/plain": [
       "       valence  year  acousticness  danceability  duration_ms  energy  \\\n",
       "0        0.285  2000       0.00239         0.429       266773   0.661   \n",
       "1        0.613  2000       0.14300         0.843       270507   0.806   \n",
       "2        0.400  2000       0.00958         0.556       216880   0.864   \n",
       "3        0.543  2000       0.00664         0.545       233933   0.865   \n",
       "4        0.760  2000       0.03020         0.949       284200   0.661   \n",
       "...        ...   ...           ...           ...          ...     ...   \n",
       "20306    0.187  2020       0.57400         0.445       176250   0.330   \n",
       "20307    0.240  2020       0.81500         0.467       179188   0.429   \n",
       "20308    0.466  2020       0.31000         0.562       253613   0.686   \n",
       "20309    0.522  2020       0.20400         0.598       230600   0.472   \n",
       "20310    0.195  2020       0.00998         0.671       337147   0.623   \n",
       "\n",
       "                           id  instrumentalness  liveness  loudness  ...  \\\n",
       "0      3AJwUDP919kvQ9QcozQPxg          0.000121    0.2340    -7.227  ...   \n",
       "1      0I3q5fE6wg7LIfHGngUTnV          0.000000    0.0771    -5.946  ...   \n",
       "2      60a0Rd6pjrkxjPbaKzXjfq          0.000000    0.2090    -5.870  ...   \n",
       "3      6ZOBP3NvffbU4SZcrnt1k6          0.000011    0.1680    -5.708  ...   \n",
       "4      3yfqSUWxFvZELEM4PmlwIR          0.000000    0.0454    -4.244  ...   \n",
       "...                       ...               ...       ...       ...  ...   \n",
       "20306  0PUkanqCGTb6qseXPKOw1F          0.000000    0.1020    -8.121  ...   \n",
       "20307  6Iw6fQVKZi0fWtEQBrTFcP          0.000052    0.1770    -8.689  ...   \n",
       "20308  308prODCCD0O660tIktbUi          0.022500    0.1250    -8.480  ...   \n",
       "20309  2f8y4CuG57UJEmkG3ujd0D          0.000015    0.1080   -10.991  ...   \n",
       "20310  5SiZJoLXp3WOl3J4C8IK0d          0.000008    0.6430    -7.161  ...   \n",
       "\n",
       "      artists_Zara Larsson  artists_Zedd  artists_alt-J  artists_blackbear  \\\n",
       "0                        0             0              0                  0   \n",
       "1                        0             0              0                  0   \n",
       "2                        0             0              0                  0   \n",
       "3                        0             0              0                  0   \n",
       "4                        0             0              0                  0   \n",
       "...                    ...           ...            ...                ...   \n",
       "20306                    0             0              0                  0   \n",
       "20307                    0             0              0                  0   \n",
       "20308                    0             0              0                  0   \n",
       "20309                    0             0              0                  0   \n",
       "20310                    0             0              0                  0   \n",
       "\n",
       "      artists_blink-182  artists_deadmau5  artists_for KING & COUNTRY  \\\n",
       "0                     0                 0                           0   \n",
       "1                     0                 0                           0   \n",
       "2                     0                 0                           0   \n",
       "3                     0                 0                           0   \n",
       "4                     0                 0                           0   \n",
       "...                 ...               ...                         ...   \n",
       "20306                 0                 0                           0   \n",
       "20307                 0                 0                           0   \n",
       "20308                 0                 0                           0   \n",
       "20309                 0                 0                           0   \n",
       "20310                 0                 0                           0   \n",
       "\n",
       "       artists_fun.  artists_girl in red  artists_iann dior  \n",
       "0                 0                    0                  0  \n",
       "1                 0                    0                  0  \n",
       "2                 0                    0                  0  \n",
       "3                 0                    0                  0  \n",
       "4                 0                    0                  0  \n",
       "...             ...                  ...                ...  \n",
       "20306             0                    0                  0  \n",
       "20307             0                    0                  0  \n",
       "20308             0                    0                  0  \n",
       "20309             0                    0                  0  \n",
       "20310             0                    0                  0  \n",
       "\n",
       "[20311 rows x 890 columns]"
      ]
     },
     "execution_count": 38,
     "metadata": {},
     "output_type": "execute_result"
    }
   ],
   "source": [
    "from sklearn.preprocessing import OneHotEncoder\n",
    "\n",
    "ohe = OneHotEncoder(dtype=int)\n",
    "colunas_ohe = ohe.fit_transform(df_dados[['artists']]).toarray()\n",
    "df2_dados = df_dados.drop('artists', axis=1)\n",
    "\n",
    "df_dados_ohe = pd.concat([df2_dados, pd.DataFrame(colunas_ohe, columns=ohe.get_feature_names_out(['artists']))], axis=1)\n",
    "df_dados_ohe"
   ]
  },
  {
   "cell_type": "markdown",
   "metadata": {},
   "source": [
    "Aplicando StandardScaler e PCA usando Pipeline"
   ]
  },
  {
   "cell_type": "code",
   "execution_count": 41,
   "metadata": {},
   "outputs": [
    {
     "data": {
      "text/plain": [
       "(20311, 890)"
      ]
     },
     "execution_count": 41,
     "metadata": {},
     "output_type": "execute_result"
    }
   ],
   "source": [
    "df_dados_ohe.shape"
   ]
  },
  {
   "cell_type": "code",
   "execution_count": 33,
   "metadata": {},
   "outputs": [],
   "source": [
    "SEED = 1234\n",
    "pca_pipeline_musica = Pipeline([\n",
    "    ('scaler', StandardScaler()), \n",
    "    ('PCA', PCA(n_components=0.7, random_state=SEED))])"
   ]
  },
  {
   "cell_type": "code",
   "execution_count": 42,
   "metadata": {},
   "outputs": [
    {
     "data": {
      "text/html": [
       "<div>\n",
       "<style scoped>\n",
       "    .dataframe tbody tr th:only-of-type {\n",
       "        vertical-align: middle;\n",
       "    }\n",
       "\n",
       "    .dataframe tbody tr th {\n",
       "        vertical-align: top;\n",
       "    }\n",
       "\n",
       "    .dataframe thead th {\n",
       "        text-align: right;\n",
       "    }\n",
       "</style>\n",
       "<table border=\"1\" class=\"dataframe\">\n",
       "  <thead>\n",
       "    <tr style=\"text-align: right;\">\n",
       "      <th></th>\n",
       "      <th>valence</th>\n",
       "      <th>year</th>\n",
       "      <th>acousticness</th>\n",
       "      <th>danceability</th>\n",
       "      <th>duration_ms</th>\n",
       "      <th>energy</th>\n",
       "      <th>instrumentalness</th>\n",
       "      <th>liveness</th>\n",
       "      <th>loudness</th>\n",
       "      <th>popularity</th>\n",
       "      <th>...</th>\n",
       "      <th>artists_Zara Larsson</th>\n",
       "      <th>artists_Zedd</th>\n",
       "      <th>artists_alt-J</th>\n",
       "      <th>artists_blackbear</th>\n",
       "      <th>artists_blink-182</th>\n",
       "      <th>artists_deadmau5</th>\n",
       "      <th>artists_for KING &amp; COUNTRY</th>\n",
       "      <th>artists_fun.</th>\n",
       "      <th>artists_girl in red</th>\n",
       "      <th>artists_iann dior</th>\n",
       "    </tr>\n",
       "  </thead>\n",
       "  <tbody>\n",
       "    <tr>\n",
       "      <th>0</th>\n",
       "      <td>0.285</td>\n",
       "      <td>2000</td>\n",
       "      <td>0.00239</td>\n",
       "      <td>0.429</td>\n",
       "      <td>266773</td>\n",
       "      <td>0.661</td>\n",
       "      <td>0.000121</td>\n",
       "      <td>0.2340</td>\n",
       "      <td>-7.227</td>\n",
       "      <td>84</td>\n",
       "      <td>...</td>\n",
       "      <td>0</td>\n",
       "      <td>0</td>\n",
       "      <td>0</td>\n",
       "      <td>0</td>\n",
       "      <td>0</td>\n",
       "      <td>0</td>\n",
       "      <td>0</td>\n",
       "      <td>0</td>\n",
       "      <td>0</td>\n",
       "      <td>0</td>\n",
       "    </tr>\n",
       "    <tr>\n",
       "      <th>1</th>\n",
       "      <td>0.613</td>\n",
       "      <td>2000</td>\n",
       "      <td>0.14300</td>\n",
       "      <td>0.843</td>\n",
       "      <td>270507</td>\n",
       "      <td>0.806</td>\n",
       "      <td>0.000000</td>\n",
       "      <td>0.0771</td>\n",
       "      <td>-5.946</td>\n",
       "      <td>80</td>\n",
       "      <td>...</td>\n",
       "      <td>0</td>\n",
       "      <td>0</td>\n",
       "      <td>0</td>\n",
       "      <td>0</td>\n",
       "      <td>0</td>\n",
       "      <td>0</td>\n",
       "      <td>0</td>\n",
       "      <td>0</td>\n",
       "      <td>0</td>\n",
       "      <td>0</td>\n",
       "    </tr>\n",
       "    <tr>\n",
       "      <th>2</th>\n",
       "      <td>0.400</td>\n",
       "      <td>2000</td>\n",
       "      <td>0.00958</td>\n",
       "      <td>0.556</td>\n",
       "      <td>216880</td>\n",
       "      <td>0.864</td>\n",
       "      <td>0.000000</td>\n",
       "      <td>0.2090</td>\n",
       "      <td>-5.870</td>\n",
       "      <td>84</td>\n",
       "      <td>...</td>\n",
       "      <td>0</td>\n",
       "      <td>0</td>\n",
       "      <td>0</td>\n",
       "      <td>0</td>\n",
       "      <td>0</td>\n",
       "      <td>0</td>\n",
       "      <td>0</td>\n",
       "      <td>0</td>\n",
       "      <td>0</td>\n",
       "      <td>0</td>\n",
       "    </tr>\n",
       "    <tr>\n",
       "      <th>3</th>\n",
       "      <td>0.543</td>\n",
       "      <td>2000</td>\n",
       "      <td>0.00664</td>\n",
       "      <td>0.545</td>\n",
       "      <td>233933</td>\n",
       "      <td>0.865</td>\n",
       "      <td>0.000011</td>\n",
       "      <td>0.1680</td>\n",
       "      <td>-5.708</td>\n",
       "      <td>78</td>\n",
       "      <td>...</td>\n",
       "      <td>0</td>\n",
       "      <td>0</td>\n",
       "      <td>0</td>\n",
       "      <td>0</td>\n",
       "      <td>0</td>\n",
       "      <td>0</td>\n",
       "      <td>0</td>\n",
       "      <td>0</td>\n",
       "      <td>0</td>\n",
       "      <td>0</td>\n",
       "    </tr>\n",
       "    <tr>\n",
       "      <th>4</th>\n",
       "      <td>0.760</td>\n",
       "      <td>2000</td>\n",
       "      <td>0.03020</td>\n",
       "      <td>0.949</td>\n",
       "      <td>284200</td>\n",
       "      <td>0.661</td>\n",
       "      <td>0.000000</td>\n",
       "      <td>0.0454</td>\n",
       "      <td>-4.244</td>\n",
       "      <td>80</td>\n",
       "      <td>...</td>\n",
       "      <td>0</td>\n",
       "      <td>0</td>\n",
       "      <td>0</td>\n",
       "      <td>0</td>\n",
       "      <td>0</td>\n",
       "      <td>0</td>\n",
       "      <td>0</td>\n",
       "      <td>0</td>\n",
       "      <td>0</td>\n",
       "      <td>0</td>\n",
       "    </tr>\n",
       "  </tbody>\n",
       "</table>\n",
       "<p>5 rows × 887 columns</p>\n",
       "</div>"
      ],
      "text/plain": [
       "   valence  year  acousticness  danceability  duration_ms  energy  \\\n",
       "0    0.285  2000       0.00239         0.429       266773   0.661   \n",
       "1    0.613  2000       0.14300         0.843       270507   0.806   \n",
       "2    0.400  2000       0.00958         0.556       216880   0.864   \n",
       "3    0.543  2000       0.00664         0.545       233933   0.865   \n",
       "4    0.760  2000       0.03020         0.949       284200   0.661   \n",
       "\n",
       "   instrumentalness  liveness  loudness  popularity  ...  \\\n",
       "0          0.000121    0.2340    -7.227          84  ...   \n",
       "1          0.000000    0.0771    -5.946          80  ...   \n",
       "2          0.000000    0.2090    -5.870          84  ...   \n",
       "3          0.000011    0.1680    -5.708          78  ...   \n",
       "4          0.000000    0.0454    -4.244          80  ...   \n",
       "\n",
       "   artists_Zara Larsson  artists_Zedd  artists_alt-J  artists_blackbear  \\\n",
       "0                     0             0              0                  0   \n",
       "1                     0             0              0                  0   \n",
       "2                     0             0              0                  0   \n",
       "3                     0             0              0                  0   \n",
       "4                     0             0              0                  0   \n",
       "\n",
       "   artists_blink-182  artists_deadmau5  artists_for KING & COUNTRY  \\\n",
       "0                  0                 0                           0   \n",
       "1                  0                 0                           0   \n",
       "2                  0                 0                           0   \n",
       "3                  0                 0                           0   \n",
       "4                  0                 0                           0   \n",
       "\n",
       "   artists_fun.  artists_girl in red  artists_iann dior  \n",
       "0             0                    0                  0  \n",
       "1             0                    0                  0  \n",
       "2             0                    0                  0  \n",
       "3             0                    0                  0  \n",
       "4             0                    0                  0  \n",
       "\n",
       "[5 rows x 887 columns]"
      ]
     },
     "execution_count": 42,
     "metadata": {},
     "output_type": "execute_result"
    }
   ],
   "source": [
    "df2_dados_ohe = df_dados_ohe.drop(['id', 'name', 'artists_song'], axis=1)\n",
    "df2_dados_ohe.head()"
   ]
  },
  {
   "cell_type": "code",
   "execution_count": 43,
   "metadata": {},
   "outputs": [
    {
     "data": {
      "text/html": [
       "<div>\n",
       "<style scoped>\n",
       "    .dataframe tbody tr th:only-of-type {\n",
       "        vertical-align: middle;\n",
       "    }\n",
       "\n",
       "    .dataframe tbody tr th {\n",
       "        vertical-align: top;\n",
       "    }\n",
       "\n",
       "    .dataframe thead th {\n",
       "        text-align: right;\n",
       "    }\n",
       "</style>\n",
       "<table border=\"1\" class=\"dataframe\">\n",
       "  <thead>\n",
       "    <tr style=\"text-align: right;\">\n",
       "      <th></th>\n",
       "      <th>0</th>\n",
       "      <th>1</th>\n",
       "      <th>2</th>\n",
       "      <th>3</th>\n",
       "      <th>4</th>\n",
       "      <th>5</th>\n",
       "      <th>6</th>\n",
       "      <th>7</th>\n",
       "      <th>8</th>\n",
       "      <th>9</th>\n",
       "      <th>...</th>\n",
       "      <th>602</th>\n",
       "      <th>603</th>\n",
       "      <th>604</th>\n",
       "      <th>605</th>\n",
       "      <th>606</th>\n",
       "      <th>607</th>\n",
       "      <th>608</th>\n",
       "      <th>609</th>\n",
       "      <th>610</th>\n",
       "      <th>611</th>\n",
       "    </tr>\n",
       "  </thead>\n",
       "  <tbody>\n",
       "    <tr>\n",
       "      <th>0</th>\n",
       "      <td>0.174796</td>\n",
       "      <td>0.731252</td>\n",
       "      <td>2.186797</td>\n",
       "      <td>-0.767192</td>\n",
       "      <td>0.594847</td>\n",
       "      <td>0.315968</td>\n",
       "      <td>-0.412322</td>\n",
       "      <td>-0.479171</td>\n",
       "      <td>-2.700668</td>\n",
       "      <td>2.109956</td>\n",
       "      <td>...</td>\n",
       "      <td>0.002516</td>\n",
       "      <td>0.002097</td>\n",
       "      <td>-0.019072</td>\n",
       "      <td>-0.009111</td>\n",
       "      <td>0.005154</td>\n",
       "      <td>-0.034027</td>\n",
       "      <td>-0.032617</td>\n",
       "      <td>2.662201e-12</td>\n",
       "      <td>-2.768432e-12</td>\n",
       "      <td>5.688694e-13</td>\n",
       "    </tr>\n",
       "    <tr>\n",
       "      <th>1</th>\n",
       "      <td>-1.358420</td>\n",
       "      <td>0.052935</td>\n",
       "      <td>-1.789973</td>\n",
       "      <td>1.938444</td>\n",
       "      <td>0.403606</td>\n",
       "      <td>1.023898</td>\n",
       "      <td>-1.172118</td>\n",
       "      <td>0.821698</td>\n",
       "      <td>-1.716897</td>\n",
       "      <td>0.252498</td>\n",
       "      <td>...</td>\n",
       "      <td>0.036047</td>\n",
       "      <td>-0.026825</td>\n",
       "      <td>-0.031678</td>\n",
       "      <td>-0.031986</td>\n",
       "      <td>0.029708</td>\n",
       "      <td>-0.016322</td>\n",
       "      <td>-0.030234</td>\n",
       "      <td>3.602146e-12</td>\n",
       "      <td>-6.399749e-13</td>\n",
       "      <td>9.383822e-13</td>\n",
       "    </tr>\n",
       "    <tr>\n",
       "      <th>2</th>\n",
       "      <td>-0.972077</td>\n",
       "      <td>0.658094</td>\n",
       "      <td>0.757500</td>\n",
       "      <td>-0.277350</td>\n",
       "      <td>-0.400393</td>\n",
       "      <td>0.402941</td>\n",
       "      <td>1.292960</td>\n",
       "      <td>1.839192</td>\n",
       "      <td>-1.562236</td>\n",
       "      <td>1.410677</td>\n",
       "      <td>...</td>\n",
       "      <td>-0.013908</td>\n",
       "      <td>0.007214</td>\n",
       "      <td>0.003084</td>\n",
       "      <td>0.017097</td>\n",
       "      <td>0.017361</td>\n",
       "      <td>-0.010979</td>\n",
       "      <td>-0.012781</td>\n",
       "      <td>4.131225e-13</td>\n",
       "      <td>-1.264700e-12</td>\n",
       "      <td>-2.152385e-13</td>\n",
       "    </tr>\n",
       "    <tr>\n",
       "      <th>3</th>\n",
       "      <td>-0.926464</td>\n",
       "      <td>1.292091</td>\n",
       "      <td>0.398499</td>\n",
       "      <td>-0.997738</td>\n",
       "      <td>0.202219</td>\n",
       "      <td>0.620859</td>\n",
       "      <td>-0.527689</td>\n",
       "      <td>1.135529</td>\n",
       "      <td>-1.343893</td>\n",
       "      <td>1.020964</td>\n",
       "      <td>...</td>\n",
       "      <td>0.038784</td>\n",
       "      <td>0.020814</td>\n",
       "      <td>-0.046126</td>\n",
       "      <td>0.089337</td>\n",
       "      <td>0.164777</td>\n",
       "      <td>-0.064148</td>\n",
       "      <td>-0.040911</td>\n",
       "      <td>2.975142e-12</td>\n",
       "      <td>-1.166128e-10</td>\n",
       "      <td>1.551851e-13</td>\n",
       "    </tr>\n",
       "    <tr>\n",
       "      <th>4</th>\n",
       "      <td>-1.710077</td>\n",
       "      <td>-0.383502</td>\n",
       "      <td>-1.258562</td>\n",
       "      <td>1.346428</td>\n",
       "      <td>1.223591</td>\n",
       "      <td>1.744579</td>\n",
       "      <td>0.094311</td>\n",
       "      <td>0.479412</td>\n",
       "      <td>-2.125376</td>\n",
       "      <td>0.389565</td>\n",
       "      <td>...</td>\n",
       "      <td>0.006291</td>\n",
       "      <td>0.003111</td>\n",
       "      <td>-0.009148</td>\n",
       "      <td>-0.011937</td>\n",
       "      <td>-0.004081</td>\n",
       "      <td>-0.017478</td>\n",
       "      <td>-0.010033</td>\n",
       "      <td>1.245419e-12</td>\n",
       "      <td>5.836204e-13</td>\n",
       "      <td>2.201202e-13</td>\n",
       "    </tr>\n",
       "  </tbody>\n",
       "</table>\n",
       "<p>5 rows × 612 columns</p>\n",
       "</div>"
      ],
      "text/plain": [
       "        0         1         2         3         4         5         6    \\\n",
       "0  0.174796  0.731252  2.186797 -0.767192  0.594847  0.315968 -0.412322   \n",
       "1 -1.358420  0.052935 -1.789973  1.938444  0.403606  1.023898 -1.172118   \n",
       "2 -0.972077  0.658094  0.757500 -0.277350 -0.400393  0.402941  1.292960   \n",
       "3 -0.926464  1.292091  0.398499 -0.997738  0.202219  0.620859 -0.527689   \n",
       "4 -1.710077 -0.383502 -1.258562  1.346428  1.223591  1.744579  0.094311   \n",
       "\n",
       "        7         8         9    ...       602       603       604       605  \\\n",
       "0 -0.479171 -2.700668  2.109956  ...  0.002516  0.002097 -0.019072 -0.009111   \n",
       "1  0.821698 -1.716897  0.252498  ...  0.036047 -0.026825 -0.031678 -0.031986   \n",
       "2  1.839192 -1.562236  1.410677  ... -0.013908  0.007214  0.003084  0.017097   \n",
       "3  1.135529 -1.343893  1.020964  ...  0.038784  0.020814 -0.046126  0.089337   \n",
       "4  0.479412 -2.125376  0.389565  ...  0.006291  0.003111 -0.009148 -0.011937   \n",
       "\n",
       "        606       607       608           609           610           611  \n",
       "0  0.005154 -0.034027 -0.032617  2.662201e-12 -2.768432e-12  5.688694e-13  \n",
       "1  0.029708 -0.016322 -0.030234  3.602146e-12 -6.399749e-13  9.383822e-13  \n",
       "2  0.017361 -0.010979 -0.012781  4.131225e-13 -1.264700e-12 -2.152385e-13  \n",
       "3  0.164777 -0.064148 -0.040911  2.975142e-12 -1.166128e-10  1.551851e-13  \n",
       "4 -0.004081 -0.017478 -0.010033  1.245419e-12  5.836204e-13  2.201202e-13  \n",
       "\n",
       "[5 rows x 612 columns]"
      ]
     },
     "execution_count": 43,
     "metadata": {},
     "output_type": "execute_result"
    }
   ],
   "source": [
    "musicas_embedding_pca = pca_pipeline_musica.fit_transform(df2_dados_ohe)\n",
    "projecao_musicas = pd.DataFrame(musicas_embedding_pca)\n",
    "projecao_musicas.head()"
   ]
  },
  {
   "cell_type": "markdown",
   "metadata": {},
   "source": [
    "Explicabilidade das features pelo PCA."
   ]
  },
  {
   "cell_type": "code",
   "execution_count": 44,
   "metadata": {},
   "outputs": [
    {
     "data": {
      "text/plain": [
       "0.7000008463187029"
      ]
     },
     "execution_count": 44,
     "metadata": {},
     "output_type": "execute_result"
    }
   ],
   "source": [
    "pca_pipeline_musica[1].explained_variance_ratio_.sum()"
   ]
  },
  {
   "cell_type": "code",
   "execution_count": 45,
   "metadata": {},
   "outputs": [
    {
     "data": {
      "text/plain": [
       "620.931321868869"
      ]
     },
     "execution_count": 45,
     "metadata": {},
     "output_type": "execute_result"
    }
   ],
   "source": [
    "pca_pipeline_musica[1].explained_variance_.sum()"
   ]
  },
  {
   "cell_type": "markdown",
   "metadata": {},
   "source": [
    "# Seleção de Features"
   ]
  },
  {
   "cell_type": "markdown",
   "metadata": {},
   "source": [
    "Neste ciclo serão usadas todas as features para obter o baseline."
   ]
  },
  {
   "cell_type": "markdown",
   "metadata": {},
   "source": [
    "# Machine Learning"
   ]
  },
  {
   "cell_type": "markdown",
   "metadata": {},
   "source": [
    "## Generos"
   ]
  },
  {
   "cell_type": "code",
   "execution_count": 25,
   "metadata": {},
   "outputs": [],
   "source": [
    "kmeans = KMeans(n_clusters=5, random_state=SEED)\n",
    "kmeans.fit(projecao)\n",
    "df_generos['cluster'] = kmeans.predict(projecao)\n",
    "projecao['cluster'] = df_generos['cluster']"
   ]
  },
  {
   "cell_type": "code",
   "execution_count": 26,
   "metadata": {},
   "outputs": [
    {
     "data": {
      "text/html": [
       "<div>\n",
       "<style scoped>\n",
       "    .dataframe tbody tr th:only-of-type {\n",
       "        vertical-align: middle;\n",
       "    }\n",
       "\n",
       "    .dataframe tbody tr th {\n",
       "        vertical-align: top;\n",
       "    }\n",
       "\n",
       "    .dataframe thead th {\n",
       "        text-align: right;\n",
       "    }\n",
       "</style>\n",
       "<table border=\"1\" class=\"dataframe\">\n",
       "  <thead>\n",
       "    <tr style=\"text-align: right;\">\n",
       "      <th></th>\n",
       "      <th>genres</th>\n",
       "      <th>acousticness</th>\n",
       "      <th>danceability</th>\n",
       "      <th>duration_ms</th>\n",
       "      <th>energy</th>\n",
       "      <th>instrumentalness</th>\n",
       "      <th>liveness</th>\n",
       "      <th>loudness</th>\n",
       "      <th>speechiness</th>\n",
       "      <th>tempo</th>\n",
       "      <th>valence</th>\n",
       "      <th>popularity</th>\n",
       "      <th>cluster</th>\n",
       "    </tr>\n",
       "  </thead>\n",
       "  <tbody>\n",
       "    <tr>\n",
       "      <th>0</th>\n",
       "      <td>21st century classical</td>\n",
       "      <td>0.979333</td>\n",
       "      <td>0.162883</td>\n",
       "      <td>1.602977e+05</td>\n",
       "      <td>0.071317</td>\n",
       "      <td>0.606834</td>\n",
       "      <td>0.361600</td>\n",
       "      <td>-31.514333</td>\n",
       "      <td>0.040567</td>\n",
       "      <td>75.336500</td>\n",
       "      <td>0.103783</td>\n",
       "      <td>27.833333</td>\n",
       "      <td>2</td>\n",
       "    </tr>\n",
       "    <tr>\n",
       "      <th>1</th>\n",
       "      <td>432hz</td>\n",
       "      <td>0.494780</td>\n",
       "      <td>0.299333</td>\n",
       "      <td>1.048887e+06</td>\n",
       "      <td>0.450678</td>\n",
       "      <td>0.477762</td>\n",
       "      <td>0.131000</td>\n",
       "      <td>-16.854000</td>\n",
       "      <td>0.076817</td>\n",
       "      <td>120.285667</td>\n",
       "      <td>0.221750</td>\n",
       "      <td>52.500000</td>\n",
       "      <td>2</td>\n",
       "    </tr>\n",
       "    <tr>\n",
       "      <th>2</th>\n",
       "      <td>8-bit</td>\n",
       "      <td>0.762000</td>\n",
       "      <td>0.712000</td>\n",
       "      <td>1.151770e+05</td>\n",
       "      <td>0.818000</td>\n",
       "      <td>0.876000</td>\n",
       "      <td>0.126000</td>\n",
       "      <td>-9.180000</td>\n",
       "      <td>0.047000</td>\n",
       "      <td>133.444000</td>\n",
       "      <td>0.975000</td>\n",
       "      <td>48.000000</td>\n",
       "      <td>0</td>\n",
       "    </tr>\n",
       "    <tr>\n",
       "      <th>3</th>\n",
       "      <td>[]</td>\n",
       "      <td>0.651417</td>\n",
       "      <td>0.529093</td>\n",
       "      <td>2.328809e+05</td>\n",
       "      <td>0.419146</td>\n",
       "      <td>0.205309</td>\n",
       "      <td>0.218696</td>\n",
       "      <td>-12.288965</td>\n",
       "      <td>0.107872</td>\n",
       "      <td>112.857352</td>\n",
       "      <td>0.513604</td>\n",
       "      <td>20.859882</td>\n",
       "      <td>3</td>\n",
       "    </tr>\n",
       "    <tr>\n",
       "      <th>4</th>\n",
       "      <td>a cappella</td>\n",
       "      <td>0.676557</td>\n",
       "      <td>0.538961</td>\n",
       "      <td>1.906285e+05</td>\n",
       "      <td>0.316434</td>\n",
       "      <td>0.003003</td>\n",
       "      <td>0.172254</td>\n",
       "      <td>-12.479387</td>\n",
       "      <td>0.082851</td>\n",
       "      <td>112.110362</td>\n",
       "      <td>0.448249</td>\n",
       "      <td>45.820071</td>\n",
       "      <td>3</td>\n",
       "    </tr>\n",
       "  </tbody>\n",
       "</table>\n",
       "</div>"
      ],
      "text/plain": [
       "                   genres  acousticness  danceability   duration_ms    energy  \\\n",
       "0  21st century classical      0.979333      0.162883  1.602977e+05  0.071317   \n",
       "1                   432hz      0.494780      0.299333  1.048887e+06  0.450678   \n",
       "2                   8-bit      0.762000      0.712000  1.151770e+05  0.818000   \n",
       "3                      []      0.651417      0.529093  2.328809e+05  0.419146   \n",
       "4              a cappella      0.676557      0.538961  1.906285e+05  0.316434   \n",
       "\n",
       "   instrumentalness  liveness   loudness  speechiness       tempo   valence  \\\n",
       "0          0.606834  0.361600 -31.514333     0.040567   75.336500  0.103783   \n",
       "1          0.477762  0.131000 -16.854000     0.076817  120.285667  0.221750   \n",
       "2          0.876000  0.126000  -9.180000     0.047000  133.444000  0.975000   \n",
       "3          0.205309  0.218696 -12.288965     0.107872  112.857352  0.513604   \n",
       "4          0.003003  0.172254 -12.479387     0.082851  112.110362  0.448249   \n",
       "\n",
       "   popularity  cluster  \n",
       "0   27.833333        2  \n",
       "1   52.500000        2  \n",
       "2   48.000000        0  \n",
       "3   20.859882        3  \n",
       "4   45.820071        3  "
      ]
     },
     "execution_count": 26,
     "metadata": {},
     "output_type": "execute_result"
    }
   ],
   "source": [
    "df_generos.head()"
   ]
  },
  {
   "cell_type": "code",
   "execution_count": 27,
   "metadata": {},
   "outputs": [
    {
     "data": {
      "text/html": [
       "<div>\n",
       "<style scoped>\n",
       "    .dataframe tbody tr th:only-of-type {\n",
       "        vertical-align: middle;\n",
       "    }\n",
       "\n",
       "    .dataframe tbody tr th {\n",
       "        vertical-align: top;\n",
       "    }\n",
       "\n",
       "    .dataframe thead th {\n",
       "        text-align: right;\n",
       "    }\n",
       "</style>\n",
       "<table border=\"1\" class=\"dataframe\">\n",
       "  <thead>\n",
       "    <tr style=\"text-align: right;\">\n",
       "      <th></th>\n",
       "      <th>x</th>\n",
       "      <th>y</th>\n",
       "      <th>cluster</th>\n",
       "      <th>generos</th>\n",
       "    </tr>\n",
       "  </thead>\n",
       "  <tbody>\n",
       "    <tr>\n",
       "      <th>0</th>\n",
       "      <td>5.910268</td>\n",
       "      <td>-0.011146</td>\n",
       "      <td>2</td>\n",
       "      <td>21st century classical</td>\n",
       "    </tr>\n",
       "    <tr>\n",
       "      <th>1</th>\n",
       "      <td>2.787093</td>\n",
       "      <td>4.498483</td>\n",
       "      <td>2</td>\n",
       "      <td>432hz</td>\n",
       "    </tr>\n",
       "    <tr>\n",
       "      <th>2</th>\n",
       "      <td>-0.757538</td>\n",
       "      <td>-1.258495</td>\n",
       "      <td>0</td>\n",
       "      <td>8-bit</td>\n",
       "    </tr>\n",
       "    <tr>\n",
       "      <th>3</th>\n",
       "      <td>1.020521</td>\n",
       "      <td>-0.931690</td>\n",
       "      <td>3</td>\n",
       "      <td>[]</td>\n",
       "    </tr>\n",
       "    <tr>\n",
       "      <th>4</th>\n",
       "      <td>0.753911</td>\n",
       "      <td>-0.999861</td>\n",
       "      <td>3</td>\n",
       "      <td>a cappella</td>\n",
       "    </tr>\n",
       "  </tbody>\n",
       "</table>\n",
       "</div>"
      ],
      "text/plain": [
       "          x         y  cluster                 generos\n",
       "0  5.910268 -0.011146        2  21st century classical\n",
       "1  2.787093  4.498483        2                   432hz\n",
       "2 -0.757538 -1.258495        0                   8-bit\n",
       "3  1.020521 -0.931690        3                      []\n",
       "4  0.753911 -0.999861        3              a cappella"
      ]
     },
     "execution_count": 27,
     "metadata": {},
     "output_type": "execute_result"
    }
   ],
   "source": [
    "projecao['generos'] = df_generos['genres']\n",
    "projecao.head()"
   ]
  },
  {
   "cell_type": "code",
   "execution_count": 28,
   "metadata": {},
   "outputs": [
    {
     "data": {
      "application/vnd.plotly.v1+json": {
       "config": {
        "plotlyServerURL": "https://plot.ly"
       },
       "data": [
        {
         "customdata": [
          [
           "21st century classical"
          ],
          [
           "432hz"
          ],
          [
           "8-bit"
          ],
          [
           "[]"
          ],
          [
           "a cappella"
          ],
          [
           "abstract"
          ],
          [
           "abstract beats"
          ],
          [
           "abstract hip hop"
          ],
          [
           "accordeon"
          ],
          [
           "accordion"
          ],
          [
           "acid house"
          ],
          [
           "acid rock"
          ],
          [
           "acid trance"
          ],
          [
           "acousmatic"
          ],
          [
           "acoustic blues"
          ],
          [
           "acoustic pop"
          ],
          [
           "acoustic punk"
          ],
          [
           "acoustic rock"
          ],
          [
           "action rock"
          ],
          [
           "adoracion"
          ],
          [
           "adult standards"
          ],
          [
           "adventista"
          ],
          [
           "afghan pop"
          ],
          [
           "afghan traditional"
          ],
          [
           "african percussion"
          ],
          [
           "african reggae"
          ],
          [
           "african rock"
          ],
          [
           "african-american classical"
          ],
          [
           "afro dancehall"
          ],
          [
           "afro house"
          ],
          [
           "afro psych"
          ],
          [
           "afro soul"
          ],
          [
           "afro-funk"
          ],
          [
           "afrobeat"
          ],
          [
           "afrofuturism"
          ],
          [
           "afrofuturismo brasileiro"
          ],
          [
           "afropop"
          ],
          [
           "afroswing"
          ],
          [
           "aggrotech"
          ],
          [
           "alabama indie"
          ],
          [
           "alabama metal"
          ],
          [
           "alabama rap"
          ],
          [
           "alaska indie"
          ],
          [
           "albanian pop"
          ],
          [
           "albany ny indie"
          ],
          [
           "alberta country"
          ],
          [
           "alberta hip hop"
          ],
          [
           "album rock"
          ],
          [
           "albuquerque indie"
          ],
          [
           "alt-idol"
          ],
          [
           "alte"
          ],
          [
           "alternative americana"
          ],
          [
           "alternative country"
          ],
          [
           "alternative dance"
          ],
          [
           "alternative emo"
          ],
          [
           "alternative hip hop"
          ],
          [
           "alternative metal"
          ],
          [
           "alternative pop"
          ],
          [
           "alternative pop rock"
          ],
          [
           "alternative r&b"
          ],
          [
           "alternative rock"
          ],
          [
           "alternative roots rock"
          ],
          [
           "ambeat"
          ],
          [
           "ambient"
          ],
          [
           "ambient black metal"
          ],
          [
           "ambient folk"
          ],
          [
           "ambient house"
          ],
          [
           "ambient idm"
          ],
          [
           "ambient industrial"
          ],
          [
           "ambient pop"
          ],
          [
           "ambient techno"
          ],
          [
           "ambient worship"
          ],
          [
           "american 21st century classical"
          ],
          [
           "american choir"
          ],
          [
           "american classical piano"
          ],
          [
           "american contemporary classical"
          ],
          [
           "american early music"
          ],
          [
           "american folk revival"
          ],
          [
           "american metalcore"
          ],
          [
           "american modern classical"
          ],
          [
           "american oi"
          ],
          [
           "american orchestra"
          ],
          [
           "american post-rock"
          ],
          [
           "american primitive"
          ],
          [
           "american romanticism"
          ],
          [
           "american shoegaze"
          ],
          [
           "anadolu rock"
          ],
          [
           "anarcho-punk"
          ],
          [
           "anglican liturgy"
          ],
          [
           "animal singing"
          ],
          [
           "anime"
          ],
          [
           "anime latino"
          ],
          [
           "anime rock"
          ],
          [
           "anime score"
          ],
          [
           "ann arbor indie"
          ],
          [
           "anthem emo"
          ],
          [
           "anthem worship"
          ],
          [
           "anti-folk"
          ],
          [
           "antilliaanse folklore"
          ],
          [
           "antiviral pop"
          ],
          [
           "appalachian folk"
          ],
          [
           "arab folk"
          ],
          [
           "arab groove"
          ],
          [
           "arab pop"
          ],
          [
           "arabesk"
          ],
          [
           "arabic hip hop"
          ],
          [
           "arabic jazz"
          ],
          [
           "argentine ambient"
          ],
          [
           "argentine hardcore"
          ],
          [
           "argentine heavy metal"
          ],
          [
           "argentine hip hop"
          ],
          [
           "argentine indie"
          ],
          [
           "argentine metal"
          ],
          [
           "argentine punk"
          ],
          [
           "argentine reggae"
          ],
          [
           "argentine rock"
          ],
          [
           "argentine telepop"
          ],
          [
           "arizona punk"
          ],
          [
           "arkansas country"
          ],
          [
           "arkansas hip hop"
          ],
          [
           "arkansas indie"
          ],
          [
           "armenian folk"
          ],
          [
           "art pop"
          ],
          [
           "art punk"
          ],
          [
           "art rock"
          ],
          [
           "art song"
          ],
          [
           "asbury park indie"
          ],
          [
           "asheville indie"
          ],
          [
           "asian american hip hop"
          ],
          [
           "asmr"
          ],
          [
           "athens indie"
          ],
          [
           "atl hip hop"
          ],
          [
           "atl trap"
          ],
          [
           "atlanta indie"
          ],
          [
           "atlanta metal"
          ],
          [
           "atlanta punk"
          ],
          [
           "atmosphere"
          ],
          [
           "atmospheric black metal"
          ],
          [
           "atmospheric dnb"
          ],
          [
           "atmospheric post-metal"
          ],
          [
           "atmospheric post-rock"
          ],
          [
           "atmospheric sludge"
          ],
          [
           "auckland indie"
          ],
          [
           "audiophile vocal"
          ],
          [
           "aussietronica"
          ],
          [
           "austin americana"
          ],
          [
           "austin singer-songwriter"
          ],
          [
           "austindie"
          ],
          [
           "australian alternative pop"
          ],
          [
           "australian alternative rock"
          ],
          [
           "australian ambient"
          ],
          [
           "australian children's music"
          ],
          [
           "australian choir"
          ],
          [
           "australian classical"
          ],
          [
           "australian classical piano"
          ],
          [
           "australian country"
          ],
          [
           "australian dance"
          ],
          [
           "australian electropop"
          ],
          [
           "australian garage punk"
          ],
          [
           "australian hip hop"
          ],
          [
           "australian house"
          ],
          [
           "australian indie"
          ],
          [
           "australian indie folk"
          ],
          [
           "australian indie rock"
          ],
          [
           "australian indigenous"
          ],
          [
           "australian metal"
          ],
          [
           "australian metalcore"
          ],
          [
           "australian pop"
          ],
          [
           "australian post-hardcore"
          ],
          [
           "australian post-punk"
          ],
          [
           "australian psych"
          ],
          [
           "australian r&b"
          ],
          [
           "australian reggae fusion"
          ],
          [
           "australian rock"
          ],
          [
           "australian singer-songwriter"
          ],
          [
           "australian ska"
          ],
          [
           "australian talent show"
          ],
          [
           "australian trap"
          ],
          [
           "australian underground hip hop"
          ],
          [
           "austrian choir"
          ],
          [
           "austrian classical piano"
          ],
          [
           "austrian orchestra"
          ],
          [
           "austrian pop"
          ],
          [
           "austro-german modernism"
          ],
          [
           "austropop"
          ],
          [
           "autoharp"
          ],
          [
           "autonomous black metal"
          ],
          [
           "avant-garde"
          ],
          [
           "avant-garde jazz"
          ],
          [
           "avant-garde metal"
          ],
          [
           "axe"
          ],
          [
           "azeri traditional"
          ],
          [
           "azonto"
          ],
          [
           "azontobeats"
          ],
          [
           "bachata"
          ],
          [
           "bachata dominicana"
          ],
          [
           "background music"
          ],
          [
           "background piano"
          ],
          [
           "baglama"
          ],
          [
           "bahai"
          ],
          [
           "bahamian folk"
          ],
          [
           "bahamian pop"
          ],
          [
           "baiao"
          ],
          [
           "bajki"
          ],
          [
           "bakersfield sound"
          ],
          [
           "balearic"
          ],
          [
           "balkan brass"
          ],
          [
           "balkan classical piano"
          ],
          [
           "ballet class"
          ],
          [
           "ballroom"
          ],
          [
           "baltic classical"
          ],
          [
           "baltimore hip hop"
          ],
          [
           "baltimore indie"
          ],
          [
           "banda"
          ],
          [
           "banda caliente"
          ],
          [
           "banda carnavalera"
          ],
          [
           "bandinhas"
          ],
          [
           "bandolim"
          ],
          [
           "bandoneon"
          ],
          [
           "bangla"
          ],
          [
           "banjo"
          ],
          [
           "bansuri"
          ],
          [
           "barbadian pop"
          ],
          [
           "barbershop"
          ],
          [
           "bard"
          ],
          [
           "barnmusik"
          ],
          [
           "barockinterpreten"
          ],
          [
           "baroque"
          ],
          [
           "baroque brass"
          ],
          [
           "baroque ensemble"
          ],
          [
           "baroque pop"
          ],
          [
           "baroque singing"
          ],
          [
           "baroque violin"
          ],
          [
           "baroque woodwind"
          ],
          [
           "bass house"
          ],
          [
           "bass music"
          ],
          [
           "bass trap"
          ],
          [
           "basshall"
          ],
          [
           "bassline"
          ],
          [
           "bath indie"
          ],
          [
           "baton rouge indie"
          ],
          [
           "baton rouge rap"
          ],
          [
           "battle rap"
          ],
          [
           "bay area hip hop"
          ],
          [
           "bay area indie"
          ],
          [
           "bboy"
          ],
          [
           "bc underground hip hop"
          ],
          [
           "beach music"
          ],
          [
           "beat italiano"
          ],
          [
           "beat poetry"
          ],
          [
           "beatboxing"
          ],
          [
           "beatlesque"
          ],
          [
           "bebop"
          ],
          [
           "bedroom pop"
          ],
          [
           "bedroom soul"
          ],
          [
           "belarusian indie"
          ],
          [
           "belarusian pop"
          ],
          [
           "belarusian rock"
          ],
          [
           "belgian classical piano"
          ],
          [
           "belgian contemporary classical"
          ],
          [
           "belgian dance"
          ],
          [
           "belgian edm"
          ],
          [
           "belgian hardcore"
          ],
          [
           "belgian indie"
          ],
          [
           "belgian indie rock"
          ],
          [
           "belgian jazz"
          ],
          [
           "belgian new wave"
          ],
          [
           "belgian pop"
          ],
          [
           "belgian rock"
          ],
          [
           "belgian singer-songwriter"
          ],
          [
           "belgian techno"
          ],
          [
           "belly dance"
          ],
          [
           "bengali folk"
          ],
          [
           "beninese pop"
          ],
          [
           "bergen indie"
          ],
          [
           "berlin minimal techno"
          ],
          [
           "berlin school"
          ],
          [
           "bhajan"
          ],
          [
           "bhangra"
          ],
          [
           "bible"
          ],
          [
           "big band"
          ],
          [
           "big beat"
          ],
          [
           "big room"
          ],
          [
           "binaural"
          ],
          [
           "birdsong"
          ],
          [
           "birmingham grime"
          ],
          [
           "birmingham hip hop"
          ],
          [
           "birmingham metal"
          ],
          [
           "bitpop"
          ],
          [
           "black 'n' roll"
          ],
          [
           "black comedy"
          ],
          [
           "black metal"
          ],
          [
           "black punk"
          ],
          [
           "black thrash"
          ],
          [
           "blackened crust"
          ],
          [
           "blackgaze"
          ],
          [
           "bleep techno"
          ],
          [
           "bluegrass"
          ],
          [
           "bluegrass fiddle"
          ],
          [
           "bluegrass gospel"
          ],
          [
           "blues"
          ],
          [
           "blues latinoamericano"
          ],
          [
           "blues mexicano"
          ],
          [
           "blues rock"
          ],
          [
           "bmore"
          ],
          [
           "bolero"
          ],
          [
           "bolero cubano"
          ],
          [
           "boogaloo"
          ],
          [
           "boogie"
          ],
          [
           "boogie-woogie"
          ],
          [
           "boom bap"
          ],
          [
           "boom bap brasileiro"
          ],
          [
           "bossa nova"
          ],
          [
           "bossa nova jazz"
          ],
          [
           "boston folk"
          ],
          [
           "boston hardcore"
          ],
          [
           "boston hip hop"
          ],
          [
           "boston indie"
          ],
          [
           "boston metal"
          ],
          [
           "boston punk"
          ],
          [
           "boston rock"
          ],
          [
           "bounce"
          ],
          [
           "bouncy house"
          ],
          [
           "bouzouki"
          ],
          [
           "bow pop"
          ],
          [
           "boy band"
          ],
          [
           "boy pop"
          ],
          [
           "boy soprano"
          ],
          [
           "brain waves"
          ],
          [
           "braindance"
          ],
          [
           "brass band"
          ],
          [
           "brass ensemble"
          ],
          [
           "brass quintet"
          ],
          [
           "brazilian boogie"
          ],
          [
           "brazilian classical"
          ],
          [
           "brazilian classical piano"
          ],
          [
           "brazilian contemporary classical"
          ],
          [
           "brazilian edm"
          ],
          [
           "brazilian groove metal"
          ],
          [
           "brazilian hip hop"
          ],
          [
           "brazilian indie"
          ],
          [
           "brazilian jazz"
          ],
          [
           "brazilian metal"
          ],
          [
           "brazilian modern jazz"
          ],
          [
           "brazilian percussion"
          ],
          [
           "brazilian punk"
          ],
          [
           "brazilian reggae"
          ],
          [
           "brazilian rock"
          ],
          [
           "brazilian ska"
          ],
          [
           "brazilian soul"
          ],
          [
           "brazilian thrash metal"
          ],
          [
           "breakbeat"
          ],
          [
           "breakcore"
          ],
          [
           "brega"
          ],
          [
           "breton folk"
          ],
          [
           "brighton indie"
          ],
          [
           "brill building pop"
          ],
          [
           "brisbane indie"
          ],
          [
           "bristol electronic"
          ],
          [
           "bristol indie"
          ],
          [
           "brit funk"
          ],
          [
           "british alternative rock"
          ],
          [
           "british black metal"
          ],
          [
           "british blues"
          ],
          [
           "british children's music"
          ],
          [
           "british choir"
          ],
          [
           "british classical piano"
          ],
          [
           "british comedy"
          ],
          [
           "british contemporary classical"
          ],
          [
           "british dance band"
          ],
          [
           "british death metal"
          ],
          [
           "british experimental"
          ],
          [
           "british folk"
          ],
          [
           "british grindcore"
          ],
          [
           "british indie rock"
          ],
          [
           "british industrial"
          ],
          [
           "british invasion"
          ],
          [
           "british jazz"
          ],
          [
           "british modern classical"
          ],
          [
           "british orchestra"
          ],
          [
           "british post-rock"
          ],
          [
           "british power metal"
          ],
          [
           "british singer-songwriter"
          ],
          [
           "british soul"
          ],
          [
           "british soundtrack"
          ],
          [
           "britpop"
          ],
          [
           "broadway"
          ],
          [
           "broken beat"
          ],
          [
           "bronx hip hop"
          ],
          [
           "brooklyn drill"
          ],
          [
           "brooklyn indie"
          ],
          [
           "brostep"
          ],
          [
           "brutal death metal"
          ],
          [
           "brutal deathcore"
          ],
          [
           "bubble trance"
          ],
          [
           "bubblegrunge"
          ],
          [
           "bubblegum dance"
          ],
          [
           "bubblegum pop"
          ],
          [
           "buffalo hip hop"
          ],
          [
           "buffalo ny indie"
          ],
          [
           "buffalo ny metal"
          ],
          [
           "bulgarian experimental"
          ],
          [
           "burmese traditional"
          ],
          [
           "bush ballad"
          ],
          [
           "c-pop"
          ],
          [
           "c86"
          ],
          [
           "cabaret"
          ],
          [
           "cajun"
          ],
          [
           "calgary indie"
          ],
          [
           "cali rap"
          ],
          [
           "calming instrumental"
          ],
          [
           "calypso"
          ],
          [
           "cambodian rock"
          ],
          [
           "cambridge choir"
          ],
          [
           "cambridgeshire indie"
          ],
          [
           "cameroonian pop"
          ],
          [
           "canadian americana"
          ],
          [
           "canadian blues"
          ],
          [
           "canadian ccm"
          ],
          [
           "canadian celtic"
          ],
          [
           "canadian children's music"
          ],
          [
           "canadian choir"
          ],
          [
           "canadian classical"
          ],
          [
           "canadian classical piano"
          ],
          [
           "canadian comedy"
          ],
          [
           "canadian contemporary country"
          ],
          [
           "canadian contemporary r&b"
          ],
          [
           "canadian country"
          ],
          [
           "canadian electronic"
          ],
          [
           "canadian electropop"
          ],
          [
           "canadian experimental"
          ],
          [
           "canadian folk"
          ],
          [
           "canadian hardcore"
          ],
          [
           "canadian hip hop"
          ],
          [
           "canadian house"
          ],
          [
           "canadian indie"
          ],
          [
           "canadian indie folk"
          ],
          [
           "canadian indigenous"
          ],
          [
           "canadian indigenous hip hop"
          ],
          [
           "canadian latin"
          ],
          [
           "canadian metal"
          ],
          [
           "canadian metalcore"
          ],
          [
           "canadian modern jazz"
          ],
          [
           "canadian pop"
          ],
          [
           "canadian pop punk"
          ],
          [
           "canadian post-hardcore"
          ],
          [
           "canadian post-rock"
          ],
          [
           "canadian psychedelic"
          ],
          [
           "canadian punk"
          ],
          [
           "canadian rock"
          ],
          [
           "canadian rockabilly"
          ],
          [
           "canadian singer-songwriter"
          ],
          [
           "canadian soundtrack"
          ],
          [
           "cancion melodica"
          ],
          [
           "candy pop"
          ],
          [
           "cantautor"
          ],
          [
           "cante flamenco"
          ],
          [
           "canterbury scene"
          ],
          [
           "canto popular uruguayo"
          ],
          [
           "cantopop"
          ],
          [
           "canzone d'autore"
          ],
          [
           "canzone genovese"
          ],
          [
           "canzone napoletana"
          ],
          [
           "cape town indie"
          ],
          [
           "cape verdean folk"
          ],
          [
           "capoeira"
          ],
          [
           "caracas indie"
          ],
          [
           "carnatic"
          ],
          [
           "carnatic instrumental"
          ],
          [
           "carnatic vocal"
          ],
          [
           "cartoon"
          ],
          [
           "cathedral choir"
          ],
          [
           "caucasian classical"
          ],
          [
           "caucasian classical piano"
          ],
          [
           "ccm"
          ],
          [
           "cedm"
          ],
          [
           "cello"
          ],
          [
           "celtic"
          ],
          [
           "celtic harp"
          ],
          [
           "celtic metal"
          ],
          [
           "celtic punk"
          ],
          [
           "celtic rock"
          ],
          [
           "cha-cha-cha"
          ],
          [
           "chakra"
          ],
          [
           "chamame"
          ],
          [
           "chamber choir"
          ],
          [
           "chamber ensemble"
          ],
          [
           "chamber folk"
          ],
          [
           "chamber orchestra"
          ],
          [
           "chamber pop"
          ],
          [
           "chamber psych"
          ],
          [
           "champeta"
          ],
          [
           "channel islands indie"
          ],
          [
           "channel pop"
          ],
          [
           "chanson"
          ],
          [
           "chanson paillarde"
          ],
          [
           "chaotic hardcore"
          ],
          [
           "charanga"
          ],
          [
           "charango"
          ],
          [
           "charlotte nc indie"
          ],
          [
           "charlottesville indie"
          ],
          [
           "chattanooga indie"
          ],
          [
           "chicago blues"
          ],
          [
           "chicago drill"
          ],
          [
           "chicago hardcore"
          ],
          [
           "chicago house"
          ],
          [
           "chicago indie"
          ],
          [
           "chicago pop punk"
          ],
          [
           "chicago punk"
          ],
          [
           "chicago rap"
          ],
          [
           "chicago soul"
          ],
          [
           "chicano punk"
          ],
          [
           "chicano rap"
          ],
          [
           "chicha"
          ],
          [
           "chihuahua indie"
          ],
          [
           "children's choir"
          ],
          [
           "children's folk"
          ],
          [
           "children's music"
          ],
          [
           "children's story"
          ],
          [
           "chilean hardcore"
          ],
          [
           "chilean indie"
          ],
          [
           "chilean rock"
          ],
          [
           "chilena"
          ],
          [
           "chill beats"
          ],
          [
           "chill guitar"
          ],
          [
           "chill lounge"
          ],
          [
           "chill out"
          ],
          [
           "chill pop"
          ],
          [
           "chill r&b"
          ],
          [
           "chillhop"
          ],
          [
           "chillstep"
          ],
          [
           "chillwave"
          ],
          [
           "chinese audiophile"
          ],
          [
           "chinese classical"
          ],
          [
           "chinese classical performance"
          ],
          [
           "chinese classical piano"
          ],
          [
           "chinese electropop"
          ],
          [
           "chinese hip hop"
          ],
          [
           "chinese idol pop"
          ],
          [
           "chinese indie"
          ],
          [
           "chinese indie rock"
          ],
          [
           "chinese instrumental"
          ],
          [
           "chinese jazz"
          ],
          [
           "chinese r&b"
          ],
          [
           "chinese soundtrack"
          ],
          [
           "chinese traditional"
          ],
          [
           "chiptune"
          ],
          [
           "chopped and screwed"
          ],
          [
           "choral"
          ],
          [
           "choro"
          ],
          [
           "christchurch indie"
          ],
          [
           "christelijk"
          ],
          [
           "christian a cappella"
          ],
          [
           "christian alternative rock"
          ],
          [
           "christian dance"
          ],
          [
           "christian hard rock"
          ],
          [
           "christian hardcore"
          ],
          [
           "christian hip hop"
          ],
          [
           "christian indie"
          ],
          [
           "christian metal"
          ],
          [
           "christian metalcore"
          ],
          [
           "christian music"
          ],
          [
           "christian pop"
          ],
          [
           "christian power metal"
          ],
          [
           "christian punk"
          ],
          [
           "christian relaxative"
          ],
          [
           "christian rock"
          ],
          [
           "christian trap"
          ],
          [
           "christian uplift"
          ],
          [
           "christmas instrumental"
          ],
          [
           "christmas product"
          ],
          [
           "chunchaca"
          ],
          [
           "chutney"
          ],
          [
           "cincinnati rap"
          ],
          [
           "cinematic post-rock"
          ],
          [
           "circuit"
          ],
          [
           "circus"
          ],
          [
           "classic afrobeat"
          ],
          [
           "classic arab pop"
          ],
          [
           "classic australian country"
          ],
          [
           "classic belgian pop"
          ],
          [
           "classic bhangra"
          ],
          [
           "classic bollywood"
          ],
          [
           "classic canadian rock"
          ],
          [
           "classic cantopop"
          ],
          [
           "classic colombian pop"
          ],
          [
           "classic country pop"
          ],
          [
           "classic czech pop"
          ],
          [
           "classic danish pop"
          ],
          [
           "classic dubstep"
          ],
          [
           "classic eurovision"
          ],
          [
           "classic finnish pop"
          ],
          [
           "classic french pop"
          ],
          [
           "classic garage rock"
          ],
          [
           "classic girl group"
          ],
          [
           "classic greek pop"
          ],
          [
           "classic hardstyle"
          ],
          [
           "classic icelandic pop"
          ],
          [
           "classic indo pop"
          ],
          [
           "classic iskelma"
          ],
          [
           "classic israeli pop"
          ],
          [
           "classic italian folk pop"
          ],
          [
           "classic italian pop"
          ],
          [
           "classic j-rock"
          ],
          [
           "classic japanese jazz"
          ],
          [
           "classic korean pop"
          ],
          [
           "classic latvian pop"
          ],
          [
           "classic mandopop"
          ],
          [
           "classic norwegian pop"
          ],
          [
           "classic opm"
          ],
          [
           "classic pakistani pop"
          ],
          [
           "classic persian pop"
          ],
          [
           "classic peruvian pop"
          ],
          [
           "classic polish pop"
          ],
          [
           "classic praise"
          ],
          [
           "classic psychedelic rock"
          ],
          [
           "classic punjabi pop"
          ],
          [
           "classic rock"
          ],
          [
           "classic russian pop"
          ],
          [
           "classic russian rock"
          ],
          [
           "classic schlager"
          ],
          [
           "classic soul"
          ],
          [
           "classic soundtrack"
          ],
          [
           "classic swedish pop"
          ],
          [
           "classic thai pop"
          ],
          [
           "classic tunisian pop"
          ],
          [
           "classic turkish pop"
          ],
          [
           "classic uk pop"
          ],
          [
           "classic venezuelan pop"
          ],
          [
           "classical"
          ],
          [
           "classical accordion"
          ],
          [
           "classical baritone"
          ],
          [
           "classical bass"
          ],
          [
           "classical cello"
          ],
          [
           "classical clarinet"
          ],
          [
           "classical contralto"
          ],
          [
           "classical countertenor"
          ],
          [
           "classical era"
          ],
          [
           "classical flute"
          ],
          [
           "classical guitar"
          ],
          [
           "classical harp"
          ],
          [
           "classical horn"
          ],
          [
           "classical mandolin"
          ],
          [
           "classical mezzo-soprano"
          ],
          [
           "classical oboe"
          ],
          [
           "classical organ"
          ],
          [
           "classical performance"
          ],
          [
           "classical piano"
          ],
          [
           "classical piano duo"
          ],
          [
           "classical piano trio"
          ],
          [
           "classical saxophone"
          ],
          [
           "classical soprano"
          ],
          [
           "classical tenor"
          ],
          [
           "classical trumpet"
          ],
          [
           "classify"
          ],
          [
           "clawhammer banjo"
          ],
          [
           "clean comedy"
          ],
          [
           "cleveland metal"
          ],
          [
           "coco"
          ],
          [
           "collage pop"
          ],
          [
           "college a cappella"
          ],
          [
           "colombian hip hop"
          ],
          [
           "colombian pop"
          ],
          [
           "colombian rock"
          ],
          [
           "columbus ohio indie"
          ],
          [
           "comedy"
          ],
          [
           "comedy rap"
          ],
          [
           "comedy rock"
          ],
          [
           "comic"
          ],
          [
           "comic metal"
          ],
          [
           "commons"
          ],
          [
           "complextro"
          ],
          [
           "compositional ambient"
          ],
          [
           "concepcion indie"
          ],
          [
           "concert band"
          ],
          [
           "connecticut hardcore"
          ],
          [
           "connecticut indie"
          ],
          [
           "conscious hip hop"
          ],
          [
           "contemporary choir"
          ],
          [
           "contemporary classical"
          ],
          [
           "contemporary classical piano"
          ],
          [
           "contemporary country"
          ],
          [
           "contemporary folk"
          ],
          [
           "contemporary gospel"
          ],
          [
           "contemporary jazz"
          ],
          [
           "contemporary post-bop"
          ],
          [
           "contemporary vocal jazz"
          ],
          [
           "contrabass"
          ],
          [
           "cool jazz"
          ],
          [
           "copla"
          ],
          [
           "cornish folk"
          ],
          [
           "cornwall indie"
          ],
          [
           "corrido"
          ],
          [
           "corridos cristianos"
          ],
          [
           "corridos tumbados"
          ],
          [
           "corrosion"
          ],
          [
           "cosmic american"
          ],
          [
           "cosmic post-rock"
          ],
          [
           "country"
          ],
          [
           "country blues"
          ],
          [
           "country boogie"
          ],
          [
           "country dawn"
          ],
          [
           "country gospel"
          ],
          [
           "country pop"
          ],
          [
           "country rap"
          ],
          [
           "country road"
          ],
          [
           "country rock"
          ],
          [
           "coverchill"
          ],
          [
           "cowboy western"
          ],
          [
           "cowpunk"
          ],
          [
           "crack rock steady"
          ],
          [
           "croatian folk"
          ],
          [
           "croatian pop"
          ],
          [
           "croatian rock"
          ],
          [
           "crossover thrash"
          ],
          [
           "crunk"
          ],
          [
           "crust punk"
          ],
          [
           "cuarteto"
          ],
          [
           "cuatro venezolano"
          ],
          [
           "cuban alternative"
          ],
          [
           "cuban rumba"
          ],
          [
           "cubaton"
          ],
          [
           "cumbia"
          ],
          [
           "cumbia andina mexicana"
          ],
          [
           "cumbia chilena"
          ],
          [
           "cumbia colombiana regia"
          ],
          [
           "cumbia ecuatoriana"
          ],
          [
           "cumbia funk"
          ],
          [
           "cumbia lagunera"
          ],
          [
           "cumbia paraguaya"
          ],
          [
           "cumbia peruana"
          ],
          [
           "cumbia pop"
          ],
          [
           "cumbia ranchera"
          ],
          [
           "cumbia salvadorena"
          ],
          [
           "cumbia santafesina"
          ],
          [
           "cumbia sonidera"
          ],
          [
           "cumbia villera"
          ],
          [
           "cyberpunk"
          ],
          [
           "cymraeg"
          ],
          [
           "cypriot pop"
          ],
          [
           "czech classical"
          ],
          [
           "czech classical piano"
          ],
          [
           "czech contemporary classical"
          ],
          [
           "d-beat"
          ],
          [
           "dabke"
          ],
          [
           "dakke dak"
          ],
          [
           "dallas indie"
          ],
          [
           "dance pop"
          ],
          [
           "dance rock"
          ],
          [
           "dance-punk"
          ],
          [
           "dancehall"
          ],
          [
           "dangdut"
          ],
          [
           "danish alternative rock"
          ],
          [
           "danish classical"
          ],
          [
           "danish electronic"
          ],
          [
           "danish electropop"
          ],
          [
           "danish hip hop"
          ],
          [
           "danish jazz"
          ],
          [
           "danish metal"
          ],
          [
           "danish pop"
          ],
          [
           "danish pop rock"
          ],
          [
           "danish post-punk"
          ],
          [
           "danish punk"
          ],
          [
           "danish rock"
          ],
          [
           "danish singer-songwriter"
          ],
          [
           "dansband"
          ],
          [
           "danseband"
          ],
          [
           "dansktop"
          ],
          [
           "danspunk"
          ],
          [
           "dark cabaret"
          ],
          [
           "dark clubbing"
          ],
          [
           "dark disco"
          ],
          [
           "dark hardcore"
          ],
          [
           "dark jazz"
          ],
          [
           "dark minimal techno"
          ],
          [
           "dark post-punk"
          ],
          [
           "dark techno"
          ],
          [
           "dark trap"
          ],
          [
           "dark wave"
          ],
          [
           "darksynth"
          ],
          [
           "dayton indie"
          ],
          [
           "dc hardcore"
          ],
          [
           "dc indie"
          ],
          [
           "death 'n' roll"
          ],
          [
           "death metal"
          ],
          [
           "deathcore"
          ],
          [
           "deathgrass"
          ],
          [
           "deathgrind"
          ],
          [
           "deathrash"
          ],
          [
           "deathrock"
          ],
          [
           "deathstep"
          ],
          [
           "deep acoustic pop"
          ],
          [
           "deep adult standards"
          ],
          [
           "deep big room"
          ],
          [
           "deep ccm"
          ],
          [
           "deep christian rock"
          ],
          [
           "deep classic garage rock"
          ],
          [
           "deep comedy"
          ],
          [
           "deep contemporary country"
          ],
          [
           "deep dance pop"
          ],
          [
           "deep delta blues"
          ],
          [
           "deep disco"
          ],
          [
           "deep disco house"
          ],
          [
           "deep dnb"
          ],
          [
           "deep east coast hip hop"
          ],
          [
           "deep euro house"
          ],
          [
           "deep flow"
          ],
          [
           "deep free jazz"
          ],
          [
           "deep freestyle"
          ],
          [
           "deep full on"
          ],
          [
           "deep funk"
          ],
          [
           "deep g funk"
          ],
          [
           "deep gothic post-punk"
          ],
          [
           "deep groove house"
          ],
          [
           "deep house"
          ],
          [
           "deep idm"
          ],
          [
           "deep indian pop"
          ],
          [
           "deep indie singer-songwriter"
          ],
          [
           "deep latin alternative"
          ],
          [
           "deep latin christian"
          ],
          [
           "deep melodic metalcore"
          ],
          [
           "deep minimal techno"
          ],
          [
           "deep motown"
          ],
          [
           "deep new americana"
          ],
          [
           "deep new wave"
          ],
          [
           "deep norteno"
          ],
          [
           "deep northern soul"
          ],
          [
           "deep pop edm"
          ],
          [
           "deep progressive house"
          ],
          [
           "deep psychobilly"
          ],
          [
           "deep punk rock"
          ],
          [
           "deep r&b"
          ],
          [
           "deep ragga"
          ],
          [
           "deep regional mexican"
          ],
          [
           "deep smooth jazz"
          ],
          [
           "deep soft rock"
          ],
          [
           "deep soul house"
          ],
          [
           "deep soundtrack"
          ],
          [
           "deep southern soul"
          ],
          [
           "deep southern trap"
          ],
          [
           "deep space rock"
          ],
          [
           "deep talent show"
          ],
          [
           "deep tech house"
          ],
          [
           "deep techno"
          ],
          [
           "deep tropical house"
          ],
          [
           "deep underground hip hop"
          ],
          [
           "deep uplifting trance"
          ],
          [
           "delta blues"
          ],
          [
           "dembow"
          ],
          [
           "denpa-kei"
          ],
          [
           "denton tx indie"
          ],
          [
           "denver indie"
          ],
          [
           "depressive black metal"
          ],
          [
           "derby indie"
          ],
          [
           "desert blues"
          ],
          [
           "desi hip hop"
          ],
          [
           "desi pop"
          ],
          [
           "destroy techno"
          ],
          [
           "detroit hip hop"
          ],
          [
           "detroit house"
          ],
          [
           "detroit techno"
          ],
          [
           "detroit trap"
          ],
          [
           "detske pisnicky"
          ],
          [
           "detskie pesni"
          ],
          [
           "devon indie"
          ],
          [
           "dfw rap"
          ],
          [
           "dhrupad"
          ],
          [
           "digital hardcore"
          ],
          [
           "dinner jazz"
          ],
          [
           "dirty south rap"
          ],
          [
           "dirty texas rap"
          ],
          [
           "disco"
          ],
          [
           "disco house"
          ],
          [
           "disney"
          ],
          [
           "diva house"
          ],
          [
           "dixieland"
          ],
          [
           "diy emo"
          ],
          [
           "djent"
          ],
          [
           "dmv rap"
          ],
          [
           "dominican pop"
          ],
          [
           "dong-yo"
          ],
          [
           "doo-wop"
          ],
          [
           "doom metal"
          ],
          [
           "double drumming"
          ],
          [
           "downtempo"
          ],
          [
           "drama"
          ],
          [
           "dream pop"
          ],
          [
           "dream trance"
          ],
          [
           "dreamgaze"
          ],
          [
           "dreamo"
          ],
          [
           "drift"
          ],
          [
           "drill"
          ],
          [
           "drill and bass"
          ],
          [
           "drone"
          ],
          [
           "drone folk"
          ],
          [
           "drone metal"
          ],
          [
           "drum and bass"
          ],
          [
           "dub"
          ],
          [
           "dub metal"
          ],
          [
           "dub poetry"
          ],
          [
           "dub techno"
          ],
          [
           "dubstep"
          ],
          [
           "dubsteppe"
          ],
          [
           "duduk"
          ],
          [
           "duluth indie"
          ],
          [
           "dunedin indie"
          ],
          [
           "dunedin sound"
          ],
          [
           "dungeon synth"
          ],
          [
           "duranguense"
          ],
          [
           "dusseldorf electronic"
          ],
          [
           "dutch blues"
          ],
          [
           "dutch cabaret"
          ],
          [
           "dutch classical piano"
          ],
          [
           "dutch death metal"
          ],
          [
           "dutch dnb"
          ],
          [
           "dutch edm"
          ],
          [
           "dutch folk"
          ],
          [
           "dutch hip hop"
          ],
          [
           "dutch house"
          ],
          [
           "dutch indie"
          ],
          [
           "dutch jazz"
          ],
          [
           "dutch metal"
          ],
          [
           "dutch pop"
          ],
          [
           "dutch prog"
          ],
          [
           "dutch rap pop"
          ],
          [
           "dutch rock"
          ],
          [
           "dutch trance"
          ],
          [
           "e6fi"
          ],
          [
           "early american folk"
          ],
          [
           "early avant garde"
          ],
          [
           "early modern classical"
          ],
          [
           "early music"
          ],
          [
           "early music choir"
          ],
          [
           "early music ensemble"
          ],
          [
           "early reggae"
          ],
          [
           "early romantic era"
          ],
          [
           "early synthpop"
          ],
          [
           "early us punk"
          ],
          [
           "east coast hip hop"
          ],
          [
           "east coast reggae"
          ],
          [
           "eastern bloc groove"
          ],
          [
           "easy listening"
          ],
          [
           "easycore"
          ],
          [
           "eau claire indie"
          ],
          [
           "ebm"
          ],
          [
           "ecm-style jazz"
          ],
          [
           "ectofolk"
          ],
          [
           "ecuadorian pop"
          ],
          [
           "edm"
          ],
          [
           "edmonton indie"
          ],
          [
           "egyptian pop"
          ],
          [
           "egyptian traditional"
          ],
          [
           "el paso indie"
          ],
          [
           "electra"
          ],
          [
           "electric bass"
          ],
          [
           "electric blues"
          ],
          [
           "electro"
          ],
          [
           "electro house"
          ],
          [
           "electro jazz"
          ],
          [
           "electro latino"
          ],
          [
           "electro swing"
          ],
          [
           "electro-industrial"
          ],
          [
           "electro-pop francais"
          ],
          [
           "electroclash"
          ],
          [
           "electrofox"
          ],
          [
           "electronic djent"
          ],
          [
           "electronic rock"
          ],
          [
           "electronic trap"
          ],
          [
           "electronica"
          ],
          [
           "electronica argentina"
          ],
          [
           "electropop"
          ],
          [
           "electropowerpop"
          ],
          [
           "emo"
          ],
          [
           "emo mexicano"
          ],
          [
           "emo punk"
          ],
          [
           "emo rap"
          ],
          [
           "emocore"
          ],
          [
           "english baroque"
          ],
          [
           "english indie rock"
          ],
          [
           "english renaissance"
          ],
          [
           "enka"
          ],
          [
           "entehno"
          ],
          [
           "environmental"
          ],
          [
           "epic doom"
          ],
          [
           "epicore"
          ],
          [
           "erhu"
          ],
          [
           "escape room"
          ],
          [
           "esperanto"
          ],
          [
           "essex indie"
          ],
          [
           "estonian hip hop"
          ],
          [
           "estonian pop"
          ],
          [
           "ethereal wave"
          ],
          [
           "etherpop"
          ],
          [
           "ethio-jazz"
          ],
          [
           "ethiopian pop"
          ],
          [
           "ethnomusicology"
          ],
          [
           "ethnotronica"
          ],
          [
           "eugene indie"
          ],
          [
           "euphoric hardstyle"
          ],
          [
           "eurobeat"
          ],
          [
           "eurodance"
          ],
          [
           "europop"
          ],
          [
           "euroska"
          ],
          [
           "eurovision"
          ],
          [
           "exotica"
          ],
          [
           "experimental"
          ],
          [
           "experimental ambient"
          ],
          [
           "experimental big band"
          ],
          [
           "experimental dub"
          ],
          [
           "experimental folk"
          ],
          [
           "experimental guitar"
          ],
          [
           "experimental hip hop"
          ],
          [
           "experimental house"
          ],
          [
           "experimental indie"
          ],
          [
           "experimental jazz"
          ],
          [
           "experimental pop"
          ],
          [
           "experimental rock"
          ],
          [
           "experimental vocal"
          ],
          [
           "fado"
          ],
          [
           "family gospel"
          ],
          [
           "faroese pop"
          ],
          [
           "fast melodic punk"
          ],
          [
           "fidget house"
          ],
          [
           "filmi"
          ],
          [
           "filter house"
          ],
          [
           "filthstep"
          ],
          [
           "final fantasy"
          ],
          [
           "fingerstyle"
          ],
          [
           "finnish alternative rock"
          ],
          [
           "finnish classical"
          ],
          [
           "finnish contemporary classical"
          ],
          [
           "finnish death metal"
          ],
          [
           "finnish edm"
          ],
          [
           "finnish hard rock"
          ],
          [
           "finnish heavy metal"
          ],
          [
           "finnish metal"
          ],
          [
           "finnish power metal"
          ],
          [
           "finnish soul"
          ],
          [
           "flamenco"
          ],
          [
           "flamenco guitar"
          ],
          [
           "flick hop"
          ],
          [
           "flint hip hop"
          ],
          [
           "float house"
          ],
          [
           "florida death metal"
          ],
          [
           "florida rap"
          ],
          [
           "fluxwork"
          ],
          [
           "fo jing"
          ],
          [
           "focus"
          ],
          [
           "focus beats"
          ],
          [
           "focus trance"
          ],
          [
           "folclor afrocolombiano"
          ],
          [
           "folclor colombiano"
          ],
          [
           "folclore extremeno"
          ],
          [
           "folclore jujeno"
          ],
          [
           "folclore navarra"
          ],
          [
           "folclore salteno"
          ],
          [
           "folclore tucumano"
          ],
          [
           "folk"
          ],
          [
           "folk metal"
          ],
          [
           "folk punk"
          ],
          [
           "folk rock"
          ],
          [
           "folk rock italiano"
          ],
          [
           "folk-pop"
          ],
          [
           "folklore argentino"
          ],
          [
           "folklore boliviano"
          ],
          [
           "folklore chileno"
          ],
          [
           "folklore ecuatoriano"
          ],
          [
           "folklore peruano"
          ],
          [
           "folklore venezolano"
          ],
          [
           "folklore veracruzano"
          ],
          [
           "folkmusik"
          ],
          [
           "folktronica"
          ],
          [
           "footwork"
          ],
          [
           "forro"
          ],
          [
           "forro tradicional"
          ],
          [
           "fort worth indie"
          ],
          [
           "fourth world"
          ],
          [
           "francoton"
          ],
          [
           "freak folk"
          ],
          [
           "freakbeat"
          ],
          [
           "free folk"
          ],
          [
           "free improvisation"
          ],
          [
           "free jazz"
          ],
          [
           "freestyle"
          ],
          [
           "french baroque"
          ],
          [
           "french classical piano"
          ],
          [
           "french contemporary classical"
          ],
          [
           "french death metal"
          ],
          [
           "french dnb"
          ],
          [
           "french hip hop"
          ],
          [
           "french indie folk"
          ],
          [
           "french indie pop"
          ],
          [
           "french indietronica"
          ],
          [
           "french jazz"
          ],
          [
           "french metal"
          ],
          [
           "french movie tunes"
          ],
          [
           "french opera"
          ],
          [
           "french orchestra"
          ],
          [
           "french pop"
          ],
          [
           "french post-punk"
          ],
          [
           "french psychedelic"
          ],
          [
           "french reggae"
          ],
          [
           "french rock"
          ],
          [
           "french romanticism"
          ],
          [
           "french shoegaze"
          ],
          [
           "french soundtrack"
          ],
          [
           "french synthpop"
          ],
          [
           "french techno"
          ],
          [
           "frenchcore"
          ],
          [
           "full on"
          ],
          [
           "funana"
          ],
          [
           "funeral doom"
          ],
          [
           "funk"
          ],
          [
           "funk 150 bpm"
          ],
          [
           "funk carioca"
          ],
          [
           "funk das antigas"
          ],
          [
           "funk metal"
          ],
          [
           "funk mexicano"
          ],
          [
           "funk ostentacao"
          ],
          [
           "funk paulista"
          ],
          [
           "funk pop"
          ],
          [
           "funk rock"
          ],
          [
           "funky breaks"
          ],
          [
           "funky tech house"
          ],
          [
           "future bass"
          ],
          [
           "future funk"
          ],
          [
           "future garage"
          ],
          [
           "future house"
          ],
          [
           "future rock"
          ],
          [
           "futurepop"
          ],
          [
           "g funk"
          ],
          [
           "gabba"
          ],
          [
           "gabonese pop"
          ],
          [
           "gaian doom"
          ],
          [
           "gainesville indie"
          ],
          [
           "gaita zuliana"
          ],
          [
           "galante era"
          ],
          [
           "gamelan"
          ],
          [
           "gaming dubstep"
          ],
          [
           "gaming edm"
          ],
          [
           "gangster rap"
          ],
          [
           "garage house"
          ],
          [
           "garage pop"
          ],
          [
           "garage psych"
          ],
          [
           "garage punk"
          ],
          [
           "garage punk blues"
          ],
          [
           "garage rock"
          ],
          [
           "garage rock revival"
          ],
          [
           "gauze pop"
          ],
          [
           "gbvfi"
          ],
          [
           "geek folk"
          ],
          [
           "geek rock"
          ],
          [
           "georgian folk"
          ],
          [
           "german alternative rock"
          ],
          [
           "german baroque"
          ],
          [
           "german choir"
          ],
          [
           "german classical piano"
          ],
          [
           "german country"
          ],
          [
           "german dance"
          ],
          [
           "german hard rock"
          ],
          [
           "german heavy metal"
          ],
          [
           "german house"
          ],
          [
           "german indie"
          ],
          [
           "german jazz"
          ],
          [
           "german literature"
          ],
          [
           "german metal"
          ],
          [
           "german oi"
          ],
          [
           "german opera"
          ],
          [
           "german orchestra"
          ],
          [
           "german pop"
          ],
          [
           "german pop rock"
          ],
          [
           "german post-hardcore"
          ],
          [
           "german power metal"
          ],
          [
           "german punk"
          ],
          [
           "german renaissance"
          ],
          [
           "german rock"
          ],
          [
           "german romanticism"
          ],
          [
           "german show tunes"
          ],
          [
           "german soundtrack"
          ],
          [
           "german techno"
          ],
          [
           "german thrash metal"
          ],
          [
           "german trance"
          ],
          [
           "german underground rap"
          ],
          [
           "ghanaian hip hop"
          ],
          [
           "ghanaian traditional"
          ],
          [
           "ghazal"
          ],
          [
           "ghent indie"
          ],
          [
           "girl group"
          ],
          [
           "glam metal"
          ],
          [
           "glam punk"
          ],
          [
           "glam rock"
          ],
          [
           "glee club"
          ],
          [
           "glitch"
          ],
          [
           "glitch hop"
          ],
          [
           "glitch pop"
          ],
          [
           "glitchcore"
          ],
          [
           "go-go"
          ],
          [
           "goregrind"
          ],
          [
           "gospel"
          ],
          [
           "gospel antigas"
          ],
          [
           "gospel blues"
          ],
          [
           "gospel italiano"
          ],
          [
           "gospel r&b"
          ],
          [
           "gospel rap"
          ],
          [
           "gospel singers"
          ],
          [
           "gospel soul"
          ],
          [
           "gothabilly"
          ],
          [
           "gothenburg indie"
          ],
          [
           "gothenburg metal"
          ],
          [
           "gothic alternative"
          ],
          [
           "gothic americana"
          ],
          [
           "gothic black metal"
          ],
          [
           "gothic metal"
          ],
          [
           "gothic post-punk"
          ],
          [
           "gothic rock"
          ],
          [
           "gothic symphonic metal"
          ],
          [
           "gqom"
          ],
          [
           "grand rapids indie"
          ],
          [
           "grave wave"
          ],
          [
           "greek clarinet"
          ],
          [
           "greek contemporary classical"
          ],
          [
           "greek folk"
          ],
          [
           "greek guitar"
          ],
          [
           "greek house"
          ],
          [
           "greek jazz"
          ],
          [
           "greek pop"
          ],
          [
           "greek swing"
          ],
          [
           "gregorian chant"
          ],
          [
           "grime"
          ],
          [
           "grindcore"
          ],
          [
           "griot"
          ],
          [
           "groove metal"
          ],
          [
           "groove room"
          ],
          [
           "grunge"
          ],
          [
           "grunge pop"
          ],
          [
           "grupera"
          ],
          [
           "gruperas inmortales"
          ],
          [
           "guadalajara indie"
          ],
          [
           "guam indie"
          ],
          [
           "guaracha"
          ],
          [
           "guatemalan pop"
          ],
          [
           "guidance"
          ],
          [
           "guinean pop"
          ],
          [
           "guitarra argentina"
          ],
          [
           "guitarra clasica"
          ],
          [
           "guitarra portuguesa"
          ],
          [
           "gujarati garba"
          ],
          [
           "gujarati pop"
          ],
          [
           "guzheng"
          ],
          [
           "gymcore"
          ],
          [
           "gypsy"
          ],
          [
           "gypsy jazz"
          ],
          [
           "gypsy punk"
          ],
          [
           "haitian traditional"
          ],
          [
           "halifax indie"
          ],
          [
           "halloween"
          ],
          [
           "hamburg electronic"
          ],
          [
           "hammered dulcimer"
          ],
          [
           "hammond organ"
          ],
          [
           "hands up"
          ],
          [
           "hangpan"
          ],
          [
           "happy hardcore"
          ],
          [
           "hard alternative"
          ],
          [
           "hard bop"
          ],
          [
           "hard minimal techno"
          ],
          [
           "hard rock"
          ],
          [
           "hard rock brasileiro"
          ],
          [
           "hardcore"
          ],
          [
           "hardcore hip hop"
          ],
          [
           "hardcore punk"
          ],
          [
           "hardcore techno"
          ],
          [
           "hardstyle"
          ],
          [
           "harlem hip hop"
          ],
          [
           "harlem renaissance"
          ],
          [
           "harmonica blues"
          ],
          [
           "harmonica jazz"
          ],
          [
           "harp"
          ],
          [
           "harpsichord"
          ],
          [
           "haryanvi pop"
          ],
          [
           "hauntology"
          ],
          [
           "hawaiian"
          ],
          [
           "hawaiian hip hop"
          ],
          [
           "hawaiian indie"
          ],
          [
           "healing"
          ],
          [
           "heartland rock"
          ],
          [
           "hi-nrg"
          ],
          [
           "highlife"
          ],
          [
           "hindi hip hop"
          ],
          [
           "hindi indie"
          ],
          [
           "hindustani classical"
          ],
          [
           "hindustani instrumental"
          ],
          [
           "hindustani vocal"
          ],
          [
           "hip hop"
          ],
          [
           "hip hop cubano"
          ],
          [
           "hip house"
          ],
          [
           "hip pop"
          ],
          [
           "hiplife"
          ],
          [
           "histoire pour enfants"
          ],
          [
           "historic classical performance"
          ],
          [
           "historic orchestral performance"
          ],
          [
           "historic piano performance"
          ],
          [
           "historic string quartet"
          ],
          [
           "historical keyboard"
          ],
          [
           "historically informed performance"
          ],
          [
           "hoerspiel"
          ],
          [
           "hokkien pop"
          ],
          [
           "hollywood"
          ],
          [
           "hong kong hip hop"
          ],
          [
           "hong kong indie"
          ],
          [
           "hong kong rock"
          ],
          [
           "honky tonk"
          ],
          [
           "honky-tonk piano"
          ],
          [
           "hopebeat"
          ],
          [
           "horror punk"
          ],
          [
           "horror synth"
          ],
          [
           "horrorcore"
          ],
          [
           "house"
          ],
          [
           "houston rap"
          ],
          [
           "huapango"
          ],
          [
           "huayno"
          ],
          [
           "hula"
          ],
          [
           "humppa"
          ],
          [
           "hungarian choir"
          ],
          [
           "hungarian classical performance"
          ],
          [
           "hungarian classical piano"
          ],
          [
           "hungarian contemporary classical"
          ],
          [
           "hungarian edm"
          ],
          [
           "hungarian folk"
          ],
          [
           "hungarian pop"
          ],
          [
           "hungarian rock"
          ],
          [
           "hungarian techno"
          ],
          [
           "hurdy-gurdy"
          ],
          [
           "hyperpop"
          ],
          [
           "hyphy"
          ],
          [
           "icelandic classical"
          ],
          [
           "icelandic electronic"
          ],
          [
           "icelandic experimental"
          ],
          [
           "icelandic folk"
          ],
          [
           "icelandic indie"
          ],
          [
           "icelandic jazz"
          ],
          [
           "icelandic pop"
          ],
          [
           "icelandic rock"
          ],
          [
           "idaho indie"
          ],
          [
           "idol"
          ],
          [
           "idol rock"
          ],
          [
           "ilahiler"
          ],
          [
           "ilocano pop"
          ],
          [
           "impressionism"
          ],
          [
           "indian classical"
          ],
          [
           "indian edm"
          ],
          [
           "indian folk"
          ],
          [
           "indian fusion"
          ],
          [
           "indian indie"
          ],
          [
           "indian instrumental"
          ],
          [
           "indian jazz"
          ],
          [
           "indiana hip hop"
          ],
          [
           "indie anthem-folk"
          ],
          [
           "indie cafe pop"
          ],
          [
           "indie deutschrap"
          ],
          [
           "indie dream pop"
          ],
          [
           "indie electronica"
          ],
          [
           "indie electropop"
          ],
          [
           "indie folk"
          ],
          [
           "indie game soundtrack"
          ],
          [
           "indie garage rock"
          ],
          [
           "indie hip hop"
          ],
          [
           "indie jazz"
          ],
          [
           "indie pop"
          ],
          [
           "indie pop rap"
          ],
          [
           "indie poptimism"
          ],
          [
           "indie psych-pop"
          ],
          [
           "indie punk"
          ],
          [
           "indie quebecois"
          ],
          [
           "indie r&b"
          ],
          [
           "indie rock"
          ],
          [
           "indie rock mexicano"
          ],
          [
           "indie rockism"
          ],
          [
           "indie shoegaze"
          ],
          [
           "indie singer-songwriter"
          ],
          [
           "indie soul"
          ],
          [
           "indie surf"
          ],
          [
           "indie triste"
          ],
          [
           "indiecoustica"
          ],
          [
           "indietronica"
          ],
          [
           "indonesian hip hop"
          ],
          [
           "indonesian indie"
          ],
          [
           "indonesian pop"
          ],
          [
           "indonesian r&b"
          ],
          [
           "indonesian worship"
          ],
          [
           "industrial"
          ],
          [
           "industrial hardcore"
          ],
          [
           "industrial hip hop"
          ],
          [
           "industrial metal"
          ],
          [
           "industrial rock"
          ],
          [
           "indy indie"
          ],
          [
           "instrumental acoustic guitar"
          ],
          [
           "instrumental bluegrass"
          ],
          [
           "instrumental funk"
          ],
          [
           "instrumental grime"
          ],
          [
           "instrumental math rock"
          ],
          [
           "instrumental post-rock"
          ],
          [
           "instrumental progressive metal"
          ],
          [
           "instrumental rock"
          ],
          [
           "instrumental soul"
          ],
          [
           "instrumental stoner rock"
          ],
          [
           "instrumental surf"
          ],
          [
           "intelligent dance music"
          ],
          [
           "iowa hip hop"
          ],
          [
           "irish accordion"
          ],
          [
           "irish ballad"
          ],
          [
           "irish banjo"
          ],
          [
           "irish classical"
          ],
          [
           "irish country"
          ],
          [
           "irish dance"
          ],
          [
           "irish fiddle"
          ],
          [
           "irish folk"
          ],
          [
           "irish hip hop"
          ],
          [
           "irish indie"
          ],
          [
           "irish metal"
          ],
          [
           "irish pop"
          ],
          [
           "irish pub song"
          ],
          [
           "irish rock"
          ],
          [
           "irish singer-songwriter"
          ],
          [
           "iskelma"
          ],
          [
           "islamic recitation"
          ],
          [
           "isle of wight indie"
          ],
          [
           "israeli classical"
          ],
          [
           "israeli classical piano"
          ],
          [
           "israeli folk"
          ],
          [
           "israeli hip hop"
          ],
          [
           "israeli mediterranean"
          ],
          [
           "israeli pop"
          ],
          [
           "israeli rock"
          ],
          [
           "israeli singer-songwriter"
          ],
          [
           "israeli techno"
          ],
          [
           "italian adult pop"
          ],
          [
           "italian baritone"
          ],
          [
           "italian baroque"
          ],
          [
           "italian baroque ensemble"
          ],
          [
           "italian bass"
          ],
          [
           "italian blues"
          ],
          [
           "italian classical guitar"
          ],
          [
           "italian classical piano"
          ],
          [
           "italian contemporary jazz"
          ],
          [
           "italian disco"
          ],
          [
           "italian gothic"
          ],
          [
           "italian gothic metal"
          ],
          [
           "italian indie pop"
          ],
          [
           "italian jazz"
          ],
          [
           "italian library music"
          ],
          [
           "italian mandolin"
          ],
          [
           "italian metal"
          ],
          [
           "italian mezzo-soprano"
          ],
          [
           "italian modern prog"
          ],
          [
           "italian opera"
          ],
          [
           "italian orchestra"
          ],
          [
           "italian pop rock"
          ],
          [
           "italian power metal"
          ],
          [
           "italian progressive metal"
          ],
          [
           "italian progressive rock"
          ],
          [
           "italian renaissance"
          ],
          [
           "italian romanticism"
          ],
          [
           "italian soprano"
          ],
          [
           "italian soundtrack"
          ],
          [
           "italian techno"
          ],
          [
           "italian tenor"
          ],
          [
           "italian violin"
          ],
          [
           "italo dance"
          ],
          [
           "italo house"
          ],
          [
           "j-acoustic"
          ],
          [
           "j-ambient"
          ],
          [
           "j-dance"
          ],
          [
           "j-division"
          ],
          [
           "j-idol"
          ],
          [
           "j-metal"
          ],
          [
           "j-pixie"
          ],
          [
           "j-pop"
          ],
          [
           "j-pop girl group"
          ],
          [
           "j-poprock"
          ],
          [
           "j-punk"
          ],
          [
           "j-reggae"
          ],
          [
           "j-rock"
          ],
          [
           "jacksonville indie"
          ],
          [
           "jam band"
          ],
          [
           "jamgrass"
          ],
          [
           "jamtronica"
          ],
          [
           "jangle pop"
          ],
          [
           "japanese alternative rock"
          ],
          [
           "japanese chillhop"
          ],
          [
           "japanese city pop"
          ],
          [
           "japanese classical"
          ],
          [
           "japanese classical performance"
          ],
          [
           "japanese classical piano"
          ],
          [
           "japanese concert band"
          ],
          [
           "japanese dream pop"
          ],
          [
           "japanese electronic"
          ],
          [
           "japanese electropop"
          ],
          [
           "japanese emo"
          ],
          [
           "japanese experimental"
          ],
          [
           "japanese folk"
          ],
          [
           "japanese garage rock"
          ],
          [
           "japanese girl punk"
          ],
          [
           "japanese heavy metal"
          ],
          [
           "japanese idm"
          ],
          [
           "japanese indie folk"
          ],
          [
           "japanese indie rock"
          ],
          [
           "japanese instrumental"
          ],
          [
           "japanese jazz"
          ],
          [
           "japanese jazz fusion"
          ],
          [
           "japanese jazztronica"
          ],
          [
           "japanese metalcore"
          ],
          [
           "japanese new wave"
          ],
          [
           "japanese piano"
          ],
          [
           "japanese pop punk"
          ],
          [
           "japanese post-hardcore"
          ],
          [
           "japanese power metal"
          ],
          [
           "japanese prog"
          ],
          [
           "japanese psychedelic"
          ],
          [
           "japanese punk rock"
          ],
          [
           "japanese r&b"
          ],
          [
           "japanese rockabilly"
          ],
          [
           "japanese singer-songwriter"
          ],
          [
           "japanese soundtrack"
          ],
          [
           "japanese traditional"
          ],
          [
           "japanese vgm"
          ],
          [
           "japanese vocal jazz"
          ],
          [
           "jawaiian"
          ],
          [
           "jazz"
          ],
          [
           "jazz accordion"
          ],
          [
           "jazz blues"
          ],
          [
           "jazz boom bap"
          ],
          [
           "jazz brass"
          ],
          [
           "jazz chileno"
          ],
          [
           "jazz clarinet"
          ],
          [
           "jazz colombiano"
          ],
          [
           "jazz cubano"
          ],
          [
           "jazz double bass"
          ],
          [
           "jazz drums"
          ],
          [
           "jazz flute"
          ],
          [
           "jazz funk"
          ],
          [
           "jazz fusion"
          ],
          [
           "jazz guitar"
          ],
          [
           "jazz harp"
          ],
          [
           "jazz metal"
          ],
          [
           "jazz mexicano"
          ],
          [
           "jazz orchestra"
          ],
          [
           "jazz organ"
          ],
          [
           "jazz piano"
          ],
          [
           "jazz pop"
          ],
          [
           "jazz quartet"
          ],
          [
           "jazz rap"
          ],
          [
           "jazz rock"
          ],
          [
           "jazz saxophone"
          ],
          [
           "jazz trio"
          ],
          [
           "jazz trombone"
          ],
          [
           "jazz trumpet"
          ],
          [
           "jazz tuba"
          ],
          [
           "jazz venezolano"
          ],
          [
           "jazz vibraphone"
          ],
          [
           "jazz violin"
          ],
          [
           "jazztronica"
          ],
          [
           "jewish cantorial"
          ],
          [
           "jewish hip hop"
          ],
          [
           "jig and reel"
          ],
          [
           "jordanian pop"
          ],
          [
           "joropo"
          ],
          [
           "jovem guarda"
          ],
          [
           "jug band"
          ],
          [
           "juju"
          ],
          [
           "jump blues"
          ],
          [
           "jump up"
          ],
          [
           "k-indie"
          ],
          [
           "k-pop"
          ],
          [
           "k-pop boy group"
          ],
          [
           "k-pop girl group"
          ],
          [
           "k-rap"
          ],
          [
           "kabarett"
          ],
          [
           "kabyle"
          ],
          [
           "kaneka"
          ],
          [
           "kannada bhava geethe"
          ],
          [
           "kansas city hip hop"
          ],
          [
           "kashmiri pop"
          ],
          [
           "kawaii future bass"
          ],
          [
           "kawaii metal"
          ],
          [
           "kayokyoku"
          ],
          [
           "kc indie"
          ],
          [
           "kent indie"
          ],
          [
           "kentucky hip hop"
          ],
          [
           "kentucky indie"
          ],
          [
           "kentucky metal"
          ],
          [
           "kentucky mountain folk"
          ],
          [
           "kentucky punk"
          ],
          [
           "kentucky roots"
          ],
          [
           "keroncong"
          ],
          [
           "khaleeji iraqi"
          ],
          [
           "khmer"
          ],
          [
           "kids dance party"
          ],
          [
           "kindie rock"
          ],
          [
           "kingston on indie"
          ],
          [
           "kirtan"
          ],
          [
           "kiwi rock"
          ],
          [
           "kizomba antigas"
          ],
          [
           "kleine hoerspiel"
          ],
          [
           "klezmer"
          ],
          [
           "knoxville indie"
          ],
          [
           "kodomo no ongaku"
          ],
          [
           "kolsche karneval"
          ],
          [
           "komedi"
          ],
          [
           "kompa"
          ],
          [
           "kora"
          ],
          [
           "korean classical performance"
          ],
          [
           "korean classical piano"
          ],
          [
           "korean indie rock"
          ],
          [
           "korean mask singer"
          ],
          [
           "korean pop"
          ],
          [
           "korean r&b"
          ],
          [
           "korean trap"
          ],
          [
           "koto"
          ],
          [
           "krautrock"
          ],
          [
           "kundiman"
          ],
          [
           "la indie"
          ],
          [
           "la pop"
          ],
          [
           "laboratorio"
          ],
          [
           "lafayette indie"
          ],
          [
           "laiko"
          ],
          [
           "lancashire indie"
          ],
          [
           "lancaster pa indie"
          ],
          [
           "late romantic era"
          ],
          [
           "latin"
          ],
          [
           "latin afrobeat"
          ],
          [
           "latin alternative"
          ],
          [
           "latin american classical piano"
          ],
          [
           "latin arena pop"
          ],
          [
           "latin christian"
          ],
          [
           "latin classical"
          ],
          [
           "latin funk"
          ],
          [
           "latin hip hop"
          ],
          [
           "latin house"
          ],
          [
           "latin jazz"
          ],
          [
           "latin metal"
          ],
          [
           "latin pop"
          ],
          [
           "latin rock"
          ],
          [
           "latin ska"
          ],
          [
           "latin soundtrack"
          ],
          [
           "latin talent show"
          ],
          [
           "latin tech house"
          ],
          [
           "latin viral pop"
          ],
          [
           "latin worship"
          ],
          [
           "latincore"
          ],
          [
           "latino comedy"
          ],
          [
           "latintronica"
          ],
          [
           "latinx alternative"
          ],
          [
           "latvian pop"
          ],
          [
           "lds"
          ],
          [
           "lds youth"
          ],
          [
           "lebanese pop"
          ],
          [
           "leicester indie"
          ],
          [
           "lexington ky indie"
          ],
          [
           "lgbtq+ hip hop"
          ],
          [
           "library music"
          ],
          [
           "liedermacher"
          ],
          [
           "light music"
          ],
          [
           "lilith"
          ],
          [
           "liquid funk"
          ],
          [
           "lithuanian electronic"
          ],
          [
           "liverpool indie"
          ],
          [
           "livetronica"
          ],
          [
           "lldm"
          ],
          [
           "lo star"
          ],
          [
           "lo-fi"
          ],
          [
           "lo-fi beats"
          ],
          [
           "lo-fi brasileiro"
          ],
          [
           "lo-fi chill"
          ],
          [
           "lo-fi cover"
          ],
          [
           "lo-fi emo"
          ],
          [
           "lo-fi house"
          ],
          [
           "lo-fi indie"
          ],
          [
           "lo-fi vgm"
          ],
          [
           "london rap"
          ],
          [
           "louisiana blues"
          ],
          [
           "louisiana metal"
          ],
          [
           "louisville indie"
          ],
          [
           "louisville underground"
          ],
          [
           "lounge"
          ],
          [
           "louvor"
          ],
          [
           "lovers rock"
          ],
          [
           "lullaby"
          ],
          [
           "lund indie"
          ],
          [
           "lute"
          ],
          [
           "macedonian folk"
          ],
          [
           "madchester"
          ],
          [
           "madrigal"
          ],
          [
           "magyar alternative"
          ],
          [
           "maine hip hop"
          ],
          [
           "maine indie"
          ],
          [
           "mainland chinese pop"
          ],
          [
           "makossa"
          ],
          [
           "malaysian mandopop"
          ],
          [
           "malaysian pop"
          ],
          [
           "malian blues"
          ],
          [
           "mallet"
          ],
          [
           "malmo indie"
          ],
          [
           "mambo"
          ],
          [
           "manchester hip hop"
          ],
          [
           "manchester indie"
          ],
          [
           "mande pop"
          ],
          [
           "mandolin"
          ],
          [
           "mandopop"
          ],
          [
           "manguebeat"
          ],
          [
           "manila sound"
          ],
          [
           "manitoba indie"
          ],
          [
           "mantra"
          ],
          [
           "marathi pop"
          ],
          [
           "marathi traditional"
          ],
          [
           "marching band"
          ],
          [
           "mariachi"
          ],
          [
           "mariachi cristiano"
          ],
          [
           "marimba orquesta"
          ],
          [
           "martial industrial"
          ],
          [
           "mashup"
          ],
          [
           "math rock"
          ],
          [
           "mathcore"
          ],
          [
           "mbalax"
          ],
          [
           "medieval"
          ],
          [
           "medieval folk"
          ],
          [
           "medieval rock"
          ],
          [
           "meditation"
          ],
          [
           "melancholia"
          ],
          [
           "melbourne bounce"
          ],
          [
           "melbourne bounce international"
          ],
          [
           "melbourne indie"
          ],
          [
           "mellow gold"
          ],
          [
           "melodic death metal"
          ],
          [
           "melodic deathcore"
          ],
          [
           "melodic dubstep"
          ],
          [
           "melodic groove metal"
          ],
          [
           "melodic hard rock"
          ],
          [
           "melodic hardcore"
          ],
          [
           "melodic metal"
          ],
          [
           "melodic metalcore"
          ],
          [
           "melodic power metal"
          ],
          [
           "melodic rap"
          ],
          [
           "melodic thrash"
          ],
          [
           "meme rap"
          ],
          [
           "memphis americana"
          ],
          [
           "memphis blues"
          ],
          [
           "memphis hip hop"
          ],
          [
           "memphis indie"
          ],
          [
           "memphis soul"
          ],
          [
           "mento"
          ],
          [
           "merengue"
          ],
          [
           "merengue tipico"
          ],
          [
           "merseybeat"
          ],
          [
           "messianic praise"
          ],
          [
           "metal"
          ],
          [
           "metal guitar"
          ],
          [
           "metal mineiro"
          ],
          [
           "metalcore"
          ],
          [
           "metropopolis"
          ],
          [
           "mexican classic rock"
          ],
          [
           "mexican classical"
          ],
          [
           "mexican hip hop"
          ],
          [
           "mexican indie"
          ],
          [
           "mexican pop"
          ],
          [
           "mexican pop punk"
          ],
          [
           "mexican rock"
          ],
          [
           "mexican rock-and-roll"
          ],
          [
           "mexican son"
          ],
          [
           "mexican traditional"
          ],
          [
           "miami bass"
          ],
          [
           "miami hip hop"
          ],
          [
           "miami indie"
          ],
          [
           "miami metal"
          ],
          [
           "michigan indie"
          ],
          [
           "microhouse"
          ],
          [
           "microtonal"
          ],
          [
           "middle earth"
          ],
          [
           "middle east hip hop"
          ],
          [
           "middle eastern traditional"
          ],
          [
           "midwest americana"
          ],
          [
           "midwest emo"
          ],
          [
           "military cadence"
          ],
          [
           "military rap"
          ],
          [
           "milwaukee indie"
          ],
          [
           "mindfulness"
          ],
          [
           "minecraft"
          ],
          [
           "minimal melodic techno"
          ],
          [
           "minimal tech house"
          ],
          [
           "minimal techno"
          ],
          [
           "minimal wave"
          ],
          [
           "minimalism"
          ],
          [
           "minneapolis indie"
          ],
          [
           "minneapolis metal"
          ],
          [
           "minneapolis punk"
          ],
          [
           "minneapolis sound"
          ],
          [
           "minnesota hip hop"
          ],
          [
           "mississippi hip hop"
          ],
          [
           "mississippi indie"
          ],
          [
           "mizrahi"
          ],
          [
           "mod revival"
          ],
          [
           "modern alternative pop"
          ],
          [
           "modern alternative rock"
          ],
          [
           "modern big band"
          ],
          [
           "modern blues"
          ],
          [
           "modern blues rock"
          ],
          [
           "modern bollywood"
          ],
          [
           "modern country rock"
          ],
          [
           "modern dream pop"
          ],
          [
           "modern folk rock"
          ],
          [
           "modern funk"
          ],
          [
           "modern hard rock"
          ],
          [
           "modern indie pop"
          ],
          [
           "modern jazz piano"
          ],
          [
           "modern jazz trio"
          ],
          [
           "modern old-time"
          ],
          [
           "modern performance"
          ],
          [
           "modern power pop"
          ],
          [
           "modern psychedelic folk"
          ],
          [
           "modern reggae"
          ],
          [
           "modern rock"
          ],
          [
           "modern salsa"
          ],
          [
           "modern ska punk"
          ],
          [
           "modern southern rock"
          ],
          [
           "modern string quartet"
          ],
          [
           "modern swing"
          ],
          [
           "modern uplift"
          ],
          [
           "modular synth"
          ],
          [
           "moldovan pop"
          ],
          [
           "mollywood"
          ],
          [
           "mongolian hip hop"
          ],
          [
           "mongolian pop"
          ],
          [
           "monterrey indie"
          ],
          [
           "montreal indie"
          ],
          [
           "moog"
          ],
          [
           "moombahton"
          ],
          [
           "morna"
          ],
          [
           "motivation"
          ],
          [
           "motown"
          ],
          [
           "mountain dulcimer"
          ],
          [
           "movie tunes"
          ],
          [
           "mpb"
          ],
          [
           "music box"
          ],
          [
           "music hall"
          ],
          [
           "musica afroperuana"
          ],
          [
           "musica alagoana"
          ],
          [
           "musica andina"
          ],
          [
           "musica andina colombiana"
          ],
          [
           "musica antigua"
          ],
          [
           "musica aragonesa"
          ],
          [
           "musica ayacuchana"
          ],
          [
           "musica canaria"
          ],
          [
           "musica costarricense"
          ],
          [
           "musica costena"
          ],
          [
           "musica cristiana guatemalteca"
          ],
          [
           "musica de fondo"
          ],
          [
           "musica gaucha tradicionalista"
          ],
          [
           "musica hondurena"
          ],
          [
           "musica infantil"
          ],
          [
           "musica jibara"
          ],
          [
           "musica juiz-forana"
          ],
          [
           "musica llanera"
          ],
          [
           "musica nicaraguense"
          ],
          [
           "musica para criancas"
          ],
          [
           "musica para ninos"
          ],
          [
           "musica paraibana"
          ],
          [
           "musica piemonteisa"
          ],
          [
           "musica popular colombiana"
          ],
          [
           "musica popular mineira"
          ],
          [
           "musica popular paraense"
          ],
          [
           "musica potosina"
          ],
          [
           "musica prehispanica"
          ],
          [
           "musica sarda"
          ],
          [
           "musica tradicional cubana"
          ],
          [
           "musica tropical guatemalteca"
          ],
          [
           "musical advocacy"
          ],
          [
           "musikkorps"
          ],
          [
           "musique concrete"
          ],
          [
           "musique peule"
          ],
          [
           "musique pour enfant quebecois"
          ],
          [
           "musique pour enfants"
          ],
          [
           "musique touareg"
          ],
          [
           "muzica populara"
          ],
          [
           "muzika l'yeladim"
          ],
          [
           "naija worship"
          ],
          [
           "nantes indie"
          ],
          [
           "narodna muzika"
          ],
          [
           "nashville americana"
          ],
          [
           "nashville hip hop"
          ],
          [
           "nashville indie"
          ],
          [
           "nashville singer-songwriter"
          ],
          [
           "nashville sound"
          ],
          [
           "native american"
          ],
          [
           "native american contemporary"
          ],
          [
           "native american flute"
          ],
          [
           "native american hip hop"
          ],
          [
           "native american spiritual"
          ],
          [
           "navajo"
          ],
          [
           "nederlandse hardstyle"
          ],
          [
           "nederpop"
          ],
          [
           "neo classical metal"
          ],
          [
           "neo kyma"
          ],
          [
           "neo mellow"
          ],
          [
           "neo r&b"
          ],
          [
           "neo soul"
          ],
          [
           "neo-classical"
          ],
          [
           "neo-kraut"
          ],
          [
           "neo-pagan"
          ],
          [
           "neo-progressive"
          ],
          [
           "neo-psychedelic"
          ],
          [
           "neo-rockabilly"
          ],
          [
           "neo-singer-songwriter"
          ],
          [
           "neo-synthpop"
          ],
          [
           "neo-trad metal"
          ],
          [
           "neo-traditional bluegrass"
          ],
          [
           "neo-traditional country"
          ],
          [
           "neoclassical darkwave"
          ],
          [
           "neoclassicism"
          ],
          [
           "neofolk"
          ],
          [
           "neon pop punk"
          ],
          [
           "neotango"
          ],
          [
           "nepali indie"
          ],
          [
           "nepali pop"
          ],
          [
           "nerdcore"
          ],
          [
           "neue deutsche harte"
          ],
          [
           "neue deutsche todeskunst"
          ],
          [
           "neue deutsche welle"
          ],
          [
           "neurofunk"
          ],
          [
           "new age"
          ],
          [
           "new age piano"
          ],
          [
           "new americana"
          ],
          [
           "new beat"
          ],
          [
           "new comedy"
          ],
          [
           "new england americana"
          ],
          [
           "new england emo"
          ],
          [
           "new french touch"
          ],
          [
           "new isolationism"
          ],
          [
           "new jack swing"
          ],
          [
           "new jersey hardcore"
          ],
          [
           "new jersey indie"
          ],
          [
           "new jersey punk"
          ],
          [
           "new jersey rap"
          ],
          [
           "new mexico music"
          ],
          [
           "new orleans blues"
          ],
          [
           "new orleans funk"
          ],
          [
           "new orleans indie"
          ],
          [
           "new orleans jazz"
          ],
          [
           "new orleans rap"
          ],
          [
           "new rave"
          ],
          [
           "new romantic"
          ],
          [
           "new tribe"
          ],
          [
           "new wave"
          ],
          [
           "new wave of thrash metal"
          ],
          [
           "new wave pop"
          ],
          [
           "new weird america"
          ],
          [
           "new york death metal"
          ],
          [
           "new york drill"
          ],
          [
           "new zealand classical"
          ],
          [
           "newcastle indie"
          ],
          [
           "newcastle nsw indie"
          ],
          [
           "nigerian hip hop"
          ],
          [
           "nigerian pop"
          ],
          [
           "nightcore"
          ],
          [
           "nightrun"
          ],
          [
           "ninja"
          ],
          [
           "nintendocore"
          ],
          [
           "nisiotika"
          ],
          [
           "nl folk"
          ],
          [
           "no wave"
          ],
          [
           "noise pop"
          ],
          [
           "noise punk"
          ],
          [
           "noise rock"
          ],
          [
           "nordic classical piano"
          ],
          [
           "nordic contemporary classical"
          ],
          [
           "nordic folk"
          ],
          [
           "nordic house"
          ],
          [
           "nordic orchestra"
          ],
          [
           "nordic post-rock"
          ],
          [
           "nordic soundtrack"
          ],
          [
           "norman ok indie"
          ],
          [
           "norsk lovsang"
          ],
          [
           "norteno"
          ],
          [
           "norteno-sax"
          ],
          [
           "north carolina emo"
          ],
          [
           "north carolina hip hop"
          ],
          [
           "north carolina indie"
          ],
          [
           "north carolina metal"
          ],
          [
           "north carolina roots"
          ],
          [
           "north east england indie"
          ],
          [
           "northern irish indie"
          ],
          [
           "northern irish punk"
          ],
          [
           "northern soul"
          ],
          [
           "norwegian black metal"
          ],
          [
           "norwegian choir"
          ],
          [
           "norwegian classical"
          ],
          [
           "norwegian contemporary jazz"
          ],
          [
           "norwegian death metal"
          ],
          [
           "norwegian experimental"
          ],
          [
           "norwegian hip hop"
          ],
          [
           "norwegian indie"
          ],
          [
           "norwegian jazz"
          ],
          [
           "norwegian metal"
          ],
          [
           "norwegian pop"
          ],
          [
           "norwegian pop rap"
          ],
          [
           "norwegian punk rock"
          ],
          [
           "norwegian rock"
          ],
          [
           "norwegian singer-songwriter"
          ],
          [
           "norwegian space disco"
          ],
          [
           "nottingham indie"
          ],
          [
           "nouvelle chanson francaise"
          ],
          [
           "nova canco"
          ],
          [
           "nova mpb"
          ],
          [
           "nova musica pernambucana"
          ],
          [
           "novelty"
          ],
          [
           "nu age"
          ],
          [
           "nu disco"
          ],
          [
           "nu gaze"
          ],
          [
           "nu jazz"
          ],
          [
           "nu metal"
          ],
          [
           "nu skool breaks"
          ],
          [
           "nu-cumbia"
          ],
          [
           "nu-metalcore"
          ],
          [
           "nubian traditional"
          ],
          [
           "nueva cancion"
          ],
          [
           "nueva ola chilena"
          ],
          [
           "nueva ola peruana"
          ],
          [
           "nuevo flamenco"
          ],
          [
           "nuevo folklore mexicano"
          ],
          [
           "nuevo regional mexicano"
          ],
          [
           "nuevo tango"
          ],
          [
           "nursery"
          ],
          [
           "nwobhm"
          ],
          [
           "nwothm"
          ],
          [
           "ny roots"
          ],
          [
           "nyc pop"
          ],
          [
           "nyc rap"
          ],
          [
           "nyhc"
          ],
          [
           "nz christian"
          ],
          [
           "nz folk"
          ],
          [
           "nz hardcore"
          ],
          [
           "nz indie"
          ],
          [
           "nz pop"
          ],
          [
           "nz punk"
          ],
          [
           "nz reggae"
          ],
          [
           "nz singer-songwriter"
          ],
          [
           "oakland hip hop"
          ],
          [
           "oakland indie"
          ],
          [
           "oc indie"
          ],
          [
           "oc rap"
          ],
          [
           "oceania soundtrack"
          ],
          [
           "ohio hip hop"
          ],
          [
           "ohio indie"
          ],
          [
           "oi"
          ],
          [
           "ok indie"
          ],
          [
           "okc indie"
          ],
          [
           "okinawan pop"
          ],
          [
           "oklahoma country"
          ],
          [
           "old school dancehall"
          ],
          [
           "old school hip hop"
          ],
          [
           "old school rap francais"
          ],
          [
           "old school thrash"
          ],
          [
           "old school uk hip hop"
          ],
          [
           "old west"
          ],
          [
           "old-time"
          ],
          [
           "old-time fiddle"
          ],
          [
           "olympia wa indie"
          ],
          [
           "omaha indie"
          ],
          [
           "one-person band"
          ],
          [
           "ontario indie"
          ],
          [
           "opera"
          ],
          [
           "opera chorus"
          ],
          [
           "opera metal"
          ],
          [
           "operatic pop"
          ],
          [
           "operetta"
          ],
          [
           "opm"
          ],
          [
           "oratory"
          ],
          [
           "orchestra"
          ],
          [
           "orchestral performance"
          ],
          [
           "orebro indie"
          ],
          [
           "organic ambient"
          ],
          [
           "organic electronic"
          ],
          [
           "organic house"
          ],
          [
           "orgcore"
          ],
          [
           "oriental classical"
          ],
          [
           "orkney and shetland folk"
          ],
          [
           "orlando indie"
          ],
          [
           "orquesta tipica"
          ],
          [
           "orthodox chant"
          ],
          [
           "oshare kei"
          ],
          [
           "otacore"
          ],
          [
           "oth indie"
          ],
          [
           "ottawa indie"
          ],
          [
           "ottawa rap"
          ],
          [
           "oud"
          ],
          [
           "outer hip hop"
          ],
          [
           "outlaw country"
          ],
          [
           "outsider"
          ],
          [
           "outsider house"
          ],
          [
           "oxford choir"
          ],
          [
           "oxford indie"
          ],
          [
           "p funk"
          ],
          [
           "pagan black metal"
          ],
          [
           "pagode"
          ],
          [
           "pagode baiano"
          ],
          [
           "paisley underground"
          ],
          [
           "pakistani folk"
          ],
          [
           "pakistani hip hop"
          ],
          [
           "pakistani pop"
          ],
          [
           "palestinian pop"
          ],
          [
           "palm desert scene"
          ],
          [
           "panamanian pop"
          ],
          [
           "panamanian rock"
          ],
          [
           "panpipe"
          ],
          [
           "papuri"
          ],
          [
           "parody"
          ],
          [
           "partido alto"
          ],
          [
           "partyschlager"
          ],
          [
           "pei indie"
          ],
          [
           "permanent wave"
          ],
          [
           "perreo"
          ],
          [
           "persian pop"
          ],
          [
           "persian traditional"
          ],
          [
           "perth indie"
          ],
          [
           "peruvian hip hop"
          ],
          [
           "peruvian rock"
          ],
          [
           "pet calming"
          ],
          [
           "philly indie"
          ],
          [
           "philly rap"
          ],
          [
           "philly soul"
          ],
          [
           "phoenix indie"
          ],
          [
           "phonk"
          ],
          [
           "pianissimo"
          ],
          [
           "piano blues"
          ],
          [
           "piano cover"
          ],
          [
           "piano mpb"
          ],
          [
           "piano rock"
          ],
          [
           "pibroch"
          ],
          [
           "piedmont blues"
          ],
          [
           "pinoy hip hop"
          ],
          [
           "pinoy indie"
          ],
          [
           "pinoy pop punk"
          ],
          [
           "pinoy praise"
          ],
          [
           "pinoy r&b"
          ],
          [
           "pinoy reggae"
          ],
          [
           "pinoy rock"
          ],
          [
           "pinoy traditional"
          ],
          [
           "pinoy trap"
          ],
          [
           "pirate"
          ],
          [
           "pittsburgh indie"
          ],
          [
           "pittsburgh rap"
          ],
          [
           "pittsburgh rock"
          ],
          [
           "pixie"
          ],
          [
           "plunderphonics"
          ],
          [
           "poetry"
          ],
          [
           "polca paraguaya"
          ],
          [
           "polish blues"
          ],
          [
           "polish classical"
          ],
          [
           "polish classical piano"
          ],
          [
           "polish contemporary classical"
          ],
          [
           "polish jazz"
          ],
          [
           "polish modern jazz"
          ],
          [
           "polish pop"
          ],
          [
           "polish post-rock"
          ],
          [
           "polish reggae"
          ],
          [
           "polish rock"
          ],
          [
           "political hip hop"
          ],
          [
           "polka"
          ],
          [
           "polynesian hip hop"
          ],
          [
           "polynesian pop"
          ],
          [
           "polyphony"
          ],
          [
           "pony"
          ],
          [
           "pop"
          ],
          [
           "pop argentino"
          ],
          [
           "pop chileno"
          ],
          [
           "pop dance"
          ],
          [
           "pop edm"
          ],
          [
           "pop electronico"
          ],
          [
           "pop emo"
          ],
          [
           "pop flamenco"
          ],
          [
           "pop folk"
          ],
          [
           "pop house"
          ],
          [
           "pop nacional"
          ],
          [
           "pop nacional antigas"
          ],
          [
           "pop peruano"
          ],
          [
           "pop punk"
          ],
          [
           "pop quebecois"
          ],
          [
           "pop r&b"
          ],
          [
           "pop rap"
          ],
          [
           "pop reggaeton"
          ],
          [
           "pop rock"
          ],
          [
           "pop rock brasileiro"
          ],
          [
           "pop romantico"
          ],
          [
           "pop soul"
          ],
          [
           "pop venezolano"
          ],
          [
           "pop violin"
          ],
          [
           "popgaze"
          ],
          [
           "popping"
          ],
          [
           "pops orchestra"
          ],
          [
           "popwave"
          ],
          [
           "pornogrind"
          ],
          [
           "porro"
          ],
          [
           "portland hip hop"
          ],
          [
           "portland indie"
          ],
          [
           "portland metal"
          ],
          [
           "portland punk"
          ],
          [
           "portuguese early music"
          ],
          [
           "post-disco"
          ],
          [
           "post-disco soul"
          ],
          [
           "post-doom metal"
          ],
          [
           "post-grunge"
          ],
          [
           "post-hardcore"
          ],
          [
           "post-metal"
          ],
          [
           "post-minimalism"
          ],
          [
           "post-post-hardcore"
          ],
          [
           "post-punk"
          ],
          [
           "post-punk argentina"
          ],
          [
           "post-rock"
          ],
          [
           "post-romantic era"
          ],
          [
           "post-screamo"
          ],
          [
           "post-teen pop"
          ],
          [
           "power metal"
          ],
          [
           "power pop"
          ],
          [
           "power thrash"
          ],
          [
           "power-pop punk"
          ],
          [
           "praise"
          ],
          [
           "prepared piano"
          ],
          [
           "preschool children's music"
          ],
          [
           "prog quebec"
          ],
          [
           "progressive alternative"
          ],
          [
           "progressive bluegrass"
          ],
          [
           "progressive deathcore"
          ],
          [
           "progressive electro house"
          ],
          [
           "progressive groove metal"
          ],
          [
           "progressive house"
          ],
          [
           "progressive jazz fusion"
          ],
          [
           "progressive metal"
          ],
          [
           "progressive metalcore"
          ],
          [
           "progressive post-hardcore"
          ],
          [
           "progressive power metal"
          ],
          [
           "progressive psytrance"
          ],
          [
           "progressive rock"
          ],
          [
           "progressive sludge"
          ],
          [
           "progressive trance"
          ],
          [
           "progressive trance house"
          ],
          [
           "progressive uplifting trance"
          ],
          [
           "proto-rap"
          ],
          [
           "proto-techno"
          ],
          [
           "protopunk"
          ],
          [
           "psalmen"
          ],
          [
           "psicodelia brasileira"
          ],
          [
           "psybass"
          ],
          [
           "psychedelic blues-rock"
          ],
          [
           "psychedelic doom"
          ],
          [
           "psychedelic folk"
          ],
          [
           "psychedelic folk rock"
          ],
          [
           "psychedelic hip hop"
          ],
          [
           "psychedelic pop"
          ],
          [
           "psychedelic punk"
          ],
          [
           "psychedelic rock"
          ],
          [
           "psychedelic soul"
          ],
          [
           "psychedelic trance"
          ],
          [
           "psychill"
          ],
          [
           "psychobilly"
          ],
          [
           "pub rock"
          ],
          [
           "puerto rican folk"
          ],
          [
           "puerto rican pop"
          ],
          [
           "puerto rican rock"
          ],
          [
           "punjabi folk"
          ],
          [
           "punjabi hip hop"
          ],
          [
           "punjabi pop"
          ],
          [
           "punk"
          ],
          [
           "punk 'n' roll"
          ],
          [
           "punk blues"
          ],
          [
           "punk rock italiano"
          ],
          [
           "punk rock mexicano"
          ],
          [
           "punta"
          ],
          [
           "purple sound"
          ],
          [
           "qawwali"
          ],
          [
           "quartetto d'archi"
          ],
          [
           "quatuor a cordes"
          ],
          [
           "quebec death metal"
          ],
          [
           "quebec indie"
          ],
          [
           "queens hip hop"
          ],
          [
           "queer country"
          ],
          [
           "queercore"
          ],
          [
           "quiet storm"
          ],
          [
           "quran"
          ],
          [
           "r&b"
          ],
          [
           "r&b en espanol"
          ],
          [
           "rabindra sangeet"
          ],
          [
           "radio symphony"
          ],
          [
           "ragtime"
          ],
          [
           "rai"
          ],
          [
           "ranchera"
          ],
          [
           "rap"
          ],
          [
           "rap chileno"
          ],
          [
           "rap conciencia"
          ],
          [
           "rap conscient"
          ],
          [
           "rap cristiano"
          ],
          [
           "rap dominicano"
          ],
          [
           "rap kreyol"
          ],
          [
           "rap latina"
          ],
          [
           "rap metal"
          ],
          [
           "rap nacional antigo"
          ],
          [
           "rap napoletano"
          ],
          [
           "rap rock"
          ],
          [
           "rap underground mexicano"
          ],
          [
           "rare groove"
          ],
          [
           "rave"
          ],
          [
           "rawstyle"
          ],
          [
           "reading"
          ],
          [
           "reading indie"
          ],
          [
           "rebel blues"
          ],
          [
           "rebetiko"
          ],
          [
           "recorder"
          ],
          [
           "red dirt"
          ],
          [
           "redneck"
          ],
          [
           "reggae"
          ],
          [
           "reggae en espanol"
          ],
          [
           "reggae fusion"
          ],
          [
           "reggae rock"
          ],
          [
           "reggaeton"
          ],
          [
           "reggaeton colombiano"
          ],
          [
           "reggaeton cristiano"
          ],
          [
           "reggaeton flow"
          ],
          [
           "reggaeton mexicano"
          ],
          [
           "regional mexican"
          ],
          [
           "relaxative"
          ],
          [
           "renaissance"
          ],
          [
           "rennes indie"
          ],
          [
           "retro metal"
          ],
          [
           "retro soul"
          ],
          [
           "rhode island indie"
          ],
          [
           "rhode island rap"
          ],
          [
           "rhythm and blues"
          ],
          [
           "riddim"
          ],
          [
           "rif"
          ],
          [
           "riot grrrl"
          ],
          [
           "ritmo kombina"
          ],
          [
           "rochester mn indie"
          ],
          [
           "rochester ny indie"
          ],
          [
           "rock"
          ],
          [
           "rock alternatif francais"
          ],
          [
           "rock alternativo brasileiro"
          ],
          [
           "rock andaluz"
          ],
          [
           "rock baiano"
          ],
          [
           "rock brasiliense"
          ],
          [
           "rock chapin"
          ],
          [
           "rock cristiano"
          ],
          [
           "rock drums"
          ],
          [
           "rock en espanol"
          ],
          [
           "rock gaucho"
          ],
          [
           "rock independant francais"
          ],
          [
           "rock kapak"
          ],
          [
           "rock keyboard"
          ],
          [
           "rock nacional"
          ],
          [
           "rock nacional brasileiro"
          ],
          [
           "rock pernambucano"
          ],
          [
           "rock progressif francais"
          ],
          [
           "rock steady"
          ],
          [
           "rock urbano mexicano"
          ],
          [
           "rock-and-roll"
          ],
          [
           "rockabilly"
          ],
          [
           "rockabilly en espanol"
          ],
          [
           "roda de samba"
          ],
          [
           "romanian classical piano"
          ],
          [
           "romanian electronic"
          ],
          [
           "romanian folk"
          ],
          [
           "romanian pop"
          ],
          [
           "romanian rock"
          ],
          [
           "romantico"
          ],
          [
           "roots americana"
          ],
          [
           "roots reggae"
          ],
          [
           "roots rock"
          ],
          [
           "roots worship"
          ],
          [
           "rosary"
          ],
          [
           "rumba"
          ],
          [
           "rumba congolaise"
          ],
          [
           "rune folk"
          ],
          [
           "russian alternative rock"
          ],
          [
           "russian ccm"
          ],
          [
           "russian chanson"
          ],
          [
           "russian choir"
          ],
          [
           "russian classical piano"
          ],
          [
           "russian dance"
          ],
          [
           "russian edm"
          ],
          [
           "russian folk"
          ],
          [
           "russian folk rock"
          ],
          [
           "russian jazz"
          ],
          [
           "russian metal"
          ],
          [
           "russian metalcore"
          ],
          [
           "russian modern classical"
          ],
          [
           "russian orchestra"
          ],
          [
           "russian pop"
          ],
          [
           "russian post-punk"
          ],
          [
           "russian punk"
          ],
          [
           "russian rock"
          ],
          [
           "russian romanticism"
          ],
          [
           "russian shoegaze"
          ],
          [
           "russian trance"
          ],
          [
           "rva indie"
          ],
          [
           "rwandan traditional"
          ],
          [
           "ryukyu ongaku"
          ],
          [
           "sacramento hip hop"
          ],
          [
           "sacramento indie"
          ],
          [
           "sacred steel"
          ],
          [
           "sad rap"
          ],
          [
           "salsa"
          ],
          [
           "salsa choke"
          ],
          [
           "salsa colombiana"
          ],
          [
           "salsa cubana"
          ],
          [
           "salsa international"
          ],
          [
           "salsa peruana"
          ],
          [
           "salsa puertorriquena"
          ],
          [
           "salsa venezolana"
          ],
          [
           "samba"
          ],
          [
           "samba de roda"
          ],
          [
           "samba moderno"
          ],
          [
           "samba-enredo"
          ],
          [
           "samba-jazz"
          ],
          [
           "samba-rock"
          ],
          [
           "san antonio rap"
          ],
          [
           "san diego indie"
          ],
          [
           "san diego rap"
          ],
          [
           "san marcos tx indie"
          ],
          [
           "sandalwood"
          ],
          [
           "sarod"
          ],
          [
           "saskatchewan indie"
          ],
          [
           "scam rap"
          ],
          [
           "scandinavian r&b"
          ],
          [
           "scandipop"
          ],
          [
           "schlager"
          ],
          [
           "scorecore"
          ],
          [
           "scottish electronic"
          ],
          [
           "scottish fiddle"
          ],
          [
           "scottish folk"
          ],
          [
           "scottish hip hop"
          ],
          [
           "scottish indie"
          ],
          [
           "scottish jazz"
          ],
          [
           "scottish metal"
          ],
          [
           "scottish new wave"
          ],
          [
           "scottish rock"
          ],
          [
           "scottish singer-songwriter"
          ],
          [
           "scratch"
          ],
          [
           "scream rap"
          ],
          [
           "screamo"
          ],
          [
           "seattle hip hop"
          ],
          [
           "seattle indie"
          ],
          [
           "second line"
          ],
          [
           "sefardi"
          ],
          [
           "serbian electronic"
          ],
          [
           "serialism"
          ],
          [
           "sertanejo"
          ],
          [
           "sertanejo pop"
          ],
          [
           "sertanejo tradicional"
          ],
          [
           "sertanejo universitario"
          ],
          [
           "sevdah"
          ],
          [
           "sevillanas"
          ],
          [
           "shaabi"
          ],
          [
           "shabad"
          ],
          [
           "shakuhachi"
          ],
          [
           "shamanic"
          ],
          [
           "shanty"
          ],
          [
           "sheffield indie"
          ],
          [
           "shibuya-kei"
          ],
          [
           "shimmer pop"
          ],
          [
           "shimmer psych"
          ],
          [
           "shiver pop"
          ],
          [
           "shoegaze"
          ],
          [
           "show tunes"
          ],
          [
           "shred"
          ],
          [
           "shush"
          ],
          [
           "sierreno"
          ],
          [
           "singaporean mandopop"
          ],
          [
           "singaporean pop"
          ],
          [
           "singaporean singer-songwriter"
          ],
          [
           "singer-songwriter"
          ],
          [
           "singing bowl"
          ],
          [
           "sitar"
          ],
          [
           "ska"
          ],
          [
           "ska argentino"
          ],
          [
           "ska chileno"
          ],
          [
           "ska jazz"
          ],
          [
           "ska mexicano"
          ],
          [
           "ska punk"
          ],
          [
           "ska revival"
          ],
          [
           "skate punk"
          ],
          [
           "skiffle"
          ],
          [
           "skramz"
          ],
          [
           "sky room"
          ],
          [
           "slack-key guitar"
          ],
          [
           "slam poetry"
          ],
          [
           "slamming deathcore"
          ],
          [
           "slavic folk metal"
          ],
          [
           "slayer"
          ],
          [
           "slc indie"
          ],
          [
           "sleaze rock"
          ],
          [
           "sleep"
          ],
          [
           "slovak electronic"
          ],
          [
           "slovenian electronic"
          ],
          [
           "slovenian metal"
          ],
          [
           "slow game"
          ],
          [
           "slowcore"
          ],
          [
           "sludge metal"
          ],
          [
           "small room"
          ],
          [
           "smooth jazz"
          ],
          [
           "smooth saxophone"
          ],
          [
           "smooth soul"
          ],
          [
           "soca"
          ],
          [
           "socal pop punk"
          ],
          [
           "social media pop"
          ],
          [
           "soda pop"
          ],
          [
           "soft rock"
          ],
          [
           "solipsynthm"
          ],
          [
           "son cubano"
          ],
          [
           "son cubano clasico"
          ],
          [
           "son jarocho"
          ],
          [
           "sophisti-pop"
          ],
          [
           "sotalaulut"
          ],
          [
           "soukous"
          ],
          [
           "soul"
          ],
          [
           "soul blues"
          ],
          [
           "soul flow"
          ],
          [
           "soul jazz"
          ],
          [
           "souldies"
          ],
          [
           "sound"
          ],
          [
           "sound art"
          ],
          [
           "sound effects"
          ],
          [
           "sound team"
          ],
          [
           "soundtrack"
          ],
          [
           "south african alternative"
          ],
          [
           "south african choral"
          ],
          [
           "south african country"
          ],
          [
           "south african hip hop"
          ],
          [
           "south african house"
          ],
          [
           "south african jazz"
          ],
          [
           "south african pop"
          ],
          [
           "south african pop dance"
          ],
          [
           "south african rock"
          ],
          [
           "south carolina hip hop"
          ],
          [
           "south carolina indie"
          ],
          [
           "south carolina metal"
          ],
          [
           "south dakota indie"
          ],
          [
           "southampton indie"
          ],
          [
           "southern americana"
          ],
          [
           "southern gospel"
          ],
          [
           "southern hip hop"
          ],
          [
           "southern metal"
          ],
          [
           "southern rock"
          ],
          [
           "southern soul"
          ],
          [
           "southern soul blues"
          ],
          [
           "soviet synthpop"
          ],
          [
           "sovietwave"
          ],
          [
           "spa"
          ],
          [
           "space age pop"
          ],
          [
           "space ambient"
          ],
          [
           "space rock"
          ],
          [
           "spanish baroque"
          ],
          [
           "spanish classical"
          ],
          [
           "spanish classical piano"
          ],
          [
           "spanish folk metal"
          ],
          [
           "spanish hip hop"
          ],
          [
           "spanish indie pop"
          ],
          [
           "spanish invasion"
          ],
          [
           "spanish metal"
          ],
          [
           "spanish modern rock"
          ],
          [
           "spanish new wave"
          ],
          [
           "spanish noise pop"
          ],
          [
           "spanish pop"
          ],
          [
           "spanish pop rock"
          ],
          [
           "spanish renaissance"
          ],
          [
           "spanish rock"
          ],
          [
           "spanish synthpop"
          ],
          [
           "spanish techno"
          ],
          [
           "speed garage"
          ],
          [
           "speed metal"
          ],
          [
           "speedcore"
          ],
          [
           "spiritual hip hop"
          ],
          [
           "spiritual jazz"
          ],
          [
           "spirituals"
          ],
          [
           "springfield mo indie"
          ],
          [
           "spytrack"
          ],
          [
           "st louis rap"
          ],
          [
           "steampunk"
          ],
          [
           "steel guitar"
          ],
          [
           "steelpan"
          ],
          [
           "stl indie"
          ],
          [
           "stomp and flutter"
          ],
          [
           "stomp and holler"
          ],
          [
           "stomp and whittle"
          ],
          [
           "stomp pop"
          ],
          [
           "stoner metal"
          ],
          [
           "stoner rock"
          ],
          [
           "straight edge"
          ],
          [
           "straight-ahead jazz"
          ],
          [
           "street band"
          ],
          [
           "street punk"
          ],
          [
           "streichquartett"
          ],
          [
           "stride"
          ],
          [
           "string band"
          ],
          [
           "string folk"
          ],
          [
           "string orchestra"
          ],
          [
           "string quartet"
          ],
          [
           "strut"
          ],
          [
           "substep"
          ],
          [
           "sudanese pop"
          ],
          [
           "sufi"
          ],
          [
           "sufi chant"
          ],
          [
           "sunshine pop"
          ],
          [
           "supergroup"
          ],
          [
           "surf music"
          ],
          [
           "surf punk"
          ],
          [
           "svensk progg"
          ],
          [
           "swamp blues"
          ],
          [
           "swamp pop"
          ],
          [
           "swamp rock"
          ],
          [
           "swancore"
          ],
          [
           "swedish alternative rock"
          ],
          [
           "swedish americana"
          ],
          [
           "swedish black metal"
          ],
          [
           "swedish choir"
          ],
          [
           "swedish country"
          ],
          [
           "swedish dancehall"
          ],
          [
           "swedish death metal"
          ],
          [
           "swedish doom metal"
          ],
          [
           "swedish electronic"
          ],
          [
           "swedish electropop"
          ],
          [
           "swedish eurodance"
          ],
          [
           "swedish garage rock"
          ],
          [
           "swedish hard rock"
          ],
          [
           "swedish hardcore"
          ],
          [
           "swedish heavy metal"
          ],
          [
           "swedish house"
          ],
          [
           "swedish idol pop"
          ],
          [
           "swedish indie folk"
          ],
          [
           "swedish indie pop"
          ],
          [
           "swedish indie rock"
          ],
          [
           "swedish jazz"
          ],
          [
           "swedish jazz orkester"
          ],
          [
           "swedish melodic rock"
          ],
          [
           "swedish metal"
          ],
          [
           "swedish metalcore"
          ],
          [
           "swedish pop"
          ],
          [
           "swedish post-hardcore"
          ],
          [
           "swedish power metal"
          ],
          [
           "swedish prog"
          ],
          [
           "swedish progressive metal"
          ],
          [
           "swedish rock-and-roll"
          ],
          [
           "swedish singer-songwriter"
          ],
          [
           "swedish soul"
          ],
          [
           "swedish stoner rock"
          ],
          [
           "swedish synth"
          ],
          [
           "swedish synthpop"
          ],
          [
           "swedish tropical house"
          ],
          [
           "swedish underground rap"
          ],
          [
           "swing"
          ],
          [
           "swing italiano"
          ],
          [
           "swing revival"
          ],
          [
           "swiss black metal"
          ],
          [
           "swiss classical piano"
          ],
          [
           "swiss country"
          ],
          [
           "swiss metal"
          ],
          [
           "swiss pop"
          ],
          [
           "swiss rock"
          ],
          [
           "swiss worship"
          ],
          [
           "sydney indie"
          ],
          [
           "symphonic black metal"
          ],
          [
           "symphonic metal"
          ],
          [
           "symphonic rock"
          ],
          [
           "synth funk"
          ],
          [
           "synthpop"
          ],
          [
           "synthwave"
          ],
          [
           "syrian pop"
          ],
          [
           "tabla"
          ],
          [
           "tagalog rap"
          ],
          [
           "tagalog worship"
          ],
          [
           "taiwan campus folk"
          ],
          [
           "taiwan classical performance"
          ],
          [
           "taiwan hip hop"
          ],
          [
           "taiwan indie"
          ],
          [
           "taiwan pop"
          ],
          [
           "taiwan singer-songwriter"
          ],
          [
           "tajik pop"
          ],
          [
           "talent show"
          ],
          [
           "tamaulipas indie"
          ],
          [
           "tamaulipas rap"
          ],
          [
           "tamborazo"
          ],
          [
           "tamil hip hop"
          ],
          [
           "tamil pop"
          ],
          [
           "tamil worship"
          ],
          [
           "tampa indie"
          ],
          [
           "tango"
          ],
          [
           "tango cancion"
          ],
          [
           "tape club"
          ],
          [
           "tech house"
          ],
          [
           "technical death metal"
          ],
          [
           "technical deathcore"
          ],
          [
           "technical groove metal"
          ],
          [
           "technical melodic death metal"
          ],
          [
           "technical thrash"
          ],
          [
           "techno"
          ],
          [
           "techno kayo"
          ],
          [
           "tecnobanda"
          ],
          [
           "teen pop"
          ],
          [
           "tejano"
          ],
          [
           "tempe indie"
          ],
          [
           "tennessee hip hop"
          ],
          [
           "tennessee metal"
          ],
          [
           "tex-mex"
          ],
          [
           "texas blues"
          ],
          [
           "texas country"
          ],
          [
           "texas latin rap"
          ],
          [
           "texas pop punk"
          ],
          [
           "texas punk"
          ],
          [
           "thai folk"
          ],
          [
           "thai folk rock"
          ],
          [
           "thai idol"
          ],
          [
           "thai indie rock"
          ],
          [
           "thai pop"
          ],
          [
           "thall"
          ],
          [
           "theme"
          ],
          [
           "theremin"
          ],
          [
           "thrash core"
          ],
          [
           "thrash metal"
          ],
          [
           "timba"
          ],
          [
           "tin pan alley"
          ],
          [
           "tipico"
          ],
          [
           "tolkien metal"
          ],
          [
           "tollywood"
          ],
          [
           "tone"
          ],
          [
           "torch song"
          ],
          [
           "toronto indie"
          ],
          [
           "toronto rap"
          ],
          [
           "trad jazz catala"
          ],
          [
           "traditional bluegrass"
          ],
          [
           "traditional blues"
          ],
          [
           "traditional british folk"
          ],
          [
           "traditional country"
          ],
          [
           "traditional folk"
          ],
          [
           "traditional funk"
          ],
          [
           "traditional rockabilly"
          ],
          [
           "traditional ska"
          ],
          [
           "traditional soul"
          ],
          [
           "trance"
          ],
          [
           "trance mexicano"
          ],
          [
           "trancecore"
          ],
          [
           "transpop"
          ],
          [
           "trap"
          ],
          [
           "trap argentino"
          ],
          [
           "trap chileno"
          ],
          [
           "trap dominicano"
          ],
          [
           "trap latino"
          ],
          [
           "trap mexicano"
          ],
          [
           "trap queen"
          ],
          [
           "trap soul"
          ],
          [
           "trap triste"
          ],
          [
           "trap venezolano"
          ],
          [
           "traprun"
          ],
          [
           "trash rock"
          ],
          [
           "triangle indie"
          ],
          [
           "tribal house"
          ],
          [
           "trinidadian reggae"
          ],
          [
           "trio cubano"
          ],
          [
           "trip hop"
          ],
          [
           "trival"
          ],
          [
           "tropical"
          ],
          [
           "tropical house"
          ],
          [
           "tropicalia"
          ],
          [
           "trova"
          ],
          [
           "trova mexicana"
          ],
          [
           "truck-driving country"
          ],
          [
           "tuareg guitar"
          ],
          [
           "tucson indie"
          ],
          [
           "tulsa indie"
          ],
          [
           "tuna estudiantil"
          ],
          [
           "tunisian pop"
          ],
          [
           "turbo folk"
          ],
          [
           "turkish classical"
          ],
          [
           "turkish classical performance"
          ],
          [
           "turkish edm"
          ],
          [
           "turkish experimental"
          ],
          [
           "turkish folk"
          ],
          [
           "turkish jazz"
          ],
          [
           "turkish modern jazz"
          ],
          [
           "turkish pop"
          ],
          [
           "turkish psych"
          ],
          [
           "turkish trap"
          ],
          [
           "turkish trap pop"
          ],
          [
           "turntablism"
          ],
          [
           "twee pop"
          ],
          [
           "twoubadou"
          ],
          [
           "tzadik"
          ],
          [
           "ugandan pop"
          ],
          [
           "uilleann pipes"
          ],
          [
           "uk alternative hip hop"
          ],
          [
           "uk alternative pop"
          ],
          [
           "uk americana"
          ],
          [
           "uk contemporary jazz"
          ],
          [
           "uk contemporary r&b"
          ],
          [
           "uk dance"
          ],
          [
           "uk dancehall"
          ],
          [
           "uk diy punk"
          ],
          [
           "uk dnb"
          ],
          [
           "uk doom metal"
          ],
          [
           "uk dub"
          ],
          [
           "uk experimental electronic"
          ],
          [
           "uk funky"
          ],
          [
           "uk garage"
          ],
          [
           "uk hip hop"
          ],
          [
           "uk house"
          ],
          [
           "uk metalcore"
          ],
          [
           "uk noise rock"
          ],
          [
           "uk pop"
          ],
          [
           "uk pop punk"
          ],
          [
           "uk post-hardcore"
          ],
          [
           "uk post-punk"
          ],
          [
           "uk reggae"
          ],
          [
           "uk rockabilly"
          ],
          [
           "uk stoner rock"
          ],
          [
           "uk worship"
          ],
          [
           "uk82"
          ],
          [
           "ukrainian choir"
          ],
          [
           "ukrainian classical"
          ],
          [
           "ukrainian classical piano"
          ],
          [
           "ukrainian electronic"
          ],
          [
           "ukrainian pop"
          ],
          [
           "ukulele"
          ],
          [
           "umbanda"
          ],
          [
           "underground hip hop"
          ],
          [
           "underground power pop"
          ],
          [
           "underground rap"
          ],
          [
           "university choir"
          ],
          [
           "uplifting trance"
          ],
          [
           "uptempo hardcore"
          ],
          [
           "urban contemporary"
          ],
          [
           "urbano espanol"
          ],
          [
           "us power metal"
          ],
          [
           "utah indie"
          ],
          [
           "uzbek pop"
          ],
          [
           "uzbek traditional"
          ],
          [
           "v-pop"
          ],
          [
           "vallenato"
          ],
          [
           "vallenato moderno"
          ],
          [
           "vancouver indie"
          ],
          [
           "vancouver metal"
          ],
          [
           "vancouver punk"
          ],
          [
           "vapor pop"
          ],
          [
           "vapor soul"
          ],
          [
           "vapor trap"
          ],
          [
           "vapor twitch"
          ],
          [
           "vaporwave"
          ],
          [
           "variete francaise"
          ],
          [
           "vaudeville"
          ],
          [
           "vbs"
          ],
          [
           "veena"
          ],
          [
           "vegan straight edge"
          ],
          [
           "vegas indie"
          ],
          [
           "velha guarda"
          ],
          [
           "venezuelan hip hop"
          ],
          [
           "venezuelan indie"
          ],
          [
           "venezuelan rock"
          ],
          [
           "veracruz indie"
          ],
          [
           "vermont indie"
          ],
          [
           "vgm instrumental"
          ],
          [
           "vgm remix"
          ],
          [
           "victoria bc indie"
          ],
          [
           "victorian britain"
          ],
          [
           "video game music"
          ],
          [
           "vienna indie"
          ],
          [
           "vietnamese bolero"
          ],
          [
           "vietnamese pop"
          ],
          [
           "viking black metal"
          ],
          [
           "viking folk"
          ],
          [
           "viking metal"
          ],
          [
           "villancicos"
          ],
          [
           "vintage chanson"
          ],
          [
           "vintage chinese pop"
          ],
          [
           "vintage classical singing"
          ],
          [
           "vintage country folk"
          ],
          [
           "vintage dutch pop"
          ],
          [
           "vintage french electronic"
          ],
          [
           "vintage gospel"
          ],
          [
           "vintage hollywood"
          ],
          [
           "vintage italian pop"
          ],
          [
           "vintage italian soundtrack"
          ],
          [
           "vintage jazz"
          ],
          [
           "vintage old-time"
          ],
          [
           "vintage rockabilly"
          ],
          [
           "vintage schlager"
          ],
          [
           "vintage spanish pop"
          ],
          [
           "vintage swedish pop"
          ],
          [
           "vintage swing"
          ],
          [
           "vintage tango"
          ],
          [
           "viola"
          ],
          [
           "violao"
          ],
          [
           "violao classico"
          ],
          [
           "violin"
          ],
          [
           "viral pop"
          ],
          [
           "viral rap"
          ],
          [
           "viral trap"
          ],
          [
           "virgin islands reggae"
          ],
          [
           "virginia hip hop"
          ],
          [
           "virginia metal"
          ],
          [
           "virginia punk"
          ],
          [
           "visor"
          ],
          [
           "visual kei"
          ],
          [
           "vocal ensemble"
          ],
          [
           "vocal harmony group"
          ],
          [
           "vocal house"
          ],
          [
           "vocal jazz"
          ],
          [
           "vocal trance"
          ],
          [
           "vocaloid"
          ],
          [
           "vogue"
          ],
          [
           "volksmusik"
          ],
          [
           "warm drone"
          ],
          [
           "washboard"
          ],
          [
           "washington indie"
          ],
          [
           "wassoulou"
          ],
          [
           "water"
          ],
          [
           "wave"
          ],
          [
           "welsh folk"
          ],
          [
           "welsh indie"
          ],
          [
           "welsh metal"
          ],
          [
           "welsh rock"
          ],
          [
           "west african jazz"
          ],
          [
           "west australian hip hop"
          ],
          [
           "west coast rap"
          ],
          [
           "west coast reggae"
          ],
          [
           "west coast trap"
          ],
          [
           "west end"
          ],
          [
           "west virginia indie"
          ],
          [
           "western americana"
          ],
          [
           "western mass indie"
          ],
          [
           "western saharan folk"
          ],
          [
           "western swing"
          ],
          [
           "white noise"
          ],
          [
           "wind ensemble"
          ],
          [
           "wind quintet"
          ],
          [
           "wisconsin indie"
          ],
          [
           "witch house"
          ],
          [
           "women's choir"
          ],
          [
           "women's music"
          ],
          [
           "wonky"
          ],
          [
           "worcester ma indie"
          ],
          [
           "world"
          ],
          [
           "world fusion"
          ],
          [
           "world meditation"
          ],
          [
           "world worship"
          ],
          [
           "worship"
          ],
          [
           "wrestling"
          ],
          [
           "wu fam"
          ],
          [
           "wyoming indie"
          ],
          [
           "wyoming roots"
          ],
          [
           "xhosa"
          ],
          [
           "xtra raw"
          ],
          [
           "yacht rock"
          ],
          [
           "ye ye"
          ],
          [
           "yiddish folk"
          ],
          [
           "yodeling"
          ],
          [
           "yoga"
          ],
          [
           "yoik"
          ],
          [
           "york indie"
          ],
          [
           "yorkshire folk"
          ],
          [
           "yugoslav new wave"
          ],
          [
           "yugoslav rock"
          ],
          [
           "zambian pop"
          ],
          [
           "zeuhl"
          ],
          [
           "zhongguo feng"
          ],
          [
           "zimdancehall"
          ],
          [
           "zolo"
          ],
          [
           "zouglou"
          ],
          [
           "zouk"
          ],
          [
           "zurich indie"
          ],
          [
           "zydeco"
          ]
         ],
         "hovertemplate": "x=%{x}<br>y=%{y}<br>generos=%{customdata[0]}<br>cluster=%{marker.color}<extra></extra>",
         "legendgroup": "",
         "marker": {
          "color": [
           2,
           2,
           0,
           3,
           3,
           1,
           1,
           0,
           3,
           3,
           4,
           1,
           4,
           2,
           3,
           1,
           0,
           1,
           4,
           1,
           3,
           3,
           0,
           3,
           1,
           0,
           0,
           2,
           0,
           0,
           0,
           0,
           0,
           1,
           1,
           4,
           1,
           0,
           4,
           1,
           4,
           0,
           0,
           0,
           1,
           0,
           0,
           1,
           0,
           4,
           0,
           1,
           1,
           4,
           4,
           0,
           4,
           4,
           0,
           0,
           4,
           1,
           0,
           2,
           4,
           1,
           4,
           1,
           0,
           2,
           0,
           1,
           2,
           2,
           2,
           2,
           2,
           3,
           4,
           2,
           1,
           2,
           1,
           2,
           2,
           1,
           3,
           4,
           2,
           0,
           4,
           4,
           4,
           1,
           1,
           4,
           4,
           1,
           3,
           0,
           3,
           2,
           1,
           1,
           1,
           1,
           2,
           1,
           0,
           4,
           0,
           1,
           0,
           0,
           0,
           0,
           0,
           4,
           3,
           4,
           1,
           2,
           1,
           0,
           1,
           2,
           0,
           1,
           0,
           2,
           1,
           0,
           0,
           0,
           4,
           0,
           2,
           4,
           0,
           4,
           0,
           4,
           4,
           3,
           4,
           0,
           1,
           0,
           1,
           0,
           2,
           0,
           2,
           2,
           2,
           0,
           4,
           4,
           0,
           0,
           4,
           4,
           1,
           4,
           0,
           4,
           4,
           0,
           0,
           1,
           4,
           1,
           1,
           0,
           0,
           4,
           0,
           0,
           0,
           2,
           2,
           2,
           1,
           2,
           0,
           3,
           4,
           2,
           2,
           4,
           0,
           3,
           0,
           0,
           0,
           0,
           2,
           2,
           3,
           1,
           3,
           0,
           3,
           3,
           3,
           4,
           1,
           2,
           2,
           3,
           2,
           0,
           4,
           0,
           0,
           0,
           3,
           3,
           3,
           3,
           3,
           2,
           0,
           3,
           3,
           3,
           2,
           2,
           2,
           2,
           1,
           2,
           2,
           3,
           0,
           1,
           4,
           0,
           0,
           4,
           0,
           0,
           0,
           0,
           4,
           0,
           0,
           3,
           1,
           3,
           0,
           0,
           3,
           1,
           0,
           4,
           4,
           4,
           2,
           2,
           4,
           4,
           0,
           1,
           4,
           3,
           4,
           0,
           1,
           1,
           1,
           1,
           3,
           0,
           0,
           1,
           2,
           3,
           0,
           2,
           3,
           4,
           4,
           2,
           2,
           0,
           0,
           4,
           4,
           4,
           0,
           4,
           4,
           4,
           4,
           1,
           4,
           3,
           3,
           3,
           3,
           4,
           4,
           1,
           4,
           3,
           3,
           0,
           0,
           3,
           0,
           0,
           3,
           3,
           3,
           0,
           0,
           0,
           4,
           4,
           0,
           0,
           4,
           3,
           1,
           0,
           0,
           2,
           2,
           1,
           1,
           2,
           2,
           0,
           2,
           2,
           2,
           0,
           4,
           0,
           3,
           3,
           4,
           3,
           3,
           0,
           0,
           0,
           4,
           0,
           4,
           4,
           0,
           3,
           2,
           1,
           3,
           4,
           1,
           4,
           0,
           4,
           4,
           1,
           0,
           2,
           2,
           0,
           2,
           3,
           4,
           1,
           3,
           4,
           4,
           1,
           0,
           1,
           2,
           2,
           1,
           4,
           1,
           0,
           2,
           4,
           3,
           1,
           0,
           0,
           0,
           4,
           4,
           0,
           4,
           1,
           0,
           0,
           0,
           0,
           4,
           2,
           3,
           3,
           1,
           1,
           3,
           0,
           0,
           0,
           2,
           3,
           0,
           2,
           1,
           0,
           3,
           0,
           4,
           0,
           3,
           2,
           2,
           2,
           3,
           0,
           1,
           1,
           4,
           0,
           2,
           3,
           4,
           0,
           4,
           1,
           3,
           1,
           0,
           0,
           4,
           4,
           1,
           0,
           4,
           4,
           2,
           1,
           4,
           4,
           0,
           1,
           2,
           1,
           4,
           0,
           3,
           1,
           3,
           1,
           1,
           3,
           3,
           4,
           3,
           3,
           0,
           3,
           3,
           3,
           0,
           2,
           2,
           2,
           4,
           4,
           2,
           3,
           2,
           4,
           0,
           0,
           3,
           2,
           3,
           2,
           2,
           1,
           2,
           1,
           1,
           4,
           0,
           1,
           3,
           0,
           4,
           3,
           0,
           0,
           4,
           3,
           3,
           0,
           4,
           0,
           4,
           4,
           4,
           0,
           3,
           4,
           0,
           0,
           0,
           3,
           3,
           0,
           3,
           0,
           1,
           1,
           0,
           4,
           2,
           3,
           1,
           3,
           0,
           3,
           4,
           1,
           3,
           2,
           2,
           2,
           4,
           1,
           0,
           1,
           4,
           2,
           3,
           1,
           2,
           2,
           1,
           0,
           2,
           3,
           1,
           3,
           1,
           4,
           0,
           4,
           0,
           0,
           1,
           4,
           4,
           1,
           4,
           4,
           0,
           2,
           4,
           0,
           1,
           2,
           1,
           0,
           0,
           0,
           4,
           4,
           1,
           0,
           3,
           3,
           0,
           0,
           3,
           0,
           1,
           3,
           3,
           3,
           3,
           4,
           3,
           0,
           0,
           0,
           0,
           3,
           4,
           1,
           4,
           3,
           1,
           3,
           3,
           4,
           3,
           3,
           3,
           1,
           0,
           1,
           3,
           1,
           0,
           3,
           1,
           1,
           0,
           1,
           3,
           4,
           3,
           0,
           2,
           0,
           0,
           0,
           3,
           0,
           0,
           2,
           1,
           2,
           2,
           2,
           2,
           2,
           2,
           2,
           2,
           2,
           2,
           2,
           3,
           2,
           2,
           2,
           2,
           2,
           2,
           2,
           1,
           2,
           2,
           2,
           3,
           3,
           0,
           4,
           0,
           0,
           0,
           0,
           0,
           0,
           0,
           0,
           0,
           3,
           0,
           4,
           3,
           4,
           2,
           0,
           2,
           4,
           4,
           0,
           2,
           2,
           2,
           0,
           3,
           1,
           2,
           3,
           3,
           2,
           3,
           3,
           3,
           4,
           0,
           0,
           0,
           4,
           3,
           1,
           0,
           3,
           3,
           0,
           3,
           0,
           0,
           0,
           1,
           3,
           3,
           0,
           0,
           1,
           0,
           0,
           4,
           0,
           4,
           0,
           0,
           0,
           3,
           0,
           0,
           0,
           0,
           0,
           0,
           0,
           0,
           0,
           3,
           0,
           3,
           0,
           0,
           0,
           0,
           4,
           4,
           3,
           2,
           2,
           3,
           4,
           3,
           4,
           0,
           0,
           0,
           4,
           0,
           4,
           4,
           2,
           4,
           2,
           0,
           2,
           4,
           0,
           1,
           4,
           0,
           4,
           4,
           3,
           0,
           3,
           0,
           0,
           1,
           0,
           4,
           2,
           1,
           4,
           1,
           0,
           1,
           4,
           4,
           4,
           1,
           4,
           4,
           4,
           0,
           4,
           4,
           4,
           4,
           0,
           3,
           4,
           4,
           1,
           0,
           3,
           0,
           4,
           3,
           0,
           0,
           4,
           0,
           0,
           0,
           3,
           0,
           4,
           0,
           0,
           4,
           0,
           0,
           2,
           3,
           4,
           3,
           3,
           4,
           1,
           3,
           1,
           0,
           0,
           2,
           4,
           1,
           4,
           0,
           4,
           0,
           0,
           1,
           0,
           1,
           2,
           3,
           0,
           1,
           0,
           1,
           1,
           0,
           0,
           4,
           3,
           0,
           0,
           0,
           0,
           1,
           0,
           1,
           0,
           0,
           4,
           0,
           1,
           1,
           0,
           1,
           3,
           1,
           0,
           3,
           4,
           2,
           0,
           0,
           0,
           0,
           3,
           0,
           3,
           4,
           4,
           0,
           0,
           0,
           3,
           4,
           4,
           1,
           3,
           1,
           4,
           4,
           4,
           2,
           0,
           1,
           2,
           2,
           1,
           4,
           0,
           4,
           0,
           2,
           4,
           1,
           2,
           0,
           3,
           3,
           4,
           0,
           1,
           4,
           3,
           2,
           4,
           4,
           4,
           3,
           0,
           4,
           3,
           2,
           4,
           0,
           4,
           0,
           3,
           4,
           1,
           3,
           3,
           2,
           2,
           2,
           2,
           3,
           2,
           0,
           4,
           0,
           0,
           1,
           3,
           0,
           1,
           4,
           2,
           1,
           0,
           4,
           0,
           0,
           3,
           4,
           4,
           3,
           1,
           0,
           4,
           1,
           0,
           0,
           4,
           1,
           4,
           0,
           4,
           4,
           4,
           1,
           0,
           0,
           0,
           4,
           4,
           4,
           0,
           4,
           2,
           4,
           2,
           1,
           3,
           2,
           4,
           1,
           3,
           0,
           2,
           4,
           3,
           0,
           1,
           1,
           1,
           2,
           3,
           1,
           0,
           4,
           4,
           0,
           0,
           0,
           0,
           3,
           1,
           2,
           2,
           0,
           0,
           2,
           1,
           0,
           1,
           1,
           1,
           1,
           3,
           3,
           1,
           3,
           4,
           0,
           3,
           0,
           4,
           1,
           2,
           4,
           2,
           2,
           4,
           4,
           4,
           4,
           4,
           4,
           0,
           3,
           1,
           2,
           0,
           1,
           4,
           0,
           1,
           1,
           2,
           0,
           1,
           0,
           0,
           3,
           3,
           3,
           3,
           1,
           3,
           4,
           0,
           1,
           3,
           1,
           3,
           0,
           3,
           3,
           0,
           0,
           0,
           3,
           1,
           0,
           0,
           0,
           4,
           2,
           0,
           1,
           0,
           1,
           2,
           2,
           0,
           2,
           2,
           3,
           4,
           4,
           0,
           1,
           1,
           4,
           3,
           4,
           3,
           2,
           2,
           1,
           0,
           4,
           0,
           0,
           2,
           4,
           3,
           0,
           4,
           4,
           4,
           0,
           4,
           0,
           3,
           0,
           0,
           4,
           4,
           3,
           0,
           0,
           0,
           0,
           1,
           4,
           0,
           1,
           0,
           4,
           0,
           0,
           4,
           1,
           4,
           4,
           0,
           3,
           2,
           4,
           4,
           0,
           0,
           4,
           1,
           4,
           1,
           4,
           0,
           4,
           1,
           1,
           0,
           1,
           4,
           2,
           2,
           2,
           1,
           0,
           4,
           4,
           0,
           0,
           2,
           3,
           4,
           4,
           2,
           2,
           0,
           0,
           0,
           4,
           0,
           2,
           4,
           2,
           2,
           2,
           4,
           4,
           4,
           0,
           0,
           3,
           3,
           4,
           0,
           4,
           4,
           1,
           0,
           1,
           4,
           1,
           0,
           0,
           4,
           1,
           3,
           3,
           3,
           1,
           0,
           3,
           0,
           4,
           1,
           4,
           0,
           0,
           4,
           4,
           1,
           4,
           4,
           0,
           0,
           4,
           3,
           2,
           3,
           3,
           4,
           2,
           3,
           3,
           2,
           0,
           1,
           1,
           4,
           0,
           4,
           4,
           0,
           0,
           0,
           0,
           4,
           4,
           3,
           1,
           3,
           2,
           3,
           3,
           3,
           2,
           4,
           3,
           3,
           0,
           3,
           0,
           0,
           0,
           2,
           1,
           4,
           2,
           4,
           4,
           3,
           1,
           4,
           0,
           4,
           0,
           4,
           4,
           4,
           0,
           3,
           3,
           3,
           2,
           2,
           2,
           2,
           3,
           0,
           0,
           2,
           0,
           0,
           0,
           1,
           0,
           2,
           2,
           3,
           0,
           0,
           0,
           0,
           0,
           2,
           2,
           2,
           2,
           2,
           2,
           2,
           3,
           1,
           1,
           0,
           3,
           3,
           3,
           3,
           0,
           4,
           1,
           0,
           4,
           0,
           0,
           0,
           3,
           0,
           2,
           2,
           2,
           2,
           1,
           3,
           3,
           3,
           1,
           1,
           0,
           0,
           2,
           1,
           2,
           1,
           3,
           1,
           1,
           1,
           1,
           1,
           4,
           3,
           3,
           2,
           3,
           0,
           0,
           2,
           0,
           3,
           3,
           0,
           1,
           1,
           3,
           1,
           1,
           0,
           1,
           1,
           1,
           0,
           1,
           1,
           0,
           0,
           1,
           4,
           1,
           0,
           1,
           4,
           0,
           4,
           1,
           0,
           4,
           3,
           1,
           4,
           0,
           4,
           1,
           0,
           2,
           1,
           3,
           0,
           4,
           4,
           1,
           3,
           3,
           1,
           0,
           4,
           1,
           4,
           4,
           1,
           4,
           0,
           1,
           0,
           0,
           3,
           3,
           2,
           1,
           1,
           3,
           3,
           0,
           2,
           4,
           1,
           3,
           1,
           3,
           0,
           3,
           3,
           2,
           2,
           2,
           0,
           4,
           0,
           3,
           3,
           0,
           1,
           2,
           2,
           2,
           2,
           4,
           2,
           2,
           1,
           0,
           4,
           4,
           0,
           2,
           1,
           2,
           4,
           2,
           4,
           2,
           2,
           3,
           4,
           1,
           1,
           2,
           2,
           2,
           2,
           1,
           3,
           3,
           0,
           0,
           4,
           2,
           1,
           4,
           0,
           4,
           4,
           4,
           0,
           4,
           4,
           0,
           4,
           4,
           1,
           1,
           0,
           0,
           4,
           3,
           0,
           2,
           2,
           2,
           2,
           1,
           2,
           0,
           4,
           1,
           0,
           0,
           4,
           4,
           2,
           3,
           4,
           1,
           3,
           1,
           4,
           4,
           1,
           4,
           4,
           4,
           4,
           1,
           4,
           4,
           0,
           0,
           4,
           1,
           2,
           1,
           1,
           0,
           3,
           3,
           3,
           0,
           3,
           3,
           3,
           3,
           3,
           2,
           3,
           3,
           1,
           1,
           3,
           3,
           4,
           2,
           3,
           1,
           3,
           3,
           3,
           0,
           1,
           3,
           2,
           3,
           3,
           3,
           3,
           3,
           3,
           1,
           2,
           0,
           1,
           0,
           0,
           1,
           3,
           0,
           3,
           4,
           0,
           0,
           0,
           0,
           0,
           3,
           3,
           0,
           3,
           0,
           3,
           4,
           4,
           1,
           1,
           1,
           0,
           1,
           0,
           3,
           0,
           0,
           3,
           1,
           0,
           0,
           3,
           0,
           2,
           1,
           1,
           3,
           3,
           0,
           2,
           2,
           2,
           3,
           3,
           2,
           2,
           4,
           0,
           0,
           0,
           0,
           2,
           2,
           3,
           0,
           4,
           2,
           0,
           3,
           1,
           1,
           2,
           0,
           0,
           0,
           2,
           0,
           1,
           3,
           0,
           0,
           0,
           0,
           4,
           0,
           0,
           0,
           3,
           0,
           0,
           0,
           1,
           0,
           0,
           0,
           0,
           3,
           2,
           1,
           3,
           4,
           0,
           0,
           3,
           1,
           2,
           1,
           4,
           1,
           1,
           4,
           3,
           0,
           1,
           3,
           0,
           3,
           1,
           1,
           3,
           1,
           1,
           0,
           3,
           4,
           4,
           1,
           3,
           1,
           0,
           2,
           1,
           3,
           1,
           4,
           2,
           3,
           0,
           1,
           1,
           0,
           1,
           4,
           1,
           2,
           4,
           3,
           0,
           4,
           1,
           1,
           1,
           0,
           3,
           1,
           3,
           0,
           3,
           3,
           3,
           0,
           0,
           1,
           0,
           1,
           4,
           1,
           2,
           1,
           4,
           2,
           1,
           0,
           0,
           4,
           1,
           4,
           4,
           4,
           4,
           4,
           4,
           4,
           4,
           4,
           0,
           4,
           0,
           1,
           3,
           0,
           4,
           3,
           3,
           0,
           0,
           0,
           1,
           4,
           4,
           4,
           4,
           4,
           0,
           2,
           0,
           4,
           0,
           4,
           0,
           3,
           0,
           0,
           0,
           0,
           0,
           4,
           0,
           1,
           2,
           2,
           1,
           1,
           1,
           4,
           3,
           0,
           1,
           2,
           1,
           1,
           0,
           1,
           4,
           2,
           0,
           4,
           4,
           0,
           0,
           0,
           1,
           2,
           4,
           0,
           4,
           1,
           1,
           4,
           0,
           0,
           4,
           0,
           1,
           0,
           0,
           2,
           2,
           0,
           2,
           4,
           0,
           0,
           4,
           0,
           0,
           0,
           2,
           4,
           4,
           2,
           0,
           3,
           3,
           3,
           1,
           0,
           2,
           4,
           3,
           3,
           0,
           3,
           3,
           1,
           3,
           3,
           0,
           0,
           1,
           0,
           2,
           4,
           0,
           0,
           1,
           0,
           1,
           2,
           3,
           0,
           3,
           3,
           0,
           3,
           3,
           0,
           3,
           3,
           3,
           0,
           1,
           0,
           0,
           3,
           3,
           3,
           0,
           1,
           3,
           4,
           4,
           0,
           2,
           1,
           3,
           3,
           4,
           4,
           0,
           1,
           0,
           4,
           1,
           3,
           2,
           0,
           2,
           0,
           2,
           3,
           4,
           0,
           4,
           3,
           1,
           0,
           0,
           2,
           1,
           3,
           1,
           4,
           0,
           1,
           4,
           4,
           1,
           1,
           1,
           2,
           1,
           0,
           0,
           3,
           3,
           1,
           4,
           4,
           0,
           4,
           2,
           2,
           1,
           0,
           0,
           3,
           4,
           0,
           2,
           0,
           4,
           1,
           4,
           0,
           3,
           3,
           0,
           0,
           3,
           0,
           4,
           0,
           1,
           0,
           4,
           0,
           1,
           4,
           0,
           2,
           4,
           4,
           0,
           0,
           4,
           4,
           1,
           4,
           3,
           0,
           1,
           4,
           4,
           4,
           2,
           2,
           1,
           0,
           2,
           1,
           2,
           3,
           4,
           0,
           0,
           4,
           0,
           1,
           4,
           1,
           4,
           4,
           4,
           0,
           4,
           2,
           2,
           2,
           4,
           2,
           0,
           0,
           2,
           4,
           4,
           4,
           4,
           4,
           1,
           1,
           1,
           0,
           1,
           3,
           0,
           0,
           2,
           0,
           4,
           1,
           4,
           4,
           0,
           4,
           3,
           3,
           3,
           0,
           1,
           3,
           0,
           3,
           3,
           4,
           4,
           0,
           0,
           0,
           4,
           2,
           1,
           4,
           1,
           0,
           4,
           4,
           1,
           0,
           0,
           4,
           0,
           2,
           0,
           1,
           4,
           0,
           1,
           0,
           3,
           0,
           0,
           0,
           4,
           0,
           1,
           3,
           2,
           1,
           4,
           0,
           0,
           2,
           2,
           4,
           2,
           2,
           1,
           1,
           2,
           2,
           4,
           2,
           4,
           1,
           4,
           2,
           2,
           3,
           3,
           2,
           0,
           4,
           0,
           0,
           0,
           3,
           0,
           0,
           3,
           2,
           2,
           4,
           0,
           4,
           0,
           0,
           4,
           3,
           0,
           3,
           1,
           1,
           0,
           0,
           2,
           1,
           0,
           0,
           0,
           3,
           1,
           0,
           3,
           3,
           4,
           0,
           0,
           3,
           4,
           0,
           0,
           0,
           0,
           0,
           3,
           2,
           1,
           1,
           2,
           3,
           0,
           4,
           4,
           1,
           3,
           1,
           1,
           1,
           0,
           0,
           0,
           0,
           0,
           4,
           4,
           3,
           2,
           0,
           2,
           2,
           2,
           2,
           2,
           3,
           4,
           3,
           0,
           0,
           3,
           0,
           0,
           2,
           0,
           0,
           0,
           1,
           0,
           4,
           0,
           4,
           0,
           1,
           0,
           0,
           1,
           0,
           4,
           1,
           0,
           0,
           0,
           0,
           4,
           1,
           0,
           0,
           1,
           0,
           0,
           2,
           4,
           3,
           0,
           1,
           1,
           4,
           1,
           2,
           0,
           0,
           4,
           4,
           4,
           1,
           2,
           4,
           1,
           1,
           2,
           2,
           4,
           0,
           4,
           0,
           4,
           4,
           1,
           2,
           0,
           1,
           1,
           1,
           4,
           4,
           4,
           4,
           4,
           4,
           4,
           4,
           4,
           4,
           1,
           4,
           4,
           1,
           4,
           3,
           4,
           0,
           3,
           1,
           4,
           1,
           4,
           3,
           1,
           0,
           1,
           4,
           1,
           1,
           4,
           4,
           4,
           0,
           3,
           1,
           0,
           3,
           0,
           0,
           4,
           4,
           4,
           0,
           4,
           0,
           0,
           1,
           2,
           2,
           4,
           1,
           0,
           0,
           0,
           0,
           3,
           0,
           0,
           3,
           2,
           3,
           1,
           3,
           0,
           0,
           0,
           0,
           1,
           0,
           0,
           0,
           4,
           0,
           2,
           4,
           0,
           1,
           4,
           4,
           3,
           1,
           0,
           3,
           3,
           0,
           0,
           0,
           0,
           0,
           0,
           0,
           0,
           4,
           0,
           0,
           0,
           3,
           2,
           0,
           4,
           0,
           1,
           0,
           3,
           0,
           1,
           4,
           0,
           4,
           0,
           4,
           0,
           0,
           0,
           0,
           1,
           4,
           4,
           1,
           0,
           4,
           4,
           0,
           1,
           1,
           0,
           3,
           1,
           0,
           4,
           0,
           0,
           0,
           3,
           2,
           0,
           2,
           0,
           3,
           3,
           1,
           0,
           1,
           1,
           3,
           1,
           1,
           1,
           4,
           4,
           3,
           2,
           2,
           4,
           4,
           3,
           3,
           3,
           4,
           4,
           2,
           2,
           0,
           4,
           3,
           1,
           2,
           1,
           4,
           0,
           2,
           3,
           0,
           4,
           0,
           0,
           0,
           0,
           0,
           0,
           0,
           0,
           0,
           0,
           3,
           3,
           0,
           0,
           3,
           0,
           0,
           4,
           0,
           1,
           3,
           2,
           3,
           0,
           0,
           0,
           1,
           2,
           0,
           2,
           1,
           0,
           1,
           3,
           0,
           0,
           0,
           0,
           0,
           0,
           4,
           0,
           1,
           0,
           0,
           3,
           2,
           0,
           3,
           3,
           0,
           1,
           0,
           0,
           3,
           2,
           2,
           3,
           4,
           1,
           4,
           1,
           1,
           1,
           1,
           4,
           2,
           0,
           1,
           1,
           4,
           1,
           2,
           2,
           0,
           0,
           0,
           0,
           0,
           0,
           0,
           4,
           3,
           3,
           4,
           3,
           4,
           4,
           4,
           4,
           1,
           4,
           2,
           1,
           0,
           4,
           0,
           1,
           4,
           1,
           1,
           1,
           0,
           0,
           4,
           0,
           3,
           1,
           0,
           3,
           3,
           0,
           0,
           0,
           3,
           0,
           3,
           0,
           3,
           3,
           2,
           2,
           2,
           0,
           2,
           0,
           3,
           0,
           0,
           0,
           3,
           0,
           0,
           4,
           0,
           1,
           4,
           4,
           1,
           0,
           1,
           0,
           4,
           0,
           0,
           0,
           0,
           4,
           2,
           3,
           2,
           1,
           2,
           2,
           2,
           4,
           0,
           1,
           0,
           4,
           1,
           0,
           1,
           0,
           0,
           2,
           0,
           0,
           1,
           0,
           4,
           3,
           0,
           1,
           3,
           1,
           3,
           0,
           0,
           3,
           3,
           0,
           3,
           1,
           3,
           0,
           4,
           4,
           4,
           2,
           0,
           4,
           2,
           3,
           3,
           2,
           2,
           2,
           0,
           1,
           1,
           3,
           3,
           1,
           1,
           1,
           4,
           4,
           0,
           0,
           0,
           4,
           4,
           1,
           4,
           2,
           0,
           0,
           4,
           4,
           1,
           4,
           4,
           4,
           4,
           4,
           1,
           1,
           4,
           1,
           4,
           4,
           2,
           3,
           1,
           4,
           4,
           0,
           4,
           4,
           4,
           4,
           0,
           1,
           1,
           1,
           1,
           1,
           4,
           0,
           3,
           3,
           0,
           4,
           2,
           2,
           4,
           0,
           1,
           2,
           3,
           4,
           4,
           1,
           0,
           0,
           4,
           3,
           3,
           0,
           1,
           3,
           2,
           3,
           1,
           1,
           1,
           3,
           0,
           0,
           0,
           0,
           3,
           3,
           3,
           4,
           3,
           3,
           1,
           1,
           4,
           1,
           4,
           4,
           4,
           1,
           1,
           0,
           0,
           0,
           0,
           0,
           4,
           0,
           0,
           0,
           0,
           0,
           0,
           0,
           0,
           1,
           3,
           0,
           4,
           3,
           2,
           4,
           4,
           0,
           3,
           0,
           1,
           3,
           2,
           3,
           1,
           0,
           3,
           3,
           3,
           1,
           3,
           3,
           1,
           0,
           0,
           0,
           4,
           4,
           4,
           0,
           0,
           0,
           4,
           1,
           0,
           0,
           0,
           0,
           0,
           0,
           4,
           4,
           4,
           0,
           3,
           3,
           1,
           0,
           0,
           0,
           0,
           3,
           3,
           3,
           1,
           0,
           0,
           0,
           0,
           0,
           3,
           2,
           4,
           4,
           3,
           3,
           3,
           1,
           3,
           4,
           1,
           0,
           1,
           3,
           2,
           1,
           3,
           0,
           0,
           1,
           1,
           0,
           0,
           0,
           4,
           4,
           4,
           0,
           1,
           0,
           0,
           0,
           0,
           4,
           0,
           0,
           0,
           4,
           1,
           0,
           4,
           4,
           1,
           4,
           2,
           2,
           2,
           1,
           0,
           3,
           3,
           0,
           0,
           0,
           2,
           4,
           4,
           0,
           0,
           4,
           1,
           3,
           3,
           0,
           0,
           0,
           1,
           4,
           4,
           1,
           1,
           0,
           1,
           4,
           1,
           3,
           0,
           3,
           4,
           4,
           3,
           0,
           0,
           0,
           0,
           1,
           2,
           4,
           0,
           2,
           1,
           1,
           0,
           0,
           4,
           1,
           4,
           3,
           3,
           3,
           2,
           3,
           3,
           1,
           3,
           3,
           3,
           2,
           3,
           3,
           0,
           3,
           3,
           3,
           3,
           3,
           2,
           3,
           3,
           2,
           0,
           0,
           0,
           0,
           0,
           4,
           4,
           3,
           4,
           2,
           3,
           0,
           3,
           4,
           4,
           0,
           3,
           2,
           3,
           0,
           3,
           2,
           0,
           2,
           4,
           4,
           4,
           1,
           0,
           0,
           0,
           0,
           3,
           0,
           1,
           0,
           1,
           3,
           2,
           2,
           2,
           1,
           1,
           4,
           1,
           1,
           0,
           1,
           1,
           2,
           1,
           1,
           4,
           0,
           4,
           1,
           3,
           4,
           0,
           3,
           2,
           3,
           2,
           2,
           3,
           1,
           0,
           0,
           0,
           4,
           0,
           0,
           1,
           0,
           0,
           3,
           0
          ],
          "coloraxis": "coloraxis",
          "symbol": "circle"
         },
         "mode": "markers",
         "name": "",
         "showlegend": false,
         "type": "scattergl",
         "x": [
          5.910268108221789,
          2.7870931528085907,
          -0.757537538374462,
          1.0205214866168166,
          0.753910514279143,
          1.7971062652419425,
          -0.4620496054489369,
          -1.3116722595637262,
          0.5984179553898568,
          0.5982012013950397,
          -1.165652538527716,
          -0.0711812465569606,
          -2.1717115858284024,
          3.6732966630297743,
          0.8327855889826052,
          0.0014059392111352548,
          -0.9273057420077749,
          0.6796203745139371,
          -1.4878005371777199,
          -0.25016976307256583,
          0.9541894103960774,
          0.8894938464845361,
          -0.934924475698156,
          2.435242216702914,
          -0.5794096848078703,
          -1.6872704870086677,
          -1.06652907590303,
          3.743308758581935,
          -2.1543016574456963,
          -1.0808503055522523,
          -0.9549632645218931,
          -3.2358726515928034,
          -1.7119755341735574,
          -0.43365637370201976,
          -0.6062336832001028,
          -0.9441629326199636,
          -0.21897352791236943,
          -1.5617667209055157,
          -1.3458348880477158,
          -0.6937048482628619,
          -1.6190405446647025,
          -1.5333276858350355,
          -1.698833579257117,
          -1.8093965083506098,
          1.0018621405554717,
          -1.550555791953907,
          -2.616201799535102,
          -0.7218561265706743,
          -0.9358284356998537,
          -2.321719004377392,
          -2.1698597717064207,
          -0.11704076484140181,
          -0.17798254163413815,
          -1.377097862788499,
          -1.2775706484489133,
          -1.6689082229336603,
          -1.4330066722916908,
          -0.8812940272849357,
          -1.9337278510850249,
          -0.991956176952392,
          -0.8554408012501148,
          -0.45004862859253586,
          -1.0642892702634423,
          3.4626062715850767,
          0.699842765245406,
          1.0246979229312398,
          -0.8535513919608638,
          0.650479260929851,
          -0.4774877693274711,
          3.6547368585169036,
          -0.5680284493815143,
          1.227568557882675,
          6.308184544302045,
          3.394757217806677,
          4.909954292792234,
          4.52149731111167,
          3.436840226679445,
          1.7065111212663098,
          -1.9949213104070949,
          2.883522671902228,
          -0.04924041576369361,
          4.251881907817703,
          1.5205339090003134,
          2.757827476352552,
          3.818868841818888,
          0.5222233385124347,
          0.6640664570007121,
          -1.8377265384972334,
          4.307369932725614,
          -0.9793272008623061,
          -1.7532546732907175,
          -2.2551791905614698,
          -2.290441566421831,
          -0.28007894163165487,
          0.22291185347269257,
          -1.5101821955287547,
          -0.6192845089796356,
          -0.07420986987072395,
          1.672824337430379,
          -1.94335301465705,
          1.0149766128732878,
          2.7195576686454257,
          0.9057166961074977,
          -0.21837300691801056,
          -0.2625665565621548,
          0.8449080453819644,
          2.8327794759317695,
          1.461495770999629,
          -1.584260298828402,
          -1.8856176787118515,
          -2.3938664259095854,
          -0.008422928392726408,
          -3.0786420856227754,
          -1.6438199733026306,
          -2.0393729844155715,
          -0.9968674357840722,
          -1.9809887425444175,
          -1.973609970676476,
          -0.21426030082170874,
          -2.3201588880940074,
          0.6288114935083461,
          5.262718544641118,
          -0.12166536408823861,
          -1.0121054754613967,
          0.03526096300568423,
          3.492610514342791,
          -1.2753710449014188,
          0.32826468813668336,
          -1.6951789119860827,
          3.7286177933129547,
          -0.6107015592017134,
          -1.9032893260849413,
          -1.8874273931826757,
          -1.4787588103471292,
          -1.687927343644114,
          -2.1606659415912106,
          4.6580882075069185,
          0.699842765245406,
          -1.8094474553131523,
          0.6443884999442723,
          -2.8182814169138863,
          0.6443884999442723,
          -1.4716926838801572,
          1.878175301629753,
          -1.133843484776816,
          -0.7702516670886767,
          -0.5221138504004774,
          -0.9270989547196357,
          0.5931378934821804,
          -1.3843251626688355,
          5.27117778440782,
          -0.9642170705834129,
          3.754319584280469,
          2.9926527080734293,
          4.167831601809076,
          -0.3896280793317457,
          -1.642475143557615,
          -1.167543393129809,
          -1.7381524969306457,
          -1.9383384408051354,
          -1.675752945490252,
          -1.187337265148717,
          -0.35419274697547737,
          -1.9748930162104523,
          -1.4332166640427941,
          -1.8599621279939231,
          -1.6285081252103335,
          -1.2616275422044294,
          -1.2397362810749415,
          0.1886828812437256,
          -1.201802979168831,
          0.0775439069895696,
          -0.4360699705802093,
          -1.2727953385235418,
          -1.0274090397486288,
          -1.8617821657705773,
          -0.8788683358223206,
          -2.622199874478132,
          -1.657659634541507,
          4.075563099476097,
          4.894322340584221,
          4.15885471267468,
          0.34415585652526803,
          3.2529655317034627,
          -2.014666324606975,
          0.19335161691421887,
          0.5398747178532792,
          4.407656001383201,
          2.3595535652176163,
          -1.0134812826832047,
          -1.4775598253498057,
          1.751655098733295,
          -1.9813204401207747,
          -1.5921148477738623,
          -1.8603543986322102,
          -1.6438683942628738,
          4.74351152734234,
          2.164611199122906,
          1.9271058748133283,
          0.24867553257171093,
          0.2640495888153471,
          -3.1062145776446384,
          1.0069292318079621,
          0.7363487998666439,
          0.013770393933030938,
          -0.9862592055897743,
          -0.010758925244005381,
          5.3812499370950615,
          3.031134078256738,
          2.1219579799750283,
          5.3768250548850185,
          -1.8715344938197171,
          -0.8257044500186879,
          -1.8050999520940774,
          -1.5965747063171403,
          -1.3903620518490427,
          2.381784988233931,
          0.3267105421940273,
          1.1855448365432089,
          2.2307952333073526,
          0.1827340785201274,
          4.81981338611359,
          -1.8931190472758403,
          1.0877277036361304,
          1.2390028548321221,
          2.3940366677464073,
          2.576594196723722,
          3.758125064467637,
          3.603387921723095,
          3.0892966317647024,
          -0.297841488371101,
          4.138457045658257,
          2.683964955737931,
          0.9951124914788226,
          -1.6409269228190302,
          -0.10733653159368302,
          -1.7242942774158063,
          -2.297203719466082,
          -2.1511737708624024,
          -1.5759181415763421,
          -1.3487051914956139,
          -2.0265484820804582,
          -2.1206904747689896,
          -1.930765453597682,
          -0.9234066530601984,
          -1.2516471860681764,
          -1.9113516620063316,
          0.7812550919890995,
          -0.5237497338668546,
          1.5258122967139613,
          -1.4815229037775153,
          -0.8608015003990191,
          2.0664450888696653,
          -0.39181100273553804,
          -0.8627420859305029,
          -1.7244851503949101,
          -2.451976422151483,
          -2.451976422151483,
          4.9110940863506665,
          2.1284228776298395,
          -2.026227680053006,
          -1.7259688400927669,
          -1.7612462995881775,
          -0.3294248445373819,
          -0.7167812722224347,
          2.359912655797254,
          -0.41095162447510747,
          -2.0724990678317305,
          0.49415125488177636,
          0.3947367578461067,
          0.5011147455994405,
          -0.15019477310741117,
          2.2643665658299272,
          -1.3540154536804456,
          -1.4700532554453167,
          -0.3914865896117501,
          2.9286868308441965,
          1.5627344941817944,
          -1.8046533953228459,
          4.421919934708998,
          1.666634125245816,
          -0.8630069468661103,
          -1.824016181608396,
          6.202329832453555,
          2.700729757114225,
          -1.921998873160112,
          -3.885335156982539,
          -0.32373523372279317,
          -1.4830437992216376,
          -0.6661581305866597,
          -0.8975313027897437,
          -0.2715001095859913,
          -2.0260074964118417,
          0.030668548225323892,
          -0.6661581305866597,
          1.6679376175634004,
          -0.962843199003249,
          0.052290470586083306,
          1.434242837067082,
          -0.07440927214208716,
          0.31619568972430406,
          -1.685434830718756,
          -1.378373549821599,
          -0.5302811239602094,
          -1.9482834157370146,
          0.4376816653802453,
          0.4611651127096511,
          -0.616921747171932,
          -1.140025637705938,
          1.2533220435925634,
          -1.806501142362129,
          -2.1058975606514694,
          0.5834156893519933,
          0.6150431813346571,
          0.8314068380244778,
          -1.1677498330947198,
          -1.8797451580250861,
          -1.573731382866679,
          -1.7148709729100626,
          -1.2187163240425563,
          -0.9081075934919394,
          -2.407638506198656,
          -2.631247737130893,
          1.5673168136376316,
          1.2606761374764381,
          -1.2731362784415343,
          -1.9933897451720637,
          6.078392568331346,
          6.202329832453555,
          1.8806471974660983,
          0.48550384897295207,
          3.7247868746474677,
          4.999022851023019,
          -0.6507019188068313,
          2.831754032108112,
          5.157224121091324,
          3.8192902746508084,
          -1.8812815325483476,
          -1.0170415780895816,
          -2.3431142778733136,
          -0.06139419459485997,
          1.1244973226335104,
          -1.0170415780895816,
          1.5499874451851456,
          -0.23880439879088605,
          -2.054894883326248,
          -1.4608536919332902,
          -1.2511268482027649,
          -1.4326231369090205,
          -0.8322050040893,
          -1.0170415780895816,
          -1.4771002595731548,
          -2.628606599334161,
          -0.21035255659038898,
          3.722041106491931,
          -0.6601937727661527,
          -0.08898081277070355,
          -1.3796424287630313,
          0.8934594009314045,
          -0.6029963198787524,
          -0.7120551860400114,
          -0.7769839379468494,
          -0.6805758573158167,
          -0.2427984490140359,
          -1.9562315383510154,
          4.118042026063585,
          5.71374103184416,
          -0.7417411626392639,
          4.424095099147775,
          2.3273182406295407,
          0.017763471206446575,
          0.3014939930849968,
          0.9650215283895124,
          0.022468392622495562,
          -1.219965045969142,
          0.3417751159053104,
          -0.537891286867248,
          0.8644678960471941,
          4.004696577326855,
          4.008320181774836,
          1.3829663131262548,
          -2.0574297891427653,
          1.3094774137593312,
          -1.224422354766765,
          3.3013877478747733,
          -1.1107604184765911,
          0.5360702750732723,
          -0.24744053697254806,
          -1.9441899850782944,
          -2.133057653760353,
          -1.0891187918604015,
          -1.8302469752259662,
          -0.1551641644934426,
          -0.9951653539849209,
          -1.3596060537015473,
          -0.6110809564064197,
          -2.549815498266093,
          -0.6067753052647099,
          -0.728887274846931,
          -0.6427561202341463,
          -0.8384661829154202,
          7.048160534198847,
          3.086299510078866,
          1.649916053914384,
          0.503962651695959,
          -0.7628234779254308,
          1.9098861430974081,
          -0.7381554703584142,
          -1.210505037533961,
          -1.6165006411449976,
          2.9152852845241655,
          0.7875315395435449,
          -1.4713066508652937,
          3.8405366544879773,
          0.8180105809922924,
          -1.5363920461225524,
          1.5017010248753804,
          -0.8269573928584232,
          -1.236553798486351,
          -1.121391039649664,
          0.35325357571309624,
          4.156988672470466,
          4.181143915852829,
          5.874241617946339,
          0.7726737970500203,
          -1.2384651584229955,
          0.17391144426442512,
          -0.2910191568213257,
          -1.3643289196729804,
          -1.0013576229512062,
          2.814361084932083,
          1.0152267748235695,
          -0.8997096472317103,
          -1.8161225830951813,
          -0.4069198563664314,
          -0.622250602204156,
          0.9298554236724585,
          -0.031158874814143384,
          -1.895325385410003,
          -2.0864594737726576,
          -1.0330740365002862,
          -1.6484788353344302,
          -0.0768896737725616,
          -0.9626729037514548,
          -2.014035053021467,
          -1.3293413005641421,
          2.9602001025583227,
          0.3366612973343728,
          -1.7136150221763626,
          -1.4322797629514954,
          -0.9929724146692317,
          0.37104684811124194,
          2.638713405966958,
          -0.02807780164997932,
          -1.6676648655046544,
          -0.6079060289417966,
          0.022377474382161075,
          0.9645203776907136,
          1.2387761280336036,
          0.32115465675815785,
          0.3993101634015988,
          1.4480493860298351,
          2.2798976418949355,
          -0.22663402010361905,
          0.25316511117440427,
          -0.21480126217785908,
          -2.462853233747324,
          1.3697801765358004,
          1.7508953452310567,
          1.3863298495833434,
          -1.2538737101450221,
          5.1330501699713285,
          3.526515125883701,
          6.346033202222228,
          -0.6161373499207325,
          -2.374828947252521,
          2.2533078147803627,
          0.8167571253489772,
          3.653765378813391,
          -1.804742191826132,
          -1.8627951125034803,
          -0.9242152643491616,
          0.7066524688936544,
          4.942598053975868,
          1.1252336127832743,
          4.795289250255229,
          2.463567849011501,
          -0.09446247231001546,
          4.247306482872685,
          0.24903576136687022,
          -0.11019294017436591,
          -1.8060319312706903,
          -1.4690797127486255,
          -0.025425946360965554,
          0.3370037422179013,
          -1.0272113725970833,
          -1.1806601610443506,
          -0.0846238341474094,
          -1.2131974145350355,
          -1.5289774319052676,
          -1.3378086857797191,
          0.9015460755941933,
          0.3470413035334136,
          -1.8391030814300078,
          -1.2105926310370023,
          -1.3843046322401937,
          -1.17455238918811,
          -0.8900534710795288,
          -1.7792525918076767,
          -1.762901531375015,
          -0.22626369877920535,
          -1.359674374010853,
          -1.437329804222368,
          -1.0505476390009723,
          -1.232690715418205,
          1.3565283499092404,
          -0.3174215584679005,
          -0.8073456954282037,
          0.6294753135461073,
          -2.017437359162994,
          -0.11454795107118947,
          -0.5797367236830121,
          -1.8188905101656416,
          -0.21705098951570262,
          4.52943026051702,
          0.3331897153750493,
          0.9708797436014679,
          -0.17127054263204064,
          -0.7941852500264388,
          0.15892132499726658,
          -1.1876432241511594,
          -0.6402858806840853,
          0.8750838457096455,
          3.608731581729162,
          5.0229886380574715,
          5.805832447701812,
          -2.484585586954589,
          -0.06723872685756715,
          -1.819945680286819,
          -0.16463751050254638,
          -0.937342606581525,
          3.6959874644486947,
          -0.11499063549310211,
          -0.3119119497426373,
          3.608731581729162,
          2.962821117328597,
          1.9745255543280613,
          -1.8693347569376908,
          3.9265835294224685,
          0.8514655969973899,
          0.2516548733824597,
          1.5069037952476558,
          0.8765073635953347,
          -0.8493286256975385,
          -2.767042218285058,
          -1.9426782361716532,
          -1.9404583741889683,
          -2.327714153105753,
          -0.48930088551692047,
          -1.2448085534620572,
          -1.4681887969761542,
          -0.4197705078970217,
          -1.1794041820554688,
          -0.7316519448921277,
          -1.993447792494072,
          2.658957468748415,
          -1.8424902425655343,
          -1.9752037541359395,
          0.4973821345345366,
          2.80301424804593,
          0.8898853897758195,
          -1.6997216230484258,
          -1.1189657700263962,
          -2.2297276153308547,
          -0.7369155743144539,
          -2.886057972767241,
          -0.04773120798274706,
          -1.245507758932584,
          1.5812933821637338,
          0.38624025734861095,
          -1.3826420603119793,
          -2.477582977687051,
          1.1497627661579264,
          -1.085969756457869,
          0.6207099620941169,
          -0.0731362345041889,
          0.002695886147724958,
          2.1700272297685492,
          0.36718627717097824,
          -0.9314426872002091,
          2.3532485455974856,
          -1.0597890934720593,
          -2.2761098556941253,
          -0.7031780913867125,
          -0.29266338241288653,
          1.0280402330301837,
          -1.1648221376777204,
          0.45116045775254776,
          -0.5491172599185664,
          -0.6751459147216338,
          0.299796881542911,
          2.6834129126268174,
          0.598407463850865,
          -0.5498879058004916,
          1.5305789710549682,
          1.6719273733102389,
          2.365034188094586,
          0.5073760258805263,
          -1.3539098259275268,
          0.5151319213344541,
          1.0608289232294812,
          0.5729789672192863,
          -0.7152407495550072,
          -0.043178192952209773,
          1.6217258746453853,
          0.3675158568404503,
          -0.7640261804664317,
          -0.5419837729171588,
          1.015600427668297,
          -1.01049010397187,
          0.3474543065382513,
          -0.28074619404286877,
          3.187703134852317,
          -0.5452603790317764,
          -1.6326205624300458,
          -1.181568236061591,
          0.4831617885888137,
          -0.46624827532572416,
          -0.6461748391001939,
          4.2454755717742465,
          -0.17032794041760282,
          3.479867491808316,
          3.8409758809403733,
          4.963938781947003,
          4.408080150824802,
          4.1394962969338644,
          4.031285308102276,
          3.936321424219396,
          4.187078489713529,
          4.917808163601021,
          4.959531607032036,
          5.491363812178903,
          1.5324624690552509,
          3.786004970194432,
          4.224405197605614,
          3.8134457247031825,
          4.269047290947432,
          5.355886276386325,
          5.63452531725032,
          5.131366024213475,
          1.577873484466567,
          3.628399804806302,
          3.374867958400429,
          3.136640936473179,
          1.5464616640991646,
          1.7734555001668173,
          -0.5736981384083423,
          -1.3474769379185079,
          -1.4095676969430218,
          -1.7902349574504635,
          -0.9599392716314983,
          -2.3378502090707283,
          -1.9219232563386308,
          -1.4554683365959467,
          -1.9072262876723378,
          -0.6716795002770608,
          -2.0046562231551004,
          0.32515666255138215,
          -1.1523860720717631,
          -1.4557044571067255,
          0.18059071362684379,
          -1.9079350595148405,
          3.523659061137904,
          -2.049118693479207,
          3.618083406229153,
          -1.7374845146577134,
          -1.4392948516572366,
          -1.5714083380161565,
          6.308184544302045,
          5.0082948400034635,
          5.403265664257093,
          -1.4853710029965543,
          0.3311437672951788,
          -0.46419951317278074,
          2.7937786280697066,
          2.2293271459533788,
          1.3893334009215697,
          4.269223510110594,
          2.1474447251427846,
          0.7629686163768581,
          0.5313880649539611,
          -1.111520740433292,
          -1.8204209333872416,
          -2.1921376455691477,
          -1.6730626775637123,
          -0.5625611286937774,
          0.451918045748741,
          1.9195738575431918,
          -0.8702170708257275,
          1.0741748437686014,
          -0.22718136569597575,
          -0.8526204872249916,
          0.43098339581022166,
          -1.5594414900234,
          -1.788385764949037,
          -1.2843690828034706,
          -0.32892936146030166,
          1.0518143755809615,
          0.5340816012176955,
          -1.1097151949345356,
          -1.9685741228713418,
          1.352697131444028,
          -1.1080951590932833,
          -1.1080951590932833,
          -0.78625813234495,
          -2.1866569882184574,
          -0.7966028054395367,
          -1.841841154586214,
          -0.7800250543797567,
          -2.4784838201281763,
          0.2597603556403657,
          -1.3550297693817033,
          -1.6177557993272016,
          -1.8260772103567118,
          -2.3046905029491955,
          -1.7235553968485764,
          -1.3761949647926435,
          -1.0218757432852514,
          -1.7791379054828036,
          -2.6566225729098747,
          1.0291146255100556,
          -3.0946663512600625,
          0.2724699225082966,
          -1.790007185391615,
          -2.479383087771242,
          -1.887169023550592,
          -2.6430738121785358,
          -0.3573801366614937,
          -2.567193649556244,
          1.3794835128663627,
          4.5251235539365995,
          4.716885186699749,
          2.5950255919710705,
          -1.1366165372990922,
          1.9842254319975159,
          -2.428139142503912,
          -1.3561754011404565,
          -1.650755700271235,
          -0.9916773688297724,
          -1.4614838432330997,
          -2.1097261247542547,
          -0.5491172599185664,
          -1.9852742550337783,
          4.386572613899493,
          -1.1101722919442205,
          3.3776002947938033,
          -2.434424783398597,
          3.593493867103376,
          -0.4964313208292147,
          -2.442010816809563,
          1.0393967728352185,
          0.02417263635028117,
          -2.536043601464767,
          -1.422496176121462,
          0.02417263635028117,
          -0.261299561526968,
          -0.9108428135470134,
          2.094042485609158,
          -2.5645649137076525,
          -1.23862218531499,
          -0.3084219235875966,
          -1.5155895125722456,
          -2.0312986146780383,
          3.863104889734329,
          -0.10838299594407713,
          -0.6022552644160747,
          0.5177509655213357,
          -1.7090697231493606,
          -0.2761452223050113,
          -0.7551372548019923,
          -1.3763064760423585,
          -0.5312260392016589,
          0.2371719517248251,
          -0.30260817294212344,
          -0.5065280021147471,
          -1.2055895512885553,
          -0.8204348260187274,
          0.26606506371006056,
          -0.2988442146153779,
          -0.8728012554034783,
          -1.7175667292646424,
          -1.5155528888804237,
          0.8864093485671778,
          -1.6766468747459682,
          -0.4694345966142345,
          0.8710775895722579,
          -0.864470567661513,
          -0.7144561741353825,
          -0.44068855694914755,
          -2.7902709009224287,
          2.8904146176546703,
          -1.1507276718314723,
          -0.8031773216690993,
          -1.9473824019540271,
          -2.1629636170947357,
          -1.4723654985500967,
          -2.6893121402844176,
          0.9240011933509127,
          -1.7474528809598424,
          -0.1457665336864986,
          -1.898358690244528,
          -2.6693478479357378,
          -0.5221693744493351,
          -1.4548434949416966,
          -1.0283096381666235,
          2.36223977118045,
          0.5436395862813684,
          -1.8689304368530815,
          1.171003621255903,
          0.6999040042938867,
          -1.7044471429551553,
          -0.592054699002688,
          0.4498649728207442,
          -0.32957451480891464,
          -1.6376693914418619,
          -1.457260990166547,
          2.4660708696178215,
          -1.2095953675949753,
          0.5254555899481614,
          0.07547147484810551,
          -1.5847134393643694,
          -2.908061928223544,
          -1.1765084408048718,
          -1.9119343526634272,
          0.9356036829290539,
          -0.3608660025696722,
          0.9679635861196784,
          4.699816675368836,
          -0.47233140556173175,
          -2.0056305322142784,
          1.5727472398500433,
          -0.9464089318334711,
          1.4686267276229192,
          0.5011147455994405,
          -1.3537495043623877,
          -1.8434120476123383,
          -0.6537657414667503,
          0.8902655962892372,
          -2.8162591250589304,
          -1.2235095886351695,
          -1.5127849605175305,
          -0.968477936800629,
          1.1487058582651941,
          -1.0984469249325668,
          0.5022377972137838,
          -1.481254399986299,
          -0.5435665341609945,
          -1.2909649366086227,
          -2.162833307478608,
          -0.8354743294354073,
          -0.03314856246124753,
          -2.0149265692493206,
          1.7960332420843474,
          0.7846163460118251,
          0.3211437615970802,
          -2.190137139222609,
          2.5971373640647015,
          -1.6127967117375037,
          3.0260530289477527,
          -2.0657056457669625,
          -1.5210993374175872,
          -0.9258655178346515,
          -2.0743795323201732,
          0.7511849781136254,
          -1.7164833605229048,
          1.3199455730608454,
          -0.2996749088548967,
          -1.0601592783170954,
          -1.5793861632167496,
          -1.6924656514757919,
          -3.133177732795539,
          -0.03724623286296963,
          -0.08421121464130228,
          -0.7467746719958064,
          -0.16470824566879272,
          1.4022482201741098,
          0.46779897642367185,
          -1.3373216840889648,
          0.08110278845448365,
          -1.3779265458413692,
          5.03110784490364,
          -1.8983922147789354,
          0.599555208348109,
          3.525204639447456,
          2.2683191496362327,
          0.9096299592015565,
          -1.0264189143478992,
          -1.069090462708078,
          0.6556631320797359,
          -2.02376901941226,
          2.1959209999050593,
          -1.920267434098356,
          0.6521268829335787,
          5.262718544641118,
          -0.6974112188432158,
          0.7820338260369206,
          -0.20904323278860792,
          0.699842765245406,
          -2.0224335239758706,
          0.47120716399528256,
          -1.2604802866831246,
          1.827145455088548,
          6.083318328609311,
          -0.8508696332442804,
          -2.082504837264759,
          -2.2243366255023735,
          1.4014298850676452,
          -2.72282952995868,
          -1.6085417664418038,
          1.60130543904967,
          3.3170485154906753,
          -0.8936287712528004,
          -1.04595397270904,
          -0.7263218841933012,
          -2.943648169892282,
          0.06221403756445246,
          -1.166386556396756,
          -0.5132483562854898,
          0.652517874046075,
          2.21362342848149,
          4.157689233042857,
          3.9952644486572733,
          3.744144134343589,
          3.3340361292652165,
          -0.6706922862361588,
          3.7210836024692706,
          -0.722019915077442,
          -1.5037488884709553,
          -1.8208063443174316,
          -1.3092499530556867,
          -0.582827499602922,
          1.876743018100115,
          -2.3135721971896452,
          0.7099128201293107,
          -0.7812682277707916,
          3.3949279818682623,
          0.903288027373049,
          -1.5365804542172712,
          -1.6283452043117541,
          -1.702268481494211,
          -2.4352854352283106,
          2.0186542826167493,
          -0.31661555156393634,
          -0.8941954290264569,
          1.104760978472737,
          -0.19612740703368445,
          -1.3280200419065074,
          -1.8704463127127666,
          -0.7325588346573658,
          -2.4322104556325077,
          -1.063105151742825,
          -0.9018458559798233,
          -0.5690495861384952,
          -1.7303866732825892,
          -2.1007718092553658,
          0.12062405251041432,
          -1.5280973319537652,
          -1.9108022973619911,
          -0.21031089609908885,
          -1.794354812733886,
          -1.5361213058279384,
          -2.2160001367279683,
          -1.4955985695299738,
          -2.550058975169804,
          -1.098226216720647,
          -1.2393277340386915,
          -0.857709221058462,
          3.660395664513193,
          -2.660151441663606,
          4.225043041397311,
          0.41508078148570915,
          1.1880597387996026,
          2.753189107588192,
          -0.29049845972909266,
          0.513692948635199,
          1.8792188806685453,
          -1.665774549979445,
          4.166293634806011,
          -0.5221693744493351,
          1.0434337104662208,
          -1.8730996534974442,
          0.850028535373001,
          -0.33185038438281483,
          0.27442997513218687,
          3.481276240454131,
          2.331775500646688,
          -0.07084590733890431,
          -1.20928374340631,
          -1.3631427295039156,
          -2.450222781385807,
          -2.0884769934788583,
          -1.8057549808143696,
          -3.399583731082441,
          -1.699822589137529,
          1.5209018222443895,
          0.764630880089688,
          4.478609512834525,
          2.4661133198039717,
          -2.2354904599284446,
          -0.8246614851720211,
          3.4324506450763277,
          -0.4882362322682688,
          -2.0813223551309634,
          0.14989400405551787,
          1.8973889528910968,
          -0.13683775308019536,
          0.4502592342354183,
          2.0957686662777864,
          0.9153914685653927,
          0.5857264273779647,
          2.2333595333061402,
          -3.0450765877715464,
          -2.3291508714311786,
          0.4543220270451263,
          -1.6301207350897287,
          -1.4143229884606359,
          0.24435456870028155,
          3.210799648564412,
          -0.9304532954544288,
          5.15003575398485,
          5.004281707388854,
          -1.3148675759101862,
          -0.7597385878813329,
          -1.662837548741968,
          -1.890230329783117,
          -1.5328467352522708,
          -1.2536233695640098,
          -1.2302352255235962,
          0.1046116258134569,
          0.5222047642496495,
          4.431045401922306,
          -1.1896884868417053,
          0.3826515107286234,
          -0.7773625634585398,
          -1.4952959189875163,
          1.667526722398397,
          1.4852428780681357,
          4.356729544123441,
          -0.910859253333187,
          0.18164272293418554,
          -1.8732582454237796,
          -1.6946786996734697,
          0.4358314317588783,
          0.48799101985832577,
          2.7658581502204442,
          1.9540876681797326,
          -0.17613599599091612,
          0.4227931229385332,
          -1.6117359369821933,
          -1.0419915528465542,
          -0.12021237473150576,
          -0.11140233801850498,
          -0.34434278626743664,
          0.6672750904822251,
          -1.2131974145350355,
          2.5136903101093675,
          1.1845545043666212,
          -1.7553890311473115,
          -0.6992418306210496,
          -1.058019557956235,
          2.311940378611574,
          -0.13688948178293037,
          -0.8741749815567247,
          -0.9304422088236256,
          -0.9840382097343708,
          -1.3564305630785598,
          3.3966287287929475,
          -1.7688160662074723,
          0.2532494653975694,
          -0.5625432966733258,
          0.13894980838009194,
          2.9951823246963123,
          2.3219296947796306,
          -1.4964895263633478,
          3.2743693149316213,
          5.335536638163784,
          1.197094866717352,
          -0.932510670649525,
          -1.034809835802784,
          -2.0251481991515745,
          1.065774782580102,
          -0.38574105649317053,
          -0.6253799907794836,
          1.5479900682861594,
          -0.932510670649525,
          1.1810200528402168,
          3.680927642400889,
          3.7570147332726576,
          0.01241518735794416,
          -3.0305697190318286,
          -0.909841045316186,
          -1.519191213934289,
          -0.9195814288618506,
          3.8284561838288975,
          -1.1117133103932169,
          2.267337362057983,
          -1.5150721309734037,
          -1.3925033257613098,
          -1.2995846666732838,
          -0.12266151502753771,
          -1.8668753039071249,
          -1.501872940820572,
          -0.5700160017381586,
          3.039882270510464,
          -1.8005405433301171,
          -3.66323155996817,
          -1.467945509235146,
          -1.0800614696303623,
          0.8055109936842517,
          -2.820267239135904,
          -3.452971033776211,
          -1.111063517255606,
          -2.791897090464664,
          -0.6542529218710769,
          -1.2316328350265482,
          -1.3092383176769786,
          -0.44699410320141136,
          -2.114793859435531,
          -0.8486770478305639,
          -0.9409778444685297,
          -1.8320832439959558,
          -1.4789288509342495,
          -0.260311747676721,
          0.7062856706652333,
          -0.9472312383775648,
          -1.8280677033103927,
          2.8968869857554767,
          4.209593201660839,
          -2.7548708199059346,
          -1.5459459240384144,
          -1.892505210996037,
          -1.7067784255245113,
          -1.6774539508660653,
          -0.45635185837174236,
          -1.3346043453735323,
          -0.3216295003543693,
          -1.5006475935961947,
          -1.4595938170239806,
          -0.8243341544860181,
          -0.6580875903276755,
          0.2864270143471926,
          -1.2796134458978499,
          -0.3704970587555017,
          -1.2343513887207491,
          3.9963005471458795,
          3.339577915855536,
          5.384016484346954,
          0.2183770680618596,
          -2.3067688482910245,
          -0.5021981388206962,
          -1.0068978534182302,
          -2.147694443940263,
          -2.396863743557695,
          2.7096069646934553,
          1.756043574543758,
          -0.9443973872998489,
          -1.1396430988151274,
          3.5578638142965193,
          3.853519820121419,
          -0.8855858941782223,
          -0.9829651653205778,
          -2.320125421270592,
          -1.2569492976214998,
          -1.7231498462043984,
          5.961074281238081,
          -0.9304306817837594,
          3.7923096640832368,
          2.533893924578384,
          2.400346932906477,
          -1.7878372257776933,
          -0.23352895324163855,
          -1.886370281355143,
          -3.0007847223145734,
          -2.088853425657693,
          1.0430639994862414,
          1.4753691607777788,
          -0.7167812722224347,
          -1.8241639760866646,
          -1.0939818264875403,
          -1.4173759806756032,
          -0.9227672156589176,
          -1.1044280464120817,
          0.06735268474735791,
          -0.7895365930463453,
          -0.07072149456798907,
          -1.851763021318621,
          -1.8601271467736318,
          -0.08828355973957878,
          -0.255441031163432,
          1.879380733984322,
          0.9116853878805077,
          0.10012379315178006,
          -0.6039439779725398,
          -2.9298175854967052,
          0.19839714092277697,
          -0.4491867303360412,
          -0.7937960986538578,
          -0.62065103006663,
          -1.4459240490094987,
          -2.336906125358007,
          -1.4633820680402194,
          -1.2208847510985548,
          -1.1296546207459432,
          -0.17787330371714818,
          -0.6960752028433911,
          -1.3678339527436503,
          -2.3446882446890314,
          -1.5994355501742892,
          -0.695313590167218,
          1.6229388520328991,
          2.782399844533676,
          2.285874428736389,
          2.1555507987969493,
          -0.2647829444104701,
          2.8276062488980176,
          0.6100656850450633,
          1.317480504278316,
          2.746800775169635,
          -2.2523754075787226,
          0.7036343124900761,
          -0.001183760249146989,
          -1.4829619080699745,
          -1.10752320585183,
          -0.6971997960267929,
          -1.95686202087356,
          -1.1054970278095255,
          -1.3264831935701502,
          -1.784902560038934,
          -1.2811371791205042,
          -2.886057972767241,
          -1.2418348568152904,
          -0.15427203546753568,
          0.5668302283795722,
          3.1638738295315716,
          5.047031224564762,
          1.2487075452916385,
          0.6273736799906459,
          0.07539853780510636,
          4.0464233539886445,
          -2.094841489535946,
          1.7704705061504318,
          1.3428053485486462,
          -0.6281159028604066,
          2.700757100788003,
          -2.8964595824616746,
          -0.4890714865795563,
          -2.415360371635473,
          3.350597068739797,
          0.11785838188577162,
          -2.081831504077908,
          3.3833813768610854,
          -2.0288683703444144,
          -1.9296895864420245,
          1.9624352875108144,
          -0.11473781767402412,
          -0.8976185323361081,
          -0.616258938261442,
          -1.3398506344220287,
          -1.8605094581925603,
          -1.125616515157265,
          -1.3471905127214168,
          -1.663466730138916,
          -1.7937172212243646,
          1.7116070792188438,
          0.6875307868210213,
          2.359912655797254,
          3.4077455863709987,
          3.420163417355514,
          3.170408043356186,
          4.189709436743138,
          0.8861883023723555,
          -1.2041336806401512,
          -2.4332660384219986,
          4.396257729264009,
          -0.9943458450544891,
          -1.6640786009656179,
          -0.6530120732992516,
          -0.7024160963306587,
          -1.6162721975405991,
          2.700067123399994,
          3.133230314213807,
          2.623033645020914,
          -1.7234064226917913,
          -2.880024558039393,
          -1.8011679111545573,
          -1.636987104349849,
          -1.8914809660644962,
          4.618935780161161,
          4.050843042184683,
          4.352663051268988,
          5.122067061563877,
          3.9068164100335836,
          3.986678980914989,
          2.7852234093895096,
          0.9999800069643602,
          0.6799719491218115,
          0.01429830694148387,
          -3.15615276114799,
          0.022755347441270536,
          0.022755347441270536,
          0.16215521835046723,
          1.8848249364406577,
          -1.6357883699260123,
          -1.4405368092396218,
          1.9595862552593732,
          -1.9643963626404652,
          -1.5973738646502864,
          -2.0894463149704245,
          -1.8026658189060805,
          -1.2917710621025627,
          1.6122957977964263,
          -1.0597890934720593,
          4.601631831528845,
          4.450568176559053,
          5.210196579660406,
          5.77739976990329,
          0.20076562572775705,
          2.1326120989580435,
          1.7459968094343303,
          1.7459968094343303,
          0.20076562572775705,
          0.34546684392774074,
          -1.5154226810918985,
          -1.692237859724103,
          4.310681878249163,
          0.4692689472391064,
          2.324208231380986,
          0.9381121233998033,
          1.1841252442734744,
          -0.37430669765646213,
          1.0133098935057991,
          1.010308534059008,
          0.7875315203113381,
          -0.5858043284252913,
          -2.64322731395173,
          0.7454678649645966,
          1.0437438961384304,
          4.839564142521276,
          2.289658143604801,
          -1.302533341046244,
          -1.32124993874134,
          4.033258007856048,
          -0.9054653279761942,
          1.407715454286361,
          1.8197767618637943,
          -2.0266801412988693,
          0.40697399193667616,
          -0.1789885307304621,
          0.48476181187359724,
          0.2637378078660115,
          1.949047289770573,
          -1.2617841821502727,
          0.1492151480055361,
          -0.21755040086465208,
          -0.7624724066787738,
          -0.9387029953969066,
          0.27949977926882497,
          -0.758863048377062,
          -2.1527959857986367,
          -1.5357814618078702,
          0.8290154285889063,
          -0.9817137056298626,
          0.0007320463538187037,
          -1.0590701782309833,
          -0.7529011708788536,
          -2.517514521755167,
          -2.319940517122193,
          -0.23471491664775473,
          -0.2212072962441551,
          -0.6810305719934205,
          -1.3423911334200636,
          0.9329099433229778,
          -0.3313859860091325,
          -1.3663419235685064,
          -1.0192775239661636,
          -0.5491172599185664,
          0.0530662949918428,
          -1.2567107324055806,
          5.259661506974291,
          -0.296563430511034,
          -0.20192591787069883,
          -2.024602339850487,
          -1.4443686593542016,
          -0.9751839182365105,
          0.05452714640811925,
          1.452352453421727,
          0.8192739231873557,
          0.07698261684037486,
          -2.424113347680563,
          -1.0499396836036374,
          1.3593481661758213,
          -0.8437018248035706,
          -0.405438647431206,
          0.6101227140817003,
          0.12017397103911723,
          -1.0084097097668363,
          1.2229974720456416,
          -1.1031682937994671,
          -1.4083418571679756,
          2.5756303060219783,
          -0.15864834545483372,
          2.915458923587589,
          0.014968192928109832,
          1.408880672599902,
          0.8082967149746684,
          0.4464945802762568,
          -1.2795600059785792,
          2.827260081154489,
          -0.4277133637976009,
          -0.8837451046928398,
          -0.23093094143364412,
          -0.537144704557478,
          1.388078437052671,
          -1.0597890934720593,
          0.8795324448096488,
          1.4764147298242973,
          2.7650016272370355,
          5.637075618753221,
          3.5002357640189086,
          -1.510418400212594,
          -1.2334843591545104,
          -0.7529405029218752,
          0.08511187324309177,
          0.32051098514515186,
          -0.9120762581936733,
          -0.278580700294141,
          3.088433624767483,
          4.143247777999698,
          2.3997163163978645,
          3.1769579298469015,
          -0.604428344069408,
          5.574219688203975,
          5.333727896640729,
          -0.17032794041760282,
          -1.4427210612478678,
          -1.3399879370214902,
          -1.3399879370214902,
          -1.0802458985701944,
          3.9166593931872025,
          1.1333539879918557,
          3.131924063360545,
          -1.3399879370214902,
          3.135171724665466,
          0.05296106361416638,
          3.8242286853002563,
          3.3139603610314228,
          0.6376433975357708,
          -1.367827649451649,
          1.4795949689527141,
          0.5075398114106456,
          4.02516376389303,
          3.3976341754496993,
          3.3025291157013474,
          2.831128822474109,
          0.4298703987209254,
          2.652603820099901,
          1.9894395187425362,
          -2.44513483770625,
          -1.9828992824413245,
          -2.9088138803783714,
          4.9107130097470995,
          -0.6498036654322982,
          -1.5303444494937999,
          -2.7153897454154525,
          -2.068754415796766,
          -2.2542542997003845,
          -2.010052679611556,
          -2.1099099573153444,
          -2.223632607515602,
          -2.313210306482979,
          -0.9502346814249348,
          -2.1364027095393268,
          -1.006533548946021,
          -0.5635117535932606,
          -0.5452437114590933,
          -2.269809098860971,
          -1.2016336137926904,
          -1.3117714960738556,
          0.11607867116484734,
          -1.1573319711835888,
          2.8442612084686383,
          4.816971047050104,
          5.388502137886453,
          4.902234021478257,
          0.17804007974110678,
          3.129629623900942,
          -2.671565344475634,
          -1.4732881003033547,
          1.2109456547170123,
          -0.6283268472049903,
          -1.8232159852586594,
          -2.7616267192664967,
          -0.8038412941572968,
          3.129629623900942,
          1.2775355899569347,
          -3.4999871537663028,
          1.358948304389959,
          1.7385554462803208,
          -0.22573449118776967,
          -2.274067346388716,
          -2.7222920271687423,
          -0.5665714728194746,
          -0.7245547433332951,
          -1.899241989411069,
          -2.839739597900892,
          -2.0779173370881705,
          -0.8771721526876299,
          -0.406683867789868,
          -2.462682444077484,
          -0.9502346814249348,
          -0.8848052512508211,
          -1.4759715630515946,
          1.0340563390737683,
          3.9266530882283877,
          1.3504189491626395,
          0.4022811443833134,
          -0.788343321756894,
          2.0279654140200667,
          2.0402179546875283,
          0.8979910073856021,
          -1.370362281983276,
          2.1959478767859357,
          -0.32571511074389314,
          2.166790516006025,
          -0.10849963879625142,
          0.5555801926793559,
          2.6855272350918464,
          2.062971850274052,
          1.9327789730120881,
          0.5823874663723921,
          1.4280076694700536,
          2.2279502077988353,
          2.014111723724462,
          -1.7548260472472825,
          3.1452711577365062,
          1.8851878311394767,
          0.5461741363291338,
          2.3563966282033206,
          0.8590333940405691,
          1.5750036225782404,
          -1.4254079176047512,
          0.13229505704734904,
          1.6585341861753573,
          2.6330801007313855,
          1.2919858967101825,
          1.530773141237546,
          1.803011284665709,
          0.06706942676046082,
          1.8045403505981708,
          1.3745874347744325,
          -0.08395614302769311,
          4.049749172711463,
          -2.127550029030418,
          0.5273523375187052,
          -3.091473789327694,
          -0.9291176379098586,
          -0.40155489571023384,
          1.1987811941730075,
          -1.4489486989802907,
          0.42164195837834667,
          -1.034809835802784,
          -0.633742057212648,
          -2.1834965098510484,
          -2.175867295210503,
          -2.824356856047121,
          -1.5657851439064707,
          2.4888524869873856,
          1.7069952938522657,
          -1.7699525413624655,
          2.094428753589456,
          -2.53894056107489,
          1.775756257601303,
          -1.3673813815784817,
          -2.321719004377392,
          -0.07145510003716075,
          -0.1295351565608206,
          0.017056520577367357,
          -1.6918615662065624,
          0.24788898634042025,
          -3.37194900569206,
          1.8109439725347154,
          -2.956316710280408,
          -0.9326576513945374,
          1.5453563721904253,
          2.017567630254305,
          -0.9777384825203541,
          -1.8088045851480496,
          -0.19764938933701398,
          -1.7360045350795763,
          3.6842201989297236,
          -0.6847094485509617,
          -0.260311747676721,
          1.5422988888047653,
          0.5930026646121644,
          -1.7912959670136808,
          3.118021498922633,
          3.358014491875237,
          3.509930965088284,
          -0.19461924016161825,
          2.480527963790227,
          4.517776810914008,
          6.091867137337178,
          -1.386425812758799,
          -1.6590894291934792,
          -0.8451615089399579,
          -1.0417192548785013,
          -2.2126328441140077,
          3.904762418566284,
          2.3576582971520184,
          0.039926016615873756,
          -1.1004953247578726,
          -1.329339437372116,
          2.417923441713888,
          -1.8494158071698887,
          0.6194589894389172,
          0.7007141496868059,
          -0.22131099576619453,
          4.069805840259912,
          -1.6915198589429594,
          -1.6480326701342511,
          -1.62667572624095,
          5.070598490109718,
          -1.2012069430765238,
          -0.2016148315962884,
          2.212377949900128,
          -2.4649248397008883,
          -1.9249814682117175,
          -2.4080164096721757,
          -0.3981606546944891,
          -1.1481127843950485,
          -1.237330464390968,
          -1.4628181365509456,
          -2.642991534637257,
          1.9533017033003979,
          -2.1195725580612317,
          -1.014042185781766,
          -1.8430894155768573,
          -0.1743434158047831,
          -1.8079063743752288,
          -1.0770098667738885,
          -1.4905481769240283,
          -1.2980784897176676,
          2.365034188094586,
          2.8056902680785307,
          0.48472351061886226,
          0.8549288236322987,
          -1.5013922149508803,
          -1.3673565615888013,
          -1.578662330929086,
          1.9460913874910188,
          0.03174403073604794,
          3.5189870964878116,
          -0.1219420736181315,
          -0.864382642719713,
          -0.343164015808461,
          0.14879956982851647,
          -0.7021345155769475,
          2.5268907301930486,
          -1.5907428957012455,
          -0.04081922184563218,
          0.7899298288307441,
          -0.910859253333187,
          0.5345492960066762,
          1.7118640514247767,
          0.3291372387869485,
          1.1931202253106963,
          1.095868990708861,
          1.2545681987114246,
          -1.6454912421714352,
          0.06998303323160542,
          -0.6562708849308374,
          -0.8025844842561634,
          1.028867063262269,
          1.5503148149597896,
          0.7522544149888784,
          -1.3594752795046876,
          3.0180003913879485,
          1.0712957412947135,
          3.221728737298458,
          -0.09309152149855272,
          -1.2985779973467597,
          3.218628062553707,
          2.1326120989580435,
          -2.3446730016825583,
          0.4052933124022662,
          -0.5726023021440043,
          -0.883165124042145,
          0.28649928790183954,
          -1.1602891468274372,
          0.7158496154657072,
          3.51075343562,
          -0.206465972146657,
          0.1389363915921869,
          -1.8058188159171584,
          -1.7690512660095583,
          0.8116576480875329,
          0.3375246919062735,
          -0.010394775910613191,
          -0.8944573785036681,
          0.21387473617623154,
          0.2310045243481404,
          2.030878227187985,
          -2.299520470423304,
          2.4641111195466694,
          2.11921786172136,
          0.03900046465196516,
          -0.6538759240822307,
          -2.508627218880721,
          0.8123565472634442,
          -1.5787530557618965,
          0.21465726009403754,
          -1.8370165087569923,
          0.9229565319598524,
          5.656350818133167,
          1.275879610994448,
          -0.5087977010750436,
          4.278428722085263,
          0.6992100078765244,
          -2.3841364242986844,
          -1.7777308426945029,
          -1.7803898860126581,
          -0.41675396826810773,
          -1.1894418289754785,
          -1.3168814365839554,
          -1.341598059302447,
          -1.9057076077566923,
          -0.9399967293329502,
          -1.6808685152004805,
          -1.1904065555535008,
          -1.41190556201951,
          -1.9190223555873638,
          -1.6818203902001194,
          -1.4359027004171452,
          -2.011230902479245,
          0.09121406890156443,
          0.505586962212968,
          -2.399124947771617,
          -1.4878005371777199,
          0.09012877718788272,
          0.31014652749821564,
          -1.4468211063157406,
          -1.8879364766330247,
          -0.4308099759040468,
          1.9127398992549003,
          -0.9340739420096703,
          -0.0924542470274314,
          -1.0170415780895816,
          -1.4337106390703676,
          -1.1513085587600578,
          -0.3505327260134422,
          4.891728612485046,
          -2.262035465700969,
          -1.1646239535239473,
          -1.4194876518446782,
          -2.1789826747725147,
          -1.7048467653411066,
          0.08723516303489844,
          -1.551371397189591,
          -1.1305919329747016,
          -2.008601460302473,
          -1.9719849087291321,
          -0.7603552441700437,
          -1.708184593620551,
          -1.4526447883764577,
          1.0936536290838421,
          4.707297316935377,
          4.06641655166185,
          0.8449080453819644,
          2.017567630254305,
          -0.5221029502555898,
          -1.0819030183511797,
          0.9363603495410895,
          -1.6901930633720716,
          -0.06734437755377275,
          3.128409610084768,
          -0.013372924890362374,
          0.9315488370480692,
          -1.1078988413689927,
          0.9836845171357768,
          -0.6216384167307972,
          4.176384153224835,
          -0.8174650647916111,
          -0.9844049327521104,
          -1.9340208521383095,
          -0.9150586306583649,
          -1.9024375077661242,
          -1.5991191899978694,
          -0.39791226734428126,
          3.1890107734387274,
          -1.360450566576904,
          -0.714103404733728,
          -1.5914938986038458,
          -0.2698179011474347,
          -0.3205716019590928,
          -0.9748467556979403,
          -0.6346112423952768,
          -1.4852467869909074,
          -0.6488361413093128,
          -0.6875208972982043,
          -0.5235210522524474,
          -1.299764417933026,
          -0.39374742517973865,
          3.4924077989945728,
          2.576357723271178,
          -1.255050205647134,
          3.8527580670263855,
          -1.3963654042352842,
          -1.5970419948490966,
          -1.688632875815764,
          -1.3774550293604104,
          -1.3690729524620981,
          -2.0826181995813404,
          -1.195401827657027,
          3.4027511525664957,
          -1.9587229941745252,
          -2.646314841291695,
          2.335312795097438,
          -2.345824751081745,
          1.3957426239486541,
          0.3091765784289807,
          0.3091765784289807,
          0.048258746895678876,
          -1.0823520722647508,
          3.049088181041765,
          -2.0975769095841947,
          0.25316511117440427,
          -0.15427203546753568,
          -0.41240181977992474,
          2.894885667642769,
          0.9925700176837311,
          -0.10380387445274412,
          1.8938195243268836,
          0.9398182903443855,
          -2.2190070001920597,
          -0.4028999508832651,
          0.4855598419464213,
          -1.6946786996734697,
          4.453263833371463,
          -1.7698042251004997,
          -1.2917710621025627,
          -1.8456441547473583,
          0.09262464006245293,
          -1.8537718049763496,
          -0.3241240622174609,
          5.699030304877431,
          2.381784988233931,
          -1.5609102360473244,
          -0.2799174074815626,
          -0.554255057269901,
          -0.6637454999146553,
          -0.3292698306096513,
          0.6663435469489168,
          -0.8145720543150355,
          0.6939265197491388,
          1.4162075885952463,
          0.5778186477553672,
          -1.2584741789017158,
          -0.1877236587907234,
          -0.8836013757068087,
          -1.6875506785986962,
          1.5211340327985532,
          0.21959081948295053,
          0.28850205362561154,
          -1.4926217671802826,
          -0.21175692447558092,
          -0.17581020496163074,
          -0.8875625801717646,
          -1.2556219866206992,
          -1.2269361604283728,
          4.618935780161161,
          1.3552239026426234,
          1.9336164093535597,
          0.3436840728473273,
          -0.5690376399407605,
          -1.8919920103002266,
          -0.5841890549176634,
          0.33276996189999686,
          -1.917555081893607,
          -1.2392356281844936,
          -0.09546520325791742,
          0.5577786585832497,
          3.002801573904523,
          -0.5753522125886525,
          4.161022525837937,
          -1.9988770057703373,
          3.7468909865289715,
          2.22447826033341,
          -2.060176960058502,
          -0.7651747940113193,
          -0.8818233752987572,
          2.2008285870324475,
          -0.5335105742105525,
          -0.591376541706871,
          -0.8686121365386247,
          3.1269291911696304,
          1.5727472398500433,
          1.8241788630931575,
          0.9487631695800584,
          -0.7979632686424235,
          -1.5274385093734049,
          -0.04031006817489299,
          -1.4688940844932514,
          -1.5189484652220921,
          -0.33363903038412424,
          -0.28741846532537396,
          1.917391486091966,
          4.2177932577548924,
          0.8123565472634442,
          -2.0268228760359763,
          -0.9888603025879973,
          1.3505978175446607,
          1.3505978175446607,
          -0.22448253695649245,
          -1.5599823753878859,
          -0.9445110188851548,
          -0.9687374941369984,
          -1.9473824019540271,
          3.26261958089601,
          3.3357502012362765,
          -0.08400104548677005,
          -1.8353016618474365,
          -1.014776886033091,
          0.6805879787852327,
          -0.928895240498612,
          -0.9673631567290879,
          4.168363339147136,
          -0.8950461905575409,
          -1.6554978350332155,
          -0.6736705457075539,
          -1.5694794034452286,
          -1.6619836307825167,
          -0.1588995810750411,
          0.6637508483382973,
          -0.8307561706234646,
          -2.2833156359466384,
          0.8752453390642242,
          -2.427740105884188,
          -1.422406598148056,
          -1.1037662140332811,
          1.5650671095135875,
          -1.0895612371376302,
          -1.1687147925779544,
          -0.9946974720841746,
          0.7352426388393163,
          0.05685055929293459,
          -2.3649098795794234,
          4.904751130878137,
          -2.803040390957149,
          -2.252562080818785,
          -1.895924573075729,
          -2.091751605201151,
          -2.508317131163249,
          -1.0932669094952774,
          0.23002712834864739,
          -1.766402400015833,
          0.6845546448708277,
          -0.9024606571237699,
          -0.47940453613652906,
          -0.745545863022825,
          -0.9013326790547919,
          -0.7150579071819965,
          5.521484025398488,
          4.330780758381722,
          1.0507517772310688,
          -1.6734809168327205,
          4.236594177348255,
          -0.27450214919145893,
          4.055818049656476,
          2.135766913281722,
          -0.8330021081673924,
          -1.8279298926842609,
          -1.746209578146317,
          -1.429274801673932,
          -1.8043356480433586,
          -0.038926072238981126,
          -1.3609492642096974,
          0.44798540695465133,
          -1.6881966197421563,
          -2.260555498082259,
          -1.6032958665289645,
          -0.5719868279724858,
          0.2268062184392546,
          3.0007464182467127,
          5.262058618140633,
          2.885869948160054,
          -0.6661581305866597,
          4.647416850813502,
          -2.3259805083008884,
          -0.8749418351069358,
          3.435844753643246,
          -0.18592056996048406,
          -1.3252577961419498,
          -1.6454826504708178,
          -2.2743637727692705,
          -1.1375489854458403,
          -0.3059464908211041,
          -0.2632103614648376,
          0.3682343908784758,
          -0.7749919598416063,
          -0.17119199961990722,
          -0.06981557094042459,
          -1.207258832602026,
          -0.6241021127308276,
          5.419874741023521,
          -1.5972222455784264,
          -0.36389517538093796,
          -0.34450217250929627,
          -1.6165697131635028,
          -1.1021594097961762,
          -1.2273516660222625,
          -2.045214098687466,
          2.0186542826167493,
          0.42982899271672625,
          0.6052682794470812,
          -0.44235378658709607,
          0.022947141944437702,
          0.0015944771473539634,
          -1.8238846076569708,
          2.2317541681982713,
          0.764274814163573,
          -0.8433282919666311,
          -1.3230875790813423,
          -1.3298929349932975,
          -1.2267220894847888,
          -2.1499949310856787,
          -1.2163920877132464,
          3.4634847114667857,
          0.45394121663571557,
          -3.0613383031984163,
          0.22729614518138547,
          -1.1344768325631747,
          -3.0613383031984163,
          -0.7072963438992381,
          0.3418433804143052,
          -1.5671182591234905,
          -0.869666690061237,
          -1.579559076148649,
          -0.8772502462786005,
          3.582500683457119,
          -2.2268342780614723,
          -0.2012611533110376,
          -1.6675215191123862,
          -1.1676869386410897,
          -0.09594405636152889,
          -2.3820664249846035,
          -0.12872264422547441,
          -1.5822498519629944,
          -1.6387434617760284,
          -2.0251481991515745,
          -0.6993509873932008,
          -1.8764670933076542,
          0.3544325608968109,
          0.5717167306430504,
          3.101964714448183,
          -0.5188294035461435,
          -1.0126741219338131,
          -0.7097641046725904,
          -0.7276269751785638,
          3.3634624924175154,
          2.975222681710798,
          -0.8219366599034401,
          2.2089628716223118,
          2.785064005343369,
          0.2981463520357146,
          1.8664884741638665,
          4.1404114883537915,
          4.133048817017732,
          0.5282838272987517,
          2.605572101764564,
          -0.2647829444104701,
          -0.17832420764440765,
          -1.9380303715726261,
          2.903905039029224,
          3.6496770215064678,
          -0.012929923744351719,
          0.9703843368446707,
          4.840030364876464,
          -2.382120428766229,
          -1.5441689772345786,
          -1.388869780980409,
          -1.9542613765865005,
          -1.584981903082229,
          2.4466955357895848,
          -1.366648048374638,
          -0.2676245317046493,
          0.40230341805213865,
          2.374570566204157,
          5.050054496026233,
          -0.9053180429942443,
          -1.269841984644333,
          0.5398747178532792,
          -0.9479576954954877,
          -3.0324499813922876,
          -1.1121517547583097,
          1.0543642222548282,
          -2.1748260590504627,
          0.8783391882405468,
          0.8449080453819644,
          -0.28380427510568934,
          -1.808364745025448,
          -3.202470459196675,
          3.3215521054488226,
          0.8539122759964451,
          -1.05270798354319,
          -1.623352607510672,
          -1.4951842716237838,
          1.7519453777759326,
          -0.82989674462817,
          -2.1873335437017483,
          -0.24944080664634755,
          1.1074723601112302,
          -2.0859355414082135,
          -2.4125115180318626,
          -1.2499990583699123,
          1.2918669581773636,
          -1.4808604861756591,
          -2.0144429700235005,
          -0.5413481296670035,
          -1.6534058002388425,
          -1.4317917003045728,
          -0.9871359024336291,
          1.1655411567729204,
          3.0002356858668833,
          0.1500087255874903,
          -0.5219177664341917,
          3.0474287586662037,
          0.8524577565344778,
          -1.84197087713791,
          -1.4212505387436196,
          -1.599091276096666,
          -0.09245231702928451,
          0.758923917438941,
          -0.3886175367629266,
          -0.48869129923344407,
          0.1860174465239193,
          -0.5767423202391132,
          -1.0445259856521207,
          -1.4103425017750708,
          -0.9467174638564444,
          -1.5570907577492834,
          -2.0316565223762764,
          -1.505020714177401,
          2.033041433841415,
          2.9972411903138934,
          -1.1131903712057172,
          3.414345747692766,
          5.320867729182727,
          4.085991435509483,
          2.1274425358348865,
          4.947269754284726,
          0.4726197924305077,
          -2.201686825571933,
          0.4316718530586426,
          -1.1131903712057172,
          -1.605770239647183,
          0.8312197050104082,
          -1.7642479233188502,
          -1.159073207027634,
          4.081447099437763,
          -1.1266837590924166,
          -1.291954768053505,
          -1.7723311723076094,
          0.021900563903480153,
          -1.8333368443589533,
          -1.7602758888628416,
          -1.8693460615922182,
          -2.046542277096345,
          -1.0561390468606313,
          1.1770516789703724,
          -1.8762990960288097,
          -2.4252240322564087,
          -0.12210277573933621,
          -1.6260066325782982,
          -1.844549491208009,
          -0.30330829710303386,
          -1.2048764587975171,
          -1.818276597506005,
          -1.4422094887527546,
          -1.0947009976647617,
          -1.9236465210710907,
          0.06349215750229728,
          -0.7967643032374759,
          -1.3089600393569716,
          0.5354649061742399,
          -1.1538421770428802,
          -1.1326586912829235,
          3.105698982407422,
          -0.5655314564562386,
          1.6711847582607382,
          -1.6903592808965593,
          -0.17282411226062372,
          -0.1534234424262177,
          -1.121393573413251,
          -0.3560114892032398,
          4.264393263445873,
          -0.9702087331231126,
          -1.4795207011403095,
          -0.01916393802213878,
          -1.6262673095858837,
          -1.0729349066364688,
          0.6594213427915573,
          4.066995385985661,
          -1.7593947139165316,
          -0.6148631774543123,
          -0.5328443733186656,
          2.195131016648977,
          4.2110733842281505,
          -2.0951936831935885,
          -1.7126773122191745,
          -1.3176226052793838,
          -1.239838944035293,
          -0.6365159443123256,
          -1.8680718365870304,
          -0.20774898984439677,
          4.6631581902132,
          -0.7172902492876037,
          1.4126375362115098,
          -0.05348159629164974,
          0.12258449104649309,
          -0.6930082747630709,
          -1.684246261680122,
          -0.9997143462304282,
          -0.9925277416519365,
          -0.4055455246851517,
          -0.7943307030855647,
          -1.4179766882023708,
          -1.5077618691738797,
          -0.11864752625194261,
          0.06513251514329954,
          0.4479061806002182,
          -0.5905352698295566,
          -0.6656940772015785,
          -0.125683536510206,
          -0.2968239783275788,
          -0.30208503695032907,
          -0.4431538767660774,
          -0.849756827316445,
          1.5069037952476558,
          0.4803661333128792,
          -0.6970804646138775,
          -0.10347402499997257,
          0.4261184411829102,
          1.7181988956708998,
          -0.14880872420562705,
          -0.8608961760184052,
          -0.2118665594898952,
          -1.2074405624776174,
          -0.24447286527723108,
          -0.11108361445809399,
          0.43318289130716275,
          -0.46666599304565903,
          -1.8413507629642512,
          -1.0214066744382944,
          -0.4975884880865188,
          -0.6844849178178243,
          -1.6697028500088253,
          1.9435278334052606,
          -2.590401210503966,
          -0.983288802277871,
          -1.5102450456487515,
          -1.5772672834448849,
          -1.374754747944521,
          -1.2001953198664044,
          -2.550058975169804,
          -1.5609102360473244,
          -1.890277639273256,
          1.6587543910014164,
          2.7931435870373362,
          3.393669730358819,
          -0.30781971693868393,
          -0.5170085720229922,
          -1.938067491497645,
          -0.8915763547993781,
          -0.9886668262046707,
          -0.5696178874425262,
          0.8795324448096488,
          -1.144733415870366,
          -2.006545406729143,
          2.8205742097621758,
          4.028986191210215,
          1.7372253796499786,
          1.5655853810053764,
          0.07802122878737033,
          -1.8274876886852283,
          -1.9502075389529847,
          -1.7354065296445778,
          -1.8699631356031983,
          -0.5644354650111925,
          -2.0061121385605527,
          -1.7634140784138808,
          -1.872300894132351,
          -1.8639932204222447,
          -2.1058975606514694,
          2.957539714316921,
          -1.9232812200626486,
          -1.7291945028487072,
          -0.3394603933605105,
          -1.4817947434057157,
          -1.364827290068009,
          1.61843806331961,
          0.6731669759445221,
          -1.3981525797114402,
          1.4897707598582162,
          1.0157432689846024,
          -1.0568509529743564,
          -1.7518249634932714,
          -1.2421958404602664,
          -1.9336938727708384,
          -1.759821704033375,
          -1.4555523482943329,
          -2.1082944798688468,
          -2.0606660439063926,
          -1.4904194189397024,
          -2.073494506413842,
          -3.9937547184628515,
          -1.780450300922481,
          0.4188013767860381,
          4.074252866889353,
          -1.6540996021001353,
          -0.8706935586305746,
          -1.2311045301288572,
          -0.07788453537429886,
          -2.4434013956713962,
          -0.07625660353628133,
          -2.131859024911717,
          -0.16461671372417508,
          -1.7771222855258448,
          -2.292902335457038,
          -1.2277075421191317,
          -2.4270031251579995,
          -1.0198781946837496,
          -0.6385744256983842,
          -0.616258938261442,
          -1.5903114999670276,
          -1.1226867924008346,
          -0.7780117610925491,
          -1.2418348568152904,
          -0.4187722487021997,
          -0.5887610453578075,
          -1.4255157505699636,
          -1.9236465210710907,
          -0.8321122702871259,
          -0.710315539564776,
          -0.4545789745055102,
          -0.5006469673618135,
          -1.3433860165170104,
          -0.5586881735072343,
          0.7183670596719577,
          -0.8757146430848186,
          -1.0684891129569076,
          -0.3791907206345877,
          -0.5255270518176552,
          -0.4899308370179312,
          -0.1597267102618842,
          4.813777021504079,
          -0.869000942686586,
          3.3215521054488226,
          -2.5792042125307084,
          1.5603981597326748,
          0.8888968989143615,
          -0.4769077058258347,
          -1.3173980164012018,
          -0.49625704700887896,
          0.337576412765835,
          2.148755017920207,
          0.5205896223390927,
          0.0023903786712637116,
          1.4438543702229796,
          -1.7722920756714406,
          -0.2113876577507555,
          0.9097158032319778,
          4.844601565033676,
          5.666384156661317,
          -1.9417108967056649,
          -2.1065509824092183,
          1.1407962580835327,
          0.23103463786948567,
          0.4256175781974659,
          -1.565711492393083,
          -1.565711492393083,
          4.244480994355995,
          5.176708744973615,
          -0.859602709337008,
          -1.0270738870476321,
          0.3751242769202274,
          0.051811371512324476,
          4.582553845204489,
          0.516894403367843,
          0.060574269729904234,
          -1.7784927255694205,
          5.4081740410124235,
          2.5327757019918775,
          -1.530286613147801,
          -1.061033922284213,
          -1.0947736380529192,
          -0.9227741339323356,
          -0.9605533109182777,
          -2.132240077056637,
          -1.6689001793002776,
          -1.4351673016485857,
          -0.7169772246162457,
          -0.9568264963416654,
          -0.9416875707314984,
          -0.4133385047052837,
          0.16883070258110183,
          1.4322493420169804,
          -0.7813213297476452,
          -1.1271281147595318,
          0.6524595908390058,
          -0.692740301404219,
          -0.6732878229230735,
          -1.1414799926170136,
          -1.4892770702646907,
          -0.35535854852106713,
          1.8294487165805178,
          3.656077271822228,
          0.7261799401622581,
          -1.8969714198549825,
          -0.419393951443009,
          -1.2730663318838364,
          0.10397499296520951,
          2.09648364158966,
          -0.8776788935290593,
          2.529909789362584,
          1.0082003519061753,
          -1.890277639273256,
          -0.4220782534476129,
          2.1090057143499514,
          -2.371561218751932,
          -1.0444388347634856,
          -1.2311316155798784,
          -1.1776970800546382,
          -1.0345327312064305,
          -2.7234666403161025,
          -1.710442011355731,
          -1.9914059300228169,
          -0.6226927475906407,
          -1.0468527623234285,
          -1.2900248382332737,
          0.12309112973266152,
          4.652403689691263,
          -0.40462364134067275,
          0.4430017973536224,
          0.786922426547408,
          -0.5605651851159842,
          -0.12843809243295395,
          -0.531402880627705,
          -1.0238290888621417,
          3.1748797341320367,
          3.859538766764741,
          2.602623133165774,
          0.15833263461928346,
          -0.771040365579828,
          -0.49954195302792964,
          -1.293807460560102,
          -0.3580542688912644,
          -0.8371847600040486,
          0.23327622655162158,
          -0.08852138585591815,
          -0.6084691009396413,
          3.879862859303174,
          -1.6480835900823718,
          -0.07920628817761124,
          0.18122554674263575,
          -0.7235894288501391,
          0.3806768139362985,
          7.226544609014919,
          3.40153971352208,
          -1.4159279091453276,
          -1.9127960305645075,
          -2.017437359162994,
          -0.8956325749527957,
          -2.26034960431119,
          -1.940733736119527,
          -1.4539395308420218,
          -1.9899331345222533,
          0.5563608894958344,
          1.3655741274589228,
          -0.6778354788931394,
          1.4872586279570374,
          -1.4237008451336215,
          -1.2748104198497463,
          -2.552461167194018,
          -1.7375662708101363,
          0.8903585804759278,
          -1.3514066895790275,
          3.6734951616390195,
          0.238939795485506,
          -1.800938059715405,
          -0.6930082747630709,
          -1.1302346153383858,
          1.042460996955454,
          -0.3854930285215808,
          0.4808026898470221,
          0.3696015150662238,
          -0.24312431299061202,
          -0.31429896661330253,
          -2.1229905425409283,
          -1.7729246995643382,
          -1.6173696754713012,
          0.2381084538749695,
          -0.4833916699937417,
          -1.7273711551849706,
          -0.10198804553304675,
          0.5055144803084046,
          -0.7131430817527223,
          -0.8951228201123645,
          -1.0597890934720593,
          0.36743215471166685,
          -0.3275524799958202,
          -0.15392290335129077,
          -1.0079751959068284,
          1.331226750839262,
          0.14879178398842224,
          2.5937576493924186,
          5.280198100270837,
          2.6125401236233947,
          -1.2429187294667832,
          2.883460748025333,
          -0.845495893298661,
          2.125563179636892,
          -1.2848447129982983,
          -2.333529043949486,
          -2.387460845551281,
          0.470810221862385,
          -1.8703654091300104,
          -2.604864563143927,
          -1.5249585479981826,
          -1.931135213046159,
          0.15925914311312803,
          -0.3368542746747297,
          -1.7238132206500636,
          -0.14523173932935995,
          -1.1513324744387907,
          0.5329054203221861,
          -1.9612249102027286,
          -1.2399292163761035,
          -0.9213520425348986,
          -0.2934493481289035,
          -0.7878251517408997,
          -1.9817641589624,
          -1.7244851503949101,
          3.925517286069737,
          1.5942931299634602,
          3.186335317997048,
          0.9775969311537837,
          3.5867432508255237,
          2.647745049799364,
          5.270217759644972,
          -1.7082485977385538,
          -2.199803980460221,
          -0.06578081779005322,
          -0.8368706284559649,
          -0.7854677175050861,
          -0.2091640274211787,
          -1.7085754585994832,
          -0.2091640274211787,
          -1.3997320777127067,
          -1.0909590554136064,
          4.169466471505725,
          -1.3684630603624215,
          -1.932428367187304,
          0.11061706995923455,
          -1.8318071541194505,
          -0.9598571387641543,
          -0.20192591787069883,
          -2.322482104084647,
          1.2956242638589617,
          2.439938968042471,
          -0.003429977050851712,
          1.9689878707923272,
          -1.8110394558681608,
          -1.2760228016973993,
          1.751264609190848,
          0.04735484250802953,
          -1.4262864308855527,
          0.8119245867926488,
          -0.3351614731377258,
          -0.28854191440585886,
          -1.9135217129716566,
          -0.44506574689565825,
          -0.38980135923956094,
          -1.096560494649064,
          2.863244558695548,
          -1.006436653664148,
          -1.6679956265557838,
          5.037072097193788,
          2.307251668789421,
          0.9817234747421225,
          3.0232908871047823,
          4.117010734472987,
          4.113361444554917,
          -1.7640887933065448,
          0.15200397301154478,
          1.0100574747776045,
          -0.0982682591865968,
          0.7454678649645966,
          -0.07912913968776555,
          -0.5869929672815061,
          0.06137656758641634,
          -1.2493185544417886,
          -1.1625329569665996,
          -0.5446464357178702,
          -0.5257359411169922,
          -0.6973969041449735,
          -0.9719600477669001,
          -1.7113924337417719,
          0.662609953605252,
          0.37990667046115256,
          4.353172762386836,
          -1.7505111883218232,
          -2.6082819147952394,
          -0.7744430956484731,
          -0.29049845972909266,
          0.19347918400083783,
          -1.5005648417719326,
          -1.3802231760043526,
          -2.520149113309611,
          -0.6742590697690074,
          -1.2280633296074603,
          0.4229742125954441,
          0.19347918400083783,
          -1.613989367967245,
          0.24592070134157198,
          -0.9320241203449579,
          -2.029188215364683,
          3.0861648235299466,
          3.289630235628952,
          -0.8430280926050703,
          -1.0191080260121526,
          -1.2581311719443349,
          -1.4293847145323808,
          -1.2280633296074603,
          -0.8918518314853041,
          -1.1625329569665996,
          0.3320094024663924,
          -1.4006157751179211,
          0.4749551626010548,
          -0.3285383111216562,
          1.2317234135229203,
          1.8982351464781353,
          -0.8272044736771346,
          -1.1182953375910358,
          -1.2140979999974266,
          1.4102809155728944,
          1.1162558244140943,
          -0.962526168503506,
          -0.22774342883917517,
          4.820483671447008,
          2.8066726781677924,
          -0.8910597762575806,
          -1.4197100225439552,
          -0.6373053624231073,
          2.667811075962947,
          1.370964755084282,
          -0.8509927620370444,
          -1.1349369532310447,
          0.30831398576217406,
          -1.4183221756409603,
          -1.1093252736015085,
          -0.7858824490959346,
          2.1433565649047135,
          1.6998034813955694,
          -0.576742320239113,
          1.1753290502836988,
          0.76832494379174,
          3.067247968624567,
          2.1713827731880713,
          0.09109228763953182,
          0.1742419604951198,
          0.3190799364008102,
          0.5277083757468648,
          -1.5891418340117447,
          -1.8079063743752288,
          -3.0009494117128,
          -1.5683430554100026,
          1.253132096652608,
          0.48007880695773525,
          1.1470176346512206,
          -1.3095170917389256,
          1.592938815983418,
          1.071042013249131,
          -0.6277790692076229,
          -0.7049891902633263,
          -0.3660994904340949,
          -0.4871764094606707,
          -0.7621598571323533,
          -0.09005428008473296,
          -0.14868520555969159,
          -0.2507783494082112,
          -0.7043224955062204,
          -2.109018269583259,
          -1.8793340708111221,
          -1.4483273104314518,
          -1.6855200932596468,
          -1.8814813682552236,
          -1.4090316369170142,
          -1.8761815210993227,
          -0.4113534767140591,
          -0.8662032598582589,
          -1.5843624105760052,
          -2.4428347518126086,
          -1.0024189493957554,
          -0.7470110613107902,
          -1.2099907754251202,
          0.8179688501593775,
          -0.3212642807458092,
          -1.1398522347318443,
          -0.8437018248035706,
          2.04225288520613,
          4.763938610263664,
          -0.8284168584098445,
          -0.6352570447275043,
          -0.8515059856345182,
          2.246176734164681,
          -0.39823929265682795,
          0.6404987805565749,
          1.264307580494231,
          5.199354627810795,
          1.858382900436077,
          0.7197917125418748,
          -1.8100918480866643,
          -0.05143589477032207,
          0.37389210195511785,
          0.7611727109350769,
          0.824111312776887,
          0.5550844565870747,
          0.7400410988074478,
          0.4304758860098773,
          -1.1913376013534462,
          -2.0196290838920716,
          -1.0362298519507234,
          -0.6266858975965728,
          -1.7617435578112286,
          -1.9484506333422857,
          -1.0008080358122455,
          -1.9465609399407124,
          -2.476175635292686,
          -2.6575800924276183,
          -0.798817718608317,
          -2.1323643057110795,
          -2.564168655670437,
          -2.1305638358695553,
          -1.0271095058981732,
          -2.271182762073556,
          -2.9955679707193235,
          -2.01377714737814,
          -1.5437600629004642,
          -0.5641657478210669,
          -1.9539615900671432,
          0.13531177462094213,
          1.5240830508841028,
          -0.38979132753570056,
          -2.1472490541110067,
          -1.7165767230653308,
          -1.7102416567782468,
          -0.29456810914750214,
          0.6183200167275015,
          1.105052316821269,
          0.013477089149458207,
          1.3552239026426234,
          -1.4987842085344663,
          -0.8367365709615113,
          -1.089286924133998,
          -1.181568236061591,
          -0.8359986265401652,
          1.8064229455207192,
          4.573522285535854,
          -2.3895472039585024,
          -0.8875625801717646,
          1.5623932472527695,
          1.6129921406346899,
          2.3782870107067726,
          0.24814725641207533,
          0.8731453432239901,
          -1.7647645267425442,
          -0.1313915075942334,
          -1.6129773081287337,
          -0.5758965096135348,
          0.07342012773008764,
          5.9483102527002,
          -0.260311747676721,
          2.3439529774231604,
          -2.031774874687597,
          -1.3422308343188225,
          0.5257049943117355,
          0.220424399771451,
          -1.4231533307505313,
          -1.9680325183749652,
          -2.4900041877896317,
          -3.6403170139945336,
          -0.7100689834528817,
          0.18037744575466355,
          -2.730779239010131,
          0.6051493269356288,
          -2.0122268085743853,
          -2.988237786590674,
          -1.988122656708789,
          -1.1001811056752329,
          -1.6322560102481403,
          -1.5585212785368752,
          -1.200376905617609,
          -1.1518035655172463,
          -1.5626575408762555,
          -0.7030185679656785,
          -1.5109878564250236,
          -2.0949762564053693,
          0.21820803727111776,
          0.2810209256473457,
          -1.5999015985109135,
          3.6364376718953952,
          4.377634569812747,
          5.517832620777449,
          -0.1559322046983325,
          -2.782354500681215,
          1.705818604551295,
          -0.3325634464411615,
          -1.5606335978828183,
          -1.4666166729454664,
          -1.6720377493956833,
          5.050054496026233,
          -0.42113023519586984,
          -1.4156805781784696,
          -1.0310175317531443,
          -2.059461933825434,
          -1.1993121002513603,
          0.8418391167498278,
          0.5277083757468648,
          3.2000540604664507,
          -1.0918956593169187,
          -1.6640321370290692,
          -1.7940379519331608,
          0.2675915444468302,
          -1.1761461616742355,
          -0.9236608800933447,
          -0.7383878592737927,
          -0.7370115676562272,
          -1.7260061487881722,
          -0.8276749826467558,
          -1.0981889258275146,
          -0.06860373314219137,
          -0.19842300499808438,
          -1.7252882884251934,
          1.9027041250642711,
          -1.2041377469320007,
          -2.1467615740377153,
          0.5675226390225963,
          -2.737860585635958,
          -2.364673522999304,
          -1.5159051852544072,
          -1.1991820155424169,
          -0.23901879110390223,
          3.7555101009976433,
          -0.9172187524603747,
          -0.6027578678703429,
          4.36512855303185,
          1.357052659263262,
          1.0610805001881742,
          -1.0918956593169187,
          -1.0918956593169187,
          0.37990667046115256,
          1.0507517772310686,
          -0.8347222062998012,
          -0.43629024499739416,
          1.839346014750085,
          0.9749323262388523,
          3.5998474603595287,
          1.3878500421641182,
          1.8808998932641383,
          -0.24102161445379292,
          2.524288141841369,
          1.8226454879784881,
          2.382405468796727,
          2.716071146567464,
          1.3400521098127456,
          2.067508571190602,
          -1.3774147805614483,
          2.1169017128094145,
          0.47253708128568284,
          1.700509033027921,
          1.012413873477644,
          1.463848986140688,
          4.517415285770568,
          1.606239066466429,
          1.509098548391418,
          3.3281730713216446,
          -0.7586867391814034,
          -1.9710893785207468,
          -2.6279453478185073,
          -1.0959217221133755,
          -1.733034039336158,
          -1.5509421569582773,
          -1.9153264230825695,
          3.2865430676300713,
          -1.88530125983665,
          4.031929446383437,
          1.0917032949632053,
          -2.099589175122624,
          1.6077515138179568,
          -0.7338996331495039,
          -2.3299231668522884,
          -1.6714994013804185,
          1.3227936929233743,
          3.224578804871136,
          0.8493078136160154,
          -0.8991050041159997,
          -0.25963697831105614,
          2.487845989688519,
          -1.0057381074581433,
          3.7826527020996896,
          -1.9157679231230476,
          -2.002623395739876,
          -1.669644827233122,
          0.35150546256900833,
          -2.446048369204399,
          -1.7619019356353511,
          -1.6517774567678392,
          -1.623754762123404,
          0.8957766323986633,
          -1.864228674327059,
          0.05337344824099862,
          -1.6425344618411408,
          1.3552239026426234,
          0.14624608874565434,
          5.858209721616871,
          3.718031260960787,
          4.993793590175095,
          1.8999455539621675,
          -0.8127854597663114,
          -0.9882751706880384,
          0.6321516301100982,
          0.013416667960795233,
          -1.2772504087424377,
          0.575109529383853,
          1.8650579113698975,
          4.510568593122149,
          -0.08449905553375624,
          -0.2416463803129792,
          -1.9830682310610883,
          -1.8494850568377132,
          -2.507249276942518,
          -0.31208753852228377,
          -0.19799516276387844,
          -1.913240682495197,
          -0.4667570855707586,
          0.5301321114835893,
          2.8059892371366986,
          0.6503978876248578,
          4.008015267389635,
          3.0007464182467127,
          0.30328525020158625,
          0.7826398955578461,
          -1.4792219052824112,
          -1.3563827742337016,
          -0.966070926083055,
          -0.05259932417507967,
          -1.3776523091749278,
          -3.072525663599119,
          -0.4751356317600322,
          -3.0267560599545065,
          -0.8325111872744716,
          1.7747900310136377,
          -1.0280691588067052
         ],
         "xaxis": "x",
         "y": [
          -0.011146290126806109,
          4.498483040491576,
          -1.2584950530912418,
          -0.9316902391794358,
          -0.999860557569934,
          1.4491987952161347,
          -0.15349105666351887,
          -1.097694828591709,
          -1.20295119636119,
          -1.6720710185825927,
          0.6245816077119475,
          0.35427951833409577,
          0.6218862595041179,
          -0.7257260770647127,
          -1.753374425891374,
          0.09456002264657648,
          -0.7607765416859092,
          0.09023324070523037,
          0.6354891072036867,
          0.9549247299482816,
          -0.8173396601849987,
          -1.2470979651002114,
          -1.038450458310718,
          -1.8477530524364,
          0.36640565879193066,
          -1.0939423326821658,
          -0.5130725914703977,
          0.19285191038163585,
          -0.4085058347890248,
          -0.401912776869135,
          -0.5390360868356463,
          -0.5093297116411087,
          -1.5551823065201968,
          -0.32752024826157944,
          -0.1188165933281463,
          0.6359085300784683,
          -0.5876810821821723,
          -1.6234813101233787,
          0.926155447236256,
          -0.0025837146344436426,
          0.9482384115361038,
          -0.4325272360306137,
          -1.0477234546789904,
          -0.5884127949167798,
          0.10962376719394835,
          -0.17631562638303427,
          -2.2313108525205205,
          0.3421759568804058,
          -0.13393724871445625,
          1.8282937839211058,
          -1.5586608599510352,
          0.3941377070229459,
          -0.1689955598065928,
          0.6402870848131608,
          0.7535261568595856,
          -1.0071979202008574,
          1.2513815447321532,
          0.7283795254050489,
          -0.315587092070693,
          -0.3743084277381333,
          0.6971582660739037,
          0.49078150228465467,
          -1.4496313293936178,
          1.4022237154782564,
          3.182515407806581,
          -0.13343620635138237,
          0.7231412843907866,
          2.4356732324127743,
          -0.662445295966798,
          0.8828610649268529,
          -0.4539974243368539,
          1.2895652026945417,
          0.7021569500086033,
          -0.032120349417955586,
          0.15589311833335184,
          0.04483740558801752,
          0.7644853720457694,
          -1.8700830086717888,
          1.942401413073397,
          -0.535553232852018,
          -0.7101916522494051,
          0.6821340814378535,
          1.509604288913735,
          1.0677125248492494,
          -0.20319345565050145,
          1.9000703759917155,
          -0.9569272319374212,
          1.7957948181498622,
          -0.5045512816835342,
          -3.0351142354928875,
          1.1858743295178078,
          0.8760206158908898,
          1.06587108314434,
          0.8982598530428674,
          -0.10984688935739838,
          0.7719022721632359,
          1.1990816803218636,
          -0.05275616015040335,
          -1.8569894900465915,
          -0.32643552532892317,
          -1.6939481840668307,
          -0.10438796376461812,
          -0.1453104378123537,
          -0.49969689446459464,
          0.32606478883571877,
          0.5077876996618995,
          -0.0504814718121704,
          0.4746966598255563,
          -0.3879735524806023,
          0.9981145621078839,
          -0.06458868577411554,
          -0.16680607960514143,
          0.6183612930258763,
          0.34667897728901137,
          -0.8498816694047578,
          0.028285354530939086,
          -0.4309880876226723,
          0.9716433758065657,
          -1.0005494442087899,
          0.5665290125385664,
          1.1465811195268012,
          1.3964744337563069,
          0.4331926430237954,
          0.0928686867080537,
          0.2827170296635817,
          -0.4675119546435416,
          0.30059066562798775,
          -0.2568312192639145,
          -0.7082299299146131,
          1.9653556872423261,
          0.5402660920588397,
          -0.47330522451280965,
          -0.4590570749385424,
          0.1771284073532364,
          1.3226057430132463,
          -0.18364572119185626,
          0.5715418725763874,
          3.182515407806581,
          -0.22520769265871413,
          3.3372777729058707,
          -1.1787016560533634,
          3.3372777729058707,
          0.8919286352285127,
          -1.6621229341015213,
          0.9126518916872713,
          0.04544220504715581,
          0.1579909091453487,
          -0.38811167466529606,
          0.769384106786231,
          0.3165200353751104,
          1.5899977353431356,
          -1.904786800046841,
          -0.957085038930015,
          0.22303451284726092,
          2.105384987244781,
          -0.6995465461225104,
          0.7111076327776106,
          1.009240171419463,
          0.3238118826696471,
          -0.16319434873238223,
          1.0404375904923155,
          0.6564793989659159,
          0.3951741514894209,
          1.2410104338213066,
          0.37695909322640625,
          2.4618886452370767,
          1.2357005578886244,
          0.2634743406935094,
          -0.31498030623084466,
          0.5105081730241827,
          1.1597876950391846,
          -0.15864705407278923,
          0.2960584459910359,
          0.08484118937578672,
          -0.746708918246486,
          2.211413217937469,
          0.08320541248182223,
          -1.0443441784920728,
          0.19123446817488643,
          0.6089226265344332,
          0.7789952619638966,
          0.9523723915944771,
          1.0296391405424692,
          -0.3626701596053845,
          -0.971139026376091,
          -2.6424864233452285,
          3.103331962225941,
          0.2161930877317958,
          0.014957619740983027,
          3.919038472857371,
          -0.5723148273970254,
          -0.9986452552999875,
          -0.951648602318844,
          -0.690698866051482,
          -1.184084181842628,
          -1.300618990890577,
          0.5947979963623236,
          0.08054162638613671,
          -1.8790387512323228,
          -0.3388521257419305,
          -1.6309491743985547,
          -1.0941715165686405,
          -2.446461747927905,
          -1.1407059930266392,
          -1.8453286786660508,
          0.6507379346285559,
          -0.47118087570081946,
          1.0197325913084703,
          -0.2733651563736526,
          0.017367780195286845,
          0.7744178910726933,
          -1.1653490752846172,
          1.5829275370760436,
          -1.2845530401926466,
          -1.3462327707720685,
          -1.1924586912170823,
          -2.3552209829195077,
          -1.6350920282524637,
          -0.79431343948199,
          -1.5948015187911315,
          -1.0367744163767705,
          0.23834202586569267,
          -0.9150329918104096,
          -1.679114364382898,
          -1.1140081837787827,
          -0.42641535088457744,
          0.1972031517007034,
          -0.7675781583836263,
          -0.6634064026910826,
          0.01849486342713996,
          0.032393957429234316,
          0.5429849610833264,
          -0.550229330884496,
          -2.5877559470825373,
          0.07003755588593036,
          0.7387646468178299,
          0.8517448089595102,
          -1.0045392123559713,
          0.022744918930617763,
          1.1028840070236055,
          -0.9711482695074387,
          -0.5747759434969226,
          -0.7041665708533794,
          -1.2590290776964883,
          0.5110837248386948,
          -0.4473929302746731,
          -0.7770987572885062,
          -1.5128098061317332,
          -0.010119072281301733,
          -2.656517044283659,
          -1.8578537653499627,
          0.02967834875154107,
          -0.4881176600840487,
          -0.46263501008077396,
          -0.6323213193002106,
          0.8689648267049048,
          3.2404775080304913,
          3.2404775080304913,
          0.023892287317251557,
          0.6703963948146937,
          0.7996627431599467,
          0.58337371641494,
          -0.1168957854923461,
          0.7123683209024195,
          1.531094807331239,
          -1.6069800221607184,
          1.8559942570662091,
          0.0443753998039534,
          1.2105451052359515,
          -0.6133121765032448,
          1.0809283795560054,
          -0.2120533698888612,
          -1.1818910023338234,
          -0.777544449472622,
          -0.6234088227383888,
          0.5694778943370121,
          1.7175189370213673,
          -1.0189490622171713,
          -1.1180976339575948,
          0.5457794249420187,
          -1.220320439422536,
          0.8906898331423566,
          0.9608276029309011,
          -1.2672613034227673,
          1.683578422293909,
          -0.7047166607825195,
          -0.6445389710374176,
          1.7118067203121359,
          2.0700335917909687,
          3.77409535003243,
          -2.526402043882353,
          3.0277051545857154,
          0.7863022708009536,
          2.8536627519810134,
          3.77409535003243,
          2.051357055763087,
          1.4012277428553188,
          -0.9266969511957185,
          -0.6326476919953281,
          -1.1279563071617371,
          -1.181038381027572,
          1.95753776877442,
          1.9979683623798525,
          0.06784792539787107,
          0.5362425827548231,
          -1.4777415250203871,
          -1.9777901671232005,
          -1.1096645491064119,
          -0.7895282956595123,
          -1.4068333771286488,
          -0.8359585182991274,
          -1.5475653090429091,
          -1.204676248070083,
          -1.6143833336086217,
          -0.531499854640385,
          0.1802771201047211,
          -0.7320794166920277,
          -0.03506686939659928,
          1.980774236171032,
          0.42232942329204254,
          0.2836067607286722,
          -0.6255932639365451,
          0.7112353207108744,
          -1.107710188561169,
          0.4882490801131075,
          -0.2279573044765781,
          0.19717824977674145,
          0.3150319980462689,
          -1.2672613034227673,
          1.1177165541627079,
          -0.44571727774836206,
          -0.8138693535483414,
          0.3178642790899872,
          -1.146466302455806,
          -0.17714161009327795,
          0.34844421110532164,
          2.4064049724463294,
          -0.0003525217776441387,
          1.8873203415832416,
          -1.3725204164548357,
          -1.265768837753671,
          -0.6949733179444153,
          1.8873203415832416,
          -0.8101213187323135,
          -2.918341516468286,
          -0.9151402576715411,
          -0.9894869373615449,
          -0.29923272082724023,
          0.4760198718631153,
          -1.509449856271789,
          1.8873203415832416,
          1.111360390996174,
          -0.37497601475158926,
          -1.2545771481814063,
          0.9048464943469016,
          0.1449198321361044,
          -1.0798413560153648,
          0.8958070512138081,
          2.060755763387275,
          1.3380694906666473,
          -0.7927850799344995,
          0.7801239402947849,
          2.3890026316786606,
          0.010923878415341646,
          -2.7011628810914132,
          0.3071600666562872,
          0.4060177721073564,
          -1.793146170669819,
          0.658252872669044,
          -1.563464426071767,
          2.415054241488732,
          0.584333602925985,
          -0.6038418556220868,
          2.282537677712436,
          0.5348228328720837,
          0.44349978495396053,
          -0.6515118089357855,
          1.0533504658934312,
          -0.056845935110181385,
          0.7667072369067012,
          1.9924299245585118,
          1.6650019235103042,
          0.09891338575271871,
          -0.21030445971978223,
          1.4049591878689258,
          0.6572987131801549,
          -0.7572609888099868,
          -0.42897885501636707,
          -1.1663827255438792,
          -1.0375737857811542,
          0.3177602599695216,
          1.1770272825990258,
          2.522013302298848,
          -0.35565697175471667,
          1.2739159471111907,
          0.1255266410729609,
          -0.04443688853521432,
          -0.9598826795695872,
          -0.9994617694103698,
          -0.17192238560156825,
          2.082504766964757,
          9.808615665275761,
          -1.9109995363880066,
          -1.5953448853504673,
          -0.20772046078352674,
          0.38379843657746665,
          -1.6622338726879486,
          -0.5449138158014994,
          0.3926042114015605,
          -1.0816366373679935,
          0.2533103235365438,
          -2.3938747210539626,
          -0.4715012759360981,
          -0.1756116728172243,
          0.7451440430086287,
          -1.687349501878603,
          -0.20380451675243325,
          -0.6772495315786127,
          0.4515441159027948,
          -0.4727486064660551,
          -2.612478894522994,
          -0.5263262266185574,
          0.8079535533547811,
          0.11383168486562736,
          -0.8406691236039726,
          -0.07662975110137647,
          -0.5132639481080151,
          -0.5820581328286769,
          1.4966189151479767,
          0.21591294181917156,
          0.8749333087385146,
          -0.4958347243325949,
          1.266796938917897,
          -0.6352214968617729,
          1.7116862484490922,
          -0.05981311705813917,
          -0.6497724736162327,
          -0.6584021042342956,
          -0.11984531532774653,
          -0.6498927216938722,
          1.658324769406949,
          2.002139326406231,
          0.10467094944933089,
          0.1259307123953049,
          0.9211842808505304,
          1.156698588087625,
          4.137971827721918,
          0.4510339910091278,
          0.7392753979079748,
          0.7802223761612863,
          -2.00101153009077,
          -0.546242438582563,
          1.288691307268389,
          -0.4138934852797091,
          0.5142060333389611,
          -0.19834002790450198,
          -1.1325191168425948,
          1.0888335146592383,
          -0.8852774981108736,
          -0.2595736667103271,
          -0.3365596012460403,
          -1.438302060594878,
          -0.8553689297851271,
          2.037415663490343,
          -1.0849805099308252,
          -2.624972510429555,
          -0.29118493718810734,
          -0.9406771827196846,
          -0.861963872730549,
          -0.7446552433346801,
          -1.5806404300447339,
          -0.2454019965262065,
          0.1661323479809553,
          0.25522346651492217,
          0.8974807722274419,
          0.620867171937558,
          0.28059253069266255,
          -0.6340873085014083,
          1.0661851762831909,
          1.5503964871266405,
          -0.7612398420860189,
          -0.06922749235527334,
          -2.1577156365998036,
          2.187271309515402,
          -1.3215548520622271,
          0.7356238326523754,
          0.7673642510824756,
          -0.06979929244776009,
          0.48866766504332404,
          0.2669812198875676,
          0.7328123563979608,
          0.586121487506145,
          -0.995385815139619,
          -0.17759522520563867,
          -0.6764116893753358,
          -1.2989213224117402,
          0.8921496309187887,
          -2.2675364797362882,
          -0.6406026434243628,
          0.08160718107044165,
          0.7976536903440758,
          -2.5319163057702383,
          -1.079901417635555,
          -0.196155869693215,
          1.1384170320766442,
          0.28707549080251343,
          0.42268510345319277,
          1.5804058973004518,
          0.7663364597659549,
          -0.6146786963745666,
          -1.117519342186274,
          0.6785761172927787,
          -1.1806363394390724,
          -1.2359788765089335,
          -0.3195532424962463,
          -0.37440710690790363,
          -1.8640708749147745,
          -1.7773287436540262,
          -1.981360854814627,
          0.2570733598340707,
          -0.6155426574374907,
          0.2429255993826792,
          -1.1616324224085044,
          1.8958622798558848,
          -0.33566063651685757,
          -1.0694624857178225,
          1.751315852076822,
          -2.43679452379969,
          -0.7722764505011095,
          -1.1810989500449782,
          1.9317052289038255,
          0.5716358610330154,
          -0.46669574977910305,
          0.7085487574433763,
          0.2816180026787593,
          0.39077968913995625,
          1.86645726448595,
          1.2570515395744692,
          -0.025989927797273504,
          0.08292369316000929,
          2.2125582507039736,
          0.32506176456087493,
          -1.170308711210887,
          0.2742683209909503,
          0.7085487574433763,
          1.143739289582149,
          1.375264594431327,
          -0.5836498678916467,
          0.19823214236746148,
          -1.6148947810199712,
          1.0620864810567912,
          -0.9361637998069962,
          -0.022866776118987894,
          0.6613537913076042,
          0.38530631843082547,
          1.2299781646381984,
          -0.07782348751577213,
          -0.15923645755136545,
          0.4627913102919553,
          0.8672704536836482,
          1.5854835718191618,
          0.7367549070529659,
          0.7140682739125951,
          0.9688369678118368,
          0.25126802391534425,
          0.513203911765995,
          0.8372222203501734,
          -0.3573670748157776,
          0.7717816493277028,
          -0.6074502986415976,
          -0.26946117978951856,
          -0.8556227790287796,
          -1.1068158657389362,
          0.18685711887944534,
          0.6816277954199123,
          0.9788842536594305,
          0.4520838728502225,
          -0.798302144180911,
          -0.1338552566481271,
          -1.3796314186286893,
          -0.21078138640284233,
          -0.9811799170595049,
          -1.3319948163180735,
          -0.19328093980775268,
          -0.27708365578956295,
          -1.9783775271564643,
          -1.3738927533892713,
          -1.2024447361796209,
          -1.3080694576617198,
          1.7650475397544343,
          -1.1229156368814153,
          -2.730925832158359,
          -0.8706224842112583,
          -0.5243173469086189,
          -1.1097479863616233,
          -1.2308039831949467,
          1.1494624022273892,
          1.9641977657477794,
          2.178529382318975,
          -2.8135610607731647,
          -0.4446860762774556,
          -1.3634716348410447,
          -0.6220149462494269,
          1.0416800370699921,
          -0.39521771665802,
          -0.19449469553584142,
          -0.3852608354914707,
          -0.06318642030526984,
          -0.06793988912860972,
          0.04752527244375088,
          -1.2880149374051073,
          -0.4742245086831719,
          -1.3815311599721694,
          -1.4991282734577818,
          0.10597497457687859,
          1.2977230389711831,
          -1.4864565185645986,
          -0.043092712418068994,
          -2.3328311797700843,
          0.9425352116267062,
          -0.9782852103707489,
          -0.837593337843429,
          0.24182119457517753,
          -0.8490077081291295,
          0.06737530831032636,
          -1.1745357862551775,
          -0.6271315392818457,
          -0.5770669957486703,
          -1.344871269746922,
          0.23196544102466932,
          0.8445197390903209,
          -0.4029009897872092,
          -0.005736214361114646,
          0.44991433403587594,
          0.6750056141422757,
          0.2826921428424748,
          1.2696072180370306,
          -0.48718018052215917,
          0.61081048962364,
          -0.49485873149141074,
          0.1181781723823446,
          0.7334875142917927,
          -0.5180917961506755,
          0.18106416040857973,
          0.714623091720875,
          0.7428997971628301,
          0.5593656303835175,
          0.4849053310827851,
          -1.0171259983707703,
          0.3878104905547112,
          1.6226377843395547,
          -0.1780970479433491,
          -0.1247650364677417,
          -0.2961779604109357,
          -0.27379892263627337,
          -0.9268841480713057,
          -2.038010112230441,
          1.450633713791229,
          -2.0579085201675236,
          0.033027310562338284,
          -0.6887356962529713,
          -0.5190815328898666,
          -0.7472663186110962,
          -0.8682390206907911,
          -0.23433916561783463,
          -1.4053392824479507,
          -1.2981861098400034,
          -1.1127467506287048,
          -0.9768526143068154,
          0.6741636247927277,
          -0.9814765781246861,
          1.0934127148953325,
          1.1383910108144255,
          0.0696539695882814,
          1.995980106755631,
          0.9755122541602341,
          0.662384870019933,
          -0.8861233320777802,
          0.7021569500086033,
          0.7363870858767175,
          0.23300896490671733,
          0.15532837478584394,
          -0.7151335683911911,
          0.4534623044762608,
          0.5953873912830449,
          -0.12083862405769973,
          -0.7904677532104006,
          0.7442943549477143,
          -0.5173945461923822,
          -1.367181553739715,
          -2.1647606862810433,
          2.406575770189158,
          -1.2491142295755053,
          -1.7138057454863656,
          -1.1199854719256785,
          1.6019710557732267,
          -0.7298052345060041,
          2.696272599035894,
          -0.3514964395317287,
          -1.7024709074298872,
          -2.6028083441033267,
          -0.0018618573810406998,
          -1.6785787472575264,
          0.17100843015583886,
          -0.26644865112001276,
          0.07288441826828207,
          -0.5148061391081236,
          -3.652147331222937,
          -1.5229955970088493,
          -0.3615044442366968,
          0.33209914601970086,
          0.06386128061298232,
          -0.06798773550581402,
          -0.06798773550581402,
          1.6600878927881182,
          -0.5499230709138904,
          1.1657589760111926,
          -0.5731714708818132,
          -1.666183683492351,
          -1.4165624627850522,
          -1.4308328180936032,
          -1.1943971753589042,
          -1.4274095208739375,
          -1.1511209970770366,
          -1.4869190971071609,
          -1.5228713473950608,
          -1.4516382091534212,
          0.17590165038654837,
          -1.200754105731204,
          -1.1574513304114873,
          -0.8775905383634279,
          -0.5753777267466691,
          -2.0477466943732656,
          -1.261201967711882,
          -1.657891597204076,
          -0.9738377876979722,
          -1.3021828325620186,
          2.030428652041032,
          0.7354293886633669,
          -1.415090518825998,
          0.5545644883197948,
          0.4961085640844234,
          -1.430563963798722,
          1.6075802808416437,
          -0.8012284798287436,
          0.6747351899313611,
          0.12194654885889744,
          -0.09902124256603907,
          -0.0692492588792321,
          0.6715536596689556,
          -1.1968649079150182,
          2.178529382318975,
          0.7120396547541862,
          1.0719117293829055,
          1.1478520740596865,
          0.6481283190597545,
          -0.5960966025054204,
          0.2210938757975795,
          1.9766866328626078,
          0.06676449711305116,
          0.9143713972798171,
          2.8467708265343097,
          0.14701877091226062,
          1.2816469698098125,
          2.8467708265343097,
          -1.9407940206375258,
          0.04594027856043527,
          -2.1062436150146975,
          -0.7473077818497011,
          0.3813305370708734,
          1.15634802239319,
          0.0983285723502392,
          1.3195450645550848,
          0.683850221106296,
          0.928632715023926,
          1.2197449477602866,
          1.1812618877138958,
          -0.24626779839357238,
          1.054350723236799,
          1.6346249482684654,
          1.1208526375187813,
          1.1665004006106952,
          0.35920488968032754,
          2.9368444395740823,
          2.359411015343151,
          1.5909270645632718,
          -0.2191057186528513,
          2.2780569687552266,
          2.6215188359867816,
          1.5149446421866544,
          2.152115466847552,
          0.3527371550411664,
          -1.5239595469806997,
          0.8283125934152257,
          1.4516358923430035,
          -0.07205021415422903,
          -1.1760735761203016,
          -3.1982178651250863,
          -0.8201818438122849,
          0.6486029919662069,
          -1.8391905524002903,
          -0.2958332784407964,
          -0.08593625358313019,
          2.1616477161589427,
          -1.5566511731330457,
          -0.19148102107685844,
          -0.7299870431004474,
          -0.7726676252422153,
          -0.8789815373159151,
          2.596594940330133,
          -0.968472184966911,
          -0.012415922773767234,
          2.7776317992507473,
          0.008146240049374863,
          -0.12915323542918014,
          0.6678652880289555,
          -1.5107021703796686,
          3.0731493555380682,
          -1.4438610416065358,
          -0.5025097048772147,
          1.3242077355585735,
          0.582709580528266,
          -2.1973568753736146,
          -0.14753873569748618,
          -0.4880953525546398,
          -1.3450083943612792,
          0.3268532613083883,
          0.8459249238174444,
          2.2524644820304065,
          3.3049931546089706,
          0.03839524739570451,
          0.9816545686601101,
          -1.7461053753967297,
          -1.4139744288995453,
          0.10598670322736303,
          -1.1229631780375946,
          1.3844106892201404,
          -0.16167197298893873,
          -2.2544696238792823,
          -0.6869253409334334,
          0.7902407593582337,
          -0.14973732308850937,
          2.0284456703648464,
          1.0809283795560054,
          0.253282434856014,
          -0.13986980407637808,
          1.519353251808011,
          -1.550757623570254,
          -0.8088935101256467,
          0.15044670458467183,
          -0.045002340189138686,
          0.18720132576081033,
          1.2968594264079614,
          -0.46262401581710527,
          1.0988180711853779,
          -0.4246271861727912,
          -0.8185606053174728,
          1.1197926281004655,
          -0.6119842950529579,
          0.2947456189667923,
          1.4551038711161877,
          -0.41001794748550396,
          0.5691942254362508,
          -2.5905991500480168,
          -0.18202951374809492,
          -0.8607013036745859,
          -2.2960756072603266,
          1.3167076465878853,
          -0.27251690398117345,
          -0.5566738862996023,
          -0.7152170885868826,
          -0.7028362760612366,
          0.0630303323161835,
          -0.9902208730061555,
          0.01972410670452852,
          -1.5601392302159736,
          1.2645522348952971,
          1.7383022229355873,
          -0.24957322851934002,
          -1.0702528843505692,
          -1.2844295150086986,
          -1.246435643307109,
          2.2993299862982353,
          1.1641245992756337,
          0.701544850393162,
          -1.5291054878331383,
          1.2451125043197118,
          1.2631399169680364,
          2.2103714360060227,
          0.8690317957680918,
          1.795329532167908,
          -0.22799795098332284,
          1.035496693630144,
          1.7471850168622933,
          0.639351241368101,
          2.732274605758202,
          1.9385695616987793,
          -1.4797811365083375,
          2.62689323171391,
          -0.9871339708869448,
          1.503013028703808,
          1.052979451387715,
          1.2377964378668735,
          1.3964744337563069,
          -0.4050203930043898,
          -0.9982484808587231,
          -1.54688374397675,
          3.182515407806581,
          -1.5412634785360082,
          0.8001407315361083,
          1.626295835384951,
          -3.4389885917616208,
          0.5753938621894735,
          2.2122163894790052,
          2.4836772733523045,
          0.5885938945441717,
          -4.121183392702435,
          -1.394032583859876,
          0.754024021484423,
          -0.9321725445352362,
          3.028110069143337,
          2.2881131630279716,
          -0.40786311925112906,
          1.1182369660441573,
          -1.3045923139922633,
          -1.0114715054304508,
          1.4550998217037538,
          -0.11640318223675993,
          -2.4161106590600334,
          -1.9796288927708463,
          0.16213361299954185,
          -0.46828752726256917,
          0.5913167294180846,
          -0.31088982205911697,
          -2.52009073697686,
          -0.09431542449179485,
          -0.13783072116580525,
          0.6444051988424124,
          -1.1620644660524484,
          -0.5610637779327764,
          0.2316888902685791,
          -0.5581193468046411,
          0.21538909230151468,
          0.3865471295851945,
          0.9889416595795406,
          0.751509595307457,
          -0.23329405373395687,
          -1.2297478871029,
          0.8201643769410959,
          -0.15882043442039437,
          -0.7565388853115717,
          -2.112028615171625,
          1.8405369669807934,
          0.5764743024800896,
          -0.691496947799173,
          -0.31577070586742395,
          -0.881099669917786,
          0.8021470798848587,
          0.1934799769570077,
          -0.42601966535244146,
          -0.5943416563048258,
          1.429187287610044,
          -0.16409245911004766,
          0.8120993643015336,
          -1.5026498422538648,
          2.5987795097546735,
          0.529358743679435,
          0.7783608326259309,
          0.6238136690580947,
          -0.12191949193504593,
          0.2679161610638067,
          0.4237906487477495,
          1.0686408169382269,
          1.402657428801811,
          1.3879816561431082,
          -0.214621884795367,
          1.532082671859618,
          -0.6503647631977194,
          1.3022033030346334,
          -1.3393116405859744,
          0.09681015173227771,
          -1.3155880062177092,
          3.283644768299006,
          2.7994210517958282,
          1.347080416482288,
          -0.18101845690861304,
          -0.1754369017855219,
          0.6064345226532676,
          2.7776317992507473,
          -1.8230617493286454,
          0.13057729102599047,
          1.2313845008696023,
          0.34660452160358907,
          -0.09832938999495887,
          -0.09436777659232579,
          -1.8418970721984336,
          0.5570265612360686,
          0.33874116018653744,
          1.0151455031556145,
          0.7643506416929174,
          0.08291424450270343,
          -0.1060351235148736,
          -0.04999871550889611,
          -0.8471965335775011,
          -0.7625426989529583,
          0.44949717893278496,
          1.1125741175253274,
          0.6084618967296097,
          -1.2541278438638597,
          -0.6314035129261326,
          1.2962849057650556,
          0.24621207217738086,
          0.05394140392632166,
          1.495655414498421,
          1.7899910019342136,
          0.4706658161331818,
          0.5196573621206045,
          -0.0970234487719853,
          -1.6289827036759466,
          -0.1476210353558334,
          -1.0538483392871971,
          2.5754738973101485,
          0.32698270084520614,
          -1.058483553091862,
          0.28102921468649195,
          1.4795346263809048,
          0.8726252657977569,
          0.019121467791145694,
          0.8287698711128352,
          1.137836809617572,
          0.2635445790927023,
          2.270796542627968,
          1.3077206199092641,
          0.818576788087004,
          0.6650768549335057,
          1.7874380723813001,
          2.0664051307236866,
          -0.3463926836305334,
          -0.8577415633782172,
          -0.346642969393334,
          -1.0922817043651114,
          -1.3118166173906083,
          0.8976326080505256,
          2.538527767313562,
          -1.187038771794921,
          2.786982618493676,
          0.25451437231873436,
          0.3893614766752024,
          -1.1071412055199423,
          1.6107705074878302,
          -1.1739525088554208,
          -2.0616820132566875,
          -2.8053945963871185,
          -0.8831663371685475,
          -2.0633678994235902,
          -1.7987616717190253,
          -0.42073147532698285,
          -0.6148024213290793,
          2.2743934499220653,
          0.1859934865096027,
          -0.5898593904191551,
          -1.201819946596272,
          -0.11050871698377082,
          -0.5749320975573836,
          -0.6406026434243628,
          -1.3543005202399958,
          -1.5725660924038996,
          -0.642120748801078,
          -1.7657936503406617,
          -1.4009596285162942,
          -0.5103533356941571,
          0.31366695973061187,
          0.10148720546280333,
          -2.227761661146166,
          -2.166398930590746,
          0.9798370766144215,
          1.2933397156417692,
          -0.18737478514681355,
          0.35437199497886984,
          -0.49404574101390586,
          0.4082024146126567,
          0.07545889725108108,
          -0.020097489442544206,
          -0.523275508107561,
          -1.1151845701111425,
          -0.03524547218808612,
          -1.7256356053318551,
          2.5653555509713533,
          3.785598078144568,
          -0.5196969124319164,
          2.0225229491030876,
          -0.32733611209997493,
          0.9020944113643292,
          -0.9310219539819888,
          2.5653555509713533,
          -0.997101409309712,
          -0.2976292993379701,
          0.324103409563873,
          -0.39729658274353324,
          -0.2918528030421971,
          1.2589704060075473,
          -1.1152716845022321,
          -0.606832770998989,
          -0.019608718525089972,
          1.8576890270533746,
          -0.446013200408226,
          -0.08888667464901584,
          1.2226267391788186,
          1.3180419447934728,
          2.8347796606319875,
          -1.688173910305743,
          0.8702582499121684,
          -0.6016329590871644,
          -1.6520216682288384,
          -0.674217291375365,
          -0.16801077379186707,
          0.6829368856864,
          1.0166141420885235,
          -1.1573513700831808,
          -0.9920311725425551,
          -0.30940759541017593,
          0.27314354771894617,
          0.015838701558658727,
          0.724023593469406,
          0.8707080592041284,
          0.2160197797955812,
          0.41830866017892465,
          -0.7748456390260214,
          1.6700907754335652,
          0.2147123427348207,
          -1.1733447838065645,
          1.0707460862605065,
          -0.5757347764161679,
          2.791480637215218,
          0.8073484220482435,
          -1.0511858033336996,
          -1.1638906002201042,
          -0.9323783000383237,
          1.4338452229528589,
          1.5482517667523996,
          -0.8243053696849146,
          -0.21727761748933522,
          0.7408819707686047,
          0.7766444874755679,
          1.2466074522256285,
          0.7996077501042834,
          0.7098984500909358,
          0.15738238233608837,
          0.8291981600164924,
          0.4115211848400107,
          0.18507012194701217,
          -1.0699889202336434,
          0.54778359915592,
          1.0667926679701094,
          -0.8775491680441372,
          -0.4112771774398259,
          0.09562702241928633,
          0.07627133581846364,
          -0.41211540420469134,
          1.265137659542962,
          1.135051836093588,
          -0.06337771493283838,
          -0.4354620140625741,
          0.7196787549342678,
          -4.402578912524465,
          1.9687208683682613,
          0.6555126013851402,
          -0.056040088055311514,
          0.3601484392440378,
          -0.3393310530515723,
          -0.056188640618948106,
          -0.7620360756541446,
          2.276584436476024,
          -0.18097852487375188,
          0.04741030706685378,
          0.9977781862139035,
          -0.10368604875802483,
          0.08477651925558316,
          0.8612425944740155,
          0.7906107892066149,
          2.222153168898032,
          0.9271137572827856,
          -0.9330765738277975,
          -0.8988029806520131,
          -2.31379469589891,
          -1.2620312997889214,
          1.531094807331239,
          -0.46980024727535663,
          0.821528685207602,
          0.7262953082237078,
          0.34746088691821436,
          0.19331601407251933,
          1.4030209257013297,
          1.4136472750859483,
          1.4846899884981635,
          -0.3107178863439611,
          -0.10512270723039242,
          2.788588196063792,
          0.6942665279067891,
          -1.6221205168196704,
          -1.5358891258969742,
          -5.390230091324031,
          -0.05382714583808657,
          -0.28986654175932997,
          -1.260382298976928,
          -0.7803224545641394,
          1.5051495770311585,
          0.5803112501175962,
          2.0866649366493735,
          -0.18161001740644453,
          -0.6501600677716793,
          2.800508129550584,
          2.01068463181451,
          1.0261929757046158,
          0.8826209995591446,
          1.4018861885732588,
          -0.16219622891775895,
          0.2559954609722764,
          0.869149706090263,
          -1.5011848488732078,
          -0.3200597277327511,
          -1.294499404202609,
          -0.5456178840144854,
          1.8888243208696986,
          -0.5729396178889048,
          -1.4908371626662966,
          -2.1898217107727214,
          -0.6979816378653624,
          -0.23905295474811797,
          2.4092943529985416,
          0.9257675849876774,
          1.5566745603483785,
          -1.0069374967242815,
          1.0084966732206213,
          0.9323963957092459,
          -1.0527303276752822,
          -1.2373064742887594,
          -1.0619565111290772,
          -0.5555449222733356,
          0.9788842536594305,
          1.0408259298766722,
          -2.8428263971497665,
          0.5180488529611306,
          -1.6905110652741526,
          -0.3262885111417019,
          -2.1300316136128123,
          -1.1278168907275812,
          -1.2815634859617273,
          2.4684970360729115,
          1.0838583358054037,
          -3.134978290334298,
          -1.6413306810627124,
          -0.4525027847066131,
          -1.9522743211029707,
          0.48362291075191705,
          -1.4563425687414313,
          -0.10987314385041831,
          0.6158576137099476,
          -0.5868950184257316,
          0.5769079407121164,
          0.9088328834540123,
          0.9740543609654382,
          1.4055402227803473,
          -0.45150411441299665,
          0.891818172817339,
          0.8975360796648459,
          -0.6621999979037596,
          0.963587555745597,
          -1.2252005169240663,
          0.8707039875644631,
          0.825377193022213,
          1.0561426926150923,
          -0.940540793133959,
          -1.8287828386842513,
          -1.354012449305034,
          -1.6069800221607184,
          0.34601176774672504,
          -0.4822437003617022,
          -1.0797421576520225,
          2.049442378801735,
          -0.686358986444105,
          -1.2312058155561403,
          -0.4408077734631783,
          1.9103928827399081,
          0.032705837403534464,
          -0.20996796039133742,
          -0.6289580764774885,
          0.5105359440905789,
          -0.9591936739663646,
          -0.6258817633061408,
          0.065201423464678,
          -1.7822998845983413,
          -0.8405755615134114,
          -0.6824369774306208,
          -0.305066735750707,
          -0.6683855409374212,
          -1.2952094103434575,
          4.826559931350423,
          -0.3360372733285925,
          0.5404265351754729,
          -0.12259444631687083,
          0.40405031095811583,
          -0.43068633033445175,
          -0.2423190885498125,
          -3.7463039154988103,
          0.39035402921086193,
          -0.3559583563930904,
          0.06001886261222652,
          -0.8933600247286178,
          -0.8933600247286178,
          -2.0865163953577057,
          -1.7010795872307354,
          0.26067694030080013,
          1.0922593933929905,
          1.2345506751356488,
          -0.4882407877851712,
          0.4524186313225966,
          -0.8399721363552386,
          -1.5610763688475267,
          -0.5750562636036319,
          -0.8381301731828626,
          -2.730925832158359,
          0.7874939756284272,
          0.4911950927440085,
          0.3774487375210171,
          -0.996782744117447,
          1.201041381518777,
          -1.6818591537753729,
          -1.4601155094272023,
          -1.4601155094272023,
          1.201041381518777,
          1.067042847919903,
          -0.45679465998486307,
          -1.2245378851001412,
          0.6475400473459347,
          1.7194337387580416,
          0.47215205017965517,
          0.1351467155885512,
          -0.2806337788637916,
          -0.3541260846265731,
          1.031857393080046,
          1.7208456743530562,
          1.3009344093014248,
          0.47899759126323666,
          1.8697348981141602,
          -0.5914828614287024,
          -2.0590376645165525,
          0.26757430621377887,
          -0.9853266239471618,
          -0.4604816004754545,
          -0.5391510807840088,
          0.9443175429761836,
          -0.25995302986961616,
          -1.0649853089125991,
          -0.23905742054502674,
          -0.7345811253619432,
          -0.08720400421957847,
          -0.04894204937688717,
          -2.8657596347127203,
          0.6414594616910257,
          0.6520037893508135,
          0.27478687873120305,
          -0.08784013708631122,
          0.6768356895737337,
          0.3592067485852699,
          -1.3101377947307877,
          -0.06956410118681418,
          0.21875627038952922,
          -0.10658644268281389,
          0.32576837086843935,
          -0.2924354141491212,
          0.6336547576565378,
          0.31334569308871235,
          -0.5032505939465292,
          0.5371220456325416,
          2.3743377142720097,
          0.2790429935717431,
          3.1922750681240517,
          0.08380126477325586,
          -0.3451750248005227,
          0.6167098993104888,
          -1.0792900548148603,
          0.14936143468670104,
          0.44470993270299525,
          -0.5114790901334094,
          2.178529382318975,
          0.4572206020731499,
          -0.25556123260532887,
          -0.807420867009893,
          0.9472386308757963,
          -1.2426905814373943,
          -0.3364176185262646,
          1.0736651373184183,
          1.1904782212570615,
          0.7623681292410862,
          -0.6732696472195168,
          -0.6440393410699309,
          -0.45697957291096214,
          -0.9355214742832693,
          2.992943722669246,
          2.726004010412572,
          0.5718932501658435,
          1.588926021384987,
          -0.20647348498482918,
          2.503834748957694,
          0.29615014757154934,
          1.0846189796399648,
          -2.2022095311350536,
          -1.4404515406505793,
          -1.2821572583643754,
          -1.0392645050027862,
          -0.8359784282430535,
          -0.30479871560060096,
          2.0729705769748685,
          -1.8586859035534282,
          -1.2049475634533093,
          -0.5032153485091929,
          0.336243120569046,
          2.5649619811228317,
          0.30175743185269865,
          -1.7667927291437835,
          0.8235435410088733,
          -0.2255132979823891,
          -2.730925832158359,
          -1.6613392304245793,
          -0.5014512201902223,
          -0.6092820716180166,
          0.8458223801724154,
          -1.9773985178392364,
          -1.0538519726242717,
          1.8607976208546846,
          -0.33956864941393505,
          -0.9174984834704711,
          -0.8125754547368479,
          0.14301701527301702,
          -0.4362737933068576,
          -0.9044991715514367,
          -0.27678921811505436,
          -0.24579307422650726,
          -0.8244011946355034,
          0.9298124473763045,
          -0.5950664354754077,
          0.44125070418633255,
          0.8445197390903209,
          -0.46507013203248226,
          2.1319338498127407,
          2.1319338498127407,
          -0.33139835788936073,
          0.4415323021122167,
          0.07998978375632054,
          -0.39632114260763845,
          2.1319338498127407,
          -0.8155413081291477,
          3.171873475784779,
          -0.5190281872867488,
          -0.049923364538182004,
          -0.5719527809990393,
          1.4382986039502845,
          1.090066968473888,
          1.7843626906751489,
          0.10095590734268003,
          -0.6444052078607332,
          -0.6061843984291289,
          0.5550883374467287,
          1.5481209530840558,
          -0.7817051706674064,
          -0.6388486423779035,
          -0.1709022340110773,
          -0.32611218191329433,
          2.3012225966724302,
          1.7357442769118578,
          0.04692563163928596,
          1.3344903152922993,
          -0.3115125472162571,
          1.5407603460529955,
          1.5085799273169234,
          0.8075604130275321,
          -0.44106858959039025,
          1.1461892091104096,
          1.0750781640158058,
          -0.02528769687673514,
          1.0359956773490944,
          0.7940371917879303,
          0.010298079972030595,
          -0.2313666444622224,
          -1.1263578380899104,
          0.34827356830738615,
          0.7188007759804208,
          -1.2006685866016824,
          -0.4887491938537949,
          1.0511329441517399,
          0.7337050641208386,
          0.5801340207770215,
          1.746518548949694,
          1.5845399675575034,
          1.2293627570567227,
          -0.06943785397606841,
          1.3142245990799346,
          0.3466877992177156,
          -0.32247279140588686,
          0.2900924021945478,
          1.2744631039301608,
          1.9501468899176178,
          1.2293627570567227,
          -2.374200815105654,
          0.8097924046763032,
          0.3257493828803819,
          -0.11367229774894311,
          0.5239443339764689,
          1.6637469576513095,
          1.7453471747826594,
          0.19832259823786888,
          1.7258681710226298,
          1.474575388027561,
          1.6228113586987178,
          2.126492838412721,
          0.3083705907543943,
          1.1642030880653842,
          1.1415398106539245,
          -0.02528769687673514,
          -0.6942782995410646,
          0.6062441505324674,
          0.8056575915427364,
          -0.971869603833112,
          1.1846475025888208,
          0.22260393120987815,
          -1.1380333885721876,
          -0.4229417107027686,
          -0.9603842841299498,
          -1.2655864882816004,
          -1.67430946827622,
          -0.9592325696676591,
          -2.2082757823500136,
          -0.7614311127461266,
          -0.9283602915772446,
          -1.0003872778034162,
          0.3330594280435984,
          -0.199786614793371,
          -0.09779050727088504,
          -0.3273231663866187,
          0.32999149224548097,
          -0.17328787315154165,
          -0.21810390747021285,
          2.0778770647655054,
          0.025489112912357947,
          -0.9418507803283744,
          -0.4804940299306686,
          -0.47779605592947083,
          -0.5236326235491912,
          -0.9163671842424639,
          -1.2884126387002226,
          0.7256755059981274,
          -0.5361754770471577,
          -0.2000483183469511,
          -1.5613522001109874,
          -0.6142121203837282,
          -1.194131190809027,
          -2.1123758191296775,
          -0.7475462109839723,
          -1.0862550094175354,
          0.6072921779752927,
          -0.35977774728872547,
          -1.5821085055818687,
          -0.13876869479146356,
          -0.00398216353960825,
          -1.772100454225184,
          -0.1080063382461589,
          -1.7184551482442965,
          -0.7220600773571371,
          -2.0084981311726895,
          3.785598078144568,
          -0.6245323153977068,
          -0.18114110937883526,
          -0.022800292142004158,
          -0.1526302556077652,
          -0.1887950055902854,
          -2.323447975853467,
          -1.6129585756299794,
          -1.925973818653646,
          -1.409987728540382,
          0.10661860207796538,
          -3.205538486710098,
          0.5323072652927339,
          1.8282937839211058,
          -0.6155007542491489,
          1.3122550950150045,
          0.6822192108782633,
          -1.0354897180880518,
          -0.45676528942886463,
          -0.8453131010072426,
          -1.9210975153315741,
          -0.6527180829080177,
          0.02426250545143649,
          -1.124755304395193,
          0.4014556948454119,
          0.053466258378491706,
          -1.7065805207387805,
          -1.9235702921852256,
          -0.6810658577223948,
          1.6164448236652222,
          0.09441690780118674,
          -0.5757347764161679,
          -5.324849710991185,
          -1.8070057827169659,
          -0.021224692335781982,
          -0.8179812815431746,
          -1.3805997531516443,
          -0.425255225157526,
          -1.1523424561828008,
          -0.6194712237286729,
          0.2735411475255204,
          -1.2756162640421786,
          1.7770619659271776,
          -0.4548824173651358,
          -0.42176108068622586,
          -0.6384313705147722,
          0.3983427053701456,
          -0.18775644327673305,
          1.6973069926470403,
          -1.5495981205691771,
          0.19379976247852068,
          0.4813935019603183,
          -0.2051231030281115,
          -1.0982469509352006,
          -1.5081390298152695,
          1.423517603838812,
          0.8841847068181838,
          0.209329511380739,
          -0.5197990686970081,
          -0.7780011535498272,
          -0.08477339014202899,
          0.7143393983015909,
          0.1373683521468972,
          0.700771847706659,
          -1.0091976515141252,
          -1.0020222624106283,
          -0.743458178560904,
          -0.7805593020332108,
          -1.3122341658827252,
          1.0170344495471029,
          -0.3040733125345666,
          0.08946315030054397,
          -0.312306812701716,
          -0.16456801441915805,
          -0.20494956985883228,
          -0.07991557811552455,
          -0.48004023356821235,
          1.0418746296709664,
          0.41832376286280415,
          -1.027744370139418,
          -0.6611049658549472,
          -0.6489680497255815,
          -0.38526083549147083,
          0.17448410537178052,
          0.5248339009637633,
          -0.4352913993616475,
          1.1609463777718718,
          0.258985200904175,
          -0.42691453943558744,
          -0.6464046362867735,
          0.4281503175252098,
          0.43273884603382573,
          -0.10281476747520238,
          1.7409198864727402,
          0.5389720184815604,
          0.20213755898732505,
          0.799508425445173,
          -2.2233358551456632,
          -0.29818416988592944,
          0.41034709323556245,
          -1.1839367028471592,
          -1.1071412055199423,
          -1.155973739361507,
          0.4471515763880701,
          0.7108677100843087,
          -0.48733428196600465,
          0.607859482731237,
          0.14936260868723825,
          -0.5306247834551384,
          -1.4600986525329211,
          2.158879972144935,
          1.4175724059415655,
          2.323474646233737,
          -0.726434092470406,
          0.5380051620704813,
          -1.55514017951979,
          -0.2368190968048573,
          0.48309881468211235,
          -1.665405322126904,
          -0.7714833608045444,
          0.43587842058410803,
          -0.9528768477392707,
          -1.6818591537753729,
          -1.1853532984892823,
          0.039815640584812566,
          0.42768027326641206,
          -1.1439320101672599,
          0.4881200392686844,
          1.0666625856504648,
          0.01162612404727999,
          0.5060631780243218,
          1.4863001605179273,
          -1.284496768517747,
          -0.3713389048807122,
          1.964001700166657,
          -0.1677818071588703,
          -0.6040355782456608,
          0.29178307745410004,
          -1.4741218575235409,
          -1.112022211570134,
          0.3059623637210845,
          -0.4379365403909981,
          -0.5672204471636587,
          -1.4898328117949908,
          -0.4367731715365485,
          -0.9923148417845825,
          -0.20902437743052385,
          -1.0654567706274058,
          0.7770097252992123,
          0.33401701714382803,
          0.5252445248516957,
          1.815560967878749,
          0.5081082583965756,
          -1.7117626410225621,
          0.4959448449737481,
          1.7418772023653097,
          1.4017740558582399,
          0.2819221874301161,
          0.1353671250446757,
          0.07841349962985546,
          0.6245229490939136,
          -0.3594263708981457,
          1.7406762762745662,
          1.7810790132391288,
          1.6140113589621872,
          1.682690829544558,
          1.221578464912243,
          0.9220277790772231,
          1.7617395286963526,
          1.5690767467252904,
          2.7233564576301785,
          -0.47763708031994045,
          2.1233022870016147,
          -1.106361232820504,
          0.10993501322158034,
          -1.656922397115935,
          -0.771026313682109,
          0.6354891072036867,
          -0.9350760961442338,
          -3.1540523613575266,
          -1.213793872987986,
          -0.8438981481839074,
          -0.9125375098004536,
          0.23681176346469962,
          1.7845842030479504,
          1.9879280654500135,
          1.8873203415832416,
          1.3890820852305392,
          0.5250577760428057,
          -0.6949754865209058,
          -1.618776096908665,
          -1.0019065974555346,
          0.46327213127598005,
          -0.16280340377950614,
          0.9104905958323073,
          0.4298723392551116,
          -1.1802309291515347,
          -1.1011781151568345,
          -2.4095640228892594,
          -1.1367904663450736,
          -0.4810385583693418,
          -1.242917765011496,
          0.6135342320569044,
          0.06955499887095172,
          0.8825057082452507,
          5.66106446975014,
          -0.1617325261948546,
          0.5077876996618995,
          0.4014556948454119,
          0.6099267306357664,
          0.7221971732916751,
          -1.1482497042279043,
          -0.30695042305715015,
          -0.7545499809956947,
          2.327751738173507,
          0.2468691144837981,
          2.4368300251600656,
          0.34348520895982787,
          0.5893342154021575,
          1.017508286688114,
          0.6428230485845245,
          0.08601275154033149,
          1.3216325337985881,
          1.7160008601508714,
          -0.5715956896217799,
          -0.838639442426918,
          -0.3763273731968028,
          -0.0043249871001254745,
          0.8203433536037094,
          0.9161667510871502,
          -0.14941271670467657,
          0.6042109943935765,
          1.0137097562146593,
          0.13603763028618587,
          0.5283163487891246,
          -0.7549928952607794,
          0.16600454255353383,
          0.9505098176612315,
          -0.12126743768402122,
          -0.2766010244296386,
          0.28234405241928956,
          -0.650534021633641,
          0.5842145967287787,
          0.5598043266791912,
          -0.45918743614202334,
          1.1835659275212318,
          0.7476109366159934,
          0.09042435986383512,
          -1.1641913972188571,
          0.5884791515413874,
          -0.9406279038400528,
          0.18524942989997567,
          0.190047999506298,
          0.8947453894033455,
          1.5051506536341919,
          0.8918238940497791,
          2.9135456906314836,
          0.1953504054885089,
          -2.13470427526739,
          -1.0963441427170602,
          -1.0963441427170602,
          -0.1798493552588943,
          -0.8950542673028772,
          0.42475557998045005,
          0.5831053065264429,
          -1.0849805099308252,
          -2.8428263971497665,
          -0.93060594028063,
          -1.2361284238426509,
          -0.9994364223214965,
          -0.8532624380946284,
          -1.2052063378789595,
          -3.006413789118262,
          -0.7091852339985243,
          -1.087171668401285,
          -0.5411080761057496,
          -2.0616820132566875,
          -1.8606143982219354,
          1.0730684436328812,
          -0.5750562636036319,
          -1.4422160971020876,
          0.18867895860108824,
          -1.3758920059641708,
          -0.5901899611195265,
          0.9140536000059576,
          -2.3552209829195077,
          -1.1982458217628034,
          -1.4354924459885985,
          -2.2823724017631135,
          -1.4495411317022135,
          -1.3961646106574366,
          -1.2322459853919872,
          -0.687344604762047,
          -1.3331003309856098,
          -0.34570651510166633,
          -1.6510206389647326,
          -1.2550499258583419,
          -0.6079438902660651,
          -1.376175104825971,
          -1.5947288333897776,
          -2.756815146103765,
          -2.097517448153194,
          -1.789045300998635,
          0.2693814055156067,
          0.6810389452681563,
          -1.4846548825159849,
          0.7411803149126418,
          1.9235878436744347,
          -3.1653627866074676,
          4.826559931350423,
          -0.08741851902060317,
          -2.067410691673394,
          -2.9687344407540337,
          0.9064658020706727,
          0.7987656364710358,
          -0.5571382455449467,
          -0.29859931598262235,
          -1.143049858764689,
          0.4817104725042966,
          0.24316610774922662,
          -1.280571140894987,
          -0.5518033813859761,
          -1.140613241176297,
          -0.628145144868728,
          -1.8650987670142156,
          -0.07153712703737888,
          -1.5947560608544464,
          1.4829391941009908,
          -0.030417443991498996,
          1.9025446924993972,
          -0.6947868184198213,
          0.14542983433201434,
          -0.7902420934319385,
          -0.4958217071530865,
          0.4233905789931051,
          0.7902407593582337,
          -0.32635118487361436,
          1.1445857085486661,
          0.8799311581112484,
          -0.9439438340615465,
          -0.42960764079662506,
          0.6670912404694664,
          2.293376654437114,
          -0.4854428229005885,
          -0.7261160220215055,
          0.6223149471238182,
          0.1614331792893259,
          0.7770097252992123,
          0.44940732397601985,
          0.2917261998932707,
          -2.8559660325114824,
          -2.8559660325114824,
          0.6559230533819529,
          1.4062937358818373,
          1.014787771663572,
          -0.25782567626502256,
          2.1616477161589427,
          0.9725077360054181,
          0.5566877659983679,
          -0.12451622959310012,
          0.3868410938488663,
          -2.2742671474040996,
          -0.5032745309280636,
          0.46325743828393057,
          0.2413110877421613,
          0.43473066937475885,
          -0.48608191553885144,
          1.3493684929291607,
          0.5291162113167036,
          1.3688832383135685,
          -0.7445120828736297,
          -1.487337348536497,
          -1.4723501299578958,
          -0.5094951483576848,
          -0.6626360277993774,
          -1.0397485474220618,
          -0.5147913976645271,
          0.6622361023624539,
          -0.1298494266082234,
          2.509545265596504,
          0.03438825382887529,
          1.6820118145061864,
          -0.2215189841025399,
          -0.41545765369234644,
          1.8643364588341336,
          -0.6931916182715617,
          3.3892843225133302,
          1.6888125651475772,
          0.7724804102748107,
          -0.02711420406282542,
          -0.44158173588629057,
          0.8066569243264365,
          1.300960592576559,
          0.8036905200841334,
          1.4551854278010674,
          -0.9668417120819914,
          -1.601125401614482,
          0.42396345440319355,
          0.9768693414114819,
          1.6643262992104455,
          0.6616282733623551,
          -0.0749374994094289,
          -0.053419150523246306,
          1.5817331684268636,
          0.2508037832268146,
          1.4150167553021813,
          0.9464624614115402,
          1.7854208091586687,
          -1.8986513450642606,
          1.6602819900696808,
          -1.2797034194713315,
          -1.2278698439781455,
          1.538207925110093,
          -0.941668615926499,
          0.2595421804552345,
          1.082513538804431,
          -0.479565020323355,
          2.5234170447632387,
          0.5799128089869473,
          0.8994140052267787,
          -1.1652508706177425,
          3.5410661345301566,
          -0.6151603064563324,
          1.2037797236775707,
          -0.19189490558533825,
          3.77409535003243,
          1.4190247050955047,
          0.4605236227815425,
          0.19506465400557976,
          0.8894868952712893,
          3.4923409189643375,
          0.509530688919451,
          2.558033727453962,
          2.9413296035633727,
          2.9585376283879476,
          0.6664854167602077,
          1.2751122185381967,
          1.0858549905634807,
          -1.0223874893828695,
          -0.4896122311522359,
          -0.8883453305418885,
          -1.0527146426813958,
          -1.5979672130884728,
          2.4205435798085686,
          -0.018409808694463726,
          1.3150039075834317,
          0.050344281538859316,
          1.2175238766675407,
          1.4513188974470859,
          -0.7764384500968184,
          1.4989831502198445,
          -2.112028615171625,
          -0.8242950319505037,
          -0.7193176773642302,
          -0.5324102979469498,
          -0.7377570441587145,
          -1.7549264883420448,
          -1.1175832891565358,
          -0.816761001859702,
          -1.424607664856225,
          1.9210094918522997,
          2.5107890898612344,
          -1.09838101492089,
          -0.3190782424130795,
          -0.7018982279762462,
          1.1118432949722445,
          -0.4392512404293235,
          0.22403578221356502,
          0.6909457256744221,
          0.13117975779423166,
          0.17250022808780519,
          0.6909457256744221,
          0.8801445212944211,
          -0.1726494324053854,
          -0.9571843923901103,
          -0.34187442727366446,
          1.2354223195199212,
          -0.4772773599784343,
          0.674417509712884,
          -0.4013353354818075,
          0.024502695165668158,
          1.0114888345052577,
          -0.8582289768525619,
          0.9394174796720557,
          0.41812138172327334,
          -0.8914675871467141,
          -1.5430309314244675,
          -1.047886453613892,
          -0.5196969124319162,
          2.093378912735368,
          0.040953024526692555,
          0.9543876770247669,
          -1.2613527108263554,
          -1.3497698875032407,
          0.1015521522094895,
          1.1395224978776373,
          -0.6224926824437786,
          -0.2996109399796,
          -0.03876120335108532,
          -0.3328413481692131,
          2.1948710462685415,
          0.39266547523340983,
          -0.7082917138338344,
          0.29023198327406785,
          1.3922680305446082,
          0.6626605141152975,
          0.6693446790274991,
          3.8268321408784614,
          1.0358556804491157,
          1.8888243208696986,
          0.9430672461585798,
          1.2597163972076537,
          -0.8635581785887431,
          -1.623692972127177,
          -1.2939500198084308,
          -1.6971954084152059,
          1.9663728384182146,
          0.5163649992284991,
          0.5004206553924496,
          0.14092098116822593,
          -1.3864965358510866,
          -0.02516930509483021,
          -1.1102871922238353,
          -0.790197420244645,
          -0.8316780531167186,
          -0.6670526559898652,
          1.4554367646834068,
          0.9890710951795667,
          0.9287715899499608,
          -0.5819582864843349,
          3.103331962225941,
          -1.2547084597372231,
          -0.5922012386467986,
          0.4435955306112875,
          -1.1720025427993515,
          0.13010784025672453,
          -0.8263097141400582,
          0.5077876996618995,
          0.9391439233166069,
          -0.8361202369462672,
          -0.41710445916982325,
          0.7424716521704884,
          0.6133935006749389,
          -0.6458383516302363,
          -1.7510201157210317,
          -0.31983833145671675,
          -1.4596407954660366,
          0.32456410733230046,
          -0.43057562980432806,
          -1.1280657628897413,
          -0.4656357674489745,
          1.2702245745656175,
          -0.21965273572098043,
          -0.6328920510936786,
          -0.6988975412607011,
          0.7686819591582693,
          -0.8578855206836938,
          -0.6751035437408794,
          -0.48605547778189695,
          -0.63870935761472,
          -2.3003554276697606,
          -1.4089869637399512,
          0.5329524166170331,
          -0.5503229283988352,
          0.2649669251071382,
          0.16553005113670471,
          -1.729406726271486,
          -1.5577347517846205,
          0.7672821803529793,
          1.2004658861734105,
          1.4061401453545945,
          -2.350193203598049,
          -0.0862729978393962,
          0.8446557092574357,
          -0.6487851809748277,
          -1.7149594650926823,
          0.0013927407355482444,
          -0.6547324029555988,
          -0.6716498259605367,
          -0.2359762374089457,
          0.9064187971729896,
          0.8189954933017386,
          -3.965753596410927,
          -0.11703497197782516,
          -2.256751542779663,
          -0.09410452304932293,
          0.3812586717201831,
          2.6976463366124044,
          0.513112053766928,
          0.9959213711304635,
          -1.2402689930457111,
          1.5628972442440012,
          -1.0607416100157334,
          -2.256751542779663,
          -0.9567877399978064,
          -1.7290648744164667,
          0.2044930518485138,
          -1.4239004176118484,
          0.2450571907275327,
          -0.250335751257489,
          -0.05687280290597505,
          -0.0614359183948086,
          0.7385669494015961,
          0.21719128364849977,
          0.7781800659952598,
          -0.6563513629989114,
          0.6651735153459143,
          -0.8660248605849121,
          0.10023142404119557,
          0.4355569975397256,
          -0.20416279444805652,
          -0.23066117701024813,
          -0.831630456633727,
          0.7676614983898064,
          -0.2407920173599849,
          -0.2615215886055997,
          -0.4112232069567625,
          -0.89888009947154,
          0.3336941223407048,
          0.6860578631441879,
          -0.49512140506259344,
          -0.05956019009530115,
          0.12075812107373521,
          0.4444178437987892,
          -0.6616514069680504,
          -1.4117539522982128,
          0.27815757325230867,
          1.2439293597589178,
          -0.235231075825408,
          -1.2922767646910305,
          0.1324811428379789,
          -0.5926544520710931,
          3.116286769732267,
          0.23782341079723932,
          -0.6096458997580974,
          -0.6930003232440013,
          -1.1323136221586492,
          2.1986968196259045,
          1.1580810480104036,
          1.2457790474239896,
          2.3900983846499253,
          0.2437348166896696,
          1.092435047216301,
          0.29035429531492135,
          -0.22221128725046013,
          1.8975682273569197,
          0.02128656045971433,
          1.3744385074292989,
          0.01571081049753062,
          1.9290845928997928,
          0.1974189949432007,
          2.316189655961485,
          0.843046831697723,
          0.7314162765751051,
          -0.7154802731599023,
          -2.2004649250143338,
          0.7920409187021267,
          -0.5335446105803935,
          -0.6116306323663966,
          3.603182112776729,
          1.016272321782738,
          2.597830637319541,
          1.0108598689274595,
          1.093851232172895,
          2.251323592944941,
          1.5770042098068642,
          1.3467527027553343,
          4.185024132169876,
          2.089749500594106,
          1.0383832443919576,
          2.3508458837380357,
          1.258371672130238,
          0.7401609265457804,
          2.160228863385685,
          -1.7852850671989084,
          1.0456398874007056,
          0.028154177287873446,
          -0.9361637998069962,
          -0.5220718237448784,
          3.513969831465883,
          1.1131804574029125,
          2.537556457175953,
          -0.2901700140672186,
          -0.530076189729442,
          -0.25693064754725015,
          -0.31426621774134555,
          2.5566765197541956,
          -0.03293520236964212,
          -0.198857958714753,
          2.4016454281870874,
          1.0351778267918172,
          0.6444849876155511,
          0.028306074933143226,
          -2.116290243984476,
          0.002363599937539601,
          0.1196298278943944,
          -2.347549242540536,
          -0.9201381858245009,
          -0.9743563680480035,
          0.6855028852755763,
          1.1370901144624275,
          0.5578793427893979,
          0.2654487617243331,
          1.402657428801811,
          -1.1982458217628034,
          -0.4598399809985949,
          0.0041449469649635275,
          -0.12385926837783076,
          0.9074993270322228,
          2.966117634830436,
          0.23373058553335227,
          -1.0639389150223337,
          -0.4622098125985705,
          -0.2980526711510941,
          -0.5943153326486954,
          -1.6613392304245793,
          -0.36790667229535623,
          -1.049713460456139,
          -1.349401683239453,
          0.7991499058784436,
          -1.6325913148629323,
          1.670744501148146,
          -0.9660544362186667,
          -0.6556564907066521,
          -2.0606593454143716,
          -0.9655688502559343,
          -0.6386814446471765,
          0.39223597708810687,
          -0.8850916940287183,
          -0.3744382985187918,
          -0.8776851115060588,
          1.017444837628479,
          -1.5475653090429091,
          -0.3476754195333719,
          0.7476935362147712,
          -1.715814947348316,
          -0.1072661941829625,
          1.137100599423476,
          1.1252714892569748,
          -3.3937229407621823,
          2.00800196001427,
          0.3406402701807239,
          -1.9378358956816624,
          -1.6406240108949244,
          0.36113796281649463,
          -0.11848794556724372,
          -1.3859775972109325,
          -0.8010825313436084,
          -0.6575570841874538,
          -0.8394366975160811,
          -0.5271531372802966,
          -0.6114212774880577,
          1.5845151521137235,
          -0.4643760537535935,
          -1.3018832532958393,
          -1.1516668256705374,
          -0.8751633821228637,
          -0.8847666158004632,
          -1.1693233863795711,
          1.774175905463748,
          -0.08797624049417693,
          0.0031216044997847614,
          -0.2194826927177583,
          -1.465568998881669,
          -1.5463730166337248,
          0.4032761766150084,
          0.7755578306120955,
          -0.7059657906162865,
          0.5503898665299511,
          -1.1182317836598303,
          0.5624036751698467,
          -1.454991112591585,
          -0.6621999979037596,
          -0.46814956413728076,
          -0.48704101382320075,
          0.33010939541902756,
          1.0408259298766722,
          1.4738730430602953,
          0.5156531889061462,
          -0.015715671755881018,
          0.6860578631441879,
          1.287287428623743,
          -1.7328518095993404,
          0.6959769757292275,
          -0.007669339267967666,
          -0.026276856447329577,
          -2.3639641186732714,
          1.1631494108116527,
          -1.9638694381659405,
          0.5622885515036903,
          -1.187031973934587,
          -1.2154061426403073,
          -1.4566505898126187,
          -2.2659149056848755,
          0.17948450776703892,
          0.09855330331148933,
          0.7424716521704884,
          -0.08219381352159558,
          -0.8236358611214701,
          -0.48352969560008746,
          -0.16310794825620165,
          -1.390333562746733,
          -0.25239003901778384,
          0.4873161663950994,
          -0.4786048260815301,
          -0.31959440173335774,
          -0.42283836051147794,
          0.4615724899439223,
          1.3345949133414947,
          2.135338854279268,
          -1.2603689420633681,
          0.6396464239450967,
          0.7174376136046126,
          2.345272967063735,
          1.3733289406188685,
          -0.5966630580451399,
          -0.822849657094135,
          -2.4169422454436043,
          0.9336350514741273,
          0.9336350514741273,
          0.23664873280865376,
          1.238691114648772,
          -0.5418841654097434,
          0.857527918884634,
          -0.760599201739452,
          -0.23040106781687553,
          0.541136795533093,
          1.3618413519709816,
          2.4571862199258647,
          -1.48982163037748,
          -1.068923568950284,
          -2.0465134097188793,
          -0.9547823761436243,
          0.8758128302585266,
          -0.5020453808359175,
          -0.8450034896699801,
          -1.1505866051408813,
          -1.0162719172752028,
          -0.6633142881216194,
          -1.6697928510711921,
          -1.3533738902887793,
          -0.9919352561058709,
          -1.0803934023175576,
          -0.6401416299877903,
          -1.3024094498395526,
          -1.5274633223822738,
          -1.8816369915962372,
          -0.6241541934765832,
          -1.1087513872616173,
          -1.0937437785451845,
          -0.5769655569107719,
          1.3501165937602144,
          -0.6835707776462023,
          -0.21333495891230778,
          -1.720888166739296,
          0.606993347340143,
          -0.9485578909088223,
          0.34063800496898017,
          -0.6728024875104738,
          0.009588568549990358,
          -0.3318682072964204,
          1.2099337331859263,
          -0.04351653889015201,
          0.47249730841775045,
          0.16670061782509957,
          -0.4598399809985949,
          0.8379678502770379,
          -1.8668083916396334,
          0.39134901070350375,
          0.030032344428859846,
          0.3334601091239051,
          -0.4109946285590788,
          -0.7476281108276736,
          -0.532799970276663,
          1.4165753877023466,
          -0.97787552699315,
          0.5343302360287068,
          -1.1023076661037092,
          -0.8610990263499407,
          -0.7747711983975607,
          -0.14363907758537217,
          -0.9146586648127387,
          -0.9765413938527076,
          -1.7663661393860075,
          -1.1307289608189783,
          -0.7087335536763942,
          -0.5947383472184778,
          0.07306755370479495,
          -1.515879694964563,
          0.6613108686606797,
          1.1286274880828198,
          -2.0581977671877034,
          1.0677052103269238,
          -0.3012459235234412,
          0.4257801498878068,
          -0.40263933571266314,
          0.29896759070688034,
          1.6285636697961792,
          -0.6663501829263667,
          1.866433468373993,
          2.4203579302843807,
          -1.1092347492996701,
          0.32008414751743863,
          0.03169189012698169,
          1.116077645714545,
          -0.43945652058233337,
          2.0898309796232195,
          -0.7570751399473804,
          -0.7746598120563305,
          -0.38653891891373443,
          0.2570733598340707,
          0.06329890129218539,
          0.33736198173459225,
          0.22643180698531049,
          -1.3546107260806584,
          0.8002025039600889,
          -0.8889081107644099,
          -0.7286812887095803,
          1.3078694865346498,
          -0.6114302591907721,
          0.5466667600703203,
          1.8234840719083285,
          2.251821150301497,
          1.532745181088449,
          1.6920378828976939,
          0.7022921431888587,
          1.9109285289174869,
          0.2804484614653253,
          -1.0498417887903475,
          3.603182112776729,
          -0.5242582112536135,
          0.7861182653546235,
          2.040327191221805,
          0.1689301613237653,
          -0.08526345403740487,
          -0.0110241407396272,
          -0.7916755386423835,
          -1.2147270836405097,
          0.7724463413233446,
          -0.3037457413035946,
          -2.3335427199807564,
          -0.35621684950736504,
          0.12430303586946533,
          -1.1706210899866973,
          -2.3606274464677384,
          -1.636781917549562,
          -0.5023576395671446,
          -2.730925832158359,
          -1.2423446127955207,
          -0.8386470327706347,
          -1.00791985213986,
          -0.227618935273932,
          -0.42160553228633246,
          -0.9631389674046105,
          2.4898319782499603,
          0.7343740197596885,
          2.115364063407614,
          0.13724873880508304,
          1.0125213152896424,
          -0.37005291574945515,
          -1.781530089631288,
          -1.1887304827614942,
          -0.24042744331689866,
          -0.6167239342012015,
          -0.9734476761826609,
          -0.5688906477444734,
          -0.48616722062179474,
          1.007660051451997,
          -0.30150576336683454,
          0.128972947151179,
          2.530930018505621,
          0.9337858603263685,
          0.841809151050022,
          -0.9333434321358244,
          -0.193974963117066,
          -0.5671126380023059,
          1.5106561492724935,
          0.18074855667507517,
          -1.0463627822229726,
          -0.7333067303893002,
          -1.0246191375816276,
          0.8689648267049048,
          2.413138762792473,
          -1.0475814842246283,
          0.9736919192976682,
          1.7212392934745628,
          -1.3429003712914211,
          -0.5792383396463364,
          1.347415742963585,
          1.2378265189856166,
          -0.6277344905438679,
          -0.4669374453129749,
          -0.6195438014522862,
          1.424928249001409,
          0.964338107750596,
          0.11165727459267791,
          0.964338107750596,
          -0.12094841593245,
          -0.4345154977397191,
          -0.8717228134320268,
          0.15079746470859628,
          0.27797908953692063,
          1.189489127296596,
          0.13692337593368178,
          2.295129874378309,
          -1.2426905814373943,
          -0.34856941623504406,
          0.30276431226281225,
          -0.9565041870588199,
          -0.03455778115238509,
          -0.23528215500303085,
          -0.28771160652307637,
          0.3349014483820886,
          -0.5519801147930515,
          -1.6671675160620332,
          0.34836557143281394,
          -0.6829322826912617,
          0.10279951612119925,
          -1.9959511402427075,
          0.2685118467719527,
          1.9946169248668246,
          1.8483060822592743,
          1.0554925588676214,
          0.21879040449048395,
          -0.13570197581661028,
          0.9851968861900019,
          1.068051974712585,
          -0.9423944222871223,
          -1.3267365895545928,
          0.23792831775974352,
          1.0906730354380965,
          0.8260360840052907,
          -0.11461723951061624,
          1.8404077114195676,
          1.0823540919940695,
          -0.8687738626484464,
          -0.5914828614287024,
          -0.8089063660175058,
          0.6170449549147404,
          -0.03580072293818588,
          1.5913428281037134,
          1.356067001599569,
          -1.6287481707392606,
          -1.2933490428322205,
          -0.6763485851962391,
          1.1830106693009685,
          0.603049326873268,
          0.3823904837157792,
          3.024148516645302,
          1.4320445004928881,
          0.34228297341502123,
          -1.418700071591049,
          1.6814999864821396,
          2.7994210517958282,
          -0.04549238763922233,
          0.4657414169487384,
          1.4198239456029451,
          0.5888953615807213,
          1.0444386933204304,
          0.5964434905314998,
          0.08844995393029696,
          -0.04549238763922233,
          0.8977977758332213,
          -0.16885058170457865,
          0.5983088128366482,
          0.6667441748139556,
          0.11485247399156155,
          -2.5769252053016807,
          0.23909640755805625,
          2.2487561906623976,
          2.5387340249432437,
          -0.056325911547832265,
          0.5964434905314998,
          1.9783020811682759,
          1.356067001599569,
          2.916068975918383,
          -0.6225797561996662,
          0.2559420671846041,
          -0.2907244207600354,
          0.37573869502044477,
          1.5556309456722242,
          0.4506309276092264,
          0.7757854374142323,
          0.0743194198726358,
          -1.3080925230982425,
          -1.3524345982935708,
          0.2936091768199962,
          3.30991550815695,
          -0.5551636406866727,
          0.5675987166081109,
          2.6461398776378893,
          0.033997998330900114,
          0.6786040056615531,
          0.1492336042384142,
          -0.45591360084024013,
          2.94655794236236,
          1.9486015356312572,
          0.6937156146030242,
          -0.6479161411275312,
          -0.1683264356040673,
          0.9206331889506525,
          -0.4507613510772819,
          -1.6238548107932473,
          -1.7149594650926823,
          0.8246937348674238,
          -0.6046810983191582,
          0.9951455987502089,
          -0.49439614316897607,
          -0.19789301436615064,
          -0.1776336120395268,
          -0.08113594162833117,
          -3.5919281845082582,
          0.01519289863717671,
          0.41832376286280415,
          -1.3430396251065269,
          -1.15333878054808,
          -1.51449880775626,
          -1.5909581557697074,
          -2.345699961945221,
          0.5187929455099792,
          -2.00688784311654,
          -1.5610744785887505,
          0.4027243215517712,
          0.38857174117138443,
          2.47119076193706,
          -0.2141403583291821,
          3.0020429581390844,
          2.4311389903409246,
          2.882281167231525,
          0.9642980521378585,
          0.007995287376184344,
          -1.4448575644382062,
          -0.2155865258574749,
          -1.0494337432873835,
          -0.1688143132993545,
          -0.7392065333258883,
          2.179099357735236,
          -1.082026356732058,
          -0.5618613817516017,
          0.05919103367562521,
          -1.0420534653157911,
          0.12324047273321323,
          -0.0662418453343934,
          -1.5632894769170893,
          -0.204555173381529,
          -0.2825690317516732,
          -1.7373472894249413,
          -1.0465870893288527,
          0.5718932501658435,
          0.03184445897223712,
          -0.012659131268619719,
          1.0406554362647769,
          2.080718977326508,
          -2.221579005793506,
          -1.2942306228088367,
          -0.923267197308514,
          1.6648500226504854,
          -2.251716443317538,
          2.227919979383781,
          -1.4934305722339847,
          0.06759763053874053,
          -0.42200852490748714,
          -1.6224994565962763,
          -0.8568498421627417,
          -1.7156119083516979,
          -0.40181400052584976,
          -1.9183111465675255,
          -1.0284176661154847,
          0.566250907648197,
          -1.9360921290485087,
          -1.3661970267771635,
          -0.479053266747721,
          1.5323961175618497,
          0.6372584903149828,
          1.3733798976383897,
          -0.512635146997641,
          -0.470657764176156,
          0.000585160465057021,
          0.8136001906911954,
          0.38997026358277054,
          -0.39546104811196825,
          -1.5825523645928852,
          -0.9178690058179542,
          -0.38203090899092396,
          0.15708317010829956,
          -0.9806604314366203,
          1.2573912397734028,
          0.5631582113333871,
          1.1114556668423177,
          0.1930943075400805,
          -3.0573576367230806,
          -2.796405090095439,
          0.4441931981329901,
          -0.5425621727635171,
          -0.8201583062849651,
          0.3751431940363826,
          -1.0223780840942391,
          -0.6070712876472282,
          -0.9624492068779541,
          -2.0237471356014702,
          -0.08741851902060317,
          -0.20462864179538712,
          -0.08910926007142,
          -2.0591628392523154,
          -1.1745357862551775,
          -0.6346088648189917,
          -0.549174573545596,
          0.5095716897531267,
          0.8065406104992418,
          0.7411803149126418,
          -0.8558821629061255,
          -0.3657681542279324,
          -0.5309994855824125,
          -0.5213994519208948,
          -0.8095689157079915,
          1.1265825463110426,
          -0.2098294744407542,
          -1.1323946066926933,
          0.22119401719295342,
          -1.1950493627964536,
          1.4025390812695449,
          -0.5757347764161679,
          -0.726486910637436,
          -0.7415878471844215,
          0.06951336384573346,
          -0.20446565868520786,
          -0.01879031406313532,
          0.03139289071178783,
          0.3506700562360746,
          -1.112895632869608,
          1.819586892795911,
          1.8713013951568809,
          1.918152595653496,
          -1.7186688480437684,
          0.8757893106119193,
          0.17563027053701155,
          -0.6929183840508953,
          -0.2872600209762643,
          0.2080940661331721,
          1.7764954026041313,
          -0.40857318509328044,
          0.02940553512296311,
          0.3028902959496657,
          0.9923583707665757,
          0.43377995483685877,
          -1.356432955086266,
          0.5863758368736298,
          2.923932736424939,
          1.0230580147774835,
          0.839776814624136,
          2.5716091789550664,
          -0.3927468362995125,
          0.3103645893388281,
          1.212222119936067,
          -0.9105271986614435,
          -0.42313549349463064,
          -1.5022933704705321,
          -0.3958114038540076,
          0.1105798058358045,
          -1.1364627595215133,
          0.9890710951795667,
          1.6893322614019706,
          0.9299479085907852,
          -0.45259687761377815,
          -0.7448746955627216,
          1.8574219818393174,
          0.3162113284328091,
          -3.5919281845082582,
          -2.771569951986072,
          -1.093664960860383,
          -0.8987367758535381,
          -0.7144851932041134,
          0.08471793830475331,
          3.4023252585367234,
          0.5915376393811423,
          0.19594602619168505,
          0.03596508498121858,
          -0.7572787491134767,
          0.48004216049067727,
          0.5277834265150187,
          -0.0702995198805333,
          -2.645920314483973,
          -1.3983743516341616,
          -1.7875077633778909,
          0.8485646204971738,
          1.2059329792106634,
          -1.7241610708089137,
          -0.47215623617893504,
          -0.8206980878304474,
          -0.9083842640904392,
          -0.7454847813329033,
          -0.7426614340923892,
          -0.5761116798393014,
          1.263060490699314,
          -0.9648409921390885,
          0.19368622313439973,
          0.9996039142658528,
          1.1575246422378067,
          -1.093664960860383,
          -1.093664960860383,
          3.024148516645302,
          1.5817331684268632,
          1.6452582761714487,
          -2.404578838074843,
          -2.457424990644714,
          -0.5475715725911348,
          -1.3098373709567734,
          -2.012652192581362,
          -2.462051030380864,
          0.4839182224013332,
          -1.4091483830778608,
          -1.5557878439244377,
          -1.7104659017896562,
          -0.14939377576964724,
          -2.0027033980752846,
          -2.2204584178167073,
          -0.9119564427723751,
          -2.22090312331418,
          -1.7536558307851122,
          -1.3764437205042699,
          -2.539680899330996,
          -1.9288195091233982,
          0.45865280287596144,
          -0.7370750659682037,
          -1.4238717798777536,
          0.3131378501572346,
          0.03164626132905673,
          -0.9437787672942048,
          0.42203314767341693,
          -0.19189119093840637,
          -0.5211679048184942,
          1.883607692357038,
          1.2546259176505108,
          -1.7980071100359756,
          1.6046581333958094,
          0.5308244007763775,
          -1.4677050692393359,
          -0.0755335699942658,
          -0.9371300061780341,
          0.9744129361419307,
          1.0808327860734233,
          -1.3498838940521125,
          -2.638297609738096,
          1.1075741810946929,
          -1.1968544636420642,
          -0.04985157001773373,
          -1.3368586236919535,
          3.380206235874206,
          -0.936276554865797,
          -0.8512302225203651,
          0.8312994793303596,
          1.1474159317775223,
          0.8692814620397291,
          -0.06373150398819394,
          -0.4524259118905835,
          -1.0487895677819934,
          -0.9786629053950865,
          -1.1203219593181124,
          -0.6009018213810935,
          0.4186241486931167,
          -0.305376030964082,
          0.18024535423151397,
          -0.08741851902060317,
          -2.1446915046004693,
          0.861442034614352,
          0.13071407897492768,
          -0.22775045896728094,
          1.1093919174553306,
          0.5061696894655058,
          2.511450929046465,
          -0.35625838503850094,
          0.26395567276692394,
          0.2716152626191431,
          -0.33962311293372677,
          0.8138121170061843,
          1.645211439989896,
          1.2386818562700994,
          0.8050649466533383,
          0.5777097466141727,
          -0.745451323892056,
          0.7691464789300266,
          -0.23009953334279934,
          -1.1625225503153824,
          1.0967477999866915,
          -0.776287862465597,
          -0.5844671710446089,
          -0.6061979063641816,
          -1.4869471807666168,
          1.7503448743454841,
          -0.6151603064563324,
          -1.6531344263407703,
          0.7427151707507395,
          -0.7054157806980509,
          -0.03251912330296241,
          -2.3414449224888685,
          1.8408479769371742,
          0.41506437622651887,
          -0.5229064046857375,
          -0.01712586072171544,
          -1.304982846245653,
          -1.08972557046469,
          -3.695232752777763,
          -1.3907085464763516
         ],
         "yaxis": "y"
        }
       ],
       "layout": {
        "autosize": false,
        "coloraxis": {
         "colorbar": {
          "title": {
           "text": "cluster"
          }
         },
         "colorscale": [
          [
           0,
           "#0d0887"
          ],
          [
           0.1111111111111111,
           "#46039f"
          ],
          [
           0.2222222222222222,
           "#7201a8"
          ],
          [
           0.3333333333333333,
           "#9c179e"
          ],
          [
           0.4444444444444444,
           "#bd3786"
          ],
          [
           0.5555555555555556,
           "#d8576b"
          ],
          [
           0.6666666666666666,
           "#ed7953"
          ],
          [
           0.7777777777777778,
           "#fb9f3a"
          ],
          [
           0.8888888888888888,
           "#fdca26"
          ],
          [
           1,
           "#f0f921"
          ]
         ]
        },
        "height": 600,
        "legend": {
         "tracegroupgap": 0
        },
        "margin": {
         "t": 60
        },
        "template": {
         "data": {
          "bar": [
           {
            "error_x": {
             "color": "#2a3f5f"
            },
            "error_y": {
             "color": "#2a3f5f"
            },
            "marker": {
             "line": {
              "color": "#E5ECF6",
              "width": 0.5
             },
             "pattern": {
              "fillmode": "overlay",
              "size": 10,
              "solidity": 0.2
             }
            },
            "type": "bar"
           }
          ],
          "barpolar": [
           {
            "marker": {
             "line": {
              "color": "#E5ECF6",
              "width": 0.5
             },
             "pattern": {
              "fillmode": "overlay",
              "size": 10,
              "solidity": 0.2
             }
            },
            "type": "barpolar"
           }
          ],
          "carpet": [
           {
            "aaxis": {
             "endlinecolor": "#2a3f5f",
             "gridcolor": "white",
             "linecolor": "white",
             "minorgridcolor": "white",
             "startlinecolor": "#2a3f5f"
            },
            "baxis": {
             "endlinecolor": "#2a3f5f",
             "gridcolor": "white",
             "linecolor": "white",
             "minorgridcolor": "white",
             "startlinecolor": "#2a3f5f"
            },
            "type": "carpet"
           }
          ],
          "choropleth": [
           {
            "colorbar": {
             "outlinewidth": 0,
             "ticks": ""
            },
            "type": "choropleth"
           }
          ],
          "contour": [
           {
            "colorbar": {
             "outlinewidth": 0,
             "ticks": ""
            },
            "colorscale": [
             [
              0,
              "#0d0887"
             ],
             [
              0.1111111111111111,
              "#46039f"
             ],
             [
              0.2222222222222222,
              "#7201a8"
             ],
             [
              0.3333333333333333,
              "#9c179e"
             ],
             [
              0.4444444444444444,
              "#bd3786"
             ],
             [
              0.5555555555555556,
              "#d8576b"
             ],
             [
              0.6666666666666666,
              "#ed7953"
             ],
             [
              0.7777777777777778,
              "#fb9f3a"
             ],
             [
              0.8888888888888888,
              "#fdca26"
             ],
             [
              1,
              "#f0f921"
             ]
            ],
            "type": "contour"
           }
          ],
          "contourcarpet": [
           {
            "colorbar": {
             "outlinewidth": 0,
             "ticks": ""
            },
            "type": "contourcarpet"
           }
          ],
          "heatmap": [
           {
            "colorbar": {
             "outlinewidth": 0,
             "ticks": ""
            },
            "colorscale": [
             [
              0,
              "#0d0887"
             ],
             [
              0.1111111111111111,
              "#46039f"
             ],
             [
              0.2222222222222222,
              "#7201a8"
             ],
             [
              0.3333333333333333,
              "#9c179e"
             ],
             [
              0.4444444444444444,
              "#bd3786"
             ],
             [
              0.5555555555555556,
              "#d8576b"
             ],
             [
              0.6666666666666666,
              "#ed7953"
             ],
             [
              0.7777777777777778,
              "#fb9f3a"
             ],
             [
              0.8888888888888888,
              "#fdca26"
             ],
             [
              1,
              "#f0f921"
             ]
            ],
            "type": "heatmap"
           }
          ],
          "heatmapgl": [
           {
            "colorbar": {
             "outlinewidth": 0,
             "ticks": ""
            },
            "colorscale": [
             [
              0,
              "#0d0887"
             ],
             [
              0.1111111111111111,
              "#46039f"
             ],
             [
              0.2222222222222222,
              "#7201a8"
             ],
             [
              0.3333333333333333,
              "#9c179e"
             ],
             [
              0.4444444444444444,
              "#bd3786"
             ],
             [
              0.5555555555555556,
              "#d8576b"
             ],
             [
              0.6666666666666666,
              "#ed7953"
             ],
             [
              0.7777777777777778,
              "#fb9f3a"
             ],
             [
              0.8888888888888888,
              "#fdca26"
             ],
             [
              1,
              "#f0f921"
             ]
            ],
            "type": "heatmapgl"
           }
          ],
          "histogram": [
           {
            "marker": {
             "pattern": {
              "fillmode": "overlay",
              "size": 10,
              "solidity": 0.2
             }
            },
            "type": "histogram"
           }
          ],
          "histogram2d": [
           {
            "colorbar": {
             "outlinewidth": 0,
             "ticks": ""
            },
            "colorscale": [
             [
              0,
              "#0d0887"
             ],
             [
              0.1111111111111111,
              "#46039f"
             ],
             [
              0.2222222222222222,
              "#7201a8"
             ],
             [
              0.3333333333333333,
              "#9c179e"
             ],
             [
              0.4444444444444444,
              "#bd3786"
             ],
             [
              0.5555555555555556,
              "#d8576b"
             ],
             [
              0.6666666666666666,
              "#ed7953"
             ],
             [
              0.7777777777777778,
              "#fb9f3a"
             ],
             [
              0.8888888888888888,
              "#fdca26"
             ],
             [
              1,
              "#f0f921"
             ]
            ],
            "type": "histogram2d"
           }
          ],
          "histogram2dcontour": [
           {
            "colorbar": {
             "outlinewidth": 0,
             "ticks": ""
            },
            "colorscale": [
             [
              0,
              "#0d0887"
             ],
             [
              0.1111111111111111,
              "#46039f"
             ],
             [
              0.2222222222222222,
              "#7201a8"
             ],
             [
              0.3333333333333333,
              "#9c179e"
             ],
             [
              0.4444444444444444,
              "#bd3786"
             ],
             [
              0.5555555555555556,
              "#d8576b"
             ],
             [
              0.6666666666666666,
              "#ed7953"
             ],
             [
              0.7777777777777778,
              "#fb9f3a"
             ],
             [
              0.8888888888888888,
              "#fdca26"
             ],
             [
              1,
              "#f0f921"
             ]
            ],
            "type": "histogram2dcontour"
           }
          ],
          "mesh3d": [
           {
            "colorbar": {
             "outlinewidth": 0,
             "ticks": ""
            },
            "type": "mesh3d"
           }
          ],
          "parcoords": [
           {
            "line": {
             "colorbar": {
              "outlinewidth": 0,
              "ticks": ""
             }
            },
            "type": "parcoords"
           }
          ],
          "pie": [
           {
            "automargin": true,
            "type": "pie"
           }
          ],
          "scatter": [
           {
            "fillpattern": {
             "fillmode": "overlay",
             "size": 10,
             "solidity": 0.2
            },
            "type": "scatter"
           }
          ],
          "scatter3d": [
           {
            "line": {
             "colorbar": {
              "outlinewidth": 0,
              "ticks": ""
             }
            },
            "marker": {
             "colorbar": {
              "outlinewidth": 0,
              "ticks": ""
             }
            },
            "type": "scatter3d"
           }
          ],
          "scattercarpet": [
           {
            "marker": {
             "colorbar": {
              "outlinewidth": 0,
              "ticks": ""
             }
            },
            "type": "scattercarpet"
           }
          ],
          "scattergeo": [
           {
            "marker": {
             "colorbar": {
              "outlinewidth": 0,
              "ticks": ""
             }
            },
            "type": "scattergeo"
           }
          ],
          "scattergl": [
           {
            "marker": {
             "colorbar": {
              "outlinewidth": 0,
              "ticks": ""
             }
            },
            "type": "scattergl"
           }
          ],
          "scattermapbox": [
           {
            "marker": {
             "colorbar": {
              "outlinewidth": 0,
              "ticks": ""
             }
            },
            "type": "scattermapbox"
           }
          ],
          "scatterpolar": [
           {
            "marker": {
             "colorbar": {
              "outlinewidth": 0,
              "ticks": ""
             }
            },
            "type": "scatterpolar"
           }
          ],
          "scatterpolargl": [
           {
            "marker": {
             "colorbar": {
              "outlinewidth": 0,
              "ticks": ""
             }
            },
            "type": "scatterpolargl"
           }
          ],
          "scatterternary": [
           {
            "marker": {
             "colorbar": {
              "outlinewidth": 0,
              "ticks": ""
             }
            },
            "type": "scatterternary"
           }
          ],
          "surface": [
           {
            "colorbar": {
             "outlinewidth": 0,
             "ticks": ""
            },
            "colorscale": [
             [
              0,
              "#0d0887"
             ],
             [
              0.1111111111111111,
              "#46039f"
             ],
             [
              0.2222222222222222,
              "#7201a8"
             ],
             [
              0.3333333333333333,
              "#9c179e"
             ],
             [
              0.4444444444444444,
              "#bd3786"
             ],
             [
              0.5555555555555556,
              "#d8576b"
             ],
             [
              0.6666666666666666,
              "#ed7953"
             ],
             [
              0.7777777777777778,
              "#fb9f3a"
             ],
             [
              0.8888888888888888,
              "#fdca26"
             ],
             [
              1,
              "#f0f921"
             ]
            ],
            "type": "surface"
           }
          ],
          "table": [
           {
            "cells": {
             "fill": {
              "color": "#EBF0F8"
             },
             "line": {
              "color": "white"
             }
            },
            "header": {
             "fill": {
              "color": "#C8D4E3"
             },
             "line": {
              "color": "white"
             }
            },
            "type": "table"
           }
          ]
         },
         "layout": {
          "annotationdefaults": {
           "arrowcolor": "#2a3f5f",
           "arrowhead": 0,
           "arrowwidth": 1
          },
          "autotypenumbers": "strict",
          "coloraxis": {
           "colorbar": {
            "outlinewidth": 0,
            "ticks": ""
           }
          },
          "colorscale": {
           "diverging": [
            [
             0,
             "#8e0152"
            ],
            [
             0.1,
             "#c51b7d"
            ],
            [
             0.2,
             "#de77ae"
            ],
            [
             0.3,
             "#f1b6da"
            ],
            [
             0.4,
             "#fde0ef"
            ],
            [
             0.5,
             "#f7f7f7"
            ],
            [
             0.6,
             "#e6f5d0"
            ],
            [
             0.7,
             "#b8e186"
            ],
            [
             0.8,
             "#7fbc41"
            ],
            [
             0.9,
             "#4d9221"
            ],
            [
             1,
             "#276419"
            ]
           ],
           "sequential": [
            [
             0,
             "#0d0887"
            ],
            [
             0.1111111111111111,
             "#46039f"
            ],
            [
             0.2222222222222222,
             "#7201a8"
            ],
            [
             0.3333333333333333,
             "#9c179e"
            ],
            [
             0.4444444444444444,
             "#bd3786"
            ],
            [
             0.5555555555555556,
             "#d8576b"
            ],
            [
             0.6666666666666666,
             "#ed7953"
            ],
            [
             0.7777777777777778,
             "#fb9f3a"
            ],
            [
             0.8888888888888888,
             "#fdca26"
            ],
            [
             1,
             "#f0f921"
            ]
           ],
           "sequentialminus": [
            [
             0,
             "#0d0887"
            ],
            [
             0.1111111111111111,
             "#46039f"
            ],
            [
             0.2222222222222222,
             "#7201a8"
            ],
            [
             0.3333333333333333,
             "#9c179e"
            ],
            [
             0.4444444444444444,
             "#bd3786"
            ],
            [
             0.5555555555555556,
             "#d8576b"
            ],
            [
             0.6666666666666666,
             "#ed7953"
            ],
            [
             0.7777777777777778,
             "#fb9f3a"
            ],
            [
             0.8888888888888888,
             "#fdca26"
            ],
            [
             1,
             "#f0f921"
            ]
           ]
          },
          "colorway": [
           "#636efa",
           "#EF553B",
           "#00cc96",
           "#ab63fa",
           "#FFA15A",
           "#19d3f3",
           "#FF6692",
           "#B6E880",
           "#FF97FF",
           "#FECB52"
          ],
          "font": {
           "color": "#2a3f5f"
          },
          "geo": {
           "bgcolor": "white",
           "lakecolor": "white",
           "landcolor": "#E5ECF6",
           "showlakes": true,
           "showland": true,
           "subunitcolor": "white"
          },
          "hoverlabel": {
           "align": "left"
          },
          "hovermode": "closest",
          "mapbox": {
           "style": "light"
          },
          "paper_bgcolor": "white",
          "plot_bgcolor": "#E5ECF6",
          "polar": {
           "angularaxis": {
            "gridcolor": "white",
            "linecolor": "white",
            "ticks": ""
           },
           "bgcolor": "#E5ECF6",
           "radialaxis": {
            "gridcolor": "white",
            "linecolor": "white",
            "ticks": ""
           }
          },
          "scene": {
           "xaxis": {
            "backgroundcolor": "#E5ECF6",
            "gridcolor": "white",
            "gridwidth": 2,
            "linecolor": "white",
            "showbackground": true,
            "ticks": "",
            "zerolinecolor": "white"
           },
           "yaxis": {
            "backgroundcolor": "#E5ECF6",
            "gridcolor": "white",
            "gridwidth": 2,
            "linecolor": "white",
            "showbackground": true,
            "ticks": "",
            "zerolinecolor": "white"
           },
           "zaxis": {
            "backgroundcolor": "#E5ECF6",
            "gridcolor": "white",
            "gridwidth": 2,
            "linecolor": "white",
            "showbackground": true,
            "ticks": "",
            "zerolinecolor": "white"
           }
          },
          "shapedefaults": {
           "line": {
            "color": "#2a3f5f"
           }
          },
          "ternary": {
           "aaxis": {
            "gridcolor": "white",
            "linecolor": "white",
            "ticks": ""
           },
           "baxis": {
            "gridcolor": "white",
            "linecolor": "white",
            "ticks": ""
           },
           "bgcolor": "#E5ECF6",
           "caxis": {
            "gridcolor": "white",
            "linecolor": "white",
            "ticks": ""
           }
          },
          "title": {
           "x": 0.05
          },
          "xaxis": {
           "automargin": true,
           "gridcolor": "white",
           "linecolor": "white",
           "ticks": "",
           "title": {
            "standoff": 15
           },
           "zerolinecolor": "white",
           "zerolinewidth": 2
          },
          "yaxis": {
           "automargin": true,
           "gridcolor": "white",
           "linecolor": "white",
           "ticks": "",
           "title": {
            "standoff": 15
           },
           "zerolinecolor": "white",
           "zerolinewidth": 2
          }
         }
        },
        "width": 800,
        "xaxis": {
         "anchor": "y",
         "domain": [
          0,
          1
         ],
         "title": {
          "text": "x"
         }
        },
        "yaxis": {
         "anchor": "x",
         "domain": [
          0,
          1
         ],
         "title": {
          "text": "y"
         }
        }
       }
      }
     },
     "metadata": {},
     "output_type": "display_data"
    }
   ],
   "source": [
    "fig = px.scatter(projecao, x='x', y='y', color='cluster', hover_data=['x', 'y', 'generos'])\n",
    "fig.update_layout( autosize=False, width=800, height=600,)\n",
    "fig.show()"
   ]
  },
  {
   "cell_type": "markdown",
   "metadata": {},
   "source": []
  },
  {
   "cell_type": "code",
   "execution_count": null,
   "metadata": {},
   "outputs": [],
   "source": [
    "fig = px.scatter_3d(\n",
    "   projection_m, x=0, y=1, z=2, color='cluster_pca',hover_data=['song'])\n",
    "fig.update_traces(marker_size = 2)\n",
    "fig.show()"
   ]
  },
  {
   "cell_type": "markdown",
   "metadata": {},
   "source": [
    "# Fine Tuning parameter"
   ]
  },
  {
   "cell_type": "markdown",
   "metadata": {},
   "source": [
    "# Modelo Final"
   ]
  }
 ],
 "metadata": {
  "kernelspec": {
   "display_name": "Python 3.8.13 ('alura')",
   "language": "python",
   "name": "python3"
  },
  "language_info": {
   "codemirror_mode": {
    "name": "ipython",
    "version": 3
   },
   "file_extension": ".py",
   "mimetype": "text/x-python",
   "name": "python",
   "nbconvert_exporter": "python",
   "pygments_lexer": "ipython3",
   "version": "3.8.13"
  },
  "orig_nbformat": 4,
  "vscode": {
   "interpreter": {
    "hash": "f874a94d10ab435aede86a111d24f0601abd6208aff0db99da2176017dc3cc3e"
   }
  }
 },
 "nbformat": 4,
 "nbformat_minor": 2
}
